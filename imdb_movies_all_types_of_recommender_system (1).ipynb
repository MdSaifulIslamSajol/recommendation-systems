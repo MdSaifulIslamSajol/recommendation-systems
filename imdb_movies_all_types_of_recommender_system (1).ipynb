{
  "cells": [
    {
      "cell_type": "markdown",
      "id": "6e90383c",
      "metadata": {
        "papermill": {
          "duration": 0.068767,
          "end_time": "2022-06-04T18:26:13.833318",
          "exception": false,
          "start_time": "2022-06-04T18:26:13.764551",
          "status": "completed"
        },
        "tags": [],
        "id": "6e90383c"
      },
      "source": [
        "<!-- ![IMDB.jpg](attachment:bb74f207-9245-457e-8ac7-fb36ab2057ef.jpg) -->"
      ]
    },
    {
      "cell_type": "markdown",
      "source": [
        "Dataset Link \n",
        "* https://www.kaggle.com/datasets/rounakbanik/the-movies-dataset  "
      ],
      "metadata": {
        "id": "tRS7M7l-queg"
      },
      "id": "tRS7M7l-queg"
    },
    {
      "cell_type": "markdown",
      "source": [],
      "metadata": {
        "id": "tY6GqTf-qtCh"
      },
      "id": "tY6GqTf-qtCh"
    },
    {
      "cell_type": "markdown",
      "source": [
        "Reference: \n",
        "* https://medium.com/@sr7037/implementing-a-recommendation-system-on-imdb-dataset-through-machine-learning-techniques-47d0a86da9df \n",
        "* https://www.analyticsvidhya.com/blog/2020/11/create-your-own-movie-movie-recommendation-system/ \n",
        "* https://www.geeksforgeeks.org/python-implementation-of-movie-recommender-system/\n",
        "* https://www.relataly.com/content-based-movie-recommender-using-python/4294/ \n",
        "* https://www.aravi.me/blog/how-actually-movies-are-recommended-to-you-and-build-one-yourself"
      ],
      "metadata": {
        "id": "4Q9kqyKgjphf"
      },
      "id": "4Q9kqyKgjphf"
    },
    {
      "cell_type": "code",
      "source": [
        "from google.colab import drive\n",
        "drive.mount('/content/drive')"
      ],
      "metadata": {
        "colab": {
          "base_uri": "https://localhost:8080/"
        },
        "id": "6XxLthZrXLR2",
        "outputId": "a541bcdb-4fd5-405f-fbd1-fc158d7e319f"
      },
      "id": "6XxLthZrXLR2",
      "execution_count": null,
      "outputs": [
        {
          "output_type": "stream",
          "name": "stdout",
          "text": [
            "Drive already mounted at /content/drive; to attempt to forcibly remount, call drive.mount(\"/content/drive\", force_remount=True).\n"
          ]
        }
      ]
    },
    {
      "cell_type": "markdown",
      "id": "45575c31",
      "metadata": {
        "papermill": {
          "duration": 0.045628,
          "end_time": "2022-06-04T18:26:14.784535",
          "exception": false,
          "start_time": "2022-06-04T18:26:14.738907",
          "status": "completed"
        },
        "tags": [],
        "id": "45575c31"
      },
      "source": [
        "<!-- ![f3f5aca7-162b-49f0-bce7-8e59266888a8.png](attachment:d1a39177-328a-45af-b45e-39416c29d097.png) -->"
      ]
    },
    {
      "cell_type": "markdown",
      "id": "daf4763a",
      "metadata": {
        "papermill": {
          "duration": 0.044918,
          "end_time": "2022-06-04T18:26:14.994583",
          "exception": false,
          "start_time": "2022-06-04T18:26:14.949665",
          "status": "completed"
        },
        "tags": [],
        "id": "daf4763a"
      },
      "source": [
        "<!-- <a id='content_based'></a>\n",
        "![d14a6a7d-2801-4bd5-ae7b-a04b6d0e7130.png](attachment:57c4d09d-d401-4e33-80b3-0c727b80e725.png) -->"
      ]
    },
    {
      "cell_type": "markdown",
      "id": "28200771",
      "metadata": {
        "papermill": {
          "duration": 0.046024,
          "end_time": "2022-06-04T18:26:15.085542",
          "exception": false,
          "start_time": "2022-06-04T18:26:15.039518",
          "status": "completed"
        },
        "tags": [],
        "id": "28200771"
      },
      "source": [
        "In content based filtering we **recommend items** to a **user** which are **similar to items the user likes** based on the **properties/attributes of that item.**\n",
        "\n",
        "<!-- ![image.png](attachment:a590f78f-56e1-42fc-9524-fa53785df2ce.png) -->"
      ]
    },
    {
      "cell_type": "markdown",
      "id": "bcad48ef",
      "metadata": {
        "papermill": {
          "duration": 0.044432,
          "end_time": "2022-06-04T18:26:15.173828",
          "exception": false,
          "start_time": "2022-06-04T18:26:15.129396",
          "status": "completed"
        },
        "tags": [],
        "id": "bcad48ef"
      },
      "source": [
        "#### **Import Libraries**"
      ]
    },
    {
      "cell_type": "code",
      "execution_count": null,
      "id": "3de4f4cc",
      "metadata": {
        "execution": {
          "iopub.execute_input": "2022-06-04T18:26:15.267480Z",
          "iopub.status.busy": "2022-06-04T18:26:15.266768Z",
          "iopub.status.idle": "2022-06-04T18:26:17.864661Z",
          "shell.execute_reply": "2022-06-04T18:26:17.863616Z"
        },
        "papermill": {
          "duration": 2.647568,
          "end_time": "2022-06-04T18:26:17.867259",
          "exception": false,
          "start_time": "2022-06-04T18:26:15.219691",
          "status": "completed"
        },
        "tags": [],
        "id": "3de4f4cc"
      },
      "outputs": [],
      "source": [
        "import pandas as pd\n",
        "import numpy as np\n",
        "\n",
        "import seaborn as sns\n",
        "import plotly.express as px\n",
        "import plotly.graph_objects as go\n",
        "import matplotlib.pyplot as plt\n",
        "\n",
        "from tqdm import tqdm\n",
        "\n",
        "import warnings\n",
        "warnings.filterwarnings('ignore')"
      ]
    },
    {
      "cell_type": "markdown",
      "id": "57e78eda",
      "metadata": {
        "papermill": {
          "duration": 0.043381,
          "end_time": "2022-06-04T18:26:17.955003",
          "exception": false,
          "start_time": "2022-06-04T18:26:17.911622",
          "status": "completed"
        },
        "tags": [],
        "id": "57e78eda"
      },
      "source": [
        "#### **Read the data**"
      ]
    },
    {
      "cell_type": "code",
      "execution_count": null,
      "id": "bbe7118d",
      "metadata": {
        "execution": {
          "iopub.execute_input": "2022-06-04T18:26:18.045742Z",
          "iopub.status.busy": "2022-06-04T18:26:18.045153Z",
          "iopub.status.idle": "2022-06-04T18:26:23.599416Z",
          "shell.execute_reply": "2022-06-04T18:26:23.598227Z"
        },
        "papermill": {
          "duration": 5.603878,
          "end_time": "2022-06-04T18:26:23.602102",
          "exception": false,
          "start_time": "2022-06-04T18:26:17.998224",
          "status": "completed"
        },
        "tags": [],
        "id": "bbe7118d"
      },
      "outputs": [],
      "source": [
        "# Read the movies meta-data(we will be using the feature genre, overview & title from this)\n",
        "\n",
        "movie_md = pd.read_csv(\"/content/drive/MyDrive/Colab Notebooks/movie recommendation system/the-movies-dataset/movies_metadata.csv\")\n",
        "\n",
        "# Read the keywords\n",
        "movie_keywords = pd.read_csv(\"/content/drive/MyDrive/Colab Notebooks/movie recommendation system/the-movies-dataset/keywords.csv\")\n",
        "\n",
        "# Read the credits\n",
        "movie_credits = pd.read_csv(\"/content/drive/MyDrive/Colab Notebooks/movie recommendation system/the-movies-dataset/credits.csv\")"
      ]
    },
    {
      "cell_type": "markdown",
      "id": "42e955d9",
      "metadata": {
        "papermill": {
          "duration": 0.044037,
          "end_time": "2022-06-04T18:26:23.690016",
          "exception": false,
          "start_time": "2022-06-04T18:26:23.645979",
          "status": "completed"
        },
        "tags": [],
        "id": "42e955d9"
      },
      "source": [
        "#### **Check the first 5 rows**"
      ]
    },
    {
      "cell_type": "code",
      "execution_count": null,
      "id": "81569c95",
      "metadata": {
        "execution": {
          "iopub.execute_input": "2022-06-04T18:26:23.781411Z",
          "iopub.status.busy": "2022-06-04T18:26:23.780969Z",
          "iopub.status.idle": "2022-06-04T18:26:23.823503Z",
          "shell.execute_reply": "2022-06-04T18:26:23.822208Z"
        },
        "papermill": {
          "duration": 0.091531,
          "end_time": "2022-06-04T18:26:23.825963",
          "exception": false,
          "start_time": "2022-06-04T18:26:23.734432",
          "status": "completed"
        },
        "tags": [],
        "colab": {
          "base_uri": "https://localhost:8080/",
          "height": 733
        },
        "id": "81569c95",
        "outputId": "d7fe7625-4ebb-48e9-9e21-43be0dcc3bbf"
      },
      "outputs": [
        {
          "output_type": "execute_result",
          "data": {
            "text/plain": [
              "   adult                              belongs_to_collection    budget  \\\n",
              "0  False  {'id': 10194, 'name': 'Toy Story Collection', ...  30000000   \n",
              "1  False                                                NaN  65000000   \n",
              "2  False  {'id': 119050, 'name': 'Grumpy Old Men Collect...         0   \n",
              "3  False                                                NaN  16000000   \n",
              "4  False  {'id': 96871, 'name': 'Father of the Bride Col...         0   \n",
              "\n",
              "                                              genres  \\\n",
              "0  [{'id': 16, 'name': 'Animation'}, {'id': 35, '...   \n",
              "1  [{'id': 12, 'name': 'Adventure'}, {'id': 14, '...   \n",
              "2  [{'id': 10749, 'name': 'Romance'}, {'id': 35, ...   \n",
              "3  [{'id': 35, 'name': 'Comedy'}, {'id': 18, 'nam...   \n",
              "4                     [{'id': 35, 'name': 'Comedy'}]   \n",
              "\n",
              "                               homepage     id    imdb_id original_language  \\\n",
              "0  http://toystory.disney.com/toy-story    862  tt0114709                en   \n",
              "1                                   NaN   8844  tt0113497                en   \n",
              "2                                   NaN  15602  tt0113228                en   \n",
              "3                                   NaN  31357  tt0114885                en   \n",
              "4                                   NaN  11862  tt0113041                en   \n",
              "\n",
              "                original_title  \\\n",
              "0                    Toy Story   \n",
              "1                      Jumanji   \n",
              "2             Grumpier Old Men   \n",
              "3            Waiting to Exhale   \n",
              "4  Father of the Bride Part II   \n",
              "\n",
              "                                            overview  ... release_date  \\\n",
              "0  Led by Woody, Andy's toys live happily in his ...  ...   1995-10-30   \n",
              "1  When siblings Judy and Peter discover an encha...  ...   1995-12-15   \n",
              "2  A family wedding reignites the ancient feud be...  ...   1995-12-22   \n",
              "3  Cheated on, mistreated and stepped on, the wom...  ...   1995-12-22   \n",
              "4  Just when George Banks has recovered from his ...  ...   1995-02-10   \n",
              "\n",
              "       revenue runtime                                   spoken_languages  \\\n",
              "0  373554033.0    81.0           [{'iso_639_1': 'en', 'name': 'English'}]   \n",
              "1  262797249.0   104.0  [{'iso_639_1': 'en', 'name': 'English'}, {'iso...   \n",
              "2          0.0   101.0           [{'iso_639_1': 'en', 'name': 'English'}]   \n",
              "3   81452156.0   127.0           [{'iso_639_1': 'en', 'name': 'English'}]   \n",
              "4   76578911.0   106.0           [{'iso_639_1': 'en', 'name': 'English'}]   \n",
              "\n",
              "     status                                            tagline  \\\n",
              "0  Released                                                NaN   \n",
              "1  Released          Roll the dice and unleash the excitement!   \n",
              "2  Released  Still Yelling. Still Fighting. Still Ready for...   \n",
              "3  Released  Friends are the people who let you be yourself...   \n",
              "4  Released  Just When His World Is Back To Normal... He's ...   \n",
              "\n",
              "                         title  video vote_average vote_count  \n",
              "0                    Toy Story  False          7.7     5415.0  \n",
              "1                      Jumanji  False          6.9     2413.0  \n",
              "2             Grumpier Old Men  False          6.5       92.0  \n",
              "3            Waiting to Exhale  False          6.1       34.0  \n",
              "4  Father of the Bride Part II  False          5.7      173.0  \n",
              "\n",
              "[5 rows x 24 columns]"
            ],
            "text/html": [
              "\n",
              "  <div id=\"df-e07e8349-9a82-40e1-afdc-33ef438d5588\">\n",
              "    <div class=\"colab-df-container\">\n",
              "      <div>\n",
              "<style scoped>\n",
              "    .dataframe tbody tr th:only-of-type {\n",
              "        vertical-align: middle;\n",
              "    }\n",
              "\n",
              "    .dataframe tbody tr th {\n",
              "        vertical-align: top;\n",
              "    }\n",
              "\n",
              "    .dataframe thead th {\n",
              "        text-align: right;\n",
              "    }\n",
              "</style>\n",
              "<table border=\"1\" class=\"dataframe\">\n",
              "  <thead>\n",
              "    <tr style=\"text-align: right;\">\n",
              "      <th></th>\n",
              "      <th>adult</th>\n",
              "      <th>belongs_to_collection</th>\n",
              "      <th>budget</th>\n",
              "      <th>genres</th>\n",
              "      <th>homepage</th>\n",
              "      <th>id</th>\n",
              "      <th>imdb_id</th>\n",
              "      <th>original_language</th>\n",
              "      <th>original_title</th>\n",
              "      <th>overview</th>\n",
              "      <th>...</th>\n",
              "      <th>release_date</th>\n",
              "      <th>revenue</th>\n",
              "      <th>runtime</th>\n",
              "      <th>spoken_languages</th>\n",
              "      <th>status</th>\n",
              "      <th>tagline</th>\n",
              "      <th>title</th>\n",
              "      <th>video</th>\n",
              "      <th>vote_average</th>\n",
              "      <th>vote_count</th>\n",
              "    </tr>\n",
              "  </thead>\n",
              "  <tbody>\n",
              "    <tr>\n",
              "      <th>0</th>\n",
              "      <td>False</td>\n",
              "      <td>{'id': 10194, 'name': 'Toy Story Collection', ...</td>\n",
              "      <td>30000000</td>\n",
              "      <td>[{'id': 16, 'name': 'Animation'}, {'id': 35, '...</td>\n",
              "      <td>http://toystory.disney.com/toy-story</td>\n",
              "      <td>862</td>\n",
              "      <td>tt0114709</td>\n",
              "      <td>en</td>\n",
              "      <td>Toy Story</td>\n",
              "      <td>Led by Woody, Andy's toys live happily in his ...</td>\n",
              "      <td>...</td>\n",
              "      <td>1995-10-30</td>\n",
              "      <td>373554033.0</td>\n",
              "      <td>81.0</td>\n",
              "      <td>[{'iso_639_1': 'en', 'name': 'English'}]</td>\n",
              "      <td>Released</td>\n",
              "      <td>NaN</td>\n",
              "      <td>Toy Story</td>\n",
              "      <td>False</td>\n",
              "      <td>7.7</td>\n",
              "      <td>5415.0</td>\n",
              "    </tr>\n",
              "    <tr>\n",
              "      <th>1</th>\n",
              "      <td>False</td>\n",
              "      <td>NaN</td>\n",
              "      <td>65000000</td>\n",
              "      <td>[{'id': 12, 'name': 'Adventure'}, {'id': 14, '...</td>\n",
              "      <td>NaN</td>\n",
              "      <td>8844</td>\n",
              "      <td>tt0113497</td>\n",
              "      <td>en</td>\n",
              "      <td>Jumanji</td>\n",
              "      <td>When siblings Judy and Peter discover an encha...</td>\n",
              "      <td>...</td>\n",
              "      <td>1995-12-15</td>\n",
              "      <td>262797249.0</td>\n",
              "      <td>104.0</td>\n",
              "      <td>[{'iso_639_1': 'en', 'name': 'English'}, {'iso...</td>\n",
              "      <td>Released</td>\n",
              "      <td>Roll the dice and unleash the excitement!</td>\n",
              "      <td>Jumanji</td>\n",
              "      <td>False</td>\n",
              "      <td>6.9</td>\n",
              "      <td>2413.0</td>\n",
              "    </tr>\n",
              "    <tr>\n",
              "      <th>2</th>\n",
              "      <td>False</td>\n",
              "      <td>{'id': 119050, 'name': 'Grumpy Old Men Collect...</td>\n",
              "      <td>0</td>\n",
              "      <td>[{'id': 10749, 'name': 'Romance'}, {'id': 35, ...</td>\n",
              "      <td>NaN</td>\n",
              "      <td>15602</td>\n",
              "      <td>tt0113228</td>\n",
              "      <td>en</td>\n",
              "      <td>Grumpier Old Men</td>\n",
              "      <td>A family wedding reignites the ancient feud be...</td>\n",
              "      <td>...</td>\n",
              "      <td>1995-12-22</td>\n",
              "      <td>0.0</td>\n",
              "      <td>101.0</td>\n",
              "      <td>[{'iso_639_1': 'en', 'name': 'English'}]</td>\n",
              "      <td>Released</td>\n",
              "      <td>Still Yelling. Still Fighting. Still Ready for...</td>\n",
              "      <td>Grumpier Old Men</td>\n",
              "      <td>False</td>\n",
              "      <td>6.5</td>\n",
              "      <td>92.0</td>\n",
              "    </tr>\n",
              "    <tr>\n",
              "      <th>3</th>\n",
              "      <td>False</td>\n",
              "      <td>NaN</td>\n",
              "      <td>16000000</td>\n",
              "      <td>[{'id': 35, 'name': 'Comedy'}, {'id': 18, 'nam...</td>\n",
              "      <td>NaN</td>\n",
              "      <td>31357</td>\n",
              "      <td>tt0114885</td>\n",
              "      <td>en</td>\n",
              "      <td>Waiting to Exhale</td>\n",
              "      <td>Cheated on, mistreated and stepped on, the wom...</td>\n",
              "      <td>...</td>\n",
              "      <td>1995-12-22</td>\n",
              "      <td>81452156.0</td>\n",
              "      <td>127.0</td>\n",
              "      <td>[{'iso_639_1': 'en', 'name': 'English'}]</td>\n",
              "      <td>Released</td>\n",
              "      <td>Friends are the people who let you be yourself...</td>\n",
              "      <td>Waiting to Exhale</td>\n",
              "      <td>False</td>\n",
              "      <td>6.1</td>\n",
              "      <td>34.0</td>\n",
              "    </tr>\n",
              "    <tr>\n",
              "      <th>4</th>\n",
              "      <td>False</td>\n",
              "      <td>{'id': 96871, 'name': 'Father of the Bride Col...</td>\n",
              "      <td>0</td>\n",
              "      <td>[{'id': 35, 'name': 'Comedy'}]</td>\n",
              "      <td>NaN</td>\n",
              "      <td>11862</td>\n",
              "      <td>tt0113041</td>\n",
              "      <td>en</td>\n",
              "      <td>Father of the Bride Part II</td>\n",
              "      <td>Just when George Banks has recovered from his ...</td>\n",
              "      <td>...</td>\n",
              "      <td>1995-02-10</td>\n",
              "      <td>76578911.0</td>\n",
              "      <td>106.0</td>\n",
              "      <td>[{'iso_639_1': 'en', 'name': 'English'}]</td>\n",
              "      <td>Released</td>\n",
              "      <td>Just When His World Is Back To Normal... He's ...</td>\n",
              "      <td>Father of the Bride Part II</td>\n",
              "      <td>False</td>\n",
              "      <td>5.7</td>\n",
              "      <td>173.0</td>\n",
              "    </tr>\n",
              "  </tbody>\n",
              "</table>\n",
              "<p>5 rows × 24 columns</p>\n",
              "</div>\n",
              "      <button class=\"colab-df-convert\" onclick=\"convertToInteractive('df-e07e8349-9a82-40e1-afdc-33ef438d5588')\"\n",
              "              title=\"Convert this dataframe to an interactive table.\"\n",
              "              style=\"display:none;\">\n",
              "        \n",
              "  <svg xmlns=\"http://www.w3.org/2000/svg\" height=\"24px\"viewBox=\"0 0 24 24\"\n",
              "       width=\"24px\">\n",
              "    <path d=\"M0 0h24v24H0V0z\" fill=\"none\"/>\n",
              "    <path d=\"M18.56 5.44l.94 2.06.94-2.06 2.06-.94-2.06-.94-.94-2.06-.94 2.06-2.06.94zm-11 1L8.5 8.5l.94-2.06 2.06-.94-2.06-.94L8.5 2.5l-.94 2.06-2.06.94zm10 10l.94 2.06.94-2.06 2.06-.94-2.06-.94-.94-2.06-.94 2.06-2.06.94z\"/><path d=\"M17.41 7.96l-1.37-1.37c-.4-.4-.92-.59-1.43-.59-.52 0-1.04.2-1.43.59L10.3 9.45l-7.72 7.72c-.78.78-.78 2.05 0 2.83L4 21.41c.39.39.9.59 1.41.59.51 0 1.02-.2 1.41-.59l7.78-7.78 2.81-2.81c.8-.78.8-2.07 0-2.86zM5.41 20L4 18.59l7.72-7.72 1.47 1.35L5.41 20z\"/>\n",
              "  </svg>\n",
              "      </button>\n",
              "      \n",
              "  <style>\n",
              "    .colab-df-container {\n",
              "      display:flex;\n",
              "      flex-wrap:wrap;\n",
              "      gap: 12px;\n",
              "    }\n",
              "\n",
              "    .colab-df-convert {\n",
              "      background-color: #E8F0FE;\n",
              "      border: none;\n",
              "      border-radius: 50%;\n",
              "      cursor: pointer;\n",
              "      display: none;\n",
              "      fill: #1967D2;\n",
              "      height: 32px;\n",
              "      padding: 0 0 0 0;\n",
              "      width: 32px;\n",
              "    }\n",
              "\n",
              "    .colab-df-convert:hover {\n",
              "      background-color: #E2EBFA;\n",
              "      box-shadow: 0px 1px 2px rgba(60, 64, 67, 0.3), 0px 1px 3px 1px rgba(60, 64, 67, 0.15);\n",
              "      fill: #174EA6;\n",
              "    }\n",
              "\n",
              "    [theme=dark] .colab-df-convert {\n",
              "      background-color: #3B4455;\n",
              "      fill: #D2E3FC;\n",
              "    }\n",
              "\n",
              "    [theme=dark] .colab-df-convert:hover {\n",
              "      background-color: #434B5C;\n",
              "      box-shadow: 0px 1px 3px 1px rgba(0, 0, 0, 0.15);\n",
              "      filter: drop-shadow(0px 1px 2px rgba(0, 0, 0, 0.3));\n",
              "      fill: #FFFFFF;\n",
              "    }\n",
              "  </style>\n",
              "\n",
              "      <script>\n",
              "        const buttonEl =\n",
              "          document.querySelector('#df-e07e8349-9a82-40e1-afdc-33ef438d5588 button.colab-df-convert');\n",
              "        buttonEl.style.display =\n",
              "          google.colab.kernel.accessAllowed ? 'block' : 'none';\n",
              "\n",
              "        async function convertToInteractive(key) {\n",
              "          const element = document.querySelector('#df-e07e8349-9a82-40e1-afdc-33ef438d5588');\n",
              "          const dataTable =\n",
              "            await google.colab.kernel.invokeFunction('convertToInteractive',\n",
              "                                                     [key], {});\n",
              "          if (!dataTable) return;\n",
              "\n",
              "          const docLinkHtml = 'Like what you see? Visit the ' +\n",
              "            '<a target=\"_blank\" href=https://colab.research.google.com/notebooks/data_table.ipynb>data table notebook</a>'\n",
              "            + ' to learn more about interactive tables.';\n",
              "          element.innerHTML = '';\n",
              "          dataTable['output_type'] = 'display_data';\n",
              "          await google.colab.output.renderOutput(dataTable, element);\n",
              "          const docLink = document.createElement('div');\n",
              "          docLink.innerHTML = docLinkHtml;\n",
              "          element.appendChild(docLink);\n",
              "        }\n",
              "      </script>\n",
              "    </div>\n",
              "  </div>\n",
              "  "
            ]
          },
          "metadata": {},
          "execution_count": 169
        }
      ],
      "source": [
        "movie_md.head()"
      ]
    },
    {
      "cell_type": "markdown",
      "id": "6d7e3187",
      "metadata": {
        "papermill": {
          "duration": 0.04433,
          "end_time": "2022-06-04T18:26:23.914817",
          "exception": false,
          "start_time": "2022-06-04T18:26:23.870487",
          "status": "completed"
        },
        "tags": [],
        "id": "6d7e3187"
      },
      "source": [
        "**We are gonna select movies which have more than 55 vote count**"
      ]
    },
    {
      "cell_type": "code",
      "execution_count": null,
      "id": "7f8b0bd9",
      "metadata": {
        "execution": {
          "iopub.execute_input": "2022-06-04T18:26:24.005473Z",
          "iopub.status.busy": "2022-06-04T18:26:24.005077Z",
          "iopub.status.idle": "2022-06-04T18:26:24.019994Z",
          "shell.execute_reply": "2022-06-04T18:26:24.018591Z"
        },
        "papermill": {
          "duration": 0.063628,
          "end_time": "2022-06-04T18:26:24.022615",
          "exception": false,
          "start_time": "2022-06-04T18:26:23.958987",
          "status": "completed"
        },
        "tags": [],
        "id": "7f8b0bd9"
      },
      "outputs": [],
      "source": [
        "movie_md = movie_md[movie_md['vote_count']>=55]"
      ]
    },
    {
      "cell_type": "code",
      "execution_count": null,
      "id": "4dad1f45",
      "metadata": {
        "execution": {
          "iopub.execute_input": "2022-06-04T18:26:24.114310Z",
          "iopub.status.busy": "2022-06-04T18:26:24.113860Z",
          "iopub.status.idle": "2022-06-04T18:26:24.123215Z",
          "shell.execute_reply": "2022-06-04T18:26:24.122412Z"
        },
        "papermill": {
          "duration": 0.057319,
          "end_time": "2022-06-04T18:26:24.125799",
          "exception": false,
          "start_time": "2022-06-04T18:26:24.068480",
          "status": "completed"
        },
        "tags": [],
        "id": "4dad1f45"
      },
      "outputs": [],
      "source": [
        "movie_md = movie_md[['id','original_title','overview','genres']]"
      ]
    },
    {
      "cell_type": "code",
      "execution_count": null,
      "id": "fb6d82a6",
      "metadata": {
        "execution": {
          "iopub.execute_input": "2022-06-04T18:26:24.216483Z",
          "iopub.status.busy": "2022-06-04T18:26:24.215823Z",
          "iopub.status.idle": "2022-06-04T18:26:24.222499Z",
          "shell.execute_reply": "2022-06-04T18:26:24.221716Z"
        },
        "papermill": {
          "duration": 0.054697,
          "end_time": "2022-06-04T18:26:24.224885",
          "exception": false,
          "start_time": "2022-06-04T18:26:24.170188",
          "status": "completed"
        },
        "tags": [],
        "id": "fb6d82a6"
      },
      "outputs": [],
      "source": [
        "# Creating a duplicate column for title so that once can be used to search later and one for creating features\n",
        "movie_md['title'] = movie_md['original_title'].copy()"
      ]
    },
    {
      "cell_type": "code",
      "execution_count": null,
      "id": "0c290c23",
      "metadata": {
        "execution": {
          "iopub.execute_input": "2022-06-04T18:26:24.318335Z",
          "iopub.status.busy": "2022-06-04T18:26:24.317722Z",
          "iopub.status.idle": "2022-06-04T18:26:24.329919Z",
          "shell.execute_reply": "2022-06-04T18:26:24.328852Z"
        },
        "papermill": {
          "duration": 0.062281,
          "end_time": "2022-06-04T18:26:24.332534",
          "exception": false,
          "start_time": "2022-06-04T18:26:24.270253",
          "status": "completed"
        },
        "tags": [],
        "colab": {
          "base_uri": "https://localhost:8080/",
          "height": 206
        },
        "id": "0c290c23",
        "outputId": "dded98e7-19ad-48c2-f05c-487265015880"
      },
      "outputs": [
        {
          "output_type": "execute_result",
          "data": {
            "text/plain": [
              "      id               original_title  \\\n",
              "0    862                    Toy Story   \n",
              "1   8844                      Jumanji   \n",
              "2  15602             Grumpier Old Men   \n",
              "3  11862  Father of the Bride Part II   \n",
              "4    949                         Heat   \n",
              "\n",
              "                                            overview  \\\n",
              "0  Led by Woody, Andy's toys live happily in his ...   \n",
              "1  When siblings Judy and Peter discover an encha...   \n",
              "2  A family wedding reignites the ancient feud be...   \n",
              "3  Just when George Banks has recovered from his ...   \n",
              "4  Obsessive master thief, Neil McCauley leads a ...   \n",
              "\n",
              "                                              genres  \\\n",
              "0  [{'id': 16, 'name': 'Animation'}, {'id': 35, '...   \n",
              "1  [{'id': 12, 'name': 'Adventure'}, {'id': 14, '...   \n",
              "2  [{'id': 10749, 'name': 'Romance'}, {'id': 35, ...   \n",
              "3                     [{'id': 35, 'name': 'Comedy'}]   \n",
              "4  [{'id': 28, 'name': 'Action'}, {'id': 80, 'nam...   \n",
              "\n",
              "                         title  \n",
              "0                    Toy Story  \n",
              "1                      Jumanji  \n",
              "2             Grumpier Old Men  \n",
              "3  Father of the Bride Part II  \n",
              "4                         Heat  "
            ],
            "text/html": [
              "\n",
              "  <div id=\"df-eb5976b0-7f68-4e06-b4d5-8455add0b6f4\">\n",
              "    <div class=\"colab-df-container\">\n",
              "      <div>\n",
              "<style scoped>\n",
              "    .dataframe tbody tr th:only-of-type {\n",
              "        vertical-align: middle;\n",
              "    }\n",
              "\n",
              "    .dataframe tbody tr th {\n",
              "        vertical-align: top;\n",
              "    }\n",
              "\n",
              "    .dataframe thead th {\n",
              "        text-align: right;\n",
              "    }\n",
              "</style>\n",
              "<table border=\"1\" class=\"dataframe\">\n",
              "  <thead>\n",
              "    <tr style=\"text-align: right;\">\n",
              "      <th></th>\n",
              "      <th>id</th>\n",
              "      <th>original_title</th>\n",
              "      <th>overview</th>\n",
              "      <th>genres</th>\n",
              "      <th>title</th>\n",
              "    </tr>\n",
              "  </thead>\n",
              "  <tbody>\n",
              "    <tr>\n",
              "      <th>0</th>\n",
              "      <td>862</td>\n",
              "      <td>Toy Story</td>\n",
              "      <td>Led by Woody, Andy's toys live happily in his ...</td>\n",
              "      <td>[{'id': 16, 'name': 'Animation'}, {'id': 35, '...</td>\n",
              "      <td>Toy Story</td>\n",
              "    </tr>\n",
              "    <tr>\n",
              "      <th>1</th>\n",
              "      <td>8844</td>\n",
              "      <td>Jumanji</td>\n",
              "      <td>When siblings Judy and Peter discover an encha...</td>\n",
              "      <td>[{'id': 12, 'name': 'Adventure'}, {'id': 14, '...</td>\n",
              "      <td>Jumanji</td>\n",
              "    </tr>\n",
              "    <tr>\n",
              "      <th>2</th>\n",
              "      <td>15602</td>\n",
              "      <td>Grumpier Old Men</td>\n",
              "      <td>A family wedding reignites the ancient feud be...</td>\n",
              "      <td>[{'id': 10749, 'name': 'Romance'}, {'id': 35, ...</td>\n",
              "      <td>Grumpier Old Men</td>\n",
              "    </tr>\n",
              "    <tr>\n",
              "      <th>3</th>\n",
              "      <td>11862</td>\n",
              "      <td>Father of the Bride Part II</td>\n",
              "      <td>Just when George Banks has recovered from his ...</td>\n",
              "      <td>[{'id': 35, 'name': 'Comedy'}]</td>\n",
              "      <td>Father of the Bride Part II</td>\n",
              "    </tr>\n",
              "    <tr>\n",
              "      <th>4</th>\n",
              "      <td>949</td>\n",
              "      <td>Heat</td>\n",
              "      <td>Obsessive master thief, Neil McCauley leads a ...</td>\n",
              "      <td>[{'id': 28, 'name': 'Action'}, {'id': 80, 'nam...</td>\n",
              "      <td>Heat</td>\n",
              "    </tr>\n",
              "  </tbody>\n",
              "</table>\n",
              "</div>\n",
              "      <button class=\"colab-df-convert\" onclick=\"convertToInteractive('df-eb5976b0-7f68-4e06-b4d5-8455add0b6f4')\"\n",
              "              title=\"Convert this dataframe to an interactive table.\"\n",
              "              style=\"display:none;\">\n",
              "        \n",
              "  <svg xmlns=\"http://www.w3.org/2000/svg\" height=\"24px\"viewBox=\"0 0 24 24\"\n",
              "       width=\"24px\">\n",
              "    <path d=\"M0 0h24v24H0V0z\" fill=\"none\"/>\n",
              "    <path d=\"M18.56 5.44l.94 2.06.94-2.06 2.06-.94-2.06-.94-.94-2.06-.94 2.06-2.06.94zm-11 1L8.5 8.5l.94-2.06 2.06-.94-2.06-.94L8.5 2.5l-.94 2.06-2.06.94zm10 10l.94 2.06.94-2.06 2.06-.94-2.06-.94-.94-2.06-.94 2.06-2.06.94z\"/><path d=\"M17.41 7.96l-1.37-1.37c-.4-.4-.92-.59-1.43-.59-.52 0-1.04.2-1.43.59L10.3 9.45l-7.72 7.72c-.78.78-.78 2.05 0 2.83L4 21.41c.39.39.9.59 1.41.59.51 0 1.02-.2 1.41-.59l7.78-7.78 2.81-2.81c.8-.78.8-2.07 0-2.86zM5.41 20L4 18.59l7.72-7.72 1.47 1.35L5.41 20z\"/>\n",
              "  </svg>\n",
              "      </button>\n",
              "      \n",
              "  <style>\n",
              "    .colab-df-container {\n",
              "      display:flex;\n",
              "      flex-wrap:wrap;\n",
              "      gap: 12px;\n",
              "    }\n",
              "\n",
              "    .colab-df-convert {\n",
              "      background-color: #E8F0FE;\n",
              "      border: none;\n",
              "      border-radius: 50%;\n",
              "      cursor: pointer;\n",
              "      display: none;\n",
              "      fill: #1967D2;\n",
              "      height: 32px;\n",
              "      padding: 0 0 0 0;\n",
              "      width: 32px;\n",
              "    }\n",
              "\n",
              "    .colab-df-convert:hover {\n",
              "      background-color: #E2EBFA;\n",
              "      box-shadow: 0px 1px 2px rgba(60, 64, 67, 0.3), 0px 1px 3px 1px rgba(60, 64, 67, 0.15);\n",
              "      fill: #174EA6;\n",
              "    }\n",
              "\n",
              "    [theme=dark] .colab-df-convert {\n",
              "      background-color: #3B4455;\n",
              "      fill: #D2E3FC;\n",
              "    }\n",
              "\n",
              "    [theme=dark] .colab-df-convert:hover {\n",
              "      background-color: #434B5C;\n",
              "      box-shadow: 0px 1px 3px 1px rgba(0, 0, 0, 0.15);\n",
              "      filter: drop-shadow(0px 1px 2px rgba(0, 0, 0, 0.3));\n",
              "      fill: #FFFFFF;\n",
              "    }\n",
              "  </style>\n",
              "\n",
              "      <script>\n",
              "        const buttonEl =\n",
              "          document.querySelector('#df-eb5976b0-7f68-4e06-b4d5-8455add0b6f4 button.colab-df-convert');\n",
              "        buttonEl.style.display =\n",
              "          google.colab.kernel.accessAllowed ? 'block' : 'none';\n",
              "\n",
              "        async function convertToInteractive(key) {\n",
              "          const element = document.querySelector('#df-eb5976b0-7f68-4e06-b4d5-8455add0b6f4');\n",
              "          const dataTable =\n",
              "            await google.colab.kernel.invokeFunction('convertToInteractive',\n",
              "                                                     [key], {});\n",
              "          if (!dataTable) return;\n",
              "\n",
              "          const docLinkHtml = 'Like what you see? Visit the ' +\n",
              "            '<a target=\"_blank\" href=https://colab.research.google.com/notebooks/data_table.ipynb>data table notebook</a>'\n",
              "            + ' to learn more about interactive tables.';\n",
              "          element.innerHTML = '';\n",
              "          dataTable['output_type'] = 'display_data';\n",
              "          await google.colab.output.renderOutput(dataTable, element);\n",
              "          const docLink = document.createElement('div');\n",
              "          docLink.innerHTML = docLinkHtml;\n",
              "          element.appendChild(docLink);\n",
              "        }\n",
              "      </script>\n",
              "    </div>\n",
              "  </div>\n",
              "  "
            ]
          },
          "metadata": {},
          "execution_count": 173
        }
      ],
      "source": [
        "movie_md.reset_index(inplace=True, drop=True)\n",
        "movie_md.head()"
      ]
    },
    {
      "cell_type": "markdown",
      "id": "4c75ff6c",
      "metadata": {
        "papermill": {
          "duration": 0.044486,
          "end_time": "2022-06-04T18:26:24.421760",
          "exception": false,
          "start_time": "2022-06-04T18:26:24.377274",
          "status": "completed"
        },
        "tags": [],
        "id": "4c75ff6c"
      },
      "source": [
        "* From movies metadata column we are going to work with the following features - \n",
        "\n",
        "1. `Genres`\n",
        "\n",
        "2. `Original Title`\n",
        "\n",
        "3. `Overview`\n",
        "\n",
        "4. `id`"
      ]
    },
    {
      "cell_type": "code",
      "execution_count": null,
      "id": "0b011232",
      "metadata": {
        "execution": {
          "iopub.execute_input": "2022-06-04T18:26:24.512481Z",
          "iopub.status.busy": "2022-06-04T18:26:24.512040Z",
          "iopub.status.idle": "2022-06-04T18:26:24.521660Z",
          "shell.execute_reply": "2022-06-04T18:26:24.520834Z"
        },
        "papermill": {
          "duration": 0.057144,
          "end_time": "2022-06-04T18:26:24.523667",
          "exception": false,
          "start_time": "2022-06-04T18:26:24.466523",
          "status": "completed"
        },
        "tags": [],
        "colab": {
          "base_uri": "https://localhost:8080/",
          "height": 206
        },
        "id": "0b011232",
        "outputId": "cd2c384c-21c8-4157-b308-ebcd688f612e"
      },
      "outputs": [
        {
          "output_type": "execute_result",
          "data": {
            "text/plain": [
              "      id                                           keywords\n",
              "0    862  [{'id': 931, 'name': 'jealousy'}, {'id': 4290,...\n",
              "1   8844  [{'id': 10090, 'name': 'board game'}, {'id': 1...\n",
              "2  15602  [{'id': 1495, 'name': 'fishing'}, {'id': 12392...\n",
              "3  31357  [{'id': 818, 'name': 'based on novel'}, {'id':...\n",
              "4  11862  [{'id': 1009, 'name': 'baby'}, {'id': 1599, 'n..."
            ],
            "text/html": [
              "\n",
              "  <div id=\"df-c0cb2805-38ef-49ac-95fb-5426da89531c\">\n",
              "    <div class=\"colab-df-container\">\n",
              "      <div>\n",
              "<style scoped>\n",
              "    .dataframe tbody tr th:only-of-type {\n",
              "        vertical-align: middle;\n",
              "    }\n",
              "\n",
              "    .dataframe tbody tr th {\n",
              "        vertical-align: top;\n",
              "    }\n",
              "\n",
              "    .dataframe thead th {\n",
              "        text-align: right;\n",
              "    }\n",
              "</style>\n",
              "<table border=\"1\" class=\"dataframe\">\n",
              "  <thead>\n",
              "    <tr style=\"text-align: right;\">\n",
              "      <th></th>\n",
              "      <th>id</th>\n",
              "      <th>keywords</th>\n",
              "    </tr>\n",
              "  </thead>\n",
              "  <tbody>\n",
              "    <tr>\n",
              "      <th>0</th>\n",
              "      <td>862</td>\n",
              "      <td>[{'id': 931, 'name': 'jealousy'}, {'id': 4290,...</td>\n",
              "    </tr>\n",
              "    <tr>\n",
              "      <th>1</th>\n",
              "      <td>8844</td>\n",
              "      <td>[{'id': 10090, 'name': 'board game'}, {'id': 1...</td>\n",
              "    </tr>\n",
              "    <tr>\n",
              "      <th>2</th>\n",
              "      <td>15602</td>\n",
              "      <td>[{'id': 1495, 'name': 'fishing'}, {'id': 12392...</td>\n",
              "    </tr>\n",
              "    <tr>\n",
              "      <th>3</th>\n",
              "      <td>31357</td>\n",
              "      <td>[{'id': 818, 'name': 'based on novel'}, {'id':...</td>\n",
              "    </tr>\n",
              "    <tr>\n",
              "      <th>4</th>\n",
              "      <td>11862</td>\n",
              "      <td>[{'id': 1009, 'name': 'baby'}, {'id': 1599, 'n...</td>\n",
              "    </tr>\n",
              "  </tbody>\n",
              "</table>\n",
              "</div>\n",
              "      <button class=\"colab-df-convert\" onclick=\"convertToInteractive('df-c0cb2805-38ef-49ac-95fb-5426da89531c')\"\n",
              "              title=\"Convert this dataframe to an interactive table.\"\n",
              "              style=\"display:none;\">\n",
              "        \n",
              "  <svg xmlns=\"http://www.w3.org/2000/svg\" height=\"24px\"viewBox=\"0 0 24 24\"\n",
              "       width=\"24px\">\n",
              "    <path d=\"M0 0h24v24H0V0z\" fill=\"none\"/>\n",
              "    <path d=\"M18.56 5.44l.94 2.06.94-2.06 2.06-.94-2.06-.94-.94-2.06-.94 2.06-2.06.94zm-11 1L8.5 8.5l.94-2.06 2.06-.94-2.06-.94L8.5 2.5l-.94 2.06-2.06.94zm10 10l.94 2.06.94-2.06 2.06-.94-2.06-.94-.94-2.06-.94 2.06-2.06.94z\"/><path d=\"M17.41 7.96l-1.37-1.37c-.4-.4-.92-.59-1.43-.59-.52 0-1.04.2-1.43.59L10.3 9.45l-7.72 7.72c-.78.78-.78 2.05 0 2.83L4 21.41c.39.39.9.59 1.41.59.51 0 1.02-.2 1.41-.59l7.78-7.78 2.81-2.81c.8-.78.8-2.07 0-2.86zM5.41 20L4 18.59l7.72-7.72 1.47 1.35L5.41 20z\"/>\n",
              "  </svg>\n",
              "      </button>\n",
              "      \n",
              "  <style>\n",
              "    .colab-df-container {\n",
              "      display:flex;\n",
              "      flex-wrap:wrap;\n",
              "      gap: 12px;\n",
              "    }\n",
              "\n",
              "    .colab-df-convert {\n",
              "      background-color: #E8F0FE;\n",
              "      border: none;\n",
              "      border-radius: 50%;\n",
              "      cursor: pointer;\n",
              "      display: none;\n",
              "      fill: #1967D2;\n",
              "      height: 32px;\n",
              "      padding: 0 0 0 0;\n",
              "      width: 32px;\n",
              "    }\n",
              "\n",
              "    .colab-df-convert:hover {\n",
              "      background-color: #E2EBFA;\n",
              "      box-shadow: 0px 1px 2px rgba(60, 64, 67, 0.3), 0px 1px 3px 1px rgba(60, 64, 67, 0.15);\n",
              "      fill: #174EA6;\n",
              "    }\n",
              "\n",
              "    [theme=dark] .colab-df-convert {\n",
              "      background-color: #3B4455;\n",
              "      fill: #D2E3FC;\n",
              "    }\n",
              "\n",
              "    [theme=dark] .colab-df-convert:hover {\n",
              "      background-color: #434B5C;\n",
              "      box-shadow: 0px 1px 3px 1px rgba(0, 0, 0, 0.15);\n",
              "      filter: drop-shadow(0px 1px 2px rgba(0, 0, 0, 0.3));\n",
              "      fill: #FFFFFF;\n",
              "    }\n",
              "  </style>\n",
              "\n",
              "      <script>\n",
              "        const buttonEl =\n",
              "          document.querySelector('#df-c0cb2805-38ef-49ac-95fb-5426da89531c button.colab-df-convert');\n",
              "        buttonEl.style.display =\n",
              "          google.colab.kernel.accessAllowed ? 'block' : 'none';\n",
              "\n",
              "        async function convertToInteractive(key) {\n",
              "          const element = document.querySelector('#df-c0cb2805-38ef-49ac-95fb-5426da89531c');\n",
              "          const dataTable =\n",
              "            await google.colab.kernel.invokeFunction('convertToInteractive',\n",
              "                                                     [key], {});\n",
              "          if (!dataTable) return;\n",
              "\n",
              "          const docLinkHtml = 'Like what you see? Visit the ' +\n",
              "            '<a target=\"_blank\" href=https://colab.research.google.com/notebooks/data_table.ipynb>data table notebook</a>'\n",
              "            + ' to learn more about interactive tables.';\n",
              "          element.innerHTML = '';\n",
              "          dataTable['output_type'] = 'display_data';\n",
              "          await google.colab.output.renderOutput(dataTable, element);\n",
              "          const docLink = document.createElement('div');\n",
              "          docLink.innerHTML = docLinkHtml;\n",
              "          element.appendChild(docLink);\n",
              "        }\n",
              "      </script>\n",
              "    </div>\n",
              "  </div>\n",
              "  "
            ]
          },
          "metadata": {},
          "execution_count": 174
        }
      ],
      "source": [
        "movie_keywords.head()"
      ]
    },
    {
      "cell_type": "markdown",
      "id": "09272fda",
      "metadata": {
        "papermill": {
          "duration": 0.044889,
          "end_time": "2022-06-04T18:26:24.615459",
          "exception": false,
          "start_time": "2022-06-04T18:26:24.570570",
          "status": "completed"
        },
        "tags": [],
        "id": "09272fda"
      },
      "source": [
        "* From movies keywords column we are going to work with the following features - \n",
        "\n",
        "1. `keywords` (to fetch the keywords)\n",
        "\n",
        "2. `id` (to merge dataframe)"
      ]
    },
    {
      "cell_type": "code",
      "execution_count": null,
      "id": "1c9a2b7d",
      "metadata": {
        "execution": {
          "iopub.execute_input": "2022-06-04T18:26:24.706350Z",
          "iopub.status.busy": "2022-06-04T18:26:24.705753Z",
          "iopub.status.idle": "2022-06-04T18:26:24.717701Z",
          "shell.execute_reply": "2022-06-04T18:26:24.716497Z"
        },
        "papermill": {
          "duration": 0.060261,
          "end_time": "2022-06-04T18:26:24.720292",
          "exception": false,
          "start_time": "2022-06-04T18:26:24.660031",
          "status": "completed"
        },
        "tags": [],
        "colab": {
          "base_uri": "https://localhost:8080/",
          "height": 206
        },
        "id": "1c9a2b7d",
        "outputId": "b0409939-5d6d-4fe6-950f-bed24893cfbe"
      },
      "outputs": [
        {
          "output_type": "execute_result",
          "data": {
            "text/plain": [
              "                                                cast  \\\n",
              "0  [{'cast_id': 14, 'character': 'Woody (voice)',...   \n",
              "1  [{'cast_id': 1, 'character': 'Alan Parrish', '...   \n",
              "2  [{'cast_id': 2, 'character': 'Max Goldman', 'c...   \n",
              "3  [{'cast_id': 1, 'character': \"Savannah 'Vannah...   \n",
              "4  [{'cast_id': 1, 'character': 'George Banks', '...   \n",
              "\n",
              "                                                crew     id  \n",
              "0  [{'credit_id': '52fe4284c3a36847f8024f49', 'de...    862  \n",
              "1  [{'credit_id': '52fe44bfc3a36847f80a7cd1', 'de...   8844  \n",
              "2  [{'credit_id': '52fe466a9251416c75077a89', 'de...  15602  \n",
              "3  [{'credit_id': '52fe44779251416c91011acb', 'de...  31357  \n",
              "4  [{'credit_id': '52fe44959251416c75039ed7', 'de...  11862  "
            ],
            "text/html": [
              "\n",
              "  <div id=\"df-03870d32-d093-400b-a958-d894abd062ee\">\n",
              "    <div class=\"colab-df-container\">\n",
              "      <div>\n",
              "<style scoped>\n",
              "    .dataframe tbody tr th:only-of-type {\n",
              "        vertical-align: middle;\n",
              "    }\n",
              "\n",
              "    .dataframe tbody tr th {\n",
              "        vertical-align: top;\n",
              "    }\n",
              "\n",
              "    .dataframe thead th {\n",
              "        text-align: right;\n",
              "    }\n",
              "</style>\n",
              "<table border=\"1\" class=\"dataframe\">\n",
              "  <thead>\n",
              "    <tr style=\"text-align: right;\">\n",
              "      <th></th>\n",
              "      <th>cast</th>\n",
              "      <th>crew</th>\n",
              "      <th>id</th>\n",
              "    </tr>\n",
              "  </thead>\n",
              "  <tbody>\n",
              "    <tr>\n",
              "      <th>0</th>\n",
              "      <td>[{'cast_id': 14, 'character': 'Woody (voice)',...</td>\n",
              "      <td>[{'credit_id': '52fe4284c3a36847f8024f49', 'de...</td>\n",
              "      <td>862</td>\n",
              "    </tr>\n",
              "    <tr>\n",
              "      <th>1</th>\n",
              "      <td>[{'cast_id': 1, 'character': 'Alan Parrish', '...</td>\n",
              "      <td>[{'credit_id': '52fe44bfc3a36847f80a7cd1', 'de...</td>\n",
              "      <td>8844</td>\n",
              "    </tr>\n",
              "    <tr>\n",
              "      <th>2</th>\n",
              "      <td>[{'cast_id': 2, 'character': 'Max Goldman', 'c...</td>\n",
              "      <td>[{'credit_id': '52fe466a9251416c75077a89', 'de...</td>\n",
              "      <td>15602</td>\n",
              "    </tr>\n",
              "    <tr>\n",
              "      <th>3</th>\n",
              "      <td>[{'cast_id': 1, 'character': \"Savannah 'Vannah...</td>\n",
              "      <td>[{'credit_id': '52fe44779251416c91011acb', 'de...</td>\n",
              "      <td>31357</td>\n",
              "    </tr>\n",
              "    <tr>\n",
              "      <th>4</th>\n",
              "      <td>[{'cast_id': 1, 'character': 'George Banks', '...</td>\n",
              "      <td>[{'credit_id': '52fe44959251416c75039ed7', 'de...</td>\n",
              "      <td>11862</td>\n",
              "    </tr>\n",
              "  </tbody>\n",
              "</table>\n",
              "</div>\n",
              "      <button class=\"colab-df-convert\" onclick=\"convertToInteractive('df-03870d32-d093-400b-a958-d894abd062ee')\"\n",
              "              title=\"Convert this dataframe to an interactive table.\"\n",
              "              style=\"display:none;\">\n",
              "        \n",
              "  <svg xmlns=\"http://www.w3.org/2000/svg\" height=\"24px\"viewBox=\"0 0 24 24\"\n",
              "       width=\"24px\">\n",
              "    <path d=\"M0 0h24v24H0V0z\" fill=\"none\"/>\n",
              "    <path d=\"M18.56 5.44l.94 2.06.94-2.06 2.06-.94-2.06-.94-.94-2.06-.94 2.06-2.06.94zm-11 1L8.5 8.5l.94-2.06 2.06-.94-2.06-.94L8.5 2.5l-.94 2.06-2.06.94zm10 10l.94 2.06.94-2.06 2.06-.94-2.06-.94-.94-2.06-.94 2.06-2.06.94z\"/><path d=\"M17.41 7.96l-1.37-1.37c-.4-.4-.92-.59-1.43-.59-.52 0-1.04.2-1.43.59L10.3 9.45l-7.72 7.72c-.78.78-.78 2.05 0 2.83L4 21.41c.39.39.9.59 1.41.59.51 0 1.02-.2 1.41-.59l7.78-7.78 2.81-2.81c.8-.78.8-2.07 0-2.86zM5.41 20L4 18.59l7.72-7.72 1.47 1.35L5.41 20z\"/>\n",
              "  </svg>\n",
              "      </button>\n",
              "      \n",
              "  <style>\n",
              "    .colab-df-container {\n",
              "      display:flex;\n",
              "      flex-wrap:wrap;\n",
              "      gap: 12px;\n",
              "    }\n",
              "\n",
              "    .colab-df-convert {\n",
              "      background-color: #E8F0FE;\n",
              "      border: none;\n",
              "      border-radius: 50%;\n",
              "      cursor: pointer;\n",
              "      display: none;\n",
              "      fill: #1967D2;\n",
              "      height: 32px;\n",
              "      padding: 0 0 0 0;\n",
              "      width: 32px;\n",
              "    }\n",
              "\n",
              "    .colab-df-convert:hover {\n",
              "      background-color: #E2EBFA;\n",
              "      box-shadow: 0px 1px 2px rgba(60, 64, 67, 0.3), 0px 1px 3px 1px rgba(60, 64, 67, 0.15);\n",
              "      fill: #174EA6;\n",
              "    }\n",
              "\n",
              "    [theme=dark] .colab-df-convert {\n",
              "      background-color: #3B4455;\n",
              "      fill: #D2E3FC;\n",
              "    }\n",
              "\n",
              "    [theme=dark] .colab-df-convert:hover {\n",
              "      background-color: #434B5C;\n",
              "      box-shadow: 0px 1px 3px 1px rgba(0, 0, 0, 0.15);\n",
              "      filter: drop-shadow(0px 1px 2px rgba(0, 0, 0, 0.3));\n",
              "      fill: #FFFFFF;\n",
              "    }\n",
              "  </style>\n",
              "\n",
              "      <script>\n",
              "        const buttonEl =\n",
              "          document.querySelector('#df-03870d32-d093-400b-a958-d894abd062ee button.colab-df-convert');\n",
              "        buttonEl.style.display =\n",
              "          google.colab.kernel.accessAllowed ? 'block' : 'none';\n",
              "\n",
              "        async function convertToInteractive(key) {\n",
              "          const element = document.querySelector('#df-03870d32-d093-400b-a958-d894abd062ee');\n",
              "          const dataTable =\n",
              "            await google.colab.kernel.invokeFunction('convertToInteractive',\n",
              "                                                     [key], {});\n",
              "          if (!dataTable) return;\n",
              "\n",
              "          const docLinkHtml = 'Like what you see? Visit the ' +\n",
              "            '<a target=\"_blank\" href=https://colab.research.google.com/notebooks/data_table.ipynb>data table notebook</a>'\n",
              "            + ' to learn more about interactive tables.';\n",
              "          element.innerHTML = '';\n",
              "          dataTable['output_type'] = 'display_data';\n",
              "          await google.colab.output.renderOutput(dataTable, element);\n",
              "          const docLink = document.createElement('div');\n",
              "          docLink.innerHTML = docLinkHtml;\n",
              "          element.appendChild(docLink);\n",
              "        }\n",
              "      </script>\n",
              "    </div>\n",
              "  </div>\n",
              "  "
            ]
          },
          "metadata": {},
          "execution_count": 175
        }
      ],
      "source": [
        "movie_credits.head()"
      ]
    },
    {
      "cell_type": "markdown",
      "id": "f47cc447",
      "metadata": {
        "papermill": {
          "duration": 0.045157,
          "end_time": "2022-06-04T18:26:24.810725",
          "exception": false,
          "start_time": "2022-06-04T18:26:24.765568",
          "status": "completed"
        },
        "tags": [],
        "id": "f47cc447"
      },
      "source": [
        "* From movies credits column we are going to work with the following features - \n",
        "\n",
        "1. `cast` - To get the name of the actors\n",
        "\n",
        "2. `id` - To merge dataframe"
      ]
    },
    {
      "cell_type": "code",
      "execution_count": null,
      "id": "3b3542d4",
      "metadata": {
        "execution": {
          "iopub.execute_input": "2022-06-04T18:26:24.902863Z",
          "iopub.status.busy": "2022-06-04T18:26:24.902415Z",
          "iopub.status.idle": "2022-06-04T18:26:24.910121Z",
          "shell.execute_reply": "2022-06-04T18:26:24.909094Z"
        },
        "papermill": {
          "duration": 0.056003,
          "end_time": "2022-06-04T18:26:24.912251",
          "exception": false,
          "start_time": "2022-06-04T18:26:24.856248",
          "status": "completed"
        },
        "tags": [],
        "id": "3b3542d4"
      },
      "outputs": [],
      "source": [
        "movie_credits = movie_credits[['id','cast']]"
      ]
    },
    {
      "cell_type": "markdown",
      "id": "c4c82981",
      "metadata": {
        "papermill": {
          "duration": 0.044429,
          "end_time": "2022-06-04T18:26:25.001174",
          "exception": false,
          "start_time": "2022-06-04T18:26:24.956745",
          "status": "completed"
        },
        "tags": [],
        "id": "c4c82981"
      },
      "source": [
        "### **Data Cleaning & Preprocessing**"
      ]
    },
    {
      "cell_type": "code",
      "execution_count": null,
      "id": "fcd41cd8",
      "metadata": {
        "execution": {
          "iopub.execute_input": "2022-06-04T18:26:25.097591Z",
          "iopub.status.busy": "2022-06-04T18:26:25.096884Z",
          "iopub.status.idle": "2022-06-04T18:26:25.110727Z",
          "shell.execute_reply": "2022-06-04T18:26:25.109912Z"
        },
        "papermill": {
          "duration": 0.064664,
          "end_time": "2022-06-04T18:26:25.113154",
          "exception": false,
          "start_time": "2022-06-04T18:26:25.048490",
          "status": "completed"
        },
        "tags": [],
        "id": "fcd41cd8"
      },
      "outputs": [],
      "source": [
        "# Removing the records for which the id is not available\n",
        "movie_md = movie_md[movie_md['id'].str.isnumeric()]"
      ]
    },
    {
      "cell_type": "markdown",
      "id": "7917d91b",
      "metadata": {
        "papermill": {
          "duration": 0.045713,
          "end_time": "2022-06-04T18:26:25.203809",
          "exception": false,
          "start_time": "2022-06-04T18:26:25.158096",
          "status": "completed"
        },
        "tags": [],
        "id": "7917d91b"
      },
      "source": [
        "#### Merge dataframes into one single entity"
      ]
    },
    {
      "cell_type": "code",
      "execution_count": null,
      "id": "448df78b",
      "metadata": {
        "execution": {
          "iopub.execute_input": "2022-06-04T18:26:25.295720Z",
          "iopub.status.busy": "2022-06-04T18:26:25.294914Z",
          "iopub.status.idle": "2022-06-04T18:26:25.327389Z",
          "shell.execute_reply": "2022-06-04T18:26:25.326445Z"
        },
        "papermill": {
          "duration": 0.081416,
          "end_time": "2022-06-04T18:26:25.329770",
          "exception": false,
          "start_time": "2022-06-04T18:26:25.248354",
          "status": "completed"
        },
        "tags": [],
        "id": "448df78b"
      },
      "outputs": [],
      "source": [
        "# Merge all dataframe as a single entity\n",
        "# To merge the ids must be of same datatype\n",
        "movie_md['id'] = movie_md['id'].astype(int)\n",
        "\n",
        "# Merge\n",
        "df = pd.merge(movie_md, movie_keywords, on='id', how='left')\n",
        "\n",
        "# Reset the index\n",
        "df.reset_index(inplace=True, drop=True)"
      ]
    },
    {
      "cell_type": "code",
      "execution_count": null,
      "id": "7019e373",
      "metadata": {
        "execution": {
          "iopub.execute_input": "2022-06-04T18:26:25.422528Z",
          "iopub.status.busy": "2022-06-04T18:26:25.422112Z",
          "iopub.status.idle": "2022-06-04T18:26:25.445921Z",
          "shell.execute_reply": "2022-06-04T18:26:25.444978Z"
        },
        "papermill": {
          "duration": 0.072139,
          "end_time": "2022-06-04T18:26:25.448241",
          "exception": false,
          "start_time": "2022-06-04T18:26:25.376102",
          "status": "completed"
        },
        "tags": [],
        "id": "7019e373"
      },
      "outputs": [],
      "source": [
        "# Merge with movie credits\n",
        "df = pd.merge(df, movie_credits, on='id', how='left')\n",
        "\n",
        "# Reset the index\n",
        "df.reset_index(inplace=True, drop=True)"
      ]
    },
    {
      "cell_type": "code",
      "execution_count": null,
      "id": "299c725b",
      "metadata": {
        "execution": {
          "iopub.execute_input": "2022-06-04T18:26:25.541361Z",
          "iopub.status.busy": "2022-06-04T18:26:25.540699Z",
          "iopub.status.idle": "2022-06-04T18:26:25.555766Z",
          "shell.execute_reply": "2022-06-04T18:26:25.554810Z"
        },
        "papermill": {
          "duration": 0.065015,
          "end_time": "2022-06-04T18:26:25.558170",
          "exception": false,
          "start_time": "2022-06-04T18:26:25.493155",
          "status": "completed"
        },
        "tags": [],
        "colab": {
          "base_uri": "https://localhost:8080/",
          "height": 206
        },
        "id": "299c725b",
        "outputId": "92a18957-9293-40a4-e146-3a2df7db2532"
      },
      "outputs": [
        {
          "output_type": "execute_result",
          "data": {
            "text/plain": [
              "      id               original_title  \\\n",
              "0    862                    Toy Story   \n",
              "1   8844                      Jumanji   \n",
              "2  15602             Grumpier Old Men   \n",
              "3  11862  Father of the Bride Part II   \n",
              "4    949                         Heat   \n",
              "\n",
              "                                            overview  \\\n",
              "0  Led by Woody, Andy's toys live happily in his ...   \n",
              "1  When siblings Judy and Peter discover an encha...   \n",
              "2  A family wedding reignites the ancient feud be...   \n",
              "3  Just when George Banks has recovered from his ...   \n",
              "4  Obsessive master thief, Neil McCauley leads a ...   \n",
              "\n",
              "                                              genres  \\\n",
              "0  [{'id': 16, 'name': 'Animation'}, {'id': 35, '...   \n",
              "1  [{'id': 12, 'name': 'Adventure'}, {'id': 14, '...   \n",
              "2  [{'id': 10749, 'name': 'Romance'}, {'id': 35, ...   \n",
              "3                     [{'id': 35, 'name': 'Comedy'}]   \n",
              "4  [{'id': 28, 'name': 'Action'}, {'id': 80, 'nam...   \n",
              "\n",
              "                         title  \\\n",
              "0                    Toy Story   \n",
              "1                      Jumanji   \n",
              "2             Grumpier Old Men   \n",
              "3  Father of the Bride Part II   \n",
              "4                         Heat   \n",
              "\n",
              "                                            keywords  \\\n",
              "0  [{'id': 931, 'name': 'jealousy'}, {'id': 4290,...   \n",
              "1  [{'id': 10090, 'name': 'board game'}, {'id': 1...   \n",
              "2  [{'id': 1495, 'name': 'fishing'}, {'id': 12392...   \n",
              "3  [{'id': 1009, 'name': 'baby'}, {'id': 1599, 'n...   \n",
              "4  [{'id': 642, 'name': 'robbery'}, {'id': 703, '...   \n",
              "\n",
              "                                                cast  \n",
              "0  [{'cast_id': 14, 'character': 'Woody (voice)',...  \n",
              "1  [{'cast_id': 1, 'character': 'Alan Parrish', '...  \n",
              "2  [{'cast_id': 2, 'character': 'Max Goldman', 'c...  \n",
              "3  [{'cast_id': 1, 'character': 'George Banks', '...  \n",
              "4  [{'cast_id': 25, 'character': 'Lt. Vincent Han...  "
            ],
            "text/html": [
              "\n",
              "  <div id=\"df-767cdac6-7103-438d-b912-886f6f20b493\">\n",
              "    <div class=\"colab-df-container\">\n",
              "      <div>\n",
              "<style scoped>\n",
              "    .dataframe tbody tr th:only-of-type {\n",
              "        vertical-align: middle;\n",
              "    }\n",
              "\n",
              "    .dataframe tbody tr th {\n",
              "        vertical-align: top;\n",
              "    }\n",
              "\n",
              "    .dataframe thead th {\n",
              "        text-align: right;\n",
              "    }\n",
              "</style>\n",
              "<table border=\"1\" class=\"dataframe\">\n",
              "  <thead>\n",
              "    <tr style=\"text-align: right;\">\n",
              "      <th></th>\n",
              "      <th>id</th>\n",
              "      <th>original_title</th>\n",
              "      <th>overview</th>\n",
              "      <th>genres</th>\n",
              "      <th>title</th>\n",
              "      <th>keywords</th>\n",
              "      <th>cast</th>\n",
              "    </tr>\n",
              "  </thead>\n",
              "  <tbody>\n",
              "    <tr>\n",
              "      <th>0</th>\n",
              "      <td>862</td>\n",
              "      <td>Toy Story</td>\n",
              "      <td>Led by Woody, Andy's toys live happily in his ...</td>\n",
              "      <td>[{'id': 16, 'name': 'Animation'}, {'id': 35, '...</td>\n",
              "      <td>Toy Story</td>\n",
              "      <td>[{'id': 931, 'name': 'jealousy'}, {'id': 4290,...</td>\n",
              "      <td>[{'cast_id': 14, 'character': 'Woody (voice)',...</td>\n",
              "    </tr>\n",
              "    <tr>\n",
              "      <th>1</th>\n",
              "      <td>8844</td>\n",
              "      <td>Jumanji</td>\n",
              "      <td>When siblings Judy and Peter discover an encha...</td>\n",
              "      <td>[{'id': 12, 'name': 'Adventure'}, {'id': 14, '...</td>\n",
              "      <td>Jumanji</td>\n",
              "      <td>[{'id': 10090, 'name': 'board game'}, {'id': 1...</td>\n",
              "      <td>[{'cast_id': 1, 'character': 'Alan Parrish', '...</td>\n",
              "    </tr>\n",
              "    <tr>\n",
              "      <th>2</th>\n",
              "      <td>15602</td>\n",
              "      <td>Grumpier Old Men</td>\n",
              "      <td>A family wedding reignites the ancient feud be...</td>\n",
              "      <td>[{'id': 10749, 'name': 'Romance'}, {'id': 35, ...</td>\n",
              "      <td>Grumpier Old Men</td>\n",
              "      <td>[{'id': 1495, 'name': 'fishing'}, {'id': 12392...</td>\n",
              "      <td>[{'cast_id': 2, 'character': 'Max Goldman', 'c...</td>\n",
              "    </tr>\n",
              "    <tr>\n",
              "      <th>3</th>\n",
              "      <td>11862</td>\n",
              "      <td>Father of the Bride Part II</td>\n",
              "      <td>Just when George Banks has recovered from his ...</td>\n",
              "      <td>[{'id': 35, 'name': 'Comedy'}]</td>\n",
              "      <td>Father of the Bride Part II</td>\n",
              "      <td>[{'id': 1009, 'name': 'baby'}, {'id': 1599, 'n...</td>\n",
              "      <td>[{'cast_id': 1, 'character': 'George Banks', '...</td>\n",
              "    </tr>\n",
              "    <tr>\n",
              "      <th>4</th>\n",
              "      <td>949</td>\n",
              "      <td>Heat</td>\n",
              "      <td>Obsessive master thief, Neil McCauley leads a ...</td>\n",
              "      <td>[{'id': 28, 'name': 'Action'}, {'id': 80, 'nam...</td>\n",
              "      <td>Heat</td>\n",
              "      <td>[{'id': 642, 'name': 'robbery'}, {'id': 703, '...</td>\n",
              "      <td>[{'cast_id': 25, 'character': 'Lt. Vincent Han...</td>\n",
              "    </tr>\n",
              "  </tbody>\n",
              "</table>\n",
              "</div>\n",
              "      <button class=\"colab-df-convert\" onclick=\"convertToInteractive('df-767cdac6-7103-438d-b912-886f6f20b493')\"\n",
              "              title=\"Convert this dataframe to an interactive table.\"\n",
              "              style=\"display:none;\">\n",
              "        \n",
              "  <svg xmlns=\"http://www.w3.org/2000/svg\" height=\"24px\"viewBox=\"0 0 24 24\"\n",
              "       width=\"24px\">\n",
              "    <path d=\"M0 0h24v24H0V0z\" fill=\"none\"/>\n",
              "    <path d=\"M18.56 5.44l.94 2.06.94-2.06 2.06-.94-2.06-.94-.94-2.06-.94 2.06-2.06.94zm-11 1L8.5 8.5l.94-2.06 2.06-.94-2.06-.94L8.5 2.5l-.94 2.06-2.06.94zm10 10l.94 2.06.94-2.06 2.06-.94-2.06-.94-.94-2.06-.94 2.06-2.06.94z\"/><path d=\"M17.41 7.96l-1.37-1.37c-.4-.4-.92-.59-1.43-.59-.52 0-1.04.2-1.43.59L10.3 9.45l-7.72 7.72c-.78.78-.78 2.05 0 2.83L4 21.41c.39.39.9.59 1.41.59.51 0 1.02-.2 1.41-.59l7.78-7.78 2.81-2.81c.8-.78.8-2.07 0-2.86zM5.41 20L4 18.59l7.72-7.72 1.47 1.35L5.41 20z\"/>\n",
              "  </svg>\n",
              "      </button>\n",
              "      \n",
              "  <style>\n",
              "    .colab-df-container {\n",
              "      display:flex;\n",
              "      flex-wrap:wrap;\n",
              "      gap: 12px;\n",
              "    }\n",
              "\n",
              "    .colab-df-convert {\n",
              "      background-color: #E8F0FE;\n",
              "      border: none;\n",
              "      border-radius: 50%;\n",
              "      cursor: pointer;\n",
              "      display: none;\n",
              "      fill: #1967D2;\n",
              "      height: 32px;\n",
              "      padding: 0 0 0 0;\n",
              "      width: 32px;\n",
              "    }\n",
              "\n",
              "    .colab-df-convert:hover {\n",
              "      background-color: #E2EBFA;\n",
              "      box-shadow: 0px 1px 2px rgba(60, 64, 67, 0.3), 0px 1px 3px 1px rgba(60, 64, 67, 0.15);\n",
              "      fill: #174EA6;\n",
              "    }\n",
              "\n",
              "    [theme=dark] .colab-df-convert {\n",
              "      background-color: #3B4455;\n",
              "      fill: #D2E3FC;\n",
              "    }\n",
              "\n",
              "    [theme=dark] .colab-df-convert:hover {\n",
              "      background-color: #434B5C;\n",
              "      box-shadow: 0px 1px 3px 1px rgba(0, 0, 0, 0.15);\n",
              "      filter: drop-shadow(0px 1px 2px rgba(0, 0, 0, 0.3));\n",
              "      fill: #FFFFFF;\n",
              "    }\n",
              "  </style>\n",
              "\n",
              "      <script>\n",
              "        const buttonEl =\n",
              "          document.querySelector('#df-767cdac6-7103-438d-b912-886f6f20b493 button.colab-df-convert');\n",
              "        buttonEl.style.display =\n",
              "          google.colab.kernel.accessAllowed ? 'block' : 'none';\n",
              "\n",
              "        async function convertToInteractive(key) {\n",
              "          const element = document.querySelector('#df-767cdac6-7103-438d-b912-886f6f20b493');\n",
              "          const dataTable =\n",
              "            await google.colab.kernel.invokeFunction('convertToInteractive',\n",
              "                                                     [key], {});\n",
              "          if (!dataTable) return;\n",
              "\n",
              "          const docLinkHtml = 'Like what you see? Visit the ' +\n",
              "            '<a target=\"_blank\" href=https://colab.research.google.com/notebooks/data_table.ipynb>data table notebook</a>'\n",
              "            + ' to learn more about interactive tables.';\n",
              "          element.innerHTML = '';\n",
              "          dataTable['output_type'] = 'display_data';\n",
              "          await google.colab.output.renderOutput(dataTable, element);\n",
              "          const docLink = document.createElement('div');\n",
              "          docLink.innerHTML = docLinkHtml;\n",
              "          element.appendChild(docLink);\n",
              "        }\n",
              "      </script>\n",
              "    </div>\n",
              "  </div>\n",
              "  "
            ]
          },
          "metadata": {},
          "execution_count": 180
        }
      ],
      "source": [
        "#final dataframe\n",
        "df.head()"
      ]
    },
    {
      "cell_type": "markdown",
      "id": "95c88e8c",
      "metadata": {
        "papermill": {
          "duration": 0.044657,
          "end_time": "2022-06-04T18:26:25.649110",
          "exception": false,
          "start_time": "2022-06-04T18:26:25.604453",
          "status": "completed"
        },
        "tags": [],
        "id": "95c88e8c"
      },
      "source": [
        "### Let's fetch the genres, keywords, cast to vectorize them later"
      ]
    },
    {
      "cell_type": "code",
      "execution_count": null,
      "id": "d446395b",
      "metadata": {
        "execution": {
          "iopub.execute_input": "2022-06-04T18:26:25.741691Z",
          "iopub.status.busy": "2022-06-04T18:26:25.741295Z",
          "iopub.status.idle": "2022-06-04T18:26:25.976090Z",
          "shell.execute_reply": "2022-06-04T18:26:25.974924Z"
        },
        "papermill": {
          "duration": 0.283607,
          "end_time": "2022-06-04T18:26:25.978511",
          "exception": false,
          "start_time": "2022-06-04T18:26:25.694904",
          "status": "completed"
        },
        "tags": [],
        "id": "d446395b"
      },
      "outputs": [],
      "source": [
        "# Lets first start with cleaning the movies metadata\n",
        "# Fetchin the genre list from the column\n",
        "df['genres'] = df['genres'].apply(lambda x: [i['name'] for i in eval(x)])\n",
        "\n",
        "# Replaces spaces in between genre(ex - sci fi to scifi) and make it a string\n",
        "df['genres'] = df['genres'].apply(lambda x: ' '.join([i.replace(\" \",\"\") for i in x]))"
      ]
    },
    {
      "cell_type": "code",
      "execution_count": null,
      "id": "ddf5b60e",
      "metadata": {
        "execution": {
          "iopub.execute_input": "2022-06-04T18:26:26.071584Z",
          "iopub.status.busy": "2022-06-04T18:26:26.071204Z",
          "iopub.status.idle": "2022-06-04T18:26:26.078390Z",
          "shell.execute_reply": "2022-06-04T18:26:26.077385Z"
        },
        "papermill": {
          "duration": 0.056054,
          "end_time": "2022-06-04T18:26:26.080566",
          "exception": false,
          "start_time": "2022-06-04T18:26:26.024512",
          "status": "completed"
        },
        "tags": [],
        "id": "ddf5b60e"
      },
      "outputs": [],
      "source": [
        "# Filling the numm values as []\n",
        "df['keywords'].fillna('[]', inplace=True)"
      ]
    },
    {
      "cell_type": "code",
      "execution_count": null,
      "id": "d606e0bd",
      "metadata": {
        "execution": {
          "iopub.execute_input": "2022-06-04T18:26:26.172243Z",
          "iopub.status.busy": "2022-06-04T18:26:26.171850Z",
          "iopub.status.idle": "2022-06-04T18:26:26.745999Z",
          "shell.execute_reply": "2022-06-04T18:26:26.744952Z"
        },
        "papermill": {
          "duration": 0.622671,
          "end_time": "2022-06-04T18:26:26.748337",
          "exception": false,
          "start_time": "2022-06-04T18:26:26.125666",
          "status": "completed"
        },
        "tags": [],
        "id": "d606e0bd"
      },
      "outputs": [],
      "source": [
        "# Let's clean the keywords dataframe to extract the keywords\n",
        "# Fetchin the keyword list from the column     \n",
        "df['keywords'] = df['keywords'].apply(lambda x: [i['name'] for i in eval(x)])\n",
        "\n",
        "# Remove the expty spaces and join all the keyword wwwith spaces\n",
        "df['keywords'] = df['keywords'].apply(lambda x: ' '.join([i.replace(\" \",'') for i in x]))"
      ]
    },
    {
      "cell_type": "code",
      "execution_count": null,
      "id": "c8a34191",
      "metadata": {
        "execution": {
          "iopub.execute_input": "2022-06-04T18:26:26.842519Z",
          "iopub.status.busy": "2022-06-04T18:26:26.842129Z",
          "iopub.status.idle": "2022-06-04T18:26:26.850023Z",
          "shell.execute_reply": "2022-06-04T18:26:26.849024Z"
        },
        "papermill": {
          "duration": 0.05667,
          "end_time": "2022-06-04T18:26:26.852379",
          "exception": false,
          "start_time": "2022-06-04T18:26:26.795709",
          "status": "completed"
        },
        "tags": [],
        "id": "c8a34191"
      },
      "outputs": [],
      "source": [
        "# Filling the numm values as []\n",
        "df['cast'].fillna('[]', inplace=True)"
      ]
    },
    {
      "cell_type": "code",
      "execution_count": null,
      "id": "ca33f0e2",
      "metadata": {
        "execution": {
          "iopub.execute_input": "2022-06-04T18:26:26.948431Z",
          "iopub.status.busy": "2022-06-04T18:26:26.948003Z",
          "iopub.status.idle": "2022-06-04T18:26:31.974722Z",
          "shell.execute_reply": "2022-06-04T18:26:31.973709Z"
        },
        "papermill": {
          "duration": 5.077206,
          "end_time": "2022-06-04T18:26:31.977596",
          "exception": false,
          "start_time": "2022-06-04T18:26:26.900390",
          "status": "completed"
        },
        "tags": [],
        "id": "ca33f0e2"
      },
      "outputs": [],
      "source": [
        "# Let's clean the cast dataframe to extract the name of aactors from cast column\n",
        "# Fetchin the cast list from the column\n",
        "df['cast'] = df['cast'].apply(lambda x: [i['name'] for i in eval(x)])\n",
        "\n",
        "# Remove the expty spaces and join all the cast with spaces\n",
        "df['cast'] = df['cast'].apply(lambda x: ' '.join([i.replace(\" \",'') for i in x]))"
      ]
    },
    {
      "cell_type": "code",
      "execution_count": null,
      "id": "ad8a4aa0",
      "metadata": {
        "execution": {
          "iopub.execute_input": "2022-06-04T18:26:32.072987Z",
          "iopub.status.busy": "2022-06-04T18:26:32.072396Z",
          "iopub.status.idle": "2022-06-04T18:26:32.085891Z",
          "shell.execute_reply": "2022-06-04T18:26:32.084729Z"
        },
        "papermill": {
          "duration": 0.063505,
          "end_time": "2022-06-04T18:26:32.088207",
          "exception": false,
          "start_time": "2022-06-04T18:26:32.024702",
          "status": "completed"
        },
        "tags": [],
        "colab": {
          "base_uri": "https://localhost:8080/",
          "height": 206
        },
        "id": "ad8a4aa0",
        "outputId": "9dab4672-3aa8-4790-f79e-431cdc618184"
      },
      "outputs": [
        {
          "output_type": "execute_result",
          "data": {
            "text/plain": [
              "      id               original_title  \\\n",
              "0    862                    Toy Story   \n",
              "1   8844                      Jumanji   \n",
              "2  15602             Grumpier Old Men   \n",
              "3  11862  Father of the Bride Part II   \n",
              "4    949                         Heat   \n",
              "\n",
              "                                            overview  \\\n",
              "0  Led by Woody, Andy's toys live happily in his ...   \n",
              "1  When siblings Judy and Peter discover an encha...   \n",
              "2  A family wedding reignites the ancient feud be...   \n",
              "3  Just when George Banks has recovered from his ...   \n",
              "4  Obsessive master thief, Neil McCauley leads a ...   \n",
              "\n",
              "                        genres                        title  \\\n",
              "0      Animation Comedy Family                    Toy Story   \n",
              "1     Adventure Fantasy Family                      Jumanji   \n",
              "2               Romance Comedy             Grumpier Old Men   \n",
              "3                       Comedy  Father of the Bride Part II   \n",
              "4  Action Crime Drama Thriller                         Heat   \n",
              "\n",
              "                                            keywords  \\\n",
              "0  jealousy toy boy friendship friends rivalry bo...   \n",
              "1  boardgame disappearance basedonchildren'sbook ...   \n",
              "2     fishing bestfriend duringcreditsstinger oldmen   \n",
              "3  baby midlifecrisis confidence aging daughter m...   \n",
              "4  robbery detective bank obsession chase shootin...   \n",
              "\n",
              "                                                cast  \n",
              "0  TomHanks TimAllen DonRickles JimVarney Wallace...  \n",
              "1  RobinWilliams JonathanHyde KirstenDunst Bradle...  \n",
              "2  WalterMatthau JackLemmon Ann-Margret SophiaLor...  \n",
              "3  SteveMartin DianeKeaton MartinShort KimberlyWi...  \n",
              "4  AlPacino RobertDeNiro ValKilmer JonVoight TomS...  "
            ],
            "text/html": [
              "\n",
              "  <div id=\"df-23e8a7b5-3898-4dc3-9322-9d1632236487\">\n",
              "    <div class=\"colab-df-container\">\n",
              "      <div>\n",
              "<style scoped>\n",
              "    .dataframe tbody tr th:only-of-type {\n",
              "        vertical-align: middle;\n",
              "    }\n",
              "\n",
              "    .dataframe tbody tr th {\n",
              "        vertical-align: top;\n",
              "    }\n",
              "\n",
              "    .dataframe thead th {\n",
              "        text-align: right;\n",
              "    }\n",
              "</style>\n",
              "<table border=\"1\" class=\"dataframe\">\n",
              "  <thead>\n",
              "    <tr style=\"text-align: right;\">\n",
              "      <th></th>\n",
              "      <th>id</th>\n",
              "      <th>original_title</th>\n",
              "      <th>overview</th>\n",
              "      <th>genres</th>\n",
              "      <th>title</th>\n",
              "      <th>keywords</th>\n",
              "      <th>cast</th>\n",
              "    </tr>\n",
              "  </thead>\n",
              "  <tbody>\n",
              "    <tr>\n",
              "      <th>0</th>\n",
              "      <td>862</td>\n",
              "      <td>Toy Story</td>\n",
              "      <td>Led by Woody, Andy's toys live happily in his ...</td>\n",
              "      <td>Animation Comedy Family</td>\n",
              "      <td>Toy Story</td>\n",
              "      <td>jealousy toy boy friendship friends rivalry bo...</td>\n",
              "      <td>TomHanks TimAllen DonRickles JimVarney Wallace...</td>\n",
              "    </tr>\n",
              "    <tr>\n",
              "      <th>1</th>\n",
              "      <td>8844</td>\n",
              "      <td>Jumanji</td>\n",
              "      <td>When siblings Judy and Peter discover an encha...</td>\n",
              "      <td>Adventure Fantasy Family</td>\n",
              "      <td>Jumanji</td>\n",
              "      <td>boardgame disappearance basedonchildren'sbook ...</td>\n",
              "      <td>RobinWilliams JonathanHyde KirstenDunst Bradle...</td>\n",
              "    </tr>\n",
              "    <tr>\n",
              "      <th>2</th>\n",
              "      <td>15602</td>\n",
              "      <td>Grumpier Old Men</td>\n",
              "      <td>A family wedding reignites the ancient feud be...</td>\n",
              "      <td>Romance Comedy</td>\n",
              "      <td>Grumpier Old Men</td>\n",
              "      <td>fishing bestfriend duringcreditsstinger oldmen</td>\n",
              "      <td>WalterMatthau JackLemmon Ann-Margret SophiaLor...</td>\n",
              "    </tr>\n",
              "    <tr>\n",
              "      <th>3</th>\n",
              "      <td>11862</td>\n",
              "      <td>Father of the Bride Part II</td>\n",
              "      <td>Just when George Banks has recovered from his ...</td>\n",
              "      <td>Comedy</td>\n",
              "      <td>Father of the Bride Part II</td>\n",
              "      <td>baby midlifecrisis confidence aging daughter m...</td>\n",
              "      <td>SteveMartin DianeKeaton MartinShort KimberlyWi...</td>\n",
              "    </tr>\n",
              "    <tr>\n",
              "      <th>4</th>\n",
              "      <td>949</td>\n",
              "      <td>Heat</td>\n",
              "      <td>Obsessive master thief, Neil McCauley leads a ...</td>\n",
              "      <td>Action Crime Drama Thriller</td>\n",
              "      <td>Heat</td>\n",
              "      <td>robbery detective bank obsession chase shootin...</td>\n",
              "      <td>AlPacino RobertDeNiro ValKilmer JonVoight TomS...</td>\n",
              "    </tr>\n",
              "  </tbody>\n",
              "</table>\n",
              "</div>\n",
              "      <button class=\"colab-df-convert\" onclick=\"convertToInteractive('df-23e8a7b5-3898-4dc3-9322-9d1632236487')\"\n",
              "              title=\"Convert this dataframe to an interactive table.\"\n",
              "              style=\"display:none;\">\n",
              "        \n",
              "  <svg xmlns=\"http://www.w3.org/2000/svg\" height=\"24px\"viewBox=\"0 0 24 24\"\n",
              "       width=\"24px\">\n",
              "    <path d=\"M0 0h24v24H0V0z\" fill=\"none\"/>\n",
              "    <path d=\"M18.56 5.44l.94 2.06.94-2.06 2.06-.94-2.06-.94-.94-2.06-.94 2.06-2.06.94zm-11 1L8.5 8.5l.94-2.06 2.06-.94-2.06-.94L8.5 2.5l-.94 2.06-2.06.94zm10 10l.94 2.06.94-2.06 2.06-.94-2.06-.94-.94-2.06-.94 2.06-2.06.94z\"/><path d=\"M17.41 7.96l-1.37-1.37c-.4-.4-.92-.59-1.43-.59-.52 0-1.04.2-1.43.59L10.3 9.45l-7.72 7.72c-.78.78-.78 2.05 0 2.83L4 21.41c.39.39.9.59 1.41.59.51 0 1.02-.2 1.41-.59l7.78-7.78 2.81-2.81c.8-.78.8-2.07 0-2.86zM5.41 20L4 18.59l7.72-7.72 1.47 1.35L5.41 20z\"/>\n",
              "  </svg>\n",
              "      </button>\n",
              "      \n",
              "  <style>\n",
              "    .colab-df-container {\n",
              "      display:flex;\n",
              "      flex-wrap:wrap;\n",
              "      gap: 12px;\n",
              "    }\n",
              "\n",
              "    .colab-df-convert {\n",
              "      background-color: #E8F0FE;\n",
              "      border: none;\n",
              "      border-radius: 50%;\n",
              "      cursor: pointer;\n",
              "      display: none;\n",
              "      fill: #1967D2;\n",
              "      height: 32px;\n",
              "      padding: 0 0 0 0;\n",
              "      width: 32px;\n",
              "    }\n",
              "\n",
              "    .colab-df-convert:hover {\n",
              "      background-color: #E2EBFA;\n",
              "      box-shadow: 0px 1px 2px rgba(60, 64, 67, 0.3), 0px 1px 3px 1px rgba(60, 64, 67, 0.15);\n",
              "      fill: #174EA6;\n",
              "    }\n",
              "\n",
              "    [theme=dark] .colab-df-convert {\n",
              "      background-color: #3B4455;\n",
              "      fill: #D2E3FC;\n",
              "    }\n",
              "\n",
              "    [theme=dark] .colab-df-convert:hover {\n",
              "      background-color: #434B5C;\n",
              "      box-shadow: 0px 1px 3px 1px rgba(0, 0, 0, 0.15);\n",
              "      filter: drop-shadow(0px 1px 2px rgba(0, 0, 0, 0.3));\n",
              "      fill: #FFFFFF;\n",
              "    }\n",
              "  </style>\n",
              "\n",
              "      <script>\n",
              "        const buttonEl =\n",
              "          document.querySelector('#df-23e8a7b5-3898-4dc3-9322-9d1632236487 button.colab-df-convert');\n",
              "        buttonEl.style.display =\n",
              "          google.colab.kernel.accessAllowed ? 'block' : 'none';\n",
              "\n",
              "        async function convertToInteractive(key) {\n",
              "          const element = document.querySelector('#df-23e8a7b5-3898-4dc3-9322-9d1632236487');\n",
              "          const dataTable =\n",
              "            await google.colab.kernel.invokeFunction('convertToInteractive',\n",
              "                                                     [key], {});\n",
              "          if (!dataTable) return;\n",
              "\n",
              "          const docLinkHtml = 'Like what you see? Visit the ' +\n",
              "            '<a target=\"_blank\" href=https://colab.research.google.com/notebooks/data_table.ipynb>data table notebook</a>'\n",
              "            + ' to learn more about interactive tables.';\n",
              "          element.innerHTML = '';\n",
              "          dataTable['output_type'] = 'display_data';\n",
              "          await google.colab.output.renderOutput(dataTable, element);\n",
              "          const docLink = document.createElement('div');\n",
              "          docLink.innerHTML = docLinkHtml;\n",
              "          element.appendChild(docLink);\n",
              "        }\n",
              "      </script>\n",
              "    </div>\n",
              "  </div>\n",
              "  "
            ]
          },
          "metadata": {},
          "execution_count": 186
        }
      ],
      "source": [
        "df.head()"
      ]
    },
    {
      "cell_type": "markdown",
      "id": "25f9e2a0",
      "metadata": {
        "papermill": {
          "duration": 0.046066,
          "end_time": "2022-06-04T18:26:32.179789",
          "exception": false,
          "start_time": "2022-06-04T18:26:32.133723",
          "status": "completed"
        },
        "tags": [],
        "id": "25f9e2a0"
      },
      "source": [
        "### **Let's merge all content/description of movies as a single feature**"
      ]
    },
    {
      "cell_type": "code",
      "execution_count": null,
      "id": "bbf9c162",
      "metadata": {
        "execution": {
          "iopub.execute_input": "2022-06-04T18:26:32.272934Z",
          "iopub.status.busy": "2022-06-04T18:26:32.272303Z",
          "iopub.status.idle": "2022-06-04T18:26:32.352080Z",
          "shell.execute_reply": "2022-06-04T18:26:32.350833Z"
        },
        "papermill": {
          "duration": 0.129322,
          "end_time": "2022-06-04T18:26:32.354672",
          "exception": false,
          "start_time": "2022-06-04T18:26:32.225350",
          "status": "completed"
        },
        "tags": [],
        "id": "bbf9c162"
      },
      "outputs": [],
      "source": [
        "df['tags'] = df['overview'] + ' ' + df['genres'] +  ' ' + df['original_title'] + ' ' + df['keywords'] + ' ' + df['cast']"
      ]
    },
    {
      "cell_type": "code",
      "execution_count": null,
      "id": "893d5e6a",
      "metadata": {
        "execution": {
          "iopub.execute_input": "2022-06-04T18:26:32.448481Z",
          "iopub.status.busy": "2022-06-04T18:26:32.447816Z",
          "iopub.status.idle": "2022-06-04T18:26:32.458255Z",
          "shell.execute_reply": "2022-06-04T18:26:32.457395Z"
        },
        "papermill": {
          "duration": 0.060902,
          "end_time": "2022-06-04T18:26:32.460567",
          "exception": false,
          "start_time": "2022-06-04T18:26:32.399665",
          "status": "completed"
        },
        "tags": [],
        "id": "893d5e6a"
      },
      "outputs": [],
      "source": [
        "# Delete useless columns\n",
        "df.drop(columns=['genres','overview','original_title','keywords','cast'], inplace=True)"
      ]
    },
    {
      "cell_type": "code",
      "execution_count": null,
      "id": "9100e4cf",
      "metadata": {
        "execution": {
          "iopub.execute_input": "2022-06-04T18:26:32.555711Z",
          "iopub.status.busy": "2022-06-04T18:26:32.555001Z",
          "iopub.status.idle": "2022-06-04T18:26:32.566229Z",
          "shell.execute_reply": "2022-06-04T18:26:32.565174Z"
        },
        "papermill": {
          "duration": 0.062885,
          "end_time": "2022-06-04T18:26:32.569120",
          "exception": false,
          "start_time": "2022-06-04T18:26:32.506235",
          "status": "completed"
        },
        "tags": [],
        "colab": {
          "base_uri": "https://localhost:8080/",
          "height": 206
        },
        "id": "9100e4cf",
        "outputId": "096a2a64-b420-4807-ebd4-eb1f860be2c8"
      },
      "outputs": [
        {
          "output_type": "execute_result",
          "data": {
            "text/plain": [
              "      id                        title  \\\n",
              "0    862                    Toy Story   \n",
              "1   8844                      Jumanji   \n",
              "2  15602             Grumpier Old Men   \n",
              "3  11862  Father of the Bride Part II   \n",
              "4    949                         Heat   \n",
              "\n",
              "                                                tags  \n",
              "0  Led by Woody, Andy's toys live happily in his ...  \n",
              "1  When siblings Judy and Peter discover an encha...  \n",
              "2  A family wedding reignites the ancient feud be...  \n",
              "3  Just when George Banks has recovered from his ...  \n",
              "4  Obsessive master thief, Neil McCauley leads a ...  "
            ],
            "text/html": [
              "\n",
              "  <div id=\"df-33b39714-41eb-48c4-9b8c-b87ad84b3940\">\n",
              "    <div class=\"colab-df-container\">\n",
              "      <div>\n",
              "<style scoped>\n",
              "    .dataframe tbody tr th:only-of-type {\n",
              "        vertical-align: middle;\n",
              "    }\n",
              "\n",
              "    .dataframe tbody tr th {\n",
              "        vertical-align: top;\n",
              "    }\n",
              "\n",
              "    .dataframe thead th {\n",
              "        text-align: right;\n",
              "    }\n",
              "</style>\n",
              "<table border=\"1\" class=\"dataframe\">\n",
              "  <thead>\n",
              "    <tr style=\"text-align: right;\">\n",
              "      <th></th>\n",
              "      <th>id</th>\n",
              "      <th>title</th>\n",
              "      <th>tags</th>\n",
              "    </tr>\n",
              "  </thead>\n",
              "  <tbody>\n",
              "    <tr>\n",
              "      <th>0</th>\n",
              "      <td>862</td>\n",
              "      <td>Toy Story</td>\n",
              "      <td>Led by Woody, Andy's toys live happily in his ...</td>\n",
              "    </tr>\n",
              "    <tr>\n",
              "      <th>1</th>\n",
              "      <td>8844</td>\n",
              "      <td>Jumanji</td>\n",
              "      <td>When siblings Judy and Peter discover an encha...</td>\n",
              "    </tr>\n",
              "    <tr>\n",
              "      <th>2</th>\n",
              "      <td>15602</td>\n",
              "      <td>Grumpier Old Men</td>\n",
              "      <td>A family wedding reignites the ancient feud be...</td>\n",
              "    </tr>\n",
              "    <tr>\n",
              "      <th>3</th>\n",
              "      <td>11862</td>\n",
              "      <td>Father of the Bride Part II</td>\n",
              "      <td>Just when George Banks has recovered from his ...</td>\n",
              "    </tr>\n",
              "    <tr>\n",
              "      <th>4</th>\n",
              "      <td>949</td>\n",
              "      <td>Heat</td>\n",
              "      <td>Obsessive master thief, Neil McCauley leads a ...</td>\n",
              "    </tr>\n",
              "  </tbody>\n",
              "</table>\n",
              "</div>\n",
              "      <button class=\"colab-df-convert\" onclick=\"convertToInteractive('df-33b39714-41eb-48c4-9b8c-b87ad84b3940')\"\n",
              "              title=\"Convert this dataframe to an interactive table.\"\n",
              "              style=\"display:none;\">\n",
              "        \n",
              "  <svg xmlns=\"http://www.w3.org/2000/svg\" height=\"24px\"viewBox=\"0 0 24 24\"\n",
              "       width=\"24px\">\n",
              "    <path d=\"M0 0h24v24H0V0z\" fill=\"none\"/>\n",
              "    <path d=\"M18.56 5.44l.94 2.06.94-2.06 2.06-.94-2.06-.94-.94-2.06-.94 2.06-2.06.94zm-11 1L8.5 8.5l.94-2.06 2.06-.94-2.06-.94L8.5 2.5l-.94 2.06-2.06.94zm10 10l.94 2.06.94-2.06 2.06-.94-2.06-.94-.94-2.06-.94 2.06-2.06.94z\"/><path d=\"M17.41 7.96l-1.37-1.37c-.4-.4-.92-.59-1.43-.59-.52 0-1.04.2-1.43.59L10.3 9.45l-7.72 7.72c-.78.78-.78 2.05 0 2.83L4 21.41c.39.39.9.59 1.41.59.51 0 1.02-.2 1.41-.59l7.78-7.78 2.81-2.81c.8-.78.8-2.07 0-2.86zM5.41 20L4 18.59l7.72-7.72 1.47 1.35L5.41 20z\"/>\n",
              "  </svg>\n",
              "      </button>\n",
              "      \n",
              "  <style>\n",
              "    .colab-df-container {\n",
              "      display:flex;\n",
              "      flex-wrap:wrap;\n",
              "      gap: 12px;\n",
              "    }\n",
              "\n",
              "    .colab-df-convert {\n",
              "      background-color: #E8F0FE;\n",
              "      border: none;\n",
              "      border-radius: 50%;\n",
              "      cursor: pointer;\n",
              "      display: none;\n",
              "      fill: #1967D2;\n",
              "      height: 32px;\n",
              "      padding: 0 0 0 0;\n",
              "      width: 32px;\n",
              "    }\n",
              "\n",
              "    .colab-df-convert:hover {\n",
              "      background-color: #E2EBFA;\n",
              "      box-shadow: 0px 1px 2px rgba(60, 64, 67, 0.3), 0px 1px 3px 1px rgba(60, 64, 67, 0.15);\n",
              "      fill: #174EA6;\n",
              "    }\n",
              "\n",
              "    [theme=dark] .colab-df-convert {\n",
              "      background-color: #3B4455;\n",
              "      fill: #D2E3FC;\n",
              "    }\n",
              "\n",
              "    [theme=dark] .colab-df-convert:hover {\n",
              "      background-color: #434B5C;\n",
              "      box-shadow: 0px 1px 3px 1px rgba(0, 0, 0, 0.15);\n",
              "      filter: drop-shadow(0px 1px 2px rgba(0, 0, 0, 0.3));\n",
              "      fill: #FFFFFF;\n",
              "    }\n",
              "  </style>\n",
              "\n",
              "      <script>\n",
              "        const buttonEl =\n",
              "          document.querySelector('#df-33b39714-41eb-48c4-9b8c-b87ad84b3940 button.colab-df-convert');\n",
              "        buttonEl.style.display =\n",
              "          google.colab.kernel.accessAllowed ? 'block' : 'none';\n",
              "\n",
              "        async function convertToInteractive(key) {\n",
              "          const element = document.querySelector('#df-33b39714-41eb-48c4-9b8c-b87ad84b3940');\n",
              "          const dataTable =\n",
              "            await google.colab.kernel.invokeFunction('convertToInteractive',\n",
              "                                                     [key], {});\n",
              "          if (!dataTable) return;\n",
              "\n",
              "          const docLinkHtml = 'Like what you see? Visit the ' +\n",
              "            '<a target=\"_blank\" href=https://colab.research.google.com/notebooks/data_table.ipynb>data table notebook</a>'\n",
              "            + ' to learn more about interactive tables.';\n",
              "          element.innerHTML = '';\n",
              "          dataTable['output_type'] = 'display_data';\n",
              "          await google.colab.output.renderOutput(dataTable, element);\n",
              "          const docLink = document.createElement('div');\n",
              "          docLink.innerHTML = docLinkHtml;\n",
              "          element.appendChild(docLink);\n",
              "        }\n",
              "      </script>\n",
              "    </div>\n",
              "  </div>\n",
              "  "
            ]
          },
          "metadata": {},
          "execution_count": 189
        }
      ],
      "source": [
        "df.head()"
      ]
    },
    {
      "cell_type": "code",
      "execution_count": null,
      "id": "48834428",
      "metadata": {
        "execution": {
          "iopub.execute_input": "2022-06-04T18:26:32.665613Z",
          "iopub.status.busy": "2022-06-04T18:26:32.664905Z",
          "iopub.status.idle": "2022-06-04T18:26:32.676491Z",
          "shell.execute_reply": "2022-06-04T18:26:32.675627Z"
        },
        "papermill": {
          "duration": 0.061329,
          "end_time": "2022-06-04T18:26:32.678776",
          "exception": false,
          "start_time": "2022-06-04T18:26:32.617447",
          "status": "completed"
        },
        "tags": [],
        "colab": {
          "base_uri": "https://localhost:8080/"
        },
        "id": "48834428",
        "outputId": "437bbc32-9abe-4bb2-fa6a-71aa164b9f45"
      },
      "outputs": [
        {
          "output_type": "execute_result",
          "data": {
            "text/plain": [
              "id        0\n",
              "title     0\n",
              "tags     35\n",
              "dtype: int64"
            ]
          },
          "metadata": {},
          "execution_count": 190
        }
      ],
      "source": [
        "df.isnull().sum()"
      ]
    },
    {
      "cell_type": "markdown",
      "id": "01276dfc",
      "metadata": {
        "papermill": {
          "duration": 0.04752,
          "end_time": "2022-06-04T18:26:32.773001",
          "exception": false,
          "start_time": "2022-06-04T18:26:32.725481",
          "status": "completed"
        },
        "tags": [],
        "id": "01276dfc"
      },
      "source": [
        "* **These null values are the values for which the data was not available, hence, we would have to remove these records inorder to proceed further**"
      ]
    },
    {
      "cell_type": "code",
      "execution_count": null,
      "id": "f3ee6c82",
      "metadata": {
        "execution": {
          "iopub.execute_input": "2022-06-04T18:26:32.867766Z",
          "iopub.status.busy": "2022-06-04T18:26:32.867092Z",
          "iopub.status.idle": "2022-06-04T18:26:32.875734Z",
          "shell.execute_reply": "2022-06-04T18:26:32.874954Z"
        },
        "papermill": {
          "duration": 0.058638,
          "end_time": "2022-06-04T18:26:32.877975",
          "exception": false,
          "start_time": "2022-06-04T18:26:32.819337",
          "status": "completed"
        },
        "tags": [],
        "id": "f3ee6c82"
      },
      "outputs": [],
      "source": [
        "df.drop(df[df['tags'].isnull()].index, inplace=True)"
      ]
    },
    {
      "cell_type": "code",
      "execution_count": null,
      "id": "7fa5f703",
      "metadata": {
        "execution": {
          "iopub.execute_input": "2022-06-04T18:26:32.974369Z",
          "iopub.status.busy": "2022-06-04T18:26:32.973718Z",
          "iopub.status.idle": "2022-06-04T18:26:32.983524Z",
          "shell.execute_reply": "2022-06-04T18:26:32.982725Z"
        },
        "papermill": {
          "duration": 0.060551,
          "end_time": "2022-06-04T18:26:32.985767",
          "exception": false,
          "start_time": "2022-06-04T18:26:32.925216",
          "status": "completed"
        },
        "tags": [],
        "colab": {
          "base_uri": "https://localhost:8080/",
          "height": 206
        },
        "id": "7fa5f703",
        "outputId": "3df4c9f6-a074-4cbf-d98f-7b8a6a6b0c32"
      },
      "outputs": [
        {
          "output_type": "execute_result",
          "data": {
            "text/plain": [
              "      id                        title  \\\n",
              "0    862                    Toy Story   \n",
              "1   8844                      Jumanji   \n",
              "2  15602             Grumpier Old Men   \n",
              "3  11862  Father of the Bride Part II   \n",
              "4    949                         Heat   \n",
              "\n",
              "                                                tags  \n",
              "0  Led by Woody, Andy's toys live happily in his ...  \n",
              "1  When siblings Judy and Peter discover an encha...  \n",
              "2  A family wedding reignites the ancient feud be...  \n",
              "3  Just when George Banks has recovered from his ...  \n",
              "4  Obsessive master thief, Neil McCauley leads a ...  "
            ],
            "text/html": [
              "\n",
              "  <div id=\"df-c9e9caf8-6906-4a2e-a1b4-5f40f1dd1b9e\">\n",
              "    <div class=\"colab-df-container\">\n",
              "      <div>\n",
              "<style scoped>\n",
              "    .dataframe tbody tr th:only-of-type {\n",
              "        vertical-align: middle;\n",
              "    }\n",
              "\n",
              "    .dataframe tbody tr th {\n",
              "        vertical-align: top;\n",
              "    }\n",
              "\n",
              "    .dataframe thead th {\n",
              "        text-align: right;\n",
              "    }\n",
              "</style>\n",
              "<table border=\"1\" class=\"dataframe\">\n",
              "  <thead>\n",
              "    <tr style=\"text-align: right;\">\n",
              "      <th></th>\n",
              "      <th>id</th>\n",
              "      <th>title</th>\n",
              "      <th>tags</th>\n",
              "    </tr>\n",
              "  </thead>\n",
              "  <tbody>\n",
              "    <tr>\n",
              "      <th>0</th>\n",
              "      <td>862</td>\n",
              "      <td>Toy Story</td>\n",
              "      <td>Led by Woody, Andy's toys live happily in his ...</td>\n",
              "    </tr>\n",
              "    <tr>\n",
              "      <th>1</th>\n",
              "      <td>8844</td>\n",
              "      <td>Jumanji</td>\n",
              "      <td>When siblings Judy and Peter discover an encha...</td>\n",
              "    </tr>\n",
              "    <tr>\n",
              "      <th>2</th>\n",
              "      <td>15602</td>\n",
              "      <td>Grumpier Old Men</td>\n",
              "      <td>A family wedding reignites the ancient feud be...</td>\n",
              "    </tr>\n",
              "    <tr>\n",
              "      <th>3</th>\n",
              "      <td>11862</td>\n",
              "      <td>Father of the Bride Part II</td>\n",
              "      <td>Just when George Banks has recovered from his ...</td>\n",
              "    </tr>\n",
              "    <tr>\n",
              "      <th>4</th>\n",
              "      <td>949</td>\n",
              "      <td>Heat</td>\n",
              "      <td>Obsessive master thief, Neil McCauley leads a ...</td>\n",
              "    </tr>\n",
              "  </tbody>\n",
              "</table>\n",
              "</div>\n",
              "      <button class=\"colab-df-convert\" onclick=\"convertToInteractive('df-c9e9caf8-6906-4a2e-a1b4-5f40f1dd1b9e')\"\n",
              "              title=\"Convert this dataframe to an interactive table.\"\n",
              "              style=\"display:none;\">\n",
              "        \n",
              "  <svg xmlns=\"http://www.w3.org/2000/svg\" height=\"24px\"viewBox=\"0 0 24 24\"\n",
              "       width=\"24px\">\n",
              "    <path d=\"M0 0h24v24H0V0z\" fill=\"none\"/>\n",
              "    <path d=\"M18.56 5.44l.94 2.06.94-2.06 2.06-.94-2.06-.94-.94-2.06-.94 2.06-2.06.94zm-11 1L8.5 8.5l.94-2.06 2.06-.94-2.06-.94L8.5 2.5l-.94 2.06-2.06.94zm10 10l.94 2.06.94-2.06 2.06-.94-2.06-.94-.94-2.06-.94 2.06-2.06.94z\"/><path d=\"M17.41 7.96l-1.37-1.37c-.4-.4-.92-.59-1.43-.59-.52 0-1.04.2-1.43.59L10.3 9.45l-7.72 7.72c-.78.78-.78 2.05 0 2.83L4 21.41c.39.39.9.59 1.41.59.51 0 1.02-.2 1.41-.59l7.78-7.78 2.81-2.81c.8-.78.8-2.07 0-2.86zM5.41 20L4 18.59l7.72-7.72 1.47 1.35L5.41 20z\"/>\n",
              "  </svg>\n",
              "      </button>\n",
              "      \n",
              "  <style>\n",
              "    .colab-df-container {\n",
              "      display:flex;\n",
              "      flex-wrap:wrap;\n",
              "      gap: 12px;\n",
              "    }\n",
              "\n",
              "    .colab-df-convert {\n",
              "      background-color: #E8F0FE;\n",
              "      border: none;\n",
              "      border-radius: 50%;\n",
              "      cursor: pointer;\n",
              "      display: none;\n",
              "      fill: #1967D2;\n",
              "      height: 32px;\n",
              "      padding: 0 0 0 0;\n",
              "      width: 32px;\n",
              "    }\n",
              "\n",
              "    .colab-df-convert:hover {\n",
              "      background-color: #E2EBFA;\n",
              "      box-shadow: 0px 1px 2px rgba(60, 64, 67, 0.3), 0px 1px 3px 1px rgba(60, 64, 67, 0.15);\n",
              "      fill: #174EA6;\n",
              "    }\n",
              "\n",
              "    [theme=dark] .colab-df-convert {\n",
              "      background-color: #3B4455;\n",
              "      fill: #D2E3FC;\n",
              "    }\n",
              "\n",
              "    [theme=dark] .colab-df-convert:hover {\n",
              "      background-color: #434B5C;\n",
              "      box-shadow: 0px 1px 3px 1px rgba(0, 0, 0, 0.15);\n",
              "      filter: drop-shadow(0px 1px 2px rgba(0, 0, 0, 0.3));\n",
              "      fill: #FFFFFF;\n",
              "    }\n",
              "  </style>\n",
              "\n",
              "      <script>\n",
              "        const buttonEl =\n",
              "          document.querySelector('#df-c9e9caf8-6906-4a2e-a1b4-5f40f1dd1b9e button.colab-df-convert');\n",
              "        buttonEl.style.display =\n",
              "          google.colab.kernel.accessAllowed ? 'block' : 'none';\n",
              "\n",
              "        async function convertToInteractive(key) {\n",
              "          const element = document.querySelector('#df-c9e9caf8-6906-4a2e-a1b4-5f40f1dd1b9e');\n",
              "          const dataTable =\n",
              "            await google.colab.kernel.invokeFunction('convertToInteractive',\n",
              "                                                     [key], {});\n",
              "          if (!dataTable) return;\n",
              "\n",
              "          const docLinkHtml = 'Like what you see? Visit the ' +\n",
              "            '<a target=\"_blank\" href=https://colab.research.google.com/notebooks/data_table.ipynb>data table notebook</a>'\n",
              "            + ' to learn more about interactive tables.';\n",
              "          element.innerHTML = '';\n",
              "          dataTable['output_type'] = 'display_data';\n",
              "          await google.colab.output.renderOutput(dataTable, element);\n",
              "          const docLink = document.createElement('div');\n",
              "          docLink.innerHTML = docLinkHtml;\n",
              "          element.appendChild(docLink);\n",
              "        }\n",
              "      </script>\n",
              "    </div>\n",
              "  </div>\n",
              "  "
            ]
          },
          "metadata": {},
          "execution_count": 192
        }
      ],
      "source": [
        "df.head()"
      ]
    },
    {
      "cell_type": "code",
      "execution_count": null,
      "id": "50817298",
      "metadata": {
        "execution": {
          "iopub.execute_input": "2022-06-04T18:26:33.083006Z",
          "iopub.status.busy": "2022-06-04T18:26:33.082290Z",
          "iopub.status.idle": "2022-06-04T18:26:33.088023Z",
          "shell.execute_reply": "2022-06-04T18:26:33.087040Z"
        },
        "papermill": {
          "duration": 0.056175,
          "end_time": "2022-06-04T18:26:33.090147",
          "exception": false,
          "start_time": "2022-06-04T18:26:33.033972",
          "status": "completed"
        },
        "tags": [],
        "colab": {
          "base_uri": "https://localhost:8080/"
        },
        "id": "50817298",
        "outputId": "3c2e164f-28ab-4da3-99f6-a8180dc72686"
      },
      "outputs": [
        {
          "output_type": "execute_result",
          "data": {
            "text/plain": [
              "(8735, 3)"
            ]
          },
          "metadata": {},
          "execution_count": 193
        }
      ],
      "source": [
        "df.shape"
      ]
    },
    {
      "cell_type": "code",
      "execution_count": null,
      "id": "a6340846",
      "metadata": {
        "execution": {
          "iopub.execute_input": "2022-06-04T18:26:33.189567Z",
          "iopub.status.busy": "2022-06-04T18:26:33.188892Z",
          "iopub.status.idle": "2022-06-04T18:26:33.222853Z",
          "shell.execute_reply": "2022-06-04T18:26:33.221918Z"
        },
        "papermill": {
          "duration": 0.086229,
          "end_time": "2022-06-04T18:26:33.225197",
          "exception": false,
          "start_time": "2022-06-04T18:26:33.138968",
          "status": "completed"
        },
        "tags": [],
        "id": "a6340846"
      },
      "outputs": [],
      "source": [
        "df.drop_duplicates(inplace=True)"
      ]
    },
    {
      "cell_type": "code",
      "execution_count": null,
      "id": "34ad9012",
      "metadata": {
        "execution": {
          "iopub.execute_input": "2022-06-04T18:26:33.323967Z",
          "iopub.status.busy": "2022-06-04T18:26:33.323308Z",
          "iopub.status.idle": "2022-06-04T18:26:33.328737Z",
          "shell.execute_reply": "2022-06-04T18:26:33.327940Z"
        },
        "papermill": {
          "duration": 0.057132,
          "end_time": "2022-06-04T18:26:33.330718",
          "exception": false,
          "start_time": "2022-06-04T18:26:33.273586",
          "status": "completed"
        },
        "tags": [],
        "colab": {
          "base_uri": "https://localhost:8080/"
        },
        "id": "34ad9012",
        "outputId": "69a6338c-4640-40d2-836d-a7c8363a3730"
      },
      "outputs": [
        {
          "output_type": "execute_result",
          "data": {
            "text/plain": [
              "(8595, 3)"
            ]
          },
          "metadata": {},
          "execution_count": 195
        }
      ],
      "source": [
        "df.shape"
      ]
    },
    {
      "cell_type": "markdown",
      "id": "490922dd",
      "metadata": {
        "papermill": {
          "duration": 0.046545,
          "end_time": "2022-06-04T18:26:33.423712",
          "exception": false,
          "start_time": "2022-06-04T18:26:33.377167",
          "status": "completed"
        },
        "tags": [],
        "id": "490922dd"
      },
      "source": [
        "## **Convert the contents to vectors**\n",
        "\n",
        "As our model will not be able to understand text inputs we would have to vectorize them and make it in form of machine readable format"
      ]
    },
    {
      "cell_type": "code",
      "execution_count": null,
      "id": "e6f07364",
      "metadata": {
        "execution": {
          "iopub.execute_input": "2022-06-04T18:26:33.521457Z",
          "iopub.status.busy": "2022-06-04T18:26:33.520749Z",
          "iopub.status.idle": "2022-06-04T18:26:33.705542Z",
          "shell.execute_reply": "2022-06-04T18:26:33.704341Z"
        },
        "papermill": {
          "duration": 0.236907,
          "end_time": "2022-06-04T18:26:33.708156",
          "exception": false,
          "start_time": "2022-06-04T18:26:33.471249",
          "status": "completed"
        },
        "tags": [],
        "id": "e6f07364"
      },
      "outputs": [],
      "source": [
        "from sklearn.feature_extraction.text import TfidfVectorizer"
      ]
    },
    {
      "cell_type": "code",
      "execution_count": null,
      "id": "4ef27e60",
      "metadata": {
        "execution": {
          "iopub.execute_input": "2022-06-04T18:26:33.804892Z",
          "iopub.status.busy": "2022-06-04T18:26:33.804412Z",
          "iopub.status.idle": "2022-06-04T18:26:35.429534Z",
          "shell.execute_reply": "2022-06-04T18:26:35.428426Z"
        },
        "papermill": {
          "duration": 1.676593,
          "end_time": "2022-06-04T18:26:35.432005",
          "exception": false,
          "start_time": "2022-06-04T18:26:33.755412",
          "status": "completed"
        },
        "tags": [],
        "id": "4ef27e60"
      },
      "outputs": [],
      "source": [
        "# Initialize a tfidf object\n",
        "tfidf = TfidfVectorizer(max_features=5000)\n",
        "\n",
        "# Transform the data\n",
        "vectorized_data = tfidf.fit_transform(df['tags'].values)"
      ]
    },
    {
      "cell_type": "code",
      "execution_count": null,
      "id": "3734f345",
      "metadata": {
        "execution": {
          "iopub.execute_input": "2022-06-04T18:26:35.528368Z",
          "iopub.status.busy": "2022-06-04T18:26:35.527940Z",
          "iopub.status.idle": "2022-06-04T18:26:35.534330Z",
          "shell.execute_reply": "2022-06-04T18:26:35.533326Z"
        },
        "papermill": {
          "duration": 0.057541,
          "end_time": "2022-06-04T18:26:35.536547",
          "exception": false,
          "start_time": "2022-06-04T18:26:35.479006",
          "status": "completed"
        },
        "tags": [],
        "colab": {
          "base_uri": "https://localhost:8080/"
        },
        "id": "3734f345",
        "outputId": "6b426c35-7bda-47f6-b701-61b17f7eacbf"
      },
      "outputs": [
        {
          "output_type": "execute_result",
          "data": {
            "text/plain": [
              "<8595x5000 sparse matrix of type '<class 'numpy.float64'>'\n",
              "\twith 375635 stored elements in Compressed Sparse Row format>"
            ]
          },
          "metadata": {},
          "execution_count": 198
        }
      ],
      "source": [
        "vectorized_data"
      ]
    },
    {
      "cell_type": "code",
      "execution_count": null,
      "id": "5726c391",
      "metadata": {
        "execution": {
          "iopub.execute_input": "2022-06-04T18:26:35.633344Z",
          "iopub.status.busy": "2022-06-04T18:26:35.632890Z",
          "iopub.status.idle": "2022-06-04T18:26:36.091015Z",
          "shell.execute_reply": "2022-06-04T18:26:36.089819Z"
        },
        "papermill": {
          "duration": 0.50915,
          "end_time": "2022-06-04T18:26:36.093392",
          "exception": false,
          "start_time": "2022-06-04T18:26:35.584242",
          "status": "completed"
        },
        "tags": [],
        "id": "5726c391",
        "colab": {
          "base_uri": "https://localhost:8080/"
        },
        "outputId": "4dc873bd-e5ba-4d53-a424-cf3d5edf9fbd"
      },
      "outputs": [
        {
          "output_type": "stream",
          "name": "stdout",
          "text": [
            "vectorized_dataframe.shape : (8595, 5000)\n"
          ]
        }
      ],
      "source": [
        "vectorized_dataframe = pd.DataFrame(vectorized_data.toarray(), index=df['tags'].index.tolist())\n",
        "print(\"vectorized_dataframe.shape :\",vectorized_dataframe.shape )"
      ]
    },
    {
      "cell_type": "code",
      "source": [
        "vectorized_dataframe"
      ],
      "metadata": {
        "colab": {
          "base_uri": "https://localhost:8080/",
          "height": 423
        },
        "id": "CI1y6OdxfNNl",
        "outputId": "657571cc-dcd7-407c-bf0c-e5cafb3f972e"
      },
      "id": "CI1y6OdxfNNl",
      "execution_count": null,
      "outputs": [
        {
          "output_type": "execute_result",
          "data": {
            "text/plain": [
              "      0     1     2     3     4     5     6     7     8     9     ...  4990  \\\n",
              "0      0.0   0.0   0.0   0.0   0.0   0.0   0.0   0.0   0.0   0.0  ...   0.0   \n",
              "1      0.0   0.0   0.0   0.0   0.0   0.0   0.0   0.0   0.0   0.0  ...   0.0   \n",
              "2      0.0   0.0   0.0   0.0   0.0   0.0   0.0   0.0   0.0   0.0  ...   0.0   \n",
              "3      0.0   0.0   0.0   0.0   0.0   0.0   0.0   0.0   0.0   0.0  ...   0.0   \n",
              "4      0.0   0.0   0.0   0.0   0.0   0.0   0.0   0.0   0.0   0.0  ...   0.0   \n",
              "...    ...   ...   ...   ...   ...   ...   ...   ...   ...   ...  ...   ...   \n",
              "8765   0.0   0.0   0.0   0.0   0.0   0.0   0.0   0.0   0.0   0.0  ...   0.0   \n",
              "8766   0.0   0.0   0.0   0.0   0.0   0.0   0.0   0.0   0.0   0.0  ...   0.0   \n",
              "8767   0.0   0.0   0.0   0.0   0.0   0.0   0.0   0.0   0.0   0.0  ...   0.0   \n",
              "8768   0.0   0.0   0.0   0.0   0.0   0.0   0.0   0.0   0.0   0.0  ...   0.0   \n",
              "8769   0.0   0.0   0.0   0.0   0.0   0.0   0.0   0.0   0.0   0.0  ...   0.0   \n",
              "\n",
              "      4991  4992  4993  4994  4995  4996  4997  4998  4999  \n",
              "0      0.0   0.0   0.0   0.0   0.0   0.0   0.0   0.0   0.0  \n",
              "1      0.0   0.0   0.0   0.0   0.0   0.0   0.0   0.0   0.0  \n",
              "2      0.0   0.0   0.0   0.0   0.0   0.0   0.0   0.0   0.0  \n",
              "3      0.0   0.0   0.0   0.0   0.0   0.0   0.0   0.0   0.0  \n",
              "4      0.0   0.0   0.0   0.0   0.0   0.0   0.0   0.0   0.0  \n",
              "...    ...   ...   ...   ...   ...   ...   ...   ...   ...  \n",
              "8765   0.0   0.0   0.0   0.0   0.0   0.0   0.0   0.0   0.0  \n",
              "8766   0.0   0.0   0.0   0.0   0.0   0.0   0.0   0.0   0.0  \n",
              "8767   0.0   0.0   0.0   0.0   0.0   0.0   0.0   0.0   0.0  \n",
              "8768   0.0   0.0   0.0   0.0   0.0   0.0   0.0   0.0   0.0  \n",
              "8769   0.0   0.0   0.0   0.0   0.0   0.0   0.0   0.0   0.0  \n",
              "\n",
              "[8595 rows x 5000 columns]"
            ],
            "text/html": [
              "\n",
              "  <div id=\"df-7bf1052d-da02-4346-9f2c-902ba57768ec\">\n",
              "    <div class=\"colab-df-container\">\n",
              "      <div>\n",
              "<style scoped>\n",
              "    .dataframe tbody tr th:only-of-type {\n",
              "        vertical-align: middle;\n",
              "    }\n",
              "\n",
              "    .dataframe tbody tr th {\n",
              "        vertical-align: top;\n",
              "    }\n",
              "\n",
              "    .dataframe thead th {\n",
              "        text-align: right;\n",
              "    }\n",
              "</style>\n",
              "<table border=\"1\" class=\"dataframe\">\n",
              "  <thead>\n",
              "    <tr style=\"text-align: right;\">\n",
              "      <th></th>\n",
              "      <th>0</th>\n",
              "      <th>1</th>\n",
              "      <th>2</th>\n",
              "      <th>3</th>\n",
              "      <th>4</th>\n",
              "      <th>5</th>\n",
              "      <th>6</th>\n",
              "      <th>7</th>\n",
              "      <th>8</th>\n",
              "      <th>9</th>\n",
              "      <th>...</th>\n",
              "      <th>4990</th>\n",
              "      <th>4991</th>\n",
              "      <th>4992</th>\n",
              "      <th>4993</th>\n",
              "      <th>4994</th>\n",
              "      <th>4995</th>\n",
              "      <th>4996</th>\n",
              "      <th>4997</th>\n",
              "      <th>4998</th>\n",
              "      <th>4999</th>\n",
              "    </tr>\n",
              "  </thead>\n",
              "  <tbody>\n",
              "    <tr>\n",
              "      <th>0</th>\n",
              "      <td>0.0</td>\n",
              "      <td>0.0</td>\n",
              "      <td>0.0</td>\n",
              "      <td>0.0</td>\n",
              "      <td>0.0</td>\n",
              "      <td>0.0</td>\n",
              "      <td>0.0</td>\n",
              "      <td>0.0</td>\n",
              "      <td>0.0</td>\n",
              "      <td>0.0</td>\n",
              "      <td>...</td>\n",
              "      <td>0.0</td>\n",
              "      <td>0.0</td>\n",
              "      <td>0.0</td>\n",
              "      <td>0.0</td>\n",
              "      <td>0.0</td>\n",
              "      <td>0.0</td>\n",
              "      <td>0.0</td>\n",
              "      <td>0.0</td>\n",
              "      <td>0.0</td>\n",
              "      <td>0.0</td>\n",
              "    </tr>\n",
              "    <tr>\n",
              "      <th>1</th>\n",
              "      <td>0.0</td>\n",
              "      <td>0.0</td>\n",
              "      <td>0.0</td>\n",
              "      <td>0.0</td>\n",
              "      <td>0.0</td>\n",
              "      <td>0.0</td>\n",
              "      <td>0.0</td>\n",
              "      <td>0.0</td>\n",
              "      <td>0.0</td>\n",
              "      <td>0.0</td>\n",
              "      <td>...</td>\n",
              "      <td>0.0</td>\n",
              "      <td>0.0</td>\n",
              "      <td>0.0</td>\n",
              "      <td>0.0</td>\n",
              "      <td>0.0</td>\n",
              "      <td>0.0</td>\n",
              "      <td>0.0</td>\n",
              "      <td>0.0</td>\n",
              "      <td>0.0</td>\n",
              "      <td>0.0</td>\n",
              "    </tr>\n",
              "    <tr>\n",
              "      <th>2</th>\n",
              "      <td>0.0</td>\n",
              "      <td>0.0</td>\n",
              "      <td>0.0</td>\n",
              "      <td>0.0</td>\n",
              "      <td>0.0</td>\n",
              "      <td>0.0</td>\n",
              "      <td>0.0</td>\n",
              "      <td>0.0</td>\n",
              "      <td>0.0</td>\n",
              "      <td>0.0</td>\n",
              "      <td>...</td>\n",
              "      <td>0.0</td>\n",
              "      <td>0.0</td>\n",
              "      <td>0.0</td>\n",
              "      <td>0.0</td>\n",
              "      <td>0.0</td>\n",
              "      <td>0.0</td>\n",
              "      <td>0.0</td>\n",
              "      <td>0.0</td>\n",
              "      <td>0.0</td>\n",
              "      <td>0.0</td>\n",
              "    </tr>\n",
              "    <tr>\n",
              "      <th>3</th>\n",
              "      <td>0.0</td>\n",
              "      <td>0.0</td>\n",
              "      <td>0.0</td>\n",
              "      <td>0.0</td>\n",
              "      <td>0.0</td>\n",
              "      <td>0.0</td>\n",
              "      <td>0.0</td>\n",
              "      <td>0.0</td>\n",
              "      <td>0.0</td>\n",
              "      <td>0.0</td>\n",
              "      <td>...</td>\n",
              "      <td>0.0</td>\n",
              "      <td>0.0</td>\n",
              "      <td>0.0</td>\n",
              "      <td>0.0</td>\n",
              "      <td>0.0</td>\n",
              "      <td>0.0</td>\n",
              "      <td>0.0</td>\n",
              "      <td>0.0</td>\n",
              "      <td>0.0</td>\n",
              "      <td>0.0</td>\n",
              "    </tr>\n",
              "    <tr>\n",
              "      <th>4</th>\n",
              "      <td>0.0</td>\n",
              "      <td>0.0</td>\n",
              "      <td>0.0</td>\n",
              "      <td>0.0</td>\n",
              "      <td>0.0</td>\n",
              "      <td>0.0</td>\n",
              "      <td>0.0</td>\n",
              "      <td>0.0</td>\n",
              "      <td>0.0</td>\n",
              "      <td>0.0</td>\n",
              "      <td>...</td>\n",
              "      <td>0.0</td>\n",
              "      <td>0.0</td>\n",
              "      <td>0.0</td>\n",
              "      <td>0.0</td>\n",
              "      <td>0.0</td>\n",
              "      <td>0.0</td>\n",
              "      <td>0.0</td>\n",
              "      <td>0.0</td>\n",
              "      <td>0.0</td>\n",
              "      <td>0.0</td>\n",
              "    </tr>\n",
              "    <tr>\n",
              "      <th>...</th>\n",
              "      <td>...</td>\n",
              "      <td>...</td>\n",
              "      <td>...</td>\n",
              "      <td>...</td>\n",
              "      <td>...</td>\n",
              "      <td>...</td>\n",
              "      <td>...</td>\n",
              "      <td>...</td>\n",
              "      <td>...</td>\n",
              "      <td>...</td>\n",
              "      <td>...</td>\n",
              "      <td>...</td>\n",
              "      <td>...</td>\n",
              "      <td>...</td>\n",
              "      <td>...</td>\n",
              "      <td>...</td>\n",
              "      <td>...</td>\n",
              "      <td>...</td>\n",
              "      <td>...</td>\n",
              "      <td>...</td>\n",
              "      <td>...</td>\n",
              "    </tr>\n",
              "    <tr>\n",
              "      <th>8765</th>\n",
              "      <td>0.0</td>\n",
              "      <td>0.0</td>\n",
              "      <td>0.0</td>\n",
              "      <td>0.0</td>\n",
              "      <td>0.0</td>\n",
              "      <td>0.0</td>\n",
              "      <td>0.0</td>\n",
              "      <td>0.0</td>\n",
              "      <td>0.0</td>\n",
              "      <td>0.0</td>\n",
              "      <td>...</td>\n",
              "      <td>0.0</td>\n",
              "      <td>0.0</td>\n",
              "      <td>0.0</td>\n",
              "      <td>0.0</td>\n",
              "      <td>0.0</td>\n",
              "      <td>0.0</td>\n",
              "      <td>0.0</td>\n",
              "      <td>0.0</td>\n",
              "      <td>0.0</td>\n",
              "      <td>0.0</td>\n",
              "    </tr>\n",
              "    <tr>\n",
              "      <th>8766</th>\n",
              "      <td>0.0</td>\n",
              "      <td>0.0</td>\n",
              "      <td>0.0</td>\n",
              "      <td>0.0</td>\n",
              "      <td>0.0</td>\n",
              "      <td>0.0</td>\n",
              "      <td>0.0</td>\n",
              "      <td>0.0</td>\n",
              "      <td>0.0</td>\n",
              "      <td>0.0</td>\n",
              "      <td>...</td>\n",
              "      <td>0.0</td>\n",
              "      <td>0.0</td>\n",
              "      <td>0.0</td>\n",
              "      <td>0.0</td>\n",
              "      <td>0.0</td>\n",
              "      <td>0.0</td>\n",
              "      <td>0.0</td>\n",
              "      <td>0.0</td>\n",
              "      <td>0.0</td>\n",
              "      <td>0.0</td>\n",
              "    </tr>\n",
              "    <tr>\n",
              "      <th>8767</th>\n",
              "      <td>0.0</td>\n",
              "      <td>0.0</td>\n",
              "      <td>0.0</td>\n",
              "      <td>0.0</td>\n",
              "      <td>0.0</td>\n",
              "      <td>0.0</td>\n",
              "      <td>0.0</td>\n",
              "      <td>0.0</td>\n",
              "      <td>0.0</td>\n",
              "      <td>0.0</td>\n",
              "      <td>...</td>\n",
              "      <td>0.0</td>\n",
              "      <td>0.0</td>\n",
              "      <td>0.0</td>\n",
              "      <td>0.0</td>\n",
              "      <td>0.0</td>\n",
              "      <td>0.0</td>\n",
              "      <td>0.0</td>\n",
              "      <td>0.0</td>\n",
              "      <td>0.0</td>\n",
              "      <td>0.0</td>\n",
              "    </tr>\n",
              "    <tr>\n",
              "      <th>8768</th>\n",
              "      <td>0.0</td>\n",
              "      <td>0.0</td>\n",
              "      <td>0.0</td>\n",
              "      <td>0.0</td>\n",
              "      <td>0.0</td>\n",
              "      <td>0.0</td>\n",
              "      <td>0.0</td>\n",
              "      <td>0.0</td>\n",
              "      <td>0.0</td>\n",
              "      <td>0.0</td>\n",
              "      <td>...</td>\n",
              "      <td>0.0</td>\n",
              "      <td>0.0</td>\n",
              "      <td>0.0</td>\n",
              "      <td>0.0</td>\n",
              "      <td>0.0</td>\n",
              "      <td>0.0</td>\n",
              "      <td>0.0</td>\n",
              "      <td>0.0</td>\n",
              "      <td>0.0</td>\n",
              "      <td>0.0</td>\n",
              "    </tr>\n",
              "    <tr>\n",
              "      <th>8769</th>\n",
              "      <td>0.0</td>\n",
              "      <td>0.0</td>\n",
              "      <td>0.0</td>\n",
              "      <td>0.0</td>\n",
              "      <td>0.0</td>\n",
              "      <td>0.0</td>\n",
              "      <td>0.0</td>\n",
              "      <td>0.0</td>\n",
              "      <td>0.0</td>\n",
              "      <td>0.0</td>\n",
              "      <td>...</td>\n",
              "      <td>0.0</td>\n",
              "      <td>0.0</td>\n",
              "      <td>0.0</td>\n",
              "      <td>0.0</td>\n",
              "      <td>0.0</td>\n",
              "      <td>0.0</td>\n",
              "      <td>0.0</td>\n",
              "      <td>0.0</td>\n",
              "      <td>0.0</td>\n",
              "      <td>0.0</td>\n",
              "    </tr>\n",
              "  </tbody>\n",
              "</table>\n",
              "<p>8595 rows × 5000 columns</p>\n",
              "</div>\n",
              "      <button class=\"colab-df-convert\" onclick=\"convertToInteractive('df-7bf1052d-da02-4346-9f2c-902ba57768ec')\"\n",
              "              title=\"Convert this dataframe to an interactive table.\"\n",
              "              style=\"display:none;\">\n",
              "        \n",
              "  <svg xmlns=\"http://www.w3.org/2000/svg\" height=\"24px\"viewBox=\"0 0 24 24\"\n",
              "       width=\"24px\">\n",
              "    <path d=\"M0 0h24v24H0V0z\" fill=\"none\"/>\n",
              "    <path d=\"M18.56 5.44l.94 2.06.94-2.06 2.06-.94-2.06-.94-.94-2.06-.94 2.06-2.06.94zm-11 1L8.5 8.5l.94-2.06 2.06-.94-2.06-.94L8.5 2.5l-.94 2.06-2.06.94zm10 10l.94 2.06.94-2.06 2.06-.94-2.06-.94-.94-2.06-.94 2.06-2.06.94z\"/><path d=\"M17.41 7.96l-1.37-1.37c-.4-.4-.92-.59-1.43-.59-.52 0-1.04.2-1.43.59L10.3 9.45l-7.72 7.72c-.78.78-.78 2.05 0 2.83L4 21.41c.39.39.9.59 1.41.59.51 0 1.02-.2 1.41-.59l7.78-7.78 2.81-2.81c.8-.78.8-2.07 0-2.86zM5.41 20L4 18.59l7.72-7.72 1.47 1.35L5.41 20z\"/>\n",
              "  </svg>\n",
              "      </button>\n",
              "      \n",
              "  <style>\n",
              "    .colab-df-container {\n",
              "      display:flex;\n",
              "      flex-wrap:wrap;\n",
              "      gap: 12px;\n",
              "    }\n",
              "\n",
              "    .colab-df-convert {\n",
              "      background-color: #E8F0FE;\n",
              "      border: none;\n",
              "      border-radius: 50%;\n",
              "      cursor: pointer;\n",
              "      display: none;\n",
              "      fill: #1967D2;\n",
              "      height: 32px;\n",
              "      padding: 0 0 0 0;\n",
              "      width: 32px;\n",
              "    }\n",
              "\n",
              "    .colab-df-convert:hover {\n",
              "      background-color: #E2EBFA;\n",
              "      box-shadow: 0px 1px 2px rgba(60, 64, 67, 0.3), 0px 1px 3px 1px rgba(60, 64, 67, 0.15);\n",
              "      fill: #174EA6;\n",
              "    }\n",
              "\n",
              "    [theme=dark] .colab-df-convert {\n",
              "      background-color: #3B4455;\n",
              "      fill: #D2E3FC;\n",
              "    }\n",
              "\n",
              "    [theme=dark] .colab-df-convert:hover {\n",
              "      background-color: #434B5C;\n",
              "      box-shadow: 0px 1px 3px 1px rgba(0, 0, 0, 0.15);\n",
              "      filter: drop-shadow(0px 1px 2px rgba(0, 0, 0, 0.3));\n",
              "      fill: #FFFFFF;\n",
              "    }\n",
              "  </style>\n",
              "\n",
              "      <script>\n",
              "        const buttonEl =\n",
              "          document.querySelector('#df-7bf1052d-da02-4346-9f2c-902ba57768ec button.colab-df-convert');\n",
              "        buttonEl.style.display =\n",
              "          google.colab.kernel.accessAllowed ? 'block' : 'none';\n",
              "\n",
              "        async function convertToInteractive(key) {\n",
              "          const element = document.querySelector('#df-7bf1052d-da02-4346-9f2c-902ba57768ec');\n",
              "          const dataTable =\n",
              "            await google.colab.kernel.invokeFunction('convertToInteractive',\n",
              "                                                     [key], {});\n",
              "          if (!dataTable) return;\n",
              "\n",
              "          const docLinkHtml = 'Like what you see? Visit the ' +\n",
              "            '<a target=\"_blank\" href=https://colab.research.google.com/notebooks/data_table.ipynb>data table notebook</a>'\n",
              "            + ' to learn more about interactive tables.';\n",
              "          element.innerHTML = '';\n",
              "          dataTable['output_type'] = 'display_data';\n",
              "          await google.colab.output.renderOutput(dataTable, element);\n",
              "          const docLink = document.createElement('div');\n",
              "          docLink.innerHTML = docLinkHtml;\n",
              "          element.appendChild(docLink);\n",
              "        }\n",
              "      </script>\n",
              "    </div>\n",
              "  </div>\n",
              "  "
            ]
          },
          "metadata": {},
          "execution_count": 200
        }
      ]
    },
    {
      "cell_type": "markdown",
      "id": "33f861be",
      "metadata": {
        "papermill": {
          "duration": 0.046775,
          "end_time": "2022-06-04T18:26:36.187607",
          "exception": false,
          "start_time": "2022-06-04T18:26:36.140832",
          "status": "completed"
        },
        "tags": [],
        "id": "33f861be"
      },
      "source": [
        "## **Perform Dimension Reduction**\n",
        "\n",
        "We are gonna perform dimensional reduction as computing similarities with such huge dimensions would be exremely computationally expensive"
      ]
    },
    {
      "cell_type": "code",
      "execution_count": null,
      "id": "3db4e31b",
      "metadata": {
        "execution": {
          "iopub.execute_input": "2022-06-04T18:26:36.282421Z",
          "iopub.status.busy": "2022-06-04T18:26:36.281988Z",
          "iopub.status.idle": "2022-06-04T18:26:36.464628Z",
          "shell.execute_reply": "2022-06-04T18:26:36.463590Z"
        },
        "papermill": {
          "duration": 0.232614,
          "end_time": "2022-06-04T18:26:36.466955",
          "exception": false,
          "start_time": "2022-06-04T18:26:36.234341",
          "status": "completed"
        },
        "tags": [],
        "id": "3db4e31b"
      },
      "outputs": [],
      "source": [
        "from sklearn.decomposition import TruncatedSVD"
      ]
    },
    {
      "cell_type": "code",
      "execution_count": null,
      "id": "bdf0b6d2",
      "metadata": {
        "execution": {
          "iopub.execute_input": "2022-06-04T18:26:36.563240Z",
          "iopub.status.busy": "2022-06-04T18:26:36.562803Z",
          "iopub.status.idle": "2022-06-04T18:28:18.329140Z",
          "shell.execute_reply": "2022-06-04T18:28:18.328181Z"
        },
        "papermill": {
          "duration": 101.862131,
          "end_time": "2022-06-04T18:28:18.377037",
          "exception": false,
          "start_time": "2022-06-04T18:26:36.514906",
          "status": "completed"
        },
        "tags": [],
        "colab": {
          "base_uri": "https://localhost:8080/"
        },
        "id": "bdf0b6d2",
        "outputId": "1184b398-d5b0-4200-f3a8-e83a7a2143bd"
      },
      "outputs": [
        {
          "output_type": "execute_result",
          "data": {
            "text/plain": [
              "(8595, 3000)"
            ]
          },
          "metadata": {},
          "execution_count": 202
        }
      ],
      "source": [
        "# Initialize a PCA object\n",
        "svd = TruncatedSVD(n_components=3000)\n",
        "\n",
        "# Fit transform the data\n",
        "reduced_data = svd.fit_transform(vectorized_dataframe)\n",
        "\n",
        "# Print the shape\n",
        "reduced_data.shape"
      ]
    },
    {
      "cell_type": "code",
      "source": [
        "type(reduced_data)\n",
        "pd.DataFrame(reduced_data)"
      ],
      "metadata": {
        "colab": {
          "base_uri": "https://localhost:8080/",
          "height": 423
        },
        "id": "ZpbZCF_MgosY",
        "outputId": "8924e57a-76f0-4ebd-8f0b-7ea3901f3f54"
      },
      "id": "ZpbZCF_MgosY",
      "execution_count": null,
      "outputs": [
        {
          "output_type": "execute_result",
          "data": {
            "text/plain": [
              "          0         1         2         3         4         5         6     \\\n",
              "0     0.139003 -0.019699  0.011627  0.064827 -0.054754  0.004788  0.042422   \n",
              "1     0.212309 -0.035660 -0.045956  0.097111  0.033862 -0.069007  0.032509   \n",
              "2     0.195794  0.094501 -0.039028  0.011741 -0.059289 -0.017042 -0.022946   \n",
              "3     0.256830  0.039630  0.090064  0.043781 -0.033856 -0.058046 -0.070625   \n",
              "4     0.153441 -0.050863 -0.003514  0.017283  0.122651  0.110975  0.026069   \n",
              "...        ...       ...       ...       ...       ...       ...       ...   \n",
              "8590  0.339936 -0.064954  0.132725 -0.029665 -0.086280  0.010889 -0.046212   \n",
              "8591  0.259158 -0.085939 -0.079302  0.040288 -0.087677  0.069818  0.006047   \n",
              "8592  0.216518 -0.099889 -0.080659 -0.059704  0.030262 -0.055619  0.048568   \n",
              "8593  0.278910 -0.021182  0.112876 -0.015884 -0.145934  0.009911  0.060736   \n",
              "8594  0.197193  0.164888 -0.051368 -0.004574 -0.004907 -0.046432 -0.032964   \n",
              "\n",
              "          7         8         9     ...      2990      2991      2992  \\\n",
              "0    -0.061905 -0.006149 -0.023124  ...  0.004485 -0.002769  0.006878   \n",
              "1    -0.024120  0.043341  0.057915  ...  0.004870 -0.007362 -0.000772   \n",
              "2     0.028915 -0.049783  0.042210  ...  0.000193 -0.009350 -0.004503   \n",
              "3    -0.014066  0.026313 -0.056321  ... -0.004486 -0.000609  0.001676   \n",
              "4     0.024661 -0.088494  0.008259  ...  0.003003  0.008125 -0.006692   \n",
              "...        ...       ...       ...  ...       ...       ...       ...   \n",
              "8590 -0.014159  0.022919 -0.023377  ...  0.004403  0.000696 -0.006007   \n",
              "8591  0.012006  0.017070 -0.032988  ... -0.001895 -0.007181  0.010350   \n",
              "8592 -0.002919 -0.036502  0.031121  ...  0.009133 -0.007847 -0.001032   \n",
              "8593 -0.135193 -0.002653  0.001545  ...  0.003989 -0.008305  0.004426   \n",
              "8594  0.033862 -0.064808 -0.010930  ...  0.002000  0.004090  0.005880   \n",
              "\n",
              "          2993      2994      2995      2996      2997      2998      2999  \n",
              "0    -0.000445 -0.006775 -0.009387  0.008006 -0.011329  0.002563  0.010269  \n",
              "1     0.003006  0.000336  0.007195  0.001831 -0.002990 -0.015898 -0.010755  \n",
              "2     0.000242 -0.002474  0.007971  0.000255 -0.005531  0.013274 -0.007506  \n",
              "3    -0.022946  0.016937  0.002894  0.001619 -0.004462  0.003329 -0.001846  \n",
              "4     0.006824  0.003251  0.005095 -0.000968  0.006032  0.005569  0.002953  \n",
              "...        ...       ...       ...       ...       ...       ...       ...  \n",
              "8590 -0.015039  0.003338 -0.002537 -0.005660 -0.006246 -0.009026  0.002036  \n",
              "8591 -0.009055 -0.004717  0.008832  0.000604 -0.001581 -0.002419 -0.004678  \n",
              "8592  0.016705 -0.010539  0.000455 -0.006548  0.015010 -0.003623 -0.005334  \n",
              "8593  0.000217  0.001080 -0.000213 -0.003039 -0.009739 -0.002406  0.002459  \n",
              "8594 -0.004405  0.001101  0.003272 -0.005687  0.004734 -0.003326  0.009821  \n",
              "\n",
              "[8595 rows x 3000 columns]"
            ],
            "text/html": [
              "\n",
              "  <div id=\"df-b83f34bf-43fc-483a-8cb6-b97d80755f75\">\n",
              "    <div class=\"colab-df-container\">\n",
              "      <div>\n",
              "<style scoped>\n",
              "    .dataframe tbody tr th:only-of-type {\n",
              "        vertical-align: middle;\n",
              "    }\n",
              "\n",
              "    .dataframe tbody tr th {\n",
              "        vertical-align: top;\n",
              "    }\n",
              "\n",
              "    .dataframe thead th {\n",
              "        text-align: right;\n",
              "    }\n",
              "</style>\n",
              "<table border=\"1\" class=\"dataframe\">\n",
              "  <thead>\n",
              "    <tr style=\"text-align: right;\">\n",
              "      <th></th>\n",
              "      <th>0</th>\n",
              "      <th>1</th>\n",
              "      <th>2</th>\n",
              "      <th>3</th>\n",
              "      <th>4</th>\n",
              "      <th>5</th>\n",
              "      <th>6</th>\n",
              "      <th>7</th>\n",
              "      <th>8</th>\n",
              "      <th>9</th>\n",
              "      <th>...</th>\n",
              "      <th>2990</th>\n",
              "      <th>2991</th>\n",
              "      <th>2992</th>\n",
              "      <th>2993</th>\n",
              "      <th>2994</th>\n",
              "      <th>2995</th>\n",
              "      <th>2996</th>\n",
              "      <th>2997</th>\n",
              "      <th>2998</th>\n",
              "      <th>2999</th>\n",
              "    </tr>\n",
              "  </thead>\n",
              "  <tbody>\n",
              "    <tr>\n",
              "      <th>0</th>\n",
              "      <td>0.139003</td>\n",
              "      <td>-0.019699</td>\n",
              "      <td>0.011627</td>\n",
              "      <td>0.064827</td>\n",
              "      <td>-0.054754</td>\n",
              "      <td>0.004788</td>\n",
              "      <td>0.042422</td>\n",
              "      <td>-0.061905</td>\n",
              "      <td>-0.006149</td>\n",
              "      <td>-0.023124</td>\n",
              "      <td>...</td>\n",
              "      <td>0.004485</td>\n",
              "      <td>-0.002769</td>\n",
              "      <td>0.006878</td>\n",
              "      <td>-0.000445</td>\n",
              "      <td>-0.006775</td>\n",
              "      <td>-0.009387</td>\n",
              "      <td>0.008006</td>\n",
              "      <td>-0.011329</td>\n",
              "      <td>0.002563</td>\n",
              "      <td>0.010269</td>\n",
              "    </tr>\n",
              "    <tr>\n",
              "      <th>1</th>\n",
              "      <td>0.212309</td>\n",
              "      <td>-0.035660</td>\n",
              "      <td>-0.045956</td>\n",
              "      <td>0.097111</td>\n",
              "      <td>0.033862</td>\n",
              "      <td>-0.069007</td>\n",
              "      <td>0.032509</td>\n",
              "      <td>-0.024120</td>\n",
              "      <td>0.043341</td>\n",
              "      <td>0.057915</td>\n",
              "      <td>...</td>\n",
              "      <td>0.004870</td>\n",
              "      <td>-0.007362</td>\n",
              "      <td>-0.000772</td>\n",
              "      <td>0.003006</td>\n",
              "      <td>0.000336</td>\n",
              "      <td>0.007195</td>\n",
              "      <td>0.001831</td>\n",
              "      <td>-0.002990</td>\n",
              "      <td>-0.015898</td>\n",
              "      <td>-0.010755</td>\n",
              "    </tr>\n",
              "    <tr>\n",
              "      <th>2</th>\n",
              "      <td>0.195794</td>\n",
              "      <td>0.094501</td>\n",
              "      <td>-0.039028</td>\n",
              "      <td>0.011741</td>\n",
              "      <td>-0.059289</td>\n",
              "      <td>-0.017042</td>\n",
              "      <td>-0.022946</td>\n",
              "      <td>0.028915</td>\n",
              "      <td>-0.049783</td>\n",
              "      <td>0.042210</td>\n",
              "      <td>...</td>\n",
              "      <td>0.000193</td>\n",
              "      <td>-0.009350</td>\n",
              "      <td>-0.004503</td>\n",
              "      <td>0.000242</td>\n",
              "      <td>-0.002474</td>\n",
              "      <td>0.007971</td>\n",
              "      <td>0.000255</td>\n",
              "      <td>-0.005531</td>\n",
              "      <td>0.013274</td>\n",
              "      <td>-0.007506</td>\n",
              "    </tr>\n",
              "    <tr>\n",
              "      <th>3</th>\n",
              "      <td>0.256830</td>\n",
              "      <td>0.039630</td>\n",
              "      <td>0.090064</td>\n",
              "      <td>0.043781</td>\n",
              "      <td>-0.033856</td>\n",
              "      <td>-0.058046</td>\n",
              "      <td>-0.070625</td>\n",
              "      <td>-0.014066</td>\n",
              "      <td>0.026313</td>\n",
              "      <td>-0.056321</td>\n",
              "      <td>...</td>\n",
              "      <td>-0.004486</td>\n",
              "      <td>-0.000609</td>\n",
              "      <td>0.001676</td>\n",
              "      <td>-0.022946</td>\n",
              "      <td>0.016937</td>\n",
              "      <td>0.002894</td>\n",
              "      <td>0.001619</td>\n",
              "      <td>-0.004462</td>\n",
              "      <td>0.003329</td>\n",
              "      <td>-0.001846</td>\n",
              "    </tr>\n",
              "    <tr>\n",
              "      <th>4</th>\n",
              "      <td>0.153441</td>\n",
              "      <td>-0.050863</td>\n",
              "      <td>-0.003514</td>\n",
              "      <td>0.017283</td>\n",
              "      <td>0.122651</td>\n",
              "      <td>0.110975</td>\n",
              "      <td>0.026069</td>\n",
              "      <td>0.024661</td>\n",
              "      <td>-0.088494</td>\n",
              "      <td>0.008259</td>\n",
              "      <td>...</td>\n",
              "      <td>0.003003</td>\n",
              "      <td>0.008125</td>\n",
              "      <td>-0.006692</td>\n",
              "      <td>0.006824</td>\n",
              "      <td>0.003251</td>\n",
              "      <td>0.005095</td>\n",
              "      <td>-0.000968</td>\n",
              "      <td>0.006032</td>\n",
              "      <td>0.005569</td>\n",
              "      <td>0.002953</td>\n",
              "    </tr>\n",
              "    <tr>\n",
              "      <th>...</th>\n",
              "      <td>...</td>\n",
              "      <td>...</td>\n",
              "      <td>...</td>\n",
              "      <td>...</td>\n",
              "      <td>...</td>\n",
              "      <td>...</td>\n",
              "      <td>...</td>\n",
              "      <td>...</td>\n",
              "      <td>...</td>\n",
              "      <td>...</td>\n",
              "      <td>...</td>\n",
              "      <td>...</td>\n",
              "      <td>...</td>\n",
              "      <td>...</td>\n",
              "      <td>...</td>\n",
              "      <td>...</td>\n",
              "      <td>...</td>\n",
              "      <td>...</td>\n",
              "      <td>...</td>\n",
              "      <td>...</td>\n",
              "      <td>...</td>\n",
              "    </tr>\n",
              "    <tr>\n",
              "      <th>8590</th>\n",
              "      <td>0.339936</td>\n",
              "      <td>-0.064954</td>\n",
              "      <td>0.132725</td>\n",
              "      <td>-0.029665</td>\n",
              "      <td>-0.086280</td>\n",
              "      <td>0.010889</td>\n",
              "      <td>-0.046212</td>\n",
              "      <td>-0.014159</td>\n",
              "      <td>0.022919</td>\n",
              "      <td>-0.023377</td>\n",
              "      <td>...</td>\n",
              "      <td>0.004403</td>\n",
              "      <td>0.000696</td>\n",
              "      <td>-0.006007</td>\n",
              "      <td>-0.015039</td>\n",
              "      <td>0.003338</td>\n",
              "      <td>-0.002537</td>\n",
              "      <td>-0.005660</td>\n",
              "      <td>-0.006246</td>\n",
              "      <td>-0.009026</td>\n",
              "      <td>0.002036</td>\n",
              "    </tr>\n",
              "    <tr>\n",
              "      <th>8591</th>\n",
              "      <td>0.259158</td>\n",
              "      <td>-0.085939</td>\n",
              "      <td>-0.079302</td>\n",
              "      <td>0.040288</td>\n",
              "      <td>-0.087677</td>\n",
              "      <td>0.069818</td>\n",
              "      <td>0.006047</td>\n",
              "      <td>0.012006</td>\n",
              "      <td>0.017070</td>\n",
              "      <td>-0.032988</td>\n",
              "      <td>...</td>\n",
              "      <td>-0.001895</td>\n",
              "      <td>-0.007181</td>\n",
              "      <td>0.010350</td>\n",
              "      <td>-0.009055</td>\n",
              "      <td>-0.004717</td>\n",
              "      <td>0.008832</td>\n",
              "      <td>0.000604</td>\n",
              "      <td>-0.001581</td>\n",
              "      <td>-0.002419</td>\n",
              "      <td>-0.004678</td>\n",
              "    </tr>\n",
              "    <tr>\n",
              "      <th>8592</th>\n",
              "      <td>0.216518</td>\n",
              "      <td>-0.099889</td>\n",
              "      <td>-0.080659</td>\n",
              "      <td>-0.059704</td>\n",
              "      <td>0.030262</td>\n",
              "      <td>-0.055619</td>\n",
              "      <td>0.048568</td>\n",
              "      <td>-0.002919</td>\n",
              "      <td>-0.036502</td>\n",
              "      <td>0.031121</td>\n",
              "      <td>...</td>\n",
              "      <td>0.009133</td>\n",
              "      <td>-0.007847</td>\n",
              "      <td>-0.001032</td>\n",
              "      <td>0.016705</td>\n",
              "      <td>-0.010539</td>\n",
              "      <td>0.000455</td>\n",
              "      <td>-0.006548</td>\n",
              "      <td>0.015010</td>\n",
              "      <td>-0.003623</td>\n",
              "      <td>-0.005334</td>\n",
              "    </tr>\n",
              "    <tr>\n",
              "      <th>8593</th>\n",
              "      <td>0.278910</td>\n",
              "      <td>-0.021182</td>\n",
              "      <td>0.112876</td>\n",
              "      <td>-0.015884</td>\n",
              "      <td>-0.145934</td>\n",
              "      <td>0.009911</td>\n",
              "      <td>0.060736</td>\n",
              "      <td>-0.135193</td>\n",
              "      <td>-0.002653</td>\n",
              "      <td>0.001545</td>\n",
              "      <td>...</td>\n",
              "      <td>0.003989</td>\n",
              "      <td>-0.008305</td>\n",
              "      <td>0.004426</td>\n",
              "      <td>0.000217</td>\n",
              "      <td>0.001080</td>\n",
              "      <td>-0.000213</td>\n",
              "      <td>-0.003039</td>\n",
              "      <td>-0.009739</td>\n",
              "      <td>-0.002406</td>\n",
              "      <td>0.002459</td>\n",
              "    </tr>\n",
              "    <tr>\n",
              "      <th>8594</th>\n",
              "      <td>0.197193</td>\n",
              "      <td>0.164888</td>\n",
              "      <td>-0.051368</td>\n",
              "      <td>-0.004574</td>\n",
              "      <td>-0.004907</td>\n",
              "      <td>-0.046432</td>\n",
              "      <td>-0.032964</td>\n",
              "      <td>0.033862</td>\n",
              "      <td>-0.064808</td>\n",
              "      <td>-0.010930</td>\n",
              "      <td>...</td>\n",
              "      <td>0.002000</td>\n",
              "      <td>0.004090</td>\n",
              "      <td>0.005880</td>\n",
              "      <td>-0.004405</td>\n",
              "      <td>0.001101</td>\n",
              "      <td>0.003272</td>\n",
              "      <td>-0.005687</td>\n",
              "      <td>0.004734</td>\n",
              "      <td>-0.003326</td>\n",
              "      <td>0.009821</td>\n",
              "    </tr>\n",
              "  </tbody>\n",
              "</table>\n",
              "<p>8595 rows × 3000 columns</p>\n",
              "</div>\n",
              "      <button class=\"colab-df-convert\" onclick=\"convertToInteractive('df-b83f34bf-43fc-483a-8cb6-b97d80755f75')\"\n",
              "              title=\"Convert this dataframe to an interactive table.\"\n",
              "              style=\"display:none;\">\n",
              "        \n",
              "  <svg xmlns=\"http://www.w3.org/2000/svg\" height=\"24px\"viewBox=\"0 0 24 24\"\n",
              "       width=\"24px\">\n",
              "    <path d=\"M0 0h24v24H0V0z\" fill=\"none\"/>\n",
              "    <path d=\"M18.56 5.44l.94 2.06.94-2.06 2.06-.94-2.06-.94-.94-2.06-.94 2.06-2.06.94zm-11 1L8.5 8.5l.94-2.06 2.06-.94-2.06-.94L8.5 2.5l-.94 2.06-2.06.94zm10 10l.94 2.06.94-2.06 2.06-.94-2.06-.94-.94-2.06-.94 2.06-2.06.94z\"/><path d=\"M17.41 7.96l-1.37-1.37c-.4-.4-.92-.59-1.43-.59-.52 0-1.04.2-1.43.59L10.3 9.45l-7.72 7.72c-.78.78-.78 2.05 0 2.83L4 21.41c.39.39.9.59 1.41.59.51 0 1.02-.2 1.41-.59l7.78-7.78 2.81-2.81c.8-.78.8-2.07 0-2.86zM5.41 20L4 18.59l7.72-7.72 1.47 1.35L5.41 20z\"/>\n",
              "  </svg>\n",
              "      </button>\n",
              "      \n",
              "  <style>\n",
              "    .colab-df-container {\n",
              "      display:flex;\n",
              "      flex-wrap:wrap;\n",
              "      gap: 12px;\n",
              "    }\n",
              "\n",
              "    .colab-df-convert {\n",
              "      background-color: #E8F0FE;\n",
              "      border: none;\n",
              "      border-radius: 50%;\n",
              "      cursor: pointer;\n",
              "      display: none;\n",
              "      fill: #1967D2;\n",
              "      height: 32px;\n",
              "      padding: 0 0 0 0;\n",
              "      width: 32px;\n",
              "    }\n",
              "\n",
              "    .colab-df-convert:hover {\n",
              "      background-color: #E2EBFA;\n",
              "      box-shadow: 0px 1px 2px rgba(60, 64, 67, 0.3), 0px 1px 3px 1px rgba(60, 64, 67, 0.15);\n",
              "      fill: #174EA6;\n",
              "    }\n",
              "\n",
              "    [theme=dark] .colab-df-convert {\n",
              "      background-color: #3B4455;\n",
              "      fill: #D2E3FC;\n",
              "    }\n",
              "\n",
              "    [theme=dark] .colab-df-convert:hover {\n",
              "      background-color: #434B5C;\n",
              "      box-shadow: 0px 1px 3px 1px rgba(0, 0, 0, 0.15);\n",
              "      filter: drop-shadow(0px 1px 2px rgba(0, 0, 0, 0.3));\n",
              "      fill: #FFFFFF;\n",
              "    }\n",
              "  </style>\n",
              "\n",
              "      <script>\n",
              "        const buttonEl =\n",
              "          document.querySelector('#df-b83f34bf-43fc-483a-8cb6-b97d80755f75 button.colab-df-convert');\n",
              "        buttonEl.style.display =\n",
              "          google.colab.kernel.accessAllowed ? 'block' : 'none';\n",
              "\n",
              "        async function convertToInteractive(key) {\n",
              "          const element = document.querySelector('#df-b83f34bf-43fc-483a-8cb6-b97d80755f75');\n",
              "          const dataTable =\n",
              "            await google.colab.kernel.invokeFunction('convertToInteractive',\n",
              "                                                     [key], {});\n",
              "          if (!dataTable) return;\n",
              "\n",
              "          const docLinkHtml = 'Like what you see? Visit the ' +\n",
              "            '<a target=\"_blank\" href=https://colab.research.google.com/notebooks/data_table.ipynb>data table notebook</a>'\n",
              "            + ' to learn more about interactive tables.';\n",
              "          element.innerHTML = '';\n",
              "          dataTable['output_type'] = 'display_data';\n",
              "          await google.colab.output.renderOutput(dataTable, element);\n",
              "          const docLink = document.createElement('div');\n",
              "          docLink.innerHTML = docLinkHtml;\n",
              "          element.appendChild(docLink);\n",
              "        }\n",
              "      </script>\n",
              "    </div>\n",
              "  </div>\n",
              "  "
            ]
          },
          "metadata": {},
          "execution_count": 203
        }
      ]
    },
    {
      "cell_type": "code",
      "execution_count": null,
      "id": "66c7309b",
      "metadata": {
        "execution": {
          "iopub.execute_input": "2022-06-04T18:28:18.472434Z",
          "iopub.status.busy": "2022-06-04T18:28:18.471599Z",
          "iopub.status.idle": "2022-06-04T18:28:18.478812Z",
          "shell.execute_reply": "2022-06-04T18:28:18.477716Z"
        },
        "papermill": {
          "duration": 0.057338,
          "end_time": "2022-06-04T18:28:18.480940",
          "exception": false,
          "start_time": "2022-06-04T18:28:18.423602",
          "status": "completed"
        },
        "tags": [],
        "colab": {
          "base_uri": "https://localhost:8080/"
        },
        "id": "66c7309b",
        "outputId": "fc04f4d9-704d-45e4-a9b6-8c46e5b51a9b"
      },
      "outputs": [
        {
          "output_type": "execute_result",
          "data": {
            "text/plain": [
              "array([0.00470896, 0.01167374, 0.01736822, ..., 0.92189056, 0.92196334,\n",
              "       0.92203598])"
            ]
          },
          "metadata": {},
          "execution_count": 204
        }
      ],
      "source": [
        "svd.explained_variance_ratio_.cumsum()"
      ]
    },
    {
      "cell_type": "markdown",
      "id": "1727ca24",
      "metadata": {
        "papermill": {
          "duration": 0.04721,
          "end_time": "2022-06-04T18:28:18.576211",
          "exception": false,
          "start_time": "2022-06-04T18:28:18.529001",
          "status": "completed"
        },
        "tags": [],
        "id": "1727ca24"
      },
      "source": [
        "## **Compute a similarity metric on vectors for recommendation**\n",
        "Now in order to make recommendations we would have to compute any similarity index ex- cosine similarity, eucledian distance, Jaccard distance, etc. here we are going to use cosine similarity"
      ]
    },
    {
      "cell_type": "code",
      "execution_count": null,
      "id": "3bdb84cd",
      "metadata": {
        "execution": {
          "iopub.execute_input": "2022-06-04T18:28:18.673715Z",
          "iopub.status.busy": "2022-06-04T18:28:18.673312Z",
          "iopub.status.idle": "2022-06-04T18:28:18.677682Z",
          "shell.execute_reply": "2022-06-04T18:28:18.676717Z"
        },
        "papermill": {
          "duration": 0.055564,
          "end_time": "2022-06-04T18:28:18.679874",
          "exception": false,
          "start_time": "2022-06-04T18:28:18.624310",
          "status": "completed"
        },
        "tags": [],
        "id": "3bdb84cd"
      },
      "outputs": [],
      "source": [
        "from sklearn.metrics.pairwise import cosine_similarity"
      ]
    },
    {
      "cell_type": "code",
      "execution_count": null,
      "id": "0a1fd176",
      "metadata": {
        "execution": {
          "iopub.execute_input": "2022-06-04T18:28:18.775964Z",
          "iopub.status.busy": "2022-06-04T18:28:18.775502Z",
          "iopub.status.idle": "2022-06-04T18:28:22.809690Z",
          "shell.execute_reply": "2022-06-04T18:28:22.808456Z"
        },
        "papermill": {
          "duration": 4.085401,
          "end_time": "2022-06-04T18:28:22.812156",
          "exception": false,
          "start_time": "2022-06-04T18:28:18.726755",
          "status": "completed"
        },
        "tags": [],
        "id": "0a1fd176"
      },
      "outputs": [],
      "source": [
        "similarity = cosine_similarity(reduced_data)"
      ]
    },
    {
      "cell_type": "markdown",
      "id": "7e8571bd",
      "metadata": {
        "papermill": {
          "duration": 0.048052,
          "end_time": "2022-06-04T18:28:22.908166",
          "exception": false,
          "start_time": "2022-06-04T18:28:22.860114",
          "status": "completed"
        },
        "tags": [],
        "id": "7e8571bd"
      },
      "source": [
        "## **Making recommendations for a given movie**"
      ]
    },
    {
      "cell_type": "code",
      "execution_count": null,
      "id": "3d41b324",
      "metadata": {
        "execution": {
          "iopub.execute_input": "2022-06-04T18:28:23.011213Z",
          "iopub.status.busy": "2022-06-04T18:28:23.010617Z",
          "iopub.status.idle": "2022-06-04T18:28:23.017367Z",
          "shell.execute_reply": "2022-06-04T18:28:23.016528Z"
        },
        "papermill": {
          "duration": 0.061528,
          "end_time": "2022-06-04T18:28:23.019672",
          "exception": false,
          "start_time": "2022-06-04T18:28:22.958144",
          "status": "completed"
        },
        "tags": [],
        "id": "3d41b324"
      },
      "outputs": [],
      "source": [
        "def recommendation(movie_title):\n",
        "    id_of_movie = df[df['title']==movie_title].index[0]\n",
        "    distances = similarity[id_of_movie]\n",
        "    movie_list = sorted(list(enumerate(distances)), reverse=True, key=lambda x:x[1])[1:10]\n",
        "    \n",
        "    for i in movie_list:\n",
        "        print(df.iloc[i[0]].title)"
      ]
    },
    {
      "cell_type": "code",
      "execution_count": null,
      "id": "19dbf487",
      "metadata": {
        "execution": {
          "iopub.execute_input": "2022-06-04T18:28:23.122179Z",
          "iopub.status.busy": "2022-06-04T18:28:23.121134Z",
          "iopub.status.idle": "2022-06-04T18:28:23.143764Z",
          "shell.execute_reply": "2022-06-04T18:28:23.142739Z"
        },
        "papermill": {
          "duration": 0.076538,
          "end_time": "2022-06-04T18:28:23.147674",
          "exception": false,
          "start_time": "2022-06-04T18:28:23.071136",
          "status": "completed"
        },
        "tags": [],
        "colab": {
          "base_uri": "https://localhost:8080/"
        },
        "id": "19dbf487",
        "outputId": "5694aed7-a989-487c-851f-274ce3736571"
      },
      "outputs": [
        {
          "output_type": "stream",
          "name": "stdout",
          "text": [
            "The Matrix Revisited\n",
            "The Matrix Revolutions\n",
            "The Matrix Reloaded\n",
            "The Animatrix\n",
            "Commando\n",
            "Terminator 3: Rise of the Machines\n",
            "GHOST IN THE SHELL\n",
            "Hackers\n",
            "Who Am I - Kein System ist sicher\n"
          ]
        }
      ],
      "source": [
        "recommendation('The Matrix')"
      ]
    },
    {
      "cell_type": "code",
      "execution_count": null,
      "id": "97ffdc38",
      "metadata": {
        "execution": {
          "iopub.execute_input": "2022-06-04T18:28:23.245694Z",
          "iopub.status.busy": "2022-06-04T18:28:23.244921Z",
          "iopub.status.idle": "2022-06-04T18:28:23.264575Z",
          "shell.execute_reply": "2022-06-04T18:28:23.263293Z"
        },
        "papermill": {
          "duration": 0.071223,
          "end_time": "2022-06-04T18:28:23.267354",
          "exception": false,
          "start_time": "2022-06-04T18:28:23.196131",
          "status": "completed"
        },
        "tags": [],
        "colab": {
          "base_uri": "https://localhost:8080/"
        },
        "id": "97ffdc38",
        "outputId": "219dcdfc-c81d-4f15-a944-3c64834d563f"
      },
      "outputs": [
        {
          "output_type": "stream",
          "name": "stdout",
          "text": [
            "Brainscan\n",
            "Wreck-It Ralph\n",
            "Stay Alive\n",
            "Geri's Game\n",
            "Alan Partridge: Alpha Papa\n",
            "Dungeons & Dragons\n",
            "Nirvana\n",
            "Indie Game: The Movie\n",
            "Jack the Giant Slayer\n"
          ]
        }
      ],
      "source": [
        "recommendation('Jumanji')"
      ]
    },
    {
      "cell_type": "code",
      "execution_count": null,
      "id": "f7836370",
      "metadata": {
        "execution": {
          "iopub.execute_input": "2022-06-04T18:28:23.367853Z",
          "iopub.status.busy": "2022-06-04T18:28:23.367394Z",
          "iopub.status.idle": "2022-06-04T18:28:23.388232Z",
          "shell.execute_reply": "2022-06-04T18:28:23.387171Z"
        },
        "papermill": {
          "duration": 0.074809,
          "end_time": "2022-06-04T18:28:23.391517",
          "exception": false,
          "start_time": "2022-06-04T18:28:23.316708",
          "status": "completed"
        },
        "tags": [],
        "colab": {
          "base_uri": "https://localhost:8080/"
        },
        "id": "f7836370",
        "outputId": "3155b9a7-aa21-49e3-8ede-0fe20120ee46"
      },
      "outputs": [
        {
          "output_type": "stream",
          "name": "stdout",
          "text": [
            "Lucky You\n",
            "Last Vegas\n",
            "Vegas Vacation\n",
            "Fear and Loathing in Las Vegas\n",
            "The Godfather: Part II\n",
            "La mafia uccide solo d'estate\n",
            "Mississippi Grind\n",
            "The Cincinnati Kid\n",
            "Wild Card\n"
          ]
        }
      ],
      "source": [
        "recommendation('Casino')"
      ]
    },
    {
      "cell_type": "code",
      "source": [
        "recommendation('Heat')"
      ],
      "metadata": {
        "colab": {
          "base_uri": "https://localhost:8080/"
        },
        "id": "H84KO0XihKI_",
        "outputId": "7f67b8bf-170d-47d1-c0ec-c5d7e170cb84"
      },
      "id": "H84KO0XihKI_",
      "execution_count": null,
      "outputs": [
        {
          "output_type": "stream",
          "name": "stdout",
          "text": [
            "Kiss Kiss Bang Bang\n",
            "No Good Deed\n",
            "The Grifters\n",
            "The Long Goodbye\n",
            "Le Cercle Rouge\n",
            "Inside Man\n",
            "Insomnia\n",
            "신세계\n",
            "Arsène Lupin\n"
          ]
        }
      ]
    },
    {
      "cell_type": "markdown",
      "id": "ad923335",
      "metadata": {
        "papermill": {
          "duration": 0.069962,
          "end_time": "2022-06-04T18:28:23.514327",
          "exception": false,
          "start_time": "2022-06-04T18:28:23.444365",
          "status": "completed"
        },
        "tags": [],
        "id": "ad923335"
      },
      "source": [
        "<a id='visualize'></a>\n",
        "## **Let's try to visualize the vectors in 2-D space using T-SNE**"
      ]
    },
    {
      "cell_type": "code",
      "execution_count": null,
      "id": "6d4bfa37",
      "metadata": {
        "execution": {
          "iopub.execute_input": "2022-06-04T18:28:23.620835Z",
          "iopub.status.busy": "2022-06-04T18:28:23.619469Z",
          "iopub.status.idle": "2022-06-04T18:28:23.718585Z",
          "shell.execute_reply": "2022-06-04T18:28:23.717470Z"
        },
        "papermill": {
          "duration": 0.156048,
          "end_time": "2022-06-04T18:28:23.721119",
          "exception": false,
          "start_time": "2022-06-04T18:28:23.565071",
          "status": "completed"
        },
        "tags": [],
        "id": "6d4bfa37"
      },
      "outputs": [],
      "source": [
        "from sklearn.manifold import TSNE"
      ]
    },
    {
      "cell_type": "code",
      "execution_count": null,
      "id": "af20e4ec",
      "metadata": {
        "execution": {
          "iopub.execute_input": "2022-06-04T18:28:23.819037Z",
          "iopub.status.busy": "2022-06-04T18:28:23.818562Z",
          "iopub.status.idle": "2022-06-04T18:29:39.326612Z",
          "shell.execute_reply": "2022-06-04T18:29:39.325713Z"
        },
        "papermill": {
          "duration": 75.56087,
          "end_time": "2022-06-04T18:29:39.329448",
          "exception": false,
          "start_time": "2022-06-04T18:28:23.768578",
          "status": "completed"
        },
        "tags": [],
        "id": "af20e4ec"
      },
      "outputs": [],
      "source": [
        "# Initialize TSNE object\n",
        "tsne = TSNE(n_components=2,init=\"random\")\n",
        "\n",
        "# Fir transform the data\n",
        "tsne_data = tsne.fit_transform(vectorized_data)\n",
        "\n",
        "# Convert to dataframe\n",
        "tsne_data = pd.DataFrame(tsne_data, columns=['x','y'])"
      ]
    },
    {
      "cell_type": "code",
      "execution_count": null,
      "id": "5e1d1c71",
      "metadata": {
        "execution": {
          "iopub.execute_input": "2022-06-04T18:29:39.428692Z",
          "iopub.status.busy": "2022-06-04T18:29:39.427814Z",
          "iopub.status.idle": "2022-06-04T18:29:39.437567Z",
          "shell.execute_reply": "2022-06-04T18:29:39.436428Z"
        },
        "papermill": {
          "duration": 0.061065,
          "end_time": "2022-06-04T18:29:39.440076",
          "exception": false,
          "start_time": "2022-06-04T18:29:39.379011",
          "status": "completed"
        },
        "tags": [],
        "id": "5e1d1c71"
      },
      "outputs": [],
      "source": [
        "tsne_data['title'] = df['title'].copy()"
      ]
    },
    {
      "cell_type": "code",
      "execution_count": null,
      "id": "43b6cc85",
      "metadata": {
        "execution": {
          "iopub.execute_input": "2022-06-04T18:29:39.536839Z",
          "iopub.status.busy": "2022-06-04T18:29:39.536414Z",
          "iopub.status.idle": "2022-06-04T18:29:39.682511Z",
          "shell.execute_reply": "2022-06-04T18:29:39.681564Z"
        },
        "papermill": {
          "duration": 0.206509,
          "end_time": "2022-06-04T18:29:39.694554",
          "exception": false,
          "start_time": "2022-06-04T18:29:39.488045",
          "status": "completed"
        },
        "tags": [],
        "colab": {
          "base_uri": "https://localhost:8080/",
          "height": 542
        },
        "id": "43b6cc85",
        "outputId": "e21352a0-33e6-4e57-b59b-7d81367ba7a5"
      },
      "outputs": [
        {
          "output_type": "display_data",
          "data": {
            "text/html": [
              "<html>\n",
              "<head><meta charset=\"utf-8\" /></head>\n",
              "<body>\n",
              "    <div>            <script src=\"https://cdnjs.cloudflare.com/ajax/libs/mathjax/2.7.5/MathJax.js?config=TeX-AMS-MML_SVG\"></script><script type=\"text/javascript\">if (window.MathJax && window.MathJax.Hub && window.MathJax.Hub.Config) {window.MathJax.Hub.Config({SVG: {font: \"STIX-Web\"}});}</script>                <script type=\"text/javascript\">window.PlotlyConfig = {MathJaxConfig: 'local'};</script>\n",
              "        <script src=\"https://cdn.plot.ly/plotly-2.18.2.min.js\"></script>                <div id=\"b0d765db-df3a-48d4-937d-c6c4791a83de\" class=\"plotly-graph-div\" style=\"height:525px; width:100%;\"></div>            <script type=\"text/javascript\">                                    window.PLOTLYENV=window.PLOTLYENV || {};                                    if (document.getElementById(\"b0d765db-df3a-48d4-937d-c6c4791a83de\")) {                    Plotly.newPlot(                        \"b0d765db-df3a-48d4-937d-c6c4791a83de\",                        [{\"mode\":\"markers+text\",\"text\":[\"Toy Story\",\"Jumanji\",\"Grumpier Old Men\",\"Father of the Bride Part II\",\"Heat\",\"Sabrina\",\"Sudden Death\",\"GoldenEye\",\"The American President\",\"Dracula: Dead and Loving It\",\"Balto\",\"Nixon\",\"Cutthroat Island\",\"Casino\",\"Sense and Sensibility\",\"Four Rooms\",\"Ace Ventura: When Nature Calls\",\"Money Train\",\"Get Shorty\",\"Copycat\",\"Assassins\",\"Powder\",\"Leaving Las Vegas\",\"Now and Then\",\"La Cit\\u00e9 des Enfants Perdus\",\"Dangerous Minds\",\"Twelve Monkeys\",\"Babe\",\"Dead Man Walking\",\"It Takes Two\",\"Clueless\",\"Dead Presidents\",\"Mortal Kombat\",\"To Die For\",\"Se7en\",\"Pocahontas\",\"The Usual Suspects\",\"Mighty Aphrodite\",\"Il postino\",\"The Indian in the Cupboard\",\"Eye for an Eye\",\"Mr. Holland's Opus\",\"Don't Be a Menace to South Central While Drinking Your Juice in the Hood\",\"Bio-Dome\",\"Friday\",\"From Dusk Till Dawn\",\"Screamers\",\"The Crossing Guard\",\"The Juror\",\"Things to Do in Denver When You're Dead\",\"White Squall\",\"Dunston Checks In\",\"Black Sheep\",\"Nick of Time\",\"Mary Reilly\",\"Vampire in Brooklyn\",\"Beautiful Girls\",\"Broken Arrow\",\"La Haine\",\"City Hall\",\"Bottle Rocket\",\"Happy Gilmore\",\"The Bridges of Madison County\",\"Muppet Treasure Island\",\"Braveheart\",\"Taxi Driver\",\"\\u7d05\\u756a\\u5340\",\"Boomerang\",\"\\u91cd\\u6176\\u68ee\\u6797\",\"Flirting with Disaster\",\"The NeverEnding Story III\",\"Down Periscope\",\"The Birdcage\",\"Bad Boys\",\"The Basketball Diaries\",\"Apollo 13\",\"Rob Roy\",\"Batman Forever\",\"Belle de jour\",\"Canadian Bacon\",\"Casper\",\"Clockers\",\"Congo\",\"Crimson Tide\",\"Crumb\",\"Desperado\",\"Devil in a Blue Dress\",\"Die Hard: With a Vengeance\",\"The Doom Generation\",\"First Knight\",\"Free Willy 2 - The Adventure Home\",\"Hackers\",\"Johnny Mnemonic\",\"Judge Dredd\",\"Kids\",\"Living in Oblivion\",\"Lord of Illusions\",\"Mallrats\",\"Mighty Morphin Power Rangers: The Movie\",\"The Net\",\"Nine Months\",\"The Prophecy\",\"Safe\",\"The Scarlet Letter\",\"Showgirls\",\"Smoke\",\"Something to Talk About\",\"Species\",\"Strange Days\",\"Les parapluies de Cherbourg\",\"Total Eclipse\",\"To Wong Foo, Thanks for Everything! Julie Newmar\",\"Under Siege 2: Dark Territory\",\"A Walk in the Clouds\",\"Waterworld\",\"Before Sunrise\",\"Billy Madison\",\"The Cure\",\"Clerks\",\"Don Juan DeMarco\",\"Disclosure\",\"Drop Zone\",\"Death and the Maiden\",\"Dolores Claiborne\",\"Dumb and Dumber\",\"\\u98f2\\u98df\\u7537\\u5973\",\"Exotica\",\"Ed Wood\",\"French Kiss\",\"A Goofy Movie\",\"Hoop Dreams\",\"Heavenly Creatures\",\"Immortal Beloved\",\"Heavyweights\",\"I.Q.\",\"Interview with the Vampire\",\"Junior\",\"Just Cause\",\"Kiss of Death\",\"Star Wars\",\"Little Women\",\"A Little Princess\",\"Como agua para chocolate\",\"Legends of the Fall\",\"Major Payne\",\"The Madness of King George\",\"Frankenstein\",\"Miracle on 34th Street\",\"Murder in the First\",\"Nobody's Fool\",\"Nell\",\"Natural Born Killers\",\"Only You\",\"Once Were Warriors\",\"Outbreak\",\"L\\u00e9on\",\"Pulp Fiction\",\"Quiz Show\",\"La Reine Margot\",\"The Quick and the Dead\",\"Trois couleurs : Rouge\",\"Trois couleurs : Bleu\",\"Trois couleurs : Blanc\",\"The Swan Princess\",\"The Specialist\",\"Stargate\",\"The Santa Clause\",\"The Shawshank Redemption\",\"Shallow Grave\",\"Swimming with Sharks\",\"\\u6d3b\\u7740\",\"Tank Girl\",\"Tales from the Crypt: Demon Knight\",\"Star Trek: Generations\",\"Village of the Damned\",\"Tommy Boy\",\"What's Eating Gilbert Grape\",\"Virtuosity\",\"While You Were Sleeping\",\"Muriel's Wedding\",\"Ace Ventura: Pet Detective\",\"The Adventures of Priscilla, Queen of the Desert\",\"Bitter Moon\",\"Bullets Over Broadway\",\"Clear and Present Danger\",\"The Client\",\"Corrina, Corrina\",\"The Crow\",\"The Flintstones\",\"Forrest Gump\",\"Four Weddings and a Funeral\",\"It Could Happen to You\",\"The Jungle Book\",\"The Lion King\",\"Little Buddha\",\"New Nightmare\",\"The Mask\",\"Maverick\",\"The Naked Gun 33\\u2153: The Final Insult\",\"Reality Bites\",\"Red Rock West\",\"Ri\\u00a2hie Ri\\u00a2h\",\"The River Wild\",\"Speed\",\"Timecop\",\"True Lies\",\"When a Man Loves a Woman\",\"Wolf\",\"Wyatt Earp\",\"Faster, Pussycat! Kill! Kill!\",\"Street Fighter\",\"Highlander III: The Sorcerer\",\"In the Mouth of Madness\",\"Addams Family Values\",\"The Age of Innocence\",\"Airheads\",\"Another Stakeout\",\"Bad Girls\",\"The Beverly Hillbillies\",\"Beverly Hills Cop III\",\"Black Beauty\",\"Blown Away\",\"Body Snatchers\",\"Boxing Helena\",\"A Bronx Tale\",\"Carlito's Way\",\"City Slickers II: The Legend of Curly's Gold\",\"Cliffhanger\",\"Coneheads\",\"Color of Night\",\"Dave\",\"Dazed and Confused\",\"Demolition Man\",\"\\u9738\\u738b\\u522b\\u59ec\",\"Fearless\",\"For Love or Money\",\"The Firm\",\"Free Willy\",\"Fresh\",\"The Fugitive\",\"The Getaway\",\"Hard Target\",\"Hot Shots! Part Deux\",\"The Englishman Who Went Up a Hill But Came Down a Mountain\",\"The House of the Spirits\",\"The Hudsucker Proxy\",\"In the Line of Fire\",\"In the Name of the Father\",\"What's Love Got to Do with It\",\"Judgment Night\",\"Jurassic Park\",\"Kalifornia\",\"Killing Zoe\",\"Last Action Hero\",\"Made in America\",\"Malice\",\"The Man without a Face\",\"Manhattan Murder Mystery\",\"Menace II Society\",\"Executive Decision\",\"\\u611b\\u306e\\u30b3\\u30ea\\u30fc\\u30c0\",\"Much Ado About Nothing\",\"Mrs. Doubtfire\",\"Naked\",\"The Next Karate Kid\",\"No Escape\",\"North\",\"A Perfect World\",\"Philadelphia\",\"The Piano\",\"The Ref\",\"The Remains of the Day\",\"Renaissance Man\",\"Rising Sun\",\"RoboCop 3\",\"Robin Hood: Men in Tights\",\"Romper Stomper\",\"Rudy\",\"Schindler's List\",\"Searching for Bobby Fischer\",\"The Secret Garden\",\"Serial Mom\",\"The Shadow\",\"Shadowlands\",\"Short Cuts\",\"Six Degrees of Separation\",\"Sleepless in Seattle\",\"Sliver\",\"Blade Runner\",\"Son in Law\",\"So I Married an Axe Murderer\",\"Striking Distance\",\"Super Mario Bros.\",\"Terminal Velocity\",\"Threesome\",\"The Nightmare Before Christmas\",\"The Three Musketeers\",\"Tombstone\",\"True Romance\",\"The Pagemaster\",\"Welcome to the Dollhouse\",\"Cronos\",\"Kika\",\"Io speriamo che me la cavo\",\"The Little Rascals\",\"The Brady Bunch Movie\",\"Home Alone\",\"Ghost\",\"Aladdin\",\"Terminator 2: Judgment Day\",\"Dances with Wolves\",\"Batman\",\"The Silence of the Lambs\",\"Snow White and the Seven Dwarfs\",\"Beauty and the Beast\",\"Pinocchio\",\"Pretty Woman\",\"The Wild Bunch\",\"One Fine Day\",\"Candyman: Farewell to the Flesh\",\"Fargo\",\"Homeward Bound II: Lost in San Francisco\",\"Heavy Metal\",\"Hellraiser: Bloodline\",\"The Aristocats\",\"The Last Supper\",\"Primal Fear\",\"Sgt. Bilko\",\"Diabolique\",\"Un indien dans la ville\",\"Courage Under Fire\",\"Mission: Impossible\",\"DragonHeart\",\"Plein soleil\",\"James and the Giant Peach\",\"Fear\",\"Podzemlje\",\"\\u09aa\\u09a5\\u09c7\\u09b0 \\u09aa\\u09be\\u0981\\u099a\\u09be\\u09b2\\u09c0\",\"Mystery Science Theater 3000: The Movie\",\"Space Jam\",\"Barbarella\",\"Alphaville, une \\u00e9trange aventure de Lemmy Caution\",\"The Substitute\",\"The Quest\",\"Mulholland Falls\",\"The Truth About Cats & Dogs\",\"Oliver & Company\",\"Flipper\",\"Dead Man\",\"Les visiteurs\",\"Multiplicity\",\"The Craft\",\"The Rock\",\"Dellamorte Dellamore\",\"Twister\",\"Barb Wire\",\"GHOST IN THE SHELL\",\"Thinner\",\"Spy Hard\",\"A Close Shave\",\"The Arrival\",\"Dr. Strangelove or: How I Learned to Stop Worrying and Love the Bomb\",\"\\u6771\\u90aa\\u897f\\u6bd2\",\"Stalingrad\",\"The Phantom\",\"Striptease\",\"Jack\",\"Trainspotting\",\"Independence Day\",\"Stealing Beauty\",\"The Fan\",\"The Hunchback of Notre Dame\",\"The Cable Guy\",\"Kingpin\",\"Eraser\",\"The Nutty Professor\",\"Daylight\",\"The Frighteners\",\"Lone Star\",\"Phenomenon\",\"She's the One\",\"A Time to Kill\",\"Kazaam\",\"The Adventures of Pinocchio\",\"Joe's Apartment\",\"The First Wives Club\",\"Ransom\",\"Chain Reaction\",\"Matilda\",\"Emma\",\"The Crow: City of Angels\",\"Les Yeux sans visage\",\"Bordello of Blood\",\"Escape from L.A.\",\"Basquiat\",\"Tin Cup\",\"The Godfather\",\"\\u8b66\\u5bdf\\u6545\\u4e8b III\\uff1a\\u8d85\\u7d1a\\u8b66\\u5bdf\",\"Bound\",\"The Relic\",\"The Island of Dr. Moreau\",\"Bulletproof\",\"The Land Before Time III: The Time of the Great Giving\",\"Halloween: The Curse of Michael Myers\",\"The Philadelphia Story\",\"Singin' in the Rain\",\"An American in Paris\",\"Funny Face\",\"Breakfast at Tiffany's\",\"Vertigo\",\"Rear Window\",\"It Happened One Night\",\"Gaslight\",\"North by Northwest\",\"The Apartment\",\"Some Like It Hot\",\"Charade\",\"Casablanca\",\"The Maltese Falcon\",\"My Fair Lady\",\"Sabrina\",\"Roman Holiday\",\"Meet Me in St. Louis\",\"The Wizard of Oz\",\"Gone with the Wind\",\"Sunset Boulevard\",\"Citizen Kane\",\"2001: A Space Odyssey\",\"All About Eve\",\"Rebecca\",\"Foreign Correspondent\",\"Notorious\",\"Spellbound\",\"An Affair to Remember\",\"To Catch a Thief\",\"Ninotchka\",\"Love in the Afternoon\",\"Gigi\",\"The Adventures of Robin Hood\",\"Laura\",\"The Ghost and Mrs. Muir\",\"Top Hat\",\"To Be or Not to Be\",\"My Man Godfrey\",\"Giant\",\"East of Eden\",\"The Thin Man\",\"His Girl Friday\",\"Around the World in Eighty Days\",\"It's a Wonderful Life\",\"Mr. Smith Goes to Washington\",\"Bringing Up Baby\",\"The 39 Steps\",\"Night of the Living Dead\",\"The African Queen\",\"Cat on a Hot Tin Roof\",\"Fly Away Home\",\"Maximum Risk\",\"Michael Collins\",\"Last Man Standing\",\"Set It Off\",\"2 Days in the Valley\",\"Extreme Measures\",\"The Glimmer Man\",\"D3: The Mighty Ducks\",\"The Chamber\",\"Escape to Witch Mountain\",\"The Love Bug\",\"Herbie Rides Again\",\"Old Yeller\",\"The Parent Trap\",\"Homeward Bound: The Incredible Journey\",\"Swiss Family Robinson\",\"20,000 Leagues Under the Sea\",\"Cool Runnings\",\"Angels in the Outfield\",\"Cinderella\",\"The Three Caballeros\",\"The Sword in the Stone\",\"Robin Hood: Prince of Thieves\",\"Mary Poppins\",\"Dumbo\",\"Pete's Dragon\",\"Bedknobs and Broomsticks\",\"Alice in Wonderland\",\"The Fox and the Hound\",\"Freeway\",\"The Sound of Music\",\"Die Hard\",\"The Lawnmower Man\",\"Secrets & Lies\",\"That Thing You Do!\",\"Beautiful Thing\",\"The Long Kiss Goodnight\",\"The Ghost and the Darkness\",\"Everyone Says I Love You\",\"Romeo + Juliet\",\"Swingers\",\"Sleepers\",\"Aladdin and the King of Thieves\",\"Willy Wonka & the Chocolate Factory\",\"The Innocents\",\"Sleeper\",\"Bananas\",\"A Fish Called Wanda\",\"Life of Brian\",\"Victor/Victoria\",\"The Great Race\",\"Bonnie and Clyde\",\"Dial M for Murder\",\"Dirty Dancing\",\"Reservoir Dogs\",\"Platoon\",\"Weekend at Bernie's\",\"Basic Instinct\",\"The Doors\",\"The Crying Game\",\"Glengarry Glen Ross\",\"Sophie's Choice\",\"E.T. the Extra-Terrestrial\",\"Days of Thunder\",\"Top Gun\",\"Rebel Without a Cause\",\"A Streetcar Named Desire\",\"Microcosmos : Le Peuple de l'herbe\",\"Le huiti\\u00e8me jour\",\"The People vs. Larry Flynt\",\"On Golden Pond\",\"The Return of the Pink Panther\",\"Drop Dead Fred\",\"The Abyss\",\"The Fog\",\"Escape from New York\",\"The Howling\",\"Jean de Florette\",\"Manon des Sources\",\"Private Benjamin\",\"Monty Python and the Holy Grail\",\"The Wrong Trousers\",\"Die Blechtrommel\",\"Nuovo Cinema Paradiso\",\"The Cook, the Thief, His Wife & Her Lover\",\"Delicatessen\",\"La double vie de V\\u00e9ronique\",\"Paths of Glory\",\"The Grifters\",\"The English Patient\",\"Mediterraneo\",\"My Left Foot: The Story of Christy Brown\",\"Sex, Lies, and Videotape\",\"Strictly Ballroom\",\"The Thin Blue Line\",\"\\u00a1\\u00c1tame!\",\"Paris is Burning\",\"One Flew Over the Cuckoo's Nest\",\"Up in Smoke\",\"The Empire Strikes Back\",\"The Princess Bride\",\"Raiders of the Lost Ark\",\"Brazil\",\"Aliens\",\"Il buono, il brutto, il cattivo\",\"Withnail & I\",\"12 Angry Men\",\"Lawrence of Arabia\",\"A Clockwork Orange\",\"To Kill a Mockingbird\",\"Apocalypse Now\",\"C'era una volta il West\",\"Return of the Jedi\",\"Der Himmel \\u00fcber Berlin\",\"The Third Man\",\"GoodFellas\",\"Alien\",\"Army of Darkness\",\"Le Grand Bleu\",\"\\u4e71\",\"\\u558b\\u8840\\u96d9\\u96c4\",\"Psycho\",\"The Blues Brothers\",\"The Godfather: Part II\",\"Full Metal Jacket\",\"A Grand Day Out\",\"Henry V\",\"Amadeus\",\"The Quiet Man\",\"Once Upon a Time in America\",\"Raging Bull\",\"Annie Hall\",\"The Right Stuff\",\"\\u0421\\u0442\\u0430\\u043b\\u043a\\u0435\\u0440\",\"Das Boot\",\"The Sting\",\"Harold and Maude\",\"Det sjunde inseglet\",\"Local Hero\",\"The Terminator\",\"Braindead\",\"Glory\",\"Rosencrantz & Guildenstern Are Dead\",\"Manhattan\",\"Miller's Crossing\",\"Dead Poets Society\",\"The Graduate\",\"Touch of Evil\",\"Nikita\",\"The Bridge on the River Kwai\",\"8\\u00bd\",\"Chinatown\",\"The Day the Earth Stood Still\",\"The Treasure of the Sierra Madre\",\"Bad Taste\",\"Duck Soup\",\"Better Off Dead...\",\"The Shining\",\"Stand by Me\",\"M\",\"Evil Dead II\",\"The Great Escape\",\"The Deer Hunter\",\"Groundhog Day\",\"Unforgiven\",\"The Manchurian Candidate\",\"Pump up the Volume\",\"Arsenic and Old Lace\",\"Back to the Future\",\"Fried Green Tomatoes\",\"Patton\",\"Down by Law\",\"\\u30a2\\u30ad\\u30e9\",\"Highlander\",\"Cool Hand Luke\",\"Cyrano de Bergerac\",\"Young Frankenstein\",\"Night on Earth\",\"\\u5927\\u7ea2\\u706f\\u7b3c\\u9ad8\\u9ad8\\u6302\",\"The Great Dictator\",\"Fantasia\",\"High Noon\",\"The Big Sleep\",\"Heathers\",\"Somewhere in Time\",\"Ben-Hur\",\"This Is Spinal Tap\",\"Koyaanisqatsi\",\"Some Kind of Wonderful\",\"Indiana Jones and the Last Crusade\",\"Being There\",\"Gandhi\",\"The Unbearable Lightness of Being\",\"A Room with a View\",\"Real Genius\",\"Pink Floyd: The Wall\",\"The Killing Fields\",\"Mitt liv som hund\",\"Forbidden Planet\",\"Field of Dreams\",\"The Man Who Would Be King\",\"Butch Cassidy and the Sundance Kid\",\"Paris, Texas\",\"When Harry Met Sally...\",\"Alien\\u00b3\",\"An American Werewolf in London\",\"Amityville II: The Possession\",\"The Amityville Horror\",\"April Fool's Day\",\"The Birds\",\"The Blob\",\"Dracula\",\"Bride of Frankenstein\",\"Burnt Offerings\",\"Candyman\",\"Cape Fear\",\"Cape Fear\",\"Carrie\",\"Cat People\",\"A Nightmare on Elm Street\",\"Nosferatu, eine Symphonie des Grauens\",\"The Omen\",\"Breaking the Waves\",\"Nightwatch\",\"Star Trek: First Contact\",\"Shine\",\"Sling Blade\",\"Jingle All the Way\",\"The Preacher's Wife\",\"The Crucible\",\"101 Dalmatians\",\"Die Hard 2\",\"Star Trek: The Motion Picture\",\"Star Trek VI: The Undiscovered Country\",\"Star Trek V: The Final Frontier\",\"Star Trek II: The Wrath of Khan\",\"Star Trek III: The Search for Spock\",\"Star Trek IV: The Voyage Home\",\"Batman Returns\",\"Young Guns\",\"Young Guns II\",\"Grease\",\"Grease 2\",\"Marked for Death\",\"Under Siege\",\"Jaws\",\"Jaws 2\",\"Jaws 3-D\",\"Mars Attacks!\",\"Jerry Maguire\",\"Raising Arizona\",\"Sneakers\",\"Marvin's Room\",\"Beavis and Butt-Head Do America\",\"Scream\",\"The Last of the Mohicans\",\"Michael\",\"Hamlet\",\"Evita\",\"Walkabout\",\"Murder at 1600\",\"Fierce Creatures\",\"Turbulence\",\"\\u8b66\\u5bdf\\u6545\\u4e8b4\\u4e4b\\u7c21\\u55ae\\u4efb\\u52d9\",\"Beverly Hills Ninja\",\"Metro\",\"Dante's Peak\",\"Benny & Joon\",\"Gridlock'd\",\"Waiting for Guffman\",\"Fools Rush In\",\"Absolute Power\",\"Vegas Vacation\",\"Lost Highway\",\"Donnie Brasco\",\"Jungle 2 Jungle\",\"Private Parts\",\"The Saint\",\"Smilla's Sense of Snow\",\"Crash\",\"Liar Liar\",\"Selena\",\"The Devil's Own\",\"Turbo: A Power Rangers Movie\",\"Double Team\",\"Anaconda\",\"Grosse Pointe Blank\",\"Romy and Michele's High School Reunion\",\"Volcano\",\"Austin Powers: International Man of Mystery\",\"Breakdown\",\"Fathers' Day\",\"The Fifth Element\",\"Addicted to Love\",\"The Lost World: Jurassic Park\",\"Con Air\",\"Speed 2: Cruise Control\",\"Batman & Robin\",\"Hercules\",\"My Best Friend's Wedding\",\"Le M\\u00e9pris\",\"Face/Off\",\"Men in Black\",\"Contact\",\"G.I. Jane\",\"Conan the Barbarian\",\"George of the Jungle\",\"Cop Land\",\"Event Horizon\",\"Spawn\",\"Air Bud\",\"Picture Perfect\",\"Free Willy 3: The Rescue\",\"Conspiracy Theory\",\"Desperate Measures\",\"Mimic\",\"Money Talks\",\"Excess Baggage\",\"Air Force One\",\"One Eight Seven\",\"The Hunt for Red October\",\"My Own Private Idaho\",\"In & Out\",\"The Edge\",\"The Peacemaker\",\"L.A. Confidential\",\"Seven Years in Tibet\",\"Kiss the Girls\",\"Wishmaster\",\"The Game\",\"Fire Down Below\",\"U Turn\",\"The Ice Storm\",\"Chasing Amy\",\"The Full Monty\",\"I Know What You Did Last Summer\",\"The Devil's Advocate\",\"Gattaca\",\"Phantoms\",\"A Life Less Ordinary\",\"Stripes\",\"Bean\",\"Mad City\",\"The Rainmaker\",\"Boogie Nights\",\"Witness\",\"Starship Troopers\",\"Sliding Doors\",\"Mortal Kombat: Annihilation\",\"The Truman Show\",\"Red Corner\",\"The Jackal\",\"Anastasia\",\"The Man Who Knew Too Little\",\"Alien: Resurrection\",\"Amistad\",\"Deconstructing Harry\",\"Flubber\",\"Good Will Hunting\",\"Home Alone 3\",\"Midnight in the Garden of Good and Evil\",\"MouseHunt\",\"Scream 2\",\"The Sweet Hereafter\",\"Titanic\",\"Tomorrow Never Dies\",\"The Postman\",\"The Horse Whisperer\",\"Jackie Brown\",\"Kundun\",\"Mr. Magoo\",\"The Big Lebowski\",\"Great Expectations\",\"Senseless\",\"Wag the Dog\",\"Dark City\",\"Hard Rain\",\"Half Baked\",\"Fallen\",\"\\u58ae\\u843d\\u5929\\u4f7f\",\"Spice World\",\"Deep Rising\",\"The Replacement Killers\",\"The Night Flier\",\"Blues Brothers 2000\",\"The Wedding Singer\",\"Sphere\",\"As Good as It Gets\",\"King of New York\",\"U.S. Marshals\",\"Suicide Kings\",\"The Man in the Iron Mask\",\"Wild Things\",\"Paulie\",\"\\u306f\\u306a\\u3073\",\"Primary Colors\",\"The Object of My Affection\",\"Lost in Space\",\"Mercury Rising\",\"The Spanish Prisoner\",\"City of Angels\",\"He Got Game\",\"Carne tr\\u00e9mula\",\"Zero Effect\",\"The Borrowers\",\"\\u4e00\\u500b\\u597d\\u4eba\",\"\\u0637\\u0639\\u0645 \\u06af\\u064a\\u0644\\u0627\\u0633\",\"Species II\",\"The Big Hit\",\"Les Mis\\u00e9rables\",\"Deep Impact\",\"Quest for Camelot\",\"Godzilla\",\"Bulworth\",\"Fear and Loathing in Las Vegas\",\"The Opposite of Sex\",\"Almost Heroes\",\"Hope Floats\",\"Insomnia\",\"A Perfect Murder\",\"Six Days Seven Nights\",\"Can't Hardly Wait\",\"\\u0628\\u0686\\u0647\\u200c\\u0647\\u0627\\u06cc \\u0622\\u0633\\u0645\\u0627\\u0646\",\"Mulan\",\"The X Files\",\"Doctor Dolittle\",\"Out of Sight\",\"Picnic at Hanging Rock\",\"Buffalo '66\",\"Armageddon\",\"Lethal Weapon 4\",\"Small Soldiers\",\"Pi\",\"There's Something About Mary\",\"Plan 9 from Outer Space\",\"Wings\",\"All Quiet on the Western Front\",\"Grand Hotel\",\"Mutiny on the Bounty\",\"You Can't Take It With You\",\"How Green Was My Valley\",\"The Lost Weekend\",\"The Best Years of Our Lives\",\"From Here to Eternity\",\"On the Waterfront\",\"Marty\",\"West Side Story\",\"A Man for All Seasons\",\"In the Heat of the Night\",\"Oliver!\",\"Midnight Cowboy\",\"The French Connection\",\"Rocky\",\"Kramer vs. Kramer\",\"Ordinary People\",\"Chariots of Fire\",\"Terms of Endearment\",\"Out of Africa\",\"The Last Emperor\",\"Rain Man\",\"Driving Miss Daisy\",\"Take the Money and Run\",\"Klute\",\"Repo Man\",\"Labyrinth\",\"The Breakfast Club\",\"A Nightmare on Elm Street Part 2: Freddy's Revenge\",\"A Nightmare on Elm Street 3: Dream Warriors\",\"A Nightmare on Elm Street 4: The Dream Master\",\"A Nightmare on Elm Street 5: The Dream Child\",\"Freddy's Dead: The Final Nightmare\",\"Friday the 13th\",\"Friday the 13th Part 2\",\"Friday the 13th Part III\",\"Friday the 13th: The Final Chapter\",\"Friday the 13th: A New Beginning\",\"Friday the 13th Part VI: Jason Lives\",\"Friday the 13th Part VII: The New Blood\",\"Friday the 13th Part VIII: Jason Takes Manhattan\",\"Halloween\",\"Halloween II\",\"Halloween III: Season of the Witch\",\"Halloween 4: The Return of Michael Myers\",\"Halloween 5: The Revenge of Michael Myers\",\"Prom Night\",\"Child's Play\",\"Child's Play 2\",\"Child's Play 3\",\"Poltergeist\",\"Poltergeist II: The Other Side\",\"Poltergeist III\",\"The Exorcist\",\"Exorcist II: The Heretic\",\"The Exorcist III\",\"Lethal Weapon\",\"Lethal Weapon 2\",\"Lethal Weapon 3\",\"Gremlins\",\"Gremlins 2: The New Batch\",\"The Goonies\",\"The Mask of Zorro\",\"Soylent Green\",\"Metropolis\",\"Back to the Future Part II\",\"Back to the Future Part III\",\"The Poseidon Adventure\",\"Freaky Friday\",\"Bambi\",\"\\u4e03\\u4eba\\u306e\\u4f8d\",\"Dangerous Liaisons\",\"Dune\",\"The Last Temptation of Christ\",\"The Godfather: Part III\",\"Lolita\",\"Disturbing Behavior\",\"Saving Private Ryan\",\"The Black Cauldron\",\"The Black Hole\",\"Blank Check\",\"D2: The Mighty Ducks\",\"Flight of the Navigator\",\"The Great Mouse Detective\",\"Herbie Goes To Monte Carlo\",\"Hocus Pocus\",\"Honey I Blew Up the Kid\",\"Honey, I Shrunk the Kids\",\"The Negotiator\",\"The Parent Trap\",\"BASEketball\",\"Roger & Me\",\"The Purple Rose of Cairo\",\"Out of the Past\",\"Doctor Zhivago\",\"Fanny och Alexander\",\"The 'Burbs\",\"Blue Velvet\",\"The Jungle Book\",\"Lady and the Tramp\",\"The Little Mermaid\",\"The Mighty Ducks\",\"The Muppet Christmas Carol\",\"Newsies\",\"One Hundred and One Dalmatians\",\"Peter Pan\",\"Popeye\",\"The Rescuers Down Under\",\"The Rescuers\",\"The Return of Jafar\",\"Return to Oz\",\"The Rocketeer\",\"Sleeping Beauty\",\"Song of the South\",\"Splash\",\"Steamboat Willie\",\"Tron\",\"Swing Kids\",\"Halloween: H20\",\"L.A. Story\",\"The Jerk\",\"Dead Men Don't Wear Plaid\",\"The Man with Two Brains\",\"The Outsiders\",\"Indiana Jones and the Temple of Doom\",\"The Lord of the Rings\",\"Nineteen Eighty-Four\",\"The Dead Zone\",\"Maximum Overdrive\",\"Needful Things\",\"Cujo\",\"Children of the Corn\",\"All Dogs Go to Heaven\",\"The Addams Family\",\"EverAfter\",\"Snake Eyes\",\"Atlantic City\",\"H\\u00f6stsonaten\",\"Who's Afraid of Virginia Woolf?\",\"Adventures in Babysitting\",\"Weird Science\",\"The Nutty Professor\",\"Charlotte's Web\",\"Watership Down\",\"The Secret of NIMH\",\"The Dark Crystal\",\"An American Tail\",\"An American Tail: Fievel Goes West\",\"Legend\",\"Sixteen Candles\",\"Pretty in Pink\",\"St. Elmo's Fire\",\"House\",\"House II: The Second Story\",\"The Gods Must Be Crazy\",\"The Gods Must Be Crazy II\",\"The Avengers\",\"Henry: Portrait of a Serial Killer\",\"Rosemary's Baby\",\"The Neverending Story\",\"The Neverending Story II: The Next Chapter\",\"Attack of the Killer Tomatoes!\",\"Blade\",\"Wrongfully Accused\",\"Beetlejuice\",\"Rope\",\"Family Plot\",\"Frenzy\",\"Topaz\",\"Torn Curtain\",\"Marnie\",\"The Wrong Man\",\"The Man Who Knew Too Much\",\"The Trouble with Harry\",\"I Confess\",\"Strangers on a Train\",\"Stage Fright\",\"54\",\"Willow\",\"The Untouchables\",\"Dirty Work\",\"Knock Off\",\"Lifeboat\",\"Shadow of a Doubt\",\"Saboteur\",\"Suspicion\",\"The Lady Vanishes\",\"Sabotage\",\"The Man Who Knew Too Much\",\"Rounders\",\"Cube\",\"Broadcast News\",\"Working Girl\",\"Married to the Mob\",\"Say Anything...\",\"My Blue Heaven\",\"Hero\",\"Toys\",\"The Seventh Sign\",\"We're No Angels\",\"Nothing but Trouble\",\"A Few Good Men\",\"Indecent Proposal\",\"Rush Hour\",\"Ronin\",\"Urban Legend\",\"If....\",\"Them!\",\"The Thing\",\"The Player\",\"Stardust Memories\",\"Edward Scissorhands\",\"Antz\",\"A Night at the Roxbury\",\"What Dreams May Come\",\"The Producers\",\"History of the World: Part I\",\"My Cousin Vinny\",\"Nashville\",\"Holy Man\",\"2010\",\"Children of a Lesser God\",\"The Elephant Man\",\"Bride of Chucky\",\"Practical Magic\",\"Happiness\",\"Apt Pupil\",\"Pleasantville\",\"Soldier\",\"La vita \\u00e8 bella\",\"Orgazmo\",\"Tales from the Darkside: The Movie\",\"Vampires\",\"American History X\",\"Gods and Monsters\",\"The Siege\",\"The Waterboy\",\"Elizabeth\",\"Velvet Goldmine\",\"I Still Know What You Did Last Summer\",\"I'll Be Home for Christmas\",\"Meet Joe Black\",\"Runaway Train\",\"The Stepford Wives\",\"Sid & Nancy\",\"Mona Lisa\",\"Le notti di Cabiria\",\"The Big Chill\",\"Enemy of the State\",\"The Rugrats Movie\",\"A Bug's Life\",\"Celebrity\",\"Central do Brasil\",\"Waking Ned\",\"Festen\",\"Pink Flamingos\",\"\\u30b4\\u30b8\\u30e9\",\"King Kong\",\"King Kong\",\"Desperately Seeking Susan\",\"The Emerald Forest\",\"Fletch\",\"Fletch Lives\",\"Red Sonja\",\"The Money Pit\",\"A View to a Kill\",\"Lifeforce\",\"Police Academy\",\"Police Academy 2: Their First Assignment\",\"Police Academy 3: Back in Training\",\"Police Academy 4: Citizens on Patrol\",\"Police Academy 5: Assignment Miami Beach\",\"Police Academy 6: City Under Siege\",\"Babe: Pig in the City\",\"Very Bad Things\",\"Psycho\",\"Little Voice\",\"A Simple Plan\",\"Jack Frost\",\"Star Trek: Insurrection\",\"The Prince of Egypt\",\"Rushmore\",\"Shakespeare in Love\",\"Miracle on 34th Street\",\"Santa Claus: The Movie\",\"Pale Rider\",\"Rambo: First Blood Part II\",\"First Blood\",\"Rambo III\",\"The Jewel of the Nile\",\"Romancing the Stone\",\"Cocoon\",\"Cocoon: The Return\",\"Rocky II\",\"Rocky III\",\"Rocky IV\",\"Rocky V\",\"Clue\",\"Young Sherlock Holmes\",\"Back to School\",\"The Karate Kid\",\"The Karate Kid, Part II\",\"The Karate Kid, Part III\",\"National Lampoon's Christmas Vacation\",\"You've Got Mail\",\"The Thin Red Line\",\"The Faculty\",\"Mighty Joe Young\",\"Patch Adams\",\"Stepmom\",\"A Civil Action\",\"Wilde\",\"Affliction\",\"Varsity Blues\",\"Virus\",\"Howard the Duck\",\"The Gate\",\"The Fly\",\"The Fly\",\"The Fly II\",\"Running Scared\",\"The Texas Chain Saw Massacre\",\"The Texas Chainsaw Massacre 2\",\"Leatherface: Texas Chainsaw Massacre III\",\"Texas Chainsaw Massacre: The Next Generation\",\"Ruthless People\",\"Deadly Friend\",\"The Name of the Rose\",\"Jumpin' Jack Flash\",\"Peggy Sue Got Married\",\"Crocodile Dundee\",\"Crocodile Dundee II\",\"The Color of Money\",\"Heartbreak Ridge\",\"\\u00a1Three Amigos!\",\"El d\\u00eda de la bestia\",\"She's All That\",\"Peeping Tom\",\"Payback\",\"La plan\\u00e8te sauvage\",\"Blast from the Past\",\"Message in a Bottle\",\"My Favorite Martian\",\"Jawbreaker\",\"October Sky\",\"Office Space\",\"8MM\",\"The Long Goodbye\",\"Pet Sematary\",\"Pet Sematary II\",\"Christine\",\"House on Haunted Hill\",\"Airport\",\"Airport 1975\",\"Airport '77\",\"The Towering Inferno\",\"Alligator\",\"Westworld\",\"Logan's Run\",\"Planet of the Apes\",\"Beneath the Planet of the Apes\",\"Battle for the Planet of the Apes\",\"Conquest of the Planet of the Apes\",\"Escape from the Planet of the Apes\",\"Earthquake\",\"Analyze This\",\"The Corruptor\",\"Cruel Intentions\",\"Lock, Stock and Two Smoking Barrels\",\"The Deep End of the Ocean\",\"The Rage: Carrie 2\",\"Wing Commander\",\"The Haunting\",\"Dead Ringers\",\"Village of the Damned\",\"Baby Geniuses\",\"Seul contre tous\",\"Forces of Nature\",\"Ravenous\",\"True Crime\",\"Dangerous Beauty\",\"The King and I\",\"Edtv\",\"The Matrix\",\"10 Things I Hate About You\",\"Following\",\"Go\",\"Never Been Kissed\",\"\\u53cc\\u9f99\\u4f1a\",\"Life\",\"Il mostro\",\"Abre los ojos\",\"SLC Punk\",\"Pushing Tin\",\"Election\",\"eXistenZ\",\"Entrapment\",\"Idle Hands\",\"Mildred Pierce\",\"Night of the Comet\",\"Chopping Mall\",\"Dick Tracy\",\"The Mummy\",\"The Castle\",\"A Midsummer Night's Dream\",\"\\u9ed1\\u4fa0\",\"Star Wars: Episode I - The Phantom Menace\",\"The Mummy\",\"The Mummy\",\"Mommie Dearest\",\"Superman\",\"Superman II\",\"Superman III\",\"Superman IV: The Quest for Peace\",\"Dracula\",\"Frankenstein\",\"The Curse of Frankenstein\",\"The Wolf Man\",\"Tarantula\",\"The Rocky Horror Picture Show\",\"The Thing from Another World\",\"The War of the Worlds\",\"Invasion of the Body Snatchers\",\"Swamp Thing\",\"Notting Hill\",\"The Thirteenth Floor\",\"Instinct\",\"Buena Vista Social Club\",\"Austin Powers: The Spy Who Shagged Me\",\"The Red Violin\",\"Tarzan\",\"The General's Daughter\",\"La leggenda del pianista sull'oceano\",\"Lola rennt\",\"Big Daddy\",\"Le D\\u00eener de cons\",\"Arachnophobia\",\"South Park: Bigger, Longer & Uncut\",\"Wild Wild West\",\"Summer of Sam\",\"American Pie\",\"Arlington Road\",\"Muppets from Space\",\"The Blair Witch Project\",\"Eyes Wide Shut\",\"Lake Placid\",\"Ghostbusters\",\"Ghostbusters II\",\"Drop Dead Gorgeous\",\"The Haunting\",\"Inspector Gadget\",\"Deep Blue Sea\",\"Mystery Men\",\"Runaway Bride\",\"The Killing\",\"Killer's Kiss\",\"Spartacus\",\"Lolita\",\"Barry Lyndon\",\"Les Quatre Cents Coups\",\"Jules et Jim\",\"The Mosquito Coast\",\"The Golden Child\",\"The Color Purple\",\"The Mission\",\"Little Shop of Horrors\",\"The Little Shop of Horrors\",\"Allan Quatermain and the Lost City of Gold\",\"Radio Days\",\"Dick\",\"The Iron Giant\",\"The Sixth Sense\",\"The Thomas Crown Affair\",\"The Thomas Crown Affair\",\"The Yards\",\"Bowfinger\",\"Brokedown Palace\",\"Detroit Rock City\",\"Heaven Can Wait\",\"The Raven\",\"The Pit and the Pendulum\",\"The Masque of the Red Death\",\"Cat's Eye\",\"And Now for Something Completely Different\",\"Damien: Omen II\",\"Omen III: The Final Conflict\",\"Airplane!\",\"Airplane II: The Sequel\",\"An American Werewolf in Paris\",\"National Lampoon\\u2019s European Vacation\",\"National Lampoon's Vacation\",\"Funny Farm\",\"Big\",\"Problem Child\",\"Problem Child 2\",\"Tequila Sunrise\",\"The Pelican Brief\",\"A Christmas Story\",\"Mickey Blue Eyes\",\"Teaching Mrs. Tingle\",\"Universal Soldier: The Return\",\"Universal Soldier\",\"\\u30d1\\u30fc\\u30d5\\u30a7\\u30af\\u30c8\\u30d6\\u30eb\\u30fc\",\"Iron Eagle\",\"Three Days of the Condor\",\"Medicine Man\",\"The 13th Warrior\",\"The Astronaut's Wife\",\"Stigmata\",\"Stir of Echoes\",\"Crna ma\\u010dka, beli ma\\u010dor\",\"Alice Sweet Alice\",\"Yellow Submarine\",\"American Beauty\",\"Blue Streak\",\"For Love of the Game\",\"Caligola\",\"A Hard Day's Night\",\"Fright Night\",\"Fright Night Part 2\",\"Barefoot in the Park\",\"Deliverance\",\"Excalibur\",\"Sommersby\",\"Thumbelina\",\"Tommy\",\"\\u98db\\u9df9\\u8a08\\u5283\",\"\\u9f8d\\u5144\\u864e\\u5f1f\",\"Double Jeopardy\",\"Jakob the Liar\",\"Drive Me Crazy\",\"Mystery, Alaska\",\"Three Kings\",\"The Dark Half\",\"Monkey Shines\",\"Phantasm\",\"Psycho II\",\"Psycho III\",\"\\u693f\\u4e09\\u5341\\u90ce\",\"Random Hearts\",\"Superstar\",\"Boys Don't Cry\",\"The Limey\",\"Risky Business\",\"Total Recall\",\"Body Heat\",\"Ferris Bueller's Day Off\",\"The Year of Living Dangerously\",\"Les Enfants du Paradis\",\"High Plains Drifter\",\"Hang 'em High\",\"\\u9189\\u62f3\",\"Il conformista\",\"Hairspray\",\"Brief Encounter\",\"Reds\",\"Days of Heaven\",\"The Lady Eve\",\"Sullivan's Travels\",\"Niagara\",\"Gilda\",\"Flashdance\",\"The Dirty Dozen\",\"Help!\",\"Goldfinger\",\"From Russia with Love\",\"Dr. No\",\"The Blue Lagoon\",\"Per un pugno di dollari\",\"Hard Eight\",\"Home Alone 2: Lost in New York\",\"Fight Club\",\"The Story of Us\",\"The Straight Story\",\"The Bad Seed\",\"Time Bandits\",\"Fitzcarraldo\",\"All That Jazz\",\"Crimes and Misdemeanors\",\"Bringing Out the Dead\",\"Three to Tango\",\"The Ipcress File\",\"RoboCop\",\"RoboCop 2\",\"Who Framed Roger Rabbit\",\"For Your Eyes Only\",\"Licence to Kill\",\"Live and Let Die\",\"Thunderball\",\"House on Haunted Hill\",\"Being John Malkovich\",\"\\u3082\\u306e\\u306e\\u3051\\u59eb\",\"The Bachelor\",\"The Bone Collector\",\"The Insider\",\"American Movie\",\"Bride of Re-Animator\",\"Coma\",\"Creepshow\",\"Creepshow 2\",\"Re-Animator\",\"Drugstore Cowboy\",\"Falling Down\",\"The Funhouse\",\"The General\",\"Piranha\",\"Nighthawks\",\"\\u7528\\u5fc3\\u68d2\",\"The Omega Man\",\"Spaceballs\",\"Robin Hood\",\"La Guerre du feu\",\"Little Big Man\",\"Trading Places\",\"Meatballs\",\"Dead Again\",\"Anywhere But Here\",\"Dogma\",\"Joan of Arc\",\"\\u5287\\u5834\\u7248\\u30dd\\u30b1\\u30c3\\u30c8\\u30e2\\u30f3\\u30b9\\u30bf\\u30fc \\u30df\\u30e5\\u30a6\\u30c4\\u30fc\\u306e\\u9006\\u8972\",\"The Commitments\",\"Holiday Inn\",\"The Longest Day\",\"Poison Ivy\",\"Tora! Tora! Tora!\",\"Mujeres al borde de un ataque de nervios\",\"The Verdict\",\"The Adventures of Buckaroo Banzai Across the 8th Dimension\",\"Stand and Deliver\",\"Moonstruck\",\"Jeremiah Johnson\",\"Repulsion\",\"Irma la Douce\",\"Mansfield Park\",\"Sleepy Hollow\",\"The World Is Not Enough\",\"Todo sobre mi madre\",\"Scrooged\",\"Harvey\",\"Ladri di biciclette\",\"\\u5f71\\u6b66\\u8005\",\"McCabe & Mrs. Miller\",\"Maurice\",\"The Grapes of Wrath\",\"The Shop Around the Corner\",\"The Natural\",\"A River Runs Through It\",\"Fatal Attraction\",\"Jagged Edge\",\"Midnight Run\",\"Awakenings\",\"Backdraft\",\"The Fisher King\",\"End of Days\",\"Toy Story 2\",\"Flawless\",\"The Distinguished Gentleman\",\"The End of the Affair\",\"Sweet and Lowdown\",\"The Bonfire of the Vanities\",\"La Grande Illusion\",\"Deuce Bigalow: Male Gigolo\",\"The Green Mile\",\"The Cider House Rules\",\"The Last Picture Show\",\"Anna and the King\",\"Bicentennial Man\",\"Stuart Little\",\"Fantasia 2000\",\"Magnolia\",\"Easy Rider\",\"Any Given Sunday\",\"Man on the Moon\",\"Galaxy Quest\",\"The Talented Mr. Ripley\",\"Next Friday\",\"The Hurricane\",\"Angela's Ashes\",\"Titus\",\"Girl, Interrupted\",\"My Dog Skip\",\"Supernova\",\"The Way We Were\",\"Stalag 17\",\"The Presidio\",\"Papillon\",\"The Last Detail\",\"Five Easy Pieces\",\"Dead Calm\",\"The Boys from Brazil\",\"La maschera del demonio\",\"National Lampoon's Loaded Weapon 1\",\"Fast Times at Ridgemont High\",\"Batman: Mask of the Phantasm\",\"Pacific Heights\",\"\\u7802\\u306e\\u5973\",\"Down to You\",\"Encino Man\",\"Malcolm X\",\"Sister Act\",\"Sister Act 2: Back in the Habit\",\"The Hand that Rocks the Cradle\",\"Alive\",\"Scent of a Woman\",\"Wayne's World\",\"Wayne's World 2\",\"A League of Their Own\",\"Patriot Games\",\"The Bodyguard\",\"Death Becomes Her\",\"Far and Away\",\"Howards End\",\"Singles\",\"Twin Peaks: Fire Walk with Me\",\"White Men Can't Jump\",\"Buffy the Vampire Slayer\",\"\\u8fa3\\u624b\\u795e\\u63a2\",\"C'est arriv\\u00e9 pr\\u00e8s de chez vous\",\"El Mariachi\",\"Stop! Or My Mom Will Shoot\",\"Forever Young\",\"The Cutting Edge\",\"Of Mice and Men\",\"Bad Lieutenant\",\"Scream 3\",\"Single White Female\",\"The Boondock Saints\",\"The Beach\",\"The Tigger Movie\",\"To Sir, with Love\",\"Boiler Room\",\"Pitch Black\",\"The Whole Nine Yards\",\"The Circus\",\"City Lights\",\"The Kid\",\"Reindeer Games\",\"Wonder Boys\",\"Ghost Dog: The Way of the Samurai\",\"Key Largo\",\"Cross of Iron\",\"Birdy\",\"Mission to Mars\",\"The Ninth Gate\",\"Defending Your Life\",\"Breaking Away\",\"Hoosiers\",\"Bull Durham\",\"Dog Day Afternoon\",\"American Graffiti\",\"The Asphalt Jungle\",\"The Searchers\",\"The Big Country\",\"On the Beach\",\"The Taking of Pelham One Two Three\",\"JFK\",\"Who's Harry Crumb?\",\"Harry and the Hendersons\",\"She-Devil\",\"Blind Date\",\"The Muppet Movie\",\"The Great Muppet Caper\",\"The Muppets Take Manhattan\",\"We're Back! A Dinosaur's Story\",\"Erin Brockovich\",\"Final Destination\",\"L'Ours\",\"\\u0417\\u0435\\u0440\\u043a\\u0430\\u043b\\u043e\",\"Thelma & Louise\",\"...And Justice for All\",\"Animal House\",\"Do the Right Thing\",\"Jungle Fever\",\"Coogan's Bluff\",\"Death Wish\",\"Death Wish 2\",\"Death Wish 3\",\"Double Indemnity\",\"Dying Young\",\"Teenage Mutant Ninja Turtles\",\"Teenage Mutant Ninja Turtles II: The Secret of the Ooze\",\"Teenage Mutant Ninja Turtles III\",\"Red Dawn\",\"Bloodsport\",\"Good Morning, Vietnam\",\"Grumpy Old Men\",\"Guess Who's Coming to Dinner\",\"Romeo Must Die\",\"Lord of the Flies\",\"Modern Times\",\"Heart and Souls\",\"Hud\",\"The Hustler\",\"Inherit the Wind\",\"\\u0414\\u0435\\u0440\\u0441\\u0443 \\u0423\\u0437\\u0430\\u043b\\u0430\",\"Close Encounters of the Third Kind\",\"A Place in the Sun\",\"Jacob's Ladder\",\"Empire Records\",\"La Bamba\",\"Ladyhawke\",\"High Fidelity\",\"The Road to El Dorado\",\"The Skulls\",\"El Dorado\",\"Hook\",\"Horror Express\",\"True Grit\",\"Midnight Express\",\"Misery\",\"\\u0421\\u043e\\u043b\\u044f\\u0440\\u0438\\u0441\",\"Network\",\"No Way Out\",\"The Odd Couple\",\"The Outlaw Josey Wales\",\"Frequency\",\"Return to Me\",\"Rules of Engagement\",\"Force 10 from Navarone\",\"Mystery Train\",\"Arthur\",\"Bachelor Party\",\"Parenthood\",\"Predator\",\"The Prince of Tides\",\"The Postman Always Rings Twice\",\"28 Days\",\"American Psycho\",\"Keeping the Faith\",\"East Is East\",\"Diner\",\"Cabaret\",\"What Ever Happened to Baby Jane?\",\"Guys and Dolls\",\"The Hunger\",\"Marathon Man\",\"Caddyshack\",\"Gossip\",\"Love & Basketball\",\"U-571\",\"The Virgin Suicides\",\"Jennifer Eight\",\"Limelight\",\"The Crow: Salvation\",\"The Flintstones in Viva Rock Vegas\",\"Where the Heart Is\",\"The Big Kahuna\",\"Idioterne\",\"The Hidden\",\"Gladiator\",\"Human Traffic\",\"Breathless\",\"Inferno\",\"Mr. Mom\",\"Battlefield Earth\",\"Center Stage\",\"Pee-wee's Big Adventure\",\"Saludos Amigos\",\"Honeymoon in Vegas\",\"Dinosaur\",\"Loser\",\"Road Trip\",\"Small Time Crooks\",\"Possession\",\"Mission: Impossible II\",\"Shanghai Noon\",\"Carnival of Souls\",\"The Gold Rush\",\"Monsieur Verdoux\",\"On Her Majesty's Secret Service\",\"The Spy Who Loved Me\",\"Moonraker\",\"The Man with the Golden Gun\",\"Cl\\u00e9o de cinq \\u00e0 sept\",\"Big Momma's House\",\"American Gigolo\",\"Paura nella citt\\u00e0 dei morti viventi\",\"The Guns of Navarone\",\"La Grande bouffe\",\"Quatermass and the Pit\",\"Puppet Master\",\"Romeo and Juliet\",\"Blazing Saddles\",\"White Christmas\",\"Eraserhead\",\"Baraka\",\"Per qualche dollaro in pi\\u00f9\",\"Magnum Force\",\"Blood Simple\",\"The Fabulous Baker Boys\",\"Prizzi's Honor\",\"Flatliners\",\"Porky's\",\"Porky's II: The Next Day\",\"The Toxic Avenger\",\"Night of the Creeps\",\"Predator 2\",\"The Running Man\",\"Starman\",\"Alien Nation\",\"Mad Max\",\"Mad Max 2\",\"Mad Max Beyond Thunderdome\",\"Bird on a Wire\",\"Angel Heart\",\"Nine 1/2 Weeks\",\"Firestarter\",\"Sleepwalkers\",\"Soapdish\",\"Gone in Sixty Seconds\",\"Hamlet\",\"Assault on Precinct 13\",\"Near Dark\",\"Shaft\",\"The Conversation\",\"The Fury\",\"Serpico\",\"Ace in the Hole\",\"The Sugarland Express\",\"Big Trouble in Little China\",\"Badlands\",\"\\u0411\\u0440\\u043e\\u043d\\u0435\\u043d\\u043e\\u0441\\u0435\\u0446 \\u00ab\\u041f\\u043e\\u0442\\u0451\\u043c\\u043a\\u0438\\u043d\\u00bb\",\"Boys and Girls\",\"Shaft\",\"Titan A.E.\",\"Chicken Run\",\"Me, Myself & Irene\",\"The Patriot\",\"The Adventures of Rocky & Bullwinkle\",\"The Perfect Storm\",\"Fun & Fancy Free\",\"The Kentucky Fried Movie\",\"Bound by Honor\",\"F/X\",\"Missing in Action\",\"Missing in Action 2: The Beginning\",\"Braddock: Missing in Action III\",\"Thunderbolt and Lightfoot\",\"Dreamscape\",\"Croupier\",\"The Kid\",\"Scary Movie\",\"But I'm a Cheerleader\",\"Blow-Up\",\"Footloose\",\"X-Men\",\"What Lies Beneath\",\"\\u5287\\u5834\\u7248\\u30dd\\u30b1\\u30c3\\u30c8\\u30e2\\u30f3\\u30b9\\u30bf\\u30fc \\u5e7b\\u306e\\u30dd\\u30b1\\u30e2\\u30f3 \\u30eb\\u30ae\\u30a2\\u7206\\u8a95\",\"Anatomy of a Murder\",\"Freejack\",\"La ciociara\",\"What About Bob?\",\"Everything You Always Wanted to Know About Sex *But Were Afraid to Ask\",\"Interiors\",\"Love and Death\",\"\\u30bf\\u30f3\\u30dd\\u30dd\",\"Nutty Professor II: The Klumps\",\"Autumn in New York\",\"Coyote Ugly\",\"Hollow Man\",\"Space Cowboys\",\"Saving Grace\",\"I tre volti della paura\",\"The Crush\",\"Kelly's Heroes\",\"Phantasm II\",\"Phantasm III: Lord of the Dead\",\"Pumpkinhead\",\"Air America\",\"Sleepaway Camp\",\"Steel Magnolias\",\"Bless the Child\",\"The Replacements\",\"The Cell\",\"The Naked Gun: From the Files of Police Squad!\",\"The Naked Gun 2\\u00bd: The Smell of Fear\",\"Shane\",\"Cat Ballou\",\"Supergirl\",\"The Art of War\",\"Bring It On\",\"Highlander: Endgame\",\"Anatomie\",\"Nurse Betty\",\"The Watcher\",\"The Way of the Gun\",\"Almost Famous\",\"Under Suspicion\",\"Urban Legends: Final Cut\",\"Dancer in the Dark\",\"Best in Show\",\"Girlfight\",\"Remember the Titans\",\"Hellraiser\",\"Hellbound: Hellraiser II\",\"Hellraiser III: Hell on Earth\",\"Stranger Than Paradise\",\"Fantastic Voyage\",\"Bud Abbott Lou Costello Meet Frankenstein\",\"Creature from the Black Lagoon\",\"The Invisible Man\",\"The Slumber Party Massacre\",\"Digimon: The Movie\",\"Get Carter\",\"Get Carter\",\"Meet the Parents\",\"Requiem for a Dream\",\"Tigerland\",\"The Contender\",\"Dr. T and the Women\",\"The Time Machine\",\"Ghoulies\",\"The Adventures of Ichabod and Mr. Toad\",\"Detour\",\"Billy Elliot\",\"Bedazzled\",\"Pay It Forward\",\"...E tu vivrai nel terrore! L'aldil\\u00e0\",\"\\u9189\\u62f3\\u4e8c\",\"Book of Shadows: Blair Witch 2\",\"The Little Vampire\",\"Charlie's Angels\",\"The Legend of Bagger Vance\",\"Little Nicky\",\"Men of Honor\",\"Red Planet\",\"You Can Count on Me\",\"Diamonds Are Forever\",\"The Eagle Has Landed\",\"The 6th Day\",\"Bounce\",\"How the Grinch Stole Christmas\",\"Rugrats in Paris: The Movie\",\"102 Dalmatians\",\"Mal\\u00e8na\",\"Quills\",\"Unbreakable\",\"\\u5367\\u864e\\u85cf\\u9f99\",\"Dungeons & Dragons\",\"Proof of Life\",\"Vertical Limit\",\"The Bounty\",\"Planes, Trains and Automobiles\",\"The Living Daylights\",\"The Transformers: The Movie\",\"Wall Street\",\"Born on the Fourth of July\",\"Brewster's Millions\",\"Snatch\",\"Chocolat\",\"Dude, Where\\u2019s My Car?\",\"The Emperor's New Groove\",\"Pollock\",\"What Women Want\",\"Finding Forrester\",\"The Gift\",\"Before Night Falls\",\"Cast Away\",\"The Family Man\",\"Miss Congeniality\",\"O Brother, Where Art Thou?\",\"State and Main\",\"Dracula 2000\",\"All the Pretty Horses\",\"Thirteen Days\",\"Traffic\",\"Shadow of the Vampire\",\"House of Games\",\"Annie\",\"Don't Tell Mom the Babysitter's Dead\",\"An Officer and a Gentleman\",\"The Alamo\",\"At Close Range\",\"Gettysburg\",\"Antitrust\",\"Save the Last Dance\",\"The Pledge\",\"The Man in the Moon\",\"Mystic Pizza\",\"Coffy\",\"I'm Gonna Git You Sucka\",\"Sugar & Spice\",\"The Wedding Planner\",\"Baby Boom\",\"Barfly\",\"Beverly Hills Cop II\",\"Beverly Hills Cop\",\"The Brave Little Toaster\",\"Can't Buy Me Love\",\"Cherry 2000\",\"Eddie Murphy Raw\",\"Empire of the Sun\",\"The Evil Dead\",\"Flowers in the Attic\",\"Innerspace\",\"Jaws: The Revenge\",\"Less Than Zero\",\"The Lost Boys\",\"Mannequin\",\"Masters of the Universe\",\"The Monster Squad\",\"Head Over Heels\",\"Valentine\",\"\\u82b1\\u6a23\\u5e74\\u83ef\",\"The Million Dollar Hotel\",\"Hannibal\",\"Saving Silverman\",\"Down to Earth\",\"Recess: School's Out\",\"Sweet November\",\"Monkeybone\",\"3000 Miles to Graceland\",\"The Mexican\",\"15 Minutes\",\"Get Over It\",\"Alfie\",\"The Abominable Dr. Phibes\",\"Death Warrant\",\"Double Impact\",\"Harley Davidson and the Marlboro Man\",\"Mermaids\",\"Manhunter\",\"Reversal of Fortune\",\"Death on the Nile\",\"DeepStar Six\",\"Revenge of the Nerds\",\"Revenge of the Nerds II: Nerds in Paradise\",\"River's Edge\",\"The Longest Yard\",\"C.H.U.D.\",\"Enemy at the Gates\",\"Exit Wounds\",\"The Dish\",\"Memento\",\"Heartbreakers\",\"Someone Like You...\",\"Spy Kids\",\"Tomcats\",\"The Tailor of Panama\",\"Amores perros\",\"Along Came a Spider\",\"Blow\",\"Just Visiting\",\"Pok\\u00e9mon 3: The Movie\",null,null,null,\"Bridget Jones's Diary\",\"Joe Dirt\",\"Josie and the Pussycats\",\"Chopper\",\"Crocodile Dundee in Los Angeles\",\"Freddy Got Fingered\",\"Scarface\",\"Driven\",\"One Night at McCool's\",\"The Mummy Returns\",\"Cleopatra\",\"Krull\",\"Triumph des Willens\",\"The World According to Garp\",\"Fellini Satyricon\",\"Frankie and Johnny\",\"Nine to Five\",\"Love Story\",\"Du rififi chez les hommes\",\"A Knight's Tale\",\"Angel Eyes\",\"Shrek\",\"Moulin Rouge!\",\"Pearl Harbor\",\"The Man Who Cried\",\"Love Potion No. 9\",\"City Slickers\",\"Eight Men Out\",\"La notte\",\"Mississippi Burning\",\"The Magnificent Seven\",\"Rio Bravo\",\"Throw Momma from the Train\",\"\\u4e00\\u4e00\",\"The Sand Pebbles\",\"Von Ryan's Express\",\"The Animal\",\"What's the Worst That Could Happen?\",\"Evolution\",\"Swordfish\",\"Catch-22\",\"Point Break\",\"Unlawful Entry\",\"Gentlemen Prefer Blondes\",\"How to Marry a Millionaire\",\"The Seven Year Itch\",\"Tootsie\",\"Atlantis: The Lost Empire\",\"Lara Croft: Tomb Raider\",\"Dr. Dolittle 2\",\"The Fast and the Furious\",\"A.I. Artificial Intelligence\",\"Baby Boy\",\"Crazy/Beautiful\",\"Sexy Beast\",\"Le Placard\",\"Les Rivi\\u00e8res pourpres\",\"Cats & Dogs\",\"Kiss of the Dragon\",\"Scary Movie 2\",\"Lost and Delirious\",\"Baise-moi\",\"Alice\",\"I soliti ignoti\",\"The Cannonball Run\",\"Cannonball Run II\",\"House of Usher\",\"Faust \\u2013 Eine deutsche Volkssage\",\"Der letzte Mann\",\"The Man Who Shot Liberty Valance\",\"Salvador\",\"Shadows and Fog\",\"Something Wild\",\"The Sons of Katie Elder\",\"Quella villa accanto al cimitero\",\"All That Heaven Allows\",\"Viskningar och rop\",\"Kiss Me Deadly\",\"The Lion in Winter\",\"The Misfits\",\"Moby Dick\",\"Sweet Smell of Success\",\"Suspiria\",\"\\u7cbe\\u6b66\\u9580\",\"Christiane F. - Wir Kinder vom Bahnhof Zoo\",\"\\u5510\\u5c71\\u5927\\u5144\",\"\\u6b7b\\u4ea1\\u904a\\u6232\",\"The Last Dragon\",\"Outland\",\"\\u731b\\u9f8d\\u904e\\u6c5f\",\"Final Fantasy: The Spirits Within\",\"Legally Blonde\",\"The Score\",\"Bully\",\"Made\",\"The Accidental Tourist\",\"The Accused\",\"Above the Law\",\"The Adventures of Baron Munchausen\",\"Beaches\",\"Big Business\",\"Biloxi Blues\",\"The Blob\",\"Caddyshack II\",\"Cocktail\",\"Colors\",\"Coming to America\",\"Critters\",\"Critters 2\",\"Critters 3\",\"The Dead Pool\",\"Dirty Rotten Scoundrels\",\"Elvira, Mistress of the Dark\",\"Frantic\",\"Gorillas in the Mist\",\"The Great Outdoors\",\"High Spirits\",\"The Lair of the White Worm\",\"The Land Before Time\",\"License to Drive\",\"My Stepmother is an Alien\",\"Out of Rosenheim\",\"Red Heat\",\"Return of the Living Dead Part II\",\"The Return of the Living Dead\",\"Running on Empty\",\"The Serpent and the Rainbow\",\"Short Circuit 2\",\"Short Circuit\",\"Spoorloos\",\"\\u9244\\u7537\",\"They Live\",\"Tucker: The Man and His Dream\",\"Twins\",\"Waxwork\",\"Without a Clue\",\"Always\",\"American Ninja\",\"Bill & Ted's Excellent Adventure\",\"Black Rain\",\"Blind Fury\",\"Casualties of War\",\"Chances Are\",\"Cyborg\",\"The Dream Team\",\"Earth Girls Are Easy\",\"Erik the Viking\",\"Great Balls of Fire!\",\"Harlem Nights\",\"K-9\",\"Kickboxer\",\"Lean On Me\",\"Leviathan\",\"Lock Up\",\"Look Who's Talking\",\"Major League\",\"Meet the Feebles\",\"New York Stories\",\"The Punisher\",\"Jurassic Park III\",\"America's Sweethearts\",\"Brother\",\"Ghost World\",\"Hedwig and the Angry Inch\",\"Planet of the Apes\",\"\\u30ad\\u30e5\\u30a2\",\"Wet Hot American Summer\",\"Road House\",\"Santa sangre\",\"Sea of Love\",\"See No Evil, Hear No Evil\",\"Shocker\",\"The Stepfather\",\"Tango & Cash\",\"Troop Beverly Hills\",\"Turner & Hooch\",\"UHF\",\"Uncle Buck\",\"Vampire's Kiss\",\"The War of the Roses\",\"Warlock\",\"The Wizard\",\"Weekend at Bernie's II\",\"The Cotton Club\",\"Basket Case\",\"Original Sin\",\"The Princess Diaries\",\"Rush Hour 2\",\"La Cage aux folles\",\"Paint Your Wagon\",\"The Shootist\",\"L'Enfant sauvage\",\"Altered States\",\"Any Which Way You Can\",\"American Pie 2\",\"Osmosis Jones\",\"The Others\",\"American Outlaws\",\"Session 9\",\"Captain Corelli's Mandolin\",\"Rat Race\",\"Bubble Boy\",\"The Curse of the Jade Scorpion\",\"Jay and Silent Bob Strike Back\",\"Ghosts of Mars\",\"Summer Catch\",\"Tillsammans\",\"Jeepers Creepers\",\"O\",\"3 Ninjas\",\"Maniac\",\"The Wicker Man\",\"The Musketeer\",\"Rock Star\",\"The Glass House\",\"Hardball\",\"Big Trouble\",\"Training Day\",\"Il grande silenzio\",\"The Legend of Hell House\",\"Little Man Tate\",\"Phantom of the Paradise\",\"Opera\",\"It's a Mad, Mad, Mad, Mad World\",\"Operation Petticoat\",\"Play Misty for Me\",\"The Vanishing\",\"Silkwood\",\"Quadrophenia\",\"SpaceCamp\",\"Don't Say a Word\",\"Hearts in Atlantis\",\"Zoolander\",\"Joy Ride\",\"Serendipity\",\"The Big Red One\",\"La Boum\",\"Brubaker\",\"The Changeling\",\"Cheech & Chong's Next Movie\",\"Coal Miner's Daughter\",\"Cruising\",\"Le Dernier M\\u00e9tro\",\"Bandits\",\"\\u5c11\\u5e74\\u9ec3\\u98db\\u9d3b\\u4e4b\\u9435\\u99ac\\u9a9d\",\"Mulholland Drive\",\"Dirty Harry\",\"Fiddler on the Roof\",\"From Hell\",\"The Last Castle\",\"Riding in Cars with Boys\",\"Waking Life\",\"K-PAX\",\"Thir13en Ghosts\",\"Donnie Darko\",\"Life as a House\",\"The Man Who Wasn't There\",\"Domestic Disturbance\",\"Monsters, Inc.\",\"The One\",\"Tape\",\"Heist\",\"Shallow Hal\",\"Harry Potter and the Philosopher's Stone\",\"Black Knight\",\"Spy Game\",\"El espinazo del diablo\",\"In the Bedroom\",\"Jabberwocky\",\"Funny Girl\",\"\\u00c0 bout de souffle\",\"The Beastmaster\",\"Midway\",\"Subway\",\"Cet obscur objet du d\\u00e9sir\",\"The Toy\",\"Dressed to Kill\",\"Fame\",\"The Final Countdown\",\"Flash Gordon\",\"The Enforcer\",\"The Gauntlet\",\"Lone Wolf McQuade\",\"Lord of the Flies\",\"Ocean's Eleven\",\"Sudden Impact\",\"Behind Enemy Lines\",\"Ocean's Eleven\",\"The Incredible Shrinking Man\",\"No Man's Land\",\"And Then There Were None\",\"Le fabuleux destin d'Am\\u00e9lie Poulain\",\"Not Another Teen Movie\",\"Vanilla Sky\",\"The Royal Tenenbaums\",\"Bill & Ted's Bogus Journey\",\"Clockwise\",\"How High\",\"Jimmy Neutron: Boy Genius\",\"Kate & Leopold\",\"The Lord of the Rings: The Fellowship of the Ring\",\"The Majestic\",\"A Beautiful Mind\",\"The Party\",\"Witness for the Prosecution\",\"Ali\",\"Black Hawk Down\",\"Gosford Park\",\"I Am Sam\",\"Monster's Ball\",\"The Shipping News\",\"The Big Heat\",\"Murder by Death\",\"Orange County\",\"Le Pacte des loups\",\"Another 48 Hrs.\",\"Dragonslayer\",\"Conan the Destroyer\",\"Impostor\",\"Kung Pow: Enter the Fist\",\"Snow Dogs\",\"48 Hrs.\",\"Brainstorm\",\"Dragon: The Bruce Lee Story\",\"Jeder f\\u00fcr sich und Gott gegen alle\",\"M*A*S*H\",\"Seconds\",\"The Count of Monte Cristo\",\"The Mothman Prophecies\",\"A Walk to Remember\",\"Metropolis\",\"La Stanza del figlio\",\"Storytelling\",\"Falling in Love\",\"Slackers\",\"Birthday Girl\",\"Les Valseuses\",\"Big Fat Liar\",\"Collateral Damage\",\"Rollerball\",\"Baby's Day Out\",\"Rookie of the Year\",\"The Sandlot\",\"Don't Look Now\",\"Crossroads\",\"Hart's War\",\"John Q\",\"Return to Never Land\",\"Super Troopers\",\"The Good Son\",\"Sleuth\",\"Used Cars\",\"Dragonfly\",\"Queen of the Damned\",\"Mean Machine\",\"Monsoon Wedding\",\"The Bad News Bears\",\"\\u5438\\u8840\\u9b3c\\u30cf\\u30f3\\u30bf\\u30fcD \\u30d6\\u30e9\\u30c3\\u30c9\\u30e9\\u30b9\\u30c8\",\"Smultronst\\u00e4llet\",\"40 Days and 40 Nights\",\"We Were Soldiers\",\"FernGully: The Last Rainforest\",\"Zombi 2\",\"Scarlet Street\",\"The Time Machine\",\"The Magnificent Ambersons\",\"Heaven's Gate\",\"The Long Good Friday\",\"Motel Hell\",\"Poliziotto Superpi\\u00f9\",\"Ice Age\",\"Resident Evil\",\"Showtime\",\"Y tu mam\\u00e1 tambi\\u00e9n\",\"All the Right Moves\",\"Split Second\",\"Taps\",\"Smokey and the Bandit II\",\"Smokey and the Bandit\",\"Stir Crazy\",\"Blade II\",\"Clockstoppers\",null,null,null,\"Death to Smoochy\",\"Panic Room\",\"The Rookie\",\"La Pianiste\",\"High Crimes\",\"National Lampoon\\u2019s Van Wilder\",\"\\u7f85\\u751f\\u9580\",\"Slap Shot\",\"Changing Lanes\",\"Frailty\",\"The Sweetest Thing\",\"Human Nature\",\"My Big Fat Greek Wedding\",\"3:10 to Yuma\",\"Joe Versus the Volcano\",\"Roma citt\\u00e0 aperta\",\"Three Men and a Baby\",\"Three Men and a Little Lady\",\"Murder by Numbers\",\"The Scorpion King\",\"Enigma\",\"Nueve Reinas\",\"Jason X\",\"Life or Something Like It\",\"Salton Sea\",\"Husbands and Wives\",\"Hollywood Ending\",\"Spider-Man\",\"White Fang\",\"The New Guy\",\"Unfaithful\",\"\\u041b\\u0435\\u0442\\u044f\\u0442 \\u0436\\u0443\\u0440\\u0430\\u0432\\u043b\\u0438\",\"About a Boy\",\"Star Wars: Episode II - Attack of the Clones\",\"The Believer\",\"The Importance of Being Earnest\",\"Every Which Way But Loose\",\"The Hound of the Baskervilles\",\"The Last Waltz\",\"Enough\",\"Insomnia\",\"Spirit: Stallion of the Cimarron\",\"River of No Return\",\"The Sum of All Fears\",\"Undercover Brother\",\"Silent Running\",\"Bad Company\",\"Divine Secrets of the Ya-Ya Sisterhood\",\"The Bourne Identity\",\"Scooby-Doo\",\"Windtalkers\",\"Gangster No. 1\",\"Silver Bullet\",\"Hombre\",\"Men at Work\",\"She Wore a Yellow Ribbon\",\"Lilo & Stitch\",\"Minority Report\",\"Rabbit-Proof Fence\",\"Hey Arnold! The Movie\",\"Mr. Deeds\",\"Look Who's Talking Now!\",\"Like Mike\",\"Men in Black II\",\"Reign of Fire\",\"Road to Perdition\",\"Z\",\"Halloween: Resurrection\",\"Luc\\u00eda y el sexo\",\"Eight Legged Freaks\",\"K-19: The Widowmaker\",\"Stuart Little 2\",\"Austin Powers in Goldmember\",\"Nosferatu: Phantom der Nacht\",\"\\u8d64\\u3072\\u3052\",\"Top Secret!\",\"The Master of Disguise\",\"Signs\",\"L'ultimo bacio\",\"Spy Kids 2: The Island of Lost Dreams\",\"The Good Girl\",\"Blood Work\",\"xXx\",\"24 Hour Party People\",\"S\\u00e5nger fr\\u00e5n andra v\\u00e5ningen\",\"Sur mes l\\u00e8vres\",\"The Principal\",\"Rollerball\",\"The Adventures of Pluto Nash\",\"Blue Crush\",\"\\uc12c\",\"One Hour Photo\",\"Serving Sara\",\"S1m0ne\",\"Undisputed\",\"Clash of the Titans\",\"Hot Shots!\",\"Time After Time\",\"Down and Out in Beverly Hills\",\"Stakeout\",\"Wolfen\",\"FearDotCom\",\"City By The Sea\",\"Swimfan\",\"Johnny Dangerously\",\"The Last House on the Left\",\"Tesis\",\"Barbershop\",\"The Transporter\",\"Igby Goes Down\",\"Captain Ron\",\"The Hills Have Eyes\",\"The Wanderers\",\"The Ladykillers\",\"The Lavender Hill Mob\",\"Society\",\"Das Experiment\",\"Ballistic: Ecks vs. Sever\",\"The Banger Sisters\",\"The Four Feathers\",\"Trapped\",\"8 femmes\",\"Le fate ignoranti\",\"Secretary\",\"\\u5343\\u3068\\u5343\\u5c0b\\u306e\\u795e\\u96a0\\u3057\",\"Sweet Home Alabama\",\"The Tuxedo\",\"Wasabi\",\"Red Dragon\",\"Heaven\",\"Horror of Dracula\",\"Django\",\"Below\",\"Knockaround Guys\",\"The Rules of Attraction\",\"Tuck Everlasting\",\"White Oleander\",\"Bowling for Columbine\",\"\\u5287\\u5834\\u7248\\u30dd\\u30b1\\u30c3\\u30c8\\u30e2\\u30f3\\u30b9\\u30bf\\u30fc \\u30bb\\u30ec\\u30d3\\u30a3 \\u6642\\u3092\\u8d8a\\u3048\\u305f\\u906d\\u9047\\uff08\\u3067\\u3042\\u3044\\uff09\",null,null,null,\"Punch-Drunk Love\",\"The 51st State\",\"The Ring\",\"Auto Focus\",\"Russkiy Kovcheg\",\"Billy Bathgate\",\"\\u706b\\u5782\\u308b\\u306e\\u5893\",\"Jason Goes to Hell: The Final Friday\",\"The Mechanic\",\"Saturday Night Fever\",\"Staying Alive\",\"Urban Cowboy\",\"Terror Train\",\"Xanadu\",\"Banana Joe\",\"Blow Out\",\"The Burning\",\"Cannibal Ferox\",\"Chi trova un amico trova un tesoro\",\"La ch\\u00e8vre\",\"Dead & Buried\",\"The Entity\",\"Gallipoli\",\"Ms .45\",\"My Bloody Valentine\",\"My Dinner with Andr\\u00e9\",\"Le Professionnel\",\"Ghost Ship\",\"Jackass: The Movie\",\"Paid in Full\",\"Frida\",\"Roger Dodger\",\"Casino Royale\",\"The Company of Wolves\",\"I Spy\",\"The Santa Clause 2\",\"Femme Fatale\",\"8 Mile\",\"Far from Heaven\",\"Half Past Dead\",\"Harry Potter and the Chamber of Secrets\",\"Dog Soldiers\",\"La Gloire de mon P\\u00e8re\",\"Return to the Blue Lagoon\",\"Toy Soldiers\",\"Ricomincio da tre\",\"Scanners\",\"La soupe aux choux\",\"Southern Comfort\",\"Thief\",\"Die Another Day\",\"The Emperor's Club\",\"Friday After Next\",\"The Quiet American\",\"Hable con ella\",\"Eight Crazy Nights\",\"Solaris\",\"Treasure Planet\",\"They\",\"Day of the Woman\",\"The Last Seduction\",\"Zulu\",\"Analyze That\",\"Adaptation.\",\"Equilibrium\",\"\\u30d3\\u30b8\\u30bf\\u30fcQ\",\"Escape to Victory\",\"La Boum 2\",\"Class of 1984\",\"Deathtrap\",\"Drumline\",\"The Hot Chick\",\"Maid in Manhattan\",\"Star Trek: Nemesis\",\"About Schmidt\",\"The Lord of the Rings: The Two Towers\",\"25th Hour\",\"Antwone Fisher\",\"Gangs of New York\",\"Two Weeks Notice\",\"Narc\",\"Blue Steel\",\"Body of Evidence\",\"The Children's Hour\",\"The Duellists\",\"My Girl 2\",\"My Girl\",\"\\u3068\\u306a\\u308a\\u306e\\u30c8\\u30c8\\u30ed\",\"Black Christmas\",\"The Day of the Triffids\",\"Catch Me If You Can\",\"Pinocchio\",\"Chicago\",\"The Hours\",\"The Pianist\",\"The King of Comedy\",\"Confessions of a Dangerous Mind\",null,null,null,\"Just Married\",\"A Guy Thing\",\"Kangaroo Jack\",\"National Security\",\"Cidade de Deus\",\"Der amerikanische Freund\",\"Bande \\u00e0 part\",\"Imitation of Life\",\"The Woman in Red\",\"Darkness Falls\",\"Amen.\",\"Biker Boyz\",\"Final Destination 2\",\"The Recruit\",\"The Guru\",\"Lost in La Mancha\",\"May\",\"Ordinary Decent Criminal\",\"Evil Under the Sun\",\"Firefox\",\"Le gendarme et les gendarmettes\",\"The Last Unicorn\",\"A Midsummer Night's Sex Comedy\",\"Missing\",\"Le P\\u00e8re No\\u00ebl est une ordure\",\"Lo squartatore di New York\",\"Tenebre\",\"Trail of the Pink Panther\",\"White Dog\",\"How to Lose a Guy in 10 Days\",\"Shanghai Knights\",\"Daredevil\",\"The Jungle Book 2\",\"Gerry\",\"\\u00c0 la folie... pas du tout\",\"Dennis the Menace\",\"The Black Stallion\",\"The Man Who Fell to Earth\",\"Dark Blue\",\"The Life of David Gale\",\"Old School\",\"Cradle 2 the Grave\",\"Spider\",\"Bringing Down the House\",\"Tears of the Sun\",\"Irr\\u00e9versible\",\"Laurel Canyon\",\"Bend It Like Beckham\",\"The Hunted\",\"Willard\",\"Prozac Nation\",\"Spun\",\"Two-Lane Blacktop\",\"Green Card\",\"Journey to the Center of the Earth\",\"\\u30ea\\u30f3\\u30b0\",\"\\u30ea\\u30f3\\u30b0 2\",\"Boat Trip\",\"Dreamcatcher\",\"Piglet's Big Movie\",\"View from the Top\",\"Basic\",\"The Core\",\"Head of State\",\"What a Girl Wants\",\"\\u5922\",\"La nuit am\\u00e9ricaine\",\"In a Lonely Place\",\"A Man Apart\",\"Phone Booth\",\"\\u30ab\\u30a6\\u30dc\\u30fc\\u30a4\\u30d3\\u30d0\\u30c3\\u30d7 \\u5929\\u56fd\\u306e\\u6249\",\"Mies vailla menneisyytt\\u00e4\",\"Anger Management\",\"House of 1000 Corpses\",\"Lilja 4-Ever\",\"Bulletproof Monk\",\"A Mighty Wind\",\"Holes\",\"Malibu's Most Wanted\",\"Straw Dogs\",\"The Andromeda Strain\",\"Brainscan\",\"Fahrenheit 451\",\"The Wiz\",\"Confidence\",\"Identity\",\"The Lizzie McGuire Movie\",\"X2\",\"Daddy Day Care\",\"\\u5929\\u7a7a\\u306e\\u57ce\\u30e9\\u30d4\\u30e5\\u30bf\",\"Gunfight at the O.K. Corral\",\"The Matrix Reloaded\",\"Down with Love\",\"L'Auberge espagnole\",\"\\u5287\\u5834\\u7248\\u30dd\\u30b1\\u30c3\\u30c8\\u30e2\\u30f3\\u30b9\\u30bf\\u30fc \\u6c34\\u306e\\u90fd\\u306e\\u8b77\\u795e \\u30e9\\u30c6\\u30a3\\u30a2\\u30b9\\u3068\\u30e9\\u30c6\\u30a3\\u30aa\\u30b9\",\"Bruce Almighty\",\"The In-Laws\",\"Finding Nemo\",\"The Italian Job\",\"Wrong Turn\",\"Capturing the Friedmans\",\"2 Fast 2 Furious\",\"Whale Rider\",\"A Man Called Horse\",\"Big Jake\",\"The Crazies\",\"Oscar\",\"Two Mules for Sister Sara\",\"Winchester '73\",\"\\u0427\\u0435\\u043b\\u043e\\u0432\\u0435\\u043a \\u0441 \\u043a\\u0438\\u043d\\u043e\\u0430\\u043f\\u043f\\u0430\\u0440\\u0430\\u0442\\u043e\\u043c\",\"This Boy\\u2019s Life\",\"Barton Fink\",\"Battle of Britain\",\"The Flight of the Phoenix\",\"Le proc\\u00e8s\",\"Good Burger\",\"Dumb and Dumberer: When Harry Met Lloyd\",\"Hollywood Homicide\",\"Rugrats Go Wild\",\"Alex & Emma\",\"28 Days Later\",\"Charlie's Angels: Full Throttle\",\"Angst essen Seele auf\",\"Le locataire\",\"What's Up, Doc?\",\"Hulk\",\"Legally Blonde 2: Red, White & Blonde\",\"Sinbad: Legend of the Seven Seas\",\"Terminator 3: Rise of the Machines\",\"Swimming Pool\",\"Pirates of the Caribbean: The Curse of the Black Pearl\",\"The League of Extraordinary Gentlemen\",\"Bad Boys II\",\"Johnny English\",\"Dirty Pretty Things\",\"Curly Sue\",\"Little Giants\",\"Lara Croft Tomb Raider: The Cradle of Life\",\"Seabiscuit\",\"Spy Kids 3-D: Game Over\",\"Buffalo Soldiers\",\"One, Two, Three\",\"The Private Life of Sherlock Holmes\",\"Remo Williams: The Adventure Begins...\",\"American Wedding\",\"Gigli\",\"The Magdalene Sisters\",\"Freaky Friday\",\"S.W.A.T.\",\"Umberto D.\",\"I Love You to Death\",\"Freddy vs. Jason\",\"Open Range\",\"\\u5c11\\u6797\\u8db3\\u7403\",\"Uptown Girls\",\"American Splendor\",\"Agent Cody Banks\",\"House of Wax\",\"The Sure Thing\",\"Valley Girl\",\"Wait Until Dark\",\"Code Inconnu: R\\u00e9cit Incomplet de Divers Voyages\",\"Showdown in Little Tokyo\",\"\\u6771\\u4eac\\u7269\\u8a9e\",\"THX 1138\",\"Kind Hearts and Coronets\",\"Joe Kidd\",\"The Keep\",\"10\",\"Tremors\",\"The Red Shoes\",\"The Pink Panther\",\"The Pink Panther Strikes Again\",\"Commando\",\"Le Charme discret de la bourgeoisie\",\"\\u751f\\u304d\\u308b\",\"Morte a Venezia\",\"The Medallion\",\"My Boss's Daughter\",\"Jeepers Creepers 2\",\"Dickie Roberts: Former Child Star\",\"The Order\",\"Party Monster\",\"Cabin Fever\",\"Matchstick Men\",\"Once Upon a Time in Mexico\",\"Lost in Translation\",\"\\u5343\\u5e74\\u5973\\u512a\",\"Kuffs\",\"\\u9ec3\\u98db\\u9d3b\",\"Paper Moon\",\"Convoy\",\"Day of the Dead\",\"Hello, Dolly!\",\"Memoirs of an Invisible Man\",\"Once Bitten\",\"The Brood\",\"Anything Else\",\"Cold Creek Manor\",\"Secondhand Lions\",\"Underworld\",\"Bubba Ho-tep\",\"Duplex\",\"The Rundown\",\"Under the Tuscan Sun\",\"Luther\",\"My Life Without Me\",\"Les triplettes de Belleville\",\"Videodrome\",\"\\u0932\\u0917\\u093e\\u0928\",\"Judgment at Nuremberg\",\"La R\\u00e8gle du jeu\",\"Seven Brides for Seven Brothers\",\"All the President's Men\",\"Avalon\",\"Babettes g\\u00e6stebud\",\"Beethoven\",\"Beethoven's 2nd\",\"Boyz n the Hood\",\"Bugsy\",\"Bugsy Malone\",\"Cobra\",\"La comunidad\",\"Phenomena\",\"Crying Freeman\",\"The Meaning of Life\",\"Where Eagles Dare\",\"Tightrope\",\"Sleeping with the Enemy\",\"The Rookie\",\"Into the Night\",\"Three O'Clock High\",\"White Hunter Black Heart\",\"\\u0418\\u0434\\u0438 \\u0438 \\u0441\\u043c\\u043e\\u0442\\u0440\\u0438\",\"Ginger Snaps\",\"Regarding Henry\",\"In Cold Blood\",\"Yankee Doodle Dandy\",\"\\u7363\\u5175\\u885b\\u5fcd\\u98a8\\u5e16\",\"N\\u00f3z w wodzie\",\"Out of Time\",\"School of Rock\",\"The Station Agent\",\"Wonderland\",\"Mystic River\",\"House of the Dead\",\"Intolerable Cruelty\",\"Kill Bill: Vol. 1\",\"Runaway Jury\",\"The Texas Chainsaw Massacre\",\"Pieces of April\",\"Veronica Guerin\",\"In the Cut\",\"Beyond Borders\",\"Radio\",\"Scary Movie 3\",\"Brother Bear\",\"Elephant\",\"The Italian Job\",\"Interstate 60\",\"\\u898b\\u9b3c\",\"Le Cercle Rouge\",\"The Human Stain\",\"Shattered Glass\",\"The Matrix Revolutions\",\"Elf\",\"Love Actually\",\"Father of the Bride\",\"Looney Tunes: Back in Action\",\"Master and Commander: The Far Side of the World\",\"The Missing\",\"The Cat in the Hat\",\"Gothika\",\"21 Grams\",\"Les Invasions barbares\",\"Bad Santa\",\"The Haunted Mansion\",\"Timeline\",\"Damage\",\"Darkman\",\"Europa\",\"Final Analysis\",\"The Freshman\",\"Funny Games\",\"New Jack City\",\"Slacker\",\"WarGames\",\"Ordet\",\"Jeux interdits\",\"La passion de Jeanne d'Arc\",\"Das Cabinet des Dr. Caligari\",\"Gorky Park\",\"The First Great Train Robbery\",\"Greystoke: The Legend of Tarzan, Lord of the Apes\",\"Guarding Tess\",\"Hannah and Her Sisters\",\"The Hard Way\",\"Hercules in New York\",\"Highlander II: The Quickening\",\"Hoffa\",\"Housesitter\",\"Hudson Hawk\",\"Invasion of the Body Snatchers\",\"Kindergarten Cop\",\"King Ralph\",\"The Last Boy Scout\",\"Ultimo tango a Parigi\",\"Lorenzo's Oil\",\"L'Amant\",\"Mr. Destiny\",\"The Night of the Hunter\",\"Nowhere to Run\",\"Over the Top\",\"Passenger 57\",\"Presumed Innocent\",\"Project X\",\"\\u30d0\\u30c8\\u30eb\\u30fb\\u30ed\\u30ef\\u30a4\\u30a2\\u30eb\",\"Sal\\u00f2 o le 120 giornate di Sodoma\",\"Summer School\",\"Silverado\",\"Quick Change\",\"Rabid\",\"Revenge\",\"The Secret of My Success\",\"Fucking \\u00c5m\\u00e5l\",\"Streets of Fire\",\"Teen Wolf\",\"Tacones lejanos\",\"Thunderheart\",\"To Live and Die in L.A.\",\"Trapped in Paradise\",\"37\\u00b02 le matin\",\"Vivre sa vie: film en douze tableaux\",\"Wild at Heart\",\"The Witches\",\"The Witches of Eastwick\",\"Year of the Dragon\",\"Nothing to Lose\",\"The Public Enemy\",\"Jesus Christ Superstar\",\"Birdman of Alcatraz\",\"Aguirre, der Zorn Gottes\",\"La belle et la b\\u00eate\",\"The Birth of a Nation\",\"L'Ann\\u00e9e derni\\u00e8re \\u00e0 Marienbad\",\"The Tragedy of Macbeth\",\"Red River\",\"A Woman Under the Influence\",\"Stagecoach\",\"A Shot in the Dark\",\"Bullitt\",\"Play It Again, Sam\",\"A Passage to India\",\"Amarcord\",\"\\u82f1\\u96c4\",\"The Front Page\",\"\\u98a8\\u306e\\u8c37\\u306e\\u30ca\\u30a6\\u30b7\\u30ab\",\"Doc Hollywood\",\"Dragnet\",\"1941\",\"Foul Play\",\"Profondo Rosso\",\"Les diaboliques\",\"Leprechaun\",\"Adam's Rib\",\"Naked Lunch\",\"A Night at the Opera\",\"Tirez sur le pianiste\",\"Baisers vol\\u00e9s\",\"The Cooler\",\"In America\",\"Honey\",\"The Last Samurai\",\"Big Fish\",\"Something's Gotta Give\",\"Stuck on You\",\"Girl with a Pearl Earring\",\"The Lord of the Rings: The Return of the King\",\"Mona Lisa Smile\",\"Calendar Girls\",\"The Fog of War: Eleven Lessons from the Life of Robert S. McNamara\",\"House of Sand and Fog\",\"Monster\",\"Cheaper by the Dozen\",\"Cold Mountain\",\"Paycheck\",\"Peter Pan\",\"Chasing Liberty\",\"Along Came Polly\",\"Torque\",\"The Great Gatsby\",\"Wuthering Heights\",\"The Adventures of Ford Fairlane\",\"Beyond Re-Animator\",\"Mon oncle\",\"Les Vacances de Monsieur Hulot\",\"My Darling Clementine\",\"To Have and Have Not\",\"High Sierra\",\"Dark Passage\",\"The Ox-Bow Incident\",\"Pumping Iron\",\"No Good Deed\",\"Cool World\",\"La strada\",\"Koroshiya 1\",\"A Boy and His Dog\",\"Intolerance: Love's Struggle Throughout the Ages\",\"Chitty Chitty Bang Bang\",\"The Butterfly Effect\",\"Win a Date with Tad Hamilton!\",\"Touching the Void\",\"The Big Bounce\",\"The Perfect Score\",\"You Got Served\",\"Latter Days\",\"Barbershop 2:  Back in Business\",\"Catch That Kid\",\"Miracle\",\"The Dreamers\",\"Thirteen\",\"50 First Dates\",\"Vanishing Point\",\"The Diary of Anne Frank\",\"Flesh + Blood\",\"King Solomon's Mines\",\"Raw Deal\",\"Confessions of a Teenage Drama Queen\",\"EuroTrip\",\"The Passion of the Christ\",\"Club Dread\",\"Dirty Dancing: Havana Nights\",\"Twisted\",\"Good bye, Lenin!\",\"Hidalgo\",\"Starsky & Hutch\",\"Persona\",\"Pickup on South Street\",\"Just One of the Guys\",\"Agent Cody Banks 2: Destination London\",\"The Girl Next Door\",\"Secret Window\",\"Spartan\",\"Mad Dog and Glory\",\"Dawn of the Dead\",\"Eternal Sunshine of the Spotless Mind\",\"Taking Lives\",\"Jersey Girl\",\"The Ladykillers\",\"Scooby-Doo 2: Monsters Unleashed\",\"Dogville\",\"Ned Kelly\",\"Hellboy\",\"Home on the Range\",\"The Prince & Me\",\"Walking Tall\",\"The United States of Leland\",\"The Alamo\",\"Ella Enchanted\",\"The Whole Ten Yards\",\"Io non ho paura\",\"Shade\",\"The Ten Commandments\",\"Dawn of the Dead\",\"After Hours\",\"Kill Bill: Vol. 2\",\"The Punisher\",\"13 Going on 30\",\"Man on Fire\",\"Envy\",\"Godsend\",\"Laws of Attraction\",\"Mean Girls\",\"New York Minute\",\"Van Helsing\",\"Troy\",\"Carandiru\",\"Coffee and Cigarettes\",\"D-Tox\",\"Enemy Mine\",\"Enter the Dragon\",\"\\u6625\\u5149\\u4e4d\\u6d29\",\"Riget\",\"100 Girls\",\"Fail-Safe\",\"Dobermann\",\"\\u602a\\u8ac7\",\"You Only Live Twice\",\"Octopussy\",\"Never Say Never Again\",\"Le Samoura\\u00ef\",null,null,null,\"Body Double\",\"Chaplin\",\"The Miracle Worker\",\"School Ties\",\"Raising Cain\",\"Rose Red\",\"The China Syndrome\",\"Le salaire de la peur\",\"Look Who's Talking Too\",\"The Delta Force\",\"Cat People\",\"On Deadly Ground\",\"The Postman Always Rings Twice\",\"Explorers\",\"Pierrot le fou\",\"Jason and the Argonauts\",\"Nostalghia\",\"\\u8718\\u86db\\u5de3\\u57ce\",\"La Meglio Giovent\\u00fa\",\"\\u0391\\u03bb\\u03ad\\u03be\\u03b7\\u03c2 \\u0396\\u03bf\\u03c1\\u03bc\\u03c0\\u03ac\\u03c2\",\"Sniper\",\"Internal Affairs\",\"The Parallax View\",\"The Warriors\",\"Zardoz\",\"Jungfruk\\u00e4llan\",\"Cypher\",\"Woodstock\",\"Frank Herbert's Children of Dune\",\"Frank Herbert's Dune\",\"Lammbock\",\"Tremors 2: Aftershocks\",\"Tremors 3: Back to Perfection\",\"Pat Garrett & Billy the Kid\",\"The Last Man on Earth\",\"Gi\\u00f9 la testa\",\"Bring Me the Head of Alfredo Garcia\",\"\\u91ce\\u826f\\u72ac\",\"\\u96a0\\u3057\\u7826\\u306e\\u4e09\\u60aa\\u4eba\",\"\\u5929\\u56fd\\u3068\\u5730\\u7344\",\"The People Under the Stairs\",\"Zelig\",\"Tystnaden\",\"Nattvardsg\\u00e4sterna\",\"S\\u00e5som i en spegel\",\"Sommarnattens leende\",\"The Killers\",\"Nightbreed\",\"Ken Park\",\"A Bridge Too Far\",\"\\u7121\\u9593\\u9053\",\"\\uc7a5\\ud654, \\ud64d\\ub828\",\"Broadway Danny Rose\",\"From Beyond\",\"Dolls\",\"Death Race 2000\",\"\\u83ca\\u6b21\\u90ce\\u306e\\u590f\",\"\\ubd04 \\uc5ec\\ub984 \\uac00\\uc744 \\uaca8\\uc6b8 \\uadf8\\ub9ac\\uace0 \\ubd04\",\"The Getaway\",\"\\u4ec4\\u6697\\u3044\\u6c34\\u306e\\u5e95\\u304b\\u3089\",\"How to Steal a Million\",\"Mean Streets\",\"Hamburger Hill\",\"Dahmer\",\"Bad Day at Black Rock\",\"I Kina spiser de hunde\",\"Crossroads\",\"Sunrise: A Song of Two Humans\",\"Shock Corridor\",\"Au Revoir les Enfants\",\"La dolce vita\",\"\\u4eba\\u72fc\",\"Captain Blood\",\"*batteries not included\",\"\\u5c71\\u6912\\u5927\\u592b\",\"L'avventura\",\"Hiroshima mon amour\",\"\\u96e8\\u6708\\u7269\\u8a9e\",\"The Day of the Jackal\",\"Night of the Living Dead\",\"Safety Last!\",\"Viridiana\",\"Rupan sansei: Kariosutoro no shiro\",\"Arizona Dream\",\"3 Women\",\"Purple Rain\",\"Point of No Return\",\"Jam\\u00f3n, jam\\u00f3n\",\"\\u30c9\\u30fc\\u30eb\\u30ba\",\"The Cowboys\",\"The Caine Mutiny\",\"Black Narcissus\",\"Escape from Alcatraz\",\"Shrek 2\",\"The Day After Tomorrow\",\"Raising Helen\",\"Soul Plane\",\"Saved!\",\"Harry Potter and the Prisoner of Azkaban\",\"Mindhunters\",\"\\u5ea7\\u982d\\u5e02\",\"The Chronicles of Riddick\",\"Garfield\",\"The Stepford Wives\",\"Napoleon Dynamite\",\"Police Academy: Mission to Moscow\",\"Vargtimmen\",\"Les comp\\u00e8res\",\"Indagine su un cittadino al di sopra di ogni sospetto\",\"Super Size Me\",\"La Jet\\u00e9e\",\"White Heat\",\"Scrooge\",\"Memphis Belle\",\"The Cincinnati Kid\",\"The Panic in Needle Park\",\"The Hitcher\",\"Freaks\",\"The Immigrant\",\"Silent Movie\",\"A Matter of Life and Death\",\"Dr. Jekyll and Mr. Hyde\",\"Around the World in 80 Days\",\"DodgeBall: A True Underdog Story\",\"The Terminal\",\"White Chicks\",\"The Notebook\",\"Deux fr\\u00e8res\",\"Kopps\",\"Undead\",\"Pirates of Silicon Valley\",\"Killing Me Softly\",\"The Philadelphia Experiment\",\"Juice\",\"Revenge of the Pink Panther\",\"Angels with Dirty Faces\",\"Taxi\",\"Taxi 3\",\"\\u6771\\u4eac\\u30b4\\u30c3\\u30c9\\u30d5\\u30a1\\u30fc\\u30b6\\u30fc\\u30ba\",\"All of Me\",\"Overboard\",\"Johnny Guitar\",\"El \\u00e1ngel exterminador\",\"Fahrenheit 9/11\",\"Roxanne\",\"Hard Times\",\"The Last Starfighter\",\"Spider-Man 2\",\"Before Sunset\",\"The Clearing\",\"King Arthur\",\"Anchorman: The Legend of Ron Burgundy\",\"Sleepover\",\"A Cinderella Story\",\"I, Robot\",\"Mar\\u00eda, llena eres de gracia\",\"Kr\\u00f3tki film o zabijaniu\",\"How the West Was Won\",\"The Bourne Supremacy\",\"Catwoman\",\"Un condamn\\u00e9 \\u00e0 mort s'est \\u00e9chapp\\u00e9\",\"Il gattopardo\",\"Une Femme est une femme\",\"Ieri, oggi, domani\",\"Gun Crazy\",\"The Spy Who Came in from the Cold\",\"The Manchurian Candidate\",\"Thunderbirds\",\"The Village\",\"Garden State\",\"Collateral\",\"Little Black Book\",\"Code 46\",\"Harold & Kumar Go to White Castle\",\"The Princess Diaries 2: Royal Engagement\",\"AVP: Alien vs. Predator\",\"Yu-Gi-Oh! The Movie\",\"Without a Paddle\",\"Exorcist: The Beginning\",\"Anacondas: The Hunt for the Blood Orchid\",\"Suspect Zero\",\"Vanity Fair\",\"Wicker Park\",\"Alice Doesn't Live Here Anymore\",\"The Mangler\",\"I Vitelloni\",\"Night of the Demons\",\"Witchboard\",\"Cellular\",\"Resident Evil: Apocalypse\",\"Mr. 3000\",\"Sky Captain and the World of Tomorrow\",\"Wimbledon\",\"First Daughter\",\"The Forgotten\",\"A Dirty Shame\",\"Diarios de motocicleta\",\"Shaun of the Dead\",\"Murder on the Orient Express\",\"Mask\",\"The Man with One Red Shoe\",\"Orca: The Killer Whale\",\"1492: Conquest of Paradise\",\"Cannibal Holocaust\",\"Shark Tale\",\"Ladder 49\",\"I Heart Huckabees\",\"Raise Your Voice\",\"Taxi\",\"Primer\",\"Shall We Dance?\",\"Team America: World Police\",\"Tess\",\"The Fearless Vampire Killers\",\"Friday Night Lights\",\"The Final Cut\",\"Surviving Christmas\",\"The Grudge\",\"Alfie\",\"Sideways\",\"The Machinist\",\"Vera Drake\",\"Saw\",\"Ray\",\"Birth\",\"The Incredibles\",\"The Polar Express\",\"Kinsey\",\"Seed of Chucky\",\"After the Sunset\",\"Bridget Jones: The Edge of Reason\",\"Finding Neverland\",\"Veer-Zaara\",\"National Treasure\",\"La mala educaci\\u00f3n\",\"The SpongeBob SquarePants Movie\",\"Alexander\",\"Christmas with the Kranks\",\"Closer\",\"\\u5341\\u9762\\u57cb\\u4f0f\",\"Ocean's Twelve\",\"Blade: Trinity\",\"D.A.R.Y.L.\",\"Fire in the Sky\",\"Jeux d'enfants\",\"K\\u00f6rkarlen\",\"H\\u00e4xan\",\"Sherlock, Jr.\",\"The Phantom of the Opera\",\"Steamboat Bill, Jr.\",\"Un chien andalou\",\"Little Caesar\",\"Scarface\",\"Vampyr - Der Traum des Allan Grey\",\"Island of Lost Souls\",\"L'Atalante\",\"Mr. Deeds Goes to Town\",\"Holiday\",\"The Roaring Twenties\",\"Wuthering Heights\",\"Great Expectations\",\"The Stranger\",\"Fort Apache\",\"The Lady from Shanghai\",\"Letter from an Unknown Woman\",\"The Naked City\",\"Los Olvidados\",\"A Star Is Born\",\"The Wild One\",\"Nuit et brouillard\",\"Pickpocket\",\"\\u60aa\\u3044\\u5974\\u307b\\u3069\\u3088\\u304f\\u7720\\u308b\",\"\\u5207\\u8179\",\"Mutiny on the Bounty\",\"Il sorpasso\",\"L'eclisse\",\"Les Tontons Flingueurs\",\"\\u9b3c\\u5a46\",\"La battaglia di Algeri\",\"A Charlie Brown Christmas\",\"The Train\",\"\\u0410\\u043d\\u0434\\u0440\\u0435\\u0439 \\u0420\\u0443\\u0431\\u043b\\u0451\\u0432\",\"Au hasard Balthazar\",\"Batman\",\"Manos: The Hands of Fate\",\"Ast\\u00e9rix le Gaulois\",\"\\u6bba\\u3057\\u306e\\u70d9\\u5370\",\"PlayTime\",\"Point Blank\",\"Ast\\u00e9rix et Cl\\u00e9op\\u00e2tre\",\"Zabriskie Point\",\"The Beguiled\",\"The Devils\",\"Duel\",\"Johnny Got His Gun\",\"Lo chiamavano Trinit\\u00e0...\",\"El Topo\",\"Le grand blond avec une chaussure noire\",\"Les aventures de Rabbi Jacob\",\"Charley Varrick\",\"Dark Star\",\"Il mio nome \\u00e8 Nessuno\",\"Scarecrow\",\"Sisters\",\"Emmanuelle\",\"The Holy Mountain\",\"Les 12 travaux d'Ast\\u00e9rix\",\"French Connection II\",\"Professione: reporter\",\"Novecento\",\"Futureworld\",\"The Message\",\"Silver Streak\",\"Demon Seed\",\"High Anxiety\",\"New York, New York\",\"Sorcerer\",\"Capricorn One\",\"The Hobbit\",\"\\u86c7\\u5f62\\u5201\\u624b\",\"Les Bronz\\u00e9s font du ski\",\"Hair\",\"Bad Boys\",\"Blue Thunder\",\"The Day After\",\"Eddie Murphy: Delirious\",\"\\u6226\\u5834\\u306e\\u30e1\\u30ea\\u30fc\\u30af\\u30ea\\u30b9\\u30de\\u30b9\",\"Rumble Fish\",\"Twilight Zone: The Movie\",\"Silent Night, Deadly Night\",\"Anne of Green Gables\",\"Ast\\u00e9rix et la surprise de C\\u00e9sar\",\"D\\u00e8moni\",\"\\u8b66\\u5bdf\\u6545\\u4e8b\",\"The Quiet Earth\",\"Spies Like Us\",\"The Stuff\",\"Ast\\u00e9rix chez les Bretons\",\"Offret\",\"\\u82f1\\u96c4\\u672c\\u8272\",\"Prince of Darkness\",\"\\u5029\\u5973\\u5e7d\\u9b42\",\"Killer Klowns from Outer Space\",\"Moonwalker\",\"Neco z Alenky\",\"La Vie est un long fleuve tranquille\",\"\\u9b54\\u5973\\u306e\\u5b85\\u6025\\u4fbf\",\"Cry-Baby\",\"Frankenhooker\",\"Hard to Kill\",\"Lionheart\",\"State of Grace\",\"\\u963f\\u98db\\u6b63\\u50b3\",\"Begotten\",\"Dutch\",\"Hearts of Darkness: A Filmmaker's Apocalypse\",\"Johnny Stecchino\",\"\\u529b\\u738b\",\"\\u304a\\u3082\\u3072\\u3067\\u307d\\u308d\\u307d\\u308d\",\"Out for Justice\",\"Quigley Down Under\",\"Captain America\",\"\\u57ce\\u5e02\\u7375\\u4eba\",\"Innocent Blood\",\"\\u7d05\\u306e\\u8c5a\",\"Bad Boy Bubby\",\"Fortress\",\"Sonatine\",\"\\u592a\\u6781\\u5f20\\u4e09\\u4e30\",\"The Stand\",\"Jing wu ying xiong\",\"Major League II\",\"Una pura formalit\\u00e0\",\"The Langoliers\",\"\\u8033\\u3092\\u3059\\u307e\\u305b\\u3070\",\"Pusher\",\"Snow White: A Tale of Terror\",\"Gummo\",\"Nirvana\",\"The Lion King 2: Simba's Pride\",\"From Dusk Till Dawn 3: The Hangman's Daughter\",\"From Dusk Till Dawn 2: Texas Blood Money\",\"Gia\",\"Thursday\",\"\\u6211\\u662f\\u8ab0\",\"Batman & Mr. Freeze: SubZero\",\"\\u4fee\\u7f85\\u96ea\\u59eb\",\"Takedown\",\"Vidocq\",null,null,null,null,\"\\u65b0\\u4e16\\u7d00\\u30a8\\u30f4\\u30a1\\u30f3\\u30b2\\u30ea\\u30aa\\u30f3\\u5287\\u5834\\u7248\",\"Kuch Kuch Hota Hai\",\"Cherry Falls\",\"Kirikou et la Sorci\\u00e8re\",\"Taxi 2\",\"Cruel Intentions 2\",\"An Extremely Goofy Movie\",\"2046\",\"Batman Beyond: Return of the Joker\",\"\\u30aa\\u30fc\\u30c7\\u30a3\\u30b7\\u30e7\\u30f3\",\"Devdas\",\"The Hole\",\"Kabhi Khushi Kabhie Gham\",\"Werckmeister harm\\u00f3ni\\u00e1k\",\"Ast\\u00e9rix & Ob\\u00e9lix Mission Cl\\u00e9op\\u00e2tre\",\"\\uacf5\\ub3d9\\uacbd\\ube44\\uad6c\\uc5ed JSA\",\"Dagon\",\"Ripley's Game\",\"Conspiracy\",\"O Auto da Compadecida\",\"\\u7279\\u52d9\\u8ff7\\u57ce\",\"Darkness\",\"Blood: The Last Vampire\",\"My Little Eye\",\"American Psycho 2: All American Girl\",\"Ali G Indahouse\",\"Cube 2: Hypercube\",\"\\u56de\\u8def\",\"Dil Chahta Hai\",\"\\uc5fd\\uae30\\uc801\\uc778 \\uadf8\\ub140\",\"Dead End\",\"\\ubcf5\\uc218\\ub294 \\ub098\\uc758 \\uac83\",\"\\u81ea\\u6bba\\u30b5\\u30fc\\u30af\\u30eb\",\"Immortel (ad vitam)\",\"A Sound of Thunder\",\"The Lion King 1\\u00bd\",\"The Animatrix\",\"The Brown Bunny\",\"\\u546a\\u6028\",\"11:14\",\"Tremors 4: The Legend Begins\",\"Bring It On Again\",\"Les Rivi\\u00e8res pourpres 2 : Les Anges de l'apocalypse\",\"Ondskan\",\"Batoru rowaiaru II: Chinkonka\",\"In Hell\",\"Lemony Snicket's A Series of Unfortunate Events\",\"De gr\\u00f8nne slagtere\",\"Un long dimanche de fian\\u00e7ailles\",\"Gegen die Wand\",\"\\u30a4\\u30ce\\u30bb\\u30f3\\u30b9\",\"\\u0915\\u0932 \\u0939\\u094b \\u0928\\u093e \\u0939\\u094b\",\"\\u732b\\u306e\\u6069\\u8fd4\\u3057\",\"Tasogare Seibei\",\"Ginger Snaps 2: Unleashed\",\"\\u546a\\u6028\\u3058\\u3085\\u304a\\u3093\",\"\\uc62c\\ub4dc\\ubcf4\\uc774\",\"\\u7740\\u4fe1\\u30a2\\u30ea\",\"The Jacket\",\"Millions\",\"Starship Troopers 2: Hero of the Federation\",\"O Homem Que Copiava\",\"\\u546a\\u60282\",\"Interstella 5555: The 5tory of the 5ecret 5tar 5ystem\",\"Ong Bak\",\"\\u7121\\u9593\\u9053II\",\"Mar adentro\",\"Spanglish\",\"Les Choristes\",\"Saints and Soldiers\",\"The Interpreter\",\"Open Water\",\"\\u7121\\u9593\\u9053III: \\u7d42\\u6975\\u7121\\u9593\",\"Layer Cake\",\"\\u0412\\u043e\\u0437\\u0432\\u0440\\u0430\\u0449\\u0435\\u043d\\u0438\\u0435\",\"Flight of the Phoenix\",\"Mean Creek\",\"The Ring Two\",\"The Corporation\",\"\\u3042\\u305a\\u307f\",\"The Football Factory\",\"\\ud0dc\\uadf9\\uae30 \\ud718\\ub0a0\\ub9ac\\uba70\",\"Born into Brothels\",\"A Scanner Darkly\",\"\\u30ad\\u30e3\\u30b7\\u30e3\\u30fc\\u30f3\",\"Million Dollar Baby\",\"\\u6975\\u9053\\u6050\\u6016\\u5927\\u5287\\u5834 \\u725b\\u982d GOZU\",\"Hotel Rwanda\",\"Hellraiser: Inferno\",\"Charlie and the Chocolate Factory\",\"\\ube48\\uc9d1\",\"The Life Aquatic with Steve Zissou\",\"The Aviator\",\"The Phantom of the Opera\",\"Beyond the Sea\",\"The Woodsman\",\"In Good Company\",\"Meet the Fockers\",\"The Assassination of Richard Nixon\",\"A Love Song for Bobby Long\",\"The Merchant of Venice\",\"Fat Albert\",\"White Noise\",\"The Upside of Anger\",\"Tais-toi !\",\"Deathwatch\",\"\\u30a2\\u30c3\\u30d7\\u30eb\\u30b7\\u30fc\\u30c9\",\"Elektra\",\"Racing Stripes\",\"Coach Carter\",\"Shivers\",\"Rocco e i suoi fratelli\",\"\\uc0b4\\uc778\\uc758 \\ucd94\\uc5b5\",\"The Chase\",\"Sommersturm\",\"Der Untergang\",\"Assault on Precinct 13\",\"Are We There Yet?\",\"Alone in the Dark\",\"Hide and Seek\",\"Boogeyman\",\"The Wedding Date\",\"\\u8ab0\\u3082\\u77e5\\u3089\\u306a\\u3044\",\"The Professionals\",\"Alice in Wonderland\",\"Salem's Lot\",\"Le Trou\",\"Double Dragon\",\"El Cid\",\"\\u30cf\\u30a6\\u30eb\\u306e\\u52d5\\u304f\\u57ce\",\"Steamboy\",\"\\uf9cc\\u7483\\u6a3d\",\"Hitch\",\"Pooh's Heffalump Movie\",\"Bride & Prejudice\",\"Constantine\",\"Son of the Mask\",\"Because of Winn-Dixie\",\"\\u041d\\u043e\\u0447\\u043d\\u043e\\u0439 \\u0434\\u043e\\u0437\\u043e\\u0440\",\"Man of the House\",\"\\u529f\\u592b\",\"No Retreat, No Surrender\",\"The Three Musketeers\",\"Masculin f\\u00e9minin\",\"Night of the Demon\",\"Kontroll\",\"Diary of a Mad Black Woman\",\"Cursed\",\"The Pacifier\",\"Be Cool\",\"Hostage\",\"Robots\",\"Ascenseur pour l'\\u00e9chafaud\",\"Cube Zero\",\"\\uc9c0\\uad6c\\ub97c \\uc9c0\\ucf1c\\ub77c!\",\"Ice Princess\",\"Melinda and Melinda\",\"Miss Congeniality 2: Armed and Fabulous\",\"Guess Who\",\"D.E.B.S.\",\"Greedy\",\"H\\u00f4hokekyo tonari no Yamada-kun\",\"\\u5e73\\u6210\\u72f8\\u5408\\u6226\\u307d\\u3093\\u307d\\u3053\",\"Knockin' on Heaven's Door\",\"MEMORIES\",\"Sin City\",\"Beauty Shop\",\"Sahara\",\"Fever Pitch\",\"Una giornata particolare\",\"Tanguy\",\"Battle of the Bulge\",\"The Little Girl Who Lives Down the Lane\",\"Il deserto rosso\",\"Vincent\",\"\\u0418\\u0432\\u0430\\u0301\\u043d\\u043e\\u0432\\u043e \\u0434\\u0435\\u0301\\u0442\\u0441\\u0442\\u0432\\u043e\",\"Le Voyage dans la Lune\",\"Carrie\",\"The Hitchhiker's Guide to the Galaxy\",\"Barfu\\u00df\",\"The Eiger Sanction\",\"V\\u00e9rit\\u00e9s et Mensonges\",\"The Amityville Horror\",\"Napola \\u2013 Elite f\\u00fcr den F\\u00fchrer\",\"A Lot Like Love\",\"Enron: The Smartest Guys in the Room\",\"xXx: State of the Union\",\"Kingdom of Heaven\",\"House of Wax\",\"Crash\",\"Mysterious Skin\",\"S\\u00e1t\\u00e1ntang\\u00f3\",\"Kes\",\"\\u30d0\\u30f3\\u30d1\\u30a4\\u30a2\\u30cf\\u30f3\\u30bf\\u30fcD\",\"Unleashed\",\"DuckTales: The Movie - Treasure of the Lost Lamp\",\"Star Wars: Episode III - Revenge of the Sith\",\"Kicking & Screaming\",\"Monster-in-Law\",\"9 Songs\",\"Madagascar\",\"Dominion: Prequel to the Exorcist\",\"The Longest Yard\",\"Cinderella Man\",\"The Sisterhood of the Traveling Pants\",\"Lords of Dogtown\",\"Mr. & Mrs. Smith\",\"The Adventures of Sharkboy and Lavagirl\",\"Haute tension\",\"Quo Vadis\",\"Batman Begins\",\"The Perfect Man\",\"My Summer of Love\",\"Herbie Fully Loaded\",\"Land of the Dead\",\"Bewitched\",\"Me and You and Everyone We Know\",\"Crimen Ferpecto\",\"\\uc4f0\\ub9ac, \\ubaac\\uc2a4\\ud130\",\"Die fetten Jahre sind vorbei\",\"Caterina va in citt\\u00e0\",\"Amici miei\",\"The I Inside\",\"War of the Worlds\",\"La Marche de l'empereur\",\"Rebound\",\"Dark Water\",\"De battre mon c\\u0153ur s'est arr\\u00eat\\u00e9\",\"Fantastic Four\",\"Wedding Crashers\",\"Les Poup\\u00e9es Russes\",\"Hustle & Flow\",\"Hardware\",\"The Island\",\"Bad News Bears\",\"The Devil's Rejects\",\"Last Days\",\"Sky High\",\"Stealth\",\"Must Love Dogs\",\"The Order\",\"Serenity\",\"\\u0936\\u094b\\u0932\\u0947\",\"Broken Flowers\",\"The Dukes of Hazzard\",\"The Chumscrubber\",\"Junebug\",\"Deuce Bigalow: European Gigolo\",\"The Skeleton Key\",\"Four Brothers\",\"The Great Raid\",\"Grizzly Man\",\"Attila\",\"Pusher II\",\"Animal Farm\",\"The 40 Year Old Virgin\",\"Red Eye\",\"Main Hoon Na\",\"Dilwale Dulhania Le Jayenge\",\"Cach\\u00e9\",\"Ast\\u00e9rix & Ob\\u00e9lix contre C\\u00e9sar\",\"Valiant\",\"The Brothers Grimm\",\"The Cave\",\"The Constant Gardener\",\"Transporter 2\",\"Just Like Heaven\",\"Proof\",\"Lord of War\",\"Cry_Wolf\",\"Everything is Illuminated\",\"Thumbsucker\",\"Family Guy Presents Stewie Griffin: The Untold Story\",\"\\u8b66\\u5bdf\\u6545\\u4e8b\\u7e8c\\u96c6\",\"\\u65b0\\u8b66\\u5bdf\\u6545\\u4e8b\",\"Doom\",\"Domino\",\"Waiting...\",\"\\u00c6on Flux\",\"An Unfinished Life\",\"The Man\",\"Survive Style 5+\",\"The Exorcism of Emily Rose\",\"Flightplan\",\"Corpse Bride\",\"Green Street Hooligans\",\"A History of Violence\",\"Oliver Twist\",\"The Greatest Game Ever Played\",\"Capote\",\"Final Fantasy VII: Advent Children\",\"Into the Blue\",\"Mirrormask\",\"The Curse of the Were-Rabbit\",\"Kiss Kiss Bang Bang\",\"\\ub2ec\\ucf64\\ud55c \\uc778\\uc0dd\",\"\\u9903\\u5b50\",\"Kr\\u00f3tki film o milosci\",\"Beowulf & Grendel\",\"Goal!: The Dream Begins\",\"Speak\",\"The Wraith\",\"In Her Shoes\",\"The Squid and the Whale\",\"Two for the Money\",\"Brokeback Mountain\",\"Elizabethtown\",\"North Country\",\"Good Night, and Good Luck.\",\"Dreamer: Inspired By a True Story\",\"The Proposition\",\"The Fog\",\"Shopgirl\",\"Where the Truth Lies\",\"Stay\",\"The Legend of Zorro\",\"The Weather Man\",\"Saw II\",\"Prime\",\"American Pie Presents: Band Camp\",\"L'Empire des loups\",\"Manderlay\",\"Revolver\",\"Jarhead\",\"Chicken Little\",\"Dead Man's Shoes\",\"Joyeux No\\u00ebl\",\"Get Rich or Die Tryin'\",\"Just Friends\",\"Syriana\",\"Derailed\",\"Creep\",\"Pride & Prejudice\",\"Edison\",\"Wolf Creek\",\"The Descent\",\"Harry Potter and the Goblet of Fire\",\"Walk the Line\",\"Rent\",\"Zathura: A Space Adventure\",\"CRAZY\",\"Breakfast on Pluto\",\"The Ice Harvest\",\"Yours, Mine & Ours\",\"The Libertine\",\"The Wild Geese\",\"L'uccello dalle piume di cristallo\",\"The Driver\",\"Match Point\",\"The Deep\",\"Paradise Now\",\"The Chronicles of Narnia: The Lion, the Witch and the Wardrobe\",\"King Kong\",\"Memoirs of a Geisha\",\"The Family Stone\",\"Havoc\",\"The Matador\",\"La Grande Vadrouille\",\"The Three Burials of Melquiades Estrada\",\"Munich\",\"The Producers\",\"Transamerica\",\"Rumor Has It...\",\"Cheaper by the Dozen 2\",\"Fun with Dick and Jane\",\"The Ringer\",\"Casanova\",\"Mrs Henderson Presents\",\"El esp\\u00edritu de la colmena\",\"Luxo Jr.\",\"Keeping Mum\",\"\\u6669\\u6625\",\"The Dentist\",\"Yamakasi - Les samoura\\u00efs des temps modernes\",\"The New World\",\"\\u307b\\u3057\\u306e\\u3053\\u3048\",\"\\uce5c\\uc808\\ud55c \\uae08\\uc790\\uc528\",\"Banlieue 13\",\"BloodRayne\",\"Hostel\",\"Grandma's Boy\",\"Tristan & Isolde\",\"Glory Road\",\"Last Holiday\",\"Hoodwinked!\",\"Underworld: Evolution\",\"Casper Meets Wendy\",\"A\\u8a08\\u5283\",\"Little Manhattan\",\"Calvaire\",\"Hellraiser: Hellseeker\",\"Sophie Scholl \\u2013 Die letzten Tage\",\"The World's Fastest Indian\",\"Bandidas\",\"Les Bronz\\u00e9s\",\"Annapolis\",\"Big Momma's House 2\",\"Nanny McPhee\",\"The Dark\",\"Final Destination 3\",\"Imagine Me & You\",\"The Pink Panther\",\"Troll\",\"Curious George\",\"Firewall\",\"When a Stranger Calls\",\"Tamara\",\"London\",\"Freedomland\",\"Eight Below\",\"Date Movie\",\"Running Scared\",\"Madea's Family Reunion\",\"Ultraviolet\",\"Just My Luck\",\"Pulse\",\"16 Blocks\",\"Half Light\",\"Failure to Launch\",\"Ultimate Avengers\",\"Ice Age: The Meltdown\",\"The Big White\",\"Five Children and It\",\"The Prince & Me 2: The Royal Wedding\",\"V for Vendetta\",\"She's the Man\",\"Thank You for Smoking\",\"Find Me Guilty\",\"Inside Man\",\"Tsotsi\",\"Aquamarine\",\"The Hills Have Eyes\",\"The Shaggy Dog\",\"Das Leben der Anderen\",\"Non si sevizia un paperino\",\"Take the Lead\",\"Lucky Number Slevin\",\"Volver\",\"Akeelah and the Bee\",\"Urban Legends: Bloody Mary\",\"Stay Alive\",\"Basic Instinct 2\",\"Brick\",\"Santa's Slay\",\"This Film Is Not Yet Rated\",\"Fr\\u00e1giles\",\"Slither\",\"The Benchwarmers\",\"Renaissance\",\"Friends with Money\",\"Magic\",\"Candy\",\"Scary Movie 4\",\"Hard Candy\",\"Dead Birds\",\"\\u0e0a\\u0e31\\u0e15\\u0e40\\u0e15\\u0e2d\\u0e23\\u0e4c \\u0e01\\u0e14\\u0e15\\u0e34\\u0e14\\u0e27\\u0e34\\u0e0d\\u0e0d\\u0e32\\u0e13\",\"A Prairie Home Companion\",\"The Sentinel\",\"The Wild\",\"Silent Hill\",\"American Dreamz\",\"23\",\"Kinky Boots\",\"\\u0e15\\u0e49\\u0e21\\u0e22\\u0e33\\u0e01\\u0e38\\u0e49\\u0e07\",\"Mission: Impossible III\",\"RV\",\"United 93\",\"Stick It\",\"An American Haunting\",\"Down in the Valley\",\"Over the Hedge\",\"Art School Confidential\",\"Poseidon\",\"The Da Vinci Code\",\"X-Men: The Last Stand\",\"The Break-Up\",\"Peaceful Warrior\",\"Cars\",\"The Omen\",\"Nacho Libre\",\"The Lake House\",\"Click\",\"The Devil Wears Prada\",\"Pirates of the Caribbean: Dead Man's Chest\",\"You, Me and Dupree\",\"Clerks II\",\"Lady in the Water\",\"My Super Ex-Girlfriend\",\"See No Evil\",\"Marie Antoinette\",\"Who Killed the Electric Car?\",\"An Inconvenient Truth\",\"Hollow Man II\",\"High School Musical\",\"\\u970d\\u5143\\u7532\",\"The Fast and the Furious: Tokyo Drift\",\"Garfield: A Tail of Two Kitties\",\"Uno sceriffo extraterrestre - poco extra e molto terrestre\",\"Superman Returns\",\"Little Miss Sunshine\",\"Babel\",\"L'Arm\\u00e9e des ombres\",\"Little Man\",\"Monster House\",\"Snakes on a Plane\",\"Scoop\",\"Talladega Nights: The Ballad of Ricky Bobby\",\"Night at the Museum\",\"World Trade Center\",\"Stranger Than Fiction\",\"Miami Vice\",\"The Pursuit of Happyness\",\"John Tucker Must Die\",\"The Ant Bully\",\"Crank\",\"Black Gold\",null,null,null,\"Chaos\",\"The Night Listener\",\"Barnyard\",\"Step Up\",\"Zoom\",\"Half Nelson\",\"Tideland\",\"\\u9739\\u9742\\u706b\",\"Adams \\u00e6bler\",\"Material Girls\",\"Accepted\",\"Lie with Me\",\"I due superpiedi quasi piatti\",\"The Illusionist\",\"The Queen\",\"36 Quai des Orf\\u00e8vres\",\"Beerfest\",\"Invincible\",\"Le ballon rouge\",\"Angel-A\",\"The Wicker Man\",\"The Quiet\",\"Ronja R\\u00f6vardotter\",\"The Wind That Shakes the Barley\",\"Severance\",\"Hollywoodland\",\"The Covenant\",\"The Last Kiss\",\"Idiocracy\",\"Jesus Camp\",\"La tigre e la neve\",\"The Fountain\",\"La cit\\u00e9 de la peur\",\"La science des r\\u00eaves\",\"The Black Dahlia\",\"The Woods\",\"Everyone's Hero\",\"Gridiron Gang\",\"Der siebente Kontinent\",\"Taxidermia\",\"The Bridge\",\"Apocalypto\",\"Flyboys\",\"Jackass Number Two\",\"All the King's Men\",\"The Land Before Time II: The Great Valley Adventure\",\"Borat: Cultural Learnings of America for Make Benefit Glorious Nation of Kazakhstan\",\"El laberinto del fauno\",\"The Guardian\",\"Open Season\",\"School for Scoundrels\",\"The Departed\",\"The Texas Chainsaw Massacre: The Beginning\",\"Employee of the Month\",\"Stormbreaker\",\"Running with Scissors\",\"The Grudge 2\",\"Man of the Year\",\"The Marine\",\"Infamous\",\"Feast\",\"Little Children\",\"Deliver Us from Evil\",\"Facing the Giants\",\"The Last King of Scotland\",\"Shortbus\",\"Children of Men\",\"The Prestige\",\"Flags of Our Fathers\",\"9 \\u0440\\u043e\\u0442\\u0430\",\"A Guide To Recognizing Your Saints\",\"13 Tzameti\",\"Saw III\",\"The Butterfly Effect 2\",\"Flushed Away\",\"Perfume: The Story of a Murderer\",\"The Santa Clause 3: The Escape Clause\",\"A Good Year\",\"The Return\",\"Casino Royale\",\"Happy Feet\",\"Let's Go to Prison\",\"D\\u00e9j\\u00e0 Vu\",\"Bobby\",\"Deck the Halls\",\"The Holiday\",\"Harsh Times\",\"Fast Food Nation\",\"The Great Train Robbery\",\"Tenacious D in The Pick of Destiny\",\"OSS 117 : Le Caire, nid d'espions\",\"Van Wilder 2: The Rise of Taj\",\"Turistas\",\"Blood Diamond\",\"Unaccompanied Minors\",\"Charlotte's Web\",\"Eragon\",\"Rocky Balboa\",\"Fur: An Imaginary Portrait of Diane Arbus\",\"Shen hua\",\"The Painted Veil\",\"We Are Marshall\",\"\\u96f2\\u306e\\u3080\\u3053\\u3046\\u3001\\u7d04\\u675f\\u306e\\u5834\\u6240\",\"The Good Shepherd\",\"Dreamgirls\",\"Freedom Writers\",\"INLAND EMPIRE\",\"The History Boys\",\"Notes on a Scandal\",\"DOA: Dead or Alive\",\"\\u6eff\\u57ce\\u76e1\\u5e36\\u9ec3\\u91d1\\u7532\",\"Den brysomme mannen\",\"The Good German\",\"Letters from Iwo Jima\",\"Black Christmas\",\"Happily N'Ever After\",\"Code Name: The Cleaner\",\"Stomp the Yard\",\"Miss Potter\",\"Arthur et les Minimoys\",\"Loving Annabelle\",\"American Pie Presents: The Naked Mile\",\"Les demoiselles de Rochefort\",\"Alpha Dog\",\"The Hitcher\",\"The Dead Girl\",\"Efter brylluppet\",\"\\uc2dc\\uac04\",\"Bridge to Terabithia\",\"\\u30cf\\u30a6\\u30b9\",\"Waitress\",\"The Secret\",\"Catch and Release\",\"Smokin' Aces\",\"Blood and Chocolate\",\"Epic Movie\",\"The Messengers\",\"Because I Said So\",\"Hannibal Rising\",\"Norbit\",\"Direkt\\u00f8ren for det hele\",\"Cocaine Cowboys\",\"Lonely Hearts\",\"Ratatouille\",\"Paris, je t'aime\",\"The Astronaut Farmer\",\"Wake Up, Ron Burgundy: The Lost Movie\",\"\\u6bba\\u7834\\u72fc\",\"It's a Boy Girl Thing\",\"Indig\\u00e8nes\",\"Unknown\",\"Ghost Rider\",\"Breach\",\"Music and Lyrics\",\"The Number 23\",\"Reno 911!: Miami\",\"Black Snake Moan\",\"Factory Girl\",\"Kidulthood\",\"Street Trash\",\"Hot Fuzz\",\"\\u5c11\\u6797\\u5345\\u516d\\u623f\",\"Le conseguenze dell'amore\",\"Next\",\"Breaking and Entering\",\"Amazing Grace\",\"Romanzo criminale\",\"2001 Maniacs\",\"Zodiac\",\"Pusher 3\",\"Babylon 5: The Gathering\",\"White Noise 2: The Light\",\"Meshes of the Afternoon\",\"Wild Hogs\",\"Atlantis: Milo's Return\",\"The Ultimate Gift\",\"300\",\"The Abandoned\",\"Starter for 10\",\"The Last Mimzy\",\"Hors de prix\",\"\\uad34\\ubb3c\",\"Becoming Jane\",\"Right at Your Door\",\"I Think I Love My Wife\",\"Premonition\",\"Dead Silence\",\"Reign Over Me\",\"Shooter\",\"The Hills Have Eyes II\",\"TMNT\",\"Zwartboek\",\"The Lookout\",\"Blades of Glory\",\"Are We Done Yet?\",\"The Reaping\",\"Meet the Robinsons\",\"Quel maledetto treno blindato\",\"Seraphim Falls\",\"Sunshine\",\"Palais Royal !\",\"The Hoax\",\"How the Grinch Stole Christmas!\",\"Goya's Ghosts\",\"Perfect Stranger\",\"Disturbia\",\"Pathfinder\",\"La M\\u00f4me\",\"The Contract\",\"Fracture\",\"Big Nothing\",\"Vacancy\",\"Benny's Video\",\"In the Land of Women\",\"Mr. Bean's Holiday\",\"The Invisible\",\"The Condemned\",\"Spider-Man 3\",\"Lucky You\",\"\\u30b2\\u30c9\\u6226\\u8a18\",\"Maniac Cop\",\"The Ex\",\"\\u30d1\\u30d7\\u30ea\\u30ab\",\"Red Road\",\"\\u0414\\u043d\\u0435\\u0432\\u043d\\u043e\\u0439 \\u0434\\u043e\\u0437\\u043e\\u0440\",\"This Is England\",\"Knocked Up\",\"Hairspray\",\"28 Weeks Later\",\"Georgia Rule\",\"\\u5feb\\u9910\\u8eca\",\"Shrek the Third\",\"Once\",\"Pirates of the Caribbean: At World's End\",\"Bug\",\"Mr. Brooks\",\"Rise: Blood Hunter\",\"The Librarian: Return to King Solomon's Mines\",\"The Librarian: Quest for the Spear\",\"\\uc2f8\\uc774\\ubcf4\\uadf8\\uc9c0\\ub9cc \\uad1c\\ucc2e\\uc544\",\"\\u9f8d\\u864e\\u9580\",\"Eagle vs Shark\",\"88 Minutes\",\"The Breed\",\"Cashback\",\"Ocean's Thirteen\",\"Ils\",\"Sheitan\",\"Hostel: Part II\",\"Paranoid Park\",\"Surf's Up\",\"4: Rise of the Silver Surfer\",\"Nancy Drew\",\"Fido\",\"Death Proof\",\"Rescue Dawn\",\"La Doublure\",\"Bring It On: All or Nothing\",\"Goal! II: Living the Dream\",\"Sicko\",\"A Mighty Heart\",\"1408\",\"Death at a Funeral\",\"Live Free or Die Hard\",\"License to Wed\",\"Evan Almighty\",\"Transformers\",\"Captivity\",\"Harry Potter and the Order of the Phoenix\",\"I Now Pronounce You Chuck & Larry\",\"Arn: Tempelriddaren\",\"Across the Universe\",\"When the Wind Blows\",\"Hot Rod\",\"Stardust\",\"Skinwalkers\",\"The Simpsons Movie\",\"I Know Who Killed Me\",\"No Reservations\",\"Underdog\",\"Charlie Bartlett\",\"The Bourne Ultimatum\",\"Bratz\",\"Mon Meilleur Ami\",\"You Kill Me\",\"Ne le dis \\u00e0 personne\",\"...Pi\\u00f9 forte ragazzi!\",\"Se eu fosse voc\\u00ea\",\"Superbad\",\"Joshua\",\"Resurrecting the Champ\",\"Brice de Nice\",\"Rush Hour 3\",\"The Last Legion\",\"Balls of Fury\",\"Sydney White\",\"The Kingdom\",\"Wind Chill\",\"Rocket Science\",\"Daddy Day Camp\",\"The Invasion\",\"War\",\"The Nanny Diaries\",\"Halloween\",\"Death Sentence\",\"2 Days in Paris\",\"The King of Kong\",\"Taxi 4\",\"Behind the Mask: The Rise of Leslie Vernon\",\"Bordertown\",\"The Nines\",\"Ensemble, c'est tout\",\"...altrimenti ci arrabbiamo!\",\"Planet Terror\",\"3:10 to Yuma\",\"Shoot 'Em Up\",\"The Ten\",\"Atonement\",\"4 luni, 3 s\\u0103pt\\u0103m\\u00eeni \\u0219i 2 zile\",\"The Brave One\",\"In the Valley of Elah\",\"Rang De Basanti\",\"I Could Never Be Your Woman\",\"December Boys\",\"The Hunting Party\",\"Eastern Promises\",\"Tekkon kinkur\\u00eeto\",\"Love and Other Disasters\",\"The Death and Life of Bobby Z\",\"Resident Evil: Extinction\",\"Mr. Woodcock\",\"Good Luck Chuck\",\"Into the Wild\",\"The Game Plan\",\"\\u8272\\u2027\\u6212\",\"Postal\",\"The Seeker: The Dark Is Rising\",\"The Heartbreak Kid\",\"Dan in Real Life\",\"The Darjeeling Limited\",\"We Own the Night\",\"Elizabeth: The Golden Age\",\"Michael Clayton\",\"Sleuth\",\"Lars and the Real Girl\",\"30 Days of Night\",\"Rendition\",\"Things We Lost in the Fire\",\"Reservation Road\",\"Gone Baby Gone\",\"The Assassination of Jesse James by the Coward Robert Ford\",\"Persepolis\",\"Control\",\"The Jane Austen Book Club\",\"The Last Winter\",\"Silk\",\"Black Sheep\",\"Auf der anderen Seite\",\"Saw IV\",\"My Mom's New Boyfriend\",\"Tropa de Elite\",\"King of California\",\"Martian Child\",\"American Gangster\",\"Bee Movie\",\"Before the Devil Knows You're Dead\",\"Le scaphandre et le papillon\",\"No Country for Old Men\",\"Be Kind Rewind\",\"Azur et Asmar\",\"August Rush\",\"Du levande\",\"The Man from Earth\",\"Lions for Lambs\",\"Fred Claus\",\"Beowulf\",\"Mr. Magorium's Wonder Emporium\",\"Love in the Time of Cholera\",\"Southland Tales\",\"Smiley Face\",\"The Mist\",\"Enchanted\",\"Hitman\",\"P2\",\"Om Shanti Om\",\"Awake\",\"The Golden Compass\",\"I Am Legend\",\"Alvin and the Chipmunks\",\"Futurama: Bender's Big Score\",\"Margot at the Wedding\",\"I'm Not There.\",\"The Savages\",\"Wrong Turn 2: Dead End\",\"El orfanato\",\"Juno\",\"My Blueberry Nights\",\"La Piscine\",\"Helvetica\",\"The Bucket List\",\"The Kite Runner\",\"The Deaths of Ian Stone\",\"Butterfly on a Wheel\",\"The Hamiltons\",\"The Flock\",\"Wristcutters: A Love Story\",\"Sweeney Todd: The Demon Barber of Fleet Street\",\"National Treasure: Book of Secrets\",\"There Will Be Blood\",\"Charlie Wilson's War\",\"Aliens vs Predator: Requiem\",\"Walk Hard: The Dewey Cox Story\",\"Keinohrhasen\",\"Ricochet\",\"The Great Debaters\",\"The Water Horse\",\"Battlestar Galactica: Razor\",\"P.S. I Love You\",\"27 Dresses\",\"Cassandra's Dream\",\"Taare Zameen Par\",\"\\ub514\\uc6cc\",\"[REC]\",\"In the Name of the King: A Dungeon Siege Tale\",\"Flawless\",\"Cloverfield\",\"Mad Money\",\"Trade\",\"Cleaner\",\"Hatchet\",\"He Was a Quiet Man\",\"\\u6642\\u3092\\u304b\\u3051\\u308b\\u5c11\\u5973\",\"One Missed Call\",\"Untraceable\",\"Rambo\",\"Meet the Spartans\",\"The Eye\",\"Strange Wilderness\",\"Over Her Dead Body\",\"The Signal\",\"Hellboy II: The Golden Army\",\"In Bruges\",\"Rise of the Footsoldier\",\"Wedding Daze\",\"Dark Angel\",\"Teeth\",\"Welcome Home Roscoe Jenkins\",\"Fool's Gold\",\"Jumper\",\"Definitely, Maybe\",\"The Air I Breathe\",\"Vantage Point\",\"The Spiderwick Chronicles\",\"Step Up 2: The Streets\",\"Jodhaa Akbar\",\"The Other Boleyn Girl\",\"Semi-Pro\",\"Run Fatboy Run\",\"College Road Trip\",\"10,000 BC\",\"The Bank Job\",\"Doomsday\",\"Horton Hears a Who!\",\"Funny Games\",\"Die F\\u00e4lscher\",\"\\u041c\\u043e\\u043d\\u0433\\u043e\\u043b\",\"The Love Guru\",\"Diary of the Dead\",\"Penelope\",\"Cidade dos Homens\",\"Zeitgeist\",\"Justice League: The New Frontier\",\"What Just Happened\",\"Return of the Living Dead 3\",\"Miss Pettigrew Lives for a Day\",\"The Dark Knight\",\"Never Back Down\",\"\\u9577\\u6c5f\\u4e03\\u865f\",\"Drillbit Taylor\",\"Alatriste\",\"21\",\"Smart People\",\"Leatherheads\",\"Stop-Loss\",\"\\u00c0 l'int\\u00e9rieur\",\"Nim's Island\",\"The Ruins\",\"Forgetting Sarah Marshall\",\"Sex and Death 101\",\"Superhero Movie\",\"Street Kings\",\"The Visitor\",\"Harold & Kumar Escape from Guantanamo Bay\",\"99 francs\",\"Speed Racer\",\"Gabriel\",\"Chapter 27\",\"The Forbidden Kingdom\",\"The Life Before Her Eyes\",\"Virgin Territory\",\"Happy-Go-Lucky\",\"Religulous\",\"Outpost\",\"Son of Rambow\",\"Super High Me\",\"Outsourced\",\"Deception\",\"Baby Mama\",\"Prom Night\",\"Iron Man\",\"Made of Honor\",\"Redbelt\",\"Taken\",\"The Fall\",\"Stargate: The Ark of Truth\",\"Meet Bill\",\"An American Crime\",\"What Happens in Vegas\",\"American Pie Presents: Beta House\",\"The Chronicles of Narnia: Prince Caspian\",\"Shelter\",\"War, Inc.\",\"The Girl Next Door\",\"Indiana Jones and the Kingdom of the Crystal Skull\",\"The Oxford Murders\",\"Shutter\",\"Sex and the City\",\"The Strangers\",\"Savage Grace\",\"All the Boys Love Mandy Lane\",\"Kung Fu Panda\",\"The Andromeda Strain\",\"You Don't Mess with the Zohan\",\"The Promotion\",\"Mio fratello \\u00e8 figlio unico\",\"Chaos Theory\",\"Boy A\",\"Doctor Who\",\"\\u6295\\u540d\\u72c0\",\"The Happening\",\"The Incredible Hulk\",\"WALL\\u00b7E\",\"Wanted\",\"Hancock\",\"Get Smart\",\"Young People Fucking\",\"St. Trinian's\",\"Futurama: The Beast with a Billion Backs\",\"Bambi II\",\"The Wackness\",\"Encounters at the End of the World\",\"Zombie Strippers!\",\"Frosty the Snowman\",\"Mamma Mia!\",\"Bienvenue chez les ch'tis\",\"Rogue\",\"It's the Great Pumpkin, Charlie Brown\",\"Journey to the Center of the Earth\",\"Meet Dave\",\"\\u7247\\u8155\\u30de\\u30b7\\u30f3\\u30ac\\u30fc\\u30eb\",\"Death Defying Acts\",\"Shrooms\",\"\\u30c7\\u30b9\\u30ce\\u30fc\\u30c8\",\"Transsiberian\",\"Space Chimps\",\"Stargate: Continuum\",\"Watchmen\",\"Shotgun Stories\",\"Felon\",\"Step Brothers\",\"Brideshead Revisited\",\"The X Files: I Want to Believe\",\"Man on Wire\",\"The Little Mermaid II: Return to the Sea\",\"Pathology\",\"The Edge of Love\",\"The Mummy: Tomb of the Dragon Emperor\",\"Swing Vote\",\"The Midnight Meat Train\",\"Frozen River\",\"Bottle Shock\",\"Vicky Cristina Barcelona\",\"Batman: Gotham Knight\",\"\\ub0b4 \\uba38\\ub9ac \\uc18d\\uc758 \\uc9c0\\uc6b0\\uac1c\",\"Pineapple Express\",\"Chi bi\",\"The Sisterhood of the Traveling Pants 2\",\"Hell Ride\",\"Elegy\",\"High School Musical 2\",\"Tropic Thunder\",\"The Objective\",\"Star Wars: The Clone Wars\",\"Henry Poole Is Here\",\"Mutant Chronicles\",\"Vals Im Bashir\",\"L\\u00e5t den r\\u00e4tte komma in\",\"Hamlet 2\",\"Death Race\",\"The House Bunny\",\"The Rocker\",\"Mirrors\",\"Sukiyaki Western Django\",\"Return to House on Haunted Hill\",\"Burn After Reading\",\"Disaster Movie\",\"Babylon A.D.\",\"Traitor\",\"The Women\",\"La terza madre\",\"The Spirit\",\"John Adams\",\"The Burning Plain\",\"Bangkok Dangerous\",\"\\u5bfc\\u706b\\u7ebf\",\"Altered\",\"Righteous Kill\",\"Lakeview Terrace\",\"Ghost Town\",\"100 Feet\",\"Boot Camp\",\"Appaloosa\",\"Miracle at St. Anna\",\"Eagle Eye\",\"How to Lose Friends & Alienate People\",\"Nights in Rodanthe\",\"Nick and Norah's Infinite Playlist\",\"Martyrs\",\"Gomorra\",\"The Accidental Husband\",\"The Duchess\",\"Rachel Getting Married\",\"Body of Lies\",\"City of Ember\",\"Max Payne\",\"Zack and Miri Make a Porno\",\"W.\",\"My Best Friend's Girl\",\"Synecdoche, New York\",\"The Secret Life of Bees\",\"Flash of Genius\",\"Die Welle\",\"Angus, Thongs and Perfect Snogging\",\"Quarantine\",\"Pride and Glory\",\"The Express\",\"RockNRolla\",\"High School Musical 3: Senior Year\",\"Futurama: Bender's Game\",\"Tin Man\",\"Madagascar: Escape 2 Africa\",\"Blindness\",\"Changeling\",\"The Road\",\"Slumdog Millionaire\",\"Quantum of Solace\",\"Role Models\",\"\\u6771\\u4eac\\u6b8b\\u9177\\u8b66\\u5bdf\",\"JCVD\",\"\\u30af\\u30ed\\u30fc\\u30baZERO\",\"Krabat\",\"Camp Rock\",\"Farscape: The Peacekeeper Wars\",\"Saw V\",\"Sex Drive\",\"Beverly Hills Chihuahua\",\"Entre les murs\",\"Splinter\",\"Australia\",\"Bolt\",\"Milk\",\"Twilight\",\"The Children\",\"Transporter 3\",\"Four Christmases\",\"The Boy in the Striped Pyjamas\",\"Surveillance\",\"Fireproof\",\"Igor\",\"Dinotopia\",\"Hunger\",\"Cadillac Records\",\"Punisher: War Zone\",\"Shrek the Halls\",\"A Matter of Loaf and Death\",\"The Day the Earth Stood Still\",\"Che: Part One\",\"Che: Part Two\",\"Starship Troopers 3: Marauder\",\"Doubt\",\"Gran Torino\",\"Frost/Nixon\",\"The Reader\",\"Rab Ne Bana Di Jodi\",\"\\u30b9\\u30c8\\u30ec\\u30f3\\u30c2\\u30a2 \\u7121\\u7687\\u5203\\u8b5a\",\"Il y a longtemps que je t'aime\",\"Seven Pounds\",\"The Wrestler\",\"The Curious Case of Benjamin Button\",\"Yes Man\",\"Valkyrie\",\"\\u79d2\\u901f5\\u30bb\\u30f3\\u30c1\\u30e1\\u30fc\\u30c8\\u30eb\",\"Ben X\",\"Alien Raiders\",\"Bedtime Stories\",\"Choke\",\"Revolutionary Road\",\"Loft\",\"Dear Zachary: A Letter to a Son About His Father\",\"Wild Child\",\"Defiance\",\"Zeitgeist: Addendum\",\"Marley & Me\",\"\\u5d16\\u306e\\u4e0a\\u306e\\u30dd\\u30cb\\u30e7\",\"Jack Brooks: Monster Slayer\",\"Wendy and Lucy\",\"Open Season 2\",\"Last Chance Harvey\",\"\\u8449\\u554f\",\"Replicant\",\"Passengers\",\"The Tale of Despereaux\",\"Bride Wars\",\"L'Instinct de mort\",\"My Bloody Valentine\",\"Battle in Seattle\",\"Los cronocr\\u00edmenes\",\"Underworld: Rise of the Lycans\",\"Inkheart\",\"The Lazarus Project\",\"Paul Blart: Mall Cop\",\"Notorious\",\"The Unborn\",\"Wo ist Fred?\",\"Make It Happen\",\"Repo! The Genetic Opera\",\"The Uninvited\",\"Outlander\",\"The Grudge 3\",\"Eden Lake\",\"Coraline\",\"\\u0e0a\\u0e47\\u0e2d\\u0e04\\u0e42\\u0e01\\u0e41\\u0e25\\u0e15\",\"The Escapist\",\"Push\",\"The International\",\"Two Lovers\",\"He's Just Not That Into You\",\"Dead Like Me: Life After Death\",\"Futurama: Into the Wild Green Yonder\",\"Hotel for Dogs\",\"Fronti\\u00e8re(s)\",\"Fireflies in the Garden\",\"\\u304a\\u304f\\u308a\\u3073\\u3068\",\"My Name Is Bruce\",\"Funny People\",\"Berlin Calling\",\"Street Fighter: The Legend of Chun-Li\",\"Away We Go\",\"Thick as Thieves\",\"Il Divo\",\"Paris\",\"Friday the 13th\",\"\\uc88b\\uc740 \\ub188, \\ub098\\uc05c \\ub188, \\uc774\\uc0c1\\ud55c \\ub188\",\"The Pink Panther 2\",\"Far Cry\",\"Dr. Horrible's Sing-Along Blog\",\"The Cottage\",\"Day of the Dead\",\"I Love You, Man\",\"Dance of the Dead\",\"The Haunting in Connecticut\",\"Duplicity\",\"Knowing\",\"Ong Bak 2\",\"M\\u00e4n som hatar kvinnor\",\"Sunshine Cleaning\",\"Kung Fu Panda: Secrets of the Furious Five\",\"Echelon Conspiracy\",\"Monsters vs Aliens\",\"Contre-Enqu\\u00eate\",\"Der Baader Meinhof Komplex\",\"Big Stan\",\"Nothing But the Truth\",\"Anvil! The Story of Anvil\",\"Observe and Report\",\"Adventureland\",\"Confessions of a Shopaholic\",\"The Butterfly Effect 3: Revelations\",\"Revanche\",\"The Lucky Ones\",\"Dragonball Evolution\",\"Rest Stop\",\"Fast & Furious\",\"In the Loop\",\"The Boat That Rocked\",\"17 Again\",\"Non c'\\u00e8 due senza quattro\",\"Inglourious Basterds\",\"State of Play\",\"The Damned United\",\"Crank: High Voltage\",\"Moon\",\"The Young Victoria\",\"The Informers\",\"X-Men Origins: Wolverine\",\"The Girlfriend Experience\",\"Sin Nombre\",\"Star Trek\",\"The Great Buck Howard\",\"\\u8d64\\u58c1 2\",\"S. Darko\",\"Earth\",\"Crossing Over\",\"Angels & Demons\",\"Powder Blue\",\"Fanboys\",\"Incendiary\",\"Les Chansons d'Amour\",\"Management\",\"Terminator Salvation\",\"Night at the Museum: Battle of the Smithsonian\",\"Lesbian Vampire Killers\",\"The Brothers Bloom\",\"Pr\\u00eate-moi ta main\",\"The Soloist\",\"The Last House on the Left\",\"Drag Me to Hell\",\"Up\",\"\\u5287\\u5834\\u7248 \\u92fc\\u306e\\u932c\\u91d1\\u8853\\u5e2b \\u30b7\\u30e3\\u30f3\\u30d0\\u30e9\\u3092\\u5f81\\u304f\\u8005\",\"Easy Virtue\",\"Dance Flick\",\"OSS 117 : Rio ne r\\u00e9pond plus\",\"Fired Up!\",\"Welcome\",\"In the Electric Mist\",\"The Hangover\",\"Killshot\",\"Antichrist\",\"L'Aile ou la Cuisse\",\"New in Town\",\"D\\u00f8d sn\\u00f8\",\"Land of the Lost\",\"Imagine That\",\"The Taking of Pelham 1 2 3\",\"Flammen & Citronen\",\"The Stoning of Soraya M.\",\"The Proposal\",\"Year One\",\"The Hurt Locker\",\"The Limits of Control\",\"Transformers: Revenge of the Fallen\",\"Home\",\"Whatever Works\",\"Ghosts of Girlfriends Past\",\"Public Enemies\",\"Ice Age: Dawn of the Dinosaurs\",\"Prison Break: The Final Break\",\"My Sister's Keeper\",\"(500) Days of Summer\",\"Br\\u00fcno\",\"The Librarian: The Curse of the Judas Chalice\",\"Franklyn\",\"Harry Potter and the Half-Blood Prince\",\"Les Visiteurs 2 : Les Couloirs du temps\",\"Open Water 2: Adrift\",\"My Sassy Girl\",\"The Imaginarium of Doctor Parnassus\",\"Polytechnique\",\"Ch\\u00e9ri\",\"Orphan\",\"The Ugly Truth\",\"The Collector\",\"A Perfect Getaway\",\"Aliens in the Attic\",\"District 9\",\"Julie & Julia\",\"Obsessed\",\"Race to Witch Mountain\",\"Hannah Montana: The Movie\",\"G.I. Joe: The Rise of Cobra\",\"12 Rounds\",\"The Killing Room\",\"Max Manus\",\"\\u30f1\\u30f4\\u30a1\\u30f3\\u30b2\\u30ea\\u30f2\\u30f3\\u65b0\\u5287\\u5834\\u7248\\uff1a\\u5e8f\",\"The Ramen Girl\",\"The Goods: Live Hard, Sell Hard\",\"Adam\",\"The Time Traveler's Wife\",\"Miss March\",\"Bandslam\",\"I Love You, Beth Cooper\",\"G-Force\",\"Fighting\",\"Bronson\",\"If Only\",\"The Secret of Moonacre\",\"Vacancy 2: The First Cut\",\"Post Grad\",\"My Life in Ruins\",\"Troll 2\",\"Taking Woodstock\",\"Halloween II\",\"El secreto de sus ojos\",\"9\",\"Green Street Hooligans 2\",\"Frequently Asked Questions About Time Travel\",\"Das weisse Band\",\"Green Lantern: First Flight\",\"Pandorum\",\"The Men Who Stare at Goats\",\"Jennifer's Body\",\"The Informant!\",\"The Broken\",\"Extract\",\"The Final Destination\",\"Gamer\",\"Cloudy with a Chance of Meatballs\",\"Food, Inc.\",\"\\ubc15\\uc950\",\"Battle for Terra\",\"Love Happens\",\"Bright Star\",\"Blood Creek\",\"Hellraiser: Deader\",\"Hellraiser: Hellworld\",\"Paranormal Activity\",\"World's Greatest Dad\",\"\\u6b69\\u3044\\u3066\\u3082 \\u6b69\\u3044\\u3066\\u3082\",\"Capitalism: A Love Story\",\"The Cove\",\"A Serious Man\",\"City Island\",\"Ink\",\"Trick 'r Treat\",\"The Hills Run Red\",\"Whip It\",\"The Invention of Lying\",\"Surrogates\",\"Zombieland\",\"Fame\",\"Assassination of a High School President\",\"Sorority Row\",\"Whiteout\",\"An Education\",\"Coco avant Chanel\",\"Couples Retreat\",\"All About Steve\",\"Jab We Met\",\"Deadgirl\",\"I Sell The Dead\",\"Where the Wild Things Are\",\"Legionnaire\",\"New York, I Love You\",\"Law Abiding Citizen\",\"Amelia\",\"The Stepfather\",\"Mary and Max\",\"Spread\",\"The Tournament\",\"The Boys Are Back\",\"Up in the Air\",\"Mutant Pumpkins from Outer Space\",\"Saw VI\",\"Michael Jackson's This Is It\",\"\\u611b\\u306e\\u3080\\u304d\\u3060\\u3057\",\"Cirque du Freak: The Vampire's Assistant\",\"The Boondock Saints II: All Saints Day\",\"Black Dynamite\",\"Astro Boy\",\"Fantastic Mr. Fox\",\"Creation\",\"A Christmas Carol\",\"Battlestar Galactica: The Plan\",\"Partly Cloudy\",\"2012\",\"The Box\",\"Los abrazos rotos\",\"The Fourth Kind\",\"Precious\",\"The Bad Lieutenant: Port of Call - New Orleans\",\"The Twilight Saga: New Moon\",\"The Messenger\",\"Keith\",\"Ninja Assassin\",\"Celda 211\",\"Merry Madagascar\",\"Brothers\",\"The Blind Side\",\"Mickey's Once Upon a Christmas\",\"Shrink\",\"Old Dogs\",\"Planet 51\",\"Objectified\",\"Earthlings\",\"A Single Man\",\"The Lovely Bones\",\"Invictus\",\"The Princess and the Frog\",\"Everybody's Fine\",\"Armored\",\"Invaders from Mars\",\"Doghouse\",\"Did You Hear About the Morgans?\",\"Veronika Decides to Die\",\"Avatar\",\"Nine\",\"It's Complicated\",\"Sherlock Holmes\",\"Crazy Heart\",\"The Last Station\",\"Alvin and the Chipmunks: The Squeakquel\",\"Beyond a Reasonable Doubt\",\"Looking for Eric\",\"American Pie Presents: The Book of Love\",\"Matrimonio all'italiana\",\"Carriers\",\"Pontypool\",\"Youth in Revolt\",\"Daybreakers\",\"Hachi: A Dog's Tale\",\"Leap Year\",\"The Book of Eli\",\"Luftslottet som spr\\u00e4ngdes\",\"Un proph\\u00e8te\",\"The Maiden Heist\",\"Blood: The Last Vampire\",\"Horsemen\",\"Swades\",\"A\\u8a08\\u5283\\u7e8c\\u96c6\",\"Soul Kitchen\",\"Chasseurs de dragons\",\"Bo bui gai wak\",\"Le Concert\",\"The Other Man\",\"Ninja\",\"Ast\\u00e9rix aux Jeux Olympiques\",\"\\ucd94\\uaca9\\uc790\",\"Rudolph, the Red-Nosed Reindeer\",\"Nowhere Boy\",\"The Thaw\",\"Blood and Bone\",\"Undisputed II: Last Man Standing\",\"3 Idiots\",\"Legion\",\"Stan Helsing\",\"Extraordinary Measures\",\"Der rote Baron\",\"When in Rome\",\"Edge of Darkness\",\"Triangle\",\"I Love You Phillip Morris\",\"Temple Grandin\",\"Le Premier Jour du reste de ta vie\",\"The House of the Devil\",\"Fish Tank\",\"\\u092e\\u094b\\u0939\\u092c\\u094d\\u092c\\u0924\\u0947\\u0902\",\"Valentine's Day\",\"The Wolfman\",\"Shutter Island\",\"Bitch Slap\",\"Ondine\",\"Flickan som lekte med elden\",\"Percy Jackson & the Olympians: The Lightning Thief\",\"Cop Out\",\"The Ghost Writer\",\"The Secret of Kells\",\"The Spy Next Door\",\"Agora\",\"\\u65b0\\u5bbf\\u4e8b\\u4ef6\",\"Banlieue 13 - Ultimatum\",\"The Crazies\",\"Dear John\",\"Tooth Fairy\",\"Eden Log\",\"Isolation\",\"La Habitaci\\u00f3n de Fermat\",\"[REC]\\u00b2\",\"Cabin Fever 2: Spring Fever\",\"The Room\",\"My Name Is Khan\",\"Alice in Wonderland\",\"Green Zone\",\"From Paris with Love\",\"Road Trip: Beer Pong\",\"Dorian Gray\",\"Greenberg\",\"Brooklyn's Finest\",\"She's Out of My League\",\"Harry Brown\",\"Remember Me\",\"Joy Ride 2: Dead Ahead\",\"The Burrowers\",\"Frozen\",\"Survival of the Dead\",\"Nine Dead\",\"The Bounty Hunter\",\"Leaves of Grass\",\"Nordwand\",\"Repo Men\",\"Case 39\",\"Oceans\",\"Hot Tub Time Machine\",\"Chloe\",\"\\ub9c8\\ub354\",\"How to Train Your Dragon\",\"Tom and Jerry: The Movie\",\"\\u062f\\u0631\\u0628\\u0627\\u0631\\u0647 \\u0627\\u0644\\u06cc\\u200e\\u200e\",\"Universal Soldier: Regeneration\",\"I Hate Valentine's Day\",\"Micmacs \\u00e0 tire-larigot\",\"Clash of the Titans\",\"Defendor\",\"Kick-Ass\",\"Date Night\",\"Kronk's New Groove\",\"After.Life\",\"The Final\",\"Peacock\",\"The Runaways\",\"Death at a Funeral\",\"Valhalla Rising\",\"Diary of a Wimpy Kid\",\"Io sono l'amore\",\"Ballet Shoes\",\"\\u039a\\u03c5\\u03bd\\u03cc\\u03b4\\u03bf\\u03bd\\u03c4\\u03b1\\u03c2\",\"\\u5357\\u4eac!\\u5357\\u4eac!\",\"The Losers\",\"The Last Song\",\"Cyrus\",\"The Human Centipede (First Sequence)\",\"Exit Through the Gift Shop\",\"Solomon Kane\",\"Iron Man 2\",\"Levanon\",\"Marmaduke\",\"MacGruber\",\"Ca$h\",\"Les Dalton\",\"Cargo\",\"A Nightmare on Elm Street\",\"Four Lions\",\"Diario de una ninf\\u00f3mana\",\"Furry Vengeance\",\"You Don't Know Jack\",\"St Trinian's 2: The Legend of Fritton's Gold\",\"The Disappearance of Alice Creed\",\"12 Angry Men\",\"Robin Hood\",\"Peau d'\\u00e2ne\",\"Dread\",\"Cemetery Junction\",\"Blue Valentine\",\"Killers\",\"La Folie des grandeurs\",\"Buried\",\"Prince of Persia: The Sands of Time\",\"Please Give\",\"Baar\\u00eca\",\"Sex and the City 2\",\"Get Him to the Greek\",\"Unthinkable\",\"Friendship!\",\"The Back-Up Plan\",\"Splice\",\"Letters to Juliet\",\"The Descent: Part 2\",\"Exam\",\"Jonah Hex\",\"The A-Team\",\"Toy Story 3\",\"Winter's Bone\",\"Shrek Forever After\",\"Rampage\",\"The Killer Inside Me\",\"TiMER\",\"24: Redemption\",\"The Twilight Saga: Eclipse\",\"Solitary Man\",\"Enter the Void\",\"The Last Airbender\",\"Didier\",\"South Park: Imaginationland\",\"Predators\",\"Despicable Me\",\"Inception\",\"Grown Ups\",\"The Sorcerer's Apprentice\",\"Knight and Day\",\"The Karate Kid\",\"The Good Guy\",\"The Kids Are All Right\",\"Srpski film\",\"Batman: Under the Red Hood\",\"Salt\",\"Mr. Nobody\",\"Dinner for Schmucks\",\"Nanny McPhee and the Big Bang\",\"Le petit Nicolas\",\"\\u8449\\u554f2: \\u5b97\\u5e2b\\u50b3\\u5947\",\"Ramona and Beezus\",\"Charlie St. Cloud\",\"The Rebound\",\"The Other Guys\",\"Operation: Endgame\",\"Paper Man\",\"The Expendables\",\"Scott Pilgrim vs. the World\",\"Animal Kingdom\",\"Centurion\",\"J'ai tu\\u00e9 ma m\\u00e8re\",\"Die P\\u00e4pstin\",\"The Experiment\",\"Black Water\",\"Heartless\",\"Piranha 3D\",\"Les Aventures extraordinaires d'Ad\\u00e8le Blanc-Sec\",\"Get Low\",\"According to Greta\",\"The Joneses\",\"Gainsbourg (vie h\\u00e9ro\\u00efque)\",\"TEKKEN\",\"\\u30c9\\u30e9\\u30b4\\u30f3\\u30dc\\u30fc\\u30eb\\uff3a \\u30aa\\u30e9\\u306e\\u609f\\u98ef\\u3092\\u304b\\u3048\\u305b\\u30c3!!\",\"The Last Exorcism\",\"The American\",\"Jackass 2.5\",\"La Horde\",\"The Switch\",\"Fear and Desire\",\"Machete\",\"Step Up 3D\",\"Going the Distance\",\"Vampires Suck\",\"Resident Evil: Afterlife\",\"L'Immortel\",\"The Social Network\",\"Superman/Batman: Apocalypse\",\"The Town\",\"Infestation\",\"Easy A\",\"Eat Pray Love\",\"Howl\",\"I'm Still Here\",\"Flipped\",\"Wall Street: Money Never Sleeps\",\"Legend of the Guardians: The Owls of Ga'Hoole\",\"Cats & Dogs 2 : The Revenge of Kitty Galore\",\"It's Kind of a Funny Story\",\"Middle Men\",\"The Poughkeepsie Tapes\",\"Tamara Drewe\",\"Let Me In\",\"Sintel\",\"Big Buck Bunny\",\"Secretariat\",\"Lake Mungo\",\"Devil\",\"You Again\",\"Life As We Know It\",\"Catfish\",\"You Will Meet a Tall Dark Stranger\",\"Stone\",\"Inside Job\",\"Monsters\",\"Conviction\",\"Dirty Girl\",\"Never Let Me Go\",\"L'illusionniste\",\"Le h\\u00e9risson\",\"Kaboom\",\"Rubber\",\"Shelter\",\"Jackass 3D\",\"Restrepo\",\"The Hole\",\"30 Days of Night: Dark Days\",\"RED\",\"H\\u00e6vnen\",\"My Soul to Take\",\"Whisper\",\"L'arnacoeur\",\"Des hommes et des dieux\",\"Le gendarme se marie\",\"Paranormal Activity 2\",\"Les amours imaginaires\",\"Hereafter\",\"Black Death\",\"Undisputed III : Redemption\",\"Saw 3D\",\"Due Date\",\"127 Hours\",\"Megamind\",\"Black Swan\",\"Sammy's avonturen: De geheime doorgang\",\"Fair Game\",\"Scared Shrekless\",\"\\u0e25\\u0e38\\u0e07\\u0e1a\\u0e38\\u0e0d\\u0e21\\u0e35\\u0e23\\u0e30\\u0e25\\u0e36\\u0e01\\u0e0a\\u0e32\\u0e15\\u0e34\",\"Unstoppable\",\"Morning Glory\",\"Copie Conforme\",\"The Next Three Days\",\"Somewhere\",\"Wild Target\",\"Biutiful\",\"La prima cosa bella\",\"Harry Potter and the Deathly Hallows: Part 1\",\"The King's Speech\",\"Tangled\",\"The Fighter\",\"The Romantics\",\"The Reef\",\"The Loved Ones\",\"Casino Jack\",\"London Boulevard\",\"Skyline\",\"Beastly\",\"Love & Other Drugs\",\"The Chronicles of Narnia: The Voyage of the Dawn Treader\",\"Tiny Furniture\",\"The Tourist\",\"Chatroom\",\"Rare Exports\",\"13\",\"Hatchet II\",\"All Good Things\",\"Tomorrow, When the War Began\",\"True Grit\",\"TRON: Legacy\",\"Another Year\",\"How Do You Know\",\"Barney's Version\",\"The Company Men\",\"\\uc545\\ub9c8\\ub97c \\ubcf4\\uc558\\ub2e4\",\"Wir sind die Nacht\",\"Faster\",\"\\u5927\\u5175\\u5c0f\\u5c06\",\"Rabbit Hole\",\"Little Fockers\",\"Gulliver's Travels\",\"Balada triste de trompeta\",\"And Soon the Darkness\",\"Burlesque\",\"\\u501f\\u308a\\u3050\\u3089\\u3057\\u306e\\u30a2\\u30ea\\u30a8\\u30c3\\u30c6\\u30a3\",\"Tucker and Dale vs Evil\",\"Yogi Bear\",\"The Pixar Story\",\"Made in Dagenham\",\"Last Night\",\"The Green Hornet\",\"The Way Back\",\"The Warrior's Way\",\"Ghajini\",\"\\u0e2d\\u0e07\\u0e04\\u0e4c\\u0e1a\\u0e32\\u0e01 3\",\"Season of the Witch\",\"Autoreiji\",\"Cowboys & Aliens\",\"Pour elle\",\"Cracks\",\"Day & Night\",\"The Dilemma\",\"Wicked Little Things\",\"The Trip\",\"\\ud558\\ub140\",\"Limitless\",\"Ca$h\",\"\\u30f1\\u30f4\\u30a1\\u30f3\\u30b2\\u30ea\\u30f2\\u30f3\\u65b0\\u5287\\u5834\\u7248\\uff1a\\u7834\",\"I Spit on Your Grave\",\"Tambi\\u00e9n la lluvia\",\"Welcome to the Rileys\",\"Zeitgeist: Moving Forward\",\"Home Alone 4\",\"No Strings Attached\",\"The Lincoln Lawyer\",\"The Rite\",\"Dog Pound\",\"All Star Superman\",\"From Prada to Nada\",\"Country Strong\",\"Unknown\",\"Sanctum\",\"Cedar Rapids\",\"Mirrors 2\",\"Gnomeo & Juliet\",\"Burke & Hare\",\"\\uae40\\uc528 \\ud45c\\ub958\\uae30\",\"Vanishing on 7th Street\",\"Paul\",\"Desert Flower\",\"Drive Angry\",\"Rango\",\"Take Me Home Tonight\",\"\\u544a\\u767d\",\"The Adjustment Bureau\",\"Happythankyoumoreplease\",\"Cropsey\",\"The Mechanic\",\"Hall Pass\",\"The Eagle\",\"I Am Number Four\",\"Battle: Los Angeles\",\"\\u30b5\\u30de\\u30fc\\u30a6\\u30a9\\u30fc\\u30ba\",\"\\u30ce\\u30eb\\u30a6\\u30a7\\u30a4\\u306e\\u68ee\",\"The Sunset Limited\",\"Mars Needs Moms\",\"Scooby-Doo! The Mystery Begins\",\"Scooby-Doo! Curse of the Lake Monster\",\"Tsumiki no ie\",\"Tropa de Elite 2\",\"Melissa P.\",\"L'ennemi public n\\u00b01\",\"Just Go with It\",\"Potiche\",\"Cave of Forgotten Dreams\",\"Red Riding Hood\",\"Big Mommas: Like Father, Like Son\",\"Super\",\"Trolljegeren\",\"Source Code\",\"Jane Eyre\",\"Sucker Punch\",\"Chalet Girl\",\"The New Daughter\",\"BURN\\u00b7E\",\"Senna\",\"\\u30c7\\u30b9\\u30ce\\u30fc\\u30c8 the Last name\",\"Insidious\",\"Meek's Cutoff\",\"Hobo with a Shotgun\",\"L: change the WorLd\",\"Win Win\",\"Habitaci\\u00f3n en Roma\",\"Dead Space: Downfall\",\"Boy\",\"Diary of a Wimpy Kid: Rodrick Rules\",\"Henry's Crime\",\"Hop\",\"\\u5341\\u4e09\\u4eba\\u306e\\u523a\\u5ba2\",\"Hanna\",\"New Kids Turbo\",\"Snabba Cash\",\"Arthur\",\"Scream 4\",\"Rio\",\"Melancholia\",\"Forever Strong\",\"Thor\",\"Louis C.K.: Hilarious\",\"Atlas Shrugged Part I\",\"Benvenuti al sud\",\"The Resident\",\"That's What I Am\",\"Zweiohrk\\u00fcken\",\"Water for Elephants\",\"Le Nom des gens\",\"African Cats\",\"Kill the Irishman\",\"Fast Five\",\"Incendies\",\"Soul Surfer\",\"Something Borrowed\",\"Bridesmaids\",\"Priest\",\"The Beaver\",\"Pirates of the Caribbean: On Stranger Tides\",\"Midnight in Paris\",\"Le Gamin au v\\u00e9lo\",\"\\uc544\\uc800\\uc528\",\"The Tree of Life\",\"The Hangover Part II\",\"Rien \\u00e0 d\\u00e9clarer\",\"Pina\",\"The Roommate\",\"Trust\",\"Open Season 3\",\"Attack the Block\",\"The Way\",\"\\u8ba9\\u5b50\\u5f39\\u98de\",\"The Tunnel\",\"Kung Fu Panda 2\",\"X-Men: First Class\",\"Submarine\",\"The Other Woman\",\"Everything Must Go\",\"Beginners\",\"Super 8\",\"Lottery Ticket\",\"Daydream Nation\",\"Green Lantern\",\"Mickey's Twice Upon a Christmas\",\"Mr. Popper's Penguins\",\"Bad Teacher\",\"Transformers: Dark of the Moon\",\"Larry Crowne\",\"Your Highness\",\"Takers\",\"Zookeeper\",\"Horrible Bosses\",\"Cars 2\",\"Megan is Missing\",\"The Ward\",\"Monte Carlo\",\"The Perfect Host\",\"Harry Potter and the Deathly Hallows: Part 2\",\"Drive\",\"Captain America: The First Avenger\",\"Crazy, Stupid, Love.\",\"One Day\",\"Forget Me Not\",\"The Guard\",\"Quarantine 2: Terminal\",\"Winnie the Pooh\",\"The Woman\",\"Beverly Hills Chihuahua 2\",\"Mike's New Car\",\"The Smurfs\",\"Dylan Dog: Dead of Night\",\"Friends with Benefits\",\"Alpha and Omega\",\"Jing wu feng yun: Chen Zhen\",\"Blitz\",\"\\ud669\\ud574\",\"Our Idiot Brother\",\"Twixt\",\"Death Race 2\",\"Cyberbully\",\"Rise of the Planet of the Apes\",\"The Change-Up\",\"The Help\",\"30 Minutes or Less\",\"Glee: The Concert Movie\",\"Gantz\",\"La t\\u00eate en friche\",\"Final Destination 5\",\"The Conspirator\",\"A Very Harold & Kumar Christmas\",\"Mine vaganti\",\"Spy Kids: All the Time in the World\",\"Don't Be Afraid of the Dark\",\"Fright Night\",\"Another Earth\",\"Hesher\",\"Fritt vilt\",\"Stake Land\",\"The Greatest Movie Ever Sold\",\"The Debt\",\"Colombiana\",\"La piel que habito\",\"Conan the Barbarian\",\"Prom\",\"Waiting for Forever\",\"Birdemic: Shock and Terror\",\"Page Eight\",\"The Inbetweeners Movie\",\"Red State\",\"Un cuento chino\",\"Wrecked\",\"I Don't Know How She Does It\",\"Shark Night\",\"Contagion\",\"Habemus Papam\",\"Sleeping Beauty\",\"Straw Dogs\",\"Moneyball\",\"Le Havre\",\"Zindagi Na Milegi Dobara\",\"Restless\",\"\\u51b7\\u305f\\u3044\\u71b1\\u5e2f\\u9b5a\",\"Phineas and Ferb the Movie: Across the 2nd Dimension\",\"\\u00c0 bout portant\",\"Ironclad\",\"Northanger Abbey\",\"The Avengers\",\"Tinker Tailor Soldier Spy\",\"\\u062c\\u062f\\u0627\\u06cc\\u06cc \\u0646\\u0627\\u062f\\u0631 \\u0627\\u0632 \\u0633\\u06cc\\u0645\\u06cc\\u0646\",\"A Dangerous Method\",\"Warrior\",\"The Ides of March\",\"Kill List\",\"Killer Elite\",\"50/50\",\"A torin\\u00f3i l\\u00f3\",\"Bir zamanlar Anadolu'da\",\"The Artist\",\"Take Shelter\",\"The Caller\",\"Real Steel\",\"Hell\",\"Footloose\",\"The Thing\",\"Tyrannosaur\",\"Martha Marcy May Marlene\",\"We Need to Talk About Kevin\",\"The Three Musketeers\",\"In Time\",\"Margaret\",\"Carnage\",\"Assassination Games\",\"Margin Call\",\"Paranormal Activity 3\",\"Puncture\",\"Polisse\",\"A Little Bit of Heaven\",\"Johnny English Reborn\",\"Abduction\",\"This Must Be the Place\",\"Shame\",\"What's Your Number?\",\"Dream House\",\"Hodejegerne\",\"Batman: Year One\",\"Machine Gun Preacher\",\"Anonymous\",\"Tower Heist\",\"J. Edgar\",\"Sometimes They Come Back\",\"The Double\",\"The Adventures of Tintin\",\"The Son of No One\",\"Tomboy\",\"Hugo\",\"Trespass\",\"Immortals\",\"Jack and Jill\",\"The Devil's Double\",\"Setup\",\"L'Apollonide : Souvenirs de la Maison Close\",\"The Deep Blue Sea\",\"11-11-11\",\"Into the Abyss\",\"Oslo, 31. august\",\"\\u65b0\\u5c11\\u6797\\u5bfa\",\"Wuthering Heights\",\"The Descendants\",\"Like Crazy\",\"The Muppets\",\"The Twilight Saga: Breaking Dawn - Part 1\",\"War Horse\",\"The Rum Diary\",\"My Week with Marilyn\",\"Weekend\",\"Lifted\",\"Another Cinderella Story\",\"Bunraku\",\"Elle s'appelait Sarah\",\"The Sitter\",\"Extremely Loud & Incredibly Close\",\"Ast\\u00e9rix et le coup du menhir\",\"Ast\\u00e9rix et les Indiens\",\"Ast\\u00e9rix et les Vikings\",\"Rampart\",\"Happy Feet Two\",\"Arthur Christmas\",\"Elephant White\",\"Violet & Daisy\",\"Flypaper\",\"Bullet to the Head\",\"The Expendables 2\",\"The Snowman\",\"The Hunger Games\",\"Womb\",\"The Dark Knight Rises\",\"The Bourne Legacy\",\"Je vais bien, ne t'en fais pas\",\"Sherlock Holmes: A Game of Shadows\",\"Life in a Day\",\"Coriolanus\",\"Young Adult\",\"Faces in the Crowd\",\"New Year's Eve\",\"Mission: Impossible - Ghost Protocol\",\"We Bought a Zoo\",\"The Girl with the Dragon Tattoo\",\"The Darkest Hour\",\"Alvin and the Chipmunks: Chipwrecked\",\"Albert Nobbs\",\"Los ojos de Julia\",\"Friends with Kids\",\"Intruders\",\"The Devil Inside\",\"Contraband\",\"Chak De! India\",\"Being Elmo: A Puppeteer's Journey\",\"Dolphin Tale\",\"The Iron Lady\",\"The Revenant\",\"The Divide\",\"Underworld: Awakening\",\"The Grey\",\"Man on a Ledge\",\"Haywire\",\"Case d\\u00e9part\",\"The Whistleblower\",\"The Human Centipede 2 (Full Sequence)\",\"Jin Yi Wei\",\"F\\u00e5 meg p\\u00e5, for faen\",\"Apollo 18\",\"Seeking Justice\",\"Hostel: Part III\",\"Red Tails\",\"\\u91d1\\u9675\\u5341\\u4e09\\u91f5\",\"Intouchables\",\"La guerre est d\\u00e9clar\\u00e9e\",\"One for the Money\",\"W.E.\",\"The Innkeepers\",\"Big Miracle\",\"Grave Encounters\",\"\\u72c4\\u4ec1\\u5091\\u4e4b\\u901a\\u5929\\u5e1d\\u570b\",\"Chronicle\",\"The Woman in Black\",\"Toast\",\"The Art of Getting By\",\"Barbie in the Nutcracker\",\"Safe House\",\"The Vow\",\"Louis C.K.: Live at the Beacon Theater\",\"Monsieur Lazhar\",\"For a Good Time, Call...\",\"Journey 2: The Mysterious Island\",\"Perfect Sense\",\"The Shrine\",\"Kokow\\u00e4\\u00e4h\",\"\\u5341\\u6708\\u570d\\u57ce\",\"\\u767d\\u86c7\\u4f20\\u8bf4\",\"\\u9f8d\\u9580\\u98db\\u7532\",\"Smokin' Aces 2: Assassins' Ball\",\"Oorlogswinter\",\"The Hunter\",\"The Dead\",\"Ghost Rider: Spirit of Vengeance\",\"Un monstre \\u00e0 Paris\",\"Prayers for Bobby\",\"Love Wrecked\",\"Retreat\",\"Les Femmes du 6\\u00e8me \\u00e9tage\",\"Wrong Turn 4: Bloody Beginnings\",\"Mientras duermes\",\"Arena\",\"Red Hill\",\"Une vie de chat\",\"\\u661f\\u3092\\u8ffd\\u3046\\u5b50\\u3069\\u3082\",\"Gone\",\"Courageous\",\"Project X\",\"The Lorax\",\"The Big Year\",\"Act of Valor\",\"This Means War\",\"John Carter\",\"The Art of Flight\",\"Starbuck\",\"Goon\",\"La cara oculta\",\"The Awakening\",\"La Rafle\",\"Game Change\",\"The Ledge\",\"21 Jump Street\",\"Jeff, Who Lives at Home\",\"Lockout\",\"\\uae40\\ubcf5\\ub0a8 \\uc0b4\\uc778\\uc0ac\\uac74\\uc758 \\uc804\\ub9d0\",\"A Lonely Place to Die\",\"Snowtown\",\"Space Battleship Yamato\",\"Casa De Mi Padre\",\"Jiro Dreams of Sushi\",\"Damsels in Distress\",\"Salmon Fishing in the Yemen\",\"Meeting Evil\",\"Wrath of the Titans\",\"Detachment\",\"Iron Sky\",\"Absentia\",\"American Reunion\",\"Serbuan maut\",\"The Cabin in the Woods\",\"La d\\u00e9licatesse\",\"God Bless America\",\"Les \\u00e9motifs anonymes\",\"Caf\\u00e9 de Flore\",\"L!fe Happens\",\"Silent House\",\"The Three Stooges\",\"The Raven\",\"Mirror Mirror\",\"Battleship\",\"The Best Exotic Marigold Hotel\",\"Kongen av Bast\\u00f8y\",\"Twelve\",\"Sharpay's Fabulous Adventure\",\"Rundskop\",\"Bully\",\"Hysteria\",\"Dante's Inferno: An Animated Epic\",\"The Five-Year Engagement\",\"Think Like a Man\",\"The Lucky One\",\"Safe\",\"Jumping the Broom\",\"Red Dog\",\"Dark Shadows\",\"The Scorpion King: Rise of a Warrior\",\"Columbus Circle\",\"The Decoy Bride\",\"Beyond the Black Rainbow\",\"Tres metros sobre el cielo\",\"The Dictator\",\"Largo Winch\",\"Gifted Hands: The Ben Carson Story\",\"Men in Black 3\",\"Snow White and the Huntsman\",\"Sound of My Voice\",\"EVA\",\"Chernobyl Diaries\",\"The Pirates! In an Adventure with Scientists!\",\"Hick\",\"Prometheus\",\"The Pact\",\"Bernie\",\"Take This Waltz\",\"Wanderlust\",\"Moonrise Kingdom\",\"Texas Killing Fields\",\"Kahaani\",\"Superman vs. The Elite\",\"Get the Gringo\",\"5 Days of War\",\"Superman: Doomsday\",\"A Few Best Men\",\"Cosmopolis\",\"A Thousand Words\",\"Safety Not Guaranteed\",\"Madagascar 3: Europe's Most Wanted\",\"Blackthorn\",\"Your Sister's Sister\",\"Superman/Batman: Public Enemies\",\"Secuestrados\",\"\\u30c9\\u30e9\\u30b4\\u30f3\\u30dc\\u30fc\\u30ebZ \\u3053\\u306e\\u4e16\\u3067\\u4e00\\u756a\\u5f37\\u3044\\u30e4\\u30c4\",\"Brave\",\"Beauty and the Beast: The Enchanted Christmas\",\"Doragon B\\u014dru Zetto: Chiky\\u016b Marugoto Ch\\u014dkessen\",\"Pocahontas II: Journey to a New World\",\"Bel Ami\",\"What to Expect When You're Expecting\",\"To Rome with Love\",\"Abraham Lincoln: Vampire Hunter\",\"4.3.2.1\",\"Detention\",\"Scusa ma ti chiamo amore\",\"Rock of Ages\",\"Seeking a Friend for the End of the World\",\"Presto\",\"Jack-Jack Attack\",\"Boundin'\",\"One Man Band\",\"Ted\",\"Tin Toy\",\"Magic Mike\",\"Doragon B\\u014dru Zetto: Gekitotsu!! Hyaku-Oku Paw\\u0101 no Senshi-tachi\",\"Doragon b\\u00f4ru Z 5: Tobikkiri no saiky\\u00f4 tai saiky\\u00f4\",\"On the Road\",\"\\u30c9\\u30e9\\u30b4\\u30f3\\u30dc\\u30fc\\u30eb\\uff3a \\u6975\\u9650\\u30d0\\u30c8\\u30eb\\uff01\\u4e09\\u5927\\u8d85\\u30b5\\u30a4\\u30e4\\u4eba\",\"\\u30c9\\u30e9\\u30b4\\u30f3\\u30dc\\u30fc\\u30eb\\uff3a \\u71c3\\u3048\\u5c3d\\u304d\\u308d!!\\u71b1\\u6226\\u30fb\\u70c8\\u6226\\u30fb\\u8d85\\u6fc0\\u6226\",\"Cleanskin\",\"The Amazing Spider-Man\",\"Doragon B\\u014dru Zetto: Ginga Giri-Giri!! Butchigiri no Sugoi Yatsu\",\"\\u30ce\\u30ed\\u30a4\",\"Wrong Turn 3: Left for Dead\",\"Ice Age: Continental Drift\",\"Beasts of the Southern Wild\",\"People Like Us\",\"Savages\",\"Balto II: Wolf Quest\",\"L'Avare\",\"Red's Dream\",\"Geri's Game\",\"The Watch\",\"2 Days in New York\",\"Killer Joe\",\"\\u30c9\\u30e9\\u30b4\\u30f3\\u30dc\\u30fc\\u30eb\\uff3a \\u5371\\u967a\\u306a\\u3075\\u305f\\u308a\\uff01\\u8d85\\u6226\\u58eb\\u306f\\u306d\\u3080\\u308c\\u306a\\u3044\",\"\\u30c9\\u30e9\\u30b4\\u30f3\\u30dc\\u30fc\\u30eb\\uff3a \\u8d85\\u6226\\u58eb\\u6483\\u7834!!\\u52dd\\u306e\\u306f\\u30aa\\u30ec\\u3060\",\"Doragon B\\u014dru Zetto: Fukkatsu no Fy\\u016bjon!! Gok\\u016b to Bej\\u012bta\",\"Wild Bill\",\"Being Flynn\",\"Knick Knack\",\"For the Birds\",\"Ruby Sparks\",\"Total Recall\",\"The Angels' Share\",\"Immaturi\",\"\\u30c9\\u30e9\\u30b4\\u30f3\\u30dc\\u30fc\\u30ebZ \\u9f8d\\u62f3\\u7206\\u767a!!\\u609f\\u7a7a\\u304c\\u3084\\u3089\\u306d\\u3070\\u8ab0\\u304c\\u3084\\u308b\",\"\\u30c9\\u30e9\\u30b4\\u30f3\\u30dc\\u30fc\\u30ebZ \\u305f\\u3063\\u305f\\u3072\\u3068\\u308a\\u306e\\u6700\\u7d42\\u6c7a\\u6226\\u301c\\u30d5\\u30ea\\u30fc\\u30b6\\u306b\\u6311\\u3093\\u3060Z\\u6226\\u58eb \\u5b6b\\u609f\\u7a7a\\u306e\\u7236\\u301c\",\"Dikkenek\",\"Doragon B\\u014dru Zetto: Zetsub\\u014d e no Hank\\u014d!! Nokosareta Ch\\u014d-Senshi \\u2022 Gohan to Torankusu\",\"\\u609f\\u7a7a\\u5916\\u4f1d! \\u52c7\\u6c17\\u306e\\u8a3c\\u3057\\u306f\\u56db\\u661f\\u7403\",\"Medianeras\",\"Love, Wedding, Marriage\",\"The Little Mermaid: Ariel's Beginning\",\"Skyfall\",\"Mais qui a tu\\u00e9 Pamela Rose ?\",\"The Campaign\",\"Brake\",\"Hope Springs\",\"The Queen of Versailles\",\"Les Femmes de l'ombre\",\"ParaNorman\",\"Diary of a Wimpy Kid: Dog Days\",\"\\ucd5c\\uc885\\ubcd1\\uae30 \\ud65c\",\"Celeste & Jesse Forever\",\"Hit & Run\",\"Broken\",\"Cinderella II: Dreams Come True\",\"Premium Rush\",\"The Odd Life of Timothy Green\",\"Lawless\",\"Piranha 3DD\",\"ATM\",\"Sleepwalk with Me\",\"Searching for Sugar Man\",\"The Possession\",\"6 Bullets\",\"The Dinosaur Project\",\"Les petits mouchoirs\",\"The Apparition\",\"Bachelorette\",\"The Words\",\"Pitch Perfect\",\"The Cold Light of Day\",\"Branded\",\"Samsara\",\"Looper\",\"Compliance\",\"That's My Boy\",\"Arthur et la vengeance de Maltazard\",\"Emergo\",\"Robot & Frank\",\"Resident Evil: Retribution\",\"Trouble with the Curve\",\"360\",\"Lola Versus\",\"The Master\",\"Dredd\",\"Arbitrage\",\"Manuale d'amore 2 - Capitoli successivi\",\"End of Watch\",\"V/H/S\",\"The Perks of Being a Wallflower\",\"Jagten\",\"Holy Motors\",\"Red Lights\",\"Taken 2\",\"The Paperboy\",\"En kongelig aff\\u00e6re\",\"House at the End of the Street\",\"Un heureux \\u00e9v\\u00e9nement\",\"L'amour dure trois ans\",\"The Tall Man\",\"Laurence Anyways\",\"The Magic of Belle Isle\",\"LOL\",\"The Sapphires\",\"De rouille et d'os\",\"Kon-Tiki\",\"Katy Perry: Part of Me\",\"Marley\",\"Frankenweenie\",\"Sinister\",\"Hotel Transylvania\",\"Side by Side\",\"A Good Old Fashioned Orgy\",\"Argo\",\"Seven Psychopaths\",\"Butter\",\"Liberal Arts\",\"Les Adieux \\u00e0 la reine\",\"West of Memphis\",\"Hoodwinked Too! Hood VS. Evil\",\"Catch.44\",\"Le Bruit des gla\\u00e7ons\",\"[REC]\\u00b3 G\\u00e9nesis\",\"Gangs of \\u0935\\u093e\\u0938\\u0947\\u092a\\u0941\\u0930\",\"Ast\\u00e9rix & Ob\\u00e9lix - Au service de Sa Majest\\u00e9\",\"We Are Legion: The Story of the Hacktivists\",\"Transit\",\"Paranormal Activity 4\",\"The Babymakers\",\"Alex Cross\",\"Cloud Atlas\",\"Silent Hill: Revelation 3D\",\"Chasing Mavericks\",\"Here Comes the Boom\",\"Killing Them Softly\",\"The Imposter\",\"The Sessions\",\"Smashed\",\"The Babysitters\",\"Wreck-It Ralph\",\"Silver Linings Playbook\",\"Flight\",\"Anna Karenina\",\"Life of Pi\",\"The Day\",\"The Man with the Iron Fists\",\"Excision\",\"Bait\",\"Gallowwalkers\",\"Wake in Fright\",\"The Bay\",\"The Details\",\"A Late Quartet\",\"The Lady\",\"Stolen\",\"Amour\",\"La Fille du puisatier\",\"Jackass 3.5\",\"Labor Pains\",\"Cockneys vs Zombies\",\"The Scorpion King 3: Battle for Redemption\",\"Indie Game: The Movie\",\"Batman: The Dark Knight Returns, Part 1\",\"Lincoln\",\"Vamps\",\"The Twilight Saga: Breaking Dawn - Part 2\",\"10 Years\",\"Red Dawn\",\"Rise of the Guardians\",\"A Fantastic Fear of Everything\",\"Deadfall\",\"Byzantium\",\"Halo 4: Forward Unto Dawn\",\"Step Up Revolution\",\"Hellraiser: Revelations\",\"Imaginaerum\",\"Mac & Devin Go to High School\",\"Paperman\",\"Kirikou et les b\\u00eates sauvages\",\"Bad Ass\",\"The Congress\",null,null,null,\"Hitchcock\",\"\\u30b3\\u30af\\u30ea\\u30b3\\u5742\\u304b\\u3089\",\"Barbara\",\"The Hobbit: An Unexpected Journey\",\"Hyde Park on Hudson\",\"Lay the Favorite\",\"Barfi!\",\"Zero Dark Thirty\",\"Chasing Ice\",\"Antiviral\",\"L'arriv\\u00e9e d'un train en gare de La Ciotat\",\"Ars\\u00e8ne Lupin\",\"Les Trois Fr\\u00e8res\",\"Fire with Fire\",\"Warm Bodies\",\"Wrong\",\"Chained\",\"Playing for Keeps\",\"The Guilt Trip\",\"Jack Reacher\",\"Django Unchained\",\"This Is 40\",\"Cirque du Soleil: Worlds Away\",\"Lo imposible\",\"Les Mis\\u00e9rables\",\"Struck by Lightning\",\"Quartet\",\"Silent Night\",\"Would You Rather\",\"Addicted\",\"Camp Rock 2: The Final Jam\",\"StreetDance 3D\",\"Juan de los muertos\",\"Parental Guidance\",\"John Dies at the End\",\"The Collection\",\"Soldiers of Fortune\",\"\\u308b\\u308d\\u3046\\u306b\\u5263\\u5fc3\",\"Extracted\",\"Promised Land\",\"The Sweeney\",\"English Vinglish\",\"Texas Chainsaw 3D\",\"Gangster Squad\",\"The Company You Keep\",\"The Samaritan\",\"The Iceman\",\"It's Such a Beautiful Day\",\"A Haunted House\",\"Batman: The Dark Knight Returns, Part 2\",\"The Last Stand\",\"Mama\",\"Upstream Color\",\"Broken City\",\"Ginger & Rosa\",\"Shadow Dancer\",\"It's a Disaster\",\"\\uc368\\ub2c8\",\"\\ub9c8\\uc774\\uc6e8\\uc774\",\"Comme un chef\",\"Movie 43\",\"Death Race: Inferno\",\"Parker\",\"Sightseers\",\"Hansel & Gretel: Witch Hunters\",\"After Porn Ends\",\"The East\",\"Blancanieves\",\"Upside Down\",\"The Liability\",\"Angst\",\"The Baytown Outlaws\",\"Stand Up Guys\",\"No\",\"Now Is Good\",\"The Haunting in Connecticut 2: Ghosts of Georgia\",\"Baiohaz\\u00e2do: Dijener\\u00eashon\",\"Side Effects\",\"Identity Thief\",\"The ABCs of Death\",\"Biohazard: Damnation\",\"Lore\",\"Chinese Zodiac\",\"Song for Marion\",\"Beautiful Creatures\",\"A Good Day to Die Hard\",\"21 & Over\",\"Safe Haven\",\"Jagal\",\"Universal Soldier: Day of Reckoning\",\"Room 237\",\"Escape from Planet Earth\",\"Bruna Surfistinha\",\"Before Midnight\",\"The Oranges\",\"Starship Troopers: Invasion\",\"Snitch\",\"The Pirate Bay: Away From Keyboard\",\"Dark Skies\",\"Oh Boy\",\"\\u897f\\u904a\\u964d\\u9b54\\u7bc7\",\"Jack the Giant Slayer\",\"The Last Exorcism Part II\",\"La solitudine dei numeri primi\",\"\\u0648\\u062c\\u062f\\u0629\\u200e\\u200e\",\"G.I. Joe: Retaliation\",\"Stoker\",\"Phantom\",\"Sound City\",\"Oz: The Great and Powerful\",\"Dead Man Down\",\"The Croods\",\"Populaire\",\"Emperor\",\"Radio Rebel\",\"StarStruck\",\"Geek Charming\",\"I Give It a Year\",\"The Incredible Burt Wonderstone\",\"Spring Breakers\",\"Los amantes pasajeros\",\"The Call\",\"Olympus Has Fallen\",\"The First Time\",\"Dans la maison\",\"The Place Beyond the Pines\",\"Into the White\",\"The Brass Teapot\",\"The Host\",\"Admission\",\"Don : The Chase Begins Again\",\"Dr. Dolittle 3\",\"Evil Dead\",\"Trance\",\"Welcome to the Punch\",\"My Awkward Sexual Adventure\",\"Un Plan parfait\",\"Oblivion\",\"Educazione siberiana\",\"Dark Tide\",\"To the Wonder\",\"42\",\"Den Skaldede Fris\\u00f8r\",\"\\u304a\\u304a\\u304b\\u307f\\u3053\\u3069\\u3082\\u306e\\u96e8\\u3068\\u96ea\",\"Disconnect\",\"Scary Movie 5\",\"Like Someone in Love\",\"Pain & Gain\",\"Breaking Wind\",\"\\u30a2\\u30a4\\u30a2\\u30f3\\u30de\\u30f3\\uff1a\\u30e9\\u30a4\\u30ba\\u30fb\\u30aa\\u30d6\\u30fb\\u30c6\\u30af\\u30ce\\u30f4\\u30a9\\u30a2\",\"Planet Hulk\",\"Resolution\",\"Grabbers\",\"Erased\",\"Justice League: Doom\",\"\\u4e00\\u4ee3\\u5b97\\u5e2b\",\"This Is the End\",\"Iron Man 3\",\"Superman: Unbound\",\"The Numbers Station\",\"The English Teacher\",null,null,null,null,\"Mud\",\"\\u6b66\\u4fe0\",\"Family Weekend\",\"Ovosodo\",\"About Cherry\",\"Syrup\",\"The Great Gatsby\",\"Star Trek Into Darkness\",\"The Internship\",\"L'enqu\\u00eate corse\",\"My Fake Fiance\",\"Sissi - Die junge Kaiserin\",\"Stories We Tell\",\"Alceste \\u00e0 bicyclette\",\"\\u0418\\u0432\\u0430\\u043d \\u0412\\u0430\\u0441\\u0438\\u043b\\u044c\\u0435\\u0432\\u0438\\u0447 \\u043c\\u0435\\u043d\\u044f\\u0435\\u0442 \\u043f\\u0440\\u043e\\u0444\\u0435\\u0441\\u0441\\u0438\\u044e\",\"Livide\",\"Only God Forgives\",\"The Hangover Part III\",\"Fast & Furious 6\",\"Epic\",\"Le pass\\u00e9\",\"The Broken Circle Breakdown\",\"Frances Ha\",\"The Lords of Salem\",\"Behind the Candelabra\",\"Aftershock\",\"3096 Tage\",\"After Earth\",\"Now You See Me\",\"Lovelace\",\"Assault on Wall Street\",\"Forces sp\\u00e9ciales\",\"Age of Heroes\",\"Berberian Sound Studio\",\"The Way Way Back\",\"Comme des fr\\u00e8res\",\"El cuerpo\",\"Eu N\\u00e3o Quero Voltar Sozinho\",\"Much Ado About Nothing\",\"Man of Steel\",\"The Kings of Summer\",\"The Big Wedding\",\"Hannah Arendt\",\"The Purge\",\"The Reluctant Fundamentalist\",\"Rapture-Palooza\",\"20 Feet from Stardom\",\"The Bling Ring\",\"Monsters University\",\"Hammer of the Gods\",\"Schlussmacher\",\"Eden\",\"\\u92fc\\u306e\\u932c\\u91d1\\u8853\\u5e2b \\u5606\\u304d\\u306e\\u4e18\\uff08\\u30df\\u30ed\\u30b9\\uff09\\u306e\\u8056\\u306a\\u308b\\u661f\",\"Maniac\",\"Pacific Rim\",\"Lego Batman: The Movie - DC Super Heroes Unite\",\"La migliore offerta\",\"World War Z\",\"Elysium\",\"Dirty Wars\",\"We Steal Secrets: The Story of WikiLeaks\",\"What Maisie Knew\",\"American Mary\",\"Europa Report\",\"Odd Thomas\",\"Despicable Me 2\",\"White House Down\",\"The World's End\",\"Hummingbird\",\"The Heat\",\"The Lone Ranger\",\"Un Bonheur n'arrive jamais seul\",\"\\ub3c4\\ub451\\ub4e4\",\"Woody Allen: A Documentary\",\"Passion\",\"V/H/S/2\",\"The Spectacular Now\",\"Thanks for Sharing\",\"The Lifeguard\",\"Le Pr\\u00e9nom\",\"Kapringen\",\"Jug Face\",\"Sharknado\",\"Stuck in Love\",\"Fruitvale Station\",\"Bhaag Milkha Bhaag\",\"R.I.P.D.\",\"The Client List\",\"Justice League: The Flashpoint Paradox\",\"Yip Man: The Final Fight\",\"Pawn Shop Chronicles\",\"Killing Season\",\"A Field in England\",\"The Conjuring\",\"Love\",\"Mean Girls 2\",\"The Colony\",\"Scenic Route\",\"Turbo\",\"The Wolverine\",\"Drinking Buddies\",\"Hell Baby\",\"RED 2\",\"The Battery\",\"Vehicle 19\",\"\\uc2e0\\uc138\\uacc4\",\"Night Train to Lisbon\",\"2 Guns\",\"Los \\u00faltimos d\\u00edas\",\"Blue Jasmine\",\"Frankenstein's Army\",\"La grande bellezza\",\"The Canyons\",\"Lo chiamavano Bulldozer\",\"Louis C.K.: Oh My God\",\"Percy Jackson: Sea of Monsters\",\"The Smurfs 2\",\"Alan Partridge: Alpha Papa\",\"Man of Tai Chi\",\"Prince Avalanche\",\"Batman: Mystery of the Batwoman\",\"Green Lantern: Emerald Knights\",\"We're the Millers\",\"Burning Bright\",\"Grown Ups 2\",\"Du zhan\",\"Kick-Ass 2\",\"Riddick\",\"Planes\",\"Blackfish\",\"Paranoia\",\"\\u98a8\\u7acb\\u3061\\u306c\",\"Evidence\",\"Jobs\",\"The Mortal Instruments: City of Bones\",\"The Butler\",\"In a World...\",\"Terms and Conditions May Apply\",\"Ain't Them Bodies Saints\",\"About Time\",\"Chennai Express\",\"Fritt vilt ll\",\"Truth or Dare\",\"Justice League: Crisis on Two Earths\",\"The Frozen Ground\",\"You're Next\",\"Empire State\",\"The Seasoning House\",\"Adore\",\"The Lost Future\",\"Le magasin des suicides\",\"No se Aceptan Devoluciones\",\"One Direction: This Is Us\",\"Closed Circuit\",\"Getaway\",\"Gravity\",\"I Spit on Your Grave 2\",\"What If\",\"Prisoners\",\"Out of the Furnace\",\"The Conspiracy\",\"Austenland\",\"Insidious: Chapter 2\",\"Rush\",\"The Family\",\"Short Term 12\",\"At Any Price\",\"The To Do List\",\"The Factory\",\"Princess Protection Program\",\"Battle of the Year\",\"Afternoon Delight\",\"Repeaters\",\"Nebraska\",\"Enough Said\",\"Don Jon\",\"Zambezia\",\"L'\\u00e9cume des jours\",\"Metallica: Through the Never\",\"Crystal Fairy & the Magical Cactus\",\"Bad Milo!\",\"7\\ubc88\\ubc29\\uc758 \\uc120\\ubb3c\",\"Runner Runner\",\"La vie d'Ad\\u00e8le - Chapitres 1 et 2\",\"Curse of Chucky\",\"Parkland\",\"Cloudy with a Chance of Meatballs 2\",\"\\u0924\\u0932\\u093e\\u0936\",\"Captain Phillips\",\"After the Dark\",\"Machete Kills\",\"Filth\",\"Romeo & Juliet\",\"Baggage Claim\",\"Stitches\",\"Escape Plan\",\"Les Saveurs du palais\",\"Just Wright\",\"Carrie\",\"The Fifth Estate\",\"The Counselor\",null,null,null,null,\"The Unbelievers\",\"Escape from Tomorrow\",\"The Double\",\"12 Years a Slave\",\"The Right Kind of Wrong\",\"Kill Your Darlings\",\"All Is Lost\",\"Arthur Newman\",\"Ender's Game\",\"The Blue Umbrella\",\"Toy Story of Terror!\",\"The Last Days on Mars\",\"Jackass Presents: Bad Grandpa\",\"Thor: The Dark World\",\"Dallas Buyers Club\",\"Gambit\",\"You May Not Kiss the Bride\",\"The Selfish Giant\",\"De l'autre c\\u00f4t\\u00e9 du lit\",\"\\u5929\\u6ce8\\u5b9a\",\"How I Live Now\",\"Girl Most Likely\",\"Hours\",\"\\ud53c\\uc5d0\\ud0c0\",\"Great Expectations\",\"Free Birds\",\"Boy Wonder\",\"Last Vegas\",\"The Starving Games\",\"Panic Button\",\"Insensibles\",\"Philomena\",\"The Book Thief\",\"The Best Man Holiday\",\"Ida\",\"ONE PIECE FILM STRONG WORLD\",\"One Piece Film Z\",\"The Hunger Games: Catching Fire\",\"The Hobbit: The Desolation of Smaug\",\"47 Ronin\",\"The Dyatlov Pass Incident\",\"Delivery Man\",\"Charlie Countryman\",\"Hansel & Gretel\",\"Venuto al mondo\",\"Frozen\",\"9 Mois Ferme\",\"Mr. Morgan's Last Love\",\"Inside Llewyn Davis\",\"The Wolf of Wall Street\",\"Homefront\",\"Mandela: Long Walk to Freedom\",\"August: Osage County\",\"Grave Encounters 2\",\"\\u30f1\\u30f4\\u30a1\\u30f3\\u30b2\\u30ea\\u30f2\\u30f3\\u65b0\\u5287\\u5834\\u7248:Q\",\"Fright Night 2: New Blood\",\"Sweetwater\",\"Tim's Vermeer\",\"American Hustle\",\"The Secret Life of Walter Mitty\",\"Her\",\"Jeune & Jolie\",\"Open Grave\",\"Dead Set\",\"Lone Survivor\",\"Geography Club\",\"An Adventure in Space and Time\",\"Saving Mr. Banks\",\"The Truth About Emanuel\",\"Lady and the Tramp II: Scamp's Adventure\",\"Oldboy\",\"Le corniaud\",\"Anchorman 2: The Legend Continues\",\"Happy Family\",\"Snowpiercer\",\"D\\u00e8moni 2... L'incubo ritorna\",\"Haunter\",\"Wrong Cops\",\"Ninja: Shadow of a Tear\",\"Pari e dispari\",\"Q\",\"Fun Size\",\"A Princess for Christmas\",\"Fack ju G\\u00f6hte\",\"The Physician\",\"Borgman\",\"The Human Race\",\"Smiley\",\"Grudge Match\",\"Justin Bieber's Believe\",\"Bounty Killer\",\"12 Rounds 2: Reloaded\",\"A.C.O.D.\",\"Paranormal Activity: The Marked Ones\",\"Only Lovers Left Alive\",\"Dabba\",\"Yves Saint Laurent\",\"The Invisible Woman\",\"\\u30c9\\u30e9\\u30b4\\u30f3\\u30dc\\u30fc\\u30ebZ \\u795e\\u3068\\u795e\",\"Metegol\",\"\\u305d\\u3057\\u3066\\u7236\\u306b\\u306a\\u308b\",\"The Railway Man\",\"Diana\",\"We Are What We Are\",\"Doragon b\\u00f4ru Z 4: Super Saiyajin da Son Gok\\u00fb\",\"Les Gar\\u00e7ons et Guillaume, \\u00e0 Table !\",\"Casse-T\\u00eate Chinois\",\"+1\",\"A Turtle\\u2019s Tale 2: Sammy\\u2019s Escape From Paradise\",\"Ride Along\",\"Jack Ryan: Shadow Recruit\",\"Divergent\",\"Hotel Chevalier\",\"Reasonable Doubt\",\"Saint Laurent\",\"The Square\",\"Sur la Piste du Marsupilami\",\"Devil's Due\",\"Nicht mein Tag\",\"Black Rock\",\"A Single Shot\",\"Husk\",\"Atrocious\",\"Justice League: War\",\"Yeh Jawaani Hai Deewani\",\"Ernest et C\\u00e9lestine\",\"Banshee Chapter\",\"Drift\",\"20 ans d'\\u00e9cart\",\"I, Frankenstein\",\"Generation Kill\",\"Better Living Through Chemistry\",\"Enemy\",\"Mi mefahed mezeev hara\",\"L'Inconnu du Lac\",\"Labor Day\",\"Tom \\u00e0 la ferme\",\"Noordzee, Texas\",\"Wonder Woman\",\"Flowers in the Attic\",\"Les Bronz\\u00e9s 3 : Amis pour la vie\",\"The Young and Prodigious T.S. Spivet\",\"Teen Beach Movie\",\"Gloria\",\"Moi C\\u00e9sar, 10 ans 1/2, 1,39 m\",\"The Monuments Men\",\"The Lego Movie\",\"RoboCop\",\"The Art of the Steal\",\"Nymphomaniac: Vol. II\",\"La luna\",\"Eyjafjallaj\\u00f6kull\",\"Knights of Badassdom\",\"Sabotage\",\"Don 2: The King is Back\",\"A Long Way Down\",null,\"La V\\u00e9nus \\u00e0 la fourrure\",\"Adult World\",\"Date and Switch\",\"The Zero Theorem\",\"Endless Love\",\"Winter's Tale\",\"De l'autre c\\u00f4t\\u00e9 du p\\u00e9riph\",\"Joe\",\"Cold Comes the Night\",\"Chouchou\",\"Someone Marry Barry\",\"About Last Night\",\"The Grand Budapest Hotel\",\"Cuban Fury\",\"\\u767d\\u65e5\\u7130\\u706b\",\"Jamesy Boy\",\"Bring It On: Fight to the Finish\",\"Mater and the Ghostlight\",\"Your Friend the Rat\",\"Dug's Special Mission\",\"\\u0639\\u0645\\u0631\",\"Supercondriaque\",null,\"Les Gamins\",\"Grand Piano\",\"That Awkward Moment\",\"Interstellar\",\"Apartment 1303 3D\",\"3 Days to Kill\",\"Welcome to the Jungle\",\"Non-Stop\",\"In Fear\",\"Breathe In\",\"\\u8a00\\u306e\\u8449\\u306e\\u5ead\",\"300: Rise of an Empire\",\"Particle Fever\",\"Contracted\",\"The Bag Man\",\"Legend of the BoneKnapper Dragon\",\"Obvious Child\",\"Cheap Thrills\",\"Kvinden i buret\",\"\\ub291\\ub300\\uc18c\\ub144\",\"Les enfants de Timpelbach\",\"Bad Country\",\"O Homem do Futuro\",\"Mr. Peabody & Sherman\",\"Under the Skin\",\"Need for Speed\",\"Barefoot\",\"Veronica Mars\",\"Bad Words\",\"Son of God\",\"Puss in Boots: The Three Diablos\",\"Meu Passado me Condena\",\"Minha M\\u00e3e \\u00e9 uma Pe\\u00e7a\",\"Quai d'Orsay\",\"\\u5730\\u7344\\u3067\\u306a\\u305c\\u60aa\\u3044\",\"Ocho apellidos vascos\",\"Michael Kohlhaas\",\"\\u30ad\\u30e3\\u30d7\\u30c6\\u30f3\\u30cf\\u30fc\\u30ed\\u30c3\\u30af\",\"Le Crocodile du Botswanga\",\"Captain America: The Winter Soldier\",\"Starred Up\",\"Noah\",\"The Nut Job\",\"\\u30a2\\u30d9\\u30f3\\u30b8\\u30e3\\u30fc\\u30ba \\u30b3\\u30f3\\u30d5\\u30a3\\u30c7\\u30f3\\u30b7\\u30e3\\u30eb\\uff1a\\u30d6\\u30e9\\u30c3\\u30af\\u30fb\\u30a6\\u30a3\\u30c9\\u30a6 \\uff06 \\u30d1\\u30cb\\u30c3\\u30b7\\u30e3\\u30fc\",\"Belle et S\\u00e9bastien\",\"Les Lyonnais\",\"BloodRayne: The Third Reich\",\"BloodRayne II: Deliverance\",\"Diplomatie\",\"13 Sins\",\"The Legend of Hercules\",\"Muppets Most Wanted\",\"Dom Hemingway\",\"Blood Ties\",\"Feuchtgebiete\",\"Free to Play\",\"Fiston\",\"Best Man Down\",\"The Machine\",\"In the Blood\",\"M\\u00f6bius\",\"Going Postal\",\"The Quiet Ones\",\"Draft Day\",\"Vi \\u00e4r b\\u00e4st!\",\"The Raid 2: Berandal\",\"Metro Manila\",\"The Amazing Spider-Man 2\",\"Son of Batman\",\"Calvary\",\"Oculus\",\"God's Not Dead\",\"Cold in July\",\"La Belle et la B\\u00eate\",\"Las brujas de Zugarramurdi\",\"Rio 2\",\"An Honest Liar\",\"In Your Eyes\",\"Bears\",\"Fading Gigolo\",\"Transcendence\",\"Hatchet III\",\"Wake Wood\",\"Heaven is for Real\",\"The Other Woman\",\"A Haunted House 2\",\"Mulan II\",\"Vampire Academy\",\"Brick Mansions\",\"Devil's Knot\",\"Hundra\\u00e5ringen som klev ut genom f\\u00f6nstret och f\\u00f6rsvann\",\"Locke\",\"Tokarev\",\"Pompeii\",\"Tout ce qui Brille\",\"100% Cachemire\",\"Neighbors\",\"Jodorowsky's Dune\",\"A Case of You\",\"Belle\",\"The Immigrant\",\"\\u0905 \\u0935\\u0947\\u0921\\u0928\\u0938\\u0921\\u0947\",\"Good People\",\"Magic Magic\",\"Moms' Night Out\",\"Lucy\",\"X-Men: Days of Future Past\",\"Godzilla\",\"Lovely Molly\",\"Walk of Shame\",\"Blue Ruin\",\"Palo Alto\",\"Kid Cannabis\",\"Chef\",\"Rosemary's Baby\",\"The Normal Heart\",\"Afflicted\",\"Blended\",\"Begin Again\",\"Big Ass Spider!\",\"Maleficent\",\"The Two Faces of January\",\"Zombeavers\",\"Love Punch\",\"A Million Ways to Die in the West\",\"Edge of Tomorrow\",\"Qu'est-ce qu'on a fait au Bon Dieu\",\"Tracks\",\"Mission: Impossible - Rogue Nation\",\"Neverland\",\"Million Dollar Arm\",\"G.B.F.\",\"Jimi: All Is by My Side\",\"Bad Ass 2: Bad Asses\",\"Flight 7500\",\"The Fault in Our Stars\",\"The Grand Seduction\",\"Raze\",\"Minuscule - La vall\\u00e9e des fourmis perdues\",\"Tangled Ever After\",\"\\u3082\\u3082\\u3078\\u306e\\u624b\\u7d19\",\"Maps to the Stars\",\"Frequencies\",\"So Undercover\",\"Mindscape\",\"22 Jump Street\",\"Il capitale umano\",\"The Equalizer\",\"How to Train Your Dragon 2\",\"Birdman\",\"Chroniques sexuelles d'une famille d'aujourd'hui\",\"17 filles\",\"Haunt\",\"Boyhood\",\"The Trials of Cate McCall\",\"Think Like a Man Too\",\"Jersey Boys\",\"The Internet's Own Boy: The Story of Aaron Swartz\",\"Transformers: Age of Extinction\",\"Finding Vivian Maier\",\"Perfect Sisters\",\"Frank\",\"Very Good Girls\",\"They Came Together\",\"Planes: Fire & Rescue\",\"Tammy\",\"\\u30ab\\u30e9\\u30d5\\u30eb\",\"The Babadook\",\"Feh\\u00e9r Isten\",\"Whiplash\",\"Gone Girl\",\"The Angriest Man in Brooklyn\",\"Life Itself\",\"Dawn of the Planet of the Apes\",\"Ra.One\",\"No One Lives\",\"Miss Violence\",\"Deliver Us from Evil\",\"And So It Goes\",\"Premature\",\"Sex Tape\",\"I Origins\",\"The Purge: Anarchy\",\"Words and Pictures\",\"Guardians of the Galaxy\",\"The Signal\",\"Willow Creek\",\"The Expendables 3\",\"Hercules\",\"A Most Wanted Man\",\"Wish I Was Here\",\"The Trip to Italy\",\"Earth to Echo\",\"Largo Winch II\",\"Step Up All In\",\"Video Games: The Movie\",\"Life After Beth\",\"The Rover\",\"Get on Up\",\"Magic in the Moonlight\",\"K\\u0131\\u015f Uykusu\",\"Kraftidioten\",\"Housebound\",\"The Hundred-Foot Journey\",\"Batman: Assault on Arkham\",\"The Den\",\"Jupiter Ascending\",\"Teenage Mutant Ninja Turtles\",\"I'll Follow You Down\",\"Rob the Mob\",\"The Giver\",\"The Pretty One\",\"Let's Be Cops\",\"Appleseed Alpha\",\"The Inbetweeners 2\",\"The Sacrament\",\"Sin City: A Dame to Kill For\",\"If I Stay\",\"The Canal\",\"Night Moves\",\"Are You Here\",\"Deux jours, une nuit\",\"Lights Out\",\"Coherence\",\"The Pyramid\",\"Exists\",\"Life of Crime\",\"As Above, So Below\",\"The One I Love\",\"El ni\\u00f1o\",\"The Guest\",\"Leprechaun: Origins\",\"Before I Go to Sleep\",\"Pride\",\"Into the Storm\",\"The Calling\",\"Third Person\",\"Honeymoon\",\"God's Pocket\",\"The Drop\",\"20,000 Days on Earth\",\"The Skeleton Twins\",\"\\u8056\\u95d8\\u58eb\\u661f\\u77e2 LEGEND of SANCTUARY\",\"\\u4e2d\\u56fd\\u5408\\u4f19\\u4eba\",\"The Maze Runner\",\"No Good Deed\",\"Camp X-Ray\",\"Sharknado 2: The Second One\",\"The Riot Club\",\"A Walk Among the Tombstones\",\"My Old Lady\",\"Laggies\",\"God Help the Girl\",\"What We Did on Our Holiday\",\"Turist\",null,null,null,\"The Homesman\",\"The November Man\",\"White Bird in a Blizzard\",\"Who Am I - Kein System ist sicher\",\"Wer\",\"The Boxtrolls\",\"\\u304b\\u3050\\u3084\\u59eb\\u306e\\u7269\\u8a9e\",\"This Is Where I Leave You\",\"\\u5929\\u4f7f\\u306e\\u305f\\u307e\\u3054\",\"The Look of Silence\",\"Cabin Fever: Patient Zero\",\"American Sniper\",\"Tusk\",\"Hector and the Search for Happiness\",\"\\u6bad\\u5c4d\",\"\\u041f\\u043b\\u0435\\u043c'\\u044f\",\"Space Station 76\",\"Horns\",\"Annabelle\",\"Open Windows\",\"Happy Christmas\",\"Two Night Stand\",\"Dracula Untold\",\"Stretch\",\"Aut\\u00f3mata\",\"The Prince\",\"The Adventurer: The Curse of the Midas Box\",\"The Captive\",\"The Scribbler\",\"Predestination\",\"Jack et la m\\u00e9canique du coeur\",\"Justin and the Knights of Valour\",\"Jackass Presents: Bad Grandpa .5\",\"The Swan Princess: Escape from Castle Mountain\",\"What We Do in the Shadows\",\"The Best of Me\",\"John Wick\",\"Plastic\",\"Reclaim\",\"The Judge\",\"The Disappearance of Eleanor Rigby: Them\",\"Love Is Strange\",\"Fury\",\"The Salvation\",\"Grace of Monaco\",\"St. Vincent\",\"Young Ones\",\"Stage Fright\",\"The Swan Princess: The Mystery of the Enchanted Kingdom\",\"Alexander and the Terrible, Horrible, No Good, Very Bad Day\",\"Left Behind\",\"Blind\",\"Extraterrestrial\",\"The Rewrite\",\"Alien Abduction\",\"Ouija\",\"S.W.A.T.: Firefight\",\"Nightcrawler\",\"Big Hero 6\",\"La isla m\\u00ednima\",\"The Book of Life\",\"Love, Rosie\",\"\\u72c4\\u4ec1\\u6770\\u4e4b\\u795e\\u90fd\\u9f99\\u738b\",\"Time Lapse\",\"En solitaire\",\"Ex Machina\",\"Before I Disappear\",\"Beneath\",\"Mr. Turner\",\"Copenhagen\",\"Mercy\",\"Hawaiian Vacation\",\"Maggie Simpson in The Longest Daycare\",\"Small Fry\",\"9\",\"The Hit List\",\"Dead in Tombstone\",\"Doctor Strange\",\"The Land Before Time IV: Journey Through the Mists\",\"The Land Before Time V: The Mysterious Island\",\"Stranded\",\"These Final Hours\",\"Unsere M\\u00fctter, unsere V\\u00e4ter\",\"Haider\",\"Kumiko, the Treasure Hunter\",\"Olive Kitteridge\",\"\\u041b\\u0435\\u0432\\u0438\\u0430\\u0444\\u0430\\u043d\",\"Still Life\",\"Foxcatcher\",\"\\u5251\\u96e8\",\"Wolf Creek 2\",\"Zulu\",\"Walking With Dinosaurs\",\"Secret of the Wings\",\"Tinker Bell and the Lost Treasure\",\"You're Not You\",\"Crush\",\"Stonehearst Asylum\",\"Mandariinid\",\"Life Partners\",\"Drive Hard\",\"In Secret\",\"Nosotros los nobles\",\"The Returned\",\"The Possession of Michael King\",\"\\u0421\\u0442\\u0430\\u043b\\u0438\\u043d\\u0433\\u0440\\u0430\\u0434\",\"Freier Fall\",\"D\\u00f8d Sn\\u00f8 2\",\"Stromberg - Der Film\",\"Na xie nian, wo men yi qi zhui de nu hai\",\"\\u4e0d\\u80fd\\u8aaa\\u7684\\u79d8\\u5bc6\",\"Last Passenger\",\"Serena\",\"The Imitation Game\",\"Inherent Vice\",\"Im Labyrinth des Schweigens\",\"Babysitting\",\"Rudderless\",\"The Hunger Games: Mockingjay - Part 1\",\"Rosewater\",\"Sex Ed\",\"A Good Marriage\",\"Hoje Eu Quero Voltar Sozinho\",\"Love and Honor\",\"Remember Sunday\",\"La Cage Dor\\u00e9e\",\"Exodus: Gods and Kings\",\"Trash\",\"Relatos salvajes\",\"\\u30b5\\u30ab\\u30b5\\u30de\\u306e\\u30d1\\u30c6\\u30de\",\"Fed Up\",\"Dumb and Dumber To\",\"The Longest Week\",\"The Damned\",\"Miss Meadows\",\"Une rencontre\",\"Dear White People\",\"One Chance\",\"The Theory of Everything\",\"Doctor Who: The Time of the Doctor\",\"Dolphin Tale 2\",\"When the Game Stands Tall\",\"ABCs of Death 2\",\"Une nouvelle amie\",\"Tu veux... ou tu veux pas?\",\"G\\u00e5ten Ragnarok\",\"Virunga\",\"The Madagascar Penguins in a Christmas Caper\",\"V/H/S: Viral\",\"The Boy Who Cried Werewolf\",\"Starry Eyes\",\"\\u601d\\u3044\\u51fa\\u306e\\u30de\\u30fc\\u30cb\\u30fc\",\"Song of the Sea\",\"Beyond the Lights\",\"Paulette\",\"In the Heart of the Sea\",\"Les Tuche\",\"\\u51b0\\u5c01\\u4fe0: \\u91cd\\u751f\\u4e4b\\u9580\",\"Listen Up Philip\",\"Jurassic World\",\"Citizenfour\",\"LOL (Laughing Out Loud)\",\"Ast\\u00e9rix: Le domaine des dieux\",\"The Taking of Deborah Logan\",\"Horrible Bosses 2\",\"DragonHeart: A New Beginning\",\"Enemies Closer\",\"Penguins of Madagascar\",\"Black or White\",\"'71\",\"The Water Diviner\",\"Still Alice\",\"Paddington\",\"Jessabelle\",\"Maze Runner: The Scorch Trials\",\"Ice Age: A Mammoth Christmas\",\"Kajaki\",\"The Voices\",\"Grace\",\"Batman vs Dracula\",\"Nati con la camicia\",\"Cowspiracy: The Sustainability Secret\",\"Clouds of Sils Maria\",\"Dying of the Light\",\"All Cheerleaders Die\",\"WolfCop\",\"The Borderlands\",\"\\u0e15\\u0e49\\u0e21\\u0e22\\u0e33\\u0e01\\u0e38\\u0e49\\u0e07 2\",\"Kill the Messenger\",\"A Cinderella Story: Once Upon a Song\",\"Bring It On: In It To Win It\",null,null,\"Jarhead 2: Field of Fire\",\"The Mule\",\"The Hobbit: The Battle of the Five Armies\",\"Selma\",\"Unbroken\",\"Black Sea\",\"The Good Lie\",\"Playing It Cool\",\"Khumba\",\"A Girl Walks Home Alone at Night\",\"Mommy\",\"A Most Violent Year\",\"Wild\",\"Top Five\",\"Redirected\",\"Big Eyes\",\"Into the Woods\",\"Men, Women & Children\",\"The Interview\",\"Kingsman: The Secret Service\",\"Night at the Museum: Secret of the Tomb\",\"Sorority Wars\",\"Walking on Sunshine\",\"The Punisher: Dirty Laundry\",\"Behaving Badly\",\"Les Vacances du Petit Nicolas\",\"12 Dates of Christmas\",\"Seventh Son\",\"S\\u00e9ptimo\",\"Let's Kill Ward's Wife\",\"A Merry Friggin' Christmas\",\"Ask Me Anything\",\"\\u86cd\\u706b\\u306e\\u675c\\u3078\",\"Annie\",\"PK\",\"Finders Keepers\",\"Another Me\",\"Comet\",\"Il ragazzo invisibile\",\"Les 11 Commandements\",\"Chappie\",\"Partysaurus Rex\",\"Toy Story That Time Forgot\",\"Le sel de la terre\",\"Gimme Shelter\",\"Taken 3\",\"Blackhat\",\"Son of a Gun\",\"Terminator Genisys\",\"The Woman in Black 2: Angel of Death\",\"Doodlebug\",null,\"Bianco, rosso e Verdone\",\"Viaggi di nozze\",\"Il mio miglior nemico\",\"Grande, grosso e Verdone\",null,\"Viy\",\"Houdini\",\"101 Dalmatians II: Patch's London Adventure\",\"Justin Bieber: Never Say Never\",\"Van Wilder: Freshman Year\",\"Shriek If You Know What I Did Last Friday the Thirteenth\",\"Tarzan\",\"StreetDance 2\",\"The Hungover Games\",\"Nurse 3-D\",\"Wrong Turn 5: Bloodlines\",\"\\uac10\\uae30\",\"Le Renard et l'Enfant\",\"Kevin Hart: Let Me Explain\",\"Las aventuras de Tadeo Jones\",\"The Duke of Burgundy\",\"Red Army\",\"Save the Last Dance 2\",\"When in Rome\",\"Nothing Left to Fear\",\"\\ud5e8\\uc824\\uacfc \\uadf8\\ub808\\ud154\",\"It Follows\",\"The Anomaly\",\"The Town that Dreaded Sundown\",\"Adieu au langage\",\"\\ubca0\\ub97c\\ub9b0\",\"Altitude\",\"Get a Horse!\",\"Happy New Year\",\"Picture This\",\"Lizzie Borden Took An Ax\",\"At the Devil's Door\",\"Stuart Little 3: Call of the Wild\",\"La chiave\",\"JLA Adventures: Trapped in Time\",\"Torrente 5: Operaci\\u00f3n Eurovegas\",\"Tengo ganas de ti\",\"Mad Max: Fury Road\",\"Insidious: Chapter 3\",\"Star Wars: The Force Awakens\",\"Ben-Hur\",\"Warcraft\",\"Avengers: Age of Ultron\",\"Avatar 2\",\"Pirates of the Caribbean: Dead Men Tell No Tales\",\"Ant-Man\",\"Fantastic Four\",\"Deadpool\",\"Guardians of the Galaxy Vol. 2\",\"Captain America: Civil War\",\"Doctor Strange\",\"X-Men: Apocalypse\",\"Clear History\",\"Les Combattants\",\"Taken\",\"Cloclo\",\"The Hunters\",\"Cake\",\"Safari\",\"The Gambler\",\"Justice League: Throne of Atlantis\",\"The Ouija Experiment\",\"Against the Sun\",\"2012: Ice Age\",\"Mortdecai\",\"Fifty Shades of Grey\",\"Expelled\",\"Halloweentown\",\"Halloweentown II: Kalabar's Revenge\",\"Halloweentown High\",\"Barbie: A Fashion Fairytale\",\"Wolves\",\"The Adventures of Andr\\u00e9 and Wally B.\",\"American Heist\",\"The Pacific\",\"Strange Magic\",\"Paris-Manhattan\",\"The DUFF\",\"The Remaining\",\"Everly\",\"The Little Death\",\"Hj\\u00e6lp, jeg er en fisk\",\"The Fox and the Hound 2\",\"Jos\\u00e9phine\",\"Fant\\u00f4mas\",\"Fant\\u00f4mas se d\\u00e9cha\\u00eene\",\"Fant\\u00f4mas contre Scotland Yard\",\"Sala samob\\u00f3jc\\u00f3w\",\"Project Almanac\",\"Louis C.K.: Live at The Comedy Store\",\"Brooklyn\",\"The End of the Tour\",\"Experimenter\",\"Lila & Eve\",\"Mississippi Grind\",\"Mistress America\",\"Zipper\",\"A Walk in the Woods\",\"True Story\",\"Ten Thousand Saints\",\"Sleeping with Other People\",\"Cobain: Montage of Heck\",\"The Hunting Ground\",\"Going Clear: Scientology and the Prison of Belief\",\"What Happened, Miss Simone?\",\"99 Homes\",\"Bande de filles\",\"The Bronze\",\"The D Train\",\"The Diary of a Teenage Girl\",\"Dope\",\"Me and Earl and the Dying Girl\",\"The Overnight\",\"People, Places, Things\",\"Results\",\"The Stanford Prison Experiment\",\"Z for Zachariah\",\"En duva satt p\\u00e5 en gren och funderade p\\u00e5 tillvaron\",\"Teen Spirit\",\"Alien Outpost\",\"The Loft\",\"[REC] 4: Apocalipsis\",\"Vice\",\"Family Guy Presents: Blue Harvest\",\"Lost River\",\"Italiano medio\",\"Situation Amoureuse: C'est Compliqu\\u00e9\",\"Il piccolo diavolo\",\"Beethoven's 3rd\",\"The Hateful Eight\",\"Wild Card\",\"Paper Towns\",\"The Wedding Ringer\",\"Wyrmwood: Road Of The Dead\",\"The Boy Next Door\",\"John Doe: Vigilante\",\"Knight of Cups\",\"45 Years\",\"Victoria\",\"Home Sweet Hell\",\"Timbuktu\",\"Das finstere Tal\",\"The Last Five Years\",\"Crimson Peak\",\"Dragonheart 3: The Sorcerer's Curse\",\"Honey, We Shrunk Ourselves\",\"Stitch! The Movie\",\"Hot Tub Time Machine 2\",\"Lascars\",\"Les Beaux Gosses\",\"Northmen: A Viking Saga\",\"Superfast!\",\"R\\u00e9alit\\u00e9\",\"Hansel and Gretel Get Baked\",\"Focus\",\"Every Thing Will Be Fine\",\"The SpongeBob Movie: Sponge Out of Water\",\"Demonic\",\"Marvel One-Shot: Item 47\",\"The Second Best Exotic Marigold Hotel\",\"Tracers\",\"McFarland, USA\",\"\\u72fc\\u56fe\\u817e\",\"The Lazarus Effect\",\"Cos\\u00ec \\u00e8 la vita\",null,\"Unfinished Business\",\"La French\",\"About Alex\",\"Spare Parts\",\"Konferenz der Tiere\",\"Falcon Rising\",\"Run All Night\",\"STAND BY ME \\u30c9\\u30e9\\u3048\\u3082\\u3093\",\"Late Phases\",\"Digging Up the Marrow\",\"Clown\",\"Camille redouble\",\"Cinderella\",\"Frozen Fever\",\"Avis de mistral\",\"Kidnapping Mr. Heineken\",\"The Cobbler\",\"Magnifica presenza\",\"Patrick\",\"Rubinrot\",\"Poltergeist\",\"Pan\",\"While We're Young\",\"The Boy\",\"Suite Fran\\u00e7aise\",\"Insurgent\",\"Big Game\",\"La v\\u00e9rit\\u00e9 si je mens !\",\"\\u30d9\\u30eb\\u30bb\\u30eb\\u30af \\u9ec4\\u91d1\\u6642\\u4ee3\\u7bc7II \\u30c9\\u30eb\\u30c9\\u30ec\\u30a4\\u653b\\u7565\",\"\\u30d9\\u30eb\\u30bb\\u30eb\\u30af \\u9ec4\\u91d1\\u6642\\u4ee3\\u7bc7I \\u8987\\u738b\\u306e\\u5375\",\"\\u30d9\\u30eb\\u30bb\\u30eb\\u30af \\u9ec4\\u91d1\\u6642\\u4ee3\\u7bc7III \\u964d\\u81e8\",\"Hippocrate\",\"Home\",\"Flying Home\",\"Midnight Special\",\"The Gunman\",\"The Disappearance of Eleanor Rigby: Her\",\"The Disappearance of Eleanor Rigby: Him\",\"Escobar: Paradise Lost\",\"Jongens\",\"Furious 7\",\"Unfriended\",\"Backcountry\",\"We Are Still Here\",\"The Final Girls\",\"Spring\",\"Power/Rangers\",\"Petals on the Wind\",\"Child 44\",\"A Little Chaos\",\"Get Hard\",\"That Sugar Film\",\"Stargate SG-1: Children of the Gods - Final Cut\",\"Ronal Barbaren\",\"Cinderella III: A Twist in Time\",\"Mickey, Donald, Goofy: The Three Musketeers\",null,\"Phoenix\",\"Parallels\",\"Dead Rising\",\"Brother Bear 2\",\"\\u4e00\\u500b\\u4eba\\u7684\\u6b66\\u6797\",\"Sabrina the Teenage Witch\",\"\\ub0b4\\uac00 \\uc0b4\\uc778\\ubc94\\uc774\\ub2e4\",\"Kill Me Three Times\",\"\\u308b\\u308d\\u3046\\u306b\\u5263\\u5fc3\\u3000\\u4f1d\\u8aac\\u306e\\u6700\\u671f\\u7de8\",\"\\u308b\\u308d\\u3046\\u306b\\u5263\\u5fc3 \\u4eac\\u90fd\\u5927\\u706b\\u7de8\",\"The Atticus Institute\",\"Kristy\",\"The Houses October Built\",\"Preservation\",\"Poker Night\",\"Shaun the Sheep Movie\",\"Infinitely Polar Bear\",\"Manuale d'amore 3\",\"Last Knights\",\"Baciami Ancora\",\"The Jinx: The Life and Deaths of Robert Durst\",\"Batman vs. Robin\",\"Libre et assoupi\",\"Woman in Gold\",\"Samba\",\"Cut Bank\",\"7 Zwerge - M\\u00e4nner allein im Wald\",\"The Road Within\",\"Lemonade Mouth\",\"Tomorrowland\",\"The Forger\",\"Good Kill\",\"Faults\",\"Welp\",\"The Harvest\",\"Paul Blart: Mall Cop 2\",\"El Infierno\",\"Adult Beginners\",\"Respire\",\"Book of Blood\",\"Outcast\",\"\\uba85\\ub7c9\",\"The Longest Ride\",\"Beyond the Reach\",\"Atari: Game Over\",\"The Age of Adaline\",\"Danny Collins\",\"Halo: Nightfall\",\"A Girl Like Her\",\"Grandma\",\"Mea Culpa\",\"A Royal Night Out\",\"Barbecue\",\"Kite\",\"Tinker Bell and the Legend of the NeverBeast\",\"Tinker Bell and the Pirate Fairy\",\"Radiostars\",\"Le Pari\",\"Honig im Kopf\",\"Pok\\u00e9mon: Mewtwo Returns\",\"Mother's Day\",\"Man Up\",\"San Andreas\",\"Regression\",\"Welcome to Me\",\"Testament of Youth\",\"The Man with the Iron Fists 2\",\"Far from the Madding Crowd\",\"The House of Magic\",\"\\uc6b0\\ub294 \\ub0a8\\uc790\",\"Wrong Turn 6: Last Resort\",\"Barbie as The Princess & the Pauper\",\"Barbie: Fairytopia\",\"Barbie of Swan Lake\",\"Barbie Diaries\",\"Barbie: Princess Charm School\",\"Barbie: A Fairy Secret\",\"Barbie in the 12 Dancing Princesses\",\"Barbie: The Princess & The Popstar\",\"Barbie and the Diamond Castle\",\"Barbie in A Mermaid Tale\",\"Barbie as the Island Princess\",\"Barbie and the Three Musketeers\",\"Barbie in 'A Christmas Carol'\",\"Barbie Presents: Thumbelina\",\"Barbie Fairytopia: Mermaidia\",\"Barbie as Rapunzel\",\"Barbie and the Magic of Pegasus 3-D\",\"Barbie Mariposa and Her Butterfly Fairy Friends\",\"La Famille B\\u00e9lier\",\"Hitman: Agent 47\",\"Tinker Bell and the Great Fairy Rescue\",\"Ricki and the Flash\",\"Ride\",\"The Eichmann Show\",\"Infini\",\"Musara\\u00f1as\",\"Pitch Perfect 2\",\"Just Before I Go\",\"Carol\",\"Pound of Flesh\",\"Strangerland\",\"After\",\"Monsters: Dark Continent\",\"The Lobster\",\"Maggie\",\"Hot Pursuit\",\"Slow West\",\"The Human Centipede 3 (Final Sequence)\",\"The Green Inferno\",\"Barely Lethal\",\"Spooks: The Greater Good\",\"Il giovane favoloso\",\"Deep Web\",\"5 to 7\",\"San Andreas Quake\",\"The Martian\",\"Return to Sender\",\"Kung Fury\",\"\\ub05d\\uae4c\\uc9c0 \\uac04\\ub2e4\",\"Youth\",\"Survivor\",\"Hot Girls Wanted\",\"Il bisbetico domato\",\"Spy\",\"Tinker Bell\",\"Vivir es F\\u00e1cil con los Ojos Cerrados\",\"Trainwreck\",\"Grandi magazzini\",\"Le comiche\",\"Ma che bella sorpresa\",null,\"Aloha\",\"Tutta colpa di Freud\",\"Amiche da morire\",\"Sole a catinelle\",\"Che bella giornata\",\"She's Funny That Way\",\"La mafia uccide solo d'estate\",\"Song One\",\"Hibernatus\",\"\\u062a\\u0627\\u06a9\\u0633\\u06cc\",\"\\u5929\\u5c07\\u96c4\\u5e2b\",\"Jab Tak Hai Jaan\",\"Entourage\",\"5 Flights Up\",\"Inside Out\",\"The Wolfpack\",\"Soaked in Bleach\",\"Love & Mercy\",\"Amusement\",\"\\u8b66\\u5bdf\\u6545\\u4e8b2013\",\"\\u041c\\u0435\\u0442\\u0440\\u043e\",\"The Hunger Games: Mockingjay - Part 2\",\"Max\",\"Pixels\",\"Allegiant\",\"Fantastic Beasts and Where to Find Them\",\"Elle l'adore\",\"The Star Wars Holiday Special\",\"Wendy Wu: Homecoming Warrior\",\"Mr. Holmes\",\"The Secret Life of Pets\",\"A.C.A.B.: All Cops Are Bastards\",\"O Menino e o Mundo\",\"Little Boy\",\"T\\u0159i o\\u0159\\u00ed\\u0161ky pro Popelku\",\"Self/less\",\"Criminal\",\"The Last Witch Hunter\",\"Krampus\",\"Suicide Squad\",\"De Behandeling\",\"Independence Day: Resurgence\",\"Star Trek Beyond\",\"Vertige\",\"Final Girl\",\"The Disappointments Room\",\"\\u0927\\u0942\\u092e \\u0969\",\"Dhoom 2\",\"Never Back Down 2: The Beatdown\",\"Boychoir\",\"Ted 2\",\"Queen\",\"Absolutely Anything\",\"Minions\",\"La casa del fin de los tiempos\",\"Leroy & Stitch\",\"Boogeyman 3\",\"The Good Dinosaur\",\"Black Mass\",\"Spectre\",\"The Hottie & The Nottie\",\"Il marchese del Grillo\",\"Que Horas Ela Volta?\",\"Boogeyman 2\",\"Scooby-Doo on Zombie Island\",\"Sharknado 3: Oh Hell No!\",\"Scooby-Doo! and the Cyber Chase\",\"Aloha Scooby-Doo!\",\"\\u653b\\u6bbb\\u6a5f\\u52d5\\u968a 2.0\",\"Robot Chicken: Star Wars\",\"Three Little Pigs\",\"Mickey's Christmas Carol\",\"Kung Fu Panda: Secrets of the Masters\",\"Steve Jobs\",\"Macbeth\",null,\"Vacation\",\"Creep\",\"See No Evil 2\",\"The Pact II\",\"Madame Bovary\",\"The Face of an Angel\",\"Manglehorn\",\"Search Party\",\"After the Ball\",\"Skin Trade\",\"Careful What You Wish For\",\"Let Us Prey\",\"Robot Overlords\",\"GirlHouse\",\"Batman v Superman: Dawn of Justice\",\"Les H\\u00e9ritiers\",\"Gemma Bovery\",\"Out of the Dark\",\"Road to Ninja: Naruto the Movie\",\"Seal Team Six: The Raid on Osama Bin Laden\",\"Cyberbully\",\"Amy\",\"Blue Lagoon: The Awakening\",\"Saturno contro\",\"Stung\",\"Magic Mike XXL\",\"The Jungle Book\",\"\\u30c9\\u30e9\\u30b4\\u30f3\\u30dc\\u30fc\\u30ebZ \\u5fa9\\u6d3b\\u306e\\u300cF\\u300d\",\"Accidental Love\",\"The Man from U.N.C.L.E.\",\"Justice League: Gods and Monsters\",\"Burying the Ex\",\"7 Days in Hell\",\"The Walk\",\"13 Hours: The Secret Soldiers of Benghazi\",\"Spectral\",\"Sous les jupes des filles\",\"Staten Island Summer\",\"Benvenuti al nord\",\"Femmine contro maschi\",null,null,\"Maschi Contro Femmine\",\"Nessuno mi pu\\u00f2 giudicare\",\"Tutti i santi giorni\",null,\"Buongiorno pap\\u00e0\",null,\"Benvenuto Presidente!\",null,\"Smetto quando voglio\",null,\"Aspirante vedovo\",null,null,\"Tutta la vita davanti\",\"Ex\",null,\"Qualunquemente\",null,\"The Gallows\",\"In My Dreams\",\"Basilicata coast to coast\",\"Feast\",\"Les seigneurs\",\"\\u30c9\\u30e9\\u30b4\\u30f3\\u30dc\\u30fc\\u30eb \\u30a8\\u30d4\\u30bd\\u30fc\\u30c9 \\u30aa\\u30d6 \\u30d0\\u30fc\\u30c0\\u30c3\\u30af\",\"Werewolf: The Beast Among Us\",\"Trois souvenirs de ma jeunesse\",\"Dark Places\",\"I'll Always Know What You Did Last Summer\",\"Boulevard\",\"Mustang\",\"Afro Samurai\",\"Bajrangi Bhaijaan\",\"Pressure\",\"The Revenant\",\"Il cosmo sul com\\u00f2\",\"Irrational Man\",\"Il racconto dei racconti\",\"Cleveland Abduction\",\"Lissi und der wilde Kaiser\",\"Cartel Land\",\"\\uc624\\uc9c1 \\uadf8\\ub300\\ub9cc\",\"Baahubali: The Beginning\",\"Learning to Drive\",\"The True Cost\",\"Ooops! Noah is Gone...\",\"Southpaw\",\"Sicario\",\"Ich seh, Ich seh\",\"Un moment d'\\u00e9garement\",\"X+Y\",\"Dark Was the Night\",\"Before We Go\",\"Best of Enemies\",\"Smosh: The Movie\",\"Hollywoo\",\"Anomalisa\",\"Colonia\",\"Une heure de tranquillit\\u00e9\",\"Some Kind of Beautiful\",null,\"Fantozzi - Il ritorno\",null,\"Fantozzi alla riscossa\",\"Fantozzi va in pensione\",\"I pompieri\",\"Fantozzi subisce ancora\",\"Fracchia la belva umana\",\"The Vatican Tapes\",\"\\u6d77\\u8857diary\",\"The Intern\",\"Extinction\",\"Descendants\",\"Love\",\"Room\",\"Backmask\",\"Tarzan II\",\"The Gift\",\"The Witch\",\"M\\u00e6nd & h\\u00f8ns\",\"3 Generations\",\"The Escort\",\"Lava\",\"Family Guy Presents: Something, Something, Something, Dark Side\",\"The Visit\",\"Secret in Their Eyes\",\"Sinister 2\",\"Let It Shine\",\"\\u0411\\u0438\\u0442\\u0432\\u0430 \\u0437\\u0430 \\u0421\\u0435\\u0432\\u0430\\u0441\\u0442\\u043e\\u043f\\u043e\\u043b\\u044c\",\"Harbinger Down\",\"American Ultra\",\"No Escape\",\"Straight Outta Compton\",\"Cop Car\",\"The Lost Room\",\"16 Wishes\",\"A LEGO Brickumentary\",\"La cr\\u00e8me de la cr\\u00e8me\",\"\\u9032\\u6483\\u306e\\u5de8\\u4eba ATTACK ON TITAN\",\"Tangerine\",\"Air\",\"Elser\",\"Toute premi\\u00e8re fois\",\"Every Secret Thing\",\"Scusate se esisto!\",\"Joy\",\"Victor Frankenstein\",\"Get a Clue\",\"Theeb\\u200e\\u200e\",\"\\u0417\\u0430\\u0449\\u0438\\u0442\\u043d\\u0438\\u043a\\u0438\",\"\\ub354 \\ud14c\\ub7ec \\ub77c\\uc774\\ube0c\",\"Arthur 3: la guerre des deux mondes\",\"Kill Your Friends\",\"Equals\",\"Scouts Guide to the Zombie Apocalypse\",\"\\u30d1\\u30e9\\u30ce\\u30fc\\u30de\\u30eb\\u30fb\\u30a2\\u30af\\u30c6\\u30a3\\u30d3\\u30c6\\u30a3 \\u7b2c2\\u7ae0 TOKYO NIGHT\",\"Suffragette\",\"\\u3042\\u3093\",\"The Hunchback of Notre Dame II\",\"\\uc554\\uc0b4\",\"Turbo Kid\",\"Dadnapped\",\"We Are Your Friends\",\"War Room\",\"La belle saison\",\"Joseph: King of Dreams\",\"Legend\",\"The Outcasts\",\"Queen of Earth\",\"Deathgasm\",\"The Danish Girl\",\"Area 51\",\"Cooties\",\"Steve Jobs: The Man in the Machine\",\"Green Room\",\"Beasts of No Nation\",\"The Lady in the Van\",\"Bloodsucking Bastards\",\"Meru\",\"6 Years\",\"Oscar\",\"The Transporter Refueled\",\"La V\\u00e9rit\\u00e9 si je Mens ! 3\",\"La V\\u00e9rit\\u00e9 si je Mens ! 2\",\"Jenny's Wedding\",\"Reversal\",\"Knock Knock\",\"The Nightmare\",\"Man Down\",\"Return to Halloweentown\",\"\\ub3c4\\uac00\\ub2c8\",\"Life\",\"Papa ou maman\",\"Demolition\",\"The Keeping Room\",\"Our Brand Is Crisis\",\"\\u9032\\u6483\\u306e\\u5de8\\u4eba ATTACK ON TITAN \\u30a8\\u30f3\\u30c9 \\u30aa\\u30d6 \\u30b6 \\u30ef\\u30fc\\u30eb\\u30c9\",\"\\u523a\\u5ba2\\u8076\\u96b1\\u5a18\",\"High-Rise\",\"The Night Before\",\"Into the Forest\",\"Time Out of Mind\",\"Un Homme id\\u00e9al\",\"Everest\",\"Le tout nouveau testament\",\"\\u6349\\u5996\\u8bb0\",\"Spotlight\",\"Saul fia\",\"Intruders\",\"Pawn Sacrifice\",\"Hardcore Henry\",\"Burnt\",\"Queen of the Desert\",\"Visions\",\"Cow Belles\",\"Last Shift\",\"Fack ju G\\u00f6hte 2\",\"Pay the Ghost\",\"The Program\",\"\\u30ea\\u30c8\\u30eb\\u30a6\\u30a3\\u30c3\\u30c1\\u30a2\\u30ab\\u30c7\\u30df\\u30a2\",\"Tiger House\",\"A Christmas Horror Story\",\"Sissi - Schicksalsjahre einer Kaiserin\",\"Sissi\",\"El Club\",\"Hotel Transylvania 2\",\"Hidden\",\"Jump In!\",\"Tremors 5: Bloodlines\",\"Freeheld\",\"By the Sea\",\"The Little Prince\",\"Ashby\",\"Dheepan\",\"Ronaldo\",null,\"Wonder Woman\",\"The Circle\",\"Silence\",\"El Clan\",\"Bridge of Spies\",\"Mune, le gardien de la lune\",\"A Bigger Splash\",\"Into the Grizzly Maze\",\"Where to Invade Next\",\"Human\",\"\\u5c71\\u6cb3\\u6545\\u4eba\",\"Nous York\",\"Kokow\\u00e4\\u00e4h 2\",\"The Invitation\",\"Mia madre\",\"Hail, Caesar!\",\"Beauty & the Briefcase\",\"L'Amour, c'est mieux \\u00e0 deux\",\"Er ist wieder da\",\"Connasse, Princesse des c\\u0153urs\",\"The Blackcoat's Daughter\",\"\\u6740\\u7834\\u72fc2\",\"L'\\u00e9tudiante et Monsieur Henri\",\"La T\\u00eate haute\",\"Invisible Sister\",\"Baskin\",\"Animal\",\"Avalon High\",\"The Tower\",null,null,null,null,\"Circle\",\"\\uac10\\uc2dc\\uc790\\ub4e4\",null,null,null,null,\"Goosebumps\",\"Back in Time\",\"La Loi du march\\u00e9\",\"Ostwind\",\"Miss You Already\",\"The Perfect Guy\",\"Rock the Kasbah\",\"Freaks of Nature\",\"Momentum\",\"Tales of Halloween\",\"The Diabolical\",\"Bone Tomahawk\",\"Paranormal Activity: The Ghost Dimension\",\"Jem and the Holograms\",\"The 33\",\"Suburra\",\"Colt 45\",\"Howl\",\"Fathers and Daughters\",\"Curve\",\"The Dressmaker\",\"Balto III: Wings of Change\",\"Fasandr\\u00e6berne\",\"Trumbo\",\"Our Lips Are Sealed\",\"Marguerite\",\"La Guerre Des Boutons\",\"La Nouvelle Guerre des boutons\",null,\"Concussion\",\"The Exorcism of Molly Hartley\",\"The Peanuts Movie\",\"Noi e la Giulia\",null,\"Blue Mountain State: The Rise of Thadland\",\"The Hallow\",\"\\u30d0\\u30b1\\u30e2\\u30ce\\u306e\\u5b50\",\"The Falling\",\"Naomi and Ely's No Kiss List\",\"Nous trois ou rien\",\"Creed\",\"Dragons: Gift of the Night Fury\",\"Le Gendarme \\u00e0 New York\",\"Le Gendarme en balade\",\"Le Gendarme de Saint-Tropez\",\"Le gendarme et les extra-terrestres\",\"Twinsters\",\"Solace\",\"Louder Than Bombs\",\"Le Grand Restaurant\",\"Heist\",\"Fonzy\",\"400 Days\",\"Les sous-dou\\u00e9s\",\"Double z\\u00e9ro\",\"Love the Coopers\",\"Nos jours heureux\",\"Vive la France\",\"Doctor Who: Last Christmas\",\"Made in France\",\"A Perfect Day\",\"Coldwater\",\"Bravetown\",\"Loro chi?\",\"Criminal Activities\",\"Miasto 44\",\"Hr\\u00fatar\",\"Point Break\",\"Antigang\",\"Winter on Fire: Ukraine's Fight for Freedom\",\"Hitchcock/Truffaut\",\"The 5th Wave\",\"A Very Murray Christmas\",\"L'Affaire SK1\",\"Truman\",\"Sanjay's Super Team\",\"B\\u00f8lgen\",\"Chi-Raq\",\"Babysitting 2\",null,\"\\u897f\\u6e38\\u8bb0\\u4e4b\\u5927\\u5723\\u5f52\\u6765\",\"Truth\",\"The Big Short\",\"The Ridiculous 6\",\"Saw\",\"American Hero\",\"Wizards of Waverly Place: The Movie\",\"Extraction\",\"World of Tomorrow\",\"Zoolander 2\",\"The Legend of Barney Thomson\",\"The Lion Guard: Return of the Roar\",\"How to Be Single\",\"He Never Died\",\"Fifty Shades of Black\",\"Nocturnal Animals\",\"Daddy's Home\",\"Sisters\",\"Kung Fu Panda 3\",null,\"Standoff\",null,\"Bajirao Mastani\",null,null,null,\"Childhood's End\",null,\"BORUTO -NARUTO THE MOVIE-\",null,\"Ahora o nunca\",null,\"The Last: Naruto the Movie\",null,null,null,\"Pride and Prejudice and Zombies\",null,\"Quo vado?\",null,\"Frenemies\",null,\"How to Build a Better Boy\",null,\"The Devil's Candy\",null,\"Jane Got a Gun\",null,\"Dilwale\",null,\"Captive\",null,\"Hell & Back\",null,\"The Forest\",null,\"The Cheetah Girls: One World\",null,\"Bang Bang!\",null,\"Close Range\",null,\"Diablo\",null,\"Un fantastico via vai\",null,\"Moonwalkers\",null,\"Janis: Little Girl Blue\",null,\"Uncanny\",null,\"Demain\",null,\"La corrispondenza\",null,\"The Abandoned\",null,\"\\u5287\\u5834\\u7248 NARUTO \\u5927\\u6d3b\\u5287! \\u96ea\\u59eb\\u5fcd\\u6cd5\\u5e16\\u3060\\u3063\\u3066\\u3070\\u3088!!\",null,\"Anacleto: Agente secreto\",null,\"El desconocido\",null,\"En man som heter Ove\",null,\"Un peu, beaucoup, aveugl\\u00e9ment\",null,\"Wiener-Dog\",null,\"Norm of the North\",null,\"Ride Along 2\",null,\"Maggie's Plan\",null,\"Batman: Bad Blood\",null,\"Eddie the Eagle\",null,\"Airlift\",null,\"Exposed\",null,\"Terminus\",null,\"Mon roi\",null,\"Martyrs\",null,\"Lo and Behold: Reveries of the Connected World\",null,\"The Boy\",null,\"Jeruzalem\",null,\"Lazer Team\",null,\"Risen\",null,\"The Survivalist\",null,\"Avril et le monde truqu\\u00e9\",null,\"The Other Side of the Door\",null,\"Dirty Grandpa\",null,\"Se Dio vuole\",null,\"Sei mai stata sulla luna?\",null,\"The Finest Hours\",null,\"K\\u00f4kaku kid\\u00f4tai: Stand Alone Complex - Solid State Society\",null,\"Le Mac\",null,\"The Birth of a Nation\",null,\"Holding the Man\",null,\"Me Before You\",null,\"Grease Live\",null,\"Pandemic\",null,\"Miles Ahead\",null,\"Crouching Tiger, Hidden Dragon: Sword of Destiny\",null,\"Triple 9\",null,\"Gods of Egypt\",null,\"El Abrazo de la Serpiente\",null,\"Race\",null,\"10 Cloverfield Lane\",null,\"London Has Fallen\",null,\"Zootopia\",null,\"Whiskey Tango Foxtrot\",null,\"Desierto\",null,\"Grimsby\",null,\"Krigen\",null,\"Michael Jackson's Thriller\",null,\"Misconduct\",null,\"L'Hermine\",null,\"Un plus une\",null,\"Une famille \\u00e0 louer\",null,\"Lolo\",null,\"\\u5bfb\\u9f99\\u8bc0\",null,\"Southbound\",\"Cabin Fever\",\"\\u8449\\u554f3\",\"Les Profs\",\"The Veil\",null,\"Vai Que Cola - O Filme\",\"Hunt for the Wilderpeople\",\"Forsaken\",\"Rabbits\",\"Hellions\",\"4th Man Out\",\"Dad's Army\",\"Open Season: Scared Silly\",\"Palmeras en la nieve\",\"Ocho apellidos catalanes\",\"Remember\",\"\\u7f8e\\u4eba\\u9c7c\",\"And Then There Were None\",\"Cos\\u00ec fan tutte\",\"Emelie\",\"The Neon Demon\",\"Lo chiamavano Jeeg Robot\",\"Elvis & Nixon\",\"Eye in the Sky\",\"Hello, My Name Is Doris\",\"Mr. Right\",\"Backtrack\",\"Ratter\",\"Pee-wee's Big Holiday\",\"Miracles from Heaven\",\"Under the Shadow\",\"Florence Foster Jenkins\",\"La Vache\",\"Maryland\",\"My Big Fat Greek Wedding 2\",\"Born to Be Blue\",\"Get a Job\",\"Keanu\",\"White Girl\",\"Yoga Hosers\",\"War on Everyone\",\"Love & Friendship\",\"Justice League vs. Teen Titans\",\"Ice Age: The Great Egg-Scapade\",\"Mon Pire Cauchemar\",\"I Spit on Your Grave III: Vengeance is Mine\",\"Zero Days\",\"Everybody Wants Some!!\",\"Sing Street\",\"Paterson\",\"The Huntsman: Winter's War\",\"Neighbors 2: Sorority Rising\",\"The Trust\",\"Hush\",\"L'avenir\",\"Confirmation\",\"The Good Neighbor\",\"Under sandet\",\"Fan\",\"The Man Who Knew Infinity\",\"Veloce come il vento\",\"Money Monster\",\"Nine Lives\",\"Don't Think Twice\",\"Barbershop: The Next Cut\",\"The Choice\",\"Our Kind of Traitor\",\"Finding Dory\",\"The Boss\",\"Perfetti sconosciuti\",\"Bastille Day\",\"Free State of Jones\",\"The Angry Birds Movie\",\"Tickled\",\"Amour & turbulences\",\"I Am Wrath\",\"Precious Cargo\",\"11.22.63\",\"Neuilly sa M\\u00e8re !\",\"Al final del t\\u00fanel\",\"Mother's Day\",\"Manhattan Night\",\"Snowden\",\"Special Correspondents\",\"Sacrifice\",\"Ogni maledetto Natale\",\"Ratchet & Clank\",\"Holidays\",\"Term Life\",\"Synchronicity\",\"Lucky Luke\",\"The Nice Guys\",\"Kindergarten Cop 2\",\"A Hologram for the King\",\"Scusa ma ti voglio sposare\",\"The Family Fang\",\"Zapped\",\"Alvin and the Chipmunks: The Road Chip\",\"The Shallows\",\"Leatherface\",\"Freelancers\",\"Big Driver\",\"\\uc544\\uac00\\uc528\",\"Alice Through the Looking Glass\",\"The BFG\",\"My Scientology Movie\",\"Sausage Party\",\"Kill Command\",\"The Eyes of My Mother\",\"Captain Fantastic\",\"Toni Erdmann\",\"Neruda\",\"\\uace1\\uc131\",\"The Meddler\",\"Now You See Me 2\",\"Julieta\",\"Caf\\u00e9 Society\",\"I, Daniel Blake\",\"Swiss Army Man\",\"The Do-Over\",\"Before I Wake\",\"The Ones Below\",\"Teenage Mutant Ninja Turtles: Out of the Shadows\",\"The Darkness\",\"The Fundamentals of Caring\",\"Popstar: Never Stop Never Stopping\",\"La Prochaine fois je viserai le c\\u0153ur\",\"Planet Earth\",\"Life\",\"All the Way\",\"Bo Burnham: Make Happy\",\"Boris - Il film\",\"The Conjuring 2\",\"Never Back Down: No Surrender\",\"Approaching the Unknown\",\"Pel\\u00e9: Birth of a Legend\",\"Bienvenue \\u00e0 bord\",\"Comment c'est Loin\",\"Ghostbusters\",\"Cell\",\"Bang Gang (une histoire d'amour moderne)\",\"Blackway\",\"La pazza gioia\",\"Central Intelligence\",\"O.J.: Made in America\",\"Genius\",\"Dead Rising: Endgame\",\"Jason Bourne\",\"Adventures in Babysitting\",\"The Legend of Tarzan\",\"The Purge: Election Year\",\"Mike and Dave Need Wedding Dates\",\"Ice Age: Collision Course\",\"Lights Out\",\"Pete's Dragon\",\"The Duel\",\"Les Tuche 2: Le r\\u00eave am\\u00e9ricain\",\"Io sto con gli ippopotami\",\"Indignation\",\"La Chance de ma vie\",\"Tallulah\",\"Non essere cattivo\",\"The ReZort\",\"Marauders\",\"Absolutely Fabulous: The Movie\",\"Piper\",\"La tortue rouge\",\"Satanic\",\"Les Innocentes\",\"Nerve\",\"Sully\",\"Ma loute\",\"Juste la fin du monde\",\"Sultan\",\"Un homme \\u00e0 la hauteur\",\"The Benefactor\",\"The Infiltrator\",\"War Dogs\",\"Back in the Day\",\"Cien a\\u00f1os de perd\\u00f3n\",\"Looking: The Movie\",\"Le Nouveau\",\"Walt Before Mickey\",\"The Love Witch\",\"Batman: The Killing Joke\",\"Bad Moms\",\"Hell or High Water\",\"Southside with You\",\"Meet the Blacks\",\"\\u30ad\\u30f3\\u30b0\\u30b9\\u30b0\\u30ec\\u30a4\\u30d6 \\u30d5\\u30a1\\u30a4\\u30ca\\u30eb\\u30d5\\u30a1\\u30f3\\u30bf\\u30b8\\u30fcXV\",\"Retour chez ma m\\u00e8re\",\"Revenge of the Bridesmaids\",\"Don't Breathe\",\"47 Meters Down\",\"The Call Up\",\"Robinson Crusoe\",\"Belle et S\\u00e9bastien, l'aventure continue\",\"King Cobra\",\"Sharknado 4: The 4th Awakens\",\"The Edge of Seventeen\",\"Anthropoid\",\"Blood Father\",\"Elle\",\"\\ubd80\\uc0b0\\ud589\",\"Unfriend\",\"Viral\",\"Mechanic: Resurrection\",\"The 9th Life of Louis Drax\",\"The Magnificent Seven\",\"Skiptrace\",\"Moonlight\",\"Flaskepost fra P\",\"The Childhood of a Leader\",\"Five\",\"Masterminds\",\"Kubo and the Two Strings\",\"\\u00c9perdument\",\"Bridget Jones's Baby\",\"The Light Between Oceans\",\"Morgan\",\"Queen of Katwe\",\"Deepwater Horizon\",\"Miss Peregrine's Home for Peculiar Children\",\"The Girl on the Train\",\"Middle School: The Worst Years of My Life\",\"The Accountant\",\"Kevin Hart: What Now ?\",\"High Strung\",\"God's Not Dead 2\",\"The Whole Truth\",\"American Honey\",\"Imperium\",\"David Brent: Life on the Road\",\"M\\u00e9decin de campagne\",\"I Am Not a Serial Killer\",\"Hands of Stone\",\"\\u30b7\\u30f3\\u30fb\\u30b4\\u30b8\\u30e9\",\"Honey 3: Dare to Dance\",\"The Sea of Trees\",\"XOXO\",\"\\u541b\\u306e\\u540d\\u306f\\u3002\",\"\\ud130\\ub110\",\"Certain Women\",\"Aquarius\",\"Hacksaw Ridge\",\"Other People\",\"Rampage: Capital Punishment\",\"Kiki, el amor se hace\",\"Der geilste Tag\",\"Perdiendo el Norte\",\"Divines\",\"USS Indianapolis: Men of Courage\",\"Billy Lynn's Long Halftime Walk\",\"Blair Witch\",\"The Hollars\",\"The Beatles: Eight Days a Week - The Touring Years\",\"Kickboxer: Vengeance\",\"The Promise\",\"Loving\",\"Christine\",\"31\",\"ARQ\",\"Fuocoammare\",\"Un bacio\",\"Mal de pierres\",\"I.T.\",\"The Neighbor\",\"Twitches\",\"A Monster Calls\",\"Arrival\",\"Storks\",\"\\u6d77\\u3088\\u308a\\u3082\\u307e\\u3060\\u6df1\\u304f\",\"Maximum Ride\",\"Radin!\",\"The Girl with All the Gifts\",\"Abattoir\",\"All Roads Lead to Rome\",\"\\u30a2\\u30a4\\u30a2\\u30e0\\u30a2\\u30d2\\u30fc\\u30ed\\u30fc\",\"Ma vie de courgette\",\"Amanda Knox\",\"All Eyez on Me\",\"Fratelli unici\",\"Io che amo solo te\",\"Operation Avalanche\",\"Tarde para la ira\",\"The Cheetah Girls 2\",\"Cloud 9\",\"Teen Beach 2\",\"The Cheetah Girls\",\"The Wizards Return: Alex vs. Alex\",\"Honey 2\",\"Colossal\",\"A Cinderella Story: If the Shoe Fits\",\"Blue Jay\",\"La La Land\",\"13th\",\"The Siege of Jadotville\",\"Quand on a 17 Ans\",\"\\u0641\\u0631\\u0648\\u0634\\u0646\\u062f\\u0647\",\"Allied\",\"The Monster\",\"Brimstone\",\"Inferno\",\"Keeping Up with the Joneses\",\"Ouija: Origin of Evil\",\"Trolls\",\"Max Steel\",\"Denial\",\"Jack Reacher: Never Go Back\",\"In a Valley of Violence\",\"Borrowed Time\",\"American Pastoral\",\"Mr. Church\",\"Before the Flood\",\"Manchester by the Sea\",\"Lion\",\"Come and Find Me\",\"In guerra per amore\",\"I Am the Pretty Thing That Lives in the House\",\"The Autopsy of Jane Doe\",\"The Thinning\",\"Team Thor\",\"Closet Monster\",\"Those People\",\"Bad Santa 2\",\"The Late Bloomer\",\"Almost Christmas\",\"El Club de los Incomprendidos\",\"Marvel One-Shot: All Hail the King\",\"Marvel One-Shot: The Consultant\",\"Que Dios nos perdone\",\"Army of One\",\"Collateral Beauty\",\"True Memoirs of an International Assassin\",\"La Folle histoire de Max et L\\u00e9on\",\"Bienvenue \\u00e0 Marly-Gomont\",\"Dog Eat Dog\",\"Riley's First Date?\",\"A United Kingdom\",\"Saphirblau\",\"Shut In\",\"Good Kids\",\"L'Odyss\\u00e9e\",\"\\u8072\\u306e\\u5f62\",\"Moana\",\"Jackie\",\"Office Christmas Party\",\"The Space Between Us\",\"Rogue One: A Star Wars Story\",\"Pet\",\"Live by Night\",\"Split\",\"A Kind of Murder\",\"Underworld: Blood Wars\",\"Miss Sloane\",\"Rules Don't Apply\",\"Passengers\",\"Hidden Figures\",\"Fences\",\"Bleed for This\",\"Se Eu Fosse Voc\\u00ea 2\",\"Hacker\",\"20th Century Women\",\"The Great Wall\",\"The Founder\",\"Why Him?\",\"Sing\",\"I Am Not Your Negro\",\"Victoria\",\"Beyond the Gates\",\"Lou ! Journal infime\",\"Hurricane Bianca\",\"Assassin's Creed\",\"A Dog's Purpose\",\"\\u0926\\u0902\\u0917\\u0932\",\"Collide\",\"Good Luck Charlie, It's Christmas!\",\"Patriots Day\",\"Gold\",\"\\u00bfQu\\u00e9 culpa tiene el ni\\u00f1o?\",\"Ballerina\",\"Fist Fight\",\"Monster Trucks\",\"Sleepless\",\"A Cure for Wellness\",\"La Fille inconnue\",\"A Street Cat Named Bob\",\"xXx: Return of Xander Cage\",\"The Bye Bye Man\",\"The Lego Batman Movie\",\"Superman/Shazam!: The Return of Black Adam\",\"When the Bough Breaks\",\"Frantz\",\"\\u00c0 fond\",\"Contratiempo\",\"\\u30ef\\u30f3\\u30d4\\u30fc\\u30b9\\u3000\\u30d5\\u30a3\\u30eb\\u30e0 GOLD\",\"Trespass Against Us\",\"The White Helmets\",\"Coin Heist\",\"Tini: El gran cambio de Violetta\",\"Marvel One-Shot: Agent Carter\",\"Marvel One-Shot: A Funny Thing Happened on the Way to Thor's Hammer\",\"Rings\",\"Grave\",\"Clinical\",\"Minha M\\u00e3e \\u00e9 Uma Pe\\u00e7a 2\",\"John Wick: Chapter 2\",\"Get Out\",\"Logan\",\"Kong: Skull Island\",\"T2 Trainspotting\",\"Science Fiction Volume One: The Osiris Child\",\"Before I Fall\",\"The Belko Experiment\",\"The Big Sick\",\"I Don't Feel at Home in This World Anymore\",\"Chocolat\",\"King Arthur: Legend of the Sword\",\"Headshot\",\"Incarnate\",\"Saturn 3\",\"Beauty and the Beast\",\"Boo! A Madea Halloween\",\"Coco\",\"The Boss Baby\",\"Justice League Dark\",\"Resident Evil: The Final Chapter\",\"iBoy\",\"L'ora legale\",\"A Ghost Story\",\"Ghost in the Shell\",\"Dalida\",\"XX\",\"Fifty Shades Darker\",\"Wilson\",\"Don't Knock Twice\",\"La gabbianella e il gatto\",\"Mine\",\"Smetto quando voglio: Masterclass\",\"Berlin Syndrome\",\"Song to Song\",\"To the Bone\",\"Raid dingue\",\"Gantz:O\",\"Don't Hang Up\",\"The Void\"],\"x\":[23.730920791625977,-15.37224292755127,2.62153697013855,5.19816255569458,53.55107879638672,-41.858253479003906,23.189369201660156,16.673843383789062,14.954160690307617,-66.30107879638672,-41.028953552246094,15.414602279663086,-32.14183044433594,68.34405517578125,-2.8494625091552734,61.508087158203125,60.002227783203125,46.86886215209961,38.54103469848633,32.56339645385742,35.04330062866211,-9.984594345092773,66.81815338134766,8.673113822937012,25.997182846069336,-17.150951385498047,-34.25777053833008,9.827266693115234,-14.164050102233887,-1.1493198871612549,-15.266021728515625,3.407097578048706,-21.430570602416992,-42.456459045410156,33.084110260009766,-60.98774337768555,26.13480567932129,16.468860626220703,34.5546875,23.244657516479492,-24.552467346191406,-19.946195602416992,21.031375885009766,-8.29025650024414,45.468780517578125,-62.813255310058594,-9.495058059692383,32.120582580566406,-15.27031135559082,50.29271697998047,-30.88562774658203,64.04317474365234,30.643856048583984,47.059749603271484,-26.099607467651367,-66.50052642822266,-12.91467571258545,5.810730934143066,0.08666317164897919,45.67470169067383,43.45035171508789,-5.7591962814331055,5.918510437011719,-32.701560974121094,-3.5136022567749023,66.48027801513672,37.244361877441406,47.87411117553711,24.34894371032715,15.620102882385254,-47.433738708496094,-11.24923038482666,25.913715362548828,58.42524719238281,56.84587097167969,-0.574952244758606,-19.615360260009766,-31.795917510986328,-17.33399200439453,2.4475080966949463,-31.436031341552734,45.06909942626953,-12.449309349060059,9.163579940795898,-1.8961622714996338,21.237606048583984,19.121126174926758,48.769676208496094,43.407814025878906,-24.58776092529297,-15.721168518066406,28.322816848754883,15.905372619628906,43.20062255859375,6.456912040710449,-2.888615608215332,2.614436388015747,-44.43318176269531,-18.192598342895508,-14.453944206237793,16.727872848510742,-42.202510833740234,11.940245628356934,-13.370646476745605,66.85462951660156,41.03465270996094,-48.035701751708984,-2.9730401039123535,22.30732536315918,-6.530991077423096,34.711883544921875,25.022354125976562,-8.758621215820312,-11.432422637939453,-12.049912452697754,11.27679443359375,58.25325012207031,53.42286682128906,53.89528274536133,-7.188628673553467,9.918792724609375,7.390191078186035,-34.46647644042969,-15.984166145324707,-7.888913631439209,-2.4950103759765625,-16.240386962890625,63.05058288574219,-11.191272735595703,4.5411176681518555,57.41310119628906,0.11430538445711136,-2.3590786457061768,33.48169708251953,-54.20777893066406,-65.32634735107422,-29.560453414916992,46.92510986328125,39.043418884277344,5.423154354095459,-9.392995834350586,-27.329566955566406,-18.872962951660156,3.6511306762695312,8.285571098327637,3.5383944511413574,-65.44804382324219,72.64247131347656,54.169769287109375,44.1556510925293,-46.09032440185547,32.00807571411133,-12.527548789978027,4.252852439880371,-36.431114196777344,33.37748336791992,67.68208312988281,17.54953956604004,24.467578887939453,-0.8378121852874756,27.51072120666504,-14.299229621887207,25.5313663482666,-62.92063903808594,-0.8064296245574951,-18.843233108520508,71.36762237548828,57.51129150390625,-27.083797454833984,38.65678787231445,36.44972229003906,-1.6110835075378418,-46.22148132324219,-7.981338977813721,-19.766679763793945,-23.711322784423828,5.8179545402526855,29.046998977661133,-10.563117027282715,17.422460556030273,59.94229507446289,24.205400466918945,-0.26449212431907654,-11.127445220947266,26.677349090576172,-40.73277282714844,-39.01821517944336,-36.75226593017578,72.17656707763672,11.669949531555176,26.671504974365234,46.771480560302734,-30.541000366210938,-44.31619644165039,-1.0414385795593262,-21.260059356689453,16.825037002563477,69.6707534790039,31.60726547241211,5.550086498260498,35.65034484863281,-66.88372802734375,26.077714920043945,41.690792083740234,33.01674270629883,23.67804718017578,-17.163188934326172,-59.1597785949707,16.313234329223633,-0.4846726357936859,33.92605972290039,-22.012096405029297,-47.42034149169922,-10.136305809020996,26.7633056640625,-25.20672035217285,-31.566572189331055,-68.02842712402344,-1.4726288318634033,43.92463302612305,9.366300582885742,46.08720779418945,-9.28355884552002,-8.812716484069824,-23.991493225097656,55.195045471191406,11.560685157775879,-22.523344039916992,-4.027817249298096,9.469284057617188,28.597152709960938,51.654415130615234,48.69457244873047,23.58721923828125,4.097292423248291,22.63296890258789,30.479537963867188,-15.89311408996582,43.76079177856445,16.160655975341797,34.18362808227539,-24.502853393554688,5.816893100738525,-20.1404972076416,19.314775466918945,33.305477142333984,19.679763793945312,-2.8317673206329346,0.24534614384174347,41.05586242675781,-16.608556747436523,32.34626770019531,53.463706970214844,65.13401794433594,-15.758590698242188,-9.534059524536133,5.586888790130615,12.89247989654541,-0.3609344959259033,48.34854507446289,-2.6761674880981445,19.430294036865234,-11.272745132446289,16.56827163696289,-26.007993698120117,9.201642036437988,-28.40618324279785,9.396658897399902,27.37978172302246,2.0805606842041016,67.19786071777344,-6.290420055389404,4.3661909103393555,5.61288595199585,17.057064056396484,-30.593137741088867,-8.366425514221191,51.600494384765625,-3.345966339111328,47.75661849975586,-20.66175079345703,-27.763427734375,-17.63300895690918,35.36895751953125,41.5609016418457,51.75834274291992,-31.292837142944336,2.5714125633239746,-68.4556655883789,-25.911388397216797,18.72343635559082,-18.591312408447266,-24.791486740112305,18.120180130004883,1.4474155902862549,69.58605194091797,-21.831735610961914,21.709989547729492,56.76887130737305,13.782750129699707,-21.38404083251953,12.758459091186523,6.918762683868408,16.992170333862305,2.5812275409698486,-20.24273681640625,65.50736236572266,44.247169494628906,-61.71892166137695,-25.79204559326172,8.422490119934082,-31.42205238342285,33.806373596191406,-53.417362213134766,-56.230621337890625,37.98553466796875,-61.68348693847656,27.32472038269043,-2.865307092666626,-44.910457611083984,-38.88144302368164,-50.654842376708984,58.94902420043945,-26.229326248168945,-65.1782455444336,28.024707794189453,27.99441909790039,1.241073727607727,0.6855547428131104,-29.877641677856445,7.398486137390137,18.784286499023438,-24.60358428955078,-0.9036025404930115,-50.62746047973633,-20.566978454589844,6.275262355804443,9.495854377746582,-20.57932472229004,56.75337219238281,0.49517175555229187,25.470788955688477,-16.638324737548828,36.08754348754883,37.01179122924805,-26.041879653930664,-8.144146919250488,10.499322891235352,15.80355167388916,19.791095733642578,22.574087142944336,-48.54314041137695,14.026107788085938,-41.82106018066406,13.42264461517334,17.955707550048828,-24.42721939086914,31.98324203491211,25.236103057861328,37.5953483581543,-13.865429878234863,-4.749520301818848,14.87813663482666,1.738042950630188,-13.202842712402344,-15.112558364868164,30.49786949157715,49.958587646484375,-10.21060848236084,-29.236631393432617,30.433576583862305,-49.700050354003906,23.816280364990234,46.52653121948242,48.19065475463867,7.836535930633545,-12.230148315429688,20.00840950012207,16.15162467956543,-15.47985553741455,-52.46613311767578,34.49117660522461,52.50419616699219,38.183204650878906,2.812187671661377,-9.297545433044434,-39.1865348815918,32.504295349121094,-22.288482666015625,-5.674225330352783,-14.253744125366211,-30.096824645996094,-66.10708618164062,-48.90966796875,28.651565551757812,54.72486114501953,52.45182800292969,44.66555404663086,50.66062927246094,-39.748905181884766,-35.58232116699219,42.836212158203125,-22.44005012512207,-24.688486099243164,-7.275409698486328,-27.444406509399414,26.658222198486328,27.79828453063965,40.94199752807617,-39.62298583984375,27.91533088684082,-11.79433822631836,-17.005374908447266,20.337385177612305,2.6655828952789307,61.59309005737305,-10.79361343383789,-6.728480339050293,40.57936096191406,-24.78009796142578,-11.300167083740234,-8.506333351135254,-30.803800582885742,-47.99815368652344,6.871787071228027,60.501163482666016,60.74696731567383,26.559154510498047,-22.637781143188477,17.442350387573242,29.570396423339844,-4.92676305770874,-5.323919296264648,12.856710433959961,55.96504592895508,27.837984085083008,24.7005615234375,40.75538635253906,-30.51388931274414,37.879207611083984,-29.65811538696289,17.061670303344727,-4.507365703582764,-66.76007843017578,19.49488067626953,11.019319534301758,47.69763946533203,43.02497482299805,30.59105682373047,4.311554908752441,30.467187881469727,-39.48219680786133,22.397096633911133,-40.17079162597656,-6.296501636505127,17.458740234375,-30.595205307006836,24.666534423828125,42.892059326171875,18.867664337158203,-6.654576301574707,32.490177154541016,19.80506706237793,39.977046966552734,56.328304290771484,8.376009941101074,-21.666095733642578,23.027463912963867,-47.05378341674805,18.269107818603516,-3.670414924621582,-50.820457458496094,-34.9921875,-11.522795677185059,53.41069030761719,-17.033199310302734,-60.966243743896484,-25.297607421875,-24.01210594177246,-30.534406661987305,-10.800090789794922,-54.01875305175781,-26.6931095123291,-46.62837600708008,-49.067867279052734,-50.13410186767578,6.457161903381348,-20.049503326416016,49.01041793823242,28.902795791625977,-10.15876579284668,4.867003917694092,26.661502838134766,-15.581542015075684,-44.11201095581055,-12.925026893615723,51.59129333496094,18.592309951782227,27.450448989868164,-44.21811294555664,-44.47586441040039,-24.60917091369629,3.1214780807495117,42.91079330444336,57.972190856933594,-27.69367218017578,27.03424072265625,41.04695129394531,2.7530665397644043,12.272701263427734,-3.0036885738372803,-32.426055908203125,2.7031664848327637,24.200725555419922,37.88673400878906,0.916016697883606,1.6168508529663086,5.3091559410095215,1.418961763381958,-7.14438009262085,23.696773529052734,6.394981384277344,36.306671142578125,-17.56766700744629,-8.072799682617188,15.204658508300781,45.94706344604492,-13.675928115844727,19.376544952392578,-15.159989356994629,-10.739579200744629,-19.38534164428711,-48.742305755615234,-59.468196868896484,-32.065067291259766,-34.20864486694336,27.880746841430664,-25.376310348510742,-44.54239273071289,-1.7363032102584839,-0.5430222749710083,9.216736793518066,18.954750061035156,22.142427444458008,-4.206188678741455,52.66333770751953,1.5359998941421509,-34.61165237426758,-24.701696395874023,5.054174423217773,41.477298736572266,-7.422759532928467,14.572745323181152,24.16492462158203,-15.98680591583252,44.33449935913086,5.439846515655518,-61.252593994140625,-26.29350471496582,10.849281311035156,-7.73946475982666,14.478404998779297,36.79859161376953,29.212051391601562,-0.54586261510849,24.349092483520508,-15.672844886779785,4.169862270355225,16.256126403808594,5.5640459060668945,-17.523460388183594,39.84149169921875,48.629024505615234,-7.913478851318359,-42.980247497558594,-5.4785590171813965,-22.03816795349121,58.26374816894531,18.399335861206055,-70.30833435058594,52.44062042236328,6.1179304122924805,1.5600816011428833,52.8126220703125,-26.146289825439453,-24.31868553161621,-27.532676696777344,61.50852584838867,1.3871976137161255,-2.2595951557159424,-40.0098991394043,-10.409932136535645,54.321815490722656,-56.35165786743164,-50.050392150878906,-19.648517608642578,-25.796979904174805,-35.52199935913086,3.2054007053375244,53.2730712890625,13.775150299072266,58.79222869873047,-11.007296562194824,6.085529804229736,16.465892791748047,25.400941848754883,-0.6349822282791138,62.34754943847656,37.4041633605957,-6.731297492980957,12.185240745544434,-12.935787200927734,33.28339767456055,-19.83136749267578,63.46788787841797,20.93164825439453,19.90888023376465,-43.79768753051758,-2.8689045906066895,3.9668900966644287,-3.0685336589813232,15.379166603088379,60.37394332885742,-38.08112335205078,-0.35225072503089905,21.464279174804688,-2.2665457725524902,-2.199326753616333,55.35604476928711,-28.436920166015625,-21.345327377319336,56.79182815551758,34.34247589111328,-65.40526580810547,10.204895973205566,-59.60334014892578,33.23371124267578,-6.867193698883057,18.093597412109375,40.55522918701172,-32.95810317993164,15.392815589904785,4.905279636383057,-8.988819122314453,-7.436406135559082,-11.662643432617188,-26.3148250579834,16.233692169189453,-2.9858434200286865,-31.21306800842285,-29.191932678222656,-29.803619384765625,35.07516098022461,5.308885097503662,7.111830234527588,-8.025430679321289,52.46579360961914,11.443612098693848,22.1861629486084,20.34433364868164,-4.300556182861328,-7.8019514083862305,-60.23468780517578,-36.9318733215332,-24.92377471923828,-33.03926086425781,-28.551374435424805,-17.08273696899414,-66.45115661621094,-65.30169677734375,-22.080888748168945,-43.66139221191406,47.1494255065918,47.215457916259766,-35.36373519897461,-64.94097137451172,-21.09787940979004,-65.86067962646484,38.71880340576172,-37.117557525634766,33.24162673950195,-7.996150016784668,3.152398109436035,-19.74483871459961,68.78102111816406,-42.570194244384766,-48.57429504394531,-51.85246276855469,49.277862548828125,-8.167240142822266,-8.163257598876953,-8.175630569458008,-8.432574272155762,-8.201520919799805,-8.245800018310547,-30.998510360717773,22.214126586914062,22.2574405670166,-17.701969146728516,24.46377944946289,-25.130945205688477,24.288476943969727,-52.649024963378906,-53.04780197143555,-52.38248825073242,0.4823352098464966,16.556720733642578,-4.126732349395752,27.47031021118164,-10.09496784210205,-41.01539611816406,-38.401573181152344,7.661814212799072,-42.72567367553711,51.23508834838867,-2.3900086879730225,-37.73975372314453,17.35074234008789,-42.2662467956543,8.536961555480957,48.404205322265625,-3.938913106918335,60.15610885620117,39.57666778564453,9.932615280151367,43.58879089355469,50.084678649902344,1.6676764488220215,15.259209632873535,68.79721069335938,59.52818298339844,48.4345588684082,-30.019399642944336,-38.85005187988281,-13.741753578186035,3.323974370956421,-31.344066619873047,4.64576530456543,-20.437828063964844,40.908836364746094,-18.215274810791016,11.719887733459473,-31.691688537597656,38.1953010559082,2.938804864883423,39.51768112182617,15.253844261169434,28.086450576782227,10.606850624084473,66.24161529541016,12.595382690429688,-16.661678314208984,49.707786560058594,31.96604347229004,-31.616741180419922,-49.11072540283203,17.672590255737305,60.364234924316406,39.7974853515625,-8.29897403717041,0.29767119884490967,0.050402071326971054,-18.081132888793945,4.155179500579834,42.17438507080078,-16.83030891418457,-25.094402313232422,55.7296257019043,-9.28701114654541,-15.90982723236084,12.826043128967285,30.173877716064453,-33.73672866821289,53.157352447509766,-0.0744534507393837,25.83336639404297,-12.881502151489258,-9.915022850036621,29.173112869262695,25.61073112487793,-58.506011962890625,-8.889974594116211,40.20453643798828,-0.26584264636039734,2.805026054382324,-43.64334487915039,-15.914164543151855,39.222328186035156,47.22361373901367,-23.22678565979004,-50.54341125488281,-0.5230422616004944,-38.244346618652344,37.8616828918457,-2.546560764312744,-48.48841094970703,-41.13871383666992,25.041366577148438,21.316295623779297,-39.8879280090332,30.69872283935547,23.571462631225586,33.15658187866211,0.2684215009212494,-7.4422173500061035,-21.469131469726562,18.900497436523438,37.028499603271484,35.39560317993164,-33.440650939941406,44.6550407409668,-1.1229254007339478,3.0878922939300537,17.445653915405273,8.958553314208984,9.453226089477539,1.3466426134109497,44.75374984741211,-53.555992126464844,-38.464176177978516,-19.869749069213867,-15.252120971679688,16.73716926574707,-27.7976131439209,-49.40993881225586,49.09575271606445,36.476051330566406,-32.58966064453125,57.942352294921875,-22.29857063293457,34.99199676513672,14.499595642089844,24.067516326904297,34.409767150878906,44.481468200683594,41.10148620605469,24.754474639892578,-20.62423324584961,-12.070267677307129,39.2884635925293,-64.25718688964844,-70.37248992919922,17.915252685546875,-5.395659923553467,11.26690673828125,-31.099613189697266,23.120241165161133,52.922489166259766,16.63654899597168,3.2757749557495117,14.600563049316406,25.194650650024414,30.27976417541504,-21.791044235229492,-3.8511223793029785,35.520225524902344,11.912222862243652,-41.67206573486328,56.91050720214844,19.441926956176758,42.45532989501953,-20.069860458374023,43.69219970703125,10.084976196289062,-3.30383038520813,31.07984161376953,36.14910888671875,-1.6060075759887695,-24.899673461914062,-12.70900821685791,-0.913688063621521,67.2841567993164,28.521432876586914,-12.09872055053711,-16.047548294067383,35.21683120727539,12.268760681152344,-36.20206832885742,3.0805153846740723,35.38459014892578,-25.846057891845703,12.790108680725098,-41.644615173339844,-3.1118826866149902,-19.792030334472656,55.89219665527344,-0.46154916286468506,48.72549819946289,24.867597579956055,-29.539113998413086,-37.08118438720703,-12.207921981811523,3.3770697116851807,2.737818479537964,62.73158264160156,9.42332935333252,-48.606056213378906,5.879288196563721,20.719070434570312,1.0071130990982056,13.109814643859863,54.6865119934082,18.781402587890625,25.978857040405273,-26.10793113708496,35.87300109863281,-8.727145195007324,50.69371032714844,29.147314071655273,67.66869354248047,-14.819817543029785,35.2954216003418,40.00794219970703,-5.708249092102051,-14.187173843383789,2.79221510887146,9.713869094848633,-25.7557315826416,60.430931091308594,-28.01149559020996,-24.984033584594727,9.528858184814453,-6.531142234802246,-21.905170440673828,-21.565853118896484,-22.0251407623291,-22.101240158081055,-21.904104232788086,34.81049728393555,35.15848922729492,35.13196563720703,-25.46219253540039,-25.518882751464844,-26.060693740844727,-26.521554946899414,-26.319133758544922,-26.664791107177734,-25.02466583251953,-26.967496871948242,-24.694229125976562,-24.572355270385742,-36.32609558105469,21.554763793945312,21.824735641479492,21.85684585571289,-6.519871234893799,-6.485682487487793,-6.446594715118408,-38.020751953125,-38.03678894042969,32.544490814208984,48.788944244384766,48.7833251953125,48.46473693847656,-34.740074157714844,-30.73939323425293,-32.11220932006836,17.963151931762695,15.905765533447266,-1.8424512147903442,21.461496353149414,21.403348922729492,-14.946911811828613,-7.412661552429199,-57.39632797241211,12.312298774719238,26.570110321044922,-25.072172164916992,1.3463157415390015,52.382625579833984,-3.3361542224884033,-6.527358531951904,3.156285285949707,10.081385612487793,-16.82667350769043,18.39678382873535,56.49494934082031,16.95145034790039,-53.18565368652344,0.005735536105930805,-49.414241790771484,15.170058250427246,-7.113371849060059,27.056583404541016,-3.720717430114746,53.462013244628906,-11.510183334350586,-42.01618194580078,28.13971710205078,4.1454362869262695,2.239619493484497,-36.47105026245117,-35.96366882324219,-30.629478454589844,-47.85586166381836,-55.253997802734375,56.529476165771484,67.98084259033203,-9.22248649597168,-51.8712158203125,-55.620418548583984,-13.66595458984375,-56.12622833251953,-55.508216857910156,-49.28632354736328,-25.502208709716797,3.5517899990081787,-60.34925079345703,37.71392822265625,-55.52444076538086,-53.2837028503418,23.90353775024414,-5.739430904388428,-25.218528747558594,62.45693588256836,11.02225112915039,4.838281631469727,-58.995365142822266,26.00579071044922,-26.419340133666992,-22.65345573425293,3.293877124786377,18.717262268066406,-16.622480392456055,37.24262619018555,-31.223854064941406,0.0021034632809460163,11.45938491821289,36.94939041137695,-26.417394638061523,16.01972198486328,6.022509574890137,-9.515110969543457,-2.9936673641204834,-70.07775115966797,25.518709182739258,-34.07935333251953,-9.513799667358398,-47.83877944946289,-54.47054672241211,-35.63827133178711,-54.507293701171875,-54.49850082397461,-55.22659683227539,-40.15935516357422,-18.613426208496094,41.064697265625,-22.207544326782227,31.482099533081055,-35.28657531738281,-35.1702995300293,-24.81671714782715,51.84638595581055,-5.286555767059326,-47.008182525634766,-46.87839889526367,2.2596025466918945,-67.90784454345703,54.94059753417969,-7.790086269378662,37.600685119628906,67.43416595458984,34.59196853637695,22.7044734954834,-24.338695526123047,-40.28156661987305,44.675045013427734,28.977096557617188,7.27640438079834,-37.275482177734375,12.35684871673584,39.148563385009766,-1.9602495431900024,-24.5509090423584,12.765337944030762,44.9323844909668,23.508344650268555,-4.2938690185546875,8.46916389465332,38.95256042480469,-14.919792175292969,-10.218052864074707,40.90529251098633,28.889476776123047,70.32928466796875,52.97034454345703,18.815860748291016,-18.28428840637207,51.177486419677734,-43.088748931884766,48.623451232910156,23.632003784179688,24.576786041259766,-17.76216697692871,-12.788018226623535,-42.49268341064453,7.00431489944458,-2.7129833698272705,40.84027862548828,45.513248443603516,-43.05461502075195,1.1161340475082397,-25.207170486450195,-7.178618431091309,40.96809005737305,19.318925857543945,-67.27909851074219,-6.564197063446045,-15.138233184814453,11.189302444458008,23.226152420043945,-13.546899795532227,47.45186996459961,58.82648849487305,-42.43878173828125,10.456724166870117,-31.985109329223633,-65.08322143554688,22.314964294433594,-52.20232391357422,-8.529960632324219,-7.035099983215332,-1.091292142868042,1.6208937168121338,-1.859269380569458,35.54480743408203,-17.768503189086914,-36.61658477783203,63.65202331542969,-64.58999633789062,12.148110389709473,53.517887115478516,-31.02235984802246,-8.852839469909668,-37.89809799194336,63.56854248046875,36.42815399169922,-9.976778030395508,-8.058370590209961,-20.439592361450195,9.090521812438965,-13.951484680175781,-55.88760757446289,27.235191345214844,-23.651126861572266,-6.7891154289245605,23.132490158081055,-12.466178894042969,47.60812759399414,18.67345428466797,28.52831268310547,-35.34312438964844,42.16999816894531,42.16749572753906,6.922293186187744,-31.064647674560547,46.350181579589844,26.290355682373047,-18.158945083618164,-28.88591766357422,16.986770629882812,-16.167966842651367,39.03353500366211,38.39424133300781,38.79502868652344,38.65748977661133,38.41173553466797,38.11210632324219,59.54913330078125,26.496828079223633,18.225574493408203,-27.261598587036133,59.66010665893555,15.169805526733398,-8.055326461791992,-19.375919342041016,4.536722183227539,52.66032409667969,72.52857208251953,72.09798431396484,16.36823272705078,3.992479085922241,4.090663433074951,-2.668412446975708,-30.120248794555664,-30.13364601135254,-16.84177589416504,-16.582780838012695,67.8421401977539,67.58531188964844,67.78656768798828,67.68660736083984,-40.40452194213867,-35.728294372558594,-25.775575637817383,-26.198156356811523,-26.07434844970703,-26.05958366394043,68.78289031982422,34.9214973449707,1.5281074047088623,-17.93311309814453,36.527400970458984,8.416176795959473,49.08768844604492,32.677825927734375,22.653432846069336,36.25459671020508,52.284393310546875,-36.80019760131836,-13.767938613891602,-57.36111831665039,-12.64983081817627,-33.24763107299805,-20.055757522583008,46.06581115722656,-35.05821990966797,-35.12310791015625,-35.53465270996094,-34.944889068603516,30.473581314086914,-48.21830368041992,12.14322280883789,35.872127532958984,-22.13319206237793,-39.46546936035156,-39.4908332824707,28.802486419677734,6.414071559906006,19.0491886138916,70.20976257324219,-17.41934585571289,-40.67931365966797,17.005693435668945,-9.540929794311523,-37.906715393066406,32.23854446411133,16.31717300415039,-35.89998245239258,34.923980712890625,49.91555404663086,22.837047576904297,39.06012725830078,-34.71128463745117,-29.35175132751465,-14.75745677947998,-23.171810150146484,52.62168502807617,52.57917404174805,8.494641304016113,20.025283813476562,-34.835453033447266,9.04066276550293,-29.68672752380371,-12.671112060546875,-12.831071853637695,-13.202609062194824,-13.255876541137695,-11.638529777526855,-49.59537887573242,26.5784912109375,47.899715423583984,5.527589321136475,59.653846740722656,-3.8131141662597656,-32.40410232543945,-14.242762565612793,-29.11149787902832,-1.6395920515060425,-19.841251373291016,-5.182122707366943,18.971664428710938,19.464399337768555,-0.5592113137245178,46.912052154541016,-60.325653076171875,-23.80927085876465,19.401290893554688,23.207441329956055,-10.189142227172852,42.42174530029297,65.89746856689453,-17.994497299194336,2.9363343715667725,56.47016525268555,34.65114974975586,16.245798110961914,-24.92279624938965,63.624244689941406,-14.694207191467285,-15.486749649047852,8.469771385192871,-37.668907165527344,-16.33550453186035,-16.507844924926758,26.144634246826172,47.05440902709961,-18.354637145996094,52.744903564453125,52.63886260986328,16.373769760131836,6.701469898223877,-17.984582901000977,-18.24331283569336,-18.070995330810547,-26.199811935424805,-26.47510528564453,-26.52793312072754,-26.634050369262695,-66.56822204589844,-65.47795104980469,-65.38176727294922,-58.587947845458984,-25.89238166809082,68.27952575683594,-9.162019729614258,-15.644512176513672,-9.173297882080078,-58.497596740722656,-0.5130990743637085,27.427043914794922,-4.85420036315918,-10.376282691955566,15.278564453125,-16.182340621948242,-15.396066665649414,-5.8401618003845215,-14.920490264892578,-6.6243085861206055,47.3035774230957,23.61049461364746,-25.225793838500977,-17.15376091003418,-4.4447736740112305,10.752776145935059,-12.507765769958496,43.25298309326172,-4.305426597595215,-44.54184341430664,-9.650830268859863,-46.73715591430664,-34.430416107177734,-34.436763763427734,-30.9378662109375,-29.149187088012695,19.744293212890625,-59.09600067138672,-65.75133514404297,15.92548942565918,4.590386390686035,41.901771545410156,0.5079769492149353,34.085357666015625,43.10404586791992,25.000934600830078,11.193696975708008,-30.991334915161133,-28.510269165039062,-13.991899490356445,16.023191452026367,46.7293586730957,46.74934387207031,11.417311668395996,-38.76134490966797,-20.06862449645996,-50.223304748535156,-27.63999366760254,76.75457763671875,76.75236511230469,47.10706329345703,40.235958099365234,48.96962356567383,16.72210693359375,11.493453025817871,-31.65989112854004,-30.152576446533203,-15.71938705444336,-63.56325912475586,26.913183212280273,41.08135223388672,41.08732604980469,6.238995552062988,6.236763000488281,-60.71441650390625,69.20569610595703,69.2301025390625,58.964786529541016,45.719669342041016,38.76321792602539,38.8159065246582,48.209617614746094,43.64804458618164,69.32908630371094,48.27992630004883,-24.040563583374023,-9.642085075378418,1.49079430103302,-19.870304107666016,22.73203468322754,23.03892707824707,-29.807327270507812,-26.196489334106445,-1.2290666103363037,40.910396575927734,-28.2547550201416,0.3634263873100281,-47.52203369140625,-11.142623901367188,6.803226470947266,57.59035873413086,53.52944564819336,15.394014358520508,-3.7032809257507324,-63.964115142822266,-63.490562438964844,0.9472681879997253,26.01728630065918,-25.256196975708008,30.296642303466797,-58.75275802612305,-32.60776138305664,11.93408203125,48.71672439575195,-11.520011901855469,32.514068603515625,-6.85979700088501,-42.183563232421875,8.357843399047852,17.628385543823242,-35.305992126464844,-29.544282913208008,18.31195640563965,18.398056030273438,11.960588455200195,-12.600611686706543,-17.771089553833008,26.63005256652832,50.586585998535156,56.33367919921875,-0.002129466738551855,-9.032697677612305,56.18220520019531,-7.685577869415283,21.986616134643555,42.868446350097656,21.715782165527344,46.59739303588867,30.8404483795166,-6.5307207107543945,-2.851670265197754,46.58353042602539,57.850341796875,-47.820228576660156,31.053821563720703,-41.91437530517578,54.049495697021484,-1.4737093448638916,-0.8844295144081116,-43.8181037902832,14.727874755859375,16.265954971313477,16.06282615661621,-36.1747932434082,19.597436904907227,63.291259765625,65.52513885498047,52.217098236083984,16.38605308532715,9.860210418701172,-23.44754981994629,-29.42746925354004,-31.472827911376953,23.216148376464844,13.946417808532715,23.091670989990234,24.52268409729004,21.8044376373291,17.0438175201416,-1.042576789855957,-16.999841690063477,17.070768356323242,15.717764854431152,17.10712432861328,14.948769569396973,-23.353586196899414,-0.34141987562179565,-17.318553924560547,22.077489852905273,33.091163635253906,43.83160400390625,-1.8656901121139526,59.962955474853516,8.927617073059082,-28.396221160888672,-32.29322814941406,6.610279083251953,51.110145568847656,18.433839797973633,-29.24407958984375,-4.3538031578063965,-33.231964111328125,12.24703598022461,12.918782234191895,-31.11417579650879,-7.046804428100586,-30.646106719970703,-16.80741310119629,11.830340385437012,55.99104309082031,34.02407455444336,32.3629264831543,-15.645130157470703,-22.22718048095703,-20.639333724975586,-45.32349395751953,2.350097179412842,-73.06019592285156,-0.4182368814945221,-19.27986717224121,2.4303061962127686,26.53657341003418,32.79173278808594,-26.040483474731445,-13.677223205566406,15.433229446411133,-21.652769088745117,-17.711233139038086,16.960981369018555,-13.330042839050293,8.284211158752441,13.412604331970215,19.421052932739258,68.32605743408203,-52.630367279052734,15.580425262451172,12.646928787231445,14.519425392150879,25.368179321289062,60.56917953491211,-28.579259872436523,51.86581039428711,8.41841983795166,14.133865356445312,-11.99356746673584,49.14073181152344,13.368997573852539,20.258756637573242,-13.960719108581543,36.917274475097656,23.81534194946289,23.836706161499023,13.200791358947754,7.759842872619629,6.181251525878906,34.55424499511719,-3.4870424270629883,15.661395072937012,-37.357879638671875,-5.43212366104126,5.944398880004883,-24.034482955932617,7.591862201690674,-53.70891571044922,-23.770828247070312,23.57180404663086,-1.819769024848938,55.13668441772461,1.8092589378356934,-9.405805587768555,-0.8914133906364441,45.58677291870117,67.6260757446289,40.91397476196289,52.502105712890625,-15.026291847229004,-46.408851623535156,-16.885112762451172,60.49345016479492,10.491854667663574,34.12961196899414,59.49541091918945,6.223183631896973,44.47126770019531,-50.273109436035156,-35.15873718261719,-46.98309326171875,56.60543441772461,-17.97818946838379,-31.08405876159668,11.867770195007324,10.246421813964844,5.512871265411377,-14.11341381072998,24.619041442871094,-1.0920928716659546,-18.90351676940918,-10.285125732421875,-14.367330551147461,9.788093566894531,-11.270679473876953,-11.241856575012207,52.379093170166016,26.766284942626953,19.807756423950195,-19.782020568847656,-6.469130992889404,26.239253997802734,-31.27013397216797,-62.94327926635742,56.60277557373047,-67.1061782836914,42.66774368286133,7.200788974761963,-20.46847915649414,-14.512908935546875,-27.665348052978516,-8.954483985900879,30.89925765991211,39.5113525390625,-38.47534942626953,-17.896913528442383,45.8619270324707,-22.514917373657227,-48.2596549987793,-13.803606986999512,34.45079040527344,-18.970170974731445,38.7412223815918,11.238018035888672,4.320319652557373,3.838920831680298,60.524261474609375,8.87734317779541,50.38882064819336,62.86758804321289,0.8015737533569336,3.813354253768921,-0.09116993099451065,-46.69307327270508,-40.63555908203125,28.61226463317871,56.52812957763672,52.34980392456055,60.062564849853516,-37.77790451049805,59.49551773071289,12.833420753479004,18.356128692626953,-11.809584617614746,27.149293899536133,17.814044952392578,27.793628692626953,-6.796189785003662,-33.086578369140625,43.11211013793945,-67.53218078613281,-15.265878677368164,-67.53373718261719,-23.780517578125,-35.18668746948242,-32.3267936706543,-58.260772705078125,4.6709699630737305,-5.579742431640625,34.992156982421875,-16.616273880004883,-25.647924423217773,40.664791107177734,11.540989875793457,40.23094177246094,40.26084518432617,40.97045135498047,41.089595794677734,16.437746047973633,-19.63893699645996,-19.64055824279785,-19.62856101989746,-8.539721488952637,36.810272216796875,3.4830539226531982,2.5394721031188965,-30.970788955688477,-0.18761655688285828,-37.38072204589844,13.742229461669922,-40.622230529785156,13.973299026489258,29.047910690307617,-8.166125297546387,-32.10457229614258,-5.68100118637085,-68.4271469116211,1.9038560390472412,55.089229583740234,23.0762996673584,27.924318313598633,20.50876235961914,-20.488338470458984,-15.854406356811523,18.924699783325195,-55.422428131103516,-31.911041259765625,-22.692424774169922,54.15861511230469,40.96026611328125,-4.421969890594482,18.918529510498047,6.993376731872559,24.391937255859375,21.744644165039062,15.89294719696045,-13.498472213745117,5.737163066864014,8.037412643432617,60.10742950439453,-25.894466400146484,32.960716247558594,8.351468086242676,-18.87721061706543,10.288177490234375,44.38889694213867,17.31440544128418,22.37183380126953,-27.79547119140625,-1.26497220993042,40.24089813232422,-17.54922866821289,-15.76218032836914,16.849319458007812,8.58637523651123,7.416586875915527,-16.85835838317871,1.7224870920181274,57.00767135620117,-0.8866863250732422,-5.52732515335083,34.936805725097656,1.2102019786834717,2.4099600315093994,68.99993133544922,-20.46465301513672,33.715816497802734,-1.635744333267212,-7.228504180908203,3.7114758491516113,0.15203115344047546,39.610870361328125,15.305708885192871,29.476547241210938,-11.387612342834473,-0.509884774684906,17.063764572143555,-6.713984966278076,69.04110717773438,-23.912126541137695,4.973062038421631,-29.421119689941406,61.218284606933594,-2.7434656620025635,18.611923217773438,-60.47560501098633,-29.15921401977539,11.92137336730957,21.346378326416016,15.744694709777832,16.994876861572266,-3.312288284301758,15.538847923278809,26.45022964477539,39.02020263671875,15.258033752441406,-36.84571075439453,-3.1416258811950684,6.643154621124268,-11.029757499694824,38.365543365478516,50.506038665771484,16.384157180786133,68.44255828857422,-19.773296356201172,-7.958921432495117,16.558744430541992,37.2928466796875,12.731873512268066,6.2935662269592285,32.06393051147461,4.6764817237854,-12.853363037109375,52.63727951049805,-30.266462326049805,-16.56900978088379,-19.140274047851562,12.151102066040039,-7.668929100036621,-8.89345932006836,25.711305618286133,-33.191314697265625,-33.28300094604492,35.03714370727539,-42.74602508544922,8.251285552978516,-36.63859558105469,-25.990306854248047,17.291641235351562,27.16072654724121,51.224063873291016,36.97293472290039,60.82945251464844,37.72188186645508,-20.207481384277344,-40.3149528503418,50.65013122558594,60.51061248779297,20.861238479614258,-43.89185333251953,-60.316951751708984,9.417473793029785,-5.937404155731201,25.026504516601562,-9.488433837890625,61.07571792602539,8.967391014099121,-2.351548910140991,67.98210906982422,-36.944759368896484,-53.35787582397461,38.61655807495117,50.80990219116211,38.36915969848633,5.254673004150391,5.090803623199463,5.439512252807617,59.684043884277344,9.177529335021973,42.28536605834961,15.400389671325684,-39.198707580566406,-46.58334732055664,6.86892557144165,-2.3652184009552,-15.504764556884766,-13.341451644897461,-45.8947868347168,35.001617431640625,2.7729403972625732,-19.09625244140625,6.490206718444824,4.5460028648376465,-22.6008358001709,18.306432723999023,-12.490630149841309,7.864902019500732,-9.113471031188965,-41.556907653808594,9.515898704528809,-1.2955349683761597,-37.28451156616211,1.8355507850646973,-40.18450164794922,-1.976590871810913,-29.3601016998291,-29.524810791015625,-46.89932632446289,6.382749080657959,34.25090789794922,9.621313095092773,-2.974804162979126,51.923397064208984,34.636043548583984,31.728515625,31.709951400756836,19.562593460083008,18.11989402770996,-25.819828033447266,23.784038543701172,-46.27388381958008,-21.764421463012695,-35.36027908325195,10.259627342224121,56.33281326293945,43.22328567504883,-25.711017608642578,43.480411529541016,-43.004276275634766,3.279115676879883,50.07343673706055,-19.6065616607666,53.063385009765625,-45.676185607910156,-26.325801849365234,12.561034202575684,5.382367134094238,-20.767004013061523,-65.61964416503906,-31.911684036254883,9.66848373413086,2.420182704925537,-45.30438995361328,26.05721664428711,26.016050338745117,14.05088996887207,50.8328857421875,5.056391716003418,-11.732324600219727,-5.513484001159668,1.4193980693817139,-46.14605712890625,7.425251483917236,-38.496734619140625,58.119468688964844,28.732236862182617,-7.32682991027832,64.15132904052734,45.19270324707031,-44.82965087890625,-64.87638854980469,54.38942337036133,-42.57237243652344,-24.99195098876953,7.117702484130859,-0.09785936027765274,-0.3177618980407715,16.106271743774414,-1.8293408155441284,30.5434513092041,11.66783332824707,68.90888214111328,-23.616802215576172,-51.694305419921875,-16.937549591064453,-28.28338623046875,-10.758357048034668,48.848236083984375,-18.832658767700195,-47.06563949584961,-21.910938262939453,9.439411163330078,-26.314231872558594,16.85563087463379,11.949448585510254,35.12091064453125,2.7058396339416504,52.77812576293945,59.467140197753906,-44.43889236450195,-29.651369094848633,2.029635429382324,-7.441076278686523,47.864105224609375,36.890525817871094,-28.10316276550293,23.295137405395508,-34.469932556152344,66.3716812133789,34.37329864501953,3.631258964538574,-1.1411529779434204,-66.49891662597656,18.107799530029297,17.815065383911133,-29.203941345214844,-66.63180541992188,52.633419036865234,-21.967809677124023,-22.80750846862793,7.199612140655518,20.422273635864258,15.104586601257324,-28.357173919677734,28.015913009643555,-0.6902164816856384,-46.7036247253418,-17.991939544677734,35.66920471191406,39.90802764892578,32.38315200805664,-45.75547409057617,18.046056747436523,-5.166211128234863,-8.3530855178833,43.880733489990234,43.86491394042969,-34.63744354248047,-16.90780258178711,6.2477498054504395,-42.24769973754883,-17.83624267578125,-43.7354621887207,-29.9686279296875,-31.277084350585938,-52.8908576965332,43.26462936401367,-68.59806823730469,55.84225082397461,-18.086679458618164,-65.75733184814453,-1.1106226444244385,61.644412994384766,-2.788710117340088,62.66619873046875,33.84642791748047,10.352882385253906,26.81053924560547,-2.2375588417053223,-7.740612506866455,46.359474182128906,63.134098052978516,16.59687614440918,41.668975830078125,-19.9569091796875,-0.6166870594024658,-4.79142427444458,9.200050354003906,1.807318091392517,58.13030242919922,-9.503209114074707,33.51305389404297,29.622150421142578,-15.796653747558594,-9.951152801513672,-16.066356658935547,-15.74670696258545,-21.36024284362793,53.7503776550293,-32.208595275878906,0.19402150809764862,43.1987190246582,1.821126937866211,17.960948944091797,4.040785789489746,-15.85946273803711,-11.486942291259766,-5.377610206604004,19.587574005126953,-45.575721740722656,2.72147536277771,4.598904132843018,-20.673120498657227,-45.28323745727539,-38.97977066040039,35.436546325683594,23.72983169555664,59.69688034057617,-39.43781661987305,-21.929454803466797,57.10233688354492,49.894248962402344,10.067744255065918,0.3651449382305145,-49.596561431884766,-20.895715713500977,-5.775561809539795,6.408785343170166,17.129472732543945,40.9147834777832,46.901485443115234,-7.969377517700195,51.4658088684082,-25.152381896972656,-6.660727500915527,-73.49248504638672,33.70049285888672,3.6523666381835938,-25.888748168945312,-34.050132751464844,46.18067932128906,52.10594940185547,1.3684308528900146,35.4697151184082,19.04400062561035,18.724281311035156,46.170310974121094,16.87081527709961,36.574344635009766,-8.351381301879883,21.871337890625,54.94757080078125,-14.618295669555664,28.907888412475586,-1.735754132270813,41.55788803100586,37.0917854309082,-3.9472270011901855,-62.368507385253906,16.47321891784668,26.473163604736328,-46.55317687988281,-27.015674591064453,-56.31493377685547,62.39395523071289,-10.865504264831543,3.3486135005950928,6.274556636810303,24.74370765686035,22.506853103637695,32.058319091796875,-49.13059997558594,44.48883056640625,-39.64168167114258,-0.11248686909675598,-7.740161895751953,-47.56680679321289,67.63066864013672,19.83099365234375,19.931415557861328,-33.49053955078125,-15.425393104553223,63.177757263183594,20.2587890625,33.146183013916016,39.802738189697266,-8.849946975708008,20.046876907348633,-32.44021224975586,-21.56888198852539,16.98822784423828,-32.13948059082031,-22.311649322509766,29.405954360961914,-15.121121406555176,14.932839393615723,-0.038287024945020676,30.882274627685547,-16.0866756439209,24.547147750854492,13.45277214050293,38.65740203857422,18.639007568359375,14.006753921508789,-20.070714950561523,-27.20212745666504,56.0152702331543,47.4288330078125,43.429954528808594,-5.598819255828857,-43.0748176574707,24.014421463012695,-21.637283325195312,-0.42696353793144226,-3.293126106262207,-0.4942874014377594,-11.86002254486084,-16.935806274414062,18.47016716003418,27.321800231933594,-19.548538208007812,-30.719770431518555,-30.779905319213867,1.1358349323272705,37.73854064941406,52.715171813964844,-24.283510208129883,-9.395949363708496,-14.489824295043945,45.746490478515625,26.826738357543945,-25.788211822509766,-24.605798721313477,19.345191955566406,-19.260953903198242,46.406341552734375,43.348690032958984,-41.602943420410156,-41.62861633300781,4.004533767700195,-37.48663330078125,7.795243740081787,7.6915693283081055,18.491069793701172,0.6903040409088135,11.803256034851074,24.968448638916016,28.30788230895996,-61.99747848510742,-35.63932418823242,6.6156463623046875,-4.191197395324707,-14.090046882629395,6.582735538482666,2.6960601806640625,2.4364819526672363,1.6376088857650757,-26.09440803527832,33.78321838378906,-11.64940071105957,-26.19498062133789,-5.335361957550049,41.45802307128906,-45.35335922241211,3.8301072120666504,-18.780731201171875,-10.14924430847168,56.7556037902832,-6.868943214416504,-33.12142562866211,-19.219078063964844,8.890719413757324,39.05982971191406,-16.772911071777344,38.498226165771484,23.754125595092773,-19.539226531982422,-4.965272426605225,-12.581405639648438,33.032161712646484,33.605194091796875,5.540447235107422,11.804348945617676,35.257904052734375,18.471630096435547,-31.737224578857422,-29.11524772644043,-6.315907955169678,-2.1336076259613037,0.15378060936927795,21.40460968017578,37.35143280029297,-65.31318664550781,-7.863984107971191,-48.50252914428711,-13.531371116638184,24.396364212036133,-17.742380142211914,-48.035499572753906,28.53898811340332,-60.7575569152832,40.87942123413086,28.608327865600586,14.438928604125977,35.13739013671875,24.8319149017334,10.65095329284668,25.3638973236084,3.989362955093384,-36.574459075927734,-24.54922866821289,22.201465606689453,-25.912683486938477,16.743385314941406,63.487850189208984,39.233638763427734,5.063851833343506,-50.4539794921875,0.25962701439857483,53.501731872558594,-15.723257064819336,-9.466279983520508,51.92369842529297,38.2705192565918,-31.6106014251709,-34.43435287475586,-19.70029640197754,-25.051956176757812,35.246463775634766,52.58665084838867,48.70675277709961,44.214378356933594,16.223875045776367,-26.53868865966797,-15.05562973022461,-13.582727432250977,15.618494033813477,-33.543514251708984,-11.21603775024414,27.128759384155273,28.120441436767578,46.79684066772461,-8.843464851379395,-2.124387264251709,9.831567764282227,2.591832399368286,-65.76585388183594,-49.54102325439453,-5.264663219451904,-1.1174567937850952,25.830968856811523,57.882484436035156,-41.46662902832031,-39.233253479003906,1.2488006353378296,41.27461624145508,25.879854202270508,63.03872299194336,-35.18833923339844,11.915802955627441,37.65809631347656,-21.37467384338379,40.00075149536133,-4.027997016906738,-1.862746000289917,1.9634544849395752,12.166292190551758,-26.879316329956055,-29.58004379272461,17.583251953125,54.985015869140625,-29.11658477783203,-1.0050445795059204,10.118705749511719,-1.002079963684082,32.375553131103516,9.766084671020508,40.8625602722168,-24.290821075439453,22.429401397705078,-21.994884490966797,2.517941951751709,-27.608797073364258,-2.5716679096221924,25.48282241821289,15.14439582824707,1.6938605308532715,47.566551208496094,25.87299346923828,53.62301254272461,10.488160133361816,-20.86048126220703,-16.47518539428711,-19.607810974121094,37.51088333129883,47.5478515625,38.08662796020508,-37.53498458862305,66.23847198486328,36.70268249511719,-2.1870675086975098,66.06822967529297,-61.71293258666992,4.057363033294678,-31.281587600708008,28.314193725585938,-35.510826110839844,15.442353248596191,13.397686004638672,-14.217790603637695,-10.138941764831543,-10.138437271118164,-29.474994659423828,-23.38836097717285,-22.428852081298828,20.428119659423828,14.3471040725708,2.4517133235931396,-4.000007152557373,67.49533081054688,18.494525909423828,-19.824928283691406,45.07255554199219,-37.34852600097656,26.41359519958496,42.41001510620117,-32.231422424316406,-37.6011962890625,-55.67197799682617,44.859127044677734,-24.484346389770508,-18.243200302124023,-7.963066577911377,43.56391143798828,-48.72945022583008,44.87097930908203,-5.227632999420166,42.94659423828125,-5.233296871185303,1.2726690769195557,4.815569877624512,27.498323440551758,-40.83554458618164,-17.810813903808594,-1.8483067750930786,-61.866661071777344,-29.14510726928711,-3.308478355407715,-12.565267562866211,59.78120040893555,-6.451184272766113,-26.37059783935547,27.72722053527832,3.9031944274902344,-5.179831504821777,51.92264938354492,52.54619216918945,-6.5169501304626465,-12.938315391540527,0.5054391622543335,-14.323118209838867,-55.16049575805664,38.90556716918945,47.4554443359375,20.973285675048828,22.90574836730957,8.797280311584473,-53.66675567626953,9.130172729492188,19.791704177856445,51.93450164794922,-66.2705078125,8.458084106445312,14.575419425964355,3.4149093627929688,-58.76515579223633,-38.984683990478516,-17.745609283447266,1.4551355838775635,14.329082489013672,20.974430084228516,10.506909370422363,-20.971561431884766,19.23234748840332,-22.61566925048828,-35.52595901489258,47.022769927978516,-5.552509307861328,53.168094635009766,-46.81853103637695,28.2382869720459,20.143014907836914,20.1788272857666,-6.683711051940918,-67.86515045166016,12.593005180358887,18.39687728881836,34.69904708862305,35.64937210083008,2.495387077331543,-12.637029647827148,3.2272560596466064,11.20581340789795,52.287776947021484,-4.42498254776001,-45.29270553588867,-11.653964042663574,-10.64533805847168,16.49256706237793,24.924734115600586,35.48651123046875,3.414520263671875,-5.143192768096924,-8.047372817993164,35.08523941040039,-18.972444534301758,-0.8070757389068604,52.9297981262207,-14.99977970123291,-16.567886352539062,38.331905364990234,-4.368896007537842,18.34316062927246,-24.86515235900879,11.738972663879395,-17.391551971435547,-67.49797058105469,-60.31942367553711,2.401153564453125,6.629170894622803,-26.591264724731445,54.36372375488281,25.551284790039062,-35.01595687866211,-7.266080379486084,-19.882234573364258,35.280418395996094,-4.943332195281982,24.461429595947266,23.681642532348633,41.503536224365234,-5.08988618850708,25.136240005493164,0.09006978571414948,28.820749282836914,-40.41771697998047,0.7871853709220886,54.634178161621094,-15.508770942687988,11.82276725769043,-12.516885757446289,-13.86702823638916,-47.30167770385742,36.48397445678711,-37.78933334350586,49.54800033569336,2.241591691970825,-7.489081382751465,35.32276153564453,-8.367969512939453,-24.84702491760254,30.94771957397461,26.60562515258789,-24.73060417175293,-28.15807342529297,14.577892303466797,-10.055496215820312,-53.79286575317383,15.294137001037598,-66.52995300292969,7.8742265701293945,-25.087844848632812,-32.188751220703125,60.92692184448242,-8.927745819091797,-35.802738189697266,55.66311264038086,36.19846725463867,16.038511276245117,50.833187103271484,-3.3713290691375732,-11.544264793395996,-22.00737190246582,2.8882532119750977,1.6782087087631226,-5.989359378814697,-51.97700119018555,10.167743682861328,-26.920597076416016,22.917490005493164,52.84712600708008,-32.36500930786133,6.686699390411377,14.48640251159668,28.192806243896484,-31.944564819335938,-56.83840560913086,38.464927673339844,36.09416580200195,5.2532196044921875,54.29724884033203,-36.512901306152344,-36.395233154296875,34.37830352783203,30.036828994750977,-48.915733337402344,16.661251068115234,-38.88970947265625,24.50363540649414,-22.263565063476562,59.036041259765625,-43.65397644042969,-30.665283203125,26.061481475830078,-5.242896556854248,0.4666438698768616,-38.093421936035156,-8.120111465454102,3.6833438873291016,14.588541984558105,-45.61833572387695,-17.035343170166016,39.44620132446289,25.521852493286133,33.80292892456055,-13.102355003356934,-66.46331024169922,2.224689483642578,-10.516104698181152,-40.601104736328125,-29.066675186157227,-31.72662353515625,58.262149810791016,-7.652154445648193,-45.10361099243164,30.26363182067871,19.407886505126953,-35.39665603637695,41.60050964355469,41.22620391845703,58.261192321777344,4.502646446228027,-26.222028732299805,-26.08694076538086,51.190834045410156,23.824935913085938,-3.84363055229187,-10.226188659667969,33.75912094116211,35.482025146484375,-5.458482265472412,33.70933151245117,-28.11262321472168,-32.72283172607422,23.40645408630371,15.481428146362305,-11.95362377166748,1.7230219841003418,-22.915653228759766,61.73760986328125,8.285265922546387,24.404266357421875,-15.547464370727539,-1.862166166305542,60.047142028808594,-10.92230224609375,6.0671563148498535,16.51714515686035,-3.4659690856933594,18.13699722290039,71.5932388305664,-11.719522476196289,-0.2606979012489319,4.763442039489746,41.2943115234375,41.12083435058594,-0.6888445615768433,21.751724243164062,-36.19697952270508,27.471691131591797,27.981529235839844,-25.1748104095459,-13.636637687683105,-58.45576095581055,56.78013229370117,15.216509819030762,6.583317279815674,45.45323944091797,41.57856750488281,-0.38069844245910645,47.37757110595703,-4.434664249420166,-4.460730075836182,-25.921306610107422,-34.7297477722168,-9.289053916931152,1.9212312698364258,26.532270431518555,31.961172103881836,3.4278433322906494,7.200192451477051,-3.49877667427063,25.81914710998535,-11.7166748046875,12.288997650146484,3.1476807594299316,-32.70680618286133,60.99674987792969,-8.018919944763184,19.31243324279785,-22.362945556640625,54.8800048828125,7.379660129547119,19.140026092529297,-29.263362884521484,44.01467514038086,33.03715133666992,-8.83312702178955,-9.617253303527832,-2.5536227226257324,-20.019994735717773,-20.36648178100586,-29.371084213256836,66.65739440917969,-15.398971557617188,24.524028778076172,37.7457275390625,56.16078567504883,-3.5443921089172363,3.057237148284912,17.705108642578125,24.081796646118164,11.273078918457031,32.96413803100586,-40.57499694824219,26.09787368774414,6.647030353546143,-0.8376284837722778,62.059574127197266,-21.78063201904297,-5.62985372543335,-34.091392517089844,34.99433135986328,24.67522621154785,-32.45243453979492,22.96832275390625,40.03505325317383,-6.61367654800415,-26.078901290893555,43.33554458618164,42.058902740478516,5.18266487121582,19.710084915161133,-25.235628128051758,10.416585922241211,-48.258060455322266,69.9969711303711,38.45463180541992,15.625346183776855,19.484472274780273,-45.082420349121094,5.065666198730469,-19.27703285217285,-12.787633895874023,-30.51466178894043,-37.32777786254883,8.723963737487793,-27.6232852935791,-48.885902404785156,-6.629345417022705,42.838863372802734,46.94251251220703,34.20252227783203,51.27608871459961,10.394574165344238,30.23668670654297,5.593198299407959,-36.27790069580078,44.679325103759766,-19.05365753173828,35.192256927490234,-35.895416259765625,-17.942432403564453,-34.789215087890625,24.402873992919922,-0.46918535232543945,-21.414958953857422,-25.502408981323242,-35.80705642700195,32.06089782714844,-9.07571029663086,-48.56591796875,-72.336669921875,38.50597381591797,-16.41141128540039,52.53669357299805,-22.118745803833008,39.45671844482422,24.51972198486328,60.748260498046875,-3.9195735454559326,37.5352897644043,-17.676036834716797,17.144018173217773,29.017091751098633,32.1809196472168,-18.045059204101562,43.73976516723633,50.07902526855469,35.07463073730469,20.836198806762695,5.811081886291504,-11.556174278259277,-15.269619941711426,-15.839738845825195,-18.87703514099121,62.814815521240234,-36.939754486083984,15.060129165649414,-15.50126838684082,-9.065245628356934,-35.663917541503906,20.80360221862793,23.467451095581055,24.591880798339844,28.185991287231445,-44.69646453857422,-45.79254150390625,13.732510566711426,-49.87370300292969,40.01963806152344,-40.985435485839844,-6.715269088745117,61.86674118041992,-15.661831855773926,-41.669273376464844,19.39761734008789,-35.16762161254883,26.782623291015625,-26.886417388916016,11.074088096618652,6.631209850311279,-30.042091369628906,59.46522903442383,-6.292338848114014,8.505256652832031,-3.37858510017395,-12.792961120605469,40.15531539916992,30.18462562561035,0.4984181225299835,1.3685730695724487,-36.10020446777344,54.39335632324219,-1.0015579462051392,24.580110549926758,-5.615818977355957,-25.320253372192383,-27.11110496520996,-14.0029878616333,-25.8439998626709,23.012937545776367,-19.407333374023438,-64.56782531738281,58.39695358276367,20.498079299926758,62.710079193115234,-22.28681182861328,52.306053161621094,-27.127729415893555,5.023734092712402,-35.84526443481445,0.30064207315444946,60.357933044433594,-35.628108978271484,40.15804672241211,35.37957763671875,34.475242614746094,-11.795014381408691,-24.657135009765625,44.93205261230469,4.1689910888671875,-30.715646743774414,-21.9042911529541,17.91220474243164,-45.573795318603516,-10.900472640991211,-51.29422378540039,25.845727920532227,-21.15821647644043,-5.8240532875061035,-24.716796875,22.682031631469727,27.508804321289062,23.79945182800293,-11.579004287719727,41.71417236328125,15.41366958618164,35.623050689697266,-5.592696666717529,6.920502185821533,-32.22113037109375,-18.469497680664062,19.079631805419922,19.516864776611328,22.929168701171875,23.051801681518555,17.662796020507812,44.223289489746094,44.45307922363281,23.345836639404297,-44.84228515625,12.410304069519043,35.196048736572266,12.87549114227295,-38.5327033996582,51.74979782104492,21.477689743041992,-0.7003507018089294,-14.867401123046875,4.464920520782471,37.6492805480957,52.494083404541016,47.0523567199707,-38.8609733581543,17.092761993408203,-40.901363372802734,-62.99354934692383,-56.622161865234375,-0.99504154920578,-25.74053955078125,34.07484817504883,-64.46973419189453,-16.742036819458008,-23.29149627685547,-31.103893280029297,-14.435091018676758,-35.60164260864258,-22.8895263671875,21.3050479888916,15.67883586883545,9.40074634552002,-3.6912739276885986,2.372560739517212,17.94236946105957,28.64264678955078,-16.935169219970703,8.277490615844727,-31.324365615844727,-31.363950729370117,21.071508407592773,66.16158294677734,1.7520029544830322,47.2357177734375,-23.454164505004883,-35.91460037231445,23.75629425048828,-19.18545150756836,-3.096534013748169,33.35868453979492,-13.051332473754883,48.01167297363281,11.550668716430664,16.930011749267578,-1.3006858825683594,-0.4890739917755127,-19.683748245239258,51.9320068359375,36.24216079711914,0.6216874122619629,-4.0681257247924805,-30.928482055664062,39.81895065307617,-23.850549697875977,8.556389808654785,36.54197311401367,27.292299270629883,-32.69580841064453,-2.0906927585601807,-30.447574615478516,-16.08717918395996,-34.9271125793457,-22.899839401245117,-60.30805587768555,-10.863758087158203,9.173208236694336,-38.522132873535156,-40.370121002197266,-56.72615051269531,-15.640454292297363,9.135599136352539,46.79964065551758,-14.531486511230469,55.820701599121094,19.11772918701172,34.71592330932617,23.44056510925293,71.23755645751953,13.336109161376953,5.463250637054443,41.424163818359375,-16.80592918395996,-21.658761978149414,-63.42005157470703,-13.821972846984863,1.291974425315857,19.296106338500977,70.56549072265625,-40.554542541503906,-22.929636001586914,-22.199298858642578,-4.651952743530273,6.563724517822266,10.384306907653809,40.3608512878418,-15.685276985168457,45.74204635620117,21.204418182373047,28.318815231323242,-26.844043731689453,6.868103504180908,-15.839601516723633,-4.174630165100098,-15.400801658630371,-10.11225414276123,-14.24867057800293,22.60776138305664,-13.14480972290039,47.59585189819336,18.750019073486328,-6.551868438720703,16.381969451904297,20.040191650390625,40.85706329345703,-9.565763473510742,40.74904251098633,-22.341035842895508,37.65863800048828,29.193925857543945,-17.52457046508789,-3.3151602745056152,17.309782028198242,0.30614349246025085,45.23310470581055,8.848379135131836,23.342912673950195,32.96404266357422,16.792484283447266,-33.59880065917969,-35.21140670776367,-13.95310115814209,16.282678604125977,61.1046028137207,-50.83717346191406,12.913284301757812,34.27006530761719,-9.583606719970703,-18.42799949645996,-58.60893249511719,-25.891559600830078,36.40907287597656,42.63829040527344,67.8374252319336,-7.974848747253418,-10.483635902404785,-13.841605186462402,-48.66263961791992,-49.459041595458984,46.635276794433594,48.511775970458984,-32.89584732055664,1.3415188789367676,55.80879592895508,-31.356708526611328,-55.8794059753418,4.049378395080566,-18.704917907714844,53.013458251953125,19.344032287597656,-12.845874786376953,7.608165740966797,18.45473289489746,27.425683975219727,30.845125198364258,16.572566986083984,15.338763236999512,37.9987907409668,43.033756256103516,-26.336910247802734,20.01011085510254,34.87409973144531,2.6775524616241455,-38.32754135131836,-40.7539176940918,0.6981276869773865,-30.050058364868164,-1.1863561868667603,42.07761764526367,-13.134476661682129,9.21379566192627,26.567901611328125,65.53118133544922,3.5080654621124268,-2.3236241340637207,12.30532169342041,12.673874855041504,41.258872985839844,-2.538677215576172,2.7641091346740723,-22.33692169189453,5.809016227722168,-19.192485809326172,3.2314603328704834,-22.859468460083008,-12.958844184875488,-53.31059265136719,-15.698070526123047,21.734086990356445,-55.69818115234375,-47.789039611816406,16.609556198120117,26.346315383911133,16.847583770751953,-18.04295539855957,40.54457473754883,59.87340545654297,24.59589385986328,63.81242370605469,21.896047592163086,-6.758851051330566,-34.20570755004883,39.62715148925781,25.499340057373047,-4.838229656219482,60.29991149902344,31.716854095458984,18.159381866455078,-27.22698974609375,-28.9602108001709,10.6283540725708,20.580703735351562,45.63557434082031,-11.779311180114746,-4.592136859893799,52.27678680419922,-11.067364692687988,-0.3360021710395813,29.196887969970703,34.38008499145508,-19.680496215820312,6.27739953994751,27.608457565307617,-6.839226245880127,-7.877584457397461,37.26511764526367,-2.5821354389190674,-12.009538650512695,-26.12516212463379,35.41537857055664,-6.541669845581055,-17.702863693237305,1.2028743028640747,-17.49074363708496,-3.6761648654937744,-31.25957679748535,-5.0477519035339355,-48.91805648803711,34.468292236328125,-14.725894927978516,60.834510803222656,-16.95452308654785,-43.4168701171875,1.5136853456497192,14.644027709960938,32.56689453125,-33.912776947021484,-40.66485595703125,15.549445152282715,32.879512786865234,13.67771053314209,62.58866500854492,-41.28641128540039,-37.680171966552734,-20.120847702026367,-28.398265838623047,60.18010330200195,4.830813884735107,1.7714101076126099,-19.225744247436523,20.138456344604492,-58.50594711303711,38.37118911743164,3.257920026779175,-4.812527656555176,12.810099601745605,-43.93827819824219,52.982627868652344,-30.322355270385742,39.518394470214844,-42.564022064208984,20.075763702392578,21.641294479370117,7.531817436218262,3.0004758834838867,-18.33799171447754,54.75574493408203,-66.20419311523438,8.176471710205078,41.854774475097656,44.62335205078125,34.31261444091797,-4.7104010581970215,39.31475830078125,-16.447599411010742,-15.238249778747559,1.5551671981811523,-13.852609634399414,62.3482666015625,58.91569519042969,16.208629608154297,16.489330291748047,15.612637519836426,36.228885650634766,10.974238395690918,9.36407470703125,-20.748517990112305,50.21702194213867,6.318400859832764,-42.088741302490234,2.346599578857422,13.02198314666748,-7.0712809562683105,25.355329513549805,-64.94561004638672,13.119680404663086,39.461280822753906,-37.72541046142578,26.224502563476562,-26.787717819213867,13.866671562194824,26.381881713867188,17.581016540527344,22.90898323059082,8.508090019226074,45.700164794921875,29.929115295410156,26.035694122314453,1.0066401958465576,-33.58998107910156,21.626495361328125,-10.509345054626465,30.860288619995117,30.85992431640625,45.51883316040039,-32.2380485534668,-32.43220520019531,22.260929107666016,-31.04611587524414,-0.0004420698678586632,15.433177947998047,28.202823638916016,12.198385238647461,-38.8277473449707,-47.790809631347656,10.31000804901123,61.7121467590332,11.662052154541016,-27.56279945373535,10.19336986541748,41.09272003173828,-23.204137802124023,-11.527582168579102,-0.6448034644126892,41.957576751708984,-9.829185485839844,-42.002079010009766,-30.23238754272461,25.412551879882812,20.4063777923584,-3.6117618083953857,39.735633850097656,59.89937973022461,1.2064894437789917,25.604541778564453,50.781978607177734,2.6242728233337402,53.894039154052734,18.771648406982422,61.4205436706543,-70.46792602539062,15.593929290771484,14.976116180419922,-4.482407093048096,17.928747177124023,14.962180137634277,-18.993043899536133,-3.9796063899993896,29.912485122680664,-28.604408264160156,41.48014450073242,11.485661506652832,32.26555252075195,-40.508888244628906,55.924190521240234,-28.480539321899414,57.12016677856445,11.627490043640137,-13.009812355041504,3.6318085193634033,-2.506619453430176,-3.559398889541626,4.009612083435059,19.309539794921875,9.289447784423828,30.45151710510254,54.91615676879883,-73.48564147949219,1.616269588470459,-19.348031997680664,8.519651412963867,29.795795440673828,41.133052825927734,34.0799674987793,13.263063430786133,14.339713096618652,-59.695831298828125,6.185778617858887,-14.74056625366211,-13.778003692626953,-33.39631271362305,18.853673934936523,27.908615112304688,-12.046893119812012,52.086952209472656,59.36882400512695,67.83560943603516,-4.260537147521973,69.30723571777344,47.90959548950195,-32.53642272949219,11.478261947631836,3.562814474105835,40.026798248291016,-42.20491409301758,-5.809708595275879,30.617151260375977,22.658409118652344,52.98090744018555,35.980506896972656,30.252643585205078,30.215547561645508,39.8304328918457,-36.93449783325195,-9.190939903259277,-12.755940437316895,-30.967409133911133,27.951608657836914,19.563966751098633,67.99732208251953,66.04389953613281,66.16159057617188,69.44965362548828,-17.678815841674805,-17.10929298400879,24.267248153686523,2.273897171020508,9.054081916809082,32.86476135253906,-43.792213439941406,-14.434093475341797,-24.807403564453125,11.405102729797363,-38.52589797973633,-0.2032453864812851,37.48286819458008,-11.53287410736084,-17.31785011291504,6.4315185546875,-28.842008590698242,66.12909698486328,13.719868659973145,28.87447738647461,-63.55263900756836,-5.664984703063965,19.062599182128906,25.02553939819336,-13.182592391967773,-8.347297668457031,23.0928955078125,7.3886518478393555,-37.260616302490234,19.320859909057617,20.231172561645508,33.827857971191406,-17.26950454711914,3.166548252105713,-56.99100112915039,-60.59819030761719,-18.914100646972656,-18.516822814941406,-4.768972873687744,-36.561702728271484,-32.53837203979492,33.847633361816406,-24.617027282714844,12.966724395751953,-45.470760345458984,15.300039291381836,-12.33135986328125,-27.564659118652344,-34.71614074707031,37.0522575378418,-35.193748474121094,53.42068099975586,5.555783271789551,14.818224906921387,-47.799766540527344,-21.00196647644043,-6.522429943084717,24.533855438232422,41.42751693725586,39.11613082885742,26.459476470947266,23.03173828125,-15.531288146972656,32.29169464111328,-28.318557739257812,-52.22238540649414,30.486745834350586,67.9696273803711,-21.56304168701172,63.736122131347656,-9.1483736038208,-4.178289413452148,51.645137786865234,-33.090904235839844,-67.83014678955078,52.40814971923828,-42.77012252807617,67.59883117675781,-35.84664535522461,18.7329044342041,34.681007385253906,8.684894561767578,3.3431267738342285,30.899585723876953,6.1514892578125,-14.532069206237793,-21.912200927734375,71.11769104003906,4.870913982391357,22.388202667236328,0.7316029071807861,-38.97078323364258,-55.92393112182617,16.223371505737305,-26.286102294921875,-10.802360534667969,-33.32989501953125,-19.329055786132812,67.83527374267578,6.027582168579102,37.90904235839844,66.20848083496094,-68.08270263671875,7.195799827575684,-43.53361129760742,-10.09791374206543,-13.35922908782959,-49.43016815185547,61.70157241821289,-13.791886329650879,62.42523956298828,3.9473156929016113,29.239343643188477,51.225440979003906,-70.48395538330078,-37.93563461303711,-17.27368927001953,2.217203378677368,54.36781692504883,-42.28608703613281,-21.659868240356445,-16.10558319091797,28.869640350341797,-1.129893183708191,-46.897518157958984,4.287425518035889,30.232105255126953,12.343255043029785,23.325180053710938,24.63075828552246,-6.261188507080078,60.753971099853516,-40.15638732910156,11.881082534790039,9.378692626953125,11.805327415466309,6.9479851722717285,24.1893310546875,11.295845985412598,-3.169830322265625,68.34996795654297,-8.666911125183105,1.913313627243042,14.631742477416992,-30.444067001342773,-44.14377212524414,-51.339473724365234,33.005035400390625,-0.7487847208976746,53.999698638916016,-50.10258483886719,-24.169347763061523,7.706958770751953,0.20871926844120026,-36.79228591918945,34.96117401123047,16.674346923828125,-20.495609283447266,26.17275619506836,20.456993103027344,50.67179870605469,-18.38801383972168,30.611413955688477,0.21943241357803345,37.836341857910156,-13.982471466064453,-22.08375358581543,-50.86070251464844,28.914567947387695,29.754322052001953,3.4369142055511475,-16.01312255859375,-0.6242577433586121,12.64684009552002,26.741310119628906,-6.878308296203613,17.597135543823242,12.956368446350098,-1.8441424369812012,-23.27533531188965,46.7257080078125,20.175310134887695,-21.157299041748047,55.22245407104492,42.70698165893555,-7.025545120239258,-42.29945373535156,8.095848083496094,26.152610778808594,-39.968406677246094,72.04225158691406,-6.645672798156738,-50.871028900146484,-47.38396072387695,45.67042922973633,-28.861536026000977,24.254108428955078,-33.282196044921875,-51.13114929199219,14.493524551391602,52.33335876464844,-36.5424919128418,16.06033706665039,-12.76832103729248,-13.20722484588623,-49.15580368041992,-0.8971755504608154,-46.5260009765625,-1.6935336589813232,-64.4354248046875,-3.1744682788848877,-28.88638687133789,35.9702262878418,43.20111846923828,-15.326125144958496,-10.288899421691895,4.159897327423096,12.416766166687012,45.418174743652344,-14.46215534210205,40.16495132446289,-7.801800727844238,-8.420964241027832,32.259117126464844,-65.05355834960938,10.043282508850098,16.691165924072266,57.18803024291992,22.157859802246094,38.26494216918945,-30.550857543945312,44.27439880371094,-33.17182540893555,20.592416763305664,-5.244507312774658,-13.028946876525879,45.18693161010742,-54.97997283935547,43.82350540161133,-15.512248992919922,-44.285545349121094,28.198993682861328,-62.85940170288086,26.894054412841797,-2.6851377487182617,48.512779235839844,-30.881549835205078,-33.58794021606445,27.59629249572754,27.522920608520508,-28.11164093017578,28.922874450683594,-13.879475593566895,23.02726173400879,25.384384155273438,5.525671482086182,4.498939514160156,-2.2430827617645264,-30.983604431152344,20.931636810302734,12.790831565856934,-57.36669158935547,12.894274711608887,-15.25213623046875,-49.88314437866211,-53.731109619140625,9.874520301818848,-0.9435105919837952,-2.8094980716705322,-9.277270317077637,48.847408294677734,-25.83905601501465,-68.01020050048828,-22.16459083557129,-32.33025360107422,-29.40176773071289,52.96710968017578,-37.45216751098633,-8.016752243041992,-50.098876953125,64.87110137939453,-16.01173973083496,23.023277282714844,0.8703383207321167,-23.360652923583984,-44.18363952636719,22.871994018554688,21.698705673217773,-26.68766975402832,10.268631935119629,-13.708436012268066,-46.252933502197266,32.815589904785156,9.68769359588623,11.892167091369629,57.05113983154297,34.97288513183594,19.06415367126465,25.063270568847656,-1.0231276750564575,-24.364646911621094,-9.66013240814209,-63.88142776489258,12.645042419433594,-19.2243595123291,-35.70830154418945,-33.15353775024414,-54.12733840942383,-27.639102935791016,62.09516906738281,-6.196371555328369,12.042407989501953,-21.708908081054688,-24.065589904785156,35.73872756958008,41.86870193481445,32.315330505371094,1.6452627182006836,-11.570296287536621,-0.5922611951828003,27.563547134399414,-52.37057113647461,42.756858825683594,34.572792053222656,-36.985595703125,-36.893333435058594,13.773504257202148,-35.136619567871094,-10.891819953918457,32.11239242553711,50.48103713989258,-51.775272369384766,-6.144632816314697,42.928199768066406,-11.40247631072998,67.82102966308594,24.269668579101562,62.73570251464844,37.86308288574219,-44.4800910949707,14.237321853637695,-14.048797607421875,14.265506744384766,-14.162317276000977,47.426536560058594,-17.698150634765625,28.198625564575195,13.944192886352539,19.595745086669922,-19.366310119628906,44.22066879272461,-53.80988693237305,-27.724271774291992,35.950870513916016,25.835914611816406,-0.2448328584432602,-27.00714683532715,33.553367614746094,26.886856079101562,56.2147216796875,-38.18268585205078,-25.824342727661133,33.3299560546875,39.56403350830078,27.410324096679688,0.05339044705033302,37.03639221191406,48.72494125366211,-20.32928466796875,3.2327117919921875,16.380802154541016,16.2425479888916,2.3856091499328613,11.97316837310791,-49.21891403198242,-68.88908386230469,-12.449459075927734,-49.34063720703125,-20.513566970825195,-46.450714111328125,13.215401649475098,-8.450020790100098,-53.692378997802734,-48.520328521728516,-51.35671615600586,-43.96998977661133,16.803251266479492,-20.734560012817383,-15.12950325012207,38.047176361083984,43.770843505859375,-26.20074462890625,-21.558969497680664,26.337190628051758,-45.697845458984375,45.84518051147461,-19.48516845703125,-59.96400451660156,-28.484249114990234,-9.806745529174805,29.221420288085938,8.133628845214844,39.33755111694336,52.96299743652344,-53.76494216918945,-38.32878112792969,-4.970254421234131,34.405391693115234,16.11632537841797,-49.064453125,-50.446739196777344,-3.5197865962982178,-11.381292343139648,-6.545261383056641,-6.336562633514404,72.58016204833984,9.758974075317383,-55.739479064941406,4.948624610900879,-11.841601371765137,27.28915023803711,-0.2386544644832611,-19.54732322692871,-15.384140014648438,28.382429122924805,3.735299587249756,0.9426206350326538,-35.27378845214844,-8.868473052978516,13.043195724487305,32.31687927246094,-7.383454322814941,-30.271703720092773,-4.254347801208496,-1.8261412382125854,-10.973000526428223,15.022220611572266,-22.81839370727539,-38.28324508666992,50.98270797729492,29.193119049072266,-7.508111476898193,-34.62068557739258,-65.83892059326172,65.18958282470703,67.72225189208984,6.533802032470703,54.90568161010742,15.51508617401123,-9.337486267089844,-43.15964126586914,-36.562049865722656,53.70719909667969,66.46863555908203,8.803969383239746,43.97621536254883,-6.4718756675720215,4.983475208282471,-30.39150619506836,15.448712348937988,-31.774490356445312,-6.455058574676514,10.799551010131836,23.055864334106445,-38.6727180480957,-47.2986946105957,-0.2981319725513458,20.95979881286621,-4.045751094818115,30.392213821411133,15.136458396911621,-20.66802978515625,17.126794815063477,-42.75591278076172,-45.109718322753906,55.929893493652344,1.134955644607544,2.743774890899658,-13.32866096496582,20.231447219848633,-30.522554397583008,-0.43341049551963806,-27.567476272583008,-39.58353042602539,51.9841194152832,16.939044952392578,-25.62620735168457,-23.940492630004883,23.242090225219727,8.75123405456543,24.446575164794922,-15.735422134399414,20.03706932067871,24.987314224243164,61.55735397338867,11.954044342041016,5.02331018447876,17.298154830932617,-14.890578269958496,-36.770843505859375,-0.9245827198028564,-9.399731636047363,4.4921555519104,55.42609786987305,59.674503326416016,-11.561504364013672,27.38609504699707,40.98249816894531,16.491104125976562,6.013885498046875,-50.9694709777832,-6.4498162269592285,-45.332950592041016,-36.928443908691406,15.035537719726562,29.999914169311523,-11.163233757019043,-27.60733985900879,14.52650260925293,-14.860132217407227,-4.024796485900879,34.90959548950195,8.76085090637207,45.87620544433594,46.874229431152344,1.1470783948898315,15.634964942932129,-14.336581230163574,17.43968963623047,23.812606811523438,44.66619110107422,35.82860565185547,-39.974266052246094,-17.743167877197266,18.01424789428711,11.536243438720703,40.28838348388672,-8.738155364990234,52.79420471191406,32.014305114746094,-27.432437896728516,-54.72355270385742,-28.74453353881836,37.70632553100586,53.627376556396484,-50.21903991699219,-16.141098022460938,-6.650324821472168,-25.979753494262695,2.2241275310516357,-19.34065055847168,-17.16600227355957,-3.6695902347564697,-15.528997421264648,51.903053283691406,10.595625877380371,21.10593032836914,-52.12336730957031,60.50138854980469,-48.82715606689453,28.26521873474121,-19.3503475189209,-12.90954875946045,39.97568893432617,51.85953903198242,17.882305145263672,56.08951950073242,30.816986083984375,6.2494988441467285,34.185089111328125,27.727222442626953,-37.731178283691406,62.98727035522461,6.373995780944824,-8.507353782653809,-33.295230865478516,2.6742475032806396,43.892635345458984,-20.440710067749023,26.184978485107422,32.23069763183594,47.127071380615234,-51.384403228759766,41.61235046386719,-40.805538177490234,-38.0177001953125,40.9993782043457,-8.813067436218262,27.926895141601562,-2.5279459953308105,11.4356050491333,43.0954475402832,62.65428924560547,23.629196166992188,34.53715896606445,-11.016890525817871,9.811271667480469,49.08467483520508,65.3213882446289,-55.05097198486328,32.28445816040039,-48.240074157714844,42.1706428527832,5.112411975860596,67.24986267089844,13.749197959899902,2.559478282928467,-3.549614429473877,18.10153579711914,28.26067543029785,23.163602828979492,-18.929786682128906,-19.894866943359375,-53.313655853271484,-16.094453811645508,36.15776062011719,27.211719512939453,-22.21980094909668,-22.12705421447754,13.327296257019043,12.713844299316406,-18.962392807006836,-34.49685287475586,21.608654022216797,7.998288154602051,1.8311221599578857,-33.05975341796875,41.25341796875,-66.65215301513672,-51.05409240722656,-14.619172096252441,-7.085389137268066,56.26393127441406,12.62173080444336,-56.59280776977539,-64.49717712402344,-30.02692413330078,47.03299331665039,-25.736833572387695,5.76131534576416,-13.440314292907715,1.4477713108062744,23.486051559448242,23.94035530090332,18.816308975219727,62.7966194152832,39.12483215332031,-10.744766235351562,8.977752685546875,-32.30342102050781,-31.868694305419922,19.579111099243164,2.3890981674194336,4.103058815002441,30.577733993530273,37.31316375732422,-33.81834030151367,36.414432525634766,38.33518981933594,-48.4546012878418,15.868141174316406,33.20513153076172,-3.828467845916748,-67.0121841430664,7.479100227355957,27.971891403198242,40.27272033691406,-31.65997314453125,-38.43406677246094,-7.766141414642334,-22.63137435913086,30.994182586669922,-0.8179570436477661,18.535715103149414,-6.164924621582031,-18.8577823638916,48.199462890625,-15.990203857421875,60.08535385131836,20.05295753479004,-55.676971435546875,-38.97624588012695,-45.38214874267578,-17.3944091796875,-30.553333282470703,-1.8419384956359863,32.15999984741211,-17.295385360717773,-18.441896438598633,-34.817039489746094,-14.802031517028809,34.7729606628418,-46.49763488769531,72.44693756103516,-5.9046630859375,-14.918328285217285,-19.57024383544922,52.2265739440918,-46.80081558227539,-17.739580154418945,-52.3100471496582,50.9025993347168,-40.4543342590332,-20.74222183227539,-43.312255859375,-31.877397537231445,-22.942399978637695,27.207271575927734,-42.96503448486328,-22.34190559387207,-57.659149169921875,28.34082794189453,-6.024343967437744,19.634387969970703,18.36813735961914,-49.59715270996094,9.97032642364502,-20.835256576538086,-44.19048309326172,-19.71969985961914,-56.965354919433594,25.087644577026367,-15.008176803588867,27.5238094329834,-15.555534362792969,25.497529983520508,33.81867599487305,22.218610763549805,38.738346099853516,17.649017333984375,41.835086822509766,42.736454010009766,42.82033157348633,-19.337661743164062,44.15950393676758,-44.9119758605957,13.651969909667969,25.030332565307617,62.655765533447266,30.258569717407227,21.97112464904785,-8.656594276428223,-29.605098724365234,-18.771503448486328,37.60908126831055,62.839202880859375,-63.55937194824219,-6.850650787353516,-26.581663131713867,50.342288970947266,-31.936180114746094,-4.174635887145996,35.24652862548828,-23.025394439697266,8.999680519104004,43.37200164794922,-10.03388786315918,-40.03876876831055,5.831487655639648,-56.66532897949219,56.608333587646484,20.851638793945312,-31.00467872619629,-6.878983497619629,34.52668762207031,9.318366050720215,60.54176712036133,-37.7796745300293,59.527252197265625,-1.1087504625320435,31.72210693359375,-10.132697105407715,10.53667163848877,48.22134780883789,-36.3769645690918,-4.932171821594238,-16.570634841918945,-4.302580833435059,49.60544204711914,-60.45770263671875,-53.70989227294922,36.61582946777344,-28.340362548828125,53.09809112548828,0.06834718585014343,-42.628326416015625,-34.48054504394531,-23.13214111328125,-1.1348108053207397,42.43211364746094,-4.91122579574585,40.017826080322266,-11.387077331542969,43.4222526550293,-13.30710506439209,31.653711318969727,12.617402076721191,-54.9532470703125,23.838621139526367,10.487272262573242,47.165184020996094,-29.421388626098633,52.91437530517578,50.90917205810547,-15.080196380615234,-43.85774612426758,-0.669614851474762,-16.537675857543945,3.2273032665252686,-1.860792636871338,55.40592956542969,-22.4980525970459,5.154460430145264,-19.812646865844727,6.199417591094971,-58.07411575317383,6.542464256286621,47.56277084350586,-34.736000061035156,9.740242004394531,2.1749720573425293,-61.867557525634766,-35.90981674194336,14.999814987182617,6.592126369476318,32.32023620605469,-43.14512252807617,0.9471805095672607,-3.6966028213500977,53.7637939453125,-4.476126194000244,27.93976593017578,2.457965135574341,6.890226364135742,2.109616279602051,2.6153481006622314,32.24459457397461,30.966039657592773,30.678590774536133,45.7549934387207,-57.13442611694336,28.8541202545166,71.46366882324219,26.236513137817383,-27.600086212158203,69.30335235595703,-44.51341247558594,56.254459381103516,14.24323844909668,63.366966247558594,71.643310546875,67.78971099853516,25.217418670654297,-12.391158103942871,-9.840194702148438,-24.294940948486328,-5.461965084075928,3.536911725997925,-5.350246906280518,49.41435623168945,52.78520202636719,-9.517666816711426,-25.348464965820312,67.75691986083984,-42.827789306640625,29.337051391601562,-37.10683822631836,53.138118743896484,12.7523832321167,22.068439483642578,1.377811074256897,-14.077385902404785,25.194828033447266,-12.337153434753418,-13.733537673950195,38.58405685424805,36.16353988647461,15.897395133972168,-4.947040557861328,2.017995595932007,66.57469940185547,-61.08259201049805,62.77753448486328,-0.24697132408618927,24.53112030029297,-25.942293167114258,-17.967309951782227,30.127626419067383,-5.416759967803955,54.28240203857422,-31.384267807006836,6.353461742401123,17.35824203491211,-50.21780776977539,-20.17095947265625,-17.338083267211914,10.869839668273926,-9.343134880065918,-26.6419734954834,51.20244598388672,-44.49391555786133,-48.72443389892578,-39.69812774658203,-11.250114440917969,9.813698768615723,18.776514053344727,33.350433349609375,56.969078063964844,-28.07012367248535,8.34190845489502,-6.958349704742432,-1.2453174591064453,37.495582580566406,40.05521774291992,-16.89398765563965,-2.7342309951782227,17.70553970336914,54.189300537109375,37.635005950927734,3.647040605545044,17.127117156982422,57.314701080322266,-70.50544738769531,-11.746210098266602,-7.779119491577148,-30.343828201293945,41.48318862915039,39.086978912353516,27.384984970092773,67.97599029541016,41.459983825683594,-29.507421493530273,30.645841598510742,-24.521316528320312,32.66046905517578,21.85299301147461,-3.0991578102111816,-15.661209106445312,-18.7038631439209,-56.103363037109375,-46.53607940673828,-26.544048309326172,-5.671535491943359,-25.871871948242188,4.69748592376709,-1.4969127178192139,62.534645080566406,-53.79303741455078,-15.312713623046875,-30.186174392700195,-2.0590670108795166,28.199106216430664,-17.774187088012695,10.477116584777832,28.098527908325195,-39.68022918701172,-19.56758689880371,-1.8671516180038452,59.920562744140625,-22.39424705505371,49.1863899230957,-26.69915771484375,-10.209943771362305,-3.638622283935547,8.027872085571289,2.2402615547180176,-20.669992446899414,43.589195251464844,69.0422592163086,1.988770604133606,-63.2957649230957,-22.020875930786133,-26.432777404785156,24.953048706054688,34.5684700012207,29.47403907775879,26.19838523864746,17.35992431640625,-12.680228233337402,11.782540321350098,-33.044334411621094,-40.889408111572266,-33.637760162353516,-24.868396759033203,68.95339965820312,-21.297571182250977,36.37687301635742,-18.47464370727539,-9.477291107177734,-14.510981559753418,-14.99716567993164,5.618404388427734,39.89562225341797,-6.712588310241699,-35.907752990722656,-9.157902717590332,60.99256134033203,-73.47046661376953,3.602195978164673,-19.378087997436523,18.001068115234375,19.815847396850586,-35.155426025390625,-28.4771785736084,-46.409942626953125,-13.27840518951416,42.95436477661133,-53.251953125,43.38733673095703,-43.93292236328125,10.369914054870605,66.16438293457031,9.83459186553955,37.4150505065918,7.775212287902832,2.8096063137054443,0.9062020182609558,-13.309062957763672,-20.225238800048828,-40.8315315246582,31.09587287902832,4.782113552093506,11.61281681060791,-46.378936767578125,2.290972948074341,-11.562088012695312,29.5636043548584,61.98102951049805,26.822359085083008,27.594690322875977,-2.9067721366882324,-47.34112548828125,11.888321876525879,-51.25288391113281,41.12610626220703,46.0945930480957,39.67253112792969,-20.104764938354492,2.326335906982422,31.355361938476562,-47.40142059326172,-61.76091003417969,-42.374656677246094,-40.328304290771484,5.960916519165039,-45.6122932434082,9.613465309143066,29.25239372253418,14.28650951385498,21.549684524536133,20.662038803100586,25.923648834228516,7.025696277618408,-3.648488998413086,40.124717712402344,-9.649750709533691,16.634111404418945,-47.40623092651367,40.893463134765625,-5.483144760131836,13.122965812683105,-51.082584381103516,27.72224235534668,-50.42402648925781,-16.57351303100586,34.098880767822266,-9.77554988861084,36.86845016479492,-10.442169189453125,-25.462671279907227,46.23507308959961,21.588281631469727,42.16990280151367,25.161243438720703,-34.493019104003906,15.558270454406738,-42.61083221435547,29.973079681396484,-6.397277355194092,-41.98239517211914,24.902082443237305,-4.347169876098633,44.362369537353516,48.52201461791992,-21.10099983215332,-38.590213775634766,38.31145477294922,10.099259376525879,32.53724670410156,-9.946086883544922,-2.387420177459717,54.75328063964844,18.800880432128906,28.325149536132812,47.53511047363281,-35.211490631103516,-14.610395431518555,8.022903442382812,-41.01251220703125,36.23270034790039,4.9091997146606445,58.31391906738281,-21.138776779174805,12.211792945861816,28.185489654541016,17.92801856994629,53.041481018066406,-30.97383689880371,30.330413818359375,28.394088745117188,23.25407600402832,-34.53467559814453,24.346336364746094,-15.807533264160156,-6.771556854248047,30.191814422607422,22.81667137145996,-10.399836540222168,1.4612395763397217,-16.16033935546875,-40.42910385131836,20.920364379882812,8.601935386657715,-18.620040893554688,30.727937698364258,-6.730208873748779,41.79923629760742,-0.14130939543247223,1.350066900253296,49.96923828125,-3.0706653594970703,39.46477127075195,23.702295303344727,22.31862449645996,54.83879470825195,-2.8989531993865967,-1.5491622686386108,6.989818096160889,-21.163837432861328,-2.218330144882202,72.3410415649414,-26.741756439208984,-32.748531341552734,11.81801986694336,38.5329704284668,-49.00218200683594,-25.660680770874023,-60.91745376586914,33.51758575439453,65.97161865234375,0.14404305815696716,25.89842987060547,-30.240678787231445,-34.261314392089844,-17.258075714111328,-16.433849334716797,-10.1536226272583,-7.460634231567383,-9.732305526733398,-41.078243255615234,-23.920881271362305,6.598235607147217,-15.945977210998535,24.97438621520996,-5.005095958709717,-8.078330993652344,-2.720261573791504,-21.60832405090332,-38.125125885009766,-38.35309600830078,30.906354904174805,23.933319091796875,-21.75286102294922,-26.276288986206055,9.325830459594727,28.526357650756836,-18.97410011291504,-1.4033842086791992,16.603252410888672,44.71334457397461,54.46453094482422,-46.309364318847656,-1.1407009363174438,-14.409635543823242,-15.310985565185547,37.711090087890625,-10.751007080078125,-54.059669494628906,-48.71501922607422,-19.669048309326172,58.679542541503906,-21.582300186157227,-33.246238708496094,-11.069235801696777,31.62183952331543,-44.9146842956543,6.571076393127441,-19.252534866333008,-54.13630676269531,34.42494583129883,1.3248790502548218,-1.5194480419158936,-14.716073036193848,-36.795833587646484,-23.23573875427246,-39.43657684326172,-28.34876823425293,-11.439251899719238,14.08332633972168,10.961522102355957,43.36055374145508,-17.188886642456055,-20.846004486083984,10.79744815826416,-10.985064506530762,5.712708473205566,53.38847732543945,21.201950073242188,-49.15077590942383,-0.6877297163009644,1.9738236665725708,7.309964656829834,55.154449462890625,17.9385929107666,-18.570770263671875,-21.98248291015625,35.81553268432617,-35.68299102783203,-19.968482971191406,-15.674280166625977,-1.8207697868347168,6.407382965087891,40.071075439453125,-39.4447135925293,-17.4545955657959,25.771196365356445,-5.4099440574646,-29.414518356323242,38.9626350402832,-41.549381256103516,-1.2231345176696777,-31.575477600097656,52.637535095214844,16.756919860839844,19.56240463256836,1.095429539680481,5.29987907409668,8.029598236083984,53.06632995605469,7.576786994934082,-12.853256225585938,-27.95263671875,-27.453264236450195,12.973448753356934,6.726894855499268,-41.33184814453125,37.27260971069336,2.7988193035125732,-56.74040603637695,6.105160713195801,50.45044708251953,-24.75128173828125,5.102475643157959,42.599002838134766,-25.166051864624023,-14.16847038269043,-2.0512495040893555,-1.1459633111953735,-10.176189422607422,39.83332443237305,-48.93613052368164,17.439842224121094,55.94285202026367,-5.945810317993164,-36.30281448364258,-10.643660545349121,-3.6179568767547607,30.670143127441406,-10.380889892578125,10.567599296569824,-8.964365005493164,49.783355712890625,9.810087203979492,68.32653045654297,-16.385051727294922,-48.46084213256836,24.713842391967773,4.823845863342285,-35.47731018066406,-25.881378173828125,33.0463981628418,-31.88321304321289,-18.82160758972168,8.255265235900879,0.3778358995914459,-16.62818717956543,43.88970947265625,-34.63907241821289,44.585731506347656,55.79872131347656,21.439617156982422,23.409692764282227,59.755767822265625,7.71560525894165,-3.569948673248291,-30.165983200073242,-9.42580795288086,34.90536117553711,32.76968002319336,13.321732521057129,23.627904891967773,-5.257608890533447,-31.56260108947754,-16.41877555847168,14.688815116882324,9.32980728149414,-4.967732906341553,-37.42625427246094,-50.76584243774414,0.9722946882247925,16.71824836730957,-19.08985137939453,-22.310283660888672,-21.532833099365234,-11.77203369140625,-5.509917259216309,-52.15840148925781,-30.35176658630371,-10.184247970581055,-13.163289070129395,-3.5543107986450195,-9.557832717895508,-17.084537506103516,39.259056091308594,36.67708206176758,-15.607627868652344,5.25554895401001,35.40847396850586,-6.811160564422607,-55.11857986450195,-35.37789535522461,12.591700553894043,2.2354555130004883,13.6636381149292,12.758065223693848,-6.477869987487793,34.71352005004883,2.8677003383636475,-32.40938186645508,-51.77725601196289,42.169029235839844,1.2665096521377563,8.73718547821045,24.322301864624023,-11.040088653564453,-18.595417022705078,-29.838842391967773,-1.7934340238571167,7.34995174407959,52.76516342163086,-9.92356014251709,2.100693702697754,-21.86004066467285,-19.05071449279785,20.879955291748047,-16.547565460205078,-24.54093360900879,-36.27493667602539,18.044116973876953,-23.567325592041016,-35.683311462402344,-1.493477463722229,-27.1043701171875,22.425094604492188,-2.43264102935791,15.817761421203613,18.317298889160156,5.9549431800842285,64.5406494140625,35.41062927246094,44.64861297607422,-44.28194808959961,30.465810775756836,11.615373611450195,45.73109817504883,-13.432648658752441,34.67194747924805,19.16267204284668,-0.05546649172902107,17.29660987854004,44.766109466552734,-73.2083969116211,47.521034240722656,-35.08290481567383,-12.529582977294922,19.720680236816406,-33.147613525390625,-9.698613166809082,19.56704330444336,5.031919956207275,31.38113021850586,-6.710484027862549,8.814690589904785,-11.634809494018555,17.46050262451172,-21.401124954223633,-2.428421974182129,-13.346200942993164,-9.568243980407715,-36.35399627685547,41.565208435058594,54.1169319152832,53.826637268066406,-18.398714065551758,-16.094907760620117,15.485058784484863,-43.267181396484375,-31.962331771850586,-15.092303276062012,-29.43765640258789,57.07783126831055,16.6745662689209,41.39670944213867,11.511987686157227,23.672697067260742,23.486663818359375,-23.899324417114258,34.203216552734375,-13.68637466430664,30.696821212768555,4.136569499969482,-2.2381463050842285,-12.750173568725586,-13.00341510772705,-40.384117126464844,26.271583557128906,27.47316551208496,-66.7504653930664,-0.24592141807079315,29.998130798339844,-22.751384735107422,-1.5207456350326538,35.116458892822266,-1.2074687480926514,-20.68734359741211,-36.876243591308594,-21.9666748046875,-22.548856735229492,39.01972198486328,68.11840057373047,37.61683654785156,-6.92874813079834,4.989539623260498,1.0976024866104126,-8.061417579650879,-28.609140396118164,22.388282775878906,8.54811954498291,-14.986449241638184,28.780664443969727,13.340202331542969,57.342769622802734,-9.553667068481445,26.105619430541992,74.55406951904297,-70.93974304199219,-1.3456575870513916,-8.92617130279541,4.931905269622803,55.27277374267578,44.159507751464844,51.10385513305664,1.2140746116638184,-11.394791603088379,20.84221076965332,-10.880731582641602,-2.3766560554504395,-5.3459553718566895,-44.33130645751953,-23.435441970825195,30.43185806274414,-29.840648651123047,-58.342227935791016,-52.674922943115234,42.71564483642578,30.971534729003906,-4.704184532165527,-21.205951690673828,17.751779556274414,55.80137252807617,61.960594177246094,-31.140499114990234,14.835112571716309,-64.2848892211914,-46.91691207885742,6.073703289031982,26.18067741394043,14.123404502868652,-35.05563735961914,30.439207077026367,-1.7675421237945557,-13.123126029968262,-31.430309295654297,-20.89524269104004,62.83842086791992,-46.628116607666016,-15.853716850280762,-69.36920166015625,-58.03439712524414,48.6623649597168,13.322665214538574,9.226441383361816,11.1546049118042,-20.943735122680664,-16.735260009765625,63.093841552734375,-5.257357597351074,36.30314254760742,21.514986038208008,-45.5869026184082,8.464221000671387,-8.316753387451172,34.075714111328125,-8.097879409790039,55.234439849853516,49.52224349975586,-6.502692699432373,35.12238693237305,4.8404860496521,19.48857879638672,-34.38593292236328,-5.38749361038208,-36.974552154541016,-40.743614196777344,10.7578706741333,-2.662766218185425,-29.453857421875,32.510345458984375,9.600472450256348,14.422062873840332,41.05829620361328,-10.866559982299805,43.99675369262695,13.390243530273438,-19.70454978942871,25.512163162231445,1.0488388538360596,58.211429595947266,-32.40434646606445,2.4236600399017334,26.21023941040039,5.991320610046387,-24.76771354675293,45.3885498046875,2.2711503505706787,8.197246551513672,-42.62506103515625,-40.8870735168457,61.99827194213867,3.1489150524139404,-6.576704978942871,28.78669548034668,-8.64745044708252,-3.517695188522339,28.59027099609375,50.403812408447266,35.005516052246094,1.6679580211639404,-18.857643127441406,7.402637958526611,-16.182376861572266,-22.548664093017578,16.413040161132812,-6.90722131729126,65.94157409667969,3.2076048851013184,-48.221214294433594,-13.64684009552002,2.6012418270111084,34.10226058959961,62.66020584106445,6.954345226287842,-45.38090133666992,27.62681007385254,17.676280975341797,-26.374221801757812,-40.18621063232422,-68.26923370361328,38.969600677490234,-5.2963361740112305,43.683197021484375,-36.55000305175781,-17.873605728149414,8.58342456817627,20.57246208190918,5.570092678070068,-0.9730873107910156,23.4461727142334,34.644195556640625,24.77470588684082,32.00901794433594,23.44209861755371,48.1292610168457,-43.53544998168945,8.433101654052734,-14.219935417175293,-40.06040573120117,-24.796649932861328,20.926725387573242,27.148744583129883,5.113297462463379,-31.022449493408203,-26.805761337280273,-21.249422073364258,8.299123764038086,25.597429275512695,11.89717960357666,-13.643576622009277,12.87246036529541,22.212203979492188,55.41604995727539,-23.740036010742188,10.259234428405762,-11.94727611541748,12.139506340026855,26.674144744873047,-28.463132858276367,-1.8654085397720337,41.215599060058594,19.9787540435791,-13.066143035888672,31.137889862060547,11.2006196975708,3.685642957687378,0.7438918352127075,-31.367231369018555,-41.316715240478516,47.50935363769531,12.55637264251709,-12.932975769042969,-14.491255760192871,-7.997410297393799,-65.12415313720703,-21.65359115600586,-40.342018127441406,16.1666316986084,65.1031265258789,32.87603759765625,-0.8666426539421082,-13.945027351379395,6.153930187225342,-59.02033615112305,-1.2981836795806885,14.915587425231934,4.194125652313232,-19.487985610961914,-1.3228400945663452,15.213968276977539,-52.714256286621094,56.98936462402344,-24.346450805664062,-20.317564010620117,-72.99048614501953,-6.650856018066406,17.007814407348633,-43.8802490234375,-12.40693187713623,-26.20679473876953,35.261497497558594,-27.937925338745117,11.544927597045898,-41.319374084472656,0.7796037793159485,-27.086807250976562,-11.559456825256348,6.959312438964844,-46.57268142700195,32.84273147583008,-8.35608196258545,56.33002853393555,-32.2156867980957,-16.29764175415039,-12.634101867675781,-12.364421844482422,-53.82575225830078,-5.255527496337891,22.292613983154297,34.79581832885742,-33.646690368652344,-30.472003936767578,-26.55036163330078,-31.476211547851562,-12.69399642944336,2.58349347114563,-11.26644229888916,0.20691893994808197,9.760470390319824,0.2525460720062256,-28.554378509521484,-27.764698028564453,-38.90797805786133,-38.289485931396484,38.13507080078125,30.050655364990234,-37.2915153503418,-20.942880630493164,47.05912399291992,-17.096210479736328,-34.5720100402832,-0.6368643641471863,-17.602502822875977,-19.060335159301758,-10.713264465332031,-10.247164726257324,-14.658408164978027,-26.60506820678711,-1.5386346578598022,21.504316329956055,17.157499313354492,36.497413635253906,-11.54592514038086,-28.762041091918945,-44.62150192260742,14.497282981872559,10.194803237915039,34.7573127746582,54.592342376708984,-19.679786682128906,30.723844528198242,-10.614908218383789,10.990326881408691,-65.04143524169922,45.778831481933594,18.664756774902344,6.761946201324463,-50.172447204589844,47.149906158447266,67.87777709960938,-10.186779975891113,-1.1368945837020874,-13.051855087280273,-32.723060607910156,16.42816734313965,-42.25620651245117,-19.146942138671875,39.16871643066406,-66.45992279052734,1.655161738395691,-14.915239334106445,-3.731632709503174,8.833209991455078,68.42493438720703,45.285274505615234,-12.243207931518555,-52.65753936767578,-50.35834503173828,28.181779861450195,-9.961602210998535,-6.748733997344971,-4.9742431640625,4.703993320465088,-21.10582733154297,5.72251033782959,-62.233367919921875,23.556394577026367,57.97140121459961,-9.594505310058594,7.322231292724609,48.17418670654297,11.651581764221191,-1.4507595300674438,19.7108211517334,-16.614316940307617,-36.013893127441406,28.16961669921875,-23.673748016357422,-17.251075744628906,32.0868034362793,53.848331451416016,-12.741615295410156,-12.81615924835205,-35.12865447998047,-36.8869514465332,47.28836441040039,-68.45488739013672,-45.646244049072266,-24.781553268432617,-28.371559143066406,-11.843599319458008,56.409332275390625,25.661096572875977,-65.7578353881836,34.79361343383789,16.52977180480957,47.055049896240234,5.614705562591553,-25.801612854003906,46.39102554321289,-9.136051177978516,2.6583855152130127,-4.029875755310059,-49.474891662597656,-50.081520080566406,71.32598114013672,-5.597082138061523,-34.828399658203125,10.520808219909668,10.200464248657227,3.715287446975708,40.393428802490234,-27.471227645874023,-5.544798374176025,3.3645009994506836,-0.6438921689987183,26.24934959411621,-14.701176643371582,9.219762802124023,39.76893615722656,22.552288055419922,-46.867557525634766,-7.476295471191406,12.907121658325195,61.5775146484375,-60.2580680847168,-34.265907287597656,46.16969680786133,-55.603302001953125,41.43091583251953,9.158609390258789,39.53498458862305,31.736867904663086,-35.17935562133789,20.53131866455078,0.5666378736495972,21.66514778137207,39.870601654052734,-38.83047103881836,37.609256744384766,-64.96379852294922,16.931671142578125,-35.399375915527344,33.93537139892578,-15.765905380249023,-38.20701217651367,20.083383560180664,7.068822383880615,-48.39503860473633,4.866882801055908,8.872502326965332,-28.426881790161133,-26.673599243164062,26.155366897583008,41.746726989746094,-39.1850700378418,-51.57467269897461,43.81056594848633,-30.875356674194336,-10.904451370239258,-41.28959655761719,-40.02987289428711,52.74970626831055,15.47695255279541,7.557908535003662,-28.44112777709961,16.053903579711914,2.8645358085632324,-7.397750377655029,15.408312797546387,2.626291036605835,-38.44237518310547,-25.439043045043945,-55.46199417114258,-46.96055603027344,1.562912106513977,61.3994255065918,19.555259704589844,-32.37342071533203,19.35691261291504,-23.28018569946289,-10.128694534301758,-15.164504051208496,26.381444931030273,-34.126834869384766,10.618782043457031,43.86825180053711,27.471271514892578,-25.488691329956055,13.147233963012695,6.632462978363037,-30.96009635925293,-6.869926452636719,3.3938677310943604,5.377976894378662,-2.2805187702178955,7.042853832244873,-10.640678405761719,-28.599985122680664,-22.875566482543945,-10.579818725585938,-1.6552205085754395,-43.33810806274414,-10.860383033752441,41.29320526123047,23.725130081176758,-3.8300442695617676,-21.801748275756836,-20.417888641357422,-10.506693840026855,-56.147666931152344,30.863252639770508,-31.552810668945312,-38.859230041503906,29.20895767211914,-30.423095703125,-62.007545471191406,-50.21736145019531,-5.3184638023376465,-2.458446741104126,26.76314353942871,10.389575004577637,41.61259841918945,-19.94527244567871,1.844261646270752,3.9246227741241455,-12.85147762298584,65.62826538085938,33.98482894897461,0.9658594131469727,-12.819558143615723,-2.8666839599609375,50.235511779785156,8.965012550354004,34.38119888305664,13.661175727844238,-5.837137222290039,23.731990814208984,-19.569805145263672,-73.48467254638672,-30.301355361938477,-25.037914276123047,-14.959261894226074,32.45676803588867,-66.20783996582031,31.617094039916992,24.167848587036133,-32.53264617919922,25.67022705078125,-16.808380126953125,-18.126726150512695,-65.63105773925781,71.20368957519531,46.080204010009766,-24.161718368530273,19.710784912109375,44.24294662475586,-1.5056195259094238,-0.9128777384757996,-33.33450698852539,-30.88621711730957,21.402315139770508,48.52519989013672,16.330713272094727,-10.670879364013672,18.20160675048828,43.476131439208984,-16.569055557250977,9.208374977111816,-9.282081604003906,-3.0907199382781982,30.539365768432617,32.16091537475586,37.99663162231445,2.4142067432403564,9.09262752532959,-6.093739986419678,25.754837036132812,35.0561637878418,-31.75747299194336,-40.45611572265625,-17.770532608032227,-47.383548736572266,25.095449447631836,25.678340911865234,10.243904113769531,-8.27003002166748,0.4396914541721344,10.211337089538574,-42.2434196472168,-38.19175720214844,29.41615104675293,-1.8392964601516724,45.06022644042969,-21.934112548828125,-5.911976337432861,17.211212158203125,1.251882791519165,-16.55940818786621,-36.99201202392578,-36.25970458984375,25.027616500854492,29.057758331298828,-28.074756622314453,23.041852951049805,21.60664939880371,-17.112550735473633,-13.787186622619629,-16.619409561157227,-4.348321914672852,-11.445720672607422,34.96344757080078,-30.52149772644043,-49.67939376831055,-35.106014251708984,46.4959602355957,-34.42229080200195,-14.219444274902344,-65.29779052734375,-25.72032356262207,41.402130126953125,-39.02401351928711,-47.60774230957031,37.3724365234375,-19.918088912963867,-6.024994850158691,-9.206216812133789,-3.687821865081787,30.117008209228516,-8.964550971984863,-24.372196197509766,-6.559628009796143,-0.6197643876075745,-10.208392143249512,-48.421966552734375,-18.243762969970703,1.7046886682510376,-38.09929656982422,10.910446166992188,-1.893761157989502,-2.917418956756592,-57.46218490600586,-66.5931625366211,27.888351440429688,-0.8975402116775513,20.88861083984375,27.7873592376709,26.9136905670166,-1.1102879047393799,30.61321258544922,-31.298246383666992,21.130165100097656,43.15067672729492,-19.655170440673828,10.164865493774414,-53.826698303222656,10.685993194580078,-22.956012725830078,-40.83164596557617,-63.03456497192383,-12.889240264892578,22.27569007873535,-73.52327728271484,18.306379318237305,-29.10478401184082,17.137466430664062,22.933307647705078,-16.38050651550293,38.89033508300781,32.7839469909668,14.025967597961426,-2.219590902328491,41.14501190185547,-21.393543243408203,13.042620658874512,67.68885803222656,17.854202270507812,-52.40813064575195,-36.77037811279297,62.770015716552734,8.244095802307129,-7.515875339508057,-16.615699768066406,-3.0856759548187256,-48.828800201416016,-16.566831588745117,24.306385040283203,12.26916217803955,71.64714050292969,30.938928604125977,-58.49417495727539,34.319236755371094,-6.401312351226807,-22.682275772094727,23.959388732910156,-5.337108135223389,51.616111755371094,-10.202112197875977,32.90031051635742,23.893436431884766,-65.57593536376953,49.15449905395508,-4.424864292144775,-61.861900329589844,14.177645683288574,-40.824737548828125,-34.99821472167969,-26.52902603149414,-30.290220260620117,-19.98981285095215,-43.7177848815918,-56.49991226196289,-3.837402105331421,48.38602828979492,0.9986954927444458,-0.5460759997367859,-44.37377166748047,30.84758186340332,17.98877716064453,22.360103607177734,-47.48009490966797,22.322500228881836,20.677104949951172,27.376474380493164,-11.072823524475098,-4.14069128036499,48.238224029541016,-44.901222229003906,20.343137741088867,-20.254764556884766,29.98844337463379,69.88513946533203,-13.925675392150879,-34.38888168334961,-32.089786529541016,22.799345016479492,-5.416032791137695,-40.4944953918457,2.701005220413208,-2.4468674659729004,35.41685485839844,-33.081871032714844,-26.807659149169922,-8.57797908782959,-0.7157936096191406,18.841232299804688,-36.99235916137695,49.9593391418457,-28.568050384521484,51.11216354370117,-11.352882385253906,25.968244552612305,-19.071056365966797,40.95571517944336,-14.228837013244629,-6.392598628997803,16.276569366455078,14.610735893249512,-19.909162521362305,14.866695404052734,44.684051513671875,-28.11859130859375,28.587636947631836,-12.858497619628906,-56.986419677734375,19.45543670654297,-1.6096071004867554,11.325458526611328,-14.699463844299316,8.414916038513184,1.9964725971221924,-41.036476135253906,-40.979408264160156,-32.231597900390625,41.68495178222656,-21.780431747436523,55.67254638671875,47.29843521118164,11.999428749084473,-9.137693405151367,-58.65406799316406,39.11607360839844,-21.87162971496582,-35.53703308105469,-8.668336868286133,-15.943551063537598,10.887331008911133,-17.70781707763672,13.989262580871582,7.370188236236572,50.57931900024414,-15.678645133972168,-6.24884557723999,-35.2098388671875,6.351321697235107,30.059207916259766,54.94582748413086,61.063873291015625,-4.7108869552612305,12.744486808776855,13.067919731140137,56.474857330322266,-24.185955047607422,11.802396774291992,-70.84906768798828,-11.157941818237305,65.7585220336914,-10.529688835144043,-38.992332458496094,-32.69171142578125,-38.928253173828125,51.951759338378906,-10.310603141784668,14.785093307495117,-46.69709396362305,16.810903549194336,50.15557861328125,-7.5101141929626465,16.782604217529297,11.879788398742676,-10.008474349975586,-44.031497955322266,48.644691467285156,61.93052673339844,-3.298922061920166,-37.41400909423828,-32.0394401550293,-21.484739303588867,-36.7492790222168,38.79750061035156,-19.22879409790039,25.798416137695312,-16.891557693481445,23.7734317779541,1.9717135429382324,23.457279205322266,21.962711334228516,-4.137227535247803,-26.417110443115234,-21.75061798095703,11.258227348327637,-9.901617050170898,-18.06644630432129,35.62409210205078,-11.753324508666992,43.87654113769531,-16.551883697509766,-7.954194068908691,30.179384231567383,11.64199447631836,17.458675384521484,-14.663896560668945,46.60920715332031,42.170677185058594,-27.078697204589844,-52.757568359375,-19.448394775390625,-14.380880355834961,11.892882347106934,4.907857894897461,-25.20842742919922,58.692054748535156,18.39385414123535,49.36826705932617,22.201194763183594,-19.061508178710938,-15.722830772399902,-68.10037231445312,-37.79811477661133,41.069725036621094,61.38193130493164,-8.508761405944824,3.213684558868408,-4.044619083404541,-19.90839958190918,36.36776351928711,-35.75453567504883,-48.599853515625,-33.52326965332031,-1.8901875019073486,30.654802322387695,-23.21031951904297,-22.558866500854492,-21.559370040893555,-23.51068687438965,30.687973022460938,33.99738693237305,-50.16399383544922,21.187042236328125,17.71390151977539,20.638418197631836,-6.449599266052246,-13.471626281738281,28.223812103271484,-3.74772310256958,37.44989776611328,-9.266959190368652,-11.869657516479492,24.123184204101562,-32.313323974609375,-15.224441528320312,-56.664913177490234,14.241808891296387,20.097248077392578,-22.816572189331055,-65.45858764648438,-13.116670608520508,20.033416748046875,62.94688415527344,-65.84335327148438,-7.334587574005127,-32.74154281616211,-18.437414169311523,10.317656517028809,-27.2307186126709,-36.614585876464844,22.094051361083984,-32.493064880371094,7.462407112121582,7.6517767906188965,30.649606704711914,66.85350799560547,28.435884475708008,-22.98670768737793,-52.5918083190918,-36.58184051513672,13.778175354003906,8.304086685180664,-30.928178787231445,52.4650764465332,23.890724182128906,10.45042610168457,-1.5622190237045288,54.62468338012695,-1.0283700227737427,-14.260799407958984,-20.928585052490234,21.347259521484375,-9.946956634521484,21.776187896728516,-3.5694103240966797,-7.671027183532715,9.508907318115234,-9.64639663696289,35.391326904296875,11.994012832641602,17.939924240112305,-48.913394927978516,-12.324200630187988,40.44086837768555,-37.80717086791992,-37.871517181396484,10.119590759277344,-10.226701736450195,-2.494734525680542,-27.726211547851562,-9.823246955871582,-43.63411331176758,-21.982473373413086,-25.21443748474121,15.81775188446045,-0.3006221652030945,3.394336223602295,35.242828369140625,-8.983885765075684,-32.005859375,33.50218200683594,44.89488220214844,16.83440399169922,53.85548782348633,21.184062957763672,-25.772581100463867,14.876328468322754,-14.323384284973145,-21.239303588867188,-9.659449577331543,-31.48269271850586,45.385982513427734,52.805606842041016,61.627647399902344,24.90567970275879,5.497518539428711,22.910961151123047,-25.64421844482422,44.8173942565918,-7.706475257873535,12.770063400268555,9.581169128417969,-28.981868743896484,37.433197021484375,28.082298278808594,57.88698959350586,-10.5982027053833,35.462196350097656,10.288553237915039,-10.881577491760254,-7.971119403839111,36.70850372314453,4.845119953155518,5.532705307006836,5.41386079788208,-67.55342102050781,-66.53353118896484,-48.818885803222656,40.198463439941406,-19.103164672851562,20.79427146911621,-11.116524696350098,-60.90181350708008,43.05490493774414,9.07381534576416,13.12140941619873,12.581703186035156,-51.8887939453125,-51.088958740234375,-50.77996826171875,44.145870208740234,-44.57280349731445,70.5604248046875,31.33740997314453,34.07320022583008,60.501312255859375,37.586307525634766,37.920040130615234,70.56744384765625,-22.454713821411133,-19.188310623168945,-31.818939208984375,29.648223876953125,-4.321547508239746,-36.01091003417969,-5.077932834625244,15.902754783630371,14.473299026489258,32.345149993896484,-22.761375427246094,16.691959381103516,-42.277278900146484,40.986331939697266,-13.90937328338623,-17.288410186767578,-53.786251068115234,-22.105953216552734,-8.011629104614258,9.297769546508789,-38.247127532958984,44.99641799926758,53.3748664855957,-6.44073486328125,-58.99528503417969,-29.177034378051758,-41.370262145996094,9.945550918579102,-65.23760986328125,-40.611663818359375,38.75203323364258,-23.015493392944336,20.714223861694336,-31.064849853515625,-33.45555114746094,3.39734148979187,-7.587147235870361,1.493726134300232,-34.83378982543945,67.89066314697266,0.7754471898078918,-35.430511474609375,-41.66469955444336,18.879186630249023,15.44034481048584,-13.304168701171875,-72.91622924804688,6.479303359985352,-31.816747665405273,39.72460174560547,-11.452778816223145,30.748775482177734,6.891416072845459,-35.26156997680664,-57.39875411987305,22.86080551147461,-23.613155364990234,14.3776216506958,-11.689812660217285,-33.34630584716797,-35.89661407470703,-8.808571815490723,-43.812469482421875,10.572558403015137,44.7982177734375,-20.737646102905273,-73.02974700927734,35.683467864990234,-0.6421356797218323,-35.657527923583984,-39.952239990234375,37.512996673583984,-22.196638107299805,29.088407516479492,-17.840070724487305,-3.818207263946533,22.663082122802734,-40.21432113647461,13.322983741760254,0.6777138710021973,-30.5794677734375,25.189268112182617,-25.530752182006836,-7.599010944366455,-9.575990676879883,2.5760207176208496,11.573128700256348,-20.298011779785156,10.355498313903809,-30.736120223999023,-0.847141683101654,-1.8148484230041504,2.3425939083099365,52.7056884765625,-47.047916412353516,-26.890302658081055,25.317825317382812,-14.368725776672363,29.631515502929688,-16.420928955078125,27.99207878112793,-3.200148344039917,-51.53206253051758,-17.74799346923828,49.347877502441406,-12.957292556762695,12.537492752075195,7.979409694671631,-15.571412086486816,-36.54658126831055,36.94678497314453,-32.268585205078125,-15.568655967712402,-1.8363969326019287,-27.929460525512695,-12.104681015014648,12.703117370605469,-43.67527389526367,39.37661361694336,-60.294315338134766,-44.38848876953125,-14.462926864624023,-5.884530067443848,9.08950424194336,47.09191131591797,33.687744140625,-54.000694274902344,-11.230656623840332,62.34398651123047,-36.816680908203125,46.80205154418945,-45.24418640136719,17.098594665527344,-7.580116271972656,20.31336784362793,-16.985666275024414,-3.556697130203247,44.63562774658203,-1.804701328277588,44.07132339477539,19.457517623901367,-45.7822151184082,-65.30513763427734,-20.704378128051758,-16.69084358215332,22.111827850341797,-20.498231887817383,11.239859580993652,33.25455093383789,15.322548866271973,4.779773235321045,17.45799446105957,-53.358619689941406,-44.04996109008789,1.143424153327942,-22.457233428955078,-19.07868194580078,-38.016475677490234,-10.899620056152344,-22.89247703552246,4.790345668792725,-2.0615739822387695,41.39282989501953,-33.28730773925781,38.35527801513672,-14.354852676391602,-27.767627716064453,56.78318786621094,-1.7713193893432617,-26.79844093322754,20.258621215820312,-0.34525400400161743,29.703147888183594,-41.41612243652344,-0.47563958168029785,23.718860626220703,-10.116382598876953,-28.427587509155273,-36.97749328613281,-5.485374450683594,-21.221771240234375,-56.2663688659668,-41.62620162963867,-54.37678909301758,16.460582733154297,-21.483482360839844,15.655508995056152,-66.93327331542969,-4.880797863006592,-37.87715148925781,-7.52711820602417,-5.428450584411621,4.2453155517578125,-50.878543853759766,30.381221771240234,13.79549789428711,-38.08536148071289,-15.541720390319824,25.209692001342773,31.163814544677734,-41.76762390136719,-41.990867614746094,-1.7391774654388428,-42.1527099609375,-41.63777160644531,39.15269470214844,10.834456443786621,-42.280723571777344,-46.00269317626953,-40.12704849243164,-22.83360481262207,-22.98307228088379,-7.088277816772461,4.521912574768066,-53.85076904296875,0.152007058262825,-16.077110290527344,-16.060754776000977,-10.154938697814941,21.580636978149414,44.94904327392578,-40.69041442871094,-42.500431060791016,-41.89702606201172,-31.209697723388672,15.71552562713623,13.79697036743164,-37.82183837890625,35.23451232910156,13.901389122009277,-17.49164390563965,-8.060148239135742,-41.82911682128906,-41.54875564575195,24.510934829711914,-41.66606903076172,-42.63208770751953,-8.96399211883545,-1.7889201641082764,-54.5993766784668,16.916658401489258,6.972359657287598,-26.99500846862793,26.055421829223633,17.16077995300293,-7.455929279327393,-2.8190977573394775,8.440768241882324,12.8994722366333,14.686070442199707,-10.324578285217285,51.830589294433594,21.140195846557617,-60.963043212890625,61.1239013671875,-26.94657325744629,29.193710327148438,-47.71836853027344,22.515338897705078,8.26096248626709,-7.473336696624756,-32.72901916503906,36.63731384277344,-24.175025939941406,26.912668228149414,-31.588008880615234,19.129114151000977,27.079051971435547,-14.452861785888672,22.028858184814453,-28.374271392822266,-5.0274128913879395,35.75183868408203,28.79005241394043,45.15876007080078,-26.056360244750977,-15.916905403137207,7.463537693023682,-35.99460983276367,53.3545036315918,20.55475425720215,-6.681423187255859,2.9646363258361816,43.1919059753418,-19.73493003845215,13.009932518005371,-39.22601318359375,-28.868364334106445,20.488698959350586,-12.314010620117188,20.4860782623291,-18.788793563842773,23.36419105529785,27.090776443481445,-53.57152557373047,-21.61823844909668,-0.07218029350042343,-1.695959210395813,-28.81749153137207,23.984861373901367,-18.03438377380371,-6.693345546722412,2.7173712253570557,-30.39119529724121,-11.95944595336914,-0.7712531089782715,-6.338953971862793,32.76449203491211,-42.85089111328125,64.61194610595703,-0.8051109910011292,11.111739158630371,25.34209442138672,60.66875457763672,8.085000038146973,31.46566390991211,19.594200134277344,-4.814453125,-56.636592864990234,30.649721145629883,17.261150360107422,-40.764923095703125,6.858988285064697,-50.67472839355469,-8.201854705810547,38.402687072753906,-32.25212097167969,9.412454605102539,2.6267244815826416,1.515120506286621,-22.26604652404785,-47.388362884521484,36.64533233642578,69.51018524169922,18.173561096191406,-41.245765686035156,-23.04009437561035,-22.15636444091797,-15.971585273742676,51.702701568603516,7.641208648681641,-25.077394485473633,-11.791362762451172,-29.108243942260742,34.250667572021484,-20.424802780151367,-51.5072135925293,-28.5128231048584,-37.75126647949219,-11.952676773071289,28.49683952331543,-10.438390731811523,-12.412779808044434,55.33942794799805,14.031538963317871,-13.279561042785645,-1.8859220743179321,-15.033259391784668,-39.48710250854492,-21.102035522460938,-14.206208229064941,-32.04496765136719,-39.65937423706055,-68.88506317138672,-66.53630065917969,-0.8607549667358398,-6.426789283752441,-28.393789291381836,30.742992401123047,-60.39106750488281,-28.13546371459961,-1.1478545665740967,2.4914023876190186,-13.797710418701172,18.488271713256836,-16.685771942138672,-3.381442070007324,1.4785057306289673,44.41774368286133,-17.621370315551758,4.540842533111572,-19.087114334106445,-13.268742561340332,-22.963359832763672,-15.978751182556152,69.44659423828125,14.030349731445312,12.065374374389648,6.458371162414551,-36.672672271728516,-10.029273986816406,55.4935188293457,-10.396195411682129,20.19208526611328,-39.33321762084961,21.819856643676758,34.6646728515625,-45.6690673828125,-29.949668884277344,30.9229679107666,17.009523391723633,-9.346147537231445,-64.91576385498047,50.22904968261719,-19.93942642211914,9.1064453125,-9.057042121887207,71.96936798095703,-41.65033721923828,-10.735358238220215,34.27640914916992,-2.1938936710357666,-37.943912506103516,-43.102516174316406,6.136432647705078,-11.629975318908691,17.086977005004883,12.434003829956055,15.460318565368652,34.376625061035156,24.400087356567383,-24.567861557006836,-35.1813850402832,49.6026725769043,47.56388473510742,57.04288101196289,34.544742584228516,12.563152313232422,-43.889163970947266,-31.632471084594727,16.306257247924805,-10.879287719726562,29.558292388916016,45.68647003173828,-1.4134032726287842,-15.47352409362793,-19.27826499938965,-49.98843002319336,8.123456954956055,6.658614635467529,0.16096261143684387,20.563522338867188,54.0497932434082,8.076472282409668,-48.5500602722168,-10.0939359664917,25.2120304107666,-52.34004211425781,20.656702041625977,-18.82809829711914,-30.256263732910156,-35.05681610107422,34.201663970947266,3.781597852706909,-7.331954479217529,-28.444913864135742,-36.06178283691406,-29.229162216186523,55.340599060058594,1.843951940536499,-8.6729154586792,-16.57811737060547,45.16947555541992,21.623916625976562,-43.717384338378906,23.20939826965332,14.185185432434082,-51.55942153930664,-4.656641960144043,1.8483930826187134,-7.795375823974609,-9.749094009399414,-37.34719467163086,11.525277137756348,3.660010814666748,-1.7989219427108765,0.7326421141624451,-10.331018447875977,-28.682518005371094,-18.623695373535156,-46.20580291748047,-18.26475715637207,-38.08695983886719,-47.16958999633789,-19.23722267150879,16.177318572998047,-20.35045623779297,-11.059236526489258,-5.615568161010742,-24.381967544555664,50.52165603637695,-21.897314071655273,-42.05120849609375,2.1291661262512207,-38.62888717651367,-32.146610260009766,-22.365894317626953,-1.744165301322937,-51.01591110229492,5.993313312530518,8.452789306640625,-36.785465240478516,17.24498748779297,28.616418838500977,-12.57004165649414,24.57353973388672,1.0812952518463135,-6.643601894378662,-11.05013656616211,-14.165304183959961,19.47379493713379,18.16196632385254,-43.510372161865234,13.983222007751465,43.262351989746094,2.099794387817383,-2.7672054767608643,-10.957817077636719,5.025325298309326,-52.666133880615234,11.378862380981445,52.63418197631836,19.485458374023438,0.26740366220474243,-3.3844423294067383,-29.995513916015625,-9.745000839233398,57.26793670654297,-60.83789825439453,-12.176345825195312,-9.444756507873535,8.28807544708252,-30.688928604125977,27.069612503051758,-30.20917510986328,43.89872360229492,40.011966705322266,-10.688130378723145,-26.708335876464844,36.56563186645508,-20.912368774414062,-24.798791885375977,39.86506271362305,-20.88014030456543,4.765331745147705,14.83700180053711,5.409489631652832,16.799848556518555,-6.9354729652404785,34.449005126953125,8.265422821044922,18.181520462036133,14.11957836151123,-10.669638633728027,12.673774719238281,-13.942331314086914,-23.751815795898438,44.75983810424805,23.480077743530273,62.27743148803711,-40.1374397277832,29.68485450744629,-10.403257369995117,41.35297775268555,-49.22151565551758,0.14775654673576355,-49.63259506225586,29.05613136291504,-12.456207275390625,57.90716552734375,-14.518832206726074,35.768028259277344,-1.8839457035064697,0.7991464138031006,-5.524277687072754,10.636995315551758,8.821833610534668,-8.75914192199707,-14.029582023620605,52.36758804321289,-27.734195709228516,34.086185455322266,18.90877914428711,-15.533378601074219,12.053349494934082,11.6113920211792,-17.70275115966797,-9.904866218566895,23.70442008972168,-0.8013160228729248,-25.943220138549805,27.008514404296875,-11.08974552154541,9.565479278564453,-30.07080841064453,-11.047980308532715,-29.562538146972656,11.780596733093262,-20.008869171142578,-14.446956634521484,7.909306049346924,-6.750863075256348,-20.727256774902344,7.868768215179443,1.3458871841430664,-62.02193069458008,-65.40463256835938,16.614906311035156,41.4398307800293,12.332201957702637,36.24681091308594,37.748252868652344,-9.536009788513184,-53.763755798339844,18.25651741027832,-7.308595657348633,-28.928831100463867,-17.919267654418945,-7.998162746429443,-24.142696380615234,27.778730392456055,-38.8896369934082,-28.889122009277344,-51.806392669677734,19.431272506713867,-26.31052017211914,17.035049438476562,-36.7533073425293,-10.452411651611328,-29.53550910949707,43.71388244628906,33.59299087524414,-36.0023078918457,-23.119909286499023,-32.48041915893555,-1.165392518043518,-19.251676559448242,0.6917959451675415,-36.98197937011719,61.422447204589844,-15.265852928161621,2.634453058242798,-22.15267562866211,27.87476921081543,-52.54489517211914,28.048507690429688,22.15065574645996,4.702104091644287,41.61613464355469,5.470643043518066,-15.646690368652344,-65.85861206054688,14.592394828796387,7.056277751922607,49.85968017578125,14.647380828857422,-27.684919357299805,-23.25322723388672,-39.09446334838867,36.67469787597656,46.38175964355469,-31.232580184936523,-27.077062606811523,12.556694030761719,-20.288652420043945,45.99802780151367,41.77507019042969,-23.273571014404297,-9.423218727111816,19.01231575012207,-15.641498565673828,20.276409149169922,2.9607560634613037,21.0975284576416,-3.663083076477051,-66.9420166015625,-66.70943450927734,-27.441884994506836,9.865242004394531,21.57370948791504,16.573450088500977,29.58455467224121,-8.185181617736816,10.964838027954102,-30.143997192382812,34.63248825073242,-28.44072914123535,25.926673889160156,-32.008331298828125,-11.383159637451172,-28.766263961791992,-5.71445894241333,-2.0537497997283936,-9.002731323242188,33.660640716552734,48.572750091552734,-2.317399501800537,-33.05256652832031,37.552146911621094,36.30159378051758,62.99565887451172,12.573262214660645,-51.296958923339844,-33.148372650146484,50.83894729614258,48.64630126953125,-37.631568908691406,18.92547035217285,-7.31569766998291,33.588409423828125,-60.830169677734375,9.965737342834473,-31.92938232421875,-3.4096806049346924,-40.55633544921875,-53.248443603515625,13.758028030395508,-37.70011520385742,21.556001663208008,-11.670317649841309,-35.79972839355469,20.93202018737793,9.90147876739502,66.34797668457031,-24.60085678100586,22.35025405883789,17.730947494506836,-12.630465507507324,36.93206024169922,-17.557453155517578,-18.380207061767578,17.169464111328125,49.03676223754883,50.604209899902344,-42.0633659362793,13.805384635925293,55.056480407714844,21.548364639282227,57.75309753417969,-35.42329788208008,47.24076843261719,32.15305709838867,-8.173572540283203,14.199151039123535,28.108013153076172,-25.014877319335938,17.463180541992188,12.264660835266113,-13.264013290405273,29.89025115966797,-3.710447311401367,34.401302337646484,24.738086700439453,-0.11508873850107193,-1.9592522382736206,-10.29535961151123,27.014184951782227,60.05923080444336,17.141815185546875,-49.77923583984375,5.183411598205566,36.31828689575195,-29.612010955810547,-23.674612045288086,26.346418380737305,-52.015899658203125,-15.54296875,68.58647918701172,9.413793563842773,67.81654357910156,-14.970126152038574,-9.318559646606445,-27.57463836669922,-21.088581085205078,-26.43670654296875,71.67137908935547,-24.8720645904541,-13.036798477172852,-13.070271492004395,-22.554805755615234,-23.12202262878418,11.514359474182129,-11.848736763000488,36.537330627441406,35.66535568237305,-29.930566787719727,-22.300329208374023,-59.7252082824707,10.430639266967773,28.43099021911621,-26.851238250732422,35.021488189697266,22.469133377075195,5.815344333648682,-5.163412094116211,-31.487152099609375,-13.90267562866211,-61.85236740112305,15.083974838256836,16.328086853027344,50.872657775878906,42.24650573730469,3.331820249557495,-19.37351417541504,-30.988203048706055,-39.92644500732422,9.466607093811035,-16.54563331604004,13.602801322937012,42.19527053833008,5.886646270751953,-48.30519104003906,32.455970764160156,14.783092498779297,37.47874450683594,-5.742286205291748,-11.648277282714844,-47.40068817138672,-33.015262603759766,45.00334930419922,-3.209139585494995,53.706878662109375,-3.000335216522217,-17.89252281188965,67.63107299804688,-15.900127410888672,-17.129535675048828,-13.017560958862305,10.043365478515625,-65.18582153320312,65.48152923583984,-8.73090648651123,14.764394760131836,-16.92710304260254,15.939046859741211,-32.8727912902832,-63.520751953125,37.00515365600586,23.183284759521484,21.468873977661133,-18.239585876464844,50.202083587646484,15.407655715942383,1.5615981817245483,-61.36642837524414,-9.311763763427734,-41.56348419189453,-0.33220407366752625,1.4414135217666626,3.2718706130981445,-12.546396255493164,23.44243621826172,26.2014217376709,-54.99773406982422,33.780296325683594,31.723556518554688,26.4117431640625,-4.845237731933594,9.744227409362793,-46.918983459472656,61.88833999633789,-45.049190521240234,-56.36656188964844,-43.50311279296875,-29.31549644470215,-29.33039665222168,41.369056701660156,-56.33989715576172,-11.365463256835938,13.686904907226562,-14.972708702087402,-65.23976135253906,8.25113582611084,7.603908538818359,9.34056282043457,34.63286209106445,23.854055404663086,51.6969108581543,24.830026626586914,9.358194351196289,-27.2830810546875,-30.752227783203125,19.040149688720703,-9.338821411132812,-22.993907928466797,-17.01891326904297,-3.1065635681152344,3.098964214324951,-29.535396575927734,17.06553840637207,25.517314910888672,-25.079256057739258,11.470324516296387,17.82850456237793,-18.576248168945312,12.776925086975098,19.465600967407227,-13.21382999420166,22.24680519104004,33.609066009521484,-13.423455238342285,27.93755531311035,12.466110229492188,-69.36014556884766,45.507896423339844,35.45528793334961,17.50349235534668,21.944490432739258,43.13908004760742,44.60059356689453,62.55665969848633,-46.2864990234375,32.79414367675781,57.88839340209961,-46.857147216796875,22.285919189453125,8.414985656738281,8.549016952514648,-0.9086531400680542,25.46825408935547,17.894489288330078,2.4531469345092773,-10.317021369934082,-0.7684292197227478,-53.852542877197266,18.878902435302734,45.15684127807617,67.23543548583984,-6.875569820404053,-13.443732261657715,-5.547844886779785,-5.653822898864746,-10.037843704223633,20.782630920410156,17.467220306396484,-25.43000602722168,6.6593708992004395,20.014301300048828,30.84212303161621,-16.839374542236328,-20.319223403930664,31.639284133911133,42.43607711791992,-45.81926345825195,-8.19312572479248,19.401206970214844,-4.588534355163574,-60.32133483886719,-35.486328125,2.259542226791382,-25.21004295349121,-3.9910836219787598,-18.334861755371094,-25.726465225219727,11.097472190856934,25.375625610351562,-12.536072731018066,-4.03520393371582,18.99979019165039,-8.547184944152832,53.68645095825195,-69.58403778076172,-15.865528106689453,-12.199793815612793,-18.25342559814453,18.87755012512207,-4.26499605178833,-66.61763000488281,-4.969771385192871,37.99833679199219,13.32575511932373,-67.90626525878906,57.12894058227539,54.82595443725586,-19.295446395874023,-12.96878719329834,8.80305290222168,12.365072250366211,-24.848817825317383,-13.403640747070312,54.78874969482422,14.470129013061523,-30.385963439941406,16.703645706176758,-24.983247756958008,41.256019592285156,24.29472541809082,10.772550582885742,-30.784940719604492,-37.0444450378418,-43.48417663574219,7.411978721618652,-21.991191864013672,-55.874961853027344,23.067657470703125,-32.630523681640625,-52.0761604309082,15.204266548156738,-9.396267890930176,69.88786315917969,26.615808486938477,-58.499568939208984,-43.37005615234375,11.019283294677734,-31.463274002075195,-24.89574432373047,-23.72589683532715,-66.67044830322266,40.73731994628906,-16.666275024414062,12.545431137084961,37.42567443847656,45.043678283691406,2.271263360977173,-8.404281616210938,-44.90156555175781,-17.056270599365234,-6.410651206970215,46.03330612182617,-17.820602416992188,3.5232789516448975,5.280272960662842,-5.4805097579956055,-52.505855560302734,-7.048668384552002,-50.29869079589844,-15.7355318069458,-20.168102264404297,-38.95319366455078,-8.83544921875,20.90652084350586,-45.157493591308594,-8.983403205871582,6.556496620178223,-5.905792713165283,27.454355239868164,-63.861228942871094,47.31610870361328,-1.1783323287963867,-25.11472511291504,-21.56545639038086,41.53276824951172,-39.97271728515625,16.114665985107422,16.453392028808594,-8.802776336669922,19.384464263916016,-37.8881950378418,16.82813835144043,-55.03678512573242,52.7911491394043,27.270620346069336,23.390968322753906,44.63996887207031,-1.7664146423339844,17.443571090698242,7.900767803192139,-33.1377067565918,-6.711794376373291,-28.385623931884766,-25.062660217285156,23.64143180847168,3.3844635486602783,-39.413883209228516,-19.273752212524414,-16.049388885498047,65.29227447509766,23.89332389831543,-25.350393295288086,23.839675903320312,-3.2276790142059326,-19.715572357177734,-23.81259536743164,-7.690866470336914,-33.594173431396484,44.69806671142578,-1.892308235168457,46.41549301147461,11.913249969482422,-6.088923931121826,-5.338961601257324,-26.001422882080078,-13.528887748718262,32.20674514770508,19.168590545654297,-14.711099624633789,16.069337844848633,-19.658069610595703,-48.620662689208984,-43.19303512573242,-47.34711837768555,28.646533966064453,-5.947190284729004,-13.530430793762207,1.0321277379989624,47.13829040527344,-18.99243927001953,-35.85145950317383,11.809301376342773,-16.68271255493164,-9.71253776550293,20.4601993560791,-39.22995376586914,-13.82565689086914,-10.614827156066895,-50.00067901611328,-44.487709045410156,4.0497565269470215,0.5440152883529663,-71.93328857421875,19.544748306274414,20.339046478271484,-10.878514289855957,-30.410152435302734,1.616026520729065,-13.928128242492676,-1.2544323205947876,-39.95628356933594,-8.854623794555664,-52.00199508666992,14.587990760803223,20.420804977416992,-28.852867126464844,8.306291580200195,-30.398473739624023,-9.987383842468262,0.7912634611129761,-19.643959045410156,-48.677391052246094,48.712677001953125,-27.42694854736328,-14.193251609802246,29.837265014648438,-27.763246536254883,7.712880611419678,-27.82094955444336,72.57632446289062,-25.537145614624023,-9.821112632751465,-6.631300926208496,4.804818153381348,-16.824140548706055,-22.108278274536133,-16.55917739868164,-27.387676239013672,-44.636722564697266,27.496923446655273,-27.276233673095703,-3.64856219291687,-20.484949111938477,4.242681980133057,3.020390033721924,-7.234425067901611,5.84492826461792,-4.698549747467041,32.1261100769043,19.43801498413086,12.171989440917969,16.37867546081543,62.4807243347168,-8.334254264831543,-3.474731922149658,-11.049756050109863,10.957475662231445,-30.132726669311523,-22.18733787536621,-23.7160587310791,-51.789546966552734,-16.837182998657227,46.550628662109375,1.4615261554718018,-16.529090881347656,-21.10992431640625,23.127643585205078,39.45398712158203,-7.5378875732421875,23.375837326049805,-22.55710792541504,28.127973556518555,-55.604000091552734,-24.18340301513672,-60.185062408447266,-2.74412202835083,-45.685577392578125,-9.831703186035156,-34.69995880126953,8.064481735229492,-61.78763198852539,18.26213836669922,-65.8835220336914,-32.034786224365234,-3.0191524028778076,23.40505599975586,22.775114059448242,37.418418884277344,67.7989501953125,8.923434257507324,-66.65492248535156,7.593570709228516,6.283482074737549,13.814390182495117,-33.00261688232422,-47.044803619384766,-12.831266403198242,14.541267395019531,9.016571998596191,-25.288978576660156,-1.9890447854995728,-63.62409973144531,-64.60619354248047,-19.360353469848633,-44.290950775146484,58.958106994628906,-9.471123695373535,35.135311126708984,-44.972599029541016,4.618231296539307,-1.7265105247497559,26.296024322509766,-37.95048904418945,28.515422821044922,16.45174789428711,-20.814476013183594,-63.826011657714844,16.17957305908203,-34.61573791503906,-16.33460807800293,-43.54286193847656,3.291701078414917,-7.679002285003662,-34.28069305419922,50.53670883178711,18.811599731445312,6.305842399597168,-26.10462188720703,-34.7958869934082,0.8425264954566956,39.911808013916016,1.5937728881835938,21.347492218017578,6.116205215454102,0.0676196739077568,-46.9253044128418,1.4892605543136597,12.283645629882812,-2.9737467765808105,23.413724899291992,-2.838930606842041,23.406831741333008,12.542844772338867,-7.332111835479736,-33.27181625366211,-19.311710357666016,-22.06121063232422,-22.20028305053711,-15.297053337097168,12.52643871307373,1.3185184001922607,13.660139083862305,-32.135398864746094,-25.381305694580078,28.433225631713867,-2.163928508758545,51.70451736450195,35.721336364746094,4.317425727844238,-29.671382904052734,-23.875329971313477,-58.43710708618164,-58.87627410888672,9.685670852661133,-40.16647720336914,11.815316200256348,-34.61604690551758,-30.50053596496582,48.49186325073242,-16.086362838745117,-6.761548042297363,-39.61452102661133,-12.257977485656738,1.3853414058685303,5.953546524047852,-38.836917877197266,5.054078578948975,-16.031532287597656,2.9782893657684326,-10.137850761413574,-0.43570438027381897,0.32781675457954407,44.31291961669922,-5.741085529327393,5.8289923667907715,-30.67659568786621,-22.65483283996582,18.993083953857422,-42.57324981689453,-2.234989881515503,-13.834466934204102,1.9729084968566895,-8.005602836608887,22.43050193786621,-19.20806121826172,44.51671600341797,43.11517333984375,-40.19847106933594,-11.878022193908691,-26.877079010009766,-22.35776138305664,-33.693172454833984,33.25819396972656,25.0883731842041,-50.981178283691406,-12.526947975158691,-5.962646484375,7.816454887390137,-58.989471435546875,54.10751724243164,-26.14732551574707,25.016193389892578,-5.7897629737854,-26.167451858520508,-15.713700294494629,68.23861694335938,-32.277732849121094,-59.61331558227539,23.530916213989258,-27.76335334777832,4.313009738922119,-12.768838882446289,21.009485244750977,-14.936327934265137,-10.30181884765625,3.357388496398926,21.476167678833008,-16.67226219177246,-6.143429279327393,-6.577691078186035,-51.66790008544922,-15.160850524902344,49.418819427490234,-24.60352325439453,51.86871337890625,-44.80472183227539,-51.8961296081543,0.0879686251282692,15.742181777954102,-47.649078369140625,-56.652339935302734,-25.701961517333984,-30.278226852416992,69.9955825805664,-0.4115557372570038,-65.18685150146484,-37.731117248535156,-67.1201400756836,-3.723541259765625,-8.72020149230957,22.198511123657227,19.810245513916016,-46.24068069458008,47.14008331298828,-32.383567810058594,35.50830078125,57.72951889038086,-60.665828704833984,-46.678497314453125,5.25094747543335,42.42143630981445,-22.962738037109375,7.419919013977051,1.13615882396698,-11.627479553222656,-15.057241439819336,-9.390536308288574,-19.363182067871094,-65.65768432617188,-19.599897384643555,4.080227851867676,5.962776184082031,1.9993354082107544,56.388179779052734,-15.138604164123535,-59.92703628540039,-10.98624324798584,24.524131774902344,20.182310104370117,-40.15457534790039,-33.34066390991211,-4.008968830108643,27.6669921875,23.10098648071289,21.51554298400879,66.70498657226562,0.7586344480514526,-0.35440391302108765,-38.53707504272461,68.13524627685547,-33.33345413208008,-26.044044494628906,-21.866161346435547,-3.5282492637634277,21.34882926940918,-21.216379165649414,33.76972198486328,3.2158143520355225,-13.194646835327148,6.783935546875,23.520267486572266,24.879261016845703,6.665430545806885,-24.18968963623047,23.317426681518555,43.94969177246094,55.869632720947266,-25.748586654663086,-28.412343978881836,17.283292770385742,13.941593170166016,27.739341735839844,60.905738830566406,6.848910331726074,-14.743338584899902,-25.40896224975586,-53.887386322021484,-10.38584041595459,3.19315505027771,-38.48424530029297,-15.386432647705078,-46.41286849975586,-14.762910842895508,-14.771191596984863,-40.46897888183594,-35.29798126220703,-50.22245407104492,46.97108840942383,8.816387176513672,-30.365686416625977,6.169764041900635,-0.82472163438797,14.159122467041016,-13.758448600769043,-49.16619110107422,-16.565263748168945,28.390716552734375,-13.852851867675781,22.284299850463867,-53.689002990722656,-38.83295822143555,-53.011390686035156,-2.5845251083374023,-18.72219467163086,-24.0970516204834,-15.76859188079834,-52.234066009521484,-3.5446810722351074,-29.52736473083496,48.27546691894531,11.203755378723145,-29.40229034423828,-28.6456241607666,5.597753047943115,-47.36128616333008,-19.620986938476562,-10.00721549987793,-1.409279227256775,-19.49281120300293,-9.91987133026123,-13.336150169372559,-10.944138526916504,-10.613994598388672,-9.181317329406738,-10.692521095275879,-16.626195907592773,30.115768432617188,35.25470733642578,-12.96981430053711,0.317909836769104,-61.909156799316406,-51.37491989135742,21.36443328857422,70.7971420288086,-30.41661262512207,-14.8209228515625,4.703613758087158,1.6251283884048462,-9.242034912109375,29.93182945251465,-14.95441722869873,-47.286746978759766,-41.02461242675781,-47.37736892700195,-57.27337646484375,34.3819580078125,-22.995088577270508,61.38556671142578,1.6144156455993652,-57.90599822998047,-47.5328483581543,-17.780202865600586,-13.60490894317627,30.21271514892578,-10.362730979919434,-23.145706176757812,-50.047969818115234,21.228717803955078,27.34886360168457,27.350177764892578,27.36005973815918,13.80321216583252,15.30390453338623,13.893743515014648,3.0714361667633057,37.5555534362793,-30.861486434936523,-22.419391632080078,69.472900390625,-16.93416404724121,-4.7135009765625,-12.928083419799805,43.10565185546875,-22.26304054260254,-4.840345859527588,-8.189826011657715,-5.6805572509765625,-35.7718620300293,-24.036710739135742,54.51527786254883,-17.554588317871094,-18.203922271728516,28.182302474975586,0.032692112028598785,0.3700476884841919,-15.142678260803223,1.7883446216583252,-3.62519907951355,-55.73767852783203,-30.72199821472168,-26.327621459960938,23.914098739624023,-35.4539909362793,-8.99549674987793,-11.5449857711792,-35.7017822265625,56.583518981933594,7.234272480010986,-63.44335174560547,-16.455036163330078,21.951231002807617,37.130821228027344,-31.38296127319336,16.90241050720215,69.61804962158203,-16.33009910583496,21.84868049621582,-43.4211311340332,-5.229710102081299,39.82464599609375,62.161678314208984,1.0317022800445557,-17.674482345581055,10.801004409790039,-0.09429814666509628,-25.318368911743164,-2.230090856552124,-31.66659164428711,-24.535858154296875,-11.387158393859863,-6.987361907958984,15.396210670471191,22.0770206451416,45.73001480102539,-26.54116439819336,22.910327911376953,24.297935485839844,-48.86747360229492,51.91259765625,-5.5338826179504395,-33.34931182861328,-56.421592712402344,-8.134471893310547,62.15778732299805,50.45171356201172,56.25650405883789,-15.157922744750977,-30.335729598999023,-44.64094924926758,31.237136840820312,30.50957679748535,0.5599631667137146,-17.38547706604004,-18.426990509033203,6.918362140655518,39.09416961669922,-20.454736709594727,-57.79949188232422,-1.8353626728057861,-35.0131721496582,-14.303077697753906,-60.67314910888672,-59.546634674072266,-3.7189714908599854,27.49854850769043,35.369571685791016,1.0751993656158447,-15.559115409851074,-16.73501968383789,-29.477981567382812,-55.71194076538086,0.6284787654876709,-24.422103881835938,-3.6728336811065674,-54.99312210083008,25.381458282470703,-26.51566505432129,-10.048250198364258,-10.201162338256836,-10.253355979919434,8.19304084777832,-10.251643180847168,13.504941940307617,32.74921417236328,32.86430740356445,-44.991859436035156,-44.991981506347656,-37.58625030517578,5.855894565582275,62.27926254272461,-37.584651947021484,-57.84444808959961,-6.820868968963623,-20.23293113708496,6.914268493652344,-18.18439292907715,-30.909610748291016,29.326190948486328,45.52977752685547,23.530210494995117,-30.47760772705078,-42.90774154663086,-16.81040382385254,-61.055686950683594,-53.00196838378906,-52.649658203125,33.63630294799805,-40.44423294067383,-56.707763671875,38.73683166503906,-46.900970458984375,32.9620361328125,32.74602508544922,12.073957443237305,20.795791625976562,-61.685855865478516,-26.2785701751709,-23.20962905883789,-42.76216125488281,68.81583404541016,8.724505424499512,-2.6720497608184814,13.350545883178711,1.5377825498580933,-1.023836612701416,-3.066246509552002,-31.245569229125977,18.49516487121582,-4.373390197753906,-46.951446533203125,-40.621604919433594,-53.85147476196289,-29.702407836914062,-17.37413215637207,8.769519805908203,32.5870361328125,5.877799034118652,-43.44133758544922,33.3200569152832,-20.63645362854004,26.188566207885742,19.32952117919922,-22.056058883666992,9.28769302368164,-40.6083869934082,1.6519896984100342,2.9138946533203125,13.388300895690918,-35.937171936035156,-12.026043891906738,-25.918569564819336,-27.270925521850586,11.621940612792969,-19.735544204711914,-18.99131202697754,40.02149200439453,10.125711441040039,6.700329780578613,-24.41790771484375,-59.20556640625,-59.282169342041016,3.554551362991333,44.571197509765625,-18.87017059326172,-45.12527847290039,-16.235305786132812,-8.177443504333496,-49.721160888671875,-55.79369354248047,-45.733543395996094,3.346302032470703,33.900611877441406,8.47099781036377,-50.80815505981445,35.04584884643555,65.1564712524414,-57.618743896484375,-57.92347717285156,-57.56345748901367,-56.774288177490234,-60.29570770263672,-57.86583709716797,-59.36320114135742,-60.74174499511719,-56.59801483154297,-55.923362731933594,-57.986473083496094,-56.62665557861328,67.16686248779297,-56.21147155761719,-56.71132278442383,-55.66447830200195,-59.016258239746094,-57.96992874145508,-21.8792667388916,33.467891693115234,-59.26029968261719,-23.792373657226562,-47.335472106933594,-3.4622809886932373,5.458398342132568,-17.084413528442383,-14.42187786102295,-14.809744834899902,2.6605143547058105,17.320537567138672,-38.0032844543457,-9.454670906066895,-24.147703170776367,-10.51366138458252,-32.57508850097656,47.45645523071289,13.910537719726562,-10.046919822692871,-28.822681427001953,-71.2877426147461,39.03643798828125,34.56157684326172,-3.5767297744750977,-2.7793312072753906,-49.540653228759766,-0.7747291326522827,-13.779603004455566,43.595062255859375,32.281646728515625,44.20085144042969,-35.280860900878906,-20.076478958129883,6.458325386047363,22.83565330505371,-59.141597747802734,1.3032753467559814,-6.816038608551025,55.07603073120117,-1.2926673889160156,-11.892139434814453,13.316115379333496,-7.622774124145508,-8.354670524597168,-29.01557159423828,14.01203727722168,-11.403088569641113,48.88329315185547,-25.631362915039062,20.80605125427246,66.4732894897461,10.897134780883789,7.418545722961426,40.61476135253906,1.8244733810424805,-17.94015884399414,38.78248596191406,3.5916800498962402,-25.995861053466797,-31.97391700744629,46.21833419799805,-11.793255805969238,-22.60956382751465,-2.6978647708892822,-14.538209915161133,-54.99665832519531,-45.354244232177734,28.7747745513916,5.446987152099609,-29.98746681213379,-35.67749786376953,-64.96688842773438,44.86570358276367,11.209714889526367,12.834531784057617,-60.80810546875,17.17911148071289,23.385330200195312,-48.59346389770508,69.22158813476562,-29.55698585510254,48.09243392944336,-10.344181060791016,-6.90662145614624,-12.680790901184082,-60.324493408203125,-30.144428253173828,57.68211364746094,-31.36366081237793,53.79098129272461,3.57708740234375,-15.13415813446045,-18.551197052001953,-13.015780448913574,-65.4900131225586,-21.83888053894043,-7.623420715332031,-24.8935604095459,-24.071704864501953,46.968658447265625,16.77025604248047,8.65943431854248,-0.363912969827652,-32.387962341308594,-22.34263801574707,-40.87161636352539,-51.647850036621094,-40.90888214111328,-40.96009826660156,-24.398033142089844,7.245894432067871,-27.28866195678711,67.97858428955078,43.85321044921875,-3.648780584335327,52.894107818603516,69.27725219726562,11.248757362365723,-43.08135986328125,-22.786916732788086,-5.149307727813721,-43.8847541809082,23.978363037109375,-26.85981559753418,-23.232521057128906,40.022735595703125,8.301797866821289,-12.715577125549316,7.37620735168457,-22.695127487182617,-28.26266860961914,-12.409435272216797,-6.127516746520996,-25.152156829833984,-4.218843460083008,10.11176586151123,-45.99799728393555,-30.448450088500977,-36.237239837646484,-10.324383735656738,-24.98695182800293,31.257070541381836,-30.63201332092285,-41.05767059326172,-7.239009380340576,23.903486251831055,-30.368024826049805,4.7060627937316895,30.63942527770996,26.724502563476562,41.197784423828125,-61.326351165771484,-4.662664413452148,10.913113594055176,16.93853187561035,-4.921879291534424,27.852436065673828,-14.801276206970215,12.838869094848633,-9.158679008483887,13.288556098937988,-0.43751147389411926,6.179901123046875,-12.297775268554688,0.21001523733139038,28.19699478149414,-19.104778289794922,-5.509958744049072,-11.236380577087402,-44.45889663696289,20.56678581237793,-41.248146057128906,-58.25804901123047,21.722444534301758,-28.7547550201416,-38.408546447753906,11.903655052185059,-5.316147804260254,12.007585525512695,-22.587167739868164,-36.8655891418457,-57.868431091308594,6.491058349609375,6.831514835357666,17.39642333984375,28.52325439453125,1.024482011795044,15.853063583374023,-49.78504943847656,-20.792457580566406,-1.5020967721939087,-7.370530128479004,-18.447114944458008,58.265750885009766,36.074520111083984,-17.882190704345703,-7.654006481170654,-13.645149230957031,-29.25091552734375,-9.794601440429688,-6.617663383483887,-43.35906219482422,-1.279565691947937,17.43824005126953,-41.334686279296875,21.264453887939453,15.899829864501953,7.258395671844482,7.096475124359131,7.233510971069336,-28.91822624206543,7.066871166229248,-10.095104217529297,35.2196159362793,-6.201292991638184,-17.725780487060547,-32.855682373046875,-55.680633544921875,28.780208587646484,34.017765045166016,-14.571224212646484,-15.368220329284668,-19.426422119140625,-46.685977935791016,-2.3276820182800293,26.764307022094727,41.942161560058594,-7.218655109405518,7.2200236320495605,-0.4889434576034546,34.02322006225586,-25.06285858154297,-0.5605428814888,2.019162893295288,-15.926239967346191,30.47613525390625,42.440582275390625,-3.4527487754821777,-49.58229064941406,34.1754150390625,-43.26311111450195,-8.094654083251953,-12.096288681030273,-31.82827377319336,66.62265014648438,-10.699219703674316,31.2518253326416,-5.682956695556641,-26.38330078125,-14.059041976928711,50.856143951416016,-65.47909545898438,-46.496822357177734,-35.59062194824219,23.65221405029297,-51.679603576660156,-26.063621520996094,-9.729628562927246,-17.914670944213867,-40.45721435546875,-32.155548095703125,-24.57996368408203,5.284217834472656,-49.849853515625,29.251890182495117,-28.62040901184082,-20.56527328491211,20.706541061401367,-36.72328186035156,-7.062652587890625,-9.86886215209961,13.799520492553711,-17.23468017578125,-3.9282588958740234,-46.413455963134766,-25.987613677978516,-5.736701488494873,-36.94315719604492,-3.7065131664276123,-25.442703247070312,4.484007835388184,2.953888177871704,9.749829292297363,-3.891028642654419,36.02871322631836,0.12965069711208344,30.017953872680664,22.749740600585938,22.87044906616211,6.330662250518799,-22.920421600341797,-63.25136947631836,-6.126341819763184,-28.576416015625,-46.91487121582031,-53.8508186340332,42.09498596191406,-9.232694625854492,-1.6675385236740112,7.949522972106934,-5.915381908416748,-31.86073112487793,31.45343017578125,-3.668168067932129,67.1447982788086,-55.91929244995117,4.042137145996094,29.88576316833496,-21.544923782348633,14.137624740600586,-22.729703903198242,-38.387577056884766,11.49882698059082,-25.279388427734375,48.71452713012695,51.795005798339844,6.7216949462890625,-32.923404693603516,-28.381927490234375,-4.923803806304932,-32.50556945800781,-20.73889923095703,-28.776437759399414,46.627498626708984,-46.556331634521484,62.790069580078125,68.83723449707031,14.075810432434082,13.66407299041748,-11.82771110534668,64.36404418945312,-37.067264556884766,67.65315246582031,-31.34809684753418,12.677945137023926,62.33805847167969,-0.8683390617370605,11.690899848937988,27.645305633544922,-4.918057918548584,-27.268157958984375,-60.19667434692383,10.10314655303955,1.7752846479415894,22.46691131591797,1.7026774883270264,24.971481323242188,-57.66124725341797,32.3204231262207,-9.93282699584961,-8.377449035644531,-8.38852310180664,16.881589889526367,-10.045246124267578,-9.264291763305664,21.939123153686523,38.41077423095703,27.556617736816406,0.0427820160984993,-13.002202033996582,-57.07362365722656,55.19380187988281,21.02797508239746,-7.778597831726074,-40.88893508911133,12.542740821838379,-19.101852416992188,-17.62649154663086,20.00386619567871,-17.018775939941406,44.957523345947266,-47.652828216552734,21.47965431213379,4.321866989135742,9.344765663146973,-0.26187488436698914,-6.377345561981201,-3.255112648010254,-40.843807220458984,0.9409518837928772,-27.705036163330078,-24.9960994720459,-27.97182273864746,-32.51741409301758,-23.901592254638672,-23.20348358154297,50.86790466308594,38.78541946411133,-11.134568214416504,-20.715335845947266,-31.59200668334961,-7.899302959442139,-48.73760986328125,31.063377380371094,60.484859466552734,-9.2466459274292,-13.440488815307617,21.625211715698242,-2.854201078414917,54.14817810058594,-38.610015869140625,12.589503288269043,48.80299377441406,19.112646102905273,-30.274328231811523,-56.353511810302734,-19.659345626831055,-7.171451568603516,1.109561562538147,67.16960144042969,-25.180908203125,30.556034088134766,12.465860366821289,30.581195831298828,-13.528240203857422,-44.44774627685547,34.602386474609375,1.314698576927185,8.340959548950195,60.3797721862793,37.00960159301758,-2.6511070728302,-17.290973663330078,-4.309747219085693,67.1664047241211,-0.5080427527427673,11.22196102142334,70.92215728759766,4.649219989776611,-40.21767807006836,-35.22681427001953,-2.198535919189453,3.8149404525756836,48.71407699584961,5.104544639587402,8.560599327087402,41.49834060668945,25.428110122680664,-6.293200492858887,-4.39345121383667,-9.221465110778809,69.13056182861328,31.4949893951416,1.3116040229797363,22.837217330932617,20.036453247070312,56.09490966796875,4.952125072479248,-35.12166213989258,8.408234596252441,-9.340746879577637,45.14577865600586,12.487187385559082,19.12125587463379,-25.271020889282227,23.64688491821289,1.7879881858825684,-65.93952178955078,32.515533447265625,-43.76217269897461,2.1466197967529297,28.69487953186035,34.948421478271484,-12.789971351623535,-0.970137894153595,-5.4081573486328125,43.98776626586914,-26.70690155029297,-0.34986406564712524,-12.801015853881836,14.80315113067627,18.683399200439453,-4.3832879066467285,-39.376914978027344,18.373476028442383,-46.24544906616211,-10.909553527832031,3.4496912956237793,-14.53710651397705,-2.1503853797912598,-27.67997169494629,-26.73764991760254,-55.70003890991211,17.99439811706543,19.68837547302246,27.32799530029297,12.758505821228027,-13.008511543273926,-7.2847113609313965,-8.05014419555664,-11.57962417602539,-7.863577842712402,11.462367057800293,-16.251846313476562,-4.47694730758667,16.766422271728516,37.48862075805664,-21.644868850708008,-9.847844123840332,-45.2493782043457,-2.2828421592712402,23.445280075073242,-2.9209306240081787,-31.313962936401367,-42.444644927978516,-7.992368698120117,39.16904067993164,-58.70035934448242,-33.12654113769531,-34.59873962402344,46.42805862426758,-9.847444534301758,5.327267646789551,-5.129087924957275,2.201711416244507,-55.93082809448242,-5.972414016723633,-19.971818923950195,-26.643787384033203,-36.433414459228516,-13.210326194763184,-31.894237518310547,-23.42323875427246,29.882312774658203,3.750913381576538,1.243049144744873,32.32624816894531,-17.77889060974121,-34.92801284790039,6.259044647216797,48.789695739746094,58.42021942138672,-19.067371368408203,-31.17776107788086,-3.210967540740967,-29.441829681396484,17.3831787109375,-49.70445251464844,-2.474526882171631,17.080059051513672,19.619007110595703,29.406089782714844,-11.04263687133789,31.0029296875,34.43586349487305,49.333438873291016,-10.25782585144043,25.308841705322266,41.60000228881836,-25.45633888244629,-38.43791198730469,42.57148742675781,-20.011825561523438,-11.47396183013916,43.15556335449219,-25.706300735473633,52.06822204589844,-16.033002853393555,-51.424259185791016,8.507028579711914,-4.736643314361572,-58.179176330566406,17.065093994140625,10.669777870178223,-27.382062911987305,-26.464181900024414,-31.291399002075195,-4.318343639373779,-23.098445892333984,-51.258121490478516,6.892826080322266,16.58858871459961,9.30915355682373,38.92456817626953,36.91782760620117,11.622281074523926,-5.914956092834473,68.07369232177734,11.415849685668945,-33.34775161743164,-13.032694816589355,41.07854080200195,1.554763674736023,17.178197860717773,6.382264137268066,-14.332832336425781,-22.293415069580078,9.324115753173828,-61.79319381713867,-13.506743431091309,-18.029199600219727,-30.957368850708008,-45.42119216918945,-17.457561492919922,-34.368141174316406,28.361469268798828,7.0402607917785645,2.619877338409424,34.63109588623047,-53.06399917602539,-16.982582092285156,57.578941345214844,-32.01668930053711,-17.530773162841797,34.640769958496094,11.425077438354492,1.7996973991394043,30.315752029418945,16.3350772857666,-12.981141090393066,27.257230758666992,-63.512001037597656,49.8806266784668,34.348480224609375,-2.6712498664855957,56.96443557739258,-49.86769104003906,-11.675697326660156,11.604677200317383,23.20893096923828,-24.9276065826416,-35.220375061035156,29.332271575927734,-1.7803255319595337,38.43277359008789,-42.09625244140625,10.624835014343262,21.533742904663086,29.128135681152344,31.904630661010742,12.840019226074219,24.709781646728516,-39.027244567871094,-15.947881698608398,66.24978637695312,-8.836628913879395,-26.284879684448242,48.1021614074707,14.578232765197754,57.128440856933594,44.34566879272461,40.52078628540039,-22.073522567749023,-5.647233963012695,-2.716444253921509,-16.241683959960938,-17.155942916870117,-52.42716979980469,-33.92437744140625,37.142520904541016,-38.34022521972656,29.421863555908203,-48.31165313720703,-13.040987014770508,-35.80962371826172,39.98146438598633,-1.050631046295166,-25.739347457885742,-19.898914337158203,-22.386268615722656,20.099681854248047,-50.29509353637695,-5.821601390838623,57.970489501953125,-13.168763160705566,2.8248672485351562,-47.29351043701172,-34.57111358642578,44.165260314941406,-22.08869743347168,-4.468569755554199,-19.6608943939209,-28.1962890625,4.011150360107422,-61.14226150512695,36.29623794555664,-13.67662525177002,-13.683907508850098,7.680298805236816,8.015463829040527,5.049909591674805,-32.603424072265625,52.83223342895508,-0.47936588525772095,51.1743278503418,-3.6437461376190186,-9.376955032348633,-34.42892837524414,-39.367881774902344,0.7352171540260315,-27.295907974243164,-7.83601188659668,21.761062622070312,-4.216242790222168,31.845548629760742,-40.36812973022461,29.032445907592773,-22.86880111694336,-15.397568702697754,13.286598205566406,29.130725860595703,-22.78400421142578,-21.262924194335938,-26.572887420654297,38.50217056274414,19.685386657714844,-6.5190558433532715,-27.401432037353516,11.100964546203613,-2.5307750701904297,16.467981338500977,-38.3092155456543,62.70362091064453,-8.387161254882812,-37.77611541748047,-34.626792907714844,-30.722990036010742,-27.104969024658203,-17.203445434570312,6.479729652404785,-23.405719757080078,24.29458999633789,36.864131927490234,-42.92367172241211,-39.10847091674805,48.57856369018555,-5.064383029937744,21.75838851928711,57.160911560058594,27.264162063598633,2.5295207500457764,-53.0265007019043,-15.458518028259277,-30.62772560119629,2.8510959148406982,21.432340621948242,0.972937822341919,34.92994689941406,-20.603498458862305,-19.13090705871582,-31.701038360595703,-36.72523498535156,-52.24374771118164,-16.999603271484375,-34.863616943359375,-18.394454956054688,-13.500907897949219,-51.18228530883789,-18.842693328857422,-3.1510748863220215,50.811031341552734,-25.550495147705078,-51.15397262573242,-3.7599616050720215,-36.49822998046875,28.75965690612793,-58.61650085449219,18.991806030273438,44.50440216064453,25.362010955810547,30.409189224243164,3.9916722774505615,3.8264355659484863,35.8194580078125,12.67314624786377,57.706939697265625,-38.94779968261719,-40.652488708496094,-19.25578498840332,-53.45507049560547,38.485435485839844,-40.671993255615234,-10.723328590393066,-20.182748794555664,45.703399658203125,46.976707458496094,-0.6955850720405579,7.5212531089782715,-55.63507080078125,1.2652897834777832,40.04240036010742,8.628375053405762,8.331473350524902,23.901206970214844,-3.5486695766448975,-22.126596450805664,-2.200443744659424,-55.739688873291016,10.53726577758789,-4.9934797286987305,-12.527447700500488,-6.820222854614258,4.105036735534668,0.14739187061786652,21.35330581665039,-30.182262420654297,-0.6792390942573547,-4.545548915863037,4.2294793128967285,-15.2271146774292,-14.23390007019043,58.290164947509766,-44.49740219116211,37.70508575439453,-7.775069713592529,3.7891082763671875,41.5816650390625,-1.8367282152175903,-14.879138946533203,-35.06578063964844,-29.015146255493164,-6.278357028961182,-6.11018180847168,27.08510971069336,30.35162353515625,11.191399574279785,0.879331111907959,-22.70340347290039,-6.9283552169799805,-5.023574352264404,23.593475341796875,-16.387643814086914,11.759891510009766,-30.121292114257812,-43.38895034790039,14.561613082885742,-6.4884748458862305,21.67502784729004,-1.1587787866592407,1.7788423299789429,-1.841867208480835,17.569141387939453,1.532602071762085,19.687734603881836,-14.214842796325684,-1.153220534324646,-22.880081176757812,-19.603212356567383,1.3672847747802734,-2.261342763900757,43.95812225341797,-60.97978591918945,-19.344032287597656,6.689006328582764,56.902740478515625,5.9445929527282715,41.23538589477539,2.67034649848938,-2.11273455619812,-55.61824417114258,-41.96500015258789,17.211124420166016,-19.14018440246582,-34.01176834106445,-16.578413009643555,4.290102481842041,-37.43340301513672,29.32529067993164,41.79392623901367,15.507225036621094,29.961755752563477,-34.65938949584961,-8.37736988067627,22.44968032836914,-40.31912612915039,-11.194011688232422,10.682819366455078,-23.00442123413086,-15.974336624145508,-28.379478454589844,-8.653308868408203,-6.109204292297363,3.538463830947876,70.35162353515625,6.218538284301758,68.11909484863281,1.3998297452926636,-8.086243629455566,-7.852295875549316,28.28374481201172,25.143802642822266,9.766225814819336,32.03311538696289,4.797597885131836,23.882247924804688,-45.251220703125,-18.444122314453125,-20.22781753540039,-10.65485668182373,-57.08537292480469,-16.815414428710938,-11.883818626403809,-5.820345878601074,-37.44091033935547,17.80257225036621,2.556069850921631,-0.26038116216659546,6.0227370262146,9.14278793334961,65.53943634033203,-3.20574688911438,41.19947814941406,-65.2720718383789,33.20707702636719,21.6512508392334,-7.42823600769043,1.508721947669983,3.8781864643096924,66.39556121826172,-3.616560220718384,28.462127685546875,-18.127607345581055,35.664546966552734,34.610416412353516,-31.88783836364746,-64.91437530517578,-6.421062469482422,28.48491859436035,54.50196838378906,-24.83617401123047,25.729646682739258,32.57912063598633,-45.17512512207031,-2.8174827098846436,47.21046447753906,67.97750854492188,46.48787307739258,12.431909561157227,8.769020080566406,-13.525860786437988,-15.750015258789062,-22.11456871032715,45.331092834472656,-59.15972137451172,6.102874279022217,-63.56296157836914,15.171602249145508,-46.324222564697266,-30.383663177490234,-26.87010383605957,-3.45125675201416,23.400434494018555,22.189699172973633,36.25738525390625,-13.073409080505371,20.676902770996094,3.1799275875091553,58.45243453979492,-21.5296573638916,-7.586801528930664,-7.827033519744873,-35.786006927490234,-16.816997528076172,12.088377952575684,-14.84041690826416,-44.101131439208984,-32.139286041259766,-15.474823951721191,-35.534339904785156,49.86643600463867,-2.5511672496795654,-6.546485900878906,-30.825044631958008,2.701542377471924,-36.79096984863281,0.7622693777084351,-25.606504440307617,26.482955932617188,-38.55390548706055,5.568298816680908,-55.981163024902344,-27.882232666015625,21.66044807434082,-5.025548934936523,-30.72984504699707,-35.18868637084961,18.943984985351562,27.586885452270508,18.133495330810547,-24.960308074951172,24.16297721862793,-26.162967681884766,29.976926803588867,28.817636489868164,-45.38487243652344,-62.81120300292969,-36.81364059448242,41.11838912963867,-17.6330509185791,-7.227055072784424,-10.841546058654785,16.001466751098633,-11.858667373657227,-44.55834197998047,-15.214266777038574,-1.3526060581207275,6.091218948364258,-14.208205223083496,-29.852567672729492,26.68545913696289,32.972869873046875,-11.655186653137207,1.6124879121780396,-0.6526445150375366,-31.962738037109375,14.828205108642578,2.9949092864990234,-18.188100814819336,-7.688525676727295,46.388851165771484,-29.102827072143555,16.96347427368164,-26.049375534057617,-44.88284683227539,-7.0615386962890625,-7.32429838180542,0.7097423672676086,51.107421875,18.577754974365234,57.75722885131836,-17.174022674560547,14.745941162109375,-43.10877990722656,-27.188013076782227,-17.89659881591797,-6.031890392303467,16.079383850097656,-2.8437483310699463,-52.31433868408203,1.968754768371582,-31.200273513793945,14.901684761047363,62.735774993896484,-6.103450298309326,-23.432392120361328,-23.621835708618164,-17.072214126586914,-17.938398361206055,-38.21564865112305,62.38015365600586,43.20137405395508,44.56733703613281,52.7783203125,7.1678056716918945,70.71090698242188,-22.426837921142578,-27.81639862060547,6.471122741699219,47.459312438964844,22.25640296936035,-36.5213508605957,10.200217247009277,51.74563217163086,8.313770294189453,-19.745281219482422,-33.447566986083984,32.77496337890625,27.889019012451172,3.2297072410583496,8.400406837463379,17.599836349487305,-43.57353210449219,12.21094799041748,-35.55503845214844,2.0492324829101562,46.367923736572266,-20.931489944458008,-17.814472198486328,7.728837013244629,49.09383773803711,-22.0128116607666,58.77390670776367,30.432706832885742,22.984460830688477,4.215640068054199,31.84144401550293,13.933876991271973,-13.934819221496582,-29.99093246459961,-65.178955078125,8.301657676696777,15.800553321838379,31.602060317993164,46.622108459472656,50.844139099121094,33.24739456176758,-2.177713394165039,-30.986787796020508,-28.266881942749023,-13.383441925048828,40.880435943603516,-3.39585018157959,55.36068344116211,53.58245849609375,-30.299007415771484,-8.10595703125,-3.4991745948791504,15.195816040039062,21.0831298828125,-23.761972427368164,42.48634719848633,6.761821269989014,7.679051399230957,60.309349060058594,-12.356729507446289,23.73920440673828,-24.283342361450195,-15.015435218811035,8.858464241027832,-3.669271945953369,-38.31455993652344,61.4499397277832,13.230208396911621,23.534543991088867,65.3918228149414,-4.541742324829102,55.63493728637695,-15.433235168457031,-45.06362533569336,11.902416229248047,20.54922866821289,-41.633079528808594,-30.53949546813965,-14.078275680541992,-46.954933166503906,49.06949996948242,-4.896055221557617,28.10626220703125,-2.717869997024536,-2.7852423191070557,13.123807907104492,25.991069793701172,6.747777938842773,-3.782670497894287,-65.50796508789062,-26.824993133544922,-20.540935516357422,36.373783111572266,26.861804962158203,14.17206859588623,-32.91654968261719,-30.119964599609375,16.661306381225586,14.867008209228516,27.07126235961914,-65.53255462646484,-55.69939041137695,1.0696665048599243,21.42904281616211,19.687843322753906,-15.927538871765137,11.605880737304688,-20.14340591430664],\"y\":[-27.961963653564453,-16.114803314208984,9.308144569396973,18.05820083618164,-5.919371128082275,47.87931823730469,13.889165878295898,-65.87765502929688,-24.93075942993164,-32.70836639404297,-23.693870544433594,-25.342458724975586,-15.252970695495605,-7.94700813293457,-7.151334285736084,30.902973175048828,-39.81772994995117,-10.787020683288574,25.212106704711914,-20.06553840637207,-34.055477142333984,-27.46062660217285,-5.928948402404785,36.676475524902344,18.10935401916504,32.49399948120117,-49.17982482910156,-17.76157569885254,2.3253424167633057,-1.1442807912826538,31.48900032043457,-32.27220916748047,-28.189716339111328,21.07224464416504,-16.78952980041504,11.09430980682373,-3.829155683517456,47.9730339050293,42.48573303222656,-19.103097915649414,45.63410186767578,14.15773868560791,-13.062110900878906,6.263820648193359,28.865123748779297,-13.052488327026367,-50.01553726196289,-6.336713790893555,29.287668228149414,-19.326974868774414,6.783904552459717,32.052223205566406,3.737393617630005,-0.5554423928260803,-58.553890228271484,-9.21774959564209,6.308417320251465,-49.141990661621094,74.15057373046875,-15.851334571838379,6.6324663162231445,63.1245231628418,47.12327194213867,-16.555986404418945,-23.764991760253906,-16.918760299682617,21.798418045043945,4.394674301147461,7.860248565673828,-4.3132805824279785,-1.7297890186309814,-39.79353713989258,44.90284729003906,-35.92783737182617,22.30366325378418,-62.13973617553711,-7.806150913238525,-72.9267349243164,51.20091247558594,-8.599493026733398,53.42430877685547,-26.38818359375,-65.334228515625,-52.70257568359375,-13.174903869628906,-49.46485137939453,-13.962017059326172,-36.729217529296875,-1.0106505155563354,-17.799423217773438,-39.58009719848633,-63.6436882019043,-11.15868854522705,-36.3998908996582,34.98121643066406,-15.808035850524902,-20.305749893188477,-47.48648452758789,-28.62239646911621,33.763877868652344,10.046305656433105,4.9788665771484375,52.72544479370117,29.037084579467773,-5.9648542404174805,-0.3638703227043152,-19.825149536132812,-56.62247848510742,-22.00823402404785,26.982824325561523,41.86265182495117,46.19724655151367,-34.46906661987305,44.64873123168945,-49.06208038330078,32.67100524902344,-2.48675799369812,-13.03041934967041,40.22625732421875,-2.6604535579681396,-10.019242286682129,-47.4453125,24.818994522094727,40.43459701538086,4.401590824127197,-8.064762115478516,12.366654396057129,20.91624641418457,38.48664093017578,10.142457008361816,21.722440719604492,29.059329986572266,-2.753098487854004,49.12690353393555,43.993778228759766,-9.556614875793457,-33.864776611328125,-4.523115634918213,3.7421696186065674,-70.68903350830078,11.39503288269043,48.485939025878906,41.66448211669922,-35.63217544555664,-8.305257797241211,18.69685173034668,-36.62873840332031,5.777083873748779,12.366146087646484,39.90204620361328,-33.322105407714844,-20.535911560058594,33.59421157836914,13.82090950012207,-50.91537857055664,-36.3881721496582,21.14853286743164,64.2100830078125,17.619373321533203,57.20417022705078,18.19386100769043,43.73020935058594,11.934226989746094,13.981156349182129,57.19194793701172,-33.608299255371094,5.706460952758789,-25.955541610717773,-15.907317161560059,25.180742263793945,-51.776737213134766,-36.95464324951172,6.605795860290527,-64.11724090576172,-9.396069526672363,2.4349820613861084,28.032602310180664,-66.19633483886719,37.567420959472656,51.861366271972656,-39.66462707519531,46.17338943481445,25.472606658935547,28.845233917236328,-50.099483489990234,26.251129150390625,51.708885192871094,20.998470306396484,-4.462714672088623,10.446895599365234,50.757659912109375,11.254057884216309,-31.193695068359375,-15.165632247924805,8.395164489746094,75.3012466430664,20.52568817138672,-10.292643547058105,-28.799360275268555,-34.97172546386719,-35.9260368347168,4.2478718757629395,-36.909114837646484,-10.966928482055664,-45.53334426879883,-44.634925842285156,42.89158248901367,-3.377981185913086,-36.527706146240234,9.984591484069824,-47.54631423950195,-25.80080795288086,24.231609344482422,66.49369812011719,33.17768859863281,11.576019287109375,17.579103469848633,6.750712871551514,41.34767532348633,-15.448022842407227,22.528526306152344,-23.738540649414062,-44.76393508911133,32.390357971191406,-17.80202293395996,-23.924236297607422,-38.537227630615234,-8.694144248962402,-53.577518463134766,64.73567199707031,5.520369529724121,16.831314086914062,-36.53583908081055,39.14677047729492,10.239233016967773,54.45447540283203,7.711409568786621,-39.374237060546875,30.28443145751953,12.344524383544922,-4.399457931518555,29.9084415435791,-53.70526885986328,-10.634936332702637,-35.88745880126953,14.162253379821777,-46.012393951416016,11.311029434204102,60.260372161865234,-28.835025787353516,-21.28985595703125,-19.001766204833984,-12.85125732421875,-26.354541778564453,-2.813204526901245,73.49080657958984,-4.710758686065674,44.4112434387207,59.88133239746094,-37.81886672973633,48.445350646972656,52.47146987915039,66.84554290771484,10.300065040588379,51.821083068847656,-33.41785430908203,-4.294159412384033,46.591793060302734,41.34444046020508,54.47478485107422,4.703180313110352,-26.191740036010742,13.609935760498047,-32.64581298828125,-20.792156219482422,-23.17980194091797,-31.64604949951172,19.4246768951416,-29.629520416259766,-4.074303150177002,33.8451042175293,-28.356109619140625,-35.82839584350586,42.66290283203125,29.198654174804688,6.552550792694092,13.69313907623291,39.692291259765625,-12.193207740783691,47.75257873535156,11.641373634338379,4.921972751617432,-36.91806411743164,-65.0312271118164,2.419280767440796,4.6749420166015625,-19.05545997619629,-36.371795654296875,-33.11692810058594,4.721164703369141,19.105417251586914,-9.816181182861328,-1.587766408920288,45.163944244384766,5.715357780456543,60.238433837890625,7.786489963531494,40.23267364501953,11.937772750854492,-50.36362838745117,-35.847599029541016,-74.30791473388672,-22.616071701049805,9.890514373779297,24.715707778930664,43.60901641845703,19.93199920654297,-33.76866149902344,35.79978942871094,2.5676488876342773,3.7670347690582275,-12.087482452392578,27.94110679626465,-8.809524536132812,3.6160919666290283,8.84600830078125,-33.607330322265625,-29.045635223388672,9.061914443969727,-31.934619903564453,-29.16358757019043,-52.544010162353516,-23.703886032104492,-73.03388214111328,-22.18806266784668,29.30635643005371,-30.99226188659668,-0.1362350434064865,-47.4681282043457,21.976072311401367,-51.776100158691406,19.364957809448242,19.128128051757812,-44.72601318359375,-11.314047813415527,38.73582458496094,19.149179458618164,39.00871658325195,-41.524864196777344,19.973371505737305,54.606197357177734,17.459321975708008,-64.01325988769531,-40.70053482055664,-9.16205883026123,-56.64839172363281,-48.08151626586914,9.261085510253906,-56.63167953491211,18.648052215576172,-59.820404052734375,-38.120609283447266,-1.1194123029708862,-28.79422378540039,52.24501419067383,29.803070068359375,-2.2494282722473145,-12.581430435180664,-56.16333770751953,51.862709045410156,57.61252212524414,-3.5850307941436768,1.4014729261398315,-20.037418365478516,-17.499935150146484,16.195093154907227,-32.654335021972656,4.839941501617432,-34.89570236206055,-33.58952713012695,-17.54280662536621,8.576542854309082,9.271981239318848,43.606353759765625,38.04117202758789,8.548057556152344,3.2317426204681396,-26.3028621673584,18.711450576782227,33.258548736572266,-26.427471160888672,-58.25577926635742,-9.730791091918945,-48.970699310302734,18.32137107849121,26.24616813659668,-18.960054397583008,-40.73291015625,5.581650733947754,-10.171591758728027,-17.7401180267334,-24.802291870117188,-14.453213691711426,68.60311889648438,74.03590393066406,33.22066116333008,24.585725784301758,25.168548583984375,-0.38701459765434265,-7.446007251739502,62.36541748046875,37.636962890625,29.850419998168945,-58.43400573730469,38.64582443237305,43.38319396972656,37.801422119140625,-30.977142333984375,-8.061686515808105,28.12566566467285,29.155080795288086,38.00160598754883,-6.1275434494018555,13.28149700164795,-35.69971466064453,13.564393997192383,-41.06905746459961,-65.36518096923828,45.87081527709961,55.7404899597168,-47.58304977416992,-31.263351440429688,-1.6600587368011475,5.2204813957214355,-6.544963359832764,25.308263778686523,32.758636474609375,40.89002227783203,-23.17743682861328,-10.242461204528809,52.820186614990234,23.905336380004883,-30.773088455200195,4.327204704284668,-33.31671142578125,-7.411801815032959,1.156829833984375,36.71369171142578,-32.2869873046875,18.304866790771484,-47.46974182128906,-10.02799129486084,-55.882144927978516,-42.92625427246094,-34.1359977722168,39.47857666015625,43.41007614135742,13.46433162689209,13.280570030212402,-21.44184684753418,0.6006978154182434,-8.405094146728516,37.662784576416016,-15.323186874389648,18.450376510620117,1.3658263683319092,-5.929592132568359,-15.634551048278809,-5.9136738777160645,-33.16727828979492,53.505592346191406,-10.809698104858398,-19.687395095825195,-40.88191223144531,20.452720642089844,-7.557886600494385,19.981369018554688,-12.193988800048828,-21.70526123046875,-23.198938369750977,66.65145874023438,-14.79603385925293,-28.176435470581055,15.630672454833984,47.751564025878906,-12.241528511047363,2.7741641998291016,12.083158493041992,-37.350006103515625,-65.76018524169922,49.150245666503906,26.11199378967285,43.90592956542969,34.77051544189453,-15.869790077209473,47.76663589477539,48.56552505493164,9.915970802307129,-36.67226028442383,-25.563936233520508,62.301448822021484,59.59804153442383,-52.85205078125,-6.814108848571777,-6.258358001708984,23.65309715270996,36.95613479614258,41.0063591003418,-13.5346040725708,30.12287712097168,66.10749816894531,-9.387194633483887,-39.619903564453125,-5.974757671356201,-10.19672679901123,50.84108352661133,-42.62818145751953,29.59261703491211,43.0175895690918,-53.19270706176758,-15.330421447753906,-47.82512664794922,37.79195785522461,49.931976318359375,-15.824477195739746,9.066264152526855,20.83277702331543,32.122501373291016,-17.936424255371094,45.5511589050293,-42.02293395996094,-44.390560150146484,-49.26811981201172,-1.4688305854797363,-12.37986946105957,46.4390869140625,25.68413543701172,-20.17052459716797,-19.362659454345703,-28.83148956298828,-11.281569480895996,41.54253387451172,11.61199951171875,22.864133834838867,-37.72188949584961,5.278027534484863,-30.975812911987305,-18.14177894592285,-6.161674976348877,32.12519836425781,45.87858581542969,-15.841772079467773,68.80133819580078,45.760986328125,60.62192916870117,52.599464416503906,-70.67447662353516,13.436483383178711,-41.239601135253906,-25.693851470947266,-58.22264099121094,-39.27641677856445,21.887584686279297,-10.25015640258789,-23.496225357055664,-23.50244140625,27.6840877532959,-44.29303741455078,-39.27836227416992,-70.57903289794922,-4.9132890701293945,-59.23812484741211,-21.540849685668945,-58.908477783203125,-39.145389556884766,28.755231857299805,-21.05536460876465,2.2561123371124268,72.04996490478516,20.034889221191406,-18.9423885345459,-42.80632019042969,-58.02983856201172,49.57344436645508,15.428956031799316,21.723651885986328,18.890378952026367,-0.5792403817176819,66.89505004882812,-62.519126892089844,-0.765088677406311,-41.320613861083984,7.099808216094971,39.34602737426758,15.19062614440918,-8.300891876220703,-50.36553192138672,-41.99541091918945,-37.45442199707031,48.672306060791016,44.31430435180664,12.515789031982422,18.7457332611084,24.7260684967041,-29.90960693359375,17.31244659423828,-26.038209915161133,22.130050659179688,-6.843413352966309,-55.864662170410156,-37.45722579956055,-55.18550491333008,-48.345645904541016,-6.938328266143799,32.937400817871094,61.172115325927734,-11.600253105163574,-37.34135818481445,-32.67348098754883,-40.2691764831543,13.573718070983887,-41.67856979370117,16.05760955810547,9.658102035522461,24.613113403320312,-39.394100189208984,28.40465545654297,-36.260440826416016,-28.811208724975586,-47.12944030761719,-25.763389587402344,-26.589994430541992,41.903324127197266,-36.68405532836914,49.502498626708984,4.716531276702881,-48.418609619140625,-5.337437152862549,-37.09052276611328,-8.058870315551758,37.4928092956543,12.242815017700195,5.508530139923096,-7.687251567840576,-7.409999847412109,61.792049407958984,-41.25917053222656,5.500066757202148,-24.50184440612793,24.51980209350586,51.84090042114258,20.074993133544922,-54.5731086730957,-35.04312515258789,14.794049263000488,-59.21139907836914,28.077104568481445,-40.357479095458984,-34.69735336303711,-31.537742614746094,9.66798210144043,-58.09896469116211,-2.77142071723938,54.72202682495117,59.185428619384766,-19.021259307861328,8.233648300170898,-50.41984176635742,-32.525657653808594,-36.68502426147461,59.36355209350586,1.3513197898864746,42.79566955566406,42.82583999633789,37.97359085083008,2.490961790084839,74.92000579833984,-11.818395614624023,31.039648056030273,-7.1797871589660645,-12.494237899780273,-63.316219329833984,55.096588134765625,0.768447756767273,5.827755451202393,4.078536510467529,15.358901977539062,-9.008615493774414,-37.558109283447266,-64.78734588623047,-64.7486572265625,-64.72354125976562,-65.19666290283203,-64.48833465576172,-63.75846481323242,-73.89747619628906,-33.88402557373047,-33.68043899536133,14.749246597290039,-19.693172454833984,62.43916702270508,-45.288936614990234,-41.53333282470703,-41.74681854248047,-41.386783599853516,-66.13712310791016,23.395545959472656,59.90687561035156,-61.853843688964844,52.898494720458984,20.47601318359375,16.920289993286133,-31.496932983398438,4.7512664794921875,43.696231842041016,-2.7663016319274902,-34.43816375732422,-25.053434371948242,-16.96575927734375,-25.083744049072266,-44.61766815185547,-46.70600891113281,-18.340486526489258,-32.1131591796875,30.8780574798584,-20.354711532592773,38.56206130981445,2.6180901527404785,-25.944828033447266,-4.62403678894043,-25.363367080688477,-22.70927619934082,-31.69969940185547,8.92234992980957,-35.949581146240234,-10.956321716308594,4.322412967681885,11.215721130371094,36.61368179321289,61.5032958984375,-28.67380142211914,-25.250219345092773,-34.07871627807617,27.718189239501953,29.51087188720703,-32.124542236328125,-57.383323669433594,62.61845016479492,11.100381851196289,-17.17513656616211,11.574326515197754,-21.39705467224121,-37.829627990722656,-62.03089904785156,-72.98220825195312,-18.59735679626465,51.72987365722656,13.503509521484375,-26.97165870666504,-51.39664077758789,-57.47392654418945,-42.7478141784668,-25.14765167236328,18.86323356628418,-18.01313018798828,-45.167301177978516,-9.397156715393066,23.306697845458984,34.786277770996094,-40.37002182006836,-55.31999969482422,-4.615106582641602,-51.15499496459961,-22.44385528564453,-2.7387607097625732,-43.49455642700195,19.368825912475586,-40.099308013916016,53.962669372558594,44.574825286865234,-18.68168067932129,-33.39659881591797,14.940781593322754,-30.44579315185547,0.5293076634407043,1.373869776725769,-17.312191009521484,-44.369850158691406,-3.733858108520508,42.6820182800293,36.798301696777344,57.20519256591797,14.254698753356934,32.17103576660156,-58.20563507080078,-30.644025802612305,4.880039215087891,7.977523326873779,-20.965749740600586,-10.626940727233887,7.554882049560547,49.183082580566406,-8.890046119689941,-42.9169921875,35.448585510253906,-28.220354080200195,6.387020587921143,-52.21565246582031,-26.74077033996582,44.96072769165039,-8.177528381347656,-72.65869140625,-18.38349723815918,14.34731388092041,14.955273628234863,14.56461238861084,2.296705961227417,4.95590353012085,-13.779443740844727,17.076936721801758,-11.032126426696777,-43.82038497924805,-66.33921813964844,-46.57371139526367,-19.911157608032227,-44.882572174072266,-51.607025146484375,-9.413002014160156,2.244920492172241,-13.104327201843262,34.3802604675293,-26.59024429321289,-70.2098388671875,-65.824951171875,52.59194564819336,-13.337926864624023,1.061916470527649,21.941617965698242,-44.54738235473633,-40.05619812011719,-10.551401138305664,19.966981887817383,51.84083938598633,-61.89812469482422,41.76022720336914,-23.304153442382812,-41.81432342529297,-1.0239789485931396,20.048419952392578,24.479019165039062,6.282101154327393,-10.132861137390137,0.30666351318359375,32.411678314208984,-60.681575775146484,-26.07980728149414,-10.329113960266113,5.083951473236084,21.487777709960938,34.72909164428711,8.319620132446289,-13.709199905395508,-20.35299301147461,0.5484073162078857,-56.409000396728516,-7.204891204833984,-20.498281478881836,-62.64420700073242,-18.046058654785156,-46.33004379272461,73.29026794433594,-6.033350467681885,44.852542877197266,-45.36199951171875,43.96495819091797,-10.457867622375488,29.543689727783203,-20.9829158782959,27.50395965576172,24.85547637939453,-27.75296974182129,-55.19105911254883,22.745052337646484,6.744359016418457,21.91936492919922,-22.815149307250977,-61.636863708496094,-33.48297119140625,-28.87632179260254,19.59107780456543,37.345298767089844,-53.04743194580078,-34.40558624267578,-35.606040954589844,31.334110260009766,-52.14036560058594,49.47909927368164,-17.226436614990234,45.40850830078125,-6.024555206298828,60.831356048583984,0.2992991805076599,10.759035110473633,-23.41619110107422,-20.332822799682617,-9.214653015136719,19.053035736083984,-15.38216495513916,14.949746131896973,18.116165161132812,4.506960391998291,26.058521270751953,6.661996364593506,33.11207580566406,-30.604738235473633,-24.231998443603516,27.002290725708008,19.337129592895508,-19.409555435180664,55.00300598144531,8.961186408996582,59.52656555175781,12.392037391662598,75.57806396484375,75.34661865234375,75.45537567138672,75.36955261230469,75.0823745727539,50.21120071411133,50.837989807128906,50.866451263427734,3.764826774597168,3.681936740875244,3.3413288593292236,4.3192667961120605,3.419278383255005,67.97274780273438,68.5337142944336,67.77838897705078,68.57681274414062,68.62541961669922,36.81156921386719,59.94655990600586,60.286949157714844,61.00741958618164,52.720096588134766,52.21873474121094,52.024471282958984,54.70142364501953,54.876346588134766,-13.202757835388184,-33.46747970581055,-33.489479064941406,-33.45035171508789,4.33065128326416,-40.56096267700195,-15.073404312133789,-10.679545402526855,-17.60890007019043,-50.861305236816406,-39.36955261230469,-39.20574951171875,-42.70690155029297,17.482433319091797,-23.125812530517578,-47.91320037841797,31.300111770629883,-57.4091682434082,-19.01093864440918,-18.949548721313477,45.490318298339844,53.122623443603516,-29.067646026611328,-18.148372650146484,-44.350406646728516,7.2003374099731445,18.407209396362305,-0.3972111642360687,7.029892921447754,-2.934906005859375,17.487497329711914,-13.504682540893555,-43.67471694946289,-42.76962661743164,53.53181076049805,21.79310417175293,-15.939544677734375,55.223758697509766,62.67915344238281,-35.369266510009766,-15.331853866577148,13.202373504638672,24.07703971862793,-31.097429275512695,-6.5721435546875,17.235960006713867,18.387744903564453,0.9307227730751038,1.0576037168502808,-9.025605201721191,-8.525474548339844,-3.183101177215576,-14.051224708557129,-13.995163917541504,-2.810858964920044,34.463497161865234,-14.873102188110352,12.779707908630371,21.543745040893555,17.043224334716797,-15.940089225769043,-63.64838409423828,-22.520044326782227,68.38162994384766,20.47591781616211,9.368040084838867,-5.5932087898254395,-7.7362895011901855,-23.799636840820312,-41.3233642578125,-30.904964447021484,-49.93649673461914,-2.574653387069702,-58.693904876708984,31.596363067626953,-5.465688705444336,14.385734558105469,6.862666130065918,21.85446548461914,-20.425922393798828,-59.966041564941406,14.324036598205566,22.190185546875,17.761619567871094,20.190540313720703,-1.222429871559143,17.694866180419922,-1.4629627466201782,-14.838598251342773,-12.974322319030762,-11.181732177734375,-12.448593139648438,-12.25994873046875,-23.663009643554688,37.44133758544922,28.31719207763672,41.01000213623047,59.23095703125,29.88207244873047,-30.35573387145996,-30.259950637817383,-20.113529205322266,31.919967651367188,59.576820373535156,-1.18490469455719,-1.3301235437393188,-10.25682258605957,-11.630924224853516,28.680194854736328,10.336198806762695,6.992910861968994,-16.977827072143555,-16.154996871948242,-55.59401321411133,-1.4878711700439453,26.244014739990234,-7.245146751403809,-47.61278533935547,-5.208581924438477,-4.63005256652832,30.90785789489746,-7.574640274047852,-4.170647621154785,-25.945720672607422,3.5262420177459717,41.541839599609375,14.337522506713867,-33.375553131103516,27.208641052246094,-7.329260349273682,39.96741485595703,-35.023048400878906,-10.48924446105957,-47.589630126953125,-9.374140739440918,-53.92610549926758,65.93120574951172,39.977935791015625,-7.784318923950195,39.844478607177734,-18.705291748046875,6.1763529777526855,-27.988439559936523,-72.9797134399414,4.40471076965332,40.16206741333008,12.706677436828613,-11.160579681396484,-39.8026237487793,-22.731651306152344,-0.6437458395957947,-16.874343872070312,-57.59881591796875,-54.28531265258789,28.872705459594727,7.583332061767578,-3.9955921173095703,-42.849021911621094,12.154924392700195,7.103954792022705,66.56150817871094,-4.9138875007629395,36.35483169555664,28.255844116210938,21.24993324279785,-8.112242698669434,28.60287857055664,-16.223054885864258,59.58405685424805,14.008715629577637,52.621768951416016,-28.927501678466797,54.52234649658203,-45.48595428466797,-29.85536766052246,-0.3574853539466858,-31.473329544067383,-5.137112140655518,-25.83803939819336,-36.607994079589844,-24.15134620666504,18.413236618041992,31.496065139770508,-4.399318218231201,14.085213661193848,-0.45774561166763306,-1.1739109754562378,-33.93218231201172,16.224609375,74.74564361572266,25.339540481567383,34.30683135986328,39.27359390258789,-58.62917709350586,2.415773391723633,-43.3553581237793,5.33972692489624,19.70591163635254,12.18249225616455,34.464378356933594,42.397560119628906,-18.08796501159668,-53.060115814208984,-52.87925720214844,13.334784507751465,-33.912742614746094,19.995624542236328,2.6933224201202393,-26.755306243896484,31.15561294555664,-65.17090606689453,-58.73225784301758,-21.087249755859375,-21.488073348999023,-21.563461303710938,-21.27533721923828,-21.512754440307617,-21.603164672851562,8.786273002624512,-6.423798561096191,72.03286743164062,33.42328643798828,4.7783203125,-5.976694583892822,-63.31523132324219,-18.98727798461914,9.52482795715332,48.743587493896484,5.65092134475708,5.645672798156738,-38.51383972167969,-40.707881927490234,-40.727088928222656,-41.199928283691406,-13.906062126159668,-13.905064582824707,-50.02353286743164,-49.39985275268555,17.872121810913086,18.288774490356445,17.842313766479492,18.298797607421875,11.851228713989258,0.1256304830312729,2.6590654850006104,52.37284851074219,52.11319351196289,52.18958282470703,2.889247179031372,1.6192004680633545,-33.29039764404297,16.82108497619629,0.5210690498352051,8.915867805480957,-44.88978958129883,8.174583435058594,42.54973220825195,-29.526626586914062,17.313209533691406,-50.133056640625,-59.783531188964844,-29.195295333862305,30.541183471679688,-51.21794509887695,-61.05006790161133,-30.028018951416016,8.912395477294922,9.130687713623047,9.126791954040527,9.042920112609863,23.543474197387695,31.998117446899414,-14.961875915527344,64.70509338378906,27.2435359954834,-36.63295364379883,-36.55280303955078,55.22607421875,-43.21321487426758,-28.442607879638672,2.687648296356201,22.868724822998047,26.24991798400879,-2.6286866664886475,-58.00075149536133,-54.18872833251953,-5.893435478210449,7.890338897705078,36.016990661621094,12.560409545898438,-1.0835518836975098,12.408045768737793,-8.711087226867676,4.321828365325928,14.17346477508545,51.62319564819336,57.45395278930664,-39.23789596557617,-38.828060150146484,-24.707700729370117,-42.608428955078125,-37.86070251464844,-59.53953552246094,-49.85357666015625,-63.10957717895508,-63.17402648925781,-63.447410583496094,-63.50481033325195,-63.080326080322266,-47.74858474731445,2.7397589683532715,1.708325982093811,77.6792221069336,-6.9869208335876465,42.90969467163086,38.74644470214844,-12.58913803100586,61.01188278198242,41.7146110534668,-9.382575988769531,60.68674850463867,11.557990074157715,48.939395904541016,-44.46040344238281,15.483555793762207,28.514911651611328,24.497947692871094,65.46296691894531,-69.87327575683594,35.987327575683594,5.593264579772949,-8.515362739562988,33.73884963989258,55.194339752197266,-20.91977310180664,-16.254886627197266,15.330082893371582,8.931532859802246,-18.375577926635742,19.181289672851562,-15.336105346679688,50.04386901855469,50.96458435058594,41.98877716064453,-58.7013053894043,-13.378983497619629,-8.086929321289062,-31.441007614135742,-39.53028869628906,48.43330764770508,-16.53792381286621,-70.21345520019531,-31.60182762145996,-31.912294387817383,40.52560806274414,-72.17069244384766,-72.356201171875,-72.64966583251953,-72.54829406738281,-32.635250091552734,-36.436927795410156,-36.734718322753906,-3.555774450302124,-58.450740814208984,16.998380661010742,-44.999122619628906,-54.48406219482422,-54.387542724609375,-35.21451950073242,6.394668102264404,-64.70655822753906,-1.704092264175415,-6.811010360717773,-57.374454498291016,-27.26082992553711,-66.0665283203125,-38.09111022949219,-43.85888671875,47.3718147277832,25.44259262084961,27.86968231201172,-61.17151641845703,-19.464662551879883,-43.5399055480957,38.17193603515625,13.996999740600586,-4.33835506439209,-60.90916061401367,14.141556739807129,42.78010177612305,-33.454227447509766,62.649715423583984,62.66008377075195,33.3469123840332,60.95518112182617,-19.06536293029785,-7.677727699279785,-37.40091323852539,54.70541000366211,-6.362622261047363,45.119056701660156,-21.150644302368164,60.38182830810547,11.526935577392578,16.509912490844727,13.620327949523926,-29.58859634399414,-25.569862365722656,-30.20393180847168,-52.457706451416016,54.785282135009766,54.794673919677734,-38.50505065917969,8.927659034729004,20.840648651123047,-21.674070358276367,-13.327610969543457,-7.694890022277832,-7.694596767425537,-10.078158378601074,26.984485626220703,1.6733624935150146,-21.67165184020996,6.8329291343688965,23.202600479125977,31.049169540405273,-27.977529525756836,3.495907783508301,56.131065368652344,12.64975357055664,12.731098175048828,-50.18959426879883,-50.455745697021484,-2.37127423286438,-3.8931119441986084,-3.7398595809936523,8.144301414489746,25.292009353637695,4.7824201583862305,4.58042049407959,1.8276934623718262,35.67728042602539,4.935883522033691,-20.08955192565918,55.81613540649414,-47.514495849609375,-42.76913833618164,39.3138542175293,54.374603271484375,-52.01799011230469,-33.8626708984375,-31.299837112426758,-63.48248291015625,61.49777603149414,59.77961730957031,17.021432876586914,48.63227081298828,-40.323081970214844,55.374385833740234,-6.65394401550293,26.913177490234375,36.17868423461914,12.434033393859863,-10.337550163269043,-10.586812973022461,39.40679168701172,-36.90931701660156,-17.95952796936035,-2.0890815258026123,17.37447738647461,28.64946746826172,-38.74180221557617,-46.48085403442383,34.564483642578125,-3.4873063564300537,14.640918731689453,-23.72189712524414,-38.28091812133789,2.897188186645508,-41.870765686035156,-0.1473890244960785,71.5370101928711,71.30750274658203,-47.83510208129883,30.79644012451172,32.87138366699219,35.669891357421875,5.57024621963501,4.8588128089904785,-66.50120544433594,44.9681396484375,9.519644737243652,-40.427459716796875,23.19881248474121,0.5763007998466492,2.5544886589050293,-45.559452056884766,-40.00200271606445,73.30290985107422,16.46698760986328,-6.3859381675720215,8.922653198242188,-6.5458197593688965,2.12565016746521,55.59157943725586,-0.19326844811439514,69.1562728881836,-34.473106384277344,30.629594802856445,-22.549650192260742,-64.4613037109375,-64.42346954345703,-21.79146957397461,-29.66498565673828,-2.485473871231079,7.779230117797852,-34.343017578125,52.309444427490234,30.741804122924805,43.89999771118164,-21.995197296142578,-33.620609283447266,-0.46109887957572937,44.46540451049805,2.4758689403533936,3.883242130279541,-57.721473693847656,-20.889142990112305,-47.873435974121094,-7.517187118530273,-64.74176788330078,-64.0410385131836,-64.10624694824219,-63.90867614746094,57.74070739746094,-14.204784393310547,-23.880542755126953,8.755149841308594,-16.81492805480957,-5.008316516876221,-16.681941986083984,-27.665102005004883,9.150753021240234,68.0419921875,5.7068257331848145,21.89891242980957,-11.630571365356445,1.9126684665679932,42.15506362915039,-37.99617385864258,-40.093414306640625,-24.322010040283203,-47.5803337097168,-52.486656188964844,-60.73562240600586,-23.187406539916992,-24.521501541137695,-33.62720489501953,-44.0668830871582,49.17750549316406,4.169855117797852,31.05550193786621,4.188904285430908,38.58238983154297,-27.105165481567383,49.582237243652344,-7.9960618019104,-28.230106353759766,23.70829963684082,-32.347068786621094,31.259145736694336,8.25558853149414,14.862168312072754,18.085176467895508,45.58144760131836,-10.59550952911377,44.7807502746582,-23.261371612548828,27.223676681518555,-5.429740905761719,-61.3094596862793,34.492740631103516,1.2988837957382202,36.571346282958984,35.22005081176758,-46.9781608581543,-37.79327392578125,44.00932693481445,8.846086502075195,8.469696044921875,27.07539176940918,-6.785080432891846,28.302888870239258,40.374874114990234,-22.921796798706055,65.54438018798828,-42.75069046020508,2.0288729667663574,31.360946655273438,-27.94264030456543,46.55477523803711,-0.028547650203108788,58.5955696105957,67.98104858398438,-55.55498123168945,-33.084468841552734,23.255495071411133,5.825357437133789,-1.6059377193450928,12.101202964782715,24.53168487548828,-59.28847122192383,-13.70743179321289,-25.785017013549805,49.19225311279297,65.48872375488281,18.681625366210938,66.67730712890625,-61.04765319824219,-73.05750274658203,28.798612594604492,21.856964111328125,61.47199630737305,48.93635559082031,34.00883865356445,-10.463935852050781,-44.34171676635742,15.61690902709961,-7.0345892906188965,-13.259420394897461,-23.52122688293457,12.046921730041504,-1.298592209815979,-41.232818603515625,-37.782127380371094,16.433197021484375,-33.10441970825195,18.004480361938477,-73.54630279541016,47.296974182128906,-1.183383822441101,48.91960906982422,15.646902084350586,-30.83183479309082,50.4161376953125,16.38576889038086,67.50321960449219,-15.533276557922363,28.299266815185547,-4.106537818908691,-4.155953884124756,26.914791107177734,-49.997032165527344,-47.95001983642578,47.636356353759766,7.4946370124816895,-39.90427017211914,13.74983024597168,-28.06005096435547,22.104324340820312,-9.163237571716309,-23.02686309814453,-12.614996910095215,-1.8629449605941772,30.668720245361328,54.36015701293945,14.980164527893066,44.94239807128906,-13.304777145385742,16.83092498779297,45.16449737548828,-23.307451248168945,-4.281887054443359,-15.137567520141602,18.324792861938477,16.857006072998047,-52.08057403564453,2.1671302318573,26.079803466796875,-12.769734382629395,-7.180425643920898,-10.333623886108398,13.649900436401367,-21.194671630859375,30.719755172729492,-27.99805450439453,-41.80522155761719,-65.7633285522461,-0.6963039636611938,6.753584861755371,5.2434916496276855,21.689058303833008,26.672195434570312,-18.041217803955078,8.322940826416016,-10.893733024597168,-34.19477081298828,-33.29882049560547,-40.514251708984375,-31.1568546295166,-45.761112213134766,-28.164215087890625,5.133144378662109,23.954994201660156,37.10539627075195,9.61709213256836,-1.5853191614151,9.682140350341797,-35.637855529785156,16.105159759521484,2.2101945877075195,-19.609128952026367,-19.095199584960938,3.5886964797973633,8.034829139709473,7.290696620941162,8.083183288574219,20.784482955932617,-11.211374282836914,-2.838658332824707,-2.8190455436706543,-0.6633219122886658,-5.543108940124512,41.29866027832031,-63.448936462402344,-63.54602813720703,-63.41413879394531,-38.06523895263672,-46.61589431762695,-39.6024284362793,9.27843952178955,-19.43404769897461,73.52288055419922,-20.304012298583984,-12.195734024047852,6.763063907623291,-1.2609153985977173,54.67789840698242,-21.834550857543945,-25.383913040161133,-52.058448791503906,5.812432765960693,-39.060455322265625,39.43163299560547,-41.6978645324707,-33.89610290527344,8.447530746459961,-2.292241096496582,6.717979431152344,-36.4305419921875,-8.814140319824219,-35.95682144165039,29.18982696533203,12.582558631896973,-0.6623346209526062,-62.95467758178711,65.62258911132812,13.070359230041504,3.8587679862976074,-31.640491485595703,-9.971391677856445,62.62515640258789,-41.70038604736328,-45.56096649169922,29.569576263427734,-17.436458587646484,38.36643981933594,-16.97451400756836,-55.28065490722656,65.25326538085938,-1.3342008590698242,50.51377487182617,-2.921950101852417,23.611282348632812,-22.676891326904297,15.79084587097168,-4.441599369049072,55.82730484008789,32.063472747802734,59.75162887573242,23.636930465698242,11.748214721679688,23.593297958374023,21.906801223754883,-32.717979431152344,23.683977127075195,-17.321889877319336,67.1588134765625,2.0406322479248047,-5.095396995544434,23.637065887451172,13.302200317382812,-8.937376022338867,-54.24054718017578,-23.021730422973633,45.7570686340332,-19.03799819946289,36.74002456665039,-1.0248299837112427,-50.24380874633789,68.62413787841797,-0.30839380621910095,-5.664922714233398,-5.3693413734436035,-35.52473449707031,22.158924102783203,-3.039367198944092,-16.495594024658203,18.154346466064453,-52.57062530517578,13.920279502868652,42.04896926879883,-39.297550201416016,4.730690956115723,-64.7329330444336,-64.8499526977539,-62.190757751464844,-65.08118438720703,24.283540725708008,-28.73197364807129,23.324514389038086,-4.290435791015625,-36.29414749145508,34.039649963378906,-59.72715377807617,43.57288360595703,48.444679260253906,-35.738731384277344,3.467165231704712,-60.42961502075195,-16.287214279174805,-40.735801696777344,-16.05641746520996,28.303470611572266,69.41329193115234,-6.499644756317139,-3.6402711868286133,14.546534538269043,48.46734619140625,-43.78010940551758,7.652872085571289,-55.24227523803711,-27.78364372253418,-53.46906661987305,-54.646060943603516,-21.134950637817383,-28.51742935180664,-28.19036102294922,-27.076889038085938,4.779599189758301,33.11832046508789,16.680889129638672,36.31017303466797,64.17024230957031,-16.622039794921875,43.667903900146484,-30.89609146118164,8.33202075958252,-4.437180995941162,-4.486037254333496,-3.9659531116485596,-15.530744552612305,-40.682106018066406,-30.47690200805664,-57.618961334228516,34.20029830932617,-53.04851531982422,14.714107513427734,-32.86973190307617,-57.505226135253906,9.455421447753906,27.79283905029297,-25.47477912902832,17.23042869567871,-23.724061965942383,-17.133056640625,8.805500030517578,-11.1392183303833,-18.887636184692383,-39.936798095703125,-39.95595169067383,-39.84530258178711,-18.5201473236084,3.9273769855499268,5.448246002197266,1.287785291671753,14.92690658569336,37.586055755615234,-2.5324747562408447,66.4923324584961,-71.75163269042969,40.41996765136719,-27.702238082885742,8.012810707092285,-51.19069290161133,-9.770354270935059,2.7686874866485596,32.21830368041992,46.121368408203125,14.106307983398438,-19.234331130981445,16.162139892578125,22.223575592041016,48.12398147583008,-5.481016159057617,-62.11837387084961,58.8083381652832,-11.063755989074707,37.451507568359375,-35.40681457519531,-0.16355516016483307,-0.17791979014873505,6.940145492553711,-49.141780853271484,49.87019348144531,21.939838409423828,36.13555145263672,19.67278480529785,3.6996843814849854,-29.00910758972168,-28.98504066467285,-36.72322082519531,-32.47976303100586,-73.04501342773438,-43.72220993041992,38.46662902832031,-25.74989891052246,15.956847190856934,18.62395668029785,4.849254131317139,0.9978441596031189,12.95340633392334,-4.094842910766602,-0.7621875405311584,42.228153228759766,38.548805236816406,7.185123443603516,15.845033645629883,8.109705924987793,-7.972127914428711,5.40904426574707,40.355281829833984,-46.333839416503906,-35.81766128540039,-35.74892807006836,-5.257440567016602,26.62142562866211,-22.43780517578125,-39.77521514892578,-39.74873352050781,23.834535598754883,-11.926405906677246,-42.67081832885742,36.03978729248047,-1.2059869766235352,-51.83872604370117,7.239535331726074,-5.492019176483154,27.812238693237305,-1.4771733283996582,2.60138201713562,22.800695419311523,30.42963409423828,-41.67330551147461,14.30046558380127,-9.411206245422363,-48.22902297973633,3.478355646133423,-9.600123405456543,11.866191864013672,-65.46499633789062,47.498512268066406,-63.595340728759766,-27.985124588012695,-18.367021560668945,21.918190002441406,4.563070297241211,2.3935322761535645,-8.957290649414062,38.84758377075195,-6.786045074462891,-36.011497497558594,-47.263309478759766,-16.415769577026367,49.922969818115234,49.71485900878906,-52.056644439697266,46.406166076660156,-65.04178619384766,-74.54815673828125,-55.55915451049805,-39.64964294433594,26.05133819580078,-6.778290748596191,62.30976867675781,4.7732954025268555,-24.162933349609375,-23.329851150512695,4.016079425811768,40.274497985839844,40.2646598815918,42.23162078857422,-21.677356719970703,6.393494606018066,-28.92506980895996,-27.98566436767578,-16.743995666503906,-32.5934944152832,-31.28554344177246,-45.74323272705078,11.561217308044434,-31.68327522277832,5.317979335784912,49.65122985839844,26.288908004760742,11.759748458862305,-30.368131637573242,-19.695268630981445,-4.707881927490234,-63.39165115356445,68.63513946533203,0.9560447931289673,26.654191970825195,4.781020164489746,-3.4325149059295654,-3.388568878173828,38.471893310546875,51.14273452758789,60.69252395629883,15.580289840698242,-15.537273406982422,-15.463641166687012,-13.92893123626709,31.721311569213867,-62.5243034362793,22.89238166809082,70.31764221191406,-37.24338912963867,46.40003204345703,-59.367767333984375,-41.486793518066406,8.17334270477295,-8.276859283447266,38.164520263671875,-36.45074462890625,-35.135135650634766,-1.1295945644378662,43.77804946899414,18.015432357788086,31.396860122680664,-22.879573822021484,22.96890640258789,10.305731773376465,2.5049710273742676,31.717195510864258,40.84002685546875,-5.940840721130371,-29.35318946838379,-16.667713165283203,25.41216278076172,-7.548471450805664,-0.6336255669593811,-33.287906646728516,2.5532732009887695,-17.120269775390625,22.06634521484375,-23.34583282470703,-8.443171501159668,-42.28069305419922,-44.16917419433594,7.593778133392334,7.6470947265625,7.393840789794922,17.968969345092773,-43.76334762573242,-32.8392333984375,-22.900575637817383,-59.28218460083008,-8.705318450927734,9.967630386352539,55.5501708984375,8.0013427734375,6.697513580322266,-55.692359924316406,-8.937142372131348,0.6016706228256226,17.61638069152832,-15.920329093933105,-26.8325252532959,45.06745910644531,-0.20072858035564423,38.015438079833984,-23.341461181640625,-36.884857177734375,76.45096588134766,-33.57999801635742,-30.087120056152344,49.570133209228516,1.8973006010055542,-26.300033569335938,-23.316843032836914,-22.34439468383789,35.25836944580078,36.601619720458984,61.508399963378906,8.082304000854492,18.959636688232422,-7.597569942474365,-21.02619743347168,15.914902687072754,-18.024311065673828,46.130897521972656,-33.514373779296875,22.773731231689453,17.703542709350586,-29.92613983154297,20.8478946685791,26.8984317779541,-26.889598846435547,-28.49549102783203,-36.59214401245117,20.955739974975586,17.927352905273438,-51.74334716796875,-33.19623565673828,-0.6586182117462158,-4.093453407287598,-54.33567428588867,-62.54158020019531,-33.27733612060547,-27.14691925048828,-7.666110992431641,30.27085304260254,10.990399360656738,10.854459762573242,35.26706314086914,-17.141931533813477,-40.41181564331055,-20.45256805419922,-33.682559967041016,27.940277099609375,16.01106834411621,48.372501373291016,-1.6745531558990479,42.60275650024414,-12.556201934814453,-8.56937313079834,-39.8025016784668,15.023179054260254,28.619461059570312,7.545114040374756,48.49851608276367,21.359281539916992,-24.68297576904297,-24.68482208251953,-0.8279339075088501,-28.39481544494629,31.57042121887207,-34.0509033203125,-49.31185531616211,-3.658978223800659,49.81779861450195,-31.73841667175293,8.504748344421387,42.140380859375,40.06969451904297,5.91699743270874,-18.004213333129883,45.024513244628906,-40.3677978515625,30.317501068115234,68.39708709716797,-44.469451904296875,32.45466232299805,-7.702488422393799,4.696056365966797,-45.32691192626953,-37.365509033203125,36.43001937866211,-48.440372467041016,44.52030563354492,-8.21692180633545,-4.044408321380615,1.4953498840332031,30.883272171020508,-4.1545867919921875,-50.91775894165039,-52.167518615722656,20.855995178222656,55.1240119934082,-33.78123474121094,-31.426761627197266,12.04173469543457,31.968107223510742,-22.558265686035156,-23.75199317932129,-38.582489013671875,-38.56275177001953,37.97386169433594,-15.990167617797852,6.389703750610352,60.55488586425781,30.761518478393555,-30.896345138549805,28.91421890258789,-4.291384696960449,-42.36099624633789,-36.68326187133789,17.613975524902344,34.8736572265625,30.99912452697754,-11.952220916748047,-40.9735221862793,-41.13917922973633,-41.47989273071289,-40.571170806884766,-59.76863098144531,-59.83898162841797,22.206464767456055,-11.030088424682617,2.2263128757476807,-8.131324768066406,56.19198226928711,-9.313135147094727,-0.09652692079544067,-47.669532775878906,-46.233238220214844,4.846560955047607,-32.96128463745117,-42.686126708984375,-39.35639953613281,1.9693608283996582,-49.30864715576172,18.291183471679688,-59.72666549682617,-32.15211868286133,-8.332209587097168,-18.65447998046875,-11.808024406433105,-1.2867354154586792,17.38208770751953,-44.12446594238281,-24.605318069458008,61.33920669555664,40.98244857788086,-0.6413487195968628,33.128543853759766,-25.412614822387695,-21.648380279541016,27.57124900817871,-9.46297550201416,29.42333984375,37.950157165527344,-63.05500030517578,-15.47676944732666,49.139957427978516,4.1820173263549805,25.52452278137207,-13.667556762695312,-15.967264175415039,9.947359085083008,14.257111549377441,9.957412719726562,40.948917388916016,60.319541931152344,-17.19101905822754,21.734859466552734,-9.588910102844238,18.986736297607422,15.947149276733398,-12.769367218017578,-5.885739326477051,12.946505546569824,7.2354278564453125,35.101661682128906,14.345803260803223,-39.880859375,44.741329193115234,-37.76655960083008,-44.74461364746094,18.319358825683594,-14.006622314453125,-19.258699417114258,27.582307815551758,-48.29674530029297,59.63045120239258,-34.58464813232422,54.643333435058594,47.321041107177734,-5.984739780426025,3.008014440536499,-10.784491539001465,36.8004035949707,-65.89624786376953,27.932575225830078,41.11333084106445,54.00520706176758,46.95402526855469,-44.96332550048828,10.348246574401855,-17.097440719604492,-21.787574768066406,12.310162544250488,65.54914855957031,22.562488555908203,-25.206491470336914,-13.320801734924316,-39.50110626220703,57.718910217285156,45.79792022705078,51.64438247680664,37.90092849731445,-27.596040725708008,-40.20730972290039,36.99360656738281,62.64879608154297,54.85095977783203,-4.304518699645996,-62.668975830078125,65.38278198242188,11.883434295654297,13.59057903289795,-30.44759750366211,14.957188606262207,-33.476112365722656,22.059480667114258,-26.118947982788086,11.359212875366211,-37.81148910522461,51.74934005737305,-23.220138549804688,18.681884765625,-17.43917465209961,-41.80464172363281,36.841705322265625,-16.046585083007812,12.738710403442383,6.659603118896484,-37.557167053222656,26.683849334716797,-4.397172451019287,65.42988586425781,57.79719924926758,40.49754333496094,41.830108642578125,7.4516096115112305,14.251060485839844,11.540409088134766,-55.57231140136719,-10.328226089477539,1.2942123413085938,22.562129974365234,-60.36634063720703,-23.766521453857422,-53.95252990722656,-0.22075754404067993,21.112241744995117,-13.81999397277832,26.56465721130371,18.066452026367188,-4.800851345062256,-32.53865432739258,-9.622281074523926,22.91004180908203,-12.986130714416504,65.05976867675781,13.03607177734375,-42.89276123046875,-49.47040557861328,-16.04216194152832,-15.774410247802734,-43.57675552368164,-20.439512252807617,-24.88971519470215,-16.056072235107422,-34.84846496582031,-25.08458137512207,3.113340377807617,-28.645933151245117,-19.04368782043457,20.20647430419922,35.08502960205078,15.18685245513916,52.695743560791016,4.785130500793457,-35.664920806884766,9.29190731048584,19.436298370361328,21.693254470825195,-31.15273666381836,37.274261474609375,9.22787094116211,26.70541763305664,-26.508821487426758,21.113006591796875,-14.490954399108887,58.55625534057617,42.03921127319336,5.829736232757568,0.6384363174438477,-22.439266204833984,28.59627914428711,47.93474197387695,25.036352157592773,-11.682914733886719,-25.86670684814453,-26.579519271850586,-51.945289611816406,-47.99030685424805,-8.31249713897705,-11.752938270568848,-4.960688591003418,-46.90228271484375,-1.5098401308059692,-29.537532806396484,-3.9002764225006104,32.265472412109375,-3.3145933151245117,70.29178619384766,-50.8790283203125,39.45525360107422,22.417882919311523,16.680164337158203,10.097329139709473,-15.220438003540039,44.19703674316406,3.002802610397339,-45.704769134521484,0.9817108511924744,60.76761245727539,31.55597496032715,27.559080123901367,31.577430725097656,12.014741897583008,-37.23942565917969,59.9712028503418,-7.885011196136475,-22.64661407470703,36.36000442504883,-6.3394904136657715,-15.721734046936035,9.128152847290039,8.263815879821777,-33.31364822387695,50.719791412353516,25.470287322998047,-10.052002906799316,14.703620910644531,16.6262149810791,-39.29492950439453,17.51710319519043,-43.45004653930664,41.31877136230469,-52.13262939453125,26.552581787109375,-35.31309509277344,-8.127041816711426,57.19728469848633,-4.372661590576172,-38.85881423950195,-46.29850387573242,-13.21409797668457,21.708858489990234,16.647706985473633,-23.07680320739746,-41.172996520996094,-26.28573989868164,-26.23088264465332,8.140387535095215,-11.49524211883545,-9.417065620422363,64.92802429199219,18.481693267822266,37.4256706237793,54.39765167236328,40.4737663269043,24.155933380126953,-46.84677505493164,20.665616989135742,18.486013412475586,3.5615546703338623,37.47285842895508,-11.93754768371582,48.423973083496094,-32.93661117553711,0.7749858498573303,-16.8334903717041,60.71530532836914,4.344204902648926,-10.989099502563477,-33.56560516357422,-32.601200103759766,3.508190870285034,-50.489585876464844,40.089962005615234,3.199632167816162,9.684531211853027,14.08421802520752,-62.01340866088867,-39.64091873168945,18.687475204467773,-3.5370421409606934,28.632925033569336,20.897071838378906,-69.887939453125,20.677156448364258,47.5810432434082,-19.30345916748047,-0.39862626791000366,-8.891083717346191,43.110923767089844,-10.652777671813965,-43.578216552734375,-37.78724670410156,-51.066532135009766,-25.292245864868164,-61.39142990112305,-51.377037048339844,43.739688873291016,-51.652259826660156,-20.309101104736328,-31.986589431762695,-26.400634765625,-8.69974136352539,-33.626365661621094,1.6330453157424927,28.942569732666016,-11.110068321228027,-7.382089614868164,-34.316795349121094,28.711910247802734,13.447213172912598,61.534645080566406,25.397388458251953,-51.32475280761719,-28.63663101196289,2.4412248134613037,16.294965744018555,68.56739044189453,36.23051452636719,-37.51594543457031,-40.21016311645508,-13.754720687866211,-57.37019348144531,-32.53120422363281,9.208760261535645,-7.311248779296875,-0.013473501428961754,9.418723106384277,25.27228355407715,-16.373064041137695,40.01871871948242,-16.43579864501953,-52.71440887451172,-6.998319625854492,-14.543662071228027,33.81406021118164,18.365055084228516,-52.72893142700195,-58.01195526123047,50.10730743408203,-34.99900817871094,74.09120178222656,48.9984016418457,35.793060302734375,-35.20246505737305,-65.92279815673828,-49.10141372680664,-14.079724311828613,5.754690170288086,18.049423217773438,0.37163200974464417,-13.93181037902832,-13.569130897521973,5.407974720001221,-1.4851372241973877,20.251264572143555,41.424522399902344,26.7817325592041,-27.336631774902344,27.120410919189453,-18.967164993286133,-30.11727523803711,-23.534801483154297,9.655560493469238,-16.681446075439453,30.72843360900879,-58.136375427246094,-55.74667739868164,4.500251293182373,-37.42491149902344,3.223459482192993,0.21574713289737701,30.698894500732422,68.81383514404297,17.718154907226562,54.505916595458984,3.177974224090576,12.281414031982422,-22.817811965942383,42.702552795410156,-32.59487533569336,-11.586864471435547,-41.48016357421875,33.74705505371094,22.473121643066406,42.89043426513672,-24.98916244506836,-11.056365966796875,-26.697620391845703,26.587291717529297,-7.130664825439453,41.94446563720703,9.480708122253418,-38.24790954589844,-2.5331506729125977,-32.34957504272461,3.431760311126709,-17.86505889892578,-7.491213321685791,65.76785278320312,67.68689727783203,-34.24361801147461,46.898773193359375,-0.5135203003883362,-5.637115001678467,49.84013748168945,-35.82868576049805,-16.509580612182617,-6.433663368225098,-35.01133728027344,36.171531677246094,-35.804473876953125,38.58757400512695,43.79496383666992,41.81904220581055,16.854549407958984,-42.98652648925781,-19.062915802001953,-39.8797721862793,42.969722747802734,33.67481994628906,-63.01875686645508,8.106677055358887,-56.427913665771484,5.866508960723877,39.198822021484375,72.76374816894531,46.82013702392578,-25.056617736816406,-60.56892395019531,-40.51712417602539,26.29092025756836,-21.45233726501465,-42.689842224121094,29.301565170288086,-7.239236831665039,-55.91173553466797,-35.28141784667969,-7.011122226715088,-62.7303466796875,20.57354736328125,28.806249618530273,32.4231071472168,19.691965103149414,25.430736541748047,-62.90448760986328,-60.077232360839844,54.630332946777344,22.784963607788086,44.78752899169922,-27.492321014404297,2.778245210647583,35.94291687011719,-49.84328842163086,33.46354675292969,-33.01943588256836,22.13795280456543,23.433002471923828,30.1540584564209,53.034263610839844,34.922935485839844,33.0423469543457,-63.32319641113281,3.181790828704834,-31.225826263427734,-24.34712791442871,10.205057144165039,11.690184593200684,51.87266540527344,-15.716660499572754,-23.48969078063965,44.925941467285156,17.666894912719727,-26.128070831298828,34.85750961303711,37.011260986328125,34.99727249145508,2.6894845962524414,-54.432926177978516,14.371500968933105,43.55580520629883,9.516088485717773,15.993359565734863,55.26433563232422,64.1763687133789,-49.85540771484375,59.034732818603516,38.34696578979492,-34.46787643432617,-14.681486129760742,-3.137561798095703,-73.1512680053711,-14.881682395935059,49.64560317993164,35.92003631591797,45.620201110839844,29.883026123046875,-20.043855667114258,2.282809019088745,-52.313167572021484,23.356760025024414,-15.959031105041504,42.220157623291016,-9.9988431930542,-8.816850662231445,-47.184120178222656,15.167510986328125,36.00892639160156,48.94007873535156,24.700986862182617,4.800417423248291,-13.819600105285645,37.613365173339844,-18.041250228881836,-9.45980167388916,7.06675910949707,-6.923031330108643,-73.34932708740234,-31.070980072021484,-30.965959548950195,7.868402481079102,-13.68668270111084,-20.079763412475586,-56.049320220947266,-31.34703254699707,15.577914237976074,55.00667190551758,-7.622488021850586,-15.69665241241455,42.56442642211914,-37.772945404052734,20.508928298950195,42.16643524169922,39.65707778930664,-25.60843849182129,19.552478790283203,40.667293548583984,2.3110077381134033,46.37775802612305,37.49128341674805,-35.7650146484375,44.31465148925781,42.120365142822266,-62.015411376953125,-25.84203338623047,-15.484369277954102,-22.211584091186523,-37.592628479003906,-52.244293212890625,9.789774894714355,34.44953536987305,-32.18771743774414,18.28996467590332,13.610772132873535,0.06858038902282715,11.619763374328613,-46.42109298706055,-6.948286533355713,6.093061447143555,-20.70473861694336,39.017024993896484,-48.28338623046875,38.54951477050781,49.20283508300781,-13.244627952575684,63.060630798339844,-52.038963317871094,-15.674541473388672,13.44926929473877,37.002288818359375,-1.3879661560058594,-23.658958435058594,35.380496978759766,-71.59571838378906,9.80280876159668,-11.18927001953125,-38.00261688232422,-69.99219512939453,33.09197235107422,22.505407333374023,-26.2015438079834,-37.72426986694336,24.8582820892334,41.465476989746094,-17.35682487487793,-28.675668716430664,-14.925419807434082,-34.09644317626953,-39.24474334716797,17.7755184173584,-34.003665924072266,-51.191162109375,10.246979713439941,48.93446350097656,-32.05381393432617,-12.779294967651367,13.965136528015137,12.97900104522705,-25.982572555541992,-24.66494369506836,-4.853696823120117,-19.042160034179688,-59.948692321777344,-14.065816879272461,-9.834650039672852,2.3893423080444336,-50.131187438964844,-48.231727600097656,6.488407135009766,23.98975372314453,30.86859703063965,-58.395503997802734,44.5074348449707,-9.204682350158691,-50.693634033203125,16.177242279052734,-41.202056884765625,-4.9334869384765625,-35.888465881347656,-56.586029052734375,31.811765670776367,27.12485694885254,20.4234676361084,-40.440101623535156,-18.43749237060547,-16.104602813720703,-43.88136291503906,16.161367416381836,-0.12447062879800797,-42.8315544128418,37.505531311035156,-5.241105556488037,6.096193313598633,25.765655517578125,-33.96472930908203,37.746437072753906,23.886354446411133,76.22981262207031,-34.62761306762695,43.24263000488281,67.5713119506836,36.7245979309082,-55.78139877319336,57.22498321533203,14.722131729125977,8.79373550415039,60.085418701171875,21.053281784057617,-9.488810539245605,21.225616455078125,-21.078285217285156,19.487825393676758,-1.1965054273605347,-29.358564376831055,55.36819076538086,-41.14481735229492,42.914146423339844,-17.688234329223633,-17.6075382232666,-70.16952514648438,19.748292922973633,42.649513244628906,17.402442932128906,-41.24147415161133,-6.28255558013916,-30.72174835205078,-0.41130173206329346,31.341047286987305,19.041662216186523,-49.40163803100586,6.661742687225342,-49.68021774291992,28.283790588378906,35.60393142700195,18.463623046875,-46.09488296508789,8.927936553955078,32.866634368896484,-41.833133697509766,32.087745666503906,43.044097900390625,-9.442288398742676,0.6783426403999329,-1.1505467891693115,58.14824295043945,22.9693603515625,-6.555335521697998,-31.15438461303711,18.41971206665039,-34.216739654541016,36.39483642578125,-6.926518440246582,35.844337463378906,16.486614227294922,5.063084602355957,-1.5865119695663452,-26.847000122070312,-11.86523723602295,55.055564880371094,-11.100651741027832,-15.114128112792969,-0.05413477122783661,-5.287614345550537,-5.06997013092041,-13.092267990112305,-4.234335899353027,21.19434928894043,-13.846696853637695,53.76817321777344,1.1794871091842651,-10.398200988769531,-39.37972640991211,-36.59046173095703,-17.953800201416016,43.906166076660156,1.7269086837768555,55.243221282958984,23.775482177734375,-16.9765682220459,-30.474050521850586,40.9760856628418,31.88025665283203,-13.174775123596191,51.472660064697266,-47.08677673339844,6.558332443237305,-21.798866271972656,13.08208179473877,5.566342353820801,-11.692618370056152,-36.70059585571289,-19.36522102355957,40.23786163330078,16.903411865234375,26.222293853759766,8.960732460021973,42.509098052978516,28.669971466064453,41.25114059448242,57.703269958496094,9.045263290405273,15.056571960449219,-19.523406982421875,17.135047912597656,26.109193801879883,31.58704948425293,32.64014434814453,-8.22082233428955,-0.5686436295509338,66.26298522949219,-69.86988830566406,6.274005889892578,49.27734375,18.083749771118164,18.329036712646484,-43.56298828125,35.9510498046875,3.7713193893432617,39.659332275390625,11.042851448059082,16.97706413269043,6.199037551879883,11.936052322387695,-23.267309188842773,34.17837905883789,-3.1672122478485107,0.3730531632900238,65.3052978515625,3.5254061222076416,-10.857335090637207,-11.115803718566895,-29.261775970458984,-63.605621337890625,27.05741310119629,-1.5112298727035522,26.82050895690918,-1.9893614053726196,-20.46537208557129,-34.18301773071289,-64.66944122314453,54.31739807128906,48.03593063354492,1.3857622146606445,31.88572120666504,0.3946673274040222,-27.40348243713379,4.993365287780762,29.037155151367188,-25.51882553100586,-28.40473747253418,-18.00213623046875,-0.7207124829292297,23.304725646972656,-2.2580325603485107,46.97800064086914,6.489811897277832,14.116851806640625,42.18813705444336,-3.966826915740967,-42.362586975097656,9.494646072387695,-16.15452003479004,-22.396347045898438,11.89706039428711,18.428977966308594,-36.32553482055664,-17.279159545898438,4.360945224761963,4.263667583465576,15.419864654541016,36.127784729003906,3.698781967163086,-3.799452066421509,47.79011154174805,-23.95079803466797,-32.00547409057617,7.861745357513428,38.9785041809082,57.5040168762207,-3.326009511947632,16.70890998840332,17.47427749633789,-27.087295532226562,2.73635196685791,-3.0012667179107666,-18.966604232788086,-26.773542404174805,-34.97933578491211,25.232990264892578,-18.041915893554688,62.67015075683594,50.16291809082031,-33.996337890625,45.35435485839844,6.964156150817871,-17.965307235717773,-16.672815322875977,30.492895126342773,27.412385940551758,-0.06875857710838318,-52.28844451904297,36.0473747253418,-46.0799446105957,37.524147033691406,1.029624581336975,-31.806304931640625,-5.692808151245117,-3.382269859313965,9.091626167297363,16.546627044677734,0.18087467551231384,5.240883827209473,49.74555969238281,27.159433364868164,20.77303123474121,-6.2300124168396,41.595977783203125,71.26669311523438,-47.77377700805664,9.278902053833008,-59.07073211669922,55.00262451171875,59.46712875366211,-31.2515926361084,24.752038955688477,48.109375,-37.68680953979492,56.64651107788086,57.44917678833008,21.71150779724121,-24.000696182250977,-8.34673023223877,-8.530365943908691,33.21419906616211,5.987973213195801,-21.8952579498291,59.518375396728516,26.69397735595703,-8.78111457824707,-27.573806762695312,20.829120635986328,31.83633041381836,-36.01041030883789,-30.973066329956055,-27.488842010498047,-7.434106826782227,-39.502288818359375,-17.082298278808594,-17.679893493652344,-1.334193468093872,45.17130661010742,-7.417036056518555,-47.80826950073242,34.62778091430664,13.605315208435059,2.3942294120788574,62.16944122314453,-17.170578002929688,7.1698408126831055,12.19147777557373,73.00855255126953,49.26183319091797,26.769001007080078,37.80722427368164,-22.327877044677734,22.302444458007812,73.4846420288086,33.335330963134766,14.567850112915039,-30.644575119018555,-29.01527976989746,-40.903934478759766,-26.86963653564453,47.20441436767578,-4.392399311065674,-18.982316970825195,11.68196964263916,67.79122924804688,35.134307861328125,37.91931915283203,-20.185291290283203,55.272457122802734,62.022010803222656,-21.704330444335938,32.32257080078125,-5.839297294616699,31.48887825012207,42.770957946777344,7.345305442810059,-27.677207946777344,-42.78152084350586,-8.668171882629395,-18.899044036865234,11.543913841247559,-3.8260905742645264,-19.852581024169922,58.71140670776367,25.729829788208008,-25.821273803710938,9.10138988494873,21.120697021484375,-41.67123031616211,-0.3542407751083374,-30.19123649597168,16.39983367919922,2.132457971572876,30.040668487548828,5.460686206817627,-7.422435760498047,-47.197696685791016,-16.460073471069336,16.819162368774414,-26.482067108154297,35.00346374511719,-48.0784797668457,42.582462310791016,8.026388168334961,45.05088424682617,22.96206283569336,29.338348388671875,-33.69953155517578,4.422788143157959,-13.847637176513672,51.87317657470703,-25.489830017089844,-55.22358703613281,-47.486488342285156,-31.05069923400879,59.36378479003906,31.46689224243164,-36.27009582519531,-16.21970558166504,28.167400360107422,-64.5107421875,-63.83696746826172,-63.618736267089844,-35.64026641845703,44.71560287475586,-12.025354385375977,48.65381622314453,14.22248649597168,35.541160583496094,56.27268981933594,-62.595855712890625,-60.894222259521484,61.39436340332031,-43.84428405761719,2.3996658325195312,-61.02067565917969,16.457529067993164,-18.474912643432617,19.114879608154297,3.1375508308410645,1.500996708869934,-3.6987996101379395,45.36262893676758,25.021099090576172,-40.894378662109375,-35.6236686706543,-47.50070571899414,-23.04156494140625,-51.220924377441406,21.13169288635254,-57.9769172668457,-6.793656349182129,-56.77378845214844,-56.768646240234375,53.651424407958984,-41.0325927734375,-39.95463943481445,-33.51998519897461,-52.593753814697266,-15.212899208068848,-41.47500991821289,-15.215855598449707,-39.13066101074219,3.234678268432617,49.18975067138672,71.8199462890625,31.593761444091797,23.509599685668945,36.48051452636719,49.419189453125,-5.551994323730469,-54.09821701049805,-0.46648430824279785,-26.629072189331055,-23.401859283447266,50.93638610839844,55.571510314941406,-59.85041809082031,-27.278846740722656,-23.29483985900879,-9.699586868286133,-48.48286056518555,-10.928619384765625,38.8165168762207,-16.44475746154785,-22.905155181884766,-38.59113311767578,-28.38779067993164,-39.497161865234375,-15.921133995056152,19.77703285217285,-32.60099792480469,9.192985534667969,-32.28249740600586,45.24211502075195,-17.86888313293457,-39.79404830932617,-53.55461502075195,39.302364349365234,39.04988098144531,21.110105514526367,-47.85622787475586,-38.38875961303711,-42.56222152709961,40.54178237915039,26.162155151367188,-5.204998016357422,-12.235087394714355,29.433486938476562,50.94695281982422,36.2131462097168,45.6955451965332,-12.523921966552734,-34.20427322387695,-52.72323226928711,50.057193756103516,-28.014972686767578,-18.034889221191406,-2.221080780029297,47.657901763916016,-25.11872100830078,48.944435119628906,-60.552833557128906,-26.717973709106445,-47.70433044433594,-43.858909606933594,4.675191402435303,-62.76909637451172,22.38007354736328,-35.88725280761719,-17.88235855102539,22.42329216003418,29.182296752929688,-18.142480850219727,-39.874847412109375,-10.86307430267334,0.4054020941257477,-35.41628646850586,-10.002477645874023,-3.321627378463745,6.209133148193359,26.2852840423584,41.81904602050781,27.0358829498291,4.9440717697143555,-2.28206729888916,-32.28721237182617,32.65331268310547,-39.76768112182617,-27.141162872314453,38.76905059814453,38.87152862548828,-20.520837783813477,-45.27389144897461,-16.57570457458496,43.914161682128906,-57.36497116088867,-33.85665512084961,-18.34474754333496,17.30617904663086,-16.636310577392578,-16.802583694458008,7.140902042388916,31.765230178833008,6.617910385131836,-37.80994415283203,-11.682589530944824,-22.22530746459961,41.135379791259766,54.215965270996094,-13.25101089477539,-62.154380798339844,32.63986587524414,3.202538013458252,-21.77577781677246,56.152381896972656,8.865856170654297,33.70530700683594,-59.138004302978516,28.59438705444336,-15.953506469726562,-34.07502746582031,-51.68375778198242,1.7755205631256104,-30.640058517456055,-11.341265678405762,26.78362464904785,30.722393035888672,2.750885009765625,-55.47428512573242,-29.17950439453125,-17.867591857910156,29.53038215637207,1.2564564943313599,-38.34144973754883,37.9275016784668,-50.276023864746094,39.314781188964844,14.377561569213867,-54.8447265625,-32.485816955566406,2.6331939697265625,-6.837646961212158,-36.06673812866211,-20.998449325561523,28.294652938842773,7.3726019859313965,47.218387603759766,-13.40807056427002,6.355218887329102,66.87169647216797,51.73368835449219,11.56279468536377,-46.3958740234375,27.17826271057129,-56.76807403564453,13.305553436279297,33.089534759521484,44.184783935546875,44.348514556884766,-19.838401794433594,-34.45196533203125,-9.95250415802002,-21.385133743286133,-52.939659118652344,-39.79833984375,21.8909854888916,-35.85978317260742,-41.54502487182617,-1.0541951656341553,-11.394184112548828,13.709900856018066,-16.54787826538086,7.337987422943115,68.40736389160156,20.64510726928711,20.230331420898438,-9.770479202270508,17.342628479003906,-1.0398510694503784,6.463723182678223,44.905616760253906,5.473726749420166,59.565345764160156,-8.23003101348877,46.157440185546875,-22.72951316833496,67.8331069946289,41.76420974731445,-69.42123413085938,7.803166389465332,31.967365264892578,59.99221420288086,7.876978397369385,45.062721252441406,-8.521085739135742,26.765466690063477,-40.075347900390625,18.803747177124023,-10.923965454101562,-19.85045623779297,6.163458347320557,47.00225830078125,-48.93427658081055,-24.983797073364258,-11.809181213378906,-58.389923095703125,-32.108062744140625,14.101579666137695,52.27832794189453,16.669111251831055,-21.909515380859375,51.75283432006836,-21.974939346313477,-9.768798828125,-5.295055866241455,-7.608194828033447,-8.80919075012207,-20.529754638671875,-41.376914978027344,13.458526611328125,0.1299314945936203,23.355731964111328,16.75417137145996,-1.9046852588653564,11.853922843933105,-44.418601989746094,-5.792262554168701,54.98139190673828,-15.685035705566406,-36.74632263183594,37.637874603271484,-19.868104934692383,-20.633869171142578,-21.79736328125,2.1354119777679443,-47.527706146240234,-52.23991394042969,36.98060989379883,31.11844825744629,-1.971003532409668,-48.18600845336914,-24.10926055908203,4.307758808135986,-33.19596862792969,59.654537200927734,6.123907566070557,-72.03067779541016,30.74588394165039,-25.466819763183594,-37.25031661987305,34.512664794921875,-9.253704071044922,-25.83608627319336,5.999922752380371,-35.70755386352539,-21.974191665649414,-31.80502700805664,-0.7169317007064819,-35.709774017333984,-1.962465524673462,-46.89598846435547,15.781553268432617,-22.822145462036133,-56.344669342041016,-3.0517125129699707,19.506643295288086,-10.171883583068848,41.89112854003906,-7.273157596588135,-26.08591651916504,15.068414688110352,10.87940788269043,-16.750072479248047,-20.176158905029297,-22.815011978149414,7.222257137298584,-65.24726104736328,-2.6381304264068604,31.9572696685791,-60.81547927856445,-62.21804428100586,-30.105438232421875,-45.66179656982422,19.186017990112305,11.9899320602417,-24.208669662475586,-31.195337295532227,-38.71767044067383,23.042743682861328,-33.400333404541016,-24.027761459350586,-0.7213431596755981,5.182214260101318,50.19740676879883,-25.937084197998047,4.684176921844482,-42.7922248840332,-58.119606018066406,-56.06006622314453,-44.09773635864258,-25.118213653564453,32.41971206665039,-25.866071701049805,-6.553536415100098,1.6262834072113037,-54.178504943847656,-11.165692329406738,47.800209045410156,16.07545280456543,16.537662506103516,51.325416564941406,-37.89494323730469,5.008562088012695,28.60601806640625,64.63966369628906,-43.943843841552734,-28.531164169311523,16.115659713745117,-44.394683837890625,2.1960997581481934,-43.19244384765625,36.24885559082031,-11.580628395080566,-40.449764251708984,-71.41209411621094,-61.668495178222656,-10.42800235748291,-18.053245544433594,-2.482067108154297,-25.171083450317383,-8.571892738342285,-47.35512924194336,-47.152339935302734,-47.87038803100586,41.06361389160156,-18.21732521057129,-6.189810276031494,34.5232048034668,-26.999982833862305,11.834749221801758,15.580876350402832,-15.430807113647461,-15.175830841064453,-19.392494201660156,-12.911944389343262,40.39813995361328,-45.91328811645508,-44.7322998046875,-73.13536834716797,23.867610931396484,-61.97920227050781,15.893538475036621,-49.24216079711914,27.859569549560547,12.687602043151855,29.014907836914062,17.969684600830078,77.67806243896484,10.072942733764648,18.357995986938477,-74.7918701171875,32.61024475097656,9.966111183166504,-29.224807739257812,9.732264518737793,-8.653545379638672,-25.860952377319336,-34.07271957397461,2.8130908012390137,-72.96649932861328,-27.96661376953125,3.937224864959717,-43.77947998046875,59.396575927734375,-8.639039993286133,61.198177337646484,39.45000076293945,-10.95107364654541,-53.922725677490234,-2.8731298446655273,12.974220275878906,1.1792436838150024,6.0309367179870605,-20.297229766845703,-11.091751098632812,0.254625141620636,-35.183128356933594,-15.345999717712402,-69.95442962646484,-22.06447982788086,59.993839263916016,-22.258852005004883,-7.903075218200684,38.355186462402344,-14.706223487854004,19.344358444213867,-24.776634216308594,-24.82236099243164,37.52799606323242,11.622335433959961,17.809213638305664,6.3629889488220215,-48.756813049316406,31.581266403198242,3.239731550216675,-48.23398208618164,40.329654693603516,45.08353805541992,26.00490379333496,-1.3627071380615234,-12.423558235168457,-14.97812271118164,-54.617523193359375,15.763925552368164,39.88783645629883,9.474710464477539,-45.42160415649414,-23.395952224731445,10.499739646911621,16.13962745666504,16.669063568115234,-35.41847610473633,-46.813873291015625,-40.168331146240234,-43.78572082519531,-5.553636074066162,-18.76117706298828,-31.199254989624023,33.38568878173828,41.91876983642578,-15.683884620666504,-38.84071731567383,13.67326831817627,-35.366207122802734,-13.246537208557129,-25.034194946289062,-49.905860900878906,20.232297897338867,-10.857192993164062,31.566984176635742,-10.318277359008789,62.2990608215332,26.465465545654297,-44.280029296875,44.64834213256836,51.53851318359375,-3.839656114578247,66.52293395996094,68.47966003417969,23.928815841674805,2.6994996070861816,9.5396728515625,17.224849700927734,43.72603988647461,33.26353454589844,64.41566467285156,14.56596851348877,-39.16809844970703,-48.5673713684082,-42.355552673339844,4.854459762573242,21.25902557373047,-45.43724822998047,19.073928833007812,-15.91138744354248,-17.95589828491211,44.800865173339844,-27.811960220336914,-31.04547882080078,1.1457440853118896,-31.823389053344727,64.17938232421875,7.7146172523498535,50.984500885009766,16.07064437866211,-36.37958908081055,47.70493698120117,-8.259421348571777,-32.659915924072266,-47.628414154052734,-1.6908482313156128,16.204923629760742,-10.269813537597656,35.93680191040039,43.728729248046875,-15.42103099822998,32.41514587402344,6.974673271179199,20.501916885375977,36.10035705566406,-35.16138458251953,-43.344879150390625,-48.25520324707031,2.9051241874694824,-19.639728546142578,20.160173416137695,5.519713878631592,12.168266296386719,47.53422546386719,-3.102811336517334,-57.97077941894531,-3.4385364055633545,-30.17953872680664,-58.489585876464844,16.562725067138672,-53.9195442199707,-33.46467590332031,32.96030044555664,16.974964141845703,-28.863130569458008,48.6313362121582,37.063194274902344,-12.788681030273438,-8.548210144042969,-21.318439483642578,4.66627836227417,-49.09672927856445,-19.515634536743164,20.642059326171875,-41.611968994140625,6.126165390014648,41.611019134521484,21.826271057128906,-28.198089599609375,31.03558349609375,38.61147689819336,56.304893493652344,-36.22097396850586,-57.835227966308594,38.21839141845703,-60.79777526855469,65.50059509277344,-37.648765563964844,-16.245182037353516,58.214698791503906,-27.753902435302734,4.22170877456665,-15.815580368041992,-53.6077880859375,-23.1949405670166,-10.092757225036621,-3.8818891048431396,54.48405456542969,8.852660179138184,4.3097357749938965,-9.932019233703613,-26.268529891967773,0.033220939338207245,-69.93233489990234,20.233537673950195,48.315208435058594,-6.534396648406982,-16.56526756286621,-6.944035530090332,17.975788116455078,20.92456817626953,37.294227600097656,16.02696418762207,13.72028636932373,9.486137390136719,10.060552597045898,36.18642807006836,-74.6348648071289,39.245086669921875,38.278499603271484,-15.69715690612793,-41.71367645263672,16.290517807006836,-14.571211814880371,48.46953201293945,22.720016479492188,23.526676177978516,35.48836898803711,2.7539803981781006,-7.062447547912598,45.293025970458984,-22.35626220703125,20.9386043548584,38.84707260131836,54.83161163330078,-75.31875610351562,52.263946533203125,49.69971466064453,73.08663940429688,-48.34770584106445,-16.843547821044922,25.526073455810547,72.62200164794922,13.466068267822266,-16.68355369567871,-63.62674331665039,59.22084045410156,12.981074333190918,-46.63498306274414,-26.74782943725586,8.30556869506836,9.485923767089844,0.24337534606456757,18.93019676208496,16.52346420288086,62.20267868041992,20.884517669677734,-34.67294692993164,-17.97280502319336,-23.489418029785156,-23.586061477661133,8.928976058959961,23.683208465576172,-0.8406586050987244,-24.499059677124023,27.114810943603516,52.06851577758789,-25.706817626953125,-27.169187545776367,-3.303513765335083,-26.99604606628418,3.136183261871338,-27.52803611755371,29.423839569091797,37.49495315551758,-21.82859992980957,1.0678921937942505,-29.438701629638672,4.072956085205078,1.5431146621704102,-42.6510124206543,-43.87068557739258,-64.98588562011719,-42.93901443481445,7.218710422515869,-56.070987701416016,-3.7688956260681152,-8.09041976928711,-35.30543899536133,55.41971969604492,-4.4024858474731445,55.65391540527344,-19.915903091430664,15.819723129272461,19.0595760345459,-35.9907112121582,36.00462341308594,-23.083097457885742,-41.67437744140625,-18.988962173461914,18.84160614013672,-5.913937091827393,2.312713623046875,39.067623138427734,12.481151580810547,-31.30193519592285,-5.67933464050293,38.71880340576172,70.80503845214844,36.5745964050293,-39.46831512451172,15.601819038391113,37.916969299316406,7.524376392364502,0.07362201809883118,15.267057418823242,-20.2454891204834,-21.478408813476562,-44.37714767456055,33.112518310546875,33.645904541015625,31.95136833190918,-10.626214027404785,9.744007110595703,-23.042097091674805,48.254859924316406,48.327232360839844,15.621748924255371,58.70387649536133,-1.717282772064209,-42.50678253173828,-56.208641052246094,21.833824157714844,-35.36704635620117,-28.591955184936523,8.85710620880127,-48.5604362487793,24.678804397583008,-10.152027130126953,32.401695251464844,34.972225189208984,-35.3449592590332,-27.082611083984375,-60.30646514892578,-9.801817893981934,40.761131286621094,-63.11263656616211,9.927923202514648,13.432026863098145,3.881535768508911,10.524510383605957,42.010189056396484,-28.88082504272461,-14.110818862915039,-28.17111587524414,15.64393424987793,-41.624488830566406,21.890850067138672,13.029671669006348,-53.140682220458984,-32.62284851074219,5.515113830566406,40.96483612060547,11.79395580291748,-31.655290603637695,-31.085289001464844,-43.56425094604492,66.63079833984375,46.505455017089844,41.801795959472656,21.709157943725586,56.2874641418457,21.834781646728516,34.8821907043457,9.700525283813477,-0.6262866258621216,-10.376750946044922,28.308565139770508,36.7493782043457,13.53304386138916,28.219884872436523,-31.342912673950195,-54.46570587158203,26.11029624938965,-10.777764320373535,-8.575262069702148,5.252571105957031,-13.93342113494873,-26.086132049560547,21.21843719482422,52.407554626464844,-4.260530948638916,-6.596533298492432,50.271488189697266,-41.44285202026367,52.273048400878906,0.7738642692565918,39.576602935791016,43.01481246948242,-19.262954711914062,-36.10065841674805,19.380388259887695,-1.0615530014038086,-28.54399299621582,66.97050476074219,59.78651428222656,2.6876766681671143,38.997623443603516,-18.149906158447266,36.420345306396484,19.24957847595215,-1.439950704574585,1.3198940753936768,23.54356575012207,11.154035568237305,-5.497833728790283,-8.902338027954102,50.78268051147461,-31.011537551879883,42.919761657714844,-12.962485313415527,28.935401916503906,-62.32366180419922,-15.53614330291748,39.08416748046875,28.12702751159668,-70.64181518554688,-38.86085891723633,-35.573604583740234,14.125527381896973,51.46517562866211,-25.793033599853516,52.223411560058594,1.7863450050354004,26.429697036743164,-17.78975486755371,-9.415223121643066,16.833051681518555,-30.03345489501953,-10.128581047058105,-5.247328281402588,-38.298744201660156,69.24418640136719,-39.32313919067383,46.508567810058594,38.41020965576172,51.49842071533203,-15.508149147033691,66.1865463256836,24.530027389526367,6.277979850769043,-14.315214157104492,61.60877227783203,-59.57050323486328,26.764442443847656,25.05477523803711,39.44240188598633,13.9940767288208,-11.343419075012207,15.074708938598633,28.70548439025879,10.196701049804688,65.62010192871094,14.84294605255127,-47.18678665161133,-16.636037826538086,37.334617614746094,-23.40144920349121,-63.47157669067383,47.270469665527344,-9.199945449829102,-52.55791473388672,-30.44358253479004,-23.159696578979492,39.315181732177734,18.77764892578125,27.700462341308594,-23.01004409790039,-17.034954071044922,-42.765647888183594,19.332183837890625,-71.85457611083984,-1.2294304370880127,20.62278175354004,-24.802536010742188,31.031627655029297,26.293319702148438,21.25714683532715,21.956727981567383,36.093162536621094,-41.30799865722656,40.12142562866211,-47.67628860473633,2.338794708251953,8.287186622619629,31.95384979248047,20.51830291748047,-15.294102668762207,-18.982677459716797,-58.37083435058594,13.973262786865234,-46.26485824584961,-33.78005599975586,4.151341438293457,-53.05870056152344,-72.35250091552734,24.513748168945312,29.168020248413086,-30.557647705078125,25.884159088134766,-53.26844787597656,-25.62893295288086,33.45610046386719,8.308598518371582,-9.9489107131958,-53.625160217285156,39.46217346191406,-38.164825439453125,3.0216517448425293,21.208175659179688,-43.44308853149414,-38.51813888549805,-11.978108406066895,-18.65701675415039,11.60600757598877,9.115986824035645,69.57563018798828,-2.052497386932373,20.326011657714844,72.78257751464844,-44.54283905029297,-7.305609226226807,24.224720001220703,18.496593475341797,44.753116607666016,-43.01028060913086,27.258548736572266,8.408171653747559,-20.277000427246094,-2.2559123039245605,15.620518684387207,-3.8398597240448,4.7414116859436035,-17.206682205200195,36.318756103515625,19.11433219909668,12.834359169006348,1.2961820363998413,-9.573441505432129,1.608422875404358,43.41255187988281,-6.961313247680664,49.21333694458008,12.921557426452637,5.676296234130859,18.50673484802246,73.10382843017578,-33.075740814208984,-15.945721626281738,14.436029434204102,12.881552696228027,16.488128662109375,54.162391662597656,-25.866586685180664,-24.227684020996094,-34.37057876586914,-19.03652000427246,-29.135560989379883,-14.604198455810547,-20.057586669921875,35.949771881103516,-53.75006866455078,-22.534164428710938,27.493515014648438,-22.94347381591797,9.091266632080078,-9.884873390197754,1.9614511728286743,39.45368957519531,44.8232421875,-25.923282623291016,-43.34211349487305,34.7403678894043,-4.616352558135986,15.193246841430664,31.614633560180664,16.81399154663086,-37.43303298950195,42.44968795776367,-49.116249084472656,58.401451110839844,-32.62763214111328,-28.59640884399414,33.03022384643555,12.710137367248535,-24.214569091796875,2.3702855110168457,-12.183801651000977,16.392343521118164,5.7756171226501465,17.347766876220703,40.19184112548828,-10.172750473022461,-19.32257843017578,-25.79902458190918,-23.2943058013916,31.18933868408203,1.5893770456314087,6.808004856109619,7.754386901855469,-19.036489486694336,-34.22539520263672,12.671619415283203,-29.406286239624023,23.218719482421875,-51.38254928588867,13.664124488830566,-39.474178314208984,-1.469389796257019,-27.55519676208496,17.80559539794922,39.970924377441406,-2.955742120742798,-51.67469787597656,16.37613868713379,-31.094411849975586,-54.69117736816406,49.0778923034668,18.252391815185547,35.34306335449219,16.961257934570312,20.220224380493164,-45.63461685180664,-50.658164978027344,1.3485455513000488,-33.31675720214844,-32.518898010253906,2.7743523120880127,19.229257583618164,-1.1165648698806763,70.21601867675781,33.19881057739258,-17.417898178100586,36.22390365600586,-15.783818244934082,28.640260696411133,-0.28764966130256653,5.637624740600586,37.735477447509766,26.706056594848633,3.834580421447754,19.04146385192871,30.24127197265625,41.765045166015625,-15.67802906036377,30.27043914794922,-20.91741180419922,62.257808685302734,13.125455856323242,34.45743942260742,52.845420837402344,-14.770602226257324,22.828073501586914,13.93302059173584,-33.103397369384766,17.275615692138672,44.270851135253906,67.43228149414062,-63.16013717651367,56.1557731628418,-45.3708610534668,23.569746017456055,-26.200424194335938,-8.97508430480957,-0.18399471044540405,-27.69540786743164,50.990238189697266,4.6721882820129395,-34.81837463378906,19.268362045288086,24.514474868774414,20.737133026123047,-43.68614959716797,-34.30474853515625,-46.11469650268555,28.637121200561523,-4.700580596923828,21.09465789794922,-11.653141975402832,15.034333229064941,5.793362140655518,-18.297882080078125,-6.400295257568359,-60.40373229980469,-34.13743591308594,62.67271423339844,-41.606422424316406,-17.13946533203125,3.5986807346343994,-40.637088775634766,22.818313598632812,22.099365234375,11.260401725769043,27.062028884887695,-32.20149230957031,55.57942581176758,-44.186492919921875,30.275009155273438,-5.771120071411133,70.38507843017578,-21.61562728881836,-11.449200630187988,-29.308170318603516,-64.22490692138672,-30.923274993896484,-15.201972961425781,-39.396095275878906,0.491514652967453,27.32005500793457,-37.07743453979492,-32.995460510253906,-45.55366516113281,-57.02719497680664,-18.758859634399414,13.71430492401123,4.430054187774658,59.574623107910156,0.7782602310180664,59.233367919921875,-32.567012786865234,18.871503829956055,-7.132174491882324,-10.132610321044922,8.307974815368652,71.95660400390625,-11.8508939743042,12.019092559814453,-8.593426704406738,43.035484313964844,-22.332033157348633,-62.002159118652344,-9.893448829650879,-15.478071212768555,-18.067981719970703,4.6629862785339355,-47.28334426879883,32.65927505493164,-35.254371643066406,63.10786056518555,52.22930908203125,73.40119171142578,-49.83900451660156,39.524112701416016,-21.709510803222656,-18.03048324584961,49.84152603149414,-41.384361267089844,73.54041290283203,29.182537078857422,27.609739303588867,-21.759571075439453,18.791179656982422,37.980995178222656,-44.20942687988281,-40.82664108276367,-4.296967029571533,-33.253662109375,73.49847412109375,-24.984655380249023,49.93131637573242,32.48058319091797,23.01106071472168,2.321990728378296,-9.310257911682129,-75.30841064453125,74.82012939453125,-44.6232795715332,5.027428150177002,-46.8254280090332,16.22817611694336,38.146236419677734,-5.639315128326416,-17.928796768188477,37.01891326904297,30.57463836669922,50.69337844848633,-62.007301330566406,24.667861938476562,-36.977577209472656,-74.60778045654297,24.005348205566406,-60.51710510253906,21.337284088134766,37.39918518066406,12.753152847290039,-36.371910095214844,-28.503753662109375,12.300110816955566,-11.581376075744629,-22.443389892578125,30.160049438476562,43.88231658935547,-11.47654914855957,27.10399627685547,-51.74574661254883,18.3095703125,21.304426193237305,45.12749481201172,16.389015197753906,-5.980526924133301,29.507953643798828,52.230533599853516,66.24805450439453,-1.3249084949493408,55.053611755371094,-39.64326095581055,-25.294742584228516,-4.952615261077881,9.670794486999512,-46.16175079345703,9.125960350036621,18.51455307006836,49.19781494140625,-52.86267852783203,-26.12267303466797,67.22037506103516,68.68034362792969,4.613824844360352,71.817138671875,-52.81654357910156,17.46511459350586,13.247808456420898,-29.89400863647461,20.999141693115234,20.419004440307617,4.326979637145996,-44.65452194213867,-32.953609466552734,61.201236724853516,-3.3267693519592285,58.650150299072266,17.032978057861328,23.09975814819336,-11.936897277832031,0.39990565180778503,41.029205322265625,13.557074546813965,-39.377750396728516,-15.651585578918457,-13.953720092773438,43.35789108276367,-4.0977911949157715,-46.38888931274414,19.28223991394043,27.633155822753906,-24.72585678100586,-0.33430594205856323,-30.74835205078125,-9.740468978881836,-25.7839298248291,58.831966400146484,68.41127014160156,27.88454818725586,-16.655529022216797,31.457565307617188,7.729450702667236,32.92977523803711,60.03321838378906,-24.378679275512695,-51.13813781738281,44.11463165283203,3.1678972244262695,-14.184944152832031,-35.33197021484375,39.7418098449707,50.237266540527344,13.247997283935547,-24.18465805053711,24.11385726928711,-17.429353713989258,35.27897262573242,-24.07631492614746,29.293310165405273,-13.78265380859375,-14.901410102844238,-66.68317413330078,-10.319960594177246,71.60869598388672,9.659360885620117,16.122886657714844,-30.47855567932129,39.63905715942383,-0.9161388874053955,13.253668785095215,69.65916442871094,-35.96076583862305,-40.677921295166016,5.119051456451416,-31.461076736450195,-9.357851028442383,21.83652687072754,-58.16741180419922,20.63761329650879,-60.86769485473633,12.472721099853516,-37.30851745605469,2.7697489261627197,35.52332305908203,-9.942588806152344,26.380598068237305,-49.167598724365234,0.8269137740135193,-48.72608184814453,49.25704574584961,-8.809076309204102,53.471214294433594,-28.848318099975586,40.008846282958984,52.030879974365234,45.654144287109375,30.308616638183594,-14.388046264648438,8.275598526000977,-41.006004333496094,53.48473358154297,22.860389709472656,28.5983943939209,-11.71193790435791,8.091813087463379,10.033594131469727,-40.00936508178711,-11.964316368103027,12.187915802001953,-54.78170394897461,74.25591278076172,17.020315170288086,-13.293614387512207,14.083822250366211,-22.640554428100586,-6.281805515289307,43.986507415771484,55.56278610229492,7.058335781097412,16.657543182373047,-34.41408157348633,4.113842010498047,-21.79561424255371,-7.328249931335449,-54.87874984741211,-27.01580238342285,55.46648025512695,-9.436766624450684,2.503196954727173,2.7825381755828857,32.10390853881836,-1.3629086017608643,-24.33077049255371,-40.35755920410156,-16.848615646362305,32.112159729003906,-37.45719909667969,21.57805061340332,-51.8046875,-25.78970718383789,-0.802934467792511,-19.896427154541016,42.12067413330078,-24.80940818786621,28.39485740661621,5.4752888679504395,-38.432491302490234,28.731277465820312,48.884212493896484,-30.673540115356445,-46.584842681884766,11.702330589294434,71.2538070678711,-24.13472557067871,-18.306493759155273,21.460641860961914,52.368717193603516,24.86793327331543,-34.48627853393555,64.79522705078125,-52.98719024658203,-13.218710899353027,-10.75636100769043,-30.891319274902344,-15.862707138061523,23.321256637573242,-42.02849197387695,40.43814468383789,-23.655305862426758,-19.28455924987793,-70.08416748046875,26.212575912475586,-41.548057556152344,50.25971603393555,-74.67802429199219,-34.90589141845703,9.90884780883789,-47.90192413330078,-42.6025276184082,5.9546027183532715,15.824809074401855,14.80151081085205,-40.740013122558594,45.336788177490234,36.30186462402344,-23.04927635192871,60.6717643737793,34.08704376220703,-8.031530380249023,-19.820255279541016,38.02495193481445,39.367977142333984,16.0136775970459,-30.088275909423828,-9.866228103637695,-4.442109107971191,-49.565521240234375,41.89088821411133,-22.210845947265625,21.903566360473633,-22.735626220703125,-29.23866844177246,-40.108314514160156,20.3953914642334,27.192136764526367,37.97929763793945,60.65802001953125,37.0875129699707,-72.48710632324219,33.7191162109375,3.8263139724731445,57.90236282348633,72.4503402709961,-60.83417892456055,7.303528308868408,46.004756927490234,-5.506157398223877,7.512533187866211,12.707402229309082,42.2849235534668,-37.13035583496094,23.31239128112793,-42.11094284057617,-12.56811809539795,65.61641693115234,40.88438034057617,54.99846649169922,29.496292114257812,24.448152542114258,-49.102813720703125,-52.172821044921875,23.803319931030273,39.70039367675781,-4.497746467590332,10.37094497680664,-23.25650978088379,7.825394630432129,-37.91740798950195,-42.55077362060547,-73.42208862304688,-54.63125991821289,-40.65632247924805,9.076106071472168,-57.491233825683594,13.876765251159668,-6.914474964141846,-48.5784797668457,-4.5641679763793945,35.80810546875,-10.998003005981445,-47.46779251098633,-4.771934509277344,43.15289306640625,2.9244141578674316,-52.50515365600586,-13.47077465057373,-35.627601623535156,-56.890098571777344,-46.42778015136719,-3.5556836128234863,-17.302980422973633,-22.824586868286133,-35.461612701416016,-61.09980773925781,-55.54296875,-61.878055572509766,9.44699478149414,-23.729089736938477,15.061367988586426,63.23459243774414,-26.126739501953125,-20.384319305419922,17.323101043701172,15.869891166687012,13.175276756286621,-24.226028442382812,-26.47272491455078,-2.348736047744751,44.48069763183594,59.51664352416992,59.06816101074219,-73.5997314453125,-35.291847229003906,52.64558792114258,-26.401216506958008,37.24388122558594,-20.86080551147461,26.19810676574707,13.817184448242188,-29.82151985168457,-40.668304443359375,-68.99626922607422,31.97296905517578,-47.80231475830078,-36.54290008544922,0.4343033730983734,14.579306602478027,-22.509883880615234,8.52035140991211,11.73680305480957,54.66251754760742,-39.3085823059082,57.999210357666016,29.219806671142578,-16.84865951538086,-47.84501266479492,-58.76030349731445,27.82634162902832,35.94132995605469,-12.88796615600586,-19.561450958251953,4.318057060241699,-0.7814602255821228,-44.19123458862305,-31.147235870361328,-14.746835708618164,46.3652458190918,28.153104782104492,42.43640899658203,49.11223220825195,-36.07183074951172,-35.891212463378906,24.244251251220703,20.106874465942383,-7.867913722991943,2.3188037872314453,23.31662368774414,-8.00001335144043,52.89262008666992,-33.707984924316406,50.53347396850586,-50.337059020996094,-13.172450065612793,-38.079856872558594,11.535999298095703,-22.20071792602539,61.81932067871094,30.595413208007812,36.214202880859375,-10.484153747558594,18.169435501098633,39.38081741333008,-52.66522979736328,-18.34145164489746,14.035944938659668,-2.667869806289673,14.343295097351074,-47.55763244628906,-11.387895584106445,-16.680265426635742,-52.90056610107422,51.29591751098633,-46.246395111083984,1.7826290130615234,-62.14543914794922,56.75385665893555,-49.527976989746094,14.508127212524414,-10.707221984863281,-25.968725204467773,49.20442581176758,-42.435428619384766,-23.551916122436523,34.161582946777344,40.96469497680664,19.189815521240234,8.174263000488281,-34.481719970703125,35.07919692993164,42.76279067993164,-4.809606552124023,14.378251075744629,-27.29826545715332,21.19280242919922,-29.55524444580078,-23.866621017456055,25.55512046813965,-47.51202392578125,-18.54987907409668,-43.2783203125,12.077970504760742,-25.504106521606445,7.719141006469727,18.70608901977539,-56.385040283203125,-25.52127456665039,-16.79684066772461,-57.76272964477539,25.799345016479492,-7.66378927230835,-20.128538131713867,27.52147674560547,27.9991512298584,-49.82169723510742,-24.04545021057129,23.616899490356445,-6.142762660980225,15.440563201904297,20.1578311920166,-30.691133499145508,12.089110374450684,5.472981929779053,39.53611373901367,23.032882690429688,7.474295616149902,15.2882719039917,2.488571882247925,-6.323652267456055,16.700674057006836,-30.799030303955078,-19.314579010009766,-10.586360931396484,33.329078674316406,-1.9358681440353394,50.58377456665039,-22.50838279724121,36.5701789855957,-44.89411163330078,-18.65996742248535,-6.773642063140869,-23.013498306274414,55.123680114746094,-18.537799835205078,43.86131286621094,13.797284126281738,-14.135087013244629,-6.536359786987305,-0.6307287216186523,5.016407489776611,-13.705918312072754,-19.941143035888672,51.708866119384766,57.622379302978516,68.90496063232422,50.05100631713867,38.980682373046875,-54.37131118774414,-1.1407103538513184,-33.374576568603516,33.842010498046875,-24.618513107299805,-29.65340232849121,1.8592116832733154,-28.915245056152344,57.22755813598633,18.133819580078125,40.994441986083984,-47.93427276611328,32.36330032348633,-28.797916412353516,5.240025043487549,4.770622253417969,-37.68413543701172,52.465721130371094,-3.064183235168457,-46.70226287841797,10.252239227294922,-6.800806045532227,-20.013031005859375,67.50022888183594,50.71068572998047,-23.827350616455078,-18.06219482421875,-18.34552001953125,-2.306433916091919,3.384108781814575,-42.545143127441406,-2.9916701316833496,69.30706787109375,60.15678787231445,24.5548038482666,17.460538864135742,-2.930267333984375,35.747459411621094,52.946807861328125,-49.252220153808594,-29.152971267700195,-59.32586669921875,17.561511993408203,-13.35335922241211,-26.317577362060547,39.259735107421875,-8.392133712768555,-13.52044677734375,24.54014015197754,47.63871765136719,2.418940305709839,3.265087127685547,-38.10847854614258,-57.904396057128906,30.178375244140625,-33.79634094238281,-26.443767547607422,-25.403430938720703,2.638314962387085,8.16364574432373,-29.957977294921875,-11.188947677612305,21.708377838134766,-38.70295715332031,-58.062381744384766,-21.188486099243164,34.12419128417969,-70.70881652832031,40.63344192504883,-30.020015716552734,-65.78042602539062,20.94370460510254,-25.98244285583496,32.005821228027344,-49.9089241027832,-6.175301551818848,30.72914695739746,3.887155532836914,-71.29378509521484,43.30073928833008,22.78008460998535,73.22980499267578,-50.21131896972656,-9.78884506225586,-9.77663516998291,8.48723316192627,25.754026412963867,8.287938117980957,20.361488342285156,41.84095001220703,-2.570347547531128,-3.102710247039795,22.61644172668457,70.59720611572266,17.630046844482422,48.243343353271484,16.18202018737793,-15.32272720336914,52.52702331542969,-17.150999069213867,-33.25754165649414,41.9458122253418,33.74705505371094,-44.83148956298828,-36.74246597290039,32.100059509277344,-31.192420959472656,-30.507841110229492,4.428709506988525,30.73233985900879,-33.3949089050293,-40.300514221191406,5.959145545959473,-74.59297180175781,-49.9576301574707,16.013622283935547,8.714097023010254,-18.68316078186035,-37.36494827270508,-42.53946304321289,7.138468265533447,39.2353401184082,43.815494537353516,-21.730607986450195,-50.82620620727539,-60.673641204833984,19.597675323486328,-2.6233932971954346,30.20682716369629,25.44893455505371,-30.677257537841797,33.26517868041992,28.43206214904785,48.379737854003906,33.22255325317383,59.63702392578125,-55.77794647216797,-56.805694580078125,11.383573532104492,13.552639961242676,-5.977057456970215,33.917091369628906,-47.97325897216797,-26.144264221191406,17.674762725830078,-31.34589958190918,-25.66199493408203,42.50000762939453,45.579139709472656,0.5412395000457764,11.638768196105957,34.25694274902344,13.832578659057617,31.70958137512207,-51.32863235473633,36.5615348815918,-23.72348976135254,17.29158592224121,34.416534423828125,-8.024691581726074,39.13566589355469,48.34664535522461,11.172179222106934,-5.049851894378662,68.17398071289062,-11.074874877929688,-48.11994934082031,-19.9563045501709,-12.887415885925293,12.621180534362793,-67.62060546875,-1.5350327491760254,-39.28593063354492,36.89537811279297,14.250279426574707,42.77023696899414,4.853754997253418,2.8281502723693848,-15.819111824035645,-20.296863555908203,-18.959291458129883,-31.544513702392578,-56.96046829223633,7.399470329284668,42.54863357543945,21.120101928710938,43.35345458984375,-7.742875576019287,58.26176834106445,20.230501174926758,15.075159072875977,-15.896268844604492,-19.226715087890625,15.275873184204102,22.650177001953125,-19.14507293701172,67.46095275878906,-38.99900436401367,29.139312744140625,35.43285369873047,-17.983869552612305,-42.8406867980957,12.875001907348633,-4.219531536102295,9.515012741088867,38.796016693115234,34.65922927856445,38.70882034301758,1.9581212997436523,33.1307373046875,33.300167083740234,0.9796796441078186,-16.48946762084961,1.0248165130615234,6.327293872833252,32.38447189331055,-15.49651050567627,-45.358001708984375,14.416552543640137,62.35386657714844,13.682910919189453,-29.892595291137695,-0.1555321365594864,28.907421112060547,-59.44246292114258,-23.741195678710938,-8.326813697814941,10.29169750213623,-16.25748062133789,-23.380123138427734,-13.8807373046875,-58.366050720214844,-12.488763809204102,17.067880630493164,0.6626034379005432,-11.520062446594238,-5.451661109924316,-51.88589859008789,-1.470621109008789,15.147709846496582,-23.753387451171875,33.66414260864258,-35.398197174072266,-5.0818047523498535,-45.52432632446289,24.4143123626709,-46.84112548828125,-13.856887817382812,8.805785179138184,42.20581817626953,-9.863450050354004,-17.099687576293945,27.9737606048584,68.28720092773438,-58.6417121887207,-16.153833389282227,-12.502802848815918,17.615375518798828,42.0522575378418,-20.04344367980957,12.412104606628418,10.462801933288574,-11.156732559204102,-25.531936645507812,55.24964141845703,-17.373544692993164,66.25791931152344,-54.34894943237305,3.7428653240203857,54.88108825683594,-0.2506957948207855,17.240928649902344,30.973739624023438,0.8814327120780945,-9.962641716003418,-12.742639541625977,14.379975318908691,30.831588745117188,-49.83962631225586,-49.28839111328125,2.2070086002349854,-8.970322608947754,-9.937750816345215,25.411666870117188,-48.56602478027344,46.64811706542969,-25.08967399597168,-16.123823165893555,-7.839839935302734,-15.17943000793457,26.740999221801758,-41.42338180541992,44.06541442871094,-28.73165512084961,-45.43449783325195,-6.439495086669922,7.602426052093506,-46.76932144165039,-25.650550842285156,1.114870309829712,6.005592346191406,-8.447395324707031,-53.5300178527832,-29.30776596069336,-27.73192596435547,23.131385803222656,15.82748794555664,66.53990936279297,-3.0486533641815186,-34.321529388427734,32.18910217285156,-9.820537567138672,-43.94823455810547,-1.7621450424194336,-48.579158782958984,19.66680145263672,31.750484466552734,30.197006225585938,10.028910636901855,43.81098556518555,-2.781543731689453,-16.948955535888672,-20.264562606811523,16.965587615966797,35.58476638793945,-61.877098083496094,2.5499165058135986,33.06553649902344,-11.661219596862793,-55.712520599365234,-21.833850860595703,-11.331750869750977,12.213162422180176,-26.152437210083008,-4.08647346496582,13.588916778564453,-7.149544715881348,-54.536094665527344,17.792957305908203,-6.33201265335083,-49.50764465332031,6.6913652420043945,-15.2301607131958,47.365047454833984,-27.138591766357422,26.774675369262695,-2.330382823944092,30.19924545288086,0.5270944237709045,-17.303178787231445,51.772159576416016,28.559505462646484,30.2408504486084,5.0567097663879395,-27.29327392578125,-27.58725929260254,-42.228607177734375,3.3238964080810547,-42.77327346801758,39.225040435791016,-4.341814041137695,-16.978313446044922,64.38560485839844,-17.43415641784668,-14.219990730285645,7.613558769226074,20.298534393310547,-28.99923324584961,-13.980692863464355,24.09688949584961,-43.08811950683594,44.037811279296875,0.5775820016860962,-65.87027740478516,-4.736477851867676,-65.70099639892578,61.85598373413086,-4.286472797393799,51.03588104248047,23.17792320251465,-16.46734619140625,15.698002815246582,50.355533599853516,-32.271671295166016,39.1800422668457,43.543968200683594,49.08967208862305,9.314459800720215,-30.897045135498047,-29.34861183166504,64.26658630371094,27.753910064697266,4.442198276519775,8.447822570800781,-27.191652297973633,-72.47345733642578,-36.13514709472656,-10.896552085876465,-76.17639923095703,41.08356857299805,-37.360450744628906,1.915865182876587,75.85855865478516,2.2100210189819336,57.42155075073242,-20.58702278137207,-2.514585256576538,-6.920238018035889,3.5281524658203125,-10.147011756896973,-23.235567092895508,11.657618522644043,9.406515121459961,8.77209758758545,23.589447021484375,15.196407318115234,2.4602866172790527,1.37684166431427,-30.204504013061523,38.02821731567383,-15.389098167419434,12.117198944091797,21.200891494750977,-20.97610092163086,18.980558395385742,34.34092712402344,-56.63112258911133,48.43400955200195,59.85323715209961,17.263065338134766,-31.750274658203125,10.726616859436035,-27.654884338378906,37.0013313293457,-18.041906356811523,-27.20187759399414,32.4081916809082,36.794742584228516,-48.55165481567383,-5.20344352722168,-6.84780216217041,3.3891897201538086,-12.473254203796387,16.803110122680664,-19.674707412719727,-54.88978958129883,-21.944480895996094,-15.865137100219727,24.90978240966797,-25.874645233154297,-61.002342224121094,-48.296573638916016,31.908437728881836,16.790842056274414,11.535235404968262,-74.223876953125,-53.03623580932617,58.46586990356445,7.8594746589660645,66.95748138427734,7.656836032867432,-45.784706115722656,36.81588363647461,27.117164611816406,36.92240524291992,6.725549221038818,-41.79183578491211,33.07237243652344,-40.3407096862793,-8.901229858398438,11.426137924194336,-25.84474754333496,42.712310791015625,29.9262752532959,-57.901756286621094,-34.90495681762695,70.39964294433594,-33.780487060546875,17.820877075195312,5.914499759674072,41.0993537902832,16.045352935791016,51.718326568603516,-30.220903396606445,-59.19955825805664,55.3683967590332,-37.830039978027344,-18.979631423950195,-31.113420486450195,31.93287467956543,-36.14883804321289,-50.471466064453125,71.78157806396484,1.5048377513885498,36.674102783203125,-45.83444595336914,16.14560317993164,-63.46082305908203,-72.77556610107422,54.23112106323242,2.608196973800659,20.934553146362305,35.397117614746094,3.178497552871704,-11.34223747253418,31.543519973754883,-55.247467041015625,-6.404454708099365,-8.642500877380371,33.18941879272461,-54.99943542480469,12.968406677246094,36.23521423339844,-11.195475578308105,-28.492862701416016,18.31658935546875,40.60231018066406,48.660552978515625,31.936756134033203,40.18034744262695,12.59196949005127,26.447317123413086,29.82163429260254,-4.186245918273926,-19.526294708251953,-54.26836395263672,50.201087951660156,30.748315811157227,14.276816368103027,-6.080111980438232,38.67897033691406,31.447757720947266,-32.317100524902344,64.98080444335938,-18.93830680847168,-40.937225341796875,-29.279537200927734,-10.990903854370117,-53.76343536376953,19.415990829467773,59.91551971435547,-28.284208297729492,13.615632057189941,-22.92475700378418,17.991230010986328,58.397274017333984,20.759599685668945,33.498870849609375,-9.589624404907227,-29.5416259765625,2.993311643600464,-2.8538148403167725,-7.416488170623779,-8.936206817626953,14.173584938049316,-27.551448822021484,-50.90538024902344,-18.08760643005371,4.556178092956543,-43.5590705871582,64.24929809570312,24.705650329589844,39.9400520324707,24.291921615600586,-34.150306701660156,-5.910713195800781,2.5967228412628174,-60.54948043823242,-18.056262969970703,-31.382761001586914,19.096830368041992,54.52676010131836,-41.44868850708008,36.73845672607422,-5.965328216552734,-31.230899810791016,-49.62785720825195,23.743186950683594,36.30647277832031,12.110016822814941,36.85165023803711,22.389511108398438,-14.482333183288574,5.65601921081543,12.645658493041992,-35.20993423461914,-11.003214836120605,-36.080421447753906,29.235157012939453,-63.65719223022461,27.044918060302734,27.555702209472656,-8.964719772338867,24.002655029296875,0.8316715955734253,-5.171820163726807,-28.131399154663086,-38.268531799316406,39.4611930847168,23.756799697875977,-13.86551284790039,6.469252586364746,0.06435929238796234,-9.804768562316895,-13.334701538085938,-34.14362335205078,-19.27689552307129,-21.374229431152344,57.90957260131836,27.272323608398438,-7.043118476867676,-44.13289260864258,-37.505516052246094,-8.66835880279541,-1.449251651763916,15.6613130569458,-8.730057716369629,-37.97154235839844,-0.8285101652145386,18.04924774169922,13.48498249053955,2.3107428550720215,-41.42264175415039,9.022851943969727,-28.13330078125,33.57246780395508,-10.806227684020996,-25.62925148010254,30.970687866210938,-12.618789672851562,54.711082458496094,-19.1324520111084,12.252602577209473,33.54869079589844,39.3342399597168,30.829917907714844,15.401799201965332,-72.72291564941406,4.775669574737549,50.374603271484375,-2.989447593688965,-26.99906349182129,-1.8221391439437866,40.96540451049805,48.59406280517578,23.583650588989258,-36.924381256103516,-51.3352165222168,-0.873135507106781,-30.664844512939453,59.26041030883789,-35.694908142089844,16.57769775390625,43.936405181884766,-7.487344741821289,42.17656707763672,0.02216578647494316,-34.29640197753906,4.768585681915283,-14.215472221374512,-20.53572654724121,-53.999732971191406,-1.1378505229949951,24.431554794311523,-13.901174545288086,-66.02050018310547,-20.08205795288086,-20.196327209472656,-12.47474193572998,-13.751629829406738,38.451107025146484,-18.5944766998291,23.748889923095703,52.69209289550781,-14.492814064025879,-3.553147077560425,-28.458532333374023,-69.39869689941406,-37.2917366027832,-36.34865951538086,55.603294372558594,72.3102035522461,37.96050262451172,10.226471900939941,-59.484867095947266,-29.9879207611084,-34.468753814697266,11.21003532409668,-32.308563232421875,-12.893689155578613,-13.350379943847656,17.25258445739746,30.851478576660156,-60.249267578125,-4.643859386444092,39.17451858520508,-20.918657302856445,12.557158470153809,-47.154483795166016,-28.3703670501709,2.9836740493774414,-9.226296424865723,68.52040100097656,18.25756072998047,-31.08772850036621,61.26371765136719,18.347511291503906,-73.7192611694336,19.268775939941406,1.0763344764709473,2.843083620071411,48.77238082885742,23.159177780151367,17.154098510742188,26.60171127319336,34.28672409057617,-15.40672492980957,-21.639280319213867,-33.899784088134766,55.25450897216797,47.85065841674805,38.580474853515625,49.78782272338867,-4.694302558898926,43.423866271972656,-41.0303840637207,25.452791213989258,-1.3476067781448364,-3.878384590148926,-4.2886552810668945,52.16866683959961,22.645709991455078,-13.350106239318848,48.480499267578125,48.957847595214844,26.052499771118164,-54.057193756103516,5.256187438964844,-51.5494270324707,-32.196266174316406,-48.809181213378906,-72.26006317138672,20.058273315429688,-2.2776052951812744,-12.335227966308594,41.927894592285156,-6.188796043395996,11.172966003417969,52.6640510559082,-67.58049011230469,-17.081161499023438,4.858648777008057,20.179616928100586,-74.58573913574219,25.643829345703125,-25.366134643554688,-10.90892219543457,9.31678581237793,9.571271896362305,-24.778182983398438,-54.60561752319336,62.812767028808594,6.547641277313232,11.616192817687988,-60.4984130859375,-11.81777286529541,-71.54936981201172,64.21739959716797,27.50118064880371,38.629154205322266,-29.4583797454834,-53.04961013793945,-15.527388572692871,11.585169792175293,41.06135177612305,4.057342529296875,-11.428829193115234,6.928712844848633,7.298491954803467,20.8707275390625,-44.4752311706543,-18.918832778930664,1.4425636529922485,-4.415748596191406,4.383498191833496,-22.689983367919922,20.538597106933594,-63.41718292236328,5.738620758056641,50.820274353027344,14.147753715515137,-6.738296031951904,-25.164554595947266,19.509313583374023,2.2071897983551025,27.308454513549805,39.39406967163086,1.6261149644851685,-56.33378601074219,40.64969253540039,-10.502660751342773,-51.75421142578125,0.9481828212738037,31.9793758392334,-10.288305282592773,-18.534568786621094,38.607505798339844,39.468162536621094,-17.187299728393555,-25.38762092590332,36.864097595214844,36.26359176635742,-39.76348876953125,-14.51431941986084,18.318618774414062,49.257568359375,-16.75601577758789,-5.712375640869141,22.578676223754883,-40.91288375854492,-51.60275650024414,-0.2751864194869995,22.9683837890625,43.83829879760742,27.43305015563965,15.722027778625488,2.362433671951294,5.5980610847473145,38.78306198120117,45.5865478515625,60.07985305786133,-19.102087020874023,39.59588623046875,-73.00846099853516,-57.58934783935547,51.266937255859375,-47.923465728759766,-29.35577964782715,-20.516483306884766,-36.222450256347656,-43.46300506591797,41.22760772705078,-20.1815242767334,1.5294231176376343,26.86481285095215,-54.05406188964844,24.281871795654297,27.842248916625977,-25.02776336669922,66.2801742553711,-53.580238342285156,0.5588021278381348,30.643543243408203,44.830039978027344,-12.622282981872559,-11.269347190856934,47.55814743041992,39.03289794921875,-33.513065338134766,-19.63648223876953,58.504249572753906,6.116830348968506,-32.36423873901367,40.95675277709961,0.6549250483512878,-52.67975997924805,12.933184623718262,30.34476089477539,40.76343536376953,54.4498405456543,-29.54674530029297,-73.81914520263672,43.05018615722656,49.197105407714844,-8.594926834106445,-4.318159580230713,-6.217125415802002,-48.323394775390625,-39.7993278503418,-13.342789649963379,26.095439910888672,-2.7029471397399902,59.06228256225586,-26.406352996826172,1.4347641468048096,-25.5035400390625,-11.947833061218262,57.35348129272461,7.615055561065674,-22.321327209472656,-10.663115501403809,-23.82600212097168,-50.62400436401367,63.39213180541992,29.99358367919922,22.398042678833008,9.814539909362793,-5.291790008544922,-20.484529495239258,-0.6175575256347656,39.331817626953125,45.76198196411133,-58.26902389526367,20.929306030273438,-1.0523927211761475,59.206424713134766,0.4420726001262665,-3.2619223594665527,-25.056644439697266,-24.76373291015625,-25.033790588378906,-31.63958740234375,-19.378864288330078,5.211842060089111,-36.30940628051758,-36.84149932861328,-15.6462984085083,-35.69511795043945,-40.318302154541016,5.490777969360352,-43.504730224609375,42.81757354736328,-74.73994445800781,-51.846317291259766,55.40408706665039,-0.2572714388370514,-15.623149871826172,36.46310043334961,43.0351676940918,-18.77405548095703,46.80219650268555,-52.22908401489258,-16.94844627380371,35.745548248291016,-35.9234733581543,0.8839219808578491,43.74037551879883,52.728782653808594,11.257523536682129,-5.77863883972168,55.48965835571289,-27.593616485595703,19.500391006469727,-9.242012023925781,45.56985092163086,-10.971977233886719,-40.4649543762207,45.75965118408203,-7.9348063468933105,-24.138416290283203,-18.23955726623535,-0.6605110168457031,22.3629207611084,39.86293411254883,11.601439476013184,-23.25394058227539,30.250688552856445,-59.15306091308594,-3.3578076362609863,-6.478473663330078,-33.742679595947266,-6.655826091766357,17.787429809570312,41.242881774902344,-42.74040985107422,27.124197006225586,-8.040827751159668,-22.600566864013672,59.01008224487305,-9.938849449157715,9.75113582611084,9.68791389465332,44.74287796020508,34.36452865600586,14.638975143432617,-50.12395095825195,31.063541412353516,18.91246795654297,21.151992797851562,48.606510162353516,-16.985591888427734,29.650102615356445,30.53357696533203,5.0706329345703125,-44.570682525634766,-28.137605667114258,-8.043004989624023,-41.48286437988281,-30.8853816986084,-37.16948318481445,-40.7205696105957,30.639760971069336,-53.89611053466797,47.176090240478516,11.33166790008545,21.04729652404785,18.033096313476562,-28.74064826965332,3.189291477203369,-50.34259033203125,-27.266189575195312,25.496801376342773,34.88908004760742,34.09951400756836,9.1176176071167,27.019636154174805,-5.586872100830078,-2.9505796432495117,-43.24369430541992,20.951629638671875,-67.25822448730469,-12.767928123474121,-9.053278923034668,21.44499397277832,24.64326286315918,60.14143753051758,15.396598815917969,-16.614534378051758,49.202178955078125,16.0079288482666,62.508113861083984,-59.76182174682617,0.15876372158527374,-17.541196823120117,28.811460494995117,-51.882225036621094,-36.685211181640625,42.239845275878906,10.392196655273438,-30.471731185913086,-4.220742225646973,-66.08912658691406,17.469852447509766,-59.72944259643555,54.93476104736328,13.912208557128906,-21.31861686706543,-33.12588119506836,37.30720901489258,34.16853713989258,62.30061721801758,40.186607360839844,61.13624954223633,59.40761184692383,20.942710876464844,-18.5618896484375,10.48208999633789,-52.97871398925781,32.186153411865234,-18.70061683654785,6.185997486114502,-9.682708740234375,-33.14760208129883,-11.150543212890625,39.25260543823242,-11.945215225219727,33.75434112548828,47.84040451049805,32.02383041381836,-38.6824951171875,50.92063903808594,-9.917434692382812,-9.066350936889648,-19.429550170898438,42.51820755004883,35.80082321166992,32.759971618652344,13.512950897216797,-48.3599853515625,-5.078368663787842,5.5942301750183105,-4.82292366027832,9.917494773864746,29.773841857910156,1.400602102279663,-8.811271667480469,-39.794349670410156,30.269132614135742,-50.704246520996094,49.67848587036133,-5.682511329650879,33.38905334472656,56.7587890625,-20.0510196685791,-13.843446731567383,41.30271911621094,-72.70207214355469,-24.956256866455078,-38.7214241027832,-72.81584167480469,52.67943572998047,41.47337341308594,-1.8521400690078735,-12.755114555358887,3.4134459495544434,-35.69013595581055,53.08768844604492,-72.83724975585938,19.965988159179688,-2.4077444076538086,-22.595420837402344,24.654556274414062,-59.759517669677734,-5.13882303237915,60.50308609008789,63.65841293334961,36.54537582397461,-10.297172546386719,19.080612182617188,15.134723663330078,27.885271072387695,70.39197540283203,34.482566833496094,-4.5599517822265625,-2.142946243286133,-16.468168258666992,-14.043424606323242,4.495971202850342,-27.187847137451172,3.7329232692718506,-59.925025939941406,-58.97732925415039,43.83462905883789,-59.23128128051758,-59.631011962890625,-58.630489349365234,-2.9683687686920166,-60.288150787353516,6.557457447052002,-28.907907485961914,-38.48874282836914,33.292171478271484,24.921098709106445,4.64971923828125,-6.555414199829102,16.66636848449707,-27.53472900390625,-16.679250717163086,7.629601955413818,71.81958770751953,-27.136751174926758,-59.21137237548828,-60.64295959472656,-59.77595520019531,17.148460388183594,-0.3895139992237091,-16.59488868713379,-13.78001594543457,26.20754051208496,-7.145813941955566,-8.228310585021973,9.131417274475098,-59.6927604675293,-59.45759963989258,15.587128639221191,-60.56437301635742,-58.50539016723633,36.9576301574707,24.861530303955078,17.75832748413086,-61.86582946777344,-8.607900619506836,-4.698317050933838,-45.111000061035156,58.60932540893555,-11.291265487670898,-24.95865821838379,-6.5504584312438965,39.16995620727539,-2.57936954498291,12.131516456604004,-2.681607484817505,29.35335922241211,19.896421432495117,2.2293925285339355,-67.16535186767578,-21.28447723388672,-33.96076965332031,-2.9354968070983887,52.262489318847656,-14.003740310668945,-1.5169316530227661,-47.13270568847656,-35.982887268066406,17.306081771850586,57.69925308227539,51.524147033691406,-2.7232131958007812,9.884398460388184,-44.910221099853516,-51.64480209350586,-11.672892570495605,-0.7861196398735046,-17.299922943115234,22.66375160217285,-17.40985679626465,-34.563194274902344,-59.41480255126953,-46.066410064697266,27.222414016723633,50.268585205078125,47.25507736206055,-20.493274688720703,-36.442596435546875,-17.898303985595703,15.503525733947754,-1.214908480644226,2.0437190532684326,24.390249252319336,20.676616668701172,28.859100341796875,5.0616865158081055,-46.09793472290039,0.8194053173065186,8.091419219970703,54.065547943115234,45.76716613769531,24.071218490600586,-0.1037025973200798,45.262046813964844,50.81113815307617,47.28068161010742,-40.92374038696289,-9.762897491455078,-45.16242980957031,45.65266799926758,-9.114970207214355,-33.55413055419922,14.036044120788574,30.090288162231445,-12.32178020477295,38.646549224853516,-52.527061462402344,13.307069778442383,39.27082443237305,29.891199111938477,20.49022102355957,-12.29491901397705,-4.244644641876221,-7.163114547729492,39.77034378051758,-47.88166046142578,-15.509982109069824,-25.987674713134766,-11.82841968536377,-36.12656021118164,58.45381546020508,7.462355613708496,1.195107340812683,-53.375755310058594,37.28648376464844,55.30229949951172,-47.40011978149414,-8.375926971435547,-0.9597107172012329,26.374948501586914,21.910146713256836,25.32860565185547,-16.39240264892578,-25.57317543029785,-25.36546516418457,24.756919860839844,-44.57938003540039,-47.49265670776367,-43.475093841552734,39.98434066772461,-41.480037689208984,26.196739196777344,-34.455841064453125,-14.251608848571777,63.10570526123047,-5.875469207763672,42.693668365478516,-5.820621013641357,21.22085952758789,32.447628021240234,-19.068862915039062,41.080570220947266,-43.35069274902344,-20.818389892578125,-12.547125816345215,-73.57230377197266,-16.83382797241211,-9.919321060180664,-5.4630608558654785,22.93209457397461,-36.10392379760742,-19.309513092041016,-1.5519953966140747,34.2830696105957,17.19971466064453,-43.6759033203125,64.3015365600586,-0.24620850384235382,-1.1401560306549072,18.780717849731445,-4.852769374847412,-10.608641624450684,-18.13025665283203,37.04060745239258,-8.519898414611816,30.164411544799805,36.86269760131836,-30.51354217529297,-19.69243812561035,-6.983334541320801,7.507842063903809,-23.725990295410156,-3.4077720642089844,-50.26874542236328,-34.406097412109375,-6.423797607421875,6.471146106719971,-42.6651725769043,-44.83565139770508,0.7841265201568604,3.787606716156006,43.231502532958984,-3.038618326187134,-9.217041969299316,-41.205867767333984,10.080461502075195,-16.462841033935547,1.8213783502578735,11.82463550567627,-61.78736114501953,-6.304614543914795,4.765547752380371,17.80706024169922,43.54629135131836,49.11925506591797,69.51337432861328,-43.66795349121094,39.8356819152832,-26.24015998840332,-28.84497833251953,-11.808183670043945,-48.78193664550781,-8.8341064453125,13.099702835083008,-7.42076301574707,28.33165168762207,9.538442611694336,-9.978286743164062,16.71497917175293,-25.83479881286621,-7.182044982910156,-17.547863006591797,14.266743659973145,-73.53255462646484,-30.745010375976562,4.696643352508545,37.02322769165039,-15.818482398986816,22.47491455078125,48.510108947753906,1.6678049564361572,0.5860733985900879,-27.6032657623291,43.47427749633789,-8.515094757080078,-22.67864418029785,-9.245414733886719,2.625528335571289,16.771167755126953,-14.627330780029297,-43.95228576660156,9.996871948242188,-3.2127249240875244,-6.693657398223877,10.014270782470703,-3.4899556636810303,-4.461263656616211,-25.709163665771484,56.17559051513672,59.68205642700195,-47.538021087646484,11.559903144836426,-5.767828941345215,-10.985014915466309,-28.31110191345215,34.319541931152344,-39.88958740234375,71.82093048095703,34.763309478759766,-49.61296081542969,33.36088562011719,28.499101638793945,-19.86310577392578,-43.74736404418945,-16.915802001953125,-58.70134353637695,47.8197135925293,32.637306213378906,35.85690689086914,-45.10097885131836,5.391683101654053,-17.328880310058594,55.744049072265625,4.954139709472656,6.685461521148682,-25.108808517456055,55.81822204589844,47.83418655395508,30.398509979248047,-47.9742317199707,34.631229400634766,-40.52320861816406,-5.607748985290527,-14.381470680236816,-16.21459197998047,-34.8457145690918,55.445186614990234,-24.218292236328125,9.197196960449219,34.8003044128418,7.012214660644531,24.239660263061523,-4.5560503005981445,39.752010345458984,-24.424272537231445,31.88960838317871,-26.110092163085938,5.44160270690918,19.532852172851562,-20.073131561279297,-34.246150970458984,6.688082218170166,-54.529296875,31.697235107421875,-11.305420875549316,-32.70981979370117,-37.39018630981445,-20.08390235900879,-10.002361297607422,64.0551986694336,26.61589241027832,-62.962337493896484,-16.483516693115234,-41.12794876098633,23.433897018432617,27.155738830566406,50.89346694946289,16.548776626586914,-14.559677124023438,56.487220764160156,31.35894203186035,-36.0086784362793,-3.286811351776123,-71.33393859863281,-58.8236083984375,2.2744333744049072,-17.868993759155273,-47.623680114746094,-69.7750015258789,-45.53684616088867,52.2159423828125,-72.44800567626953,-72.81278991699219,-30.005287170410156,37.021690368652344,-44.45915985107422,-45.3867301940918,29.47083854675293,-5.693962574005127,30.32622718811035,10.344932556152344,59.63199996948242,-65.72331237792969,55.25106430053711,-0.628738522529602,50.14985656738281,48.31000518798828,-13.217352867126465,1.0211946964263916,-36.91709518432617,56.24619674682617,-27.548206329345703,52.257179260253906,-33.292144775390625,-14.653555870056152,20.23253631591797,47.79763412475586,46.02642059326172,16.571680068969727,60.694454193115234,-47.72942352294922,-30.01601791381836,-51.1478271484375,-12.799490928649902,42.84006118774414,37.52212905883789,-40.48423385620117,-47.45845413208008,-5.749983787536621,39.57516098022461,27.091564178466797,45.54627227783203,22.68347930908203,48.61263656616211,-71.46499633789062,-0.041213423013687134,52.303123474121094,27.733036041259766,-27.761024475097656,-23.380962371826172,-72.88233184814453,-13.885295867919922,37.524356842041016,11.595173835754395,-32.05924606323242,13.469461441040039,55.490638732910156,-13.996275901794434,9.793391227722168,-49.52442932128906,-72.80608367919922,3.839284896850586,-6.849465370178223,-51.939208984375,-68.95075225830078,-11.721397399902344,2.894012689590454,23.07357406616211,-59.222251892089844,-27.45857810974121,-22.011899948120117,-25.94085693359375,-34.428497314453125,-42.826133728027344,-28.416316986083984,-42.70468521118164,21.97559928894043,-32.397071838378906,14.12479305267334,-18.988523483276367,2.1083741188049316,19.288909912109375,14.008782386779785,40.09717559814453,56.10832214355469,2.5962090492248535,31.177169799804688,-43.501583099365234,25.68061637878418,7.350568771362305,27.344867706298828,-45.21794128417969,57.314090728759766,-70.28396606445312,-46.167579650878906,27.66676139831543,-36.92005920410156,-48.05316925048828,56.37846755981445,-64.1160888671875,22.712610244750977,-50.782047271728516,-31.28338050842285,-31.87674903869629,-71.6502456665039,33.47172927856445,63.51595687866211,-53.798255920410156,-17.464454650878906,-13.33193302154541,-9.397653579711914,2.5767228603363037,-25.58770179748535,0.006005988921970129,38.075008392333984,-36.72095489501953,34.148475646972656,31.06332015991211,13.82406234741211,19.690399169921875,-25.535400390625,-11.425048828125,8.290311813354492,-45.60999298095703,31.02054214477539,-72.51544189453125,-67.569091796875,-36.590030670166016,26.28833770751953,24.934919357299805,-21.18772315979004,-65.69625854492188,-59.20917892456055,-43.25937271118164,-39.52220153808594,-54.684326171875,-32.88274383544922,-18.430559158325195,-21.535598754882812,-7.178103446960449,4.30662727355957,33.31622314453125,19.757930755615234,-31.395713806152344,7.472633361816406,27.2006893157959,42.67860794067383,19.94218635559082,-69.65914154052734,-18.26560401916504,6.068864822387695,-12.398568153381348,27.788686752319336,13.760004043579102,-48.1655158996582,62.5863151550293,60.563201904296875,-7.28887414932251,6.203701019287109,-29.954448699951172,-62.41410827636719,32.6995735168457,18.610597610473633,-4.732368469238281,-25.764984130859375,-56.074928283691406,32.42415237426758,53.376827239990234,-30.22696304321289,-18.76803970336914,58.5918083190918,17.487977981567383,56.20148849487305,-18.586408615112305,14.208510398864746,-29.429946899414062,39.32432556152344,13.710915565490723,33.85450744628906,43.6934700012207,40.94574737548828,-13.624885559082031,27.062686920166016,-6.000349521636963,-10.976970672607422,31.2746524810791,30.809371948242188,-9.524374961853027,38.72697830200195,59.42388916015625,-45.73695373535156,-20.28829574584961,-7.472189426422119,-41.53173828125,-72.94552612304688,-50.643211364746094,-12.852139472961426,48.5435676574707,34.998355865478516,33.343631744384766,-27.29585075378418,19.78213119506836,22.271684646606445,38.014102935791016,16.848791122436523,9.39133071899414,-21.816999435424805,56.14967727661133,-25.49128532409668,-22.00229835510254,54.535240173339844,-14.106877326965332,-2.8643994331359863,11.238049507141113,-60.510013580322266,-65.8226547241211,-27.56718635559082,-65.87541198730469,-19.805070877075195,-73.77054595947266,40.67042541503906,-11.412210464477539,56.05239486694336,-21.17462158203125,-1.8447239398956299,-51.9100227355957,-47.97335433959961,38.638404846191406,46.64750671386719,-35.74365997314453,-1.68401300907135,9.179009437561035,12.459388732910156,-6.372206211090088,-12.013802528381348,7.744646072387695,-7.186274528503418,45.126155853271484,20.616607666015625,1.59516179561615,25.511629104614258,-23.380542755126953,-23.39032745361328,-43.56129455566406,-30.323713302612305,-47.25767517089844,2.8910562992095947,15.059131622314453,4.82600736618042,2.7219574451446533,4.392217636108398,11.977973937988281,5.016839981079102,23.646406173706055,15.088261604309082,-55.359397888183594,-6.506845474243164,-20.13507843017578,12.324944496154785,59.459251403808594,-25.58843994140625,-11.549344062805176,-41.1445198059082,7.856448173522949,-24.995393753051758,25.140172958374023,-3.2711095809936523,31.81631088256836,-48.244049072265625,-43.283851623535156,-43.53422546386719,13.116410255432129,-14.364848136901855,26.747188568115234,37.24188232421875,-7.768477439880371,16.54694366455078,0.4964386522769928,56.160858154296875,16.416255950927734,-33.45673370361328,4.744356155395508,53.50721740722656,-31.23881721496582,-46.0108757019043,-0.41771942377090454,48.32630920410156,34.577274322509766,4.176727294921875,19.25457763671875,-2.0407156944274902,66.82469940185547,19.727256774902344,26.623512268066406,15.82062816619873,-13.544821739196777,-43.361610412597656,-16.8898868560791,-5.25138521194458,58.751529693603516,-7.981410980224609,14.947357177734375,21.858905792236328,39.58555221557617,-36.584800720214844,13.940940856933594,-4.181353569030762,-31.803239822387695,14.49833869934082,-11.380602836608887,-60.087852478027344,-7.8338623046875,17.59074592590332,27.37135887145996,-27.729354858398438,-13.066350936889648,-50.50190353393555,50.116302490234375,19.852510452270508,-9.24273681640625,39.628807067871094,-10.88314151763916,17.614717483520508,31.748977661132812,-15.913045883178711,-31.689882278442383,-17.1806697845459,9.47708511352539,2.5578904151916504,-70.16543579101562,18.28565788269043,-17.416044235229492,-31.848485946655273,-12.149554252624512,39.25116729736328,-36.51604461669922,-38.11935043334961,30.69588851928711,16.14918327331543,-13.566694259643555,44.17331314086914,33.478641510009766,43.518768310546875,12.17096996307373,-69.57161712646484,46.540958404541016,19.423500061035156,-35.351070404052734,-3.6721878051757812,35.17055892944336,11.332834243774414,-28.54038429260254,-73.53260040283203,-20.913501739501953,-16.767948150634766,41.896671295166016,-4.813976287841797,48.83128356933594,-15.606024742126465,-21.46936798095703,-11.35317325592041,8.208645820617676,34.114463806152344,43.33747863769531,14.095598220825195,-63.97474670410156,13.574517250061035,5.354068279266357,-31.508281707763672,-2.322652816772461,73.10960388183594,4.695608615875244,11.461753845214844,47.92305374145508,31.029125213623047,-38.15874481201172,-12.716756820678711,-24.968900680541992,38.66830062866211,-24.851125717163086,44.326568603515625,-2.6303975582122803,-10.472126960754395,15.800904273986816,0.9413719177246094,55.03947067260742,10.384653091430664,-62.11906814575195,2.97070050239563,2.404841423034668,47.408416748046875,-3.409069538116455,5.337622165679932,23.097566604614258,19.569429397583008,-40.6299934387207,-22.681486129760742,46.041900634765625,73.06730651855469,-28.777099609375,25.181364059448242,43.12465286254883,-12.640690803527832,-1.259892225265503,-10.710511207580566,29.771350860595703,8.283119201660156,-11.498157501220703,-52.97993850708008,-24.44064712524414,40.158775329589844,28.89751434326172,18.988283157348633,-20.119617462158203,-12.384157180786133,1.7444926500320435,37.260189056396484,-16.75726318359375,-46.066680908203125,11.096510887145996,-10.202239990234375,-60.478797912597656,-5.97536563873291,-71.45313262939453,-13.229883193969727,5.246570110321045,-20.32959747314453,-71.33212280273438,51.67957305908203,-1.0878572463989258,-28.980789184570312,-8.586670875549316,-37.332088470458984,12.066447257995605,-6.893172740936279,8.058436393737793,-23.041282653808594,-18.876035690307617,46.90618896484375,-14.593122482299805,4.615644454956055,58.73386001586914,-50.52294158935547,41.40126419067383,-15.639341354370117,3.562380313873291,-59.04307174682617,22.44318389892578,8.939379692077637,-24.341054916381836,3.6550867557525635,-2.9670562744140625,-72.73609924316406,-4.3840789794921875,9.982232093811035,20.524972915649414,76.75164794921875,25.11962127685547,30.94420051574707,-31.11493682861328,-3.5701160430908203,-62.8585319519043,-17.97809600830078,0.7517331838607788,-65.41056823730469,-35.20417785644531,9.209056854248047,6.783143520355225,23.83180809020996,59.75531768798828,-11.428403854370117,-8.309228897094727,12.40573787689209,3.159926176071167,34.538387298583984,12.052690505981445,-18.195755004882812,-21.7901668548584,9.177709579467773,-53.21044921875,8.311607360839844,-15.664198875427246,41.12889099121094,51.053871154785156,41.895633697509766,-13.279951095581055,6.782458305358887,13.995750427246094,22.262117385864258,3.8812525272369385,-71.90409851074219,-4.498898983001709,51.74498748779297,41.191139221191406,-10.087125778198242,43.33736038208008,24.367204666137695,43.54479217529297,59.563453674316406,41.7176628112793,-8.958250045776367,23.856475830078125,72.68952941894531,-61.161869049072266,-22.3095645904541,-7.507259368896484,-44.3812370300293,12.341737747192383,-33.02810287475586,-54.38628005981445,41.321258544921875,-33.75749969482422,-52.29079055786133,-9.205676078796387,26.848487854003906,44.70111846923828,38.727603912353516,-18.171567916870117,-12.700923919677734,41.8359375,8.050528526306152,32.580291748046875,-43.39678192138672,-21.62032699584961,36.411861419677734,37.192256927490234,-3.4059901237487793,51.27140426635742,-67.752197265625,15.539255142211914,4.288420677185059,-2.088035821914673,-28.79207420349121,65.76126861572266,47.14504623413086,22.559297561645508,58.97509002685547,24.307165145874023,-5.396905899047852,47.80536651611328,-4.241354942321777,-54.99695587158203,-74.56230926513672,-13.040894508361816,25.412866592407227,15.918254852294922,14.097494125366211,26.230886459350586,-43.172176361083984,44.80735397338867,5.349614143371582,44.83005905151367,-8.521172523498535,23.663190841674805,25.434656143188477,0.8759693503379822,-9.338340759277344,-63.4300422668457,6.239184856414795,32.89381408691406,38.21881103515625,54.66386795043945,45.01612854003906,20.402366638183594,7.951433181762695,-0.5212663412094116,-23.70094108581543,20.187763214111328,-68.99464416503906,9.38726806640625,13.26694393157959,-22.672208786010742,-5.7643609046936035,-13.331533432006836,3.658000946044922,9.099498748779297,9.038212776184082,-30.057538986206055,71.61006927490234,-12.387722969055176,31.791282653808594,-34.03797912597656,-9.621993064880371,-3.6358602046966553,32.18851089477539,-9.653695106506348,46.14607620239258,41.933372497558594,-74.81231689453125,41.11102294921875,-47.519554138183594,-63.523231506347656,26.8858585357666,-23.033145904541016,-7.336727619171143,38.82939147949219,-14.379165649414062,-48.33393859863281,18.32770538330078,6.064187049865723,-19.512670516967773,17.11016273498535,28.315086364746094,1.7546398639678955,5.460283279418945,41.15433883666992,1.7702158689498901,-58.699737548828125,-38.50425338745117,-31.338497161865234,-29.584239959716797,-38.74948501586914,21.361621856689453,-1.8000426292419434,60.02782440185547,45.50629806518555,41.802734375,-17.175607681274414,-10.390098571777344,-16.83049774169922,25.69156837463379,58.94086837768555,13.157316207885742,-14.212065696716309,-14.795467376708984,55.13873291015625,-23.186452865600586,-0.007156233303248882,-49.948055267333984,39.28948211669922,41.511871337890625,-43.577850341796875,12.923829078674316,-20.117464065551758,38.47567367553711,35.95811080932617,14.880011558532715,54.15687942504883,37.35440444946289,1.2145724296569824,-50.605098724365234,44.323158264160156,-62.57809066772461,31.95917510986328,-34.74340057373047,13.713147163391113,10.049062728881836,-22.527313232421875,-16.73877716064453,-18.06512451171875,-40.55263137817383,-18.344608306884766,0.09380476921796799,-11.042391777038574,28.601028442382812,-60.185001373291016,23.542173385620117,60.17752456665039,1.3918277025222778,4.146017074584961,50.33492660522461,-32.55956268310547,29.35516357421875,-59.20575714111328,21.55684471130371,-1.1303565502166748,24.790287017822266,38.50289535522461,-22.861326217651367,4.38750696182251,-23.152128219604492,-19.759565353393555,13.348057746887207,-9.398256301879883,9.544203758239746,-8.334329605102539,-7.546087265014648,5.927057266235352,7.9154438972473145,27.14700698852539,18.45256233215332,-35.33095169067383,-22.041608810424805,58.91145706176758,57.215301513671875,-38.34428024291992,11.413450241088867,13.34860610961914,-2.6901028156280518,-24.73351287841797,42.18858337402344,-32.512603759765625,22.638113021850586,-53.761661529541016,52.27609634399414,20.3043212890625,66.39950561523438,-59.003360748291016,-0.18285788595676422,-13.000327110290527,2.971775531768799,-10.058707237243652,-51.86912155151367,-22.023996353149414,-60.447608947753906,-3.920588493347168,-41.38866424560547,59.81170654296875,-14.466873168945312,-63.97193145751953,-27.071809768676758,36.04058074951172,-27.07485580444336,-17.567705154418945,56.416202545166016,21.943805694580078,-64.98335266113281,-14.841134071350098,-14.749671936035156,-54.420860290527344,19.225372314453125,11.137289047241211,-3.6438145637512207,-15.297581672668457,19.30967140197754,8.56736946105957,21.4725284576416,21.517635345458984,-41.5836067199707,-21.676549911499023,-8.917274475097656,-37.16584777832031,8.413288116455078,8.469049453735352,19.925058364868164,37.44216537475586,66.45785522460938,-25.00993537902832,37.63688278198242,-29.935516357421875,39.02754211425781,8.715968132019043,-44.69058609008789,-10.08252239227295,-29.15042495727539,0.5491005182266235,-42.37649154663086,-10.79798412322998,21.133102416992188,53.517852783203125,-35.2304801940918,25.97189712524414,-31.83696937561035,9.46021842956543,-22.44892692565918,0.4905054569244385,-2.4111592769622803,-43.634132385253906,-1.5566041469573975,22.972949981689453,25.04791259765625,22.81306266784668,-41.81151580810547,33.385459899902344,18.033817291259766,-34.09807205200195,-30.41269302368164,3.3551971912384033,-0.39227625727653503,-18.224260330200195,29.84273910522461,6.997885704040527,45.29505920410156,-31.019994735717773,26.942350387573242,9.715213775634766,49.85261917114258,41.669677734375,7.999171733856201,45.56813430786133,16.329143524169922,-2.6481516361236572,26.81841278076172,16.627534866333008,-32.434776306152344,-19.867809295654297,5.172204971313477,9.196088790893555,-2.3830463886260986,37.50173568725586,44.376991271972656,5.617259979248047,32.14793395996094,13.73855972290039,-40.58888244628906,6.866208076477051,-23.33473014831543,11.06042766571045,-21.40643882751465,-12.4280366897583,46.884830474853516,-26.078903198242188,-6.234373092651367,9.622552871704102,-23.73128890991211,31.428924560546875,-19.593862533569336,28.530664443969727,-39.49501419067383,-32.76919937133789,48.540260314941406,-19.284011840820312,37.18935775756836,-50.00590515136719,3.952237844467163,-39.36123275756836,26.62244987487793,57.23126983642578,-32.90797805786133,5.036090850830078,-16.0024356842041,34.442039489746094,-52.01508331298828,37.73336410522461,-13.574026107788086,59.26813507080078,-44.951541900634766,-32.61532974243164,20.935707092285156,38.5486946105957,-37.623565673828125,-20.862028121948242,-30.50644302368164,-20.406681060791016,-32.49705505371094,-40.89647674560547,-23.80543327331543,34.60712432861328,-23.788869857788086,-9.940410614013672,45.21188735961914,41.61751937866211,70.45550537109375,66.62055206298828,-16.090591430664062,42.17692947387695,19.280118942260742,9.746811866760254,-49.2585334777832,-57.11429214477539,-9.911005973815918,48.606346130371094,38.56021499633789,-22.84012222290039,-5.646981239318848,19.798927307128906,4.210577487945557,5.449385643005371,14.28462028503418,0.6892616152763367,4.880341053009033,48.58820343017578,34.78097915649414,49.629337310791016,8.062664031982422,59.61715316772461,40.8242073059082,20.343029022216797,29.996501922607422,1.8075506687164307,-60.55213165283203,-27.15753746032715,-27.428070068359375,-3.005047082901001,36.31066131591797,-46.191131591796875,-40.932212829589844,-24.97006607055664,-50.457542419433594,59.962432861328125,1.8748396635055542,1.572298526763916,29.07231903076172,33.13219451904297,-8.600492477416992,-51.9267692565918,-19.96622085571289,-6.5609235763549805,-8.543180465698242,24.125070571899414,14.657475471496582,-66.05047607421875,-28.083337783813477,-12.129548072814941,61.992156982421875,-28.741485595703125,-50.609336853027344,-12.443741798400879,8.504963874816895,14.809045791625977,37.60890579223633,-22.30597496032715,71.84693908691406,36.448081970214844,-7.9210896492004395,0.14465808868408203,35.88780975341797,-5.739682674407959,53.03950881958008,14.160902976989746,-33.98442459106445,-26.157838821411133,-16.158437728881836,69.99646759033203,38.21968460083008,0.32775264978408813,33.59661102294922,-13.069581985473633,45.55216598510742,-70.47863006591797,-13.957683563232422,13.529537200927734,-46.37840270996094,59.445762634277344,-70.69097137451172,7.061611652374268,-25.78648567199707,-72.9507827758789,-54.412418365478516,-41.310035705566406,-71.9294662475586,-75.33731842041016,-75.70121765136719,-68.99486541748047,-71.85469055175781,-74.09642791748047,-72.23953247070312,11.358597755432129,48.47352600097656,-55.62252426147461,51.8982048034668,20.828189849853516,28.40184211730957,6.14890718460083,-7.940367698669434,-69.26387023925781,-6.217380523681641,-46.789222717285156,-2.306710958480835,-29.86875343322754,49.0738525390625,21.78058624267578,17.254335403442383,-5.86378288269043,17.752363204956055,15.012425422668457,-1.2468349933624268,-14.520585060119629,-15.853665351867676,-33.070899963378906,8.393108367919922,48.66805648803711,23.205276489257812,-7.842062473297119,-38.950531005859375,42.61717987060547,-2.2167375087738037,-12.266507148742676,22.537900924682617,-8.138985633850098,-8.145190238952637,-8.143193244934082,0.2767800986766815,-14.596878051757812,18.844566345214844,45.72157669067383,18.461830139160156,-58.26887512207031,45.389869689941406,-10.194665908813477,47.72049331665039,-15.418269157409668,-21.34227752685547,33.529109954833984,4.292201042175293,15.112703323364258,-14.061838150024414,-10.600992202758789,-8.369620323181152,15.771119117736816,16.14617156982422,36.058692932128906,37.824161529541016,68.41993713378906,35.38111114501953,73.0419692993164,22.436717987060547,3.98762845993042,53.16954040527344,32.59927749633789,-57.25196838378906,-46.02546691894531,19.936044692993164,35.08049011230469,-54.427242279052734,2.0587539672851562,-53.773380279541016,-38.19832229614258,-68.59412384033203,-6.056893825531006,-52.25161361694336,15.58757209777832,31.560461044311523,-4.948550701141357,-41.04921340942383,-7.842808723449707,23.666269302368164,53.74972915649414,-44.068058013916016,41.914363861083984,-3.503713607788086,13.2569580078125,26.573625564575195,-4.46956205368042,7.70927619934082,22.731721878051758,32.04491424560547,26.356584548950195,53.50099563598633,-24.20561981201172,7.938459873199463,-1.357882022857666,-14.196642875671387,28.287506103515625,12.31332015991211,-32.45328903198242,30.730201721191406,4.228140830993652,20.194473266601562,6.772591590881348,51.402889251708984,-11.049375534057617,1.3345789909362793,-73.98431396484375,32.339359283447266,-16.52814483642578,20.287630081176758,-18.9365177154541,-58.830718994140625,-44.150821685791016,26.403547286987305,15.045276641845703,2.3096134662628174,16.107952117919922,-12.632505416870117,-43.55057144165039,2.9588332176208496,-15.889632225036621,-0.8641163110733032,-14.181360244750977,6.578418731689453,32.28166198730469,20.158679962158203,11.796308517456055,12.294099807739258,-29.560226440429688,24.67603302001953,36.684932708740234,60.591331481933594,29.61872100830078,35.04677963256836,-8.577215194702148,40.12445068359375,5.851743698120117,-33.43109130859375,50.11459732055664,-43.715335845947266,20.589815139770508,-28.475095748901367,-27.95289421081543,-28.877460479736328,8.913887023925781,-58.23526382446289,-1.7523870468139648,-25.271203994750977,-38.763023376464844,27.130352020263672,27.1285457611084,47.935428619384766,0.5287203788757324,-32.98066711425781,-2.45414400100708,-19.416645050048828,50.124141693115234,43.597900390625,31.773027420043945,-28.658832550048828,46.55302429199219,-21.232376098632812,-39.47700500488281,-13.244545936584473,-57.835609436035156,-1.0361095666885376,-24.365550994873047,19.983789443969727,-16.6661319732666,3.8835010528564453,-46.28995132446289,-47.42514419555664,-19.76230239868164,-45.56763458251953,16.772296905517578,-15.601804733276367,-36.269771575927734,-46.74803924560547,-2.041347026824951,-27.229095458984375,46.56382751464844,59.481014251708984,-31.91209602355957,-10.182147026062012,-17.578874588012695,-7.178459167480469,3.1979899406433105,-24.300302505493164,23.04958724975586,-11.364302635192871,-72.84700775146484,7.944023609161377,-29.38352394104004,48.634944915771484,33.72786331176758,10.011459350585938,-3.0217010974884033,16.965106964111328,-57.753028869628906,1.1932936906814575,-49.205657958984375,30.76175308227539,50.186885833740234,30.94896697998047,-13.917287826538086,-1.2223966121673584,31.5369815826416,58.9005126953125,6.793992519378662,-24.275110244750977,-30.95948600769043,15.024839401245117,-32.028785705566406,-14.357810974121094,30.53160858154297,11.900699615478516,-25.160263061523438,29.862586975097656,38.20793914794922,-19.732393264770508,50.39277648925781,4.792421817779541,35.05902862548828,8.631864547729492,8.611388206481934,5.633161544799805,52.055721282958984,36.116310119628906,-26.71649742126465,-10.476984024047852,26.66949462890625,-47.71659851074219,0.5303401350975037,49.181705474853516,-35.964820861816406,-42.95539093017578,-17.649410247802734,-4.414405345916748,-34.26578140258789,-26.269380569458008,14.28897476196289,15.465331077575684,14.718888282775879,14.913276672363281,14.100762367248535,15.312143325805664,14.468019485473633,14.967567443847656,13.948138236999512,16.5447998046875,14.416278839111328,14.7556734085083,4.16129207611084,13.80956745147705,15.693096160888672,13.683290481567383,14.283697128295898,15.334871292114258,14.725358009338379,-37.42579650878906,8.62255573272705,13.791179656982422,55.678749084472656,-12.52127742767334,-53.89176940917969,44.78617477416992,9.728899955749512,4.553150653839111,46.33719253540039,-13.373223304748535,-33.787567138671875,5.892736434936523,-54.20273208618164,2.417903423309326,-47.677669525146484,-13.763096809387207,-34.090858459472656,-11.534765243530273,-35.6903076171875,-28.328781127929688,-58.5399169921875,42.430477142333984,-12.156601905822754,19.495512008666992,-47.774166107177734,-64.48870849609375,62.40203094482422,-48.23772430419922,-8.741252899169922,17.710556030273438,27.937889099121094,21.9716796875,-7.871584892272949,-53.355934143066406,8.558807373046875,18.445093154907227,37.11766815185547,39.5356330871582,8.564651489257812,19.201961517333984,61.07498550415039,27.89374542236328,13.38964557647705,-3.6269280910491943,-1.6703912019729614,63.0233154296875,-20.025999069213867,16.79724884033203,-0.3771836757659912,-16.4925594329834,-35.563934326171875,-14.650589942932129,28.094791412353516,38.05632781982422,66.05653381347656,8.822994232177734,-1.4514167308807373,15.892404556274414,9.598803520202637,-42.553340911865234,-33.001121520996094,-43.59737777709961,-40.897850036621094,-13.724503517150879,50.11347198486328,-3.282494306564331,56.63642883300781,-70.70987701416016,50.24869155883789,-0.08919773995876312,-22.798175811767578,-31.48186492919922,-4.795791149139404,-4.757277488708496,20.071414947509766,42.09288787841797,-50.65011215209961,16.42682456970215,3.823225498199463,-76.63743591308594,1.3521476984024048,-56.041507720947266,-65.74378967285156,-2.1881861686706543,28.58997344970703,46.471405029296875,-15.574943542480469,-9.536113739013672,-34.961273193359375,50.91093826293945,4.53005838394165,39.081321716308594,-57.25838851928711,-21.264585494995117,53.569236755371094,-1.060320496559143,44.182716369628906,-35.83437728881836,-23.368013381958008,-62.007869720458984,5.278369426727295,-7.822848320007324,34.795143127441406,55.93624496459961,-20.155059814453125,-43.851627349853516,-20.206298828125,-20.188783645629883,-48.13663864135742,-68.44547271728516,9.984575271606445,0.9164890050888062,-48.547080993652344,-21.463951110839844,49.75283432006836,-3.6999428272247314,1.2043439149856567,-37.52002716064453,50.06621170043945,33.17872619628906,5.5038886070251465,7.516520023345947,-10.340892791748047,21.642066955566406,-10.226174354553223,30.61703109741211,11.431916236877441,-59.50272750854492,56.37644577026367,-71.98462677001953,16.935340881347656,16.944005966186523,58.790374755859375,-47.27081298828125,-43.117774963378906,21.284757614135742,43.352901458740234,-21.657442092895508,10.734663009643555,-5.847036361694336,3.6804964542388916,-31.13425064086914,-60.39179992675781,37.016685485839844,-56.01163864135742,-69.82176208496094,9.931312561035156,-32.24245071411133,18.164615631103516,-38.337013244628906,-26.988712310791016,11.0262451171875,38.57685470581055,2.7400712966918945,7.260013580322266,29.204166412353516,40.05791473388672,15.693809509277344,26.717294692993164,0.2415277361869812,11.674010276794434,-8.030922889709473,28.270225524902344,-11.334630012512207,8.718487739562988,19.873327255249023,17.749601364135742,-6.68881893157959,-10.59614086151123,17.595666885375977,-59.15180206298828,-3.3623557090759277,0.7772622108459473,55.79622268676758,13.814188003540039,35.92890548706055,24.093172073364258,-48.35585021972656,38.75264358520508,-26.971622467041016,-19.35179901123047,-8.36165714263916,20.62580108642578,36.62234878540039,-29.35039520263672,-13.15351676940918,-29.13961410522461,3.8307533264160156,-21.99829864501953,24.622114181518555,-16.597023010253906,-12.56423282623291,-2.139070749282837,-25.302095413208008,30.42486000061035,26.74761390686035,17.36025619506836,-15.873348236083984,33.45018005371094,-12.272414207458496,-5.672626972198486,54.56822204589844,30.492660522460938,30.31563949584961,11.479715347290039,12.408733367919922,-10.236072540283203,-10.245402336120605,-10.359679222106934,28.593597412109375,-9.849654197692871,-22.740097045898438,30.042953491210938,24.93239974975586,-14.6725435256958,-43.968719482421875,8.134841918945312,23.253677368164062,18.10734748840332,0.6442005634307861,-66.02809143066406,55.304012298583984,15.155248641967773,8.773219108581543,37.670074462890625,35.7379150390625,-4.5935797691345215,-68.67564392089844,13.84254264831543,-26.799072265625,62.10664367675781,73.04895782470703,-29.713193893432617,-47.24055480957031,3.705315351486206,-7.077301502227783,3.7230727672576904,-30.420869827270508,17.706327438354492,34.79470443725586,-16.589391708374023,9.963903427124023,-66.88589477539062,3.8179571628570557,-49.23384094238281,-38.72426223754883,35.8619499206543,-0.0335574597120285,33.072574615478516,-25.012346267700195,-36.619564056396484,22.204761505126953,-32.14939880371094,-56.05101013183594,-35.23509216308594,-17.445425033569336,-3.510741949081421,66.10498809814453,-44.39563751220703,58.8078727722168,-6.575350761413574,44.15907287597656,-3.7126083374023438,-44.96841049194336,-48.343116760253906,37.63874816894531,-1.8669379949569702,31.84553337097168,15.890467643737793,0.5320237278938293,-19.178939819335938,19.542579650878906,20.826030731201172,10.019426345825195,38.712646484375,-51.94028854370117,-49.39976501464844,-21.44956398010254,9.308233261108398,-37.033203125,24.0960693359375,-9.652897834777832,-18.027116775512695,48.01810073852539,-11.398727416992188,-27.444171905517578,28.413240432739258,28.259876251220703,35.948246002197266,45.80290985107422,0.6169734597206116,-16.472597122192383,-48.51433181762695,17.4322452545166,-31.148059844970703,25.3332576751709,9.35198974609375,38.16322708129883,-35.27223205566406,-17.34573745727539,-66.853759765625,-38.577091217041016,-53.33658981323242,3.8017773628234863,-24.915386199951172,17.11905288696289,33.66851806640625,-10.554737091064453,21.012065887451172,-53.9686279296875,-5.639944076538086,-11.161795616149902,26.046083450317383,-4.615347385406494,31.828689575195312,43.48682403564453,-33.763832092285156,40.49863815307617,24.20364761352539,34.696556091308594,16.950925827026367,66.72969055175781,-6.314660549163818,16.46693229675293,-16.981849670410156,3.957045078277588,48.29890823364258,48.891868591308594,6.261257171630859,30.30414581298828,-53.10186767578125,21.907930374145508,-38.87118148803711,52.153751373291016,33.14637756347656,8.301034927368164,55.1651496887207,24.272457122802734,-12.073623657226562,-69.62926483154297,-15.425880432128906,-47.15378952026367,-14.658299446105957,-54.307674407958984,-57.79576110839844,30.282487869262695,-19.504323959350586,1.3205711841583252,-11.55571174621582,13.023367881774902,1.5003596544265747,17.59331512451172,28.632490158081055,47.08100509643555,36.64311218261719,35.63947296142578,56.125274658203125,-27.403451919555664,33.51901626586914,3.500300645828247,-26.636499404907227,13.709698677062988,24.956205368041992,43.051082611083984,-17.58808135986328,-54.12963104248047,18.67028045654297,-42.16587829589844,-13.919042587280273,-33.9415168762207,-1.9151393175125122,-39.39344787597656,13.666023254394531,39.06330108642578,20.47559356689453,39.24448776245117,-40.18453598022461,-43.528961181640625,1.0200761556625366,67.442626953125,36.9146728515625,-35.852073669433594,58.69423294067383,33.76884460449219,-7.306910037994385,-20.95158576965332,-18.250015258789062,-34.842891693115234,51.10590744018555,5.724691390991211,40.433372497558594,-8.538125038146973,-12.673248291015625,14.789285659790039,3.7323241233825684,48.969669342041016,26.723804473876953,-30.877527236938477,14.016875267028809,52.04486083984375,-7.648894786834717,-19.91535758972168,-6.640373229980469,-17.153881072998047,24.214738845825195,21.89871597290039,55.88170623779297,-16.65822410583496,18.112035751342773,-29.32346534729004,17.987035751342773,-1.6431536674499512,17.987167358398438,-55.82133865356445,-44.1441764831543,-24.36571502685547,6.541041851043701,41.92477798461914,-10.361845970153809,15.063671112060547,-61.88449478149414,16.680530548095703,5.162996292114258,5.585441589355469,14.917149543762207,3.841463804244995,4.7636213302612305,-15.313657760620117,-1.0139784812927246,-35.9571533203125,66.59740447998047,10.451361656188965,-24.890031814575195,-35.10820770263672,-17.379684448242188,-27.155916213989258,17.59588050842285,-17.81778335571289,-15.74467658996582,-54.39601135253906,1.86813485622406,-19.42412567138672,-1.3552830219268799,-17.97951889038086,-22.502464294433594,9.425466537475586,15.460299491882324,-41.75334548950195,-22.199058532714844,-20.05674171447754,23.05763816833496,-17.59510040283203,-4.077535629272461,-14.293241500854492,-45.17443084716797,-54.0611686706543,13.603187561035156,-19.074073791503906,-15.36286735534668,21.081029891967773,-2.4662387371063232,34.449283599853516,34.89530563354492,16.97970199584961,24.8646297454834,-49.39244079589844,42.54359436035156,-22.579235076904297,-55.840240478515625,-5.218096733093262,51.59074783325195,-47.88853073120117,-43.922508239746094,7.458500862121582,21.337688446044922,11.575841903686523,59.866798400878906,46.7393798828125,6.299759387969971,23.66798973083496,-10.121235847473145,-23.902679443359375,27.923280715942383,-61.00333023071289,-18.50821304321289,-34.29780197143555,25.59514617919922,-7.325526237487793,-14.710490226745605,27.090036392211914,-16.475366592407227,55.28620529174805,38.09751510620117,-46.99615478515625,-2.3033998012542725,11.88192081451416,30.733890533447266,32.36137390136719,-10.508678436279297,-8.28072452545166,-13.024285316467285,36.05160903930664,-72.888916015625,23.2330322265625,-23.91324806213379,-12.348749160766602,1.3318390846252441,15.485876083374023,23.111919403076172,-55.00264358520508,67.0615463256836,-13.415431022644043,-58.43428039550781,-20.12921142578125,-25.072364807128906,-32.61003112792969,43.367454528808594,3.19404673576355,-4.0621232986450195,33.58449935913086,-20.74751091003418,-48.190467834472656,20.345609664916992,-18.28801155090332,-6.842078685760498,10.679544448852539,14.866801261901855,-50.365196228027344,69.8053207397461,-47.069976806640625,-11.51196575164795,-33.842750549316406,-34.72462463378906,-7.345153331756592,33.14829635620117,-26.173086166381836,-12.61860179901123,-39.67757034301758,-29.847219467163086,-56.49528121948242,-8.244795799255371,-8.460338592529297,8.429510116577148,9.58961009979248,47.94358444213867,25.372373580932617,20.412946701049805,7.951513290405273,-3.229224443435669,-49.41455841064453,-45.417564392089844,18.205883026123047,-1.7816649675369263,3.2207529544830322,-0.4420125484466553,32.12030029296875,55.943382263183594,19.14280128479004,1.5817688703536987,-34.23933792114258,-22.58293914794922,-3.666590690612793,11.088874816894531,11.843440055847168,7.177361965179443,-18.929786682128906,44.831939697265625,26.166179656982422,24.005168914794922,-59.94969940185547,-25.919836044311523,-43.6509895324707,37.11894607543945,-35.722412109375,6.083310127258301,33.45454025268555,9.148676872253418,7.141183376312256,51.60588836669922,49.8277587890625,46.382537841796875,-43.04362869262695,49.019187927246094,69.43136596679688,10.053438186645508,63.634071350097656,35.656673431396484,-18.34900665283203,-0.34345972537994385,43.71416473388672,-68.63228607177734,-22.47797393798828,65.42822265625,30.987197875976562,-64.16596221923828,25.538118362426758,49.53472137451172,43.00276184082031,10.347030639648438,8.376625061035156,-14.494738578796387,28.590106964111328,38.85401153564453,9.815119743347168,45.350528717041016,-27.524429321289062,57.54673767089844,27.721439361572266,37.72172927856445,-41.73036193847656,3.5338170528411865,10.136116981506348,26.771875381469727,14.635815620422363,1.7157843112945557,41.465919494628906,32.631141662597656,20.334306716918945,-50.67580795288086,-21.953689575195312,-19.05948829650879,10.283802032470703,4.294670104980469,-17.87214469909668,23.618473052978516,-22.35289192199707,21.364540100097656,-64.12588500976562,40.97023391723633,44.21772003173828,-48.79607391357422,9.589960098266602,42.76212692260742,4.395623683929443,-60.896366119384766,-2.667436122894287,1.9537954330444336,-13.268129348754883,-27.672815322875977,9.51704216003418,-28.137096405029297,-19.044897079467773,8.68532943725586,10.076939582824707,32.4658088684082,0.9561210870742798,-41.96300506591797,9.104377746582031,-26.01704216003418,23.096603393554688,-44.855438232421875,47.35947799682617,25.632463455200195,-8.197391510009766,52.21718978881836,-47.80515670776367,42.07906723022461,-37.512550354003906,34.93360900878906,-15.65998649597168,0.19802004098892212,34.578330993652344,-12.437301635742188,35.92137145996094,-13.650224685668945,56.05234146118164,-20.141620635986328,23.18376350402832,74.458984375,60.05879211425781,-63.51824188232422,60.371726989746094,5.903265953063965,15.889986991882324,-18.067058563232422,-48.238128662109375,-48.19131851196289,-20.411975860595703,52.22150421142578,-8.412436485290527,56.07917022705078,-35.12042236328125,-65.69976043701172,-29.372600555419922,0.9666370749473572,8.142926216125488,62.65211486816406,-51.77250671386719,2.603734254837036,40.008399963378906,28.51534080505371,-57.798580169677734,-17.161041259765625,35.62491226196289,-47.33367919921875,-51.68114471435547,26.10210609436035,-66.05789947509766,-26.55927848815918,5.046980381011963,-38.51923751831055,43.19690704345703,-28.15813636779785,-37.20601272583008,17.940567016601562,-34.146202087402344,20.88022232055664,17.956655502319336,41.033790588378906,35.09958267211914,-43.502845764160156,-17.079761505126953,7.095798492431641,-13.69923210144043,-14.118846893310547,0.6998521089553833,26.676706314086914,-15.090638160705566,-24.537540435791016,-3.7287745475769043,43.876747131347656,-47.18553924560547,39.92479705810547,40.66643142700195,58.53474807739258,-40.67136764526367,-4.604543209075928,-10.955711364746094,44.968101501464844,27.109085083007812,-16.919729232788086,37.354530334472656,-74.86923217773438,29.504859924316406,-31.287860870361328,-53.52141571044922,34.50663375854492,-19.120716094970703,33.729122161865234,23.583465576171875,26.019975662231445,-40.96042251586914,-14.802861213684082,-19.498212814331055,51.86865234375,-12.086064338684082,-44.79871368408203,21.368572235107422,-30.151317596435547,5.744837284088135,40.206851959228516,-35.737060546875,2.0658295154571533,-52.5800666809082,-34.39466094970703,1.4004958868026733,-28.4217586517334,-40.8757438659668,43.77294921875,-12.761954307556152,-15.579212188720703,37.87080764770508,-9.104347229003906,-48.344417572021484,-24.931720733642578,45.05348587036133,-33.48420333862305,-67.74244689941406,7.802963733673096,-36.32231521606445,-14.055556297302246,-34.47736740112305,18.60448455810547,-35.674922943115234,8.456299781799316,71.66621398925781,20.506683349609375,32.085845947265625,34.965877532958984,-27.1236629486084,-20.035491943359375,8.465654373168945,0.9663676023483276,16.78281021118164,-53.99921417236328,71.33039093017578,-23.925750732421875,32.874298095703125,19.073524475097656,-32.6272087097168,1.1909451484680176,-5.394044399261475,-34.74006652832031,10.34411334991455,-27.1507511138916,25.511735916137695,5.127508163452148,13.620139122009277,48.51753234863281,-40.622928619384766,-2.7126853466033936,13.139753341674805,-3.7649025917053223,-12.932474136352539,-1.3095570802688599,32.4127197265625,23.7959041595459,51.40886688232422,7.0859055519104,-48.77635955810547,-17.80594253540039,12.38010025024414,29.666324615478516,3.63875675201416,45.2864875793457,3.2629783153533936,-54.38313674926758,-55.516780853271484,61.19969940185547,6.249484062194824,-70.26703643798828,17.177587509155273,-48.428077697753906,-0.39837804436683655,36.29697799682617,-49.12084197998047,0.672874391078949,-1.1940470933914185,74.14678955078125,8.799928665161133,54.70356750488281,-59.88423538208008,34.16221237182617,8.609393119812012,-5.515696048736572,-3.5314738750457764,21.4902286529541,2.329085350036621,70.0736312866211,6.517432689666748,20.758190155029297,9.550317764282227,69.22266387939453,-32.6212158203125,-28.134397506713867,12.66291618347168,38.527366638183594,-34.57730484008789,-23.879127502441406,-28.639801025390625,-7.121883869171143,7.327844142913818,52.07026672363281,-25.46468162536621,9.770119667053223,-12.894095420837402,-2.3484244346618652,-0.9556984305381775,-9.233962059020996,33.950096130371094,-7.470771789550781,-17.377931594848633,3.9164652824401855,-34.478187561035156,30.15538787841797,-7.452839374542236,58.251766204833984,56.285362243652344,-51.5568962097168,-71.6797103881836,20.581180572509766,56.50577163696289,6.278814315795898,52.01176834106445,4.059957504272461,-1.5829973220825195,-74.07120513916016,-73.65889739990234,-19.35512924194336,-1.4421195983886719,22.68767738342285,-38.37419128417969,9.115962982177734,16.962696075439453,-9.664093971252441,65.95780181884766,-19.048322677612305,47.991424560546875,3.375915050506592,16.437681198120117,-43.354068756103516,19.85799217224121,-16.435728073120117,-45.749664306640625,26.680370330810547,-65.87174224853516,-69.79187774658203,44.93217849731445,-9.325542449951172,-45.265933990478516,20.933895111083984,-7.754342079162598,-31.071453094482422,35.517608642578125,-59.28513717651367,-60.387935638427734,46.53939437866211,20.88652229309082,29.32271385192871,-61.577598571777344,70.08409118652344,-53.60107421875,12.838964462280273,13.315701484680176,-22.897640228271484,-15.581441879272461,56.26807403564453,39.64649963378906,32.63602828979492,45.40605926513672,-40.29881286621094,-10.013358116149902,-7.386962413787842,-27.280014038085938,2.9240918159484863,-23.637144088745117,-38.70600128173828,50.64603805541992,49.44546890258789,19.390380859375,-53.630455017089844,-18.239233016967773,-7.614043235778809,37.03380584716797,3.4814863204956055,-53.49041748046875,9.965943336486816,-73.67047882080078,-73.39445495605469,48.51457595825195,23.514677047729492,-15.318744659423828,8.774914741516113,-23.389156341552734,-8.067032814025879,-36.63372802734375,-10.87720775604248,-1.2084778547286987,-73.32742309570312,-73.75646209716797,42.00758743286133,37.50015640258789,65.26380920410156,35.26142501831055,-8.083487510681152,18.508270263671875,-71.07252502441406,-17.915767669677734,-12.618216514587402,-58.2940788269043,41.68878173828125,-58.669097900390625,65.06839752197266,26.128223419189453,33.24421691894531,-17.618513107299805,-3.3396592140197754,54.64311981201172,-56.8070182800293,25.01786994934082,67.28531646728516,23.723974227905273,60.88909912109375,-69.19197082519531,-46.42353057861328,-3.3245763778686523,7.639013290405273,4.524011135101318,-47.9714241027832,23.793943405151367,-2.6662161350250244,49.03253936767578,11.900965690612793,16.2393798828125,4.455496311187744,-31.285646438598633,-21.091712951660156,-4.532670021057129,-4.960543632507324,45.68291091918945,-22.468421936035156,-25.152381896972656,16.294647216796875,59.5478630065918,-31.807126998901367,30.512378692626953,37.82828903198242,20.119192123413086,3.0449068546295166,-37.45283889770508,31.67441177368164,10.516605377197266,-65.46112060546875,-33.9944953918457,-2.523142099380493,16.358903884887695,-28.63306427001953,-59.123287200927734,-23.67576789855957,-15.818731307983398,-16.100536346435547,48.8348503112793,-53.206947326660156,-1.3178346157073975,-70.18496704101562,19.278120040893555,-3.6102192401885986,53.11323165893555,-13.08410930633545,-9.804238319396973,23.50202178955078,-4.4131574630737305,-34.97608947753906,-11.077293395996094,-1.5138545036315918,28.514802932739258,-29.653532028198242,28.58776092529297,-34.34757995605469,-68.19458770751953,19.4652099609375,-0.8493422269821167,41.69133377075195,-4.006593704223633,37.28828430175781,39.347896575927734,-31.54180145263672,32.896854400634766,-32.910552978515625,-46.91954040527344,23.677513122558594,20.584136962890625,-10.21638298034668,-7.8346734046936035,18.727922439575195,-53.368160247802734,-43.54344177246094,36.36664962768555,-24.811445236206055,-48.29841232299805,-27.690479278564453,32.75214385986328,-40.562740325927734,1.2937140464782715,-27.704814910888672,-33.62590408325195,32.75144958496094,29.984819412231445,-38.37362289428711,-4.688501358032227,9.30925464630127,2.1107842922210693,28.900123596191406,46.982425689697266,-14.101334571838379,-22.09885025024414,50.51241683959961,-35.76183319091797,-28.167346954345703,-57.93960952758789,-35.9159049987793,-19.040029525756836,-69.95426940917969,18.662433624267578,-37.87271499633789,5.566490650177002,37.0303840637207,53.17525100708008,-22.409896850585938,18.574710845947266,3.954432725906372,-38.46730422973633,11.231764793395996,31.6481876373291,12.509193420410156,-20.410802841186523,-59.0756950378418,-36.38678741455078,-63.4427604675293,61.572059631347656,-38.87712097167969,-6.498812675476074,-12.924957275390625,46.53369140625,-14.466111183166504,-50.05186462402344,12.757344245910645,28.74925422668457,13.076077461242676,0.19314336776733398,-10.359918594360352,-10.139044761657715,-18.720548629760742,-27.87982177734375,-37.596839904785156,-48.732818603515625,48.55306625366211,11.258454322814941,31.666263580322266,-10.082399368286133,-11.924513816833496,-28.688451766967773,-55.09340286254883,1.6420546770095825,-32.740135192871094,23.540239334106445,-66.11810302734375,-26.591955184936523,-74.58425903320312,18.543546676635742,48.06050491333008,-9.681568145751953,11.594049453735352,-41.3851203918457,-20.119171142578125,4.075729846954346,29.417152404785156,14.568931579589844,-31.250858306884766,-31.430036544799805,-12.715044021606445,-27.31243896484375,65.74241638183594,-21.01715087890625,-10.20422077178955,16.432228088378906,-24.137357711791992,-22.722198486328125,7.714102745056152,-2.8514490127563477,6.842921733856201,-21.706012725830078,2.8752317428588867,33.0128288269043,-20.993080139160156,8.145210266113281,-5.927645206451416,11.41759204864502,20.233665466308594,-44.87620162963867,-4.985915184020996,25.82822036743164],\"type\":\"scatter\"}],                        {\"template\":{\"data\":{\"histogram2dcontour\":[{\"type\":\"histogram2dcontour\",\"colorbar\":{\"outlinewidth\":0,\"ticks\":\"\"},\"colorscale\":[[0.0,\"#0d0887\"],[0.1111111111111111,\"#46039f\"],[0.2222222222222222,\"#7201a8\"],[0.3333333333333333,\"#9c179e\"],[0.4444444444444444,\"#bd3786\"],[0.5555555555555556,\"#d8576b\"],[0.6666666666666666,\"#ed7953\"],[0.7777777777777778,\"#fb9f3a\"],[0.8888888888888888,\"#fdca26\"],[1.0,\"#f0f921\"]]}],\"choropleth\":[{\"type\":\"choropleth\",\"colorbar\":{\"outlinewidth\":0,\"ticks\":\"\"}}],\"histogram2d\":[{\"type\":\"histogram2d\",\"colorbar\":{\"outlinewidth\":0,\"ticks\":\"\"},\"colorscale\":[[0.0,\"#0d0887\"],[0.1111111111111111,\"#46039f\"],[0.2222222222222222,\"#7201a8\"],[0.3333333333333333,\"#9c179e\"],[0.4444444444444444,\"#bd3786\"],[0.5555555555555556,\"#d8576b\"],[0.6666666666666666,\"#ed7953\"],[0.7777777777777778,\"#fb9f3a\"],[0.8888888888888888,\"#fdca26\"],[1.0,\"#f0f921\"]]}],\"heatmap\":[{\"type\":\"heatmap\",\"colorbar\":{\"outlinewidth\":0,\"ticks\":\"\"},\"colorscale\":[[0.0,\"#0d0887\"],[0.1111111111111111,\"#46039f\"],[0.2222222222222222,\"#7201a8\"],[0.3333333333333333,\"#9c179e\"],[0.4444444444444444,\"#bd3786\"],[0.5555555555555556,\"#d8576b\"],[0.6666666666666666,\"#ed7953\"],[0.7777777777777778,\"#fb9f3a\"],[0.8888888888888888,\"#fdca26\"],[1.0,\"#f0f921\"]]}],\"heatmapgl\":[{\"type\":\"heatmapgl\",\"colorbar\":{\"outlinewidth\":0,\"ticks\":\"\"},\"colorscale\":[[0.0,\"#0d0887\"],[0.1111111111111111,\"#46039f\"],[0.2222222222222222,\"#7201a8\"],[0.3333333333333333,\"#9c179e\"],[0.4444444444444444,\"#bd3786\"],[0.5555555555555556,\"#d8576b\"],[0.6666666666666666,\"#ed7953\"],[0.7777777777777778,\"#fb9f3a\"],[0.8888888888888888,\"#fdca26\"],[1.0,\"#f0f921\"]]}],\"contourcarpet\":[{\"type\":\"contourcarpet\",\"colorbar\":{\"outlinewidth\":0,\"ticks\":\"\"}}],\"contour\":[{\"type\":\"contour\",\"colorbar\":{\"outlinewidth\":0,\"ticks\":\"\"},\"colorscale\":[[0.0,\"#0d0887\"],[0.1111111111111111,\"#46039f\"],[0.2222222222222222,\"#7201a8\"],[0.3333333333333333,\"#9c179e\"],[0.4444444444444444,\"#bd3786\"],[0.5555555555555556,\"#d8576b\"],[0.6666666666666666,\"#ed7953\"],[0.7777777777777778,\"#fb9f3a\"],[0.8888888888888888,\"#fdca26\"],[1.0,\"#f0f921\"]]}],\"surface\":[{\"type\":\"surface\",\"colorbar\":{\"outlinewidth\":0,\"ticks\":\"\"},\"colorscale\":[[0.0,\"#0d0887\"],[0.1111111111111111,\"#46039f\"],[0.2222222222222222,\"#7201a8\"],[0.3333333333333333,\"#9c179e\"],[0.4444444444444444,\"#bd3786\"],[0.5555555555555556,\"#d8576b\"],[0.6666666666666666,\"#ed7953\"],[0.7777777777777778,\"#fb9f3a\"],[0.8888888888888888,\"#fdca26\"],[1.0,\"#f0f921\"]]}],\"mesh3d\":[{\"type\":\"mesh3d\",\"colorbar\":{\"outlinewidth\":0,\"ticks\":\"\"}}],\"scatter\":[{\"fillpattern\":{\"fillmode\":\"overlay\",\"size\":10,\"solidity\":0.2},\"type\":\"scatter\"}],\"parcoords\":[{\"type\":\"parcoords\",\"line\":{\"colorbar\":{\"outlinewidth\":0,\"ticks\":\"\"}}}],\"scatterpolargl\":[{\"type\":\"scatterpolargl\",\"marker\":{\"colorbar\":{\"outlinewidth\":0,\"ticks\":\"\"}}}],\"bar\":[{\"error_x\":{\"color\":\"#2a3f5f\"},\"error_y\":{\"color\":\"#2a3f5f\"},\"marker\":{\"line\":{\"color\":\"#E5ECF6\",\"width\":0.5},\"pattern\":{\"fillmode\":\"overlay\",\"size\":10,\"solidity\":0.2}},\"type\":\"bar\"}],\"scattergeo\":[{\"type\":\"scattergeo\",\"marker\":{\"colorbar\":{\"outlinewidth\":0,\"ticks\":\"\"}}}],\"scatterpolar\":[{\"type\":\"scatterpolar\",\"marker\":{\"colorbar\":{\"outlinewidth\":0,\"ticks\":\"\"}}}],\"histogram\":[{\"marker\":{\"pattern\":{\"fillmode\":\"overlay\",\"size\":10,\"solidity\":0.2}},\"type\":\"histogram\"}],\"scattergl\":[{\"type\":\"scattergl\",\"marker\":{\"colorbar\":{\"outlinewidth\":0,\"ticks\":\"\"}}}],\"scatter3d\":[{\"type\":\"scatter3d\",\"line\":{\"colorbar\":{\"outlinewidth\":0,\"ticks\":\"\"}},\"marker\":{\"colorbar\":{\"outlinewidth\":0,\"ticks\":\"\"}}}],\"scattermapbox\":[{\"type\":\"scattermapbox\",\"marker\":{\"colorbar\":{\"outlinewidth\":0,\"ticks\":\"\"}}}],\"scatterternary\":[{\"type\":\"scatterternary\",\"marker\":{\"colorbar\":{\"outlinewidth\":0,\"ticks\":\"\"}}}],\"scattercarpet\":[{\"type\":\"scattercarpet\",\"marker\":{\"colorbar\":{\"outlinewidth\":0,\"ticks\":\"\"}}}],\"carpet\":[{\"aaxis\":{\"endlinecolor\":\"#2a3f5f\",\"gridcolor\":\"white\",\"linecolor\":\"white\",\"minorgridcolor\":\"white\",\"startlinecolor\":\"#2a3f5f\"},\"baxis\":{\"endlinecolor\":\"#2a3f5f\",\"gridcolor\":\"white\",\"linecolor\":\"white\",\"minorgridcolor\":\"white\",\"startlinecolor\":\"#2a3f5f\"},\"type\":\"carpet\"}],\"table\":[{\"cells\":{\"fill\":{\"color\":\"#EBF0F8\"},\"line\":{\"color\":\"white\"}},\"header\":{\"fill\":{\"color\":\"#C8D4E3\"},\"line\":{\"color\":\"white\"}},\"type\":\"table\"}],\"barpolar\":[{\"marker\":{\"line\":{\"color\":\"#E5ECF6\",\"width\":0.5},\"pattern\":{\"fillmode\":\"overlay\",\"size\":10,\"solidity\":0.2}},\"type\":\"barpolar\"}],\"pie\":[{\"automargin\":true,\"type\":\"pie\"}]},\"layout\":{\"autotypenumbers\":\"strict\",\"colorway\":[\"#636efa\",\"#EF553B\",\"#00cc96\",\"#ab63fa\",\"#FFA15A\",\"#19d3f3\",\"#FF6692\",\"#B6E880\",\"#FF97FF\",\"#FECB52\"],\"font\":{\"color\":\"#2a3f5f\"},\"hovermode\":\"closest\",\"hoverlabel\":{\"align\":\"left\"},\"paper_bgcolor\":\"white\",\"plot_bgcolor\":\"#E5ECF6\",\"polar\":{\"bgcolor\":\"#E5ECF6\",\"angularaxis\":{\"gridcolor\":\"white\",\"linecolor\":\"white\",\"ticks\":\"\"},\"radialaxis\":{\"gridcolor\":\"white\",\"linecolor\":\"white\",\"ticks\":\"\"}},\"ternary\":{\"bgcolor\":\"#E5ECF6\",\"aaxis\":{\"gridcolor\":\"white\",\"linecolor\":\"white\",\"ticks\":\"\"},\"baxis\":{\"gridcolor\":\"white\",\"linecolor\":\"white\",\"ticks\":\"\"},\"caxis\":{\"gridcolor\":\"white\",\"linecolor\":\"white\",\"ticks\":\"\"}},\"coloraxis\":{\"colorbar\":{\"outlinewidth\":0,\"ticks\":\"\"}},\"colorscale\":{\"sequential\":[[0.0,\"#0d0887\"],[0.1111111111111111,\"#46039f\"],[0.2222222222222222,\"#7201a8\"],[0.3333333333333333,\"#9c179e\"],[0.4444444444444444,\"#bd3786\"],[0.5555555555555556,\"#d8576b\"],[0.6666666666666666,\"#ed7953\"],[0.7777777777777778,\"#fb9f3a\"],[0.8888888888888888,\"#fdca26\"],[1.0,\"#f0f921\"]],\"sequentialminus\":[[0.0,\"#0d0887\"],[0.1111111111111111,\"#46039f\"],[0.2222222222222222,\"#7201a8\"],[0.3333333333333333,\"#9c179e\"],[0.4444444444444444,\"#bd3786\"],[0.5555555555555556,\"#d8576b\"],[0.6666666666666666,\"#ed7953\"],[0.7777777777777778,\"#fb9f3a\"],[0.8888888888888888,\"#fdca26\"],[1.0,\"#f0f921\"]],\"diverging\":[[0,\"#8e0152\"],[0.1,\"#c51b7d\"],[0.2,\"#de77ae\"],[0.3,\"#f1b6da\"],[0.4,\"#fde0ef\"],[0.5,\"#f7f7f7\"],[0.6,\"#e6f5d0\"],[0.7,\"#b8e186\"],[0.8,\"#7fbc41\"],[0.9,\"#4d9221\"],[1,\"#276419\"]]},\"xaxis\":{\"gridcolor\":\"white\",\"linecolor\":\"white\",\"ticks\":\"\",\"title\":{\"standoff\":15},\"zerolinecolor\":\"white\",\"automargin\":true,\"zerolinewidth\":2},\"yaxis\":{\"gridcolor\":\"white\",\"linecolor\":\"white\",\"ticks\":\"\",\"title\":{\"standoff\":15},\"zerolinecolor\":\"white\",\"automargin\":true,\"zerolinewidth\":2},\"scene\":{\"xaxis\":{\"backgroundcolor\":\"#E5ECF6\",\"gridcolor\":\"white\",\"linecolor\":\"white\",\"showbackground\":true,\"ticks\":\"\",\"zerolinecolor\":\"white\",\"gridwidth\":2},\"yaxis\":{\"backgroundcolor\":\"#E5ECF6\",\"gridcolor\":\"white\",\"linecolor\":\"white\",\"showbackground\":true,\"ticks\":\"\",\"zerolinecolor\":\"white\",\"gridwidth\":2},\"zaxis\":{\"backgroundcolor\":\"#E5ECF6\",\"gridcolor\":\"white\",\"linecolor\":\"white\",\"showbackground\":true,\"ticks\":\"\",\"zerolinecolor\":\"white\",\"gridwidth\":2}},\"shapedefaults\":{\"line\":{\"color\":\"#2a3f5f\"}},\"annotationdefaults\":{\"arrowcolor\":\"#2a3f5f\",\"arrowhead\":0,\"arrowwidth\":1},\"geo\":{\"bgcolor\":\"white\",\"landcolor\":\"#E5ECF6\",\"subunitcolor\":\"white\",\"showland\":true,\"showlakes\":true,\"lakecolor\":\"white\"},\"title\":{\"x\":0.05},\"mapbox\":{\"style\":\"light\"}}}},                        {\"responsive\": true}                    ).then(function(){\n",
              "                            \n",
              "var gd = document.getElementById('b0d765db-df3a-48d4-937d-c6c4791a83de');\n",
              "var x = new MutationObserver(function (mutations, observer) {{\n",
              "        var display = window.getComputedStyle(gd).display;\n",
              "        if (!display || display === 'none') {{\n",
              "            console.log([gd, 'removed!']);\n",
              "            Plotly.purge(gd);\n",
              "            observer.disconnect();\n",
              "        }}\n",
              "}});\n",
              "\n",
              "// Listen for the removal of the full notebook cells\n",
              "var notebookContainer = gd.closest('#notebook-container');\n",
              "if (notebookContainer) {{\n",
              "    x.observe(notebookContainer, {childList: true});\n",
              "}}\n",
              "\n",
              "// Listen for the clearing of the current output cell\n",
              "var outputEl = gd.closest('.output');\n",
              "if (outputEl) {{\n",
              "    x.observe(outputEl, {childList: true});\n",
              "}}\n",
              "\n",
              "                        })                };                            </script>        </div>\n",
              "</body>\n",
              "</html>"
            ]
          },
          "metadata": {}
        }
      ],
      "source": [
        "data = go.Scatter(x=tsne_data['x'],y=tsne_data['y'],text=tsne_data['title'],mode='markers+text',)\n",
        "\n",
        "fig = go.Figure(data=data)\n",
        "\n",
        "fig.show()"
      ]
    },
    {
      "cell_type": "markdown",
      "id": "9910633b",
      "metadata": {
        "papermill": {
          "duration": 0.053102,
          "end_time": "2022-06-04T18:29:39.908257",
          "exception": false,
          "start_time": "2022-06-04T18:29:39.855155",
          "status": "completed"
        },
        "tags": [],
        "id": "9910633b"
      },
      "source": [
        "<a id='model_based'></a>\n",
        "## **Model Based Recommender Systems**\n",
        "\n",
        "Model-based recommendation systems involve building a model based on the dataset of ratings. In other words, we extract some information from the dataset, and use that as a \"model\" to make recommendations without having to use the complete dataset every time.\n",
        "\n",
        "For model based recommender systems we are going to use a library called Surprise and we are going to use SVD as a matrix factorization method."
      ]
    },
    {
      "cell_type": "markdown",
      "id": "54a743d3",
      "metadata": {
        "papermill": {
          "duration": 0.052672,
          "end_time": "2022-06-04T18:29:40.014907",
          "exception": false,
          "start_time": "2022-06-04T18:29:39.962235",
          "status": "completed"
        },
        "tags": [],
        "id": "54a743d3"
      },
      "source": [
        "### **Singular Value Decomposition (SVD)**\n",
        "Singular Value Decomposition (SVD) is one of the matrix factorization method in machine learning. Singular value decomposition decomposes a matrix into three other matrices and extracts the features from the factorization of a high-level (user-item-rating) matrix.\n",
        "\n",
        "<!-- ![svd%20example.png](attachment:5815b044-a296-42d2-afcd-28ca93ea9607.png) -->\n",
        "\n",
        "The formula of SVD can be given as - \n",
        "\n",
        "<!-- ![0_O4gMln9rCdtUVovH.png](attachment:e57188dd-ab21-4bb6-98c2-41c79005d8d1.png) -->\n",
        "\n",
        "Where,\n",
        "\n",
        "`Matrix U:` Latent features of Users\n",
        "\n",
        "`Matrix S:` Diagonal matrix representing the strength of each feature\n",
        "\n",
        "`Matrix U:` Latent features of Items"
      ]
    },
    {
      "cell_type": "markdown",
      "id": "d0bc26a1",
      "metadata": {
        "papermill": {
          "duration": 0.054271,
          "end_time": "2022-06-04T18:29:40.123556",
          "exception": false,
          "start_time": "2022-06-04T18:29:40.069285",
          "status": "completed"
        },
        "tags": [],
        "id": "d0bc26a1"
      },
      "source": [
        "#### **Import Libraries**"
      ]
    },
    {
      "cell_type": "code",
      "execution_count": null,
      "id": "8f4035f2",
      "metadata": {
        "execution": {
          "iopub.execute_input": "2022-06-04T18:29:40.233491Z",
          "iopub.status.busy": "2022-06-04T18:29:40.233102Z",
          "iopub.status.idle": "2022-06-04T18:29:40.292992Z",
          "shell.execute_reply": "2022-06-04T18:29:40.292002Z"
        },
        "papermill": {
          "duration": 0.117402,
          "end_time": "2022-06-04T18:29:40.295167",
          "exception": false,
          "start_time": "2022-06-04T18:29:40.177765",
          "status": "completed"
        },
        "tags": [],
        "colab": {
          "base_uri": "https://localhost:8080/"
        },
        "id": "8f4035f2",
        "outputId": "97dbc9ed-1788-44f7-f43a-5ca6fbfeb284"
      },
      "outputs": [
        {
          "output_type": "stream",
          "name": "stdout",
          "text": [
            "Looking in indexes: https://pypi.org/simple, https://us-python.pkg.dev/colab-wheels/public/simple/\n",
            "Requirement already satisfied: scikit-surprise in /usr/local/lib/python3.10/dist-packages (1.1.3)\n",
            "Requirement already satisfied: joblib>=1.0.0 in /usr/local/lib/python3.10/dist-packages (from scikit-surprise) (1.2.0)\n",
            "Requirement already satisfied: numpy>=1.17.3 in /usr/local/lib/python3.10/dist-packages (from scikit-surprise) (1.22.4)\n",
            "Requirement already satisfied: scipy>=1.3.2 in /usr/local/lib/python3.10/dist-packages (from scikit-surprise) (1.10.1)\n"
          ]
        }
      ],
      "source": [
        "!pip install scikit-surprise\n",
        "\n",
        "from surprise import Dataset, Reader\n",
        "\n",
        "from surprise.prediction_algorithms.matrix_factorization import SVD\n",
        "\n",
        "from surprise import accuracy"
      ]
    },
    {
      "cell_type": "markdown",
      "id": "6ac7fdf1",
      "metadata": {
        "papermill": {
          "duration": 0.052768,
          "end_time": "2022-06-04T18:29:40.400609",
          "exception": false,
          "start_time": "2022-06-04T18:29:40.347841",
          "status": "completed"
        },
        "tags": [],
        "id": "6ac7fdf1"
      },
      "source": [
        "#### **Read the data**"
      ]
    },
    {
      "cell_type": "code",
      "execution_count": null,
      "id": "7b683b14",
      "metadata": {
        "execution": {
          "iopub.execute_input": "2022-06-04T18:29:40.507760Z",
          "iopub.status.busy": "2022-06-04T18:29:40.507041Z",
          "iopub.status.idle": "2022-06-04T18:29:41.434530Z",
          "shell.execute_reply": "2022-06-04T18:29:41.433719Z"
        },
        "papermill": {
          "duration": 0.98375,
          "end_time": "2022-06-04T18:29:41.437035",
          "exception": false,
          "start_time": "2022-06-04T18:29:40.453285",
          "status": "completed"
        },
        "tags": [],
        "colab": {
          "base_uri": "https://localhost:8080/",
          "height": 423
        },
        "id": "7b683b14",
        "outputId": "f0022d5f-cfbe-4cc8-f93c-9a5739b4e7d9"
      },
      "outputs": [
        {
          "output_type": "execute_result",
          "data": {
            "text/plain": [
              "        userId  movieId  rating   timestamp\n",
              "0            1       31     2.5  1260759144\n",
              "1            1     1029     3.0  1260759179\n",
              "2            1     1061     3.0  1260759182\n",
              "3            1     1129     2.0  1260759185\n",
              "4            1     1172     4.0  1260759205\n",
              "...        ...      ...     ...         ...\n",
              "99999      671     6268     2.5  1065579370\n",
              "100000     671     6269     4.0  1065149201\n",
              "100001     671     6365     4.0  1070940363\n",
              "100002     671     6385     2.5  1070979663\n",
              "100003     671     6565     3.5  1074784724\n",
              "\n",
              "[100004 rows x 4 columns]"
            ],
            "text/html": [
              "\n",
              "  <div id=\"df-2b1c8d38-f561-4392-bcbd-94109369fdbe\">\n",
              "    <div class=\"colab-df-container\">\n",
              "      <div>\n",
              "<style scoped>\n",
              "    .dataframe tbody tr th:only-of-type {\n",
              "        vertical-align: middle;\n",
              "    }\n",
              "\n",
              "    .dataframe tbody tr th {\n",
              "        vertical-align: top;\n",
              "    }\n",
              "\n",
              "    .dataframe thead th {\n",
              "        text-align: right;\n",
              "    }\n",
              "</style>\n",
              "<table border=\"1\" class=\"dataframe\">\n",
              "  <thead>\n",
              "    <tr style=\"text-align: right;\">\n",
              "      <th></th>\n",
              "      <th>userId</th>\n",
              "      <th>movieId</th>\n",
              "      <th>rating</th>\n",
              "      <th>timestamp</th>\n",
              "    </tr>\n",
              "  </thead>\n",
              "  <tbody>\n",
              "    <tr>\n",
              "      <th>0</th>\n",
              "      <td>1</td>\n",
              "      <td>31</td>\n",
              "      <td>2.5</td>\n",
              "      <td>1260759144</td>\n",
              "    </tr>\n",
              "    <tr>\n",
              "      <th>1</th>\n",
              "      <td>1</td>\n",
              "      <td>1029</td>\n",
              "      <td>3.0</td>\n",
              "      <td>1260759179</td>\n",
              "    </tr>\n",
              "    <tr>\n",
              "      <th>2</th>\n",
              "      <td>1</td>\n",
              "      <td>1061</td>\n",
              "      <td>3.0</td>\n",
              "      <td>1260759182</td>\n",
              "    </tr>\n",
              "    <tr>\n",
              "      <th>3</th>\n",
              "      <td>1</td>\n",
              "      <td>1129</td>\n",
              "      <td>2.0</td>\n",
              "      <td>1260759185</td>\n",
              "    </tr>\n",
              "    <tr>\n",
              "      <th>4</th>\n",
              "      <td>1</td>\n",
              "      <td>1172</td>\n",
              "      <td>4.0</td>\n",
              "      <td>1260759205</td>\n",
              "    </tr>\n",
              "    <tr>\n",
              "      <th>...</th>\n",
              "      <td>...</td>\n",
              "      <td>...</td>\n",
              "      <td>...</td>\n",
              "      <td>...</td>\n",
              "    </tr>\n",
              "    <tr>\n",
              "      <th>99999</th>\n",
              "      <td>671</td>\n",
              "      <td>6268</td>\n",
              "      <td>2.5</td>\n",
              "      <td>1065579370</td>\n",
              "    </tr>\n",
              "    <tr>\n",
              "      <th>100000</th>\n",
              "      <td>671</td>\n",
              "      <td>6269</td>\n",
              "      <td>4.0</td>\n",
              "      <td>1065149201</td>\n",
              "    </tr>\n",
              "    <tr>\n",
              "      <th>100001</th>\n",
              "      <td>671</td>\n",
              "      <td>6365</td>\n",
              "      <td>4.0</td>\n",
              "      <td>1070940363</td>\n",
              "    </tr>\n",
              "    <tr>\n",
              "      <th>100002</th>\n",
              "      <td>671</td>\n",
              "      <td>6385</td>\n",
              "      <td>2.5</td>\n",
              "      <td>1070979663</td>\n",
              "    </tr>\n",
              "    <tr>\n",
              "      <th>100003</th>\n",
              "      <td>671</td>\n",
              "      <td>6565</td>\n",
              "      <td>3.5</td>\n",
              "      <td>1074784724</td>\n",
              "    </tr>\n",
              "  </tbody>\n",
              "</table>\n",
              "<p>100004 rows × 4 columns</p>\n",
              "</div>\n",
              "      <button class=\"colab-df-convert\" onclick=\"convertToInteractive('df-2b1c8d38-f561-4392-bcbd-94109369fdbe')\"\n",
              "              title=\"Convert this dataframe to an interactive table.\"\n",
              "              style=\"display:none;\">\n",
              "        \n",
              "  <svg xmlns=\"http://www.w3.org/2000/svg\" height=\"24px\"viewBox=\"0 0 24 24\"\n",
              "       width=\"24px\">\n",
              "    <path d=\"M0 0h24v24H0V0z\" fill=\"none\"/>\n",
              "    <path d=\"M18.56 5.44l.94 2.06.94-2.06 2.06-.94-2.06-.94-.94-2.06-.94 2.06-2.06.94zm-11 1L8.5 8.5l.94-2.06 2.06-.94-2.06-.94L8.5 2.5l-.94 2.06-2.06.94zm10 10l.94 2.06.94-2.06 2.06-.94-2.06-.94-.94-2.06-.94 2.06-2.06.94z\"/><path d=\"M17.41 7.96l-1.37-1.37c-.4-.4-.92-.59-1.43-.59-.52 0-1.04.2-1.43.59L10.3 9.45l-7.72 7.72c-.78.78-.78 2.05 0 2.83L4 21.41c.39.39.9.59 1.41.59.51 0 1.02-.2 1.41-.59l7.78-7.78 2.81-2.81c.8-.78.8-2.07 0-2.86zM5.41 20L4 18.59l7.72-7.72 1.47 1.35L5.41 20z\"/>\n",
              "  </svg>\n",
              "      </button>\n",
              "      \n",
              "  <style>\n",
              "    .colab-df-container {\n",
              "      display:flex;\n",
              "      flex-wrap:wrap;\n",
              "      gap: 12px;\n",
              "    }\n",
              "\n",
              "    .colab-df-convert {\n",
              "      background-color: #E8F0FE;\n",
              "      border: none;\n",
              "      border-radius: 50%;\n",
              "      cursor: pointer;\n",
              "      display: none;\n",
              "      fill: #1967D2;\n",
              "      height: 32px;\n",
              "      padding: 0 0 0 0;\n",
              "      width: 32px;\n",
              "    }\n",
              "\n",
              "    .colab-df-convert:hover {\n",
              "      background-color: #E2EBFA;\n",
              "      box-shadow: 0px 1px 2px rgba(60, 64, 67, 0.3), 0px 1px 3px 1px rgba(60, 64, 67, 0.15);\n",
              "      fill: #174EA6;\n",
              "    }\n",
              "\n",
              "    [theme=dark] .colab-df-convert {\n",
              "      background-color: #3B4455;\n",
              "      fill: #D2E3FC;\n",
              "    }\n",
              "\n",
              "    [theme=dark] .colab-df-convert:hover {\n",
              "      background-color: #434B5C;\n",
              "      box-shadow: 0px 1px 3px 1px rgba(0, 0, 0, 0.15);\n",
              "      filter: drop-shadow(0px 1px 2px rgba(0, 0, 0, 0.3));\n",
              "      fill: #FFFFFF;\n",
              "    }\n",
              "  </style>\n",
              "\n",
              "      <script>\n",
              "        const buttonEl =\n",
              "          document.querySelector('#df-2b1c8d38-f561-4392-bcbd-94109369fdbe button.colab-df-convert');\n",
              "        buttonEl.style.display =\n",
              "          google.colab.kernel.accessAllowed ? 'block' : 'none';\n",
              "\n",
              "        async function convertToInteractive(key) {\n",
              "          const element = document.querySelector('#df-2b1c8d38-f561-4392-bcbd-94109369fdbe');\n",
              "          const dataTable =\n",
              "            await google.colab.kernel.invokeFunction('convertToInteractive',\n",
              "                                                     [key], {});\n",
              "          if (!dataTable) return;\n",
              "\n",
              "          const docLinkHtml = 'Like what you see? Visit the ' +\n",
              "            '<a target=\"_blank\" href=https://colab.research.google.com/notebooks/data_table.ipynb>data table notebook</a>'\n",
              "            + ' to learn more about interactive tables.';\n",
              "          element.innerHTML = '';\n",
              "          dataTable['output_type'] = 'display_data';\n",
              "          await google.colab.output.renderOutput(dataTable, element);\n",
              "          const docLink = document.createElement('div');\n",
              "          docLink.innerHTML = docLinkHtml;\n",
              "          element.appendChild(docLink);\n",
              "        }\n",
              "      </script>\n",
              "    </div>\n",
              "  </div>\n",
              "  "
            ]
          },
          "metadata": {},
          "execution_count": 217
        }
      ],
      "source": [
        "ratings = pd.read_csv(\"/content/drive/MyDrive/Colab Notebooks/movie recommendation system/the-movies-dataset/ratings_small.csv\")\n",
        "\n",
        "movie_md = pd.read_csv(\"/content/drive/MyDrive/Colab Notebooks/movie recommendation system/the-movies-dataset/movies_metadata.csv\")\n",
        "\n",
        "ratings"
      ]
    },
    {
      "cell_type": "code",
      "source": [
        "movie_md"
      ],
      "metadata": {
        "colab": {
          "base_uri": "https://localhost:8080/",
          "height": 1000
        },
        "id": "8XMqmWv8hpTq",
        "outputId": "b3ac41bd-20be-452d-efa8-80f2ba544122"
      },
      "id": "8XMqmWv8hpTq",
      "execution_count": null,
      "outputs": [
        {
          "output_type": "execute_result",
          "data": {
            "text/plain": [
              "       adult                              belongs_to_collection    budget  \\\n",
              "0      False  {'id': 10194, 'name': 'Toy Story Collection', ...  30000000   \n",
              "1      False                                                NaN  65000000   \n",
              "2      False  {'id': 119050, 'name': 'Grumpy Old Men Collect...         0   \n",
              "3      False                                                NaN  16000000   \n",
              "4      False  {'id': 96871, 'name': 'Father of the Bride Col...         0   \n",
              "...      ...                                                ...       ...   \n",
              "45461  False                                                NaN         0   \n",
              "45462  False                                                NaN         0   \n",
              "45463  False                                                NaN         0   \n",
              "45464  False                                                NaN         0   \n",
              "45465  False                                                NaN         0   \n",
              "\n",
              "                                                  genres  \\\n",
              "0      [{'id': 16, 'name': 'Animation'}, {'id': 35, '...   \n",
              "1      [{'id': 12, 'name': 'Adventure'}, {'id': 14, '...   \n",
              "2      [{'id': 10749, 'name': 'Romance'}, {'id': 35, ...   \n",
              "3      [{'id': 35, 'name': 'Comedy'}, {'id': 18, 'nam...   \n",
              "4                         [{'id': 35, 'name': 'Comedy'}]   \n",
              "...                                                  ...   \n",
              "45461  [{'id': 18, 'name': 'Drama'}, {'id': 10751, 'n...   \n",
              "45462                      [{'id': 18, 'name': 'Drama'}]   \n",
              "45463  [{'id': 28, 'name': 'Action'}, {'id': 18, 'nam...   \n",
              "45464                                                 []   \n",
              "45465                                                 []   \n",
              "\n",
              "                                   homepage      id    imdb_id  \\\n",
              "0      http://toystory.disney.com/toy-story     862  tt0114709   \n",
              "1                                       NaN    8844  tt0113497   \n",
              "2                                       NaN   15602  tt0113228   \n",
              "3                                       NaN   31357  tt0114885   \n",
              "4                                       NaN   11862  tt0113041   \n",
              "...                                     ...     ...        ...   \n",
              "45461  http://www.imdb.com/title/tt6209470/  439050  tt6209470   \n",
              "45462                                   NaN  111109  tt2028550   \n",
              "45463                                   NaN   67758  tt0303758   \n",
              "45464                                   NaN  227506  tt0008536   \n",
              "45465                                   NaN  461257  tt6980792   \n",
              "\n",
              "      original_language               original_title  \\\n",
              "0                    en                    Toy Story   \n",
              "1                    en                      Jumanji   \n",
              "2                    en             Grumpier Old Men   \n",
              "3                    en            Waiting to Exhale   \n",
              "4                    en  Father of the Bride Part II   \n",
              "...                 ...                          ...   \n",
              "45461                fa                      رگ خواب   \n",
              "45462                tl          Siglo ng Pagluluwal   \n",
              "45463                en                     Betrayal   \n",
              "45464                en          Satana likuyushchiy   \n",
              "45465                en                     Queerama   \n",
              "\n",
              "                                                overview  ... release_date  \\\n",
              "0      Led by Woody, Andy's toys live happily in his ...  ...   1995-10-30   \n",
              "1      When siblings Judy and Peter discover an encha...  ...   1995-12-15   \n",
              "2      A family wedding reignites the ancient feud be...  ...   1995-12-22   \n",
              "3      Cheated on, mistreated and stepped on, the wom...  ...   1995-12-22   \n",
              "4      Just when George Banks has recovered from his ...  ...   1995-02-10   \n",
              "...                                                  ...  ...          ...   \n",
              "45461        Rising and falling between a man and woman.  ...          NaN   \n",
              "45462  An artist struggles to finish his work while a...  ...   2011-11-17   \n",
              "45463  When one of her hits goes wrong, a professiona...  ...   2003-08-01   \n",
              "45464  In a small town live two brothers, one a minis...  ...   1917-10-21   \n",
              "45465  50 years after decriminalisation of homosexual...  ...   2017-06-09   \n",
              "\n",
              "           revenue runtime                                   spoken_languages  \\\n",
              "0      373554033.0    81.0           [{'iso_639_1': 'en', 'name': 'English'}]   \n",
              "1      262797249.0   104.0  [{'iso_639_1': 'en', 'name': 'English'}, {'iso...   \n",
              "2              0.0   101.0           [{'iso_639_1': 'en', 'name': 'English'}]   \n",
              "3       81452156.0   127.0           [{'iso_639_1': 'en', 'name': 'English'}]   \n",
              "4       76578911.0   106.0           [{'iso_639_1': 'en', 'name': 'English'}]   \n",
              "...            ...     ...                                                ...   \n",
              "45461          0.0    90.0             [{'iso_639_1': 'fa', 'name': 'فارسی'}]   \n",
              "45462          0.0   360.0                  [{'iso_639_1': 'tl', 'name': ''}]   \n",
              "45463          0.0    90.0           [{'iso_639_1': 'en', 'name': 'English'}]   \n",
              "45464          0.0    87.0                                                 []   \n",
              "45465          0.0    75.0           [{'iso_639_1': 'en', 'name': 'English'}]   \n",
              "\n",
              "         status                                            tagline  \\\n",
              "0      Released                                                NaN   \n",
              "1      Released          Roll the dice and unleash the excitement!   \n",
              "2      Released  Still Yelling. Still Fighting. Still Ready for...   \n",
              "3      Released  Friends are the people who let you be yourself...   \n",
              "4      Released  Just When His World Is Back To Normal... He's ...   \n",
              "...         ...                                                ...   \n",
              "45461  Released         Rising and falling between a man and woman   \n",
              "45462  Released                                                NaN   \n",
              "45463  Released                             A deadly game of wits.   \n",
              "45464  Released                                                NaN   \n",
              "45465  Released                                                NaN   \n",
              "\n",
              "                             title  video vote_average vote_count  \n",
              "0                        Toy Story  False          7.7     5415.0  \n",
              "1                          Jumanji  False          6.9     2413.0  \n",
              "2                 Grumpier Old Men  False          6.5       92.0  \n",
              "3                Waiting to Exhale  False          6.1       34.0  \n",
              "4      Father of the Bride Part II  False          5.7      173.0  \n",
              "...                            ...    ...          ...        ...  \n",
              "45461                       Subdue  False          4.0        1.0  \n",
              "45462          Century of Birthing  False          9.0        3.0  \n",
              "45463                     Betrayal  False          3.8        6.0  \n",
              "45464             Satan Triumphant  False          0.0        0.0  \n",
              "45465                     Queerama  False          0.0        0.0  \n",
              "\n",
              "[45466 rows x 24 columns]"
            ],
            "text/html": [
              "\n",
              "  <div id=\"df-5a004ac0-e3df-407c-8ac3-a6327485ce1f\">\n",
              "    <div class=\"colab-df-container\">\n",
              "      <div>\n",
              "<style scoped>\n",
              "    .dataframe tbody tr th:only-of-type {\n",
              "        vertical-align: middle;\n",
              "    }\n",
              "\n",
              "    .dataframe tbody tr th {\n",
              "        vertical-align: top;\n",
              "    }\n",
              "\n",
              "    .dataframe thead th {\n",
              "        text-align: right;\n",
              "    }\n",
              "</style>\n",
              "<table border=\"1\" class=\"dataframe\">\n",
              "  <thead>\n",
              "    <tr style=\"text-align: right;\">\n",
              "      <th></th>\n",
              "      <th>adult</th>\n",
              "      <th>belongs_to_collection</th>\n",
              "      <th>budget</th>\n",
              "      <th>genres</th>\n",
              "      <th>homepage</th>\n",
              "      <th>id</th>\n",
              "      <th>imdb_id</th>\n",
              "      <th>original_language</th>\n",
              "      <th>original_title</th>\n",
              "      <th>overview</th>\n",
              "      <th>...</th>\n",
              "      <th>release_date</th>\n",
              "      <th>revenue</th>\n",
              "      <th>runtime</th>\n",
              "      <th>spoken_languages</th>\n",
              "      <th>status</th>\n",
              "      <th>tagline</th>\n",
              "      <th>title</th>\n",
              "      <th>video</th>\n",
              "      <th>vote_average</th>\n",
              "      <th>vote_count</th>\n",
              "    </tr>\n",
              "  </thead>\n",
              "  <tbody>\n",
              "    <tr>\n",
              "      <th>0</th>\n",
              "      <td>False</td>\n",
              "      <td>{'id': 10194, 'name': 'Toy Story Collection', ...</td>\n",
              "      <td>30000000</td>\n",
              "      <td>[{'id': 16, 'name': 'Animation'}, {'id': 35, '...</td>\n",
              "      <td>http://toystory.disney.com/toy-story</td>\n",
              "      <td>862</td>\n",
              "      <td>tt0114709</td>\n",
              "      <td>en</td>\n",
              "      <td>Toy Story</td>\n",
              "      <td>Led by Woody, Andy's toys live happily in his ...</td>\n",
              "      <td>...</td>\n",
              "      <td>1995-10-30</td>\n",
              "      <td>373554033.0</td>\n",
              "      <td>81.0</td>\n",
              "      <td>[{'iso_639_1': 'en', 'name': 'English'}]</td>\n",
              "      <td>Released</td>\n",
              "      <td>NaN</td>\n",
              "      <td>Toy Story</td>\n",
              "      <td>False</td>\n",
              "      <td>7.7</td>\n",
              "      <td>5415.0</td>\n",
              "    </tr>\n",
              "    <tr>\n",
              "      <th>1</th>\n",
              "      <td>False</td>\n",
              "      <td>NaN</td>\n",
              "      <td>65000000</td>\n",
              "      <td>[{'id': 12, 'name': 'Adventure'}, {'id': 14, '...</td>\n",
              "      <td>NaN</td>\n",
              "      <td>8844</td>\n",
              "      <td>tt0113497</td>\n",
              "      <td>en</td>\n",
              "      <td>Jumanji</td>\n",
              "      <td>When siblings Judy and Peter discover an encha...</td>\n",
              "      <td>...</td>\n",
              "      <td>1995-12-15</td>\n",
              "      <td>262797249.0</td>\n",
              "      <td>104.0</td>\n",
              "      <td>[{'iso_639_1': 'en', 'name': 'English'}, {'iso...</td>\n",
              "      <td>Released</td>\n",
              "      <td>Roll the dice and unleash the excitement!</td>\n",
              "      <td>Jumanji</td>\n",
              "      <td>False</td>\n",
              "      <td>6.9</td>\n",
              "      <td>2413.0</td>\n",
              "    </tr>\n",
              "    <tr>\n",
              "      <th>2</th>\n",
              "      <td>False</td>\n",
              "      <td>{'id': 119050, 'name': 'Grumpy Old Men Collect...</td>\n",
              "      <td>0</td>\n",
              "      <td>[{'id': 10749, 'name': 'Romance'}, {'id': 35, ...</td>\n",
              "      <td>NaN</td>\n",
              "      <td>15602</td>\n",
              "      <td>tt0113228</td>\n",
              "      <td>en</td>\n",
              "      <td>Grumpier Old Men</td>\n",
              "      <td>A family wedding reignites the ancient feud be...</td>\n",
              "      <td>...</td>\n",
              "      <td>1995-12-22</td>\n",
              "      <td>0.0</td>\n",
              "      <td>101.0</td>\n",
              "      <td>[{'iso_639_1': 'en', 'name': 'English'}]</td>\n",
              "      <td>Released</td>\n",
              "      <td>Still Yelling. Still Fighting. Still Ready for...</td>\n",
              "      <td>Grumpier Old Men</td>\n",
              "      <td>False</td>\n",
              "      <td>6.5</td>\n",
              "      <td>92.0</td>\n",
              "    </tr>\n",
              "    <tr>\n",
              "      <th>3</th>\n",
              "      <td>False</td>\n",
              "      <td>NaN</td>\n",
              "      <td>16000000</td>\n",
              "      <td>[{'id': 35, 'name': 'Comedy'}, {'id': 18, 'nam...</td>\n",
              "      <td>NaN</td>\n",
              "      <td>31357</td>\n",
              "      <td>tt0114885</td>\n",
              "      <td>en</td>\n",
              "      <td>Waiting to Exhale</td>\n",
              "      <td>Cheated on, mistreated and stepped on, the wom...</td>\n",
              "      <td>...</td>\n",
              "      <td>1995-12-22</td>\n",
              "      <td>81452156.0</td>\n",
              "      <td>127.0</td>\n",
              "      <td>[{'iso_639_1': 'en', 'name': 'English'}]</td>\n",
              "      <td>Released</td>\n",
              "      <td>Friends are the people who let you be yourself...</td>\n",
              "      <td>Waiting to Exhale</td>\n",
              "      <td>False</td>\n",
              "      <td>6.1</td>\n",
              "      <td>34.0</td>\n",
              "    </tr>\n",
              "    <tr>\n",
              "      <th>4</th>\n",
              "      <td>False</td>\n",
              "      <td>{'id': 96871, 'name': 'Father of the Bride Col...</td>\n",
              "      <td>0</td>\n",
              "      <td>[{'id': 35, 'name': 'Comedy'}]</td>\n",
              "      <td>NaN</td>\n",
              "      <td>11862</td>\n",
              "      <td>tt0113041</td>\n",
              "      <td>en</td>\n",
              "      <td>Father of the Bride Part II</td>\n",
              "      <td>Just when George Banks has recovered from his ...</td>\n",
              "      <td>...</td>\n",
              "      <td>1995-02-10</td>\n",
              "      <td>76578911.0</td>\n",
              "      <td>106.0</td>\n",
              "      <td>[{'iso_639_1': 'en', 'name': 'English'}]</td>\n",
              "      <td>Released</td>\n",
              "      <td>Just When His World Is Back To Normal... He's ...</td>\n",
              "      <td>Father of the Bride Part II</td>\n",
              "      <td>False</td>\n",
              "      <td>5.7</td>\n",
              "      <td>173.0</td>\n",
              "    </tr>\n",
              "    <tr>\n",
              "      <th>...</th>\n",
              "      <td>...</td>\n",
              "      <td>...</td>\n",
              "      <td>...</td>\n",
              "      <td>...</td>\n",
              "      <td>...</td>\n",
              "      <td>...</td>\n",
              "      <td>...</td>\n",
              "      <td>...</td>\n",
              "      <td>...</td>\n",
              "      <td>...</td>\n",
              "      <td>...</td>\n",
              "      <td>...</td>\n",
              "      <td>...</td>\n",
              "      <td>...</td>\n",
              "      <td>...</td>\n",
              "      <td>...</td>\n",
              "      <td>...</td>\n",
              "      <td>...</td>\n",
              "      <td>...</td>\n",
              "      <td>...</td>\n",
              "      <td>...</td>\n",
              "    </tr>\n",
              "    <tr>\n",
              "      <th>45461</th>\n",
              "      <td>False</td>\n",
              "      <td>NaN</td>\n",
              "      <td>0</td>\n",
              "      <td>[{'id': 18, 'name': 'Drama'}, {'id': 10751, 'n...</td>\n",
              "      <td>http://www.imdb.com/title/tt6209470/</td>\n",
              "      <td>439050</td>\n",
              "      <td>tt6209470</td>\n",
              "      <td>fa</td>\n",
              "      <td>رگ خواب</td>\n",
              "      <td>Rising and falling between a man and woman.</td>\n",
              "      <td>...</td>\n",
              "      <td>NaN</td>\n",
              "      <td>0.0</td>\n",
              "      <td>90.0</td>\n",
              "      <td>[{'iso_639_1': 'fa', 'name': 'فارسی'}]</td>\n",
              "      <td>Released</td>\n",
              "      <td>Rising and falling between a man and woman</td>\n",
              "      <td>Subdue</td>\n",
              "      <td>False</td>\n",
              "      <td>4.0</td>\n",
              "      <td>1.0</td>\n",
              "    </tr>\n",
              "    <tr>\n",
              "      <th>45462</th>\n",
              "      <td>False</td>\n",
              "      <td>NaN</td>\n",
              "      <td>0</td>\n",
              "      <td>[{'id': 18, 'name': 'Drama'}]</td>\n",
              "      <td>NaN</td>\n",
              "      <td>111109</td>\n",
              "      <td>tt2028550</td>\n",
              "      <td>tl</td>\n",
              "      <td>Siglo ng Pagluluwal</td>\n",
              "      <td>An artist struggles to finish his work while a...</td>\n",
              "      <td>...</td>\n",
              "      <td>2011-11-17</td>\n",
              "      <td>0.0</td>\n",
              "      <td>360.0</td>\n",
              "      <td>[{'iso_639_1': 'tl', 'name': ''}]</td>\n",
              "      <td>Released</td>\n",
              "      <td>NaN</td>\n",
              "      <td>Century of Birthing</td>\n",
              "      <td>False</td>\n",
              "      <td>9.0</td>\n",
              "      <td>3.0</td>\n",
              "    </tr>\n",
              "    <tr>\n",
              "      <th>45463</th>\n",
              "      <td>False</td>\n",
              "      <td>NaN</td>\n",
              "      <td>0</td>\n",
              "      <td>[{'id': 28, 'name': 'Action'}, {'id': 18, 'nam...</td>\n",
              "      <td>NaN</td>\n",
              "      <td>67758</td>\n",
              "      <td>tt0303758</td>\n",
              "      <td>en</td>\n",
              "      <td>Betrayal</td>\n",
              "      <td>When one of her hits goes wrong, a professiona...</td>\n",
              "      <td>...</td>\n",
              "      <td>2003-08-01</td>\n",
              "      <td>0.0</td>\n",
              "      <td>90.0</td>\n",
              "      <td>[{'iso_639_1': 'en', 'name': 'English'}]</td>\n",
              "      <td>Released</td>\n",
              "      <td>A deadly game of wits.</td>\n",
              "      <td>Betrayal</td>\n",
              "      <td>False</td>\n",
              "      <td>3.8</td>\n",
              "      <td>6.0</td>\n",
              "    </tr>\n",
              "    <tr>\n",
              "      <th>45464</th>\n",
              "      <td>False</td>\n",
              "      <td>NaN</td>\n",
              "      <td>0</td>\n",
              "      <td>[]</td>\n",
              "      <td>NaN</td>\n",
              "      <td>227506</td>\n",
              "      <td>tt0008536</td>\n",
              "      <td>en</td>\n",
              "      <td>Satana likuyushchiy</td>\n",
              "      <td>In a small town live two brothers, one a minis...</td>\n",
              "      <td>...</td>\n",
              "      <td>1917-10-21</td>\n",
              "      <td>0.0</td>\n",
              "      <td>87.0</td>\n",
              "      <td>[]</td>\n",
              "      <td>Released</td>\n",
              "      <td>NaN</td>\n",
              "      <td>Satan Triumphant</td>\n",
              "      <td>False</td>\n",
              "      <td>0.0</td>\n",
              "      <td>0.0</td>\n",
              "    </tr>\n",
              "    <tr>\n",
              "      <th>45465</th>\n",
              "      <td>False</td>\n",
              "      <td>NaN</td>\n",
              "      <td>0</td>\n",
              "      <td>[]</td>\n",
              "      <td>NaN</td>\n",
              "      <td>461257</td>\n",
              "      <td>tt6980792</td>\n",
              "      <td>en</td>\n",
              "      <td>Queerama</td>\n",
              "      <td>50 years after decriminalisation of homosexual...</td>\n",
              "      <td>...</td>\n",
              "      <td>2017-06-09</td>\n",
              "      <td>0.0</td>\n",
              "      <td>75.0</td>\n",
              "      <td>[{'iso_639_1': 'en', 'name': 'English'}]</td>\n",
              "      <td>Released</td>\n",
              "      <td>NaN</td>\n",
              "      <td>Queerama</td>\n",
              "      <td>False</td>\n",
              "      <td>0.0</td>\n",
              "      <td>0.0</td>\n",
              "    </tr>\n",
              "  </tbody>\n",
              "</table>\n",
              "<p>45466 rows × 24 columns</p>\n",
              "</div>\n",
              "      <button class=\"colab-df-convert\" onclick=\"convertToInteractive('df-5a004ac0-e3df-407c-8ac3-a6327485ce1f')\"\n",
              "              title=\"Convert this dataframe to an interactive table.\"\n",
              "              style=\"display:none;\">\n",
              "        \n",
              "  <svg xmlns=\"http://www.w3.org/2000/svg\" height=\"24px\"viewBox=\"0 0 24 24\"\n",
              "       width=\"24px\">\n",
              "    <path d=\"M0 0h24v24H0V0z\" fill=\"none\"/>\n",
              "    <path d=\"M18.56 5.44l.94 2.06.94-2.06 2.06-.94-2.06-.94-.94-2.06-.94 2.06-2.06.94zm-11 1L8.5 8.5l.94-2.06 2.06-.94-2.06-.94L8.5 2.5l-.94 2.06-2.06.94zm10 10l.94 2.06.94-2.06 2.06-.94-2.06-.94-.94-2.06-.94 2.06-2.06.94z\"/><path d=\"M17.41 7.96l-1.37-1.37c-.4-.4-.92-.59-1.43-.59-.52 0-1.04.2-1.43.59L10.3 9.45l-7.72 7.72c-.78.78-.78 2.05 0 2.83L4 21.41c.39.39.9.59 1.41.59.51 0 1.02-.2 1.41-.59l7.78-7.78 2.81-2.81c.8-.78.8-2.07 0-2.86zM5.41 20L4 18.59l7.72-7.72 1.47 1.35L5.41 20z\"/>\n",
              "  </svg>\n",
              "      </button>\n",
              "      \n",
              "  <style>\n",
              "    .colab-df-container {\n",
              "      display:flex;\n",
              "      flex-wrap:wrap;\n",
              "      gap: 12px;\n",
              "    }\n",
              "\n",
              "    .colab-df-convert {\n",
              "      background-color: #E8F0FE;\n",
              "      border: none;\n",
              "      border-radius: 50%;\n",
              "      cursor: pointer;\n",
              "      display: none;\n",
              "      fill: #1967D2;\n",
              "      height: 32px;\n",
              "      padding: 0 0 0 0;\n",
              "      width: 32px;\n",
              "    }\n",
              "\n",
              "    .colab-df-convert:hover {\n",
              "      background-color: #E2EBFA;\n",
              "      box-shadow: 0px 1px 2px rgba(60, 64, 67, 0.3), 0px 1px 3px 1px rgba(60, 64, 67, 0.15);\n",
              "      fill: #174EA6;\n",
              "    }\n",
              "\n",
              "    [theme=dark] .colab-df-convert {\n",
              "      background-color: #3B4455;\n",
              "      fill: #D2E3FC;\n",
              "    }\n",
              "\n",
              "    [theme=dark] .colab-df-convert:hover {\n",
              "      background-color: #434B5C;\n",
              "      box-shadow: 0px 1px 3px 1px rgba(0, 0, 0, 0.15);\n",
              "      filter: drop-shadow(0px 1px 2px rgba(0, 0, 0, 0.3));\n",
              "      fill: #FFFFFF;\n",
              "    }\n",
              "  </style>\n",
              "\n",
              "      <script>\n",
              "        const buttonEl =\n",
              "          document.querySelector('#df-5a004ac0-e3df-407c-8ac3-a6327485ce1f button.colab-df-convert');\n",
              "        buttonEl.style.display =\n",
              "          google.colab.kernel.accessAllowed ? 'block' : 'none';\n",
              "\n",
              "        async function convertToInteractive(key) {\n",
              "          const element = document.querySelector('#df-5a004ac0-e3df-407c-8ac3-a6327485ce1f');\n",
              "          const dataTable =\n",
              "            await google.colab.kernel.invokeFunction('convertToInteractive',\n",
              "                                                     [key], {});\n",
              "          if (!dataTable) return;\n",
              "\n",
              "          const docLinkHtml = 'Like what you see? Visit the ' +\n",
              "            '<a target=\"_blank\" href=https://colab.research.google.com/notebooks/data_table.ipynb>data table notebook</a>'\n",
              "            + ' to learn more about interactive tables.';\n",
              "          element.innerHTML = '';\n",
              "          dataTable['output_type'] = 'display_data';\n",
              "          await google.colab.output.renderOutput(dataTable, element);\n",
              "          const docLink = document.createElement('div');\n",
              "          docLink.innerHTML = docLinkHtml;\n",
              "          element.appendChild(docLink);\n",
              "        }\n",
              "      </script>\n",
              "    </div>\n",
              "  </div>\n",
              "  "
            ]
          },
          "metadata": {},
          "execution_count": 218
        }
      ]
    },
    {
      "cell_type": "markdown",
      "id": "59353236",
      "metadata": {
        "papermill": {
          "duration": 0.055358,
          "end_time": "2022-06-04T18:29:41.548296",
          "exception": false,
          "start_time": "2022-06-04T18:29:41.492938",
          "status": "completed"
        },
        "tags": [],
        "id": "59353236"
      },
      "source": [
        "* We will consider ratings for movies which have more than 55 counts"
      ]
    },
    {
      "cell_type": "code",
      "execution_count": null,
      "id": "3188adb9",
      "metadata": {
        "execution": {
          "iopub.execute_input": "2022-06-04T18:29:41.665347Z",
          "iopub.status.busy": "2022-06-04T18:29:41.664615Z",
          "iopub.status.idle": "2022-06-04T18:29:41.712549Z",
          "shell.execute_reply": "2022-06-04T18:29:41.711228Z"
        },
        "papermill": {
          "duration": 0.109096,
          "end_time": "2022-06-04T18:29:41.715096",
          "exception": false,
          "start_time": "2022-06-04T18:29:41.606000",
          "status": "completed"
        },
        "tags": [],
        "colab": {
          "base_uri": "https://localhost:8080/",
          "height": 206
        },
        "id": "3188adb9",
        "outputId": "239ba3cb-88f1-467d-c0eb-cb5c50bb07f0"
      },
      "outputs": [
        {
          "output_type": "execute_result",
          "data": {
            "text/plain": [
              "   userId  movieId  rating   timestamp\n",
              "0       1     1371     2.5  1260759135\n",
              "1       1     2105     4.0  1260759139\n",
              "2       1     2294     2.0  1260759108\n",
              "3       2       17     5.0   835355681\n",
              "4       2       62     3.0   835355749"
            ],
            "text/html": [
              "\n",
              "  <div id=\"df-f29bd63d-ce69-4f51-b2a4-2dce9659c383\">\n",
              "    <div class=\"colab-df-container\">\n",
              "      <div>\n",
              "<style scoped>\n",
              "    .dataframe tbody tr th:only-of-type {\n",
              "        vertical-align: middle;\n",
              "    }\n",
              "\n",
              "    .dataframe tbody tr th {\n",
              "        vertical-align: top;\n",
              "    }\n",
              "\n",
              "    .dataframe thead th {\n",
              "        text-align: right;\n",
              "    }\n",
              "</style>\n",
              "<table border=\"1\" class=\"dataframe\">\n",
              "  <thead>\n",
              "    <tr style=\"text-align: right;\">\n",
              "      <th></th>\n",
              "      <th>userId</th>\n",
              "      <th>movieId</th>\n",
              "      <th>rating</th>\n",
              "      <th>timestamp</th>\n",
              "    </tr>\n",
              "  </thead>\n",
              "  <tbody>\n",
              "    <tr>\n",
              "      <th>0</th>\n",
              "      <td>1</td>\n",
              "      <td>1371</td>\n",
              "      <td>2.5</td>\n",
              "      <td>1260759135</td>\n",
              "    </tr>\n",
              "    <tr>\n",
              "      <th>1</th>\n",
              "      <td>1</td>\n",
              "      <td>2105</td>\n",
              "      <td>4.0</td>\n",
              "      <td>1260759139</td>\n",
              "    </tr>\n",
              "    <tr>\n",
              "      <th>2</th>\n",
              "      <td>1</td>\n",
              "      <td>2294</td>\n",
              "      <td>2.0</td>\n",
              "      <td>1260759108</td>\n",
              "    </tr>\n",
              "    <tr>\n",
              "      <th>3</th>\n",
              "      <td>2</td>\n",
              "      <td>17</td>\n",
              "      <td>5.0</td>\n",
              "      <td>835355681</td>\n",
              "    </tr>\n",
              "    <tr>\n",
              "      <th>4</th>\n",
              "      <td>2</td>\n",
              "      <td>62</td>\n",
              "      <td>3.0</td>\n",
              "      <td>835355749</td>\n",
              "    </tr>\n",
              "  </tbody>\n",
              "</table>\n",
              "</div>\n",
              "      <button class=\"colab-df-convert\" onclick=\"convertToInteractive('df-f29bd63d-ce69-4f51-b2a4-2dce9659c383')\"\n",
              "              title=\"Convert this dataframe to an interactive table.\"\n",
              "              style=\"display:none;\">\n",
              "        \n",
              "  <svg xmlns=\"http://www.w3.org/2000/svg\" height=\"24px\"viewBox=\"0 0 24 24\"\n",
              "       width=\"24px\">\n",
              "    <path d=\"M0 0h24v24H0V0z\" fill=\"none\"/>\n",
              "    <path d=\"M18.56 5.44l.94 2.06.94-2.06 2.06-.94-2.06-.94-.94-2.06-.94 2.06-2.06.94zm-11 1L8.5 8.5l.94-2.06 2.06-.94-2.06-.94L8.5 2.5l-.94 2.06-2.06.94zm10 10l.94 2.06.94-2.06 2.06-.94-2.06-.94-.94-2.06-.94 2.06-2.06.94z\"/><path d=\"M17.41 7.96l-1.37-1.37c-.4-.4-.92-.59-1.43-.59-.52 0-1.04.2-1.43.59L10.3 9.45l-7.72 7.72c-.78.78-.78 2.05 0 2.83L4 21.41c.39.39.9.59 1.41.59.51 0 1.02-.2 1.41-.59l7.78-7.78 2.81-2.81c.8-.78.8-2.07 0-2.86zM5.41 20L4 18.59l7.72-7.72 1.47 1.35L5.41 20z\"/>\n",
              "  </svg>\n",
              "      </button>\n",
              "      \n",
              "  <style>\n",
              "    .colab-df-container {\n",
              "      display:flex;\n",
              "      flex-wrap:wrap;\n",
              "      gap: 12px;\n",
              "    }\n",
              "\n",
              "    .colab-df-convert {\n",
              "      background-color: #E8F0FE;\n",
              "      border: none;\n",
              "      border-radius: 50%;\n",
              "      cursor: pointer;\n",
              "      display: none;\n",
              "      fill: #1967D2;\n",
              "      height: 32px;\n",
              "      padding: 0 0 0 0;\n",
              "      width: 32px;\n",
              "    }\n",
              "\n",
              "    .colab-df-convert:hover {\n",
              "      background-color: #E2EBFA;\n",
              "      box-shadow: 0px 1px 2px rgba(60, 64, 67, 0.3), 0px 1px 3px 1px rgba(60, 64, 67, 0.15);\n",
              "      fill: #174EA6;\n",
              "    }\n",
              "\n",
              "    [theme=dark] .colab-df-convert {\n",
              "      background-color: #3B4455;\n",
              "      fill: #D2E3FC;\n",
              "    }\n",
              "\n",
              "    [theme=dark] .colab-df-convert:hover {\n",
              "      background-color: #434B5C;\n",
              "      box-shadow: 0px 1px 3px 1px rgba(0, 0, 0, 0.15);\n",
              "      filter: drop-shadow(0px 1px 2px rgba(0, 0, 0, 0.3));\n",
              "      fill: #FFFFFF;\n",
              "    }\n",
              "  </style>\n",
              "\n",
              "      <script>\n",
              "        const buttonEl =\n",
              "          document.querySelector('#df-f29bd63d-ce69-4f51-b2a4-2dce9659c383 button.colab-df-convert');\n",
              "        buttonEl.style.display =\n",
              "          google.colab.kernel.accessAllowed ? 'block' : 'none';\n",
              "\n",
              "        async function convertToInteractive(key) {\n",
              "          const element = document.querySelector('#df-f29bd63d-ce69-4f51-b2a4-2dce9659c383');\n",
              "          const dataTable =\n",
              "            await google.colab.kernel.invokeFunction('convertToInteractive',\n",
              "                                                     [key], {});\n",
              "          if (!dataTable) return;\n",
              "\n",
              "          const docLinkHtml = 'Like what you see? Visit the ' +\n",
              "            '<a target=\"_blank\" href=https://colab.research.google.com/notebooks/data_table.ipynb>data table notebook</a>'\n",
              "            + ' to learn more about interactive tables.';\n",
              "          element.innerHTML = '';\n",
              "          dataTable['output_type'] = 'display_data';\n",
              "          await google.colab.output.renderOutput(dataTable, element);\n",
              "          const docLink = document.createElement('div');\n",
              "          docLink.innerHTML = docLinkHtml;\n",
              "          element.appendChild(docLink);\n",
              "        }\n",
              "      </script>\n",
              "    </div>\n",
              "  </div>\n",
              "  "
            ]
          },
          "metadata": {},
          "execution_count": 219
        }
      ],
      "source": [
        "# movie dataframe with votes more than 55\n",
        "movie_md = movie_md[movie_md['vote_count']>55][['id','title']]\n",
        "\n",
        "# IDs of movies with count more than 55\n",
        "movie_ids = [int(x) for x in movie_md['id'].values]\n",
        "\n",
        "# Select ratings of movies with more than 55 counts\n",
        "ratings = ratings[ratings['movieId'].isin(movie_ids)]\n",
        "\n",
        "# Reset Index\n",
        "ratings.reset_index(inplace=True, drop=True)\n",
        "\n",
        "# Print first 5 rows\n",
        "ratings.head()"
      ]
    },
    {
      "cell_type": "code",
      "execution_count": null,
      "id": "6fa4ac4d",
      "metadata": {
        "execution": {
          "iopub.execute_input": "2022-06-04T18:29:41.832497Z",
          "iopub.status.busy": "2022-06-04T18:29:41.831811Z",
          "iopub.status.idle": "2022-06-04T18:29:41.837516Z",
          "shell.execute_reply": "2022-06-04T18:29:41.836820Z"
        },
        "papermill": {
          "duration": 0.066801,
          "end_time": "2022-06-04T18:29:41.839894",
          "exception": false,
          "start_time": "2022-06-04T18:29:41.773093",
          "status": "completed"
        },
        "tags": [],
        "colab": {
          "base_uri": "https://localhost:8080/"
        },
        "id": "6fa4ac4d",
        "outputId": "672cf928-02a3-4189-e0d4-27351403c030"
      },
      "outputs": [
        {
          "output_type": "execute_result",
          "data": {
            "text/plain": [
              "(29965, 4)"
            ]
          },
          "metadata": {},
          "execution_count": 220
        }
      ],
      "source": [
        "ratings.shape"
      ]
    },
    {
      "cell_type": "code",
      "execution_count": null,
      "id": "f9c549c2",
      "metadata": {
        "execution": {
          "iopub.execute_input": "2022-06-04T18:29:41.951319Z",
          "iopub.status.busy": "2022-06-04T18:29:41.950383Z",
          "iopub.status.idle": "2022-06-04T18:29:42.029169Z",
          "shell.execute_reply": "2022-06-04T18:29:42.027746Z"
        },
        "papermill": {
          "duration": 0.136427,
          "end_time": "2022-06-04T18:29:42.031834",
          "exception": false,
          "start_time": "2022-06-04T18:29:41.895407",
          "status": "completed"
        },
        "tags": [],
        "id": "f9c549c2"
      },
      "outputs": [],
      "source": [
        "# Initialize a surprise reader object\n",
        "reader = Reader(line_format='user item rating', sep=',', rating_scale=(0,5), skip_lines=1)\n",
        "\n",
        "# Load the data\n",
        "data = Dataset.load_from_df(ratings[['userId','movieId','rating']], reader=reader)\n",
        "\n",
        "# Build trainset object(perform this only when you are using whole dataset to train)\n",
        "trainset = data.build_full_trainset()"
      ]
    },
    {
      "cell_type": "code",
      "source": [
        "data"
      ],
      "metadata": {
        "colab": {
          "base_uri": "https://localhost:8080/"
        },
        "id": "FZzZZyoRh7yO",
        "outputId": "43972d43-c0f2-489e-fd08-aef6edd3e47f"
      },
      "id": "FZzZZyoRh7yO",
      "execution_count": null,
      "outputs": [
        {
          "output_type": "execute_result",
          "data": {
            "text/plain": [
              "<surprise.dataset.DatasetAutoFolds at 0x7ff497f0bbe0>"
            ]
          },
          "metadata": {},
          "execution_count": 222
        }
      ]
    },
    {
      "cell_type": "code",
      "source": [
        "trainset"
      ],
      "metadata": {
        "colab": {
          "base_uri": "https://localhost:8080/"
        },
        "id": "qV2rvmG7iBPa",
        "outputId": "1cf53c46-b0b9-4bc9-c6ee-4fbc81ca822b"
      },
      "id": "qV2rvmG7iBPa",
      "execution_count": null,
      "outputs": [
        {
          "output_type": "execute_result",
          "data": {
            "text/plain": [
              "<surprise.trainset.Trainset at 0x7ff497f0b580>"
            ]
          },
          "metadata": {},
          "execution_count": 223
        }
      ]
    },
    {
      "cell_type": "code",
      "execution_count": null,
      "id": "b29f65e9",
      "metadata": {
        "execution": {
          "iopub.execute_input": "2022-06-04T18:29:42.146963Z",
          "iopub.status.busy": "2022-06-04T18:29:42.146221Z",
          "iopub.status.idle": "2022-06-04T18:29:45.493236Z",
          "shell.execute_reply": "2022-06-04T18:29:45.492124Z"
        },
        "papermill": {
          "duration": 3.406506,
          "end_time": "2022-06-04T18:29:45.496056",
          "exception": false,
          "start_time": "2022-06-04T18:29:42.089550",
          "status": "completed"
        },
        "tags": [],
        "colab": {
          "base_uri": "https://localhost:8080/"
        },
        "id": "b29f65e9",
        "outputId": "cf1f936c-91ff-45d0-88de-287d28909149"
      },
      "outputs": [
        {
          "output_type": "execute_result",
          "data": {
            "text/plain": [
              "<surprise.prediction_algorithms.matrix_factorization.SVD at 0x7ff4bd891c90>"
            ]
          },
          "metadata": {},
          "execution_count": 224
        }
      ],
      "source": [
        "# Initialize model\n",
        "svd = SVD()\n",
        "\n",
        "# cross-validate\n",
        "svd.fit(trainset)"
      ]
    },
    {
      "cell_type": "markdown",
      "id": "09f7e3b0",
      "metadata": {
        "papermill": {
          "duration": 0.058307,
          "end_time": "2022-06-04T18:29:45.611888",
          "exception": false,
          "start_time": "2022-06-04T18:29:45.553581",
          "status": "completed"
        },
        "tags": [],
        "id": "09f7e3b0"
      },
      "source": [
        "**We have fit the data successfully, now let's check some predictions**"
      ]
    },
    {
      "cell_type": "code",
      "execution_count": null,
      "id": "fd468e5b",
      "metadata": {
        "execution": {
          "iopub.execute_input": "2022-06-04T18:29:45.734731Z",
          "iopub.status.busy": "2022-06-04T18:29:45.734044Z",
          "iopub.status.idle": "2022-06-04T18:29:45.740430Z",
          "shell.execute_reply": "2022-06-04T18:29:45.739321Z"
        },
        "papermill": {
          "duration": 0.071129,
          "end_time": "2022-06-04T18:29:45.743402",
          "exception": false,
          "start_time": "2022-06-04T18:29:45.672273",
          "status": "completed"
        },
        "tags": [],
        "colab": {
          "base_uri": "https://localhost:8080/"
        },
        "id": "fd468e5b",
        "outputId": "ae837ca2-d96a-467b-f4c5-731e63a36d85"
      },
      "outputs": [
        {
          "output_type": "execute_result",
          "data": {
            "text/plain": [
              "Prediction(uid=3, iid=2959, r_ui=5.0, est=4.216121667626948, details={'was_impossible': False})"
            ]
          },
          "metadata": {},
          "execution_count": 225
        }
      ],
      "source": [
        "svd.predict(uid=3,iid=2959,r_ui=5.0)"
      ]
    },
    {
      "cell_type": "code",
      "execution_count": null,
      "id": "ef4d0f14",
      "metadata": {
        "execution": {
          "iopub.execute_input": "2022-06-04T18:29:45.867261Z",
          "iopub.status.busy": "2022-06-04T18:29:45.866567Z",
          "iopub.status.idle": "2022-06-04T18:29:45.872394Z",
          "shell.execute_reply": "2022-06-04T18:29:45.871715Z"
        },
        "papermill": {
          "duration": 0.070304,
          "end_time": "2022-06-04T18:29:45.874602",
          "exception": false,
          "start_time": "2022-06-04T18:29:45.804298",
          "status": "completed"
        },
        "tags": [],
        "colab": {
          "base_uri": "https://localhost:8080/"
        },
        "id": "ef4d0f14",
        "outputId": "1b6a937d-51d5-4819-bf66-34e423bdcf6d"
      },
      "outputs": [
        {
          "output_type": "execute_result",
          "data": {
            "text/plain": [
              "Prediction(uid=15, iid=2678, r_ui=1.0, est=2.8301711824586704, details={'was_impossible': False})"
            ]
          },
          "metadata": {},
          "execution_count": 226
        }
      ],
      "source": [
        "svd.predict(uid=15,iid=2678,r_ui=1.0)"
      ]
    },
    {
      "cell_type": "markdown",
      "id": "f058aab3",
      "metadata": {
        "papermill": {
          "duration": 0.059464,
          "end_time": "2022-06-04T18:29:45.994821",
          "exception": false,
          "start_time": "2022-06-04T18:29:45.935357",
          "status": "completed"
        },
        "tags": [],
        "id": "f058aab3"
      },
      "source": [
        "When are using `.predict()` method where we are passing 3 arguments,i.e. `userID(uid)`, `itemID(iid)` and `r_ui(true rating)`\n",
        "\n",
        " The output of each prediction is a tuple where `est` is our estimated ratings.\n",
        " \n",
        " We can see that our model is able to perform good and is able to make good predictions. However, this model can be further improved by using hyperparameter optimization techinique.\n",
        " \n",
        " Now that our models is ready we will be filling the user-item interaction matrix and will be making recommendations."
      ]
    },
    {
      "cell_type": "code",
      "execution_count": null,
      "id": "74c8a180",
      "metadata": {
        "execution": {
          "iopub.execute_input": "2022-06-04T18:29:46.113464Z",
          "iopub.status.busy": "2022-06-04T18:29:46.112807Z",
          "iopub.status.idle": "2022-06-04T18:29:46.122116Z",
          "shell.execute_reply": "2022-06-04T18:29:46.121025Z"
        },
        "papermill": {
          "duration": 0.072833,
          "end_time": "2022-06-04T18:29:46.124578",
          "exception": false,
          "start_time": "2022-06-04T18:29:46.051745",
          "status": "completed"
        },
        "tags": [],
        "id": "74c8a180"
      },
      "outputs": [],
      "source": [
        "def get_recommendations(data, movie_md, user_id, top_n, algo):\n",
        "    \n",
        "    # creating an empty list to store the recommended product ids\n",
        "    recommendations = []\n",
        "    \n",
        "    # creating an user item interactions matrix \n",
        "    user_movie_interactions_matrix = data.pivot(index='userId', columns='movieId', values='rating')\n",
        "    \n",
        "    # extracting those product ids which the user_id has not interacted yet\n",
        "    non_interacted_movies = user_movie_interactions_matrix.loc[user_id][user_movie_interactions_matrix.loc[user_id].isnull()].index.tolist()\n",
        "    \n",
        "    # looping through each of the product ids which user_id has not interacted yet\n",
        "    for item_id in non_interacted_movies:\n",
        "        \n",
        "        # predicting the ratings for those non interacted product ids by this user\n",
        "        est = algo.predict(user_id, item_id).est\n",
        "        \n",
        "        # appending the predicted ratings\n",
        "        movie_name = movie_md[movie_md['id']==str(item_id)]['title'].values[0]\n",
        "        recommendations.append((movie_name, est))\n",
        "\n",
        "    # sorting the predicted ratings in descending order\n",
        "    recommendations.sort(key=lambda x: x[1], reverse=True)\n",
        "\n",
        "    return recommendations[:top_n] # returing top n highest predicted rating products for this user"
      ]
    },
    {
      "cell_type": "code",
      "execution_count": null,
      "id": "2011f0c1",
      "metadata": {
        "execution": {
          "iopub.execute_input": "2022-06-04T18:29:46.242319Z",
          "iopub.status.busy": "2022-06-04T18:29:46.241873Z",
          "iopub.status.idle": "2022-06-04T18:29:48.623838Z",
          "shell.execute_reply": "2022-06-04T18:29:48.622850Z"
        },
        "papermill": {
          "duration": 2.444812,
          "end_time": "2022-06-04T18:29:48.626320",
          "exception": false,
          "start_time": "2022-06-04T18:29:46.181508",
          "status": "completed"
        },
        "tags": [],
        "colab": {
          "base_uri": "https://localhost:8080/"
        },
        "id": "2011f0c1",
        "outputId": "29215363-d4d0-41bc-8a5b-b0aef555cb36"
      },
      "outputs": [
        {
          "output_type": "execute_result",
          "data": {
            "text/plain": [
              "[('The Sixth Sense', 4.9662174966408505),\n",
              " ('Nell', 4.95561126067868),\n",
              " ('Galaxy Quest', 4.93651718612747),\n",
              " ('Dead Man', 4.8382409921593466),\n",
              " ('Hard Target', 4.8347157948267006),\n",
              " (\"We're No Angels\", 4.813398701756862),\n",
              " ('While You Were Sleeping', 4.8116974925306835),\n",
              " ('Terminator Salvation', 4.800847142389158),\n",
              " ('The Thomas Crown Affair', 4.7952075011132),\n",
              " ('Crank', 4.793300113924036)]"
            ]
          },
          "metadata": {},
          "execution_count": 228
        }
      ],
      "source": [
        "get_recommendations(data=ratings,movie_md=movie_md, user_id=654, top_n=10, algo=svd)"
      ]
    },
    {
      "cell_type": "markdown",
      "id": "3380ed8c",
      "metadata": {
        "papermill": {
          "duration": 0.053858,
          "end_time": "2022-06-04T18:29:48.735474",
          "exception": false,
          "start_time": "2022-06-04T18:29:48.681616",
          "status": "completed"
        },
        "tags": [],
        "id": "3380ed8c"
      },
      "source": [
        "<a id='memory_based'></a>\n",
        "## **Memory Based Recommender System**\n",
        "\n",
        "Memory-based methods use user rating historical data to compute the similarity between users or items. The idea behind these methods is to define a similarity measure between users or items, and find the most similar to recommend unseen items.\n",
        "Memory based recommender systems are of 2 types - \n",
        "\n",
        "1. User-Based\n",
        "\n",
        "2. Item-Bassed"
      ]
    },
    {
      "cell_type": "markdown",
      "id": "334ca999",
      "metadata": {
        "papermill": {
          "duration": 0.054463,
          "end_time": "2022-06-04T18:29:48.845286",
          "exception": false,
          "start_time": "2022-06-04T18:29:48.790823",
          "status": "completed"
        },
        "tags": [],
        "id": "334ca999"
      },
      "source": [
        "<a id='user_based'></a>\n",
        "### **User-Based**\n",
        "\n",
        "In user based recommendation method we will be computing similarities between users and will fetch the most similar users using an algorithm(KNN) and will recommend movies which one user likes to another user and vice versa\n",
        "\n",
        "<!-- ![1_x8gTiprhLs7zflmEn1UjAQ.png](attachment:49758429-7335-40e4-9621-a31f0e5c4613.png) -->"
      ]
    },
    {
      "cell_type": "markdown",
      "id": "228f675b",
      "metadata": {
        "papermill": {
          "duration": 0.054683,
          "end_time": "2022-06-04T18:29:48.954244",
          "exception": false,
          "start_time": "2022-06-04T18:29:48.899561",
          "status": "completed"
        },
        "tags": [],
        "id": "228f675b"
      },
      "source": [
        "#### **Import Libraries**"
      ]
    },
    {
      "cell_type": "code",
      "execution_count": null,
      "id": "96ace61d",
      "metadata": {
        "execution": {
          "iopub.execute_input": "2022-06-04T18:29:49.066494Z",
          "iopub.status.busy": "2022-06-04T18:29:49.065730Z",
          "iopub.status.idle": "2022-06-04T18:29:49.070379Z",
          "shell.execute_reply": "2022-06-04T18:29:49.069488Z"
        },
        "papermill": {
          "duration": 0.062234,
          "end_time": "2022-06-04T18:29:49.072448",
          "exception": false,
          "start_time": "2022-06-04T18:29:49.010214",
          "status": "completed"
        },
        "tags": [],
        "id": "96ace61d"
      },
      "outputs": [],
      "source": [
        "from surprise.prediction_algorithms.knns import KNNBasic"
      ]
    },
    {
      "cell_type": "code",
      "execution_count": null,
      "id": "82dcb267",
      "metadata": {
        "execution": {
          "iopub.execute_input": "2022-06-04T18:29:49.183998Z",
          "iopub.status.busy": "2022-06-04T18:29:49.183552Z",
          "iopub.status.idle": "2022-06-04T18:29:49.533141Z",
          "shell.execute_reply": "2022-06-04T18:29:49.532254Z"
        },
        "papermill": {
          "duration": 0.408029,
          "end_time": "2022-06-04T18:29:49.535592",
          "exception": false,
          "start_time": "2022-06-04T18:29:49.127563",
          "status": "completed"
        },
        "tags": [],
        "colab": {
          "base_uri": "https://localhost:8080/"
        },
        "id": "82dcb267",
        "outputId": "d56bd9f7-fbc0-4306-90ee-7d73dc9cba5e"
      },
      "outputs": [
        {
          "output_type": "execute_result",
          "data": {
            "text/plain": [
              "<surprise.prediction_algorithms.knns.KNNBasic at 0x7ff4c2266380>"
            ]
          },
          "metadata": {},
          "execution_count": 230
        }
      ],
      "source": [
        "#Declaring the similarity options.\n",
        "sim_options = {'name': 'cosine',\n",
        "               'user_based': True}\n",
        "\n",
        "# KNN algorithm is used to find similar items\n",
        "sim_user = KNNBasic(sim_options=sim_options, verbose=False, random_state=33)\n",
        "\n",
        "# Train the algorithm on the trainset, and predict ratings for the testset\n",
        "sim_user.fit(trainset)"
      ]
    },
    {
      "cell_type": "code",
      "execution_count": null,
      "id": "0ae90636",
      "metadata": {
        "execution": {
          "iopub.execute_input": "2022-06-04T18:29:49.652496Z",
          "iopub.status.busy": "2022-06-04T18:29:49.651884Z",
          "iopub.status.idle": "2022-06-04T18:29:49.659257Z",
          "shell.execute_reply": "2022-06-04T18:29:49.657907Z"
        },
        "papermill": {
          "duration": 0.066474,
          "end_time": "2022-06-04T18:29:49.661520",
          "exception": false,
          "start_time": "2022-06-04T18:29:49.595046",
          "status": "completed"
        },
        "tags": [],
        "colab": {
          "base_uri": "https://localhost:8080/"
        },
        "id": "0ae90636",
        "outputId": "9108bbb3-8af6-421b-9202-74df9a6e8473"
      },
      "outputs": [
        {
          "output_type": "execute_result",
          "data": {
            "text/plain": [
              "Prediction(uid=2, iid=17, r_ui=5.0, est=4.166335018545322, details={'actual_k': 40, 'was_impossible': False})"
            ]
          },
          "metadata": {},
          "execution_count": 231
        }
      ],
      "source": [
        "#predicting rating for a sample user with an interacted product.\n",
        "sim_user.predict(uid=2,iid=17,r_ui=5.0)"
      ]
    },
    {
      "cell_type": "code",
      "execution_count": null,
      "id": "2b290dea",
      "metadata": {
        "execution": {
          "iopub.execute_input": "2022-06-04T18:29:49.772690Z",
          "iopub.status.busy": "2022-06-04T18:29:49.772296Z",
          "iopub.status.idle": "2022-06-04T18:29:49.779777Z",
          "shell.execute_reply": "2022-06-04T18:29:49.778754Z"
        },
        "papermill": {
          "duration": 0.065522,
          "end_time": "2022-06-04T18:29:49.782091",
          "exception": false,
          "start_time": "2022-06-04T18:29:49.716569",
          "status": "completed"
        },
        "tags": [],
        "colab": {
          "base_uri": "https://localhost:8080/"
        },
        "id": "2b290dea",
        "outputId": "da2cf94c-20f1-4385-df07-b1445c17255c"
      },
      "outputs": [
        {
          "output_type": "execute_result",
          "data": {
            "text/plain": [
              "Prediction(uid=671, iid=4011, r_ui=4.0, est=4.262454431125302, details={'actual_k': 40, 'was_impossible': False})"
            ]
          },
          "metadata": {},
          "execution_count": 232
        }
      ],
      "source": [
        "#predicting rating for a sample user with an interacted product.\n",
        "sim_user.predict(uid=671,iid=4011,r_ui=4.0)"
      ]
    },
    {
      "cell_type": "code",
      "execution_count": null,
      "id": "3900e1b0",
      "metadata": {
        "execution": {
          "iopub.execute_input": "2022-06-04T18:29:49.896047Z",
          "iopub.status.busy": "2022-06-04T18:29:49.894881Z",
          "iopub.status.idle": "2022-06-04T18:29:52.679327Z",
          "shell.execute_reply": "2022-06-04T18:29:52.678391Z"
        },
        "papermill": {
          "duration": 2.844279,
          "end_time": "2022-06-04T18:29:52.681553",
          "exception": false,
          "start_time": "2022-06-04T18:29:49.837274",
          "status": "completed"
        },
        "tags": [],
        "colab": {
          "base_uri": "https://localhost:8080/"
        },
        "id": "3900e1b0",
        "outputId": "b5cdc3c5-fb06-4b7f-ef4f-a4c0d9bb2654"
      },
      "outputs": [
        {
          "output_type": "execute_result",
          "data": {
            "text/plain": [
              "[('The Wizard', 5),\n",
              " ('Rio Bravo', 5),\n",
              " ('The Celebration', 5),\n",
              " ('Spider-Man 3', 5),\n",
              " ('A Streetcar Named Desire', 5),\n",
              " ('Gentlemen Prefer Blondes', 5),\n",
              " ('The Evil Dead', 5),\n",
              " ('JFK', 5),\n",
              " ('Strangers on a Train', 5),\n",
              " (\"Singin' in the Rain\", 5)]"
            ]
          },
          "metadata": {},
          "execution_count": 233
        }
      ],
      "source": [
        "get_recommendations(ratings, movie_md, 671,10,sim_user)"
      ]
    },
    {
      "cell_type": "markdown",
      "id": "4d9b8227",
      "metadata": {
        "papermill": {
          "duration": 0.05618,
          "end_time": "2022-06-04T18:29:52.795713",
          "exception": false,
          "start_time": "2022-06-04T18:29:52.739533",
          "status": "completed"
        },
        "tags": [],
        "id": "4d9b8227"
      },
      "source": [
        "<a id='item_based'></a>\n",
        "### **Item-Based**\n",
        "\n",
        "In item based recommendation method we will be computing similarities between items(movies) and will fetch the most similar items(movies) using an algorithm(KNN) and will recommend items(movies) which one user likes to another user who likes similar kind of item(movie) and vice versa.\n",
        "\n",
        "\n",
        "<!-- ![1_BME1JjIlBEAI9BV5pOO5Mg.png](attachment:2b66cfef-9db1-4bc4-a09c-4b46206114bf.png) -->\n",
        "\n",
        "In modelling part there is gonna be just one simple difference, we would have to set the user_based as False in sim_options parameter while initializing model."
      ]
    },
    {
      "cell_type": "code",
      "execution_count": null,
      "id": "b52fc6ca",
      "metadata": {
        "execution": {
          "iopub.execute_input": "2022-06-04T18:29:52.912909Z",
          "iopub.status.busy": "2022-06-04T18:29:52.912506Z",
          "iopub.status.idle": "2022-06-04T18:29:53.907562Z",
          "shell.execute_reply": "2022-06-04T18:29:53.906417Z"
        },
        "papermill": {
          "duration": 1.056729,
          "end_time": "2022-06-04T18:29:53.910024",
          "exception": false,
          "start_time": "2022-06-04T18:29:52.853295",
          "status": "completed"
        },
        "tags": [],
        "colab": {
          "base_uri": "https://localhost:8080/"
        },
        "id": "b52fc6ca",
        "outputId": "c3d6c864-27f7-446a-bfa5-f173c70770b8"
      },
      "outputs": [
        {
          "output_type": "execute_result",
          "data": {
            "text/plain": [
              "<surprise.prediction_algorithms.knns.KNNBasic at 0x7ff4bd8ae5c0>"
            ]
          },
          "metadata": {},
          "execution_count": 234
        }
      ],
      "source": [
        "#Declaring the similarity options.\n",
        "sim_options = {'name': 'cosine',\n",
        "               'user_based': False}\n",
        "\n",
        "# KNN algorithm is used to find similar items\n",
        "sim_item = KNNBasic(sim_options=sim_options, verbose=False, random_state=33)\n",
        "\n",
        "# Train the algorithm on the trainset, and predict ratings for the testset\n",
        "sim_item.fit(trainset)"
      ]
    },
    {
      "cell_type": "code",
      "execution_count": null,
      "id": "c7f537d3",
      "metadata": {
        "execution": {
          "iopub.execute_input": "2022-06-04T18:29:54.026017Z",
          "iopub.status.busy": "2022-06-04T18:29:54.025572Z",
          "iopub.status.idle": "2022-06-04T18:29:54.032914Z",
          "shell.execute_reply": "2022-06-04T18:29:54.031943Z"
        },
        "papermill": {
          "duration": 0.070877,
          "end_time": "2022-06-04T18:29:54.035285",
          "exception": false,
          "start_time": "2022-06-04T18:29:53.964408",
          "status": "completed"
        },
        "tags": [],
        "colab": {
          "base_uri": "https://localhost:8080/"
        },
        "id": "c7f537d3",
        "outputId": "670b328b-4abf-4c30-d00b-96756124c2ad"
      },
      "outputs": [
        {
          "output_type": "execute_result",
          "data": {
            "text/plain": [
              "Prediction(uid=2, iid=17, r_ui=5.0, est=3.650476877827318, details={'actual_k': 40, 'was_impossible': False})"
            ]
          },
          "metadata": {},
          "execution_count": 235
        }
      ],
      "source": [
        "#predicting rating for a sample user with an interacted product.\n",
        "sim_item.predict(uid=2,iid=17,r_ui=5.0)"
      ]
    },
    {
      "cell_type": "code",
      "execution_count": null,
      "id": "ebc5d0e6",
      "metadata": {
        "execution": {
          "iopub.execute_input": "2022-06-04T18:29:54.148274Z",
          "iopub.status.busy": "2022-06-04T18:29:54.147399Z",
          "iopub.status.idle": "2022-06-04T18:29:54.154744Z",
          "shell.execute_reply": "2022-06-04T18:29:54.153895Z"
        },
        "papermill": {
          "duration": 0.066015,
          "end_time": "2022-06-04T18:29:54.157235",
          "exception": false,
          "start_time": "2022-06-04T18:29:54.091220",
          "status": "completed"
        },
        "tags": [],
        "colab": {
          "base_uri": "https://localhost:8080/"
        },
        "id": "ebc5d0e6",
        "outputId": "df6edfa2-ebea-46e6-be8f-e4b2bf747f90"
      },
      "outputs": [
        {
          "output_type": "execute_result",
          "data": {
            "text/plain": [
              "Prediction(uid=671, iid=4011, r_ui=4.0, est=4.164142698155605, details={'actual_k': 31, 'was_impossible': False})"
            ]
          },
          "metadata": {},
          "execution_count": 236
        }
      ],
      "source": [
        "#predicting rating for a sample user with an interacted product.\n",
        "sim_item.predict(uid=671,iid=4011,r_ui=4.0)"
      ]
    },
    {
      "cell_type": "code",
      "execution_count": null,
      "id": "8a88c38d",
      "metadata": {
        "execution": {
          "iopub.execute_input": "2022-06-04T18:29:54.271988Z",
          "iopub.status.busy": "2022-06-04T18:29:54.271421Z",
          "iopub.status.idle": "2022-06-04T18:29:57.024307Z",
          "shell.execute_reply": "2022-06-04T18:29:57.023154Z"
        },
        "papermill": {
          "duration": 2.81387,
          "end_time": "2022-06-04T18:29:57.027240",
          "exception": false,
          "start_time": "2022-06-04T18:29:54.213370",
          "status": "completed"
        },
        "tags": [],
        "colab": {
          "base_uri": "https://localhost:8080/"
        },
        "id": "8a88c38d",
        "outputId": "04d871f1-b839-4e3c-ed84-4f6debc04b62"
      },
      "outputs": [
        {
          "output_type": "execute_result",
          "data": {
            "text/plain": [
              "[('Hard Candy', 5),\n",
              " ('Visitor Q', 5),\n",
              " ('The Protector', 4.666666666666667),\n",
              " ('Shaun of the Dead', 4.571428571428571),\n",
              " ('The Silence of the Lambs', 4.503228000162119),\n",
              " (\"Singin' in the Rain\", 4.5),\n",
              " (\"Hearts of Darkness: A Filmmaker's Apocalypse\", 4.5),\n",
              " ('Sense and Sensibility', 4.5),\n",
              " (\"The Hitchhiker's Guide to the Galaxy\", 4.5),\n",
              " ('Fantasia', 4.428571428571429)]"
            ]
          },
          "metadata": {},
          "execution_count": 237
        }
      ],
      "source": [
        "get_recommendations(ratings, movie_md, 671,10,sim_item)"
      ]
    }
  ],
  "metadata": {
    "kernelspec": {
      "display_name": "Python 3",
      "language": "python",
      "name": "python3"
    },
    "language_info": {
      "codemirror_mode": {
        "name": "ipython",
        "version": 3
      },
      "file_extension": ".py",
      "mimetype": "text/x-python",
      "name": "python",
      "nbconvert_exporter": "python",
      "pygments_lexer": "ipython3",
      "version": "3.7.12"
    },
    "papermill": {
      "default_parameters": {},
      "duration": 236.214212,
      "end_time": "2022-06-04T18:29:58.216075",
      "environment_variables": {},
      "exception": null,
      "input_path": "__notebook__.ipynb",
      "output_path": "__notebook__.ipynb",
      "parameters": {},
      "start_time": "2022-06-04T18:26:02.001863",
      "version": "2.3.4"
    },
    "colab": {
      "provenance": []
    }
  },
  "nbformat": 4,
  "nbformat_minor": 5
}